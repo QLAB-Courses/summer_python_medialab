{
 "cells": [
  {
   "cell_type": "code",
   "execution_count": 65,
   "metadata": {},
   "outputs": [
    {
     "data": {
      "text/html": [
       "\n",
       "<style>\n",
       "    div#notebook-container    { width: 95%; }\n",
       "    div#menubar-container     { width: 65%; }\n",
       "    div#maintoolbar-container { width: 99%; }a\n",
       "</style>\n"
      ],
      "text/plain": [
       "<IPython.core.display.HTML object>"
      ]
     },
     "metadata": {},
     "output_type": "display_data"
    }
   ],
   "source": [
    "from IPython.display import display, HTML\n",
    "\n",
    "display(HTML(data=\"\"\"\n",
    "<style>\n",
    "    div#notebook-container    { width: 95%; }\n",
    "    div#menubar-container     { width: 65%; }\n",
    "    div#maintoolbar-container { width: 99%; }a\n",
    "</style>\n",
    "\"\"\"))"
   ]
  },
  {
   "cell_type": "markdown",
   "metadata": {},
   "source": [
    "# 7. Web Scraping"
   ]
  },
  {
   "cell_type": "markdown",
   "metadata": {},
   "source": [
    "Web  scraping  is  the  practice  of  gathering  data  through  any  means  otherthan a program interacting with an API (or, obviously, through a human using a webbrowser).  This  is  most  commonly  accomplished  by  writing  an  automated  programthat queries a web server, requests data (usually in the form of the HTML and otherfiles  that  comprise  web  pages),  and  then  parses  that  data  to  extract  needed  information."
   ]
  },
  {
   "cell_type": "markdown",
   "metadata": {},
   "source": [
    "# 7.1 Selenium\n",
    "Selenium automates browsers. That's it! <br>\n",
    "Selenium is a Python library and tool used for automating web browsers to do a number of tasks. One of such is web-scraping to extract useful data and information that may be otherwise unavailable. <br>\n",
    "**For this course, we use Chrome.**"
   ]
  },
  {
   "cell_type": "markdown",
   "metadata": {},
   "source": [
    "## 7.1 Installing Libraries\n",
    "We need to install these two libraries"
   ]
  },
  {
   "cell_type": "code",
   "execution_count": 66,
   "metadata": {},
   "outputs": [],
   "source": [
    "# !pip install -r requirements.txt"
   ]
  },
  {
   "cell_type": "markdown",
   "metadata": {},
   "source": [
    "## 7.2 Calling Libraries"
   ]
  },
  {
   "cell_type": "code",
   "execution_count": 67,
   "metadata": {},
   "outputs": [],
   "source": [
    "# this library is to manipulate browser\n",
    "from selenium import webdriver\n",
    "\n",
    "# it allows you to work with differen versions of drivers\n",
    "# We call ChromeDriver\n",
    "# from webdriver_manager.chrome import ChromeDriverManager\n",
    "import re\n",
    "import time \n",
    "from selenium.webdriver.common.by import By"
   ]
  },
  {
   "cell_type": "markdown",
   "metadata": {},
   "source": [
    "## 7.3 Launch/Set the Driver\n",
    "This code opens a Chrome Driver. We are going to use it to go navigate on the web."
   ]
  },
  {
   "cell_type": "code",
   "execution_count": 68,
   "metadata": {},
   "outputs": [],
   "source": [
    "# driver = webdriver.Chrome()\n",
    "driver = webdriver.Firefox()\n",
    "url = \"https://resultadoshistorico.onpe.gob.pe/EG2021/\"\n",
    "driver.get(url)"
   ]
  },
  {
   "cell_type": "code",
   "execution_count": 69,
   "metadata": {},
   "outputs": [],
   "source": [
    "driver.maximize_window()"
   ]
  },
  {
   "cell_type": "markdown",
   "metadata": {},
   "source": [
    "## Chrome is being controlled by automated test software"
   ]
  },
  {
   "cell_type": "markdown",
   "metadata": {},
   "source": [
    "![Chrome is controlled by automated software](Images/chrome_automated.png)"
   ]
  },
  {
   "cell_type": "markdown",
   "metadata": {},
   "source": [
    "## Browser is under remote control (reason: Marionette)\n",
    "\n",
    "![Browser is under remote control (reason: Marionette)](Images/firefox_automated.png)"
   ]
  },
  {
   "cell_type": "code",
   "execution_count": 70,
   "metadata": {},
   "outputs": [
    {
     "name": "stdout",
     "output_type": "stream",
     "text": [
      "Title:  Presentación de Resultados Elecciones Generales y Parlamento Andino 2021\n"
     ]
    }
   ],
   "source": [
    "# Access to the title\n",
    "print('Title: ', driver.title)"
   ]
  },
  {
   "cell_type": "code",
   "execution_count": 71,
   "metadata": {},
   "outputs": [
    {
     "name": "stdout",
     "output_type": "stream",
     "text": [
      "Current Page URL:  https://resultadoshistorico.onpe.gob.pe/EG2021/\n"
     ]
    }
   ],
   "source": [
    "# Access to the curent url \n",
    "print('Current Page URL: ', driver.current_url)"
   ]
  },
  {
   "cell_type": "code",
   "execution_count": 72,
   "metadata": {},
   "outputs": [
    {
     "data": {
      "text/plain": [
       "True"
      ]
     },
     "execution_count": 72,
     "metadata": {},
     "output_type": "execute_result"
    }
   ],
   "source": [
    "# Make screenshot of the webpage\n",
    "driver.save_screenshot('Images/resultados_presidenciales.png')"
   ]
  },
  {
   "cell_type": "code",
   "execution_count": 73,
   "metadata": {},
   "outputs": [
    {
     "data": {
      "text/plain": [
       "<re.Match object; span=(18, 27), match='historico'>"
      ]
     },
     "execution_count": 73,
     "metadata": {},
     "output_type": "execute_result"
    }
   ],
   "source": [
    "re.search(r'historico', driver.current_url)"
   ]
  },
  {
   "cell_type": "code",
   "execution_count": 74,
   "metadata": {},
   "outputs": [
    {
     "name": "stdout",
     "output_type": "stream",
     "text": [
      "Resultados Presidenciales saved!\n"
     ]
    }
   ],
   "source": [
    "if re.search(r'resultadoshistorico', driver.current_url):\n",
    "    driver.save_screenshot('Images/resultados_presidenciales.png') #save screenshot with provided name\n",
    "    print('Resultados Presidenciales saved!')"
   ]
  },
  {
   "cell_type": "code",
   "execution_count": 75,
   "metadata": {},
   "outputs": [
    {
     "name": "stdout",
     "output_type": "stream",
     "text": [
      "Cookies obtained from resultados_presidenciales\n",
      "[]\n"
     ]
    }
   ],
   "source": [
    "#get cookie information\n",
    "cookies = driver.get_cookies()\n",
    "print('Cookies obtained from resultados_presidenciales')\n",
    "print(cookies)"
   ]
  },
  {
   "cell_type": "code",
   "execution_count": 76,
   "metadata": {},
   "outputs": [
    {
     "name": "stdout",
     "output_type": "stream",
     "text": [
      "<class 'str'>\n"
     ]
    },
    {
     "data": {
      "text/plain": [
       "'<html lang=\"en\" class=\"hydrated\"><head><style>\\n    :root {\\n      /* Typography */\\n      --amplify-font-family: \\'Amazon Ember\\', \\'Helvetica Neue\\', \\'Helvetica\\', \\'Arial\\', sans-serif;\\n\\n      --amplify-text-xxs: 0.75rem;\\n      --amplify-text-xs: 0.81rem;\\n      --amplify-text-sm: 0.875rem;\\n      --amplify-text-md: 1rem;\\n      --amplify-text-md-sub: 1.15rem;\\n      --amplify-text-lg: 1.5rem;\\n      --amplify-text-xl: 2rem;\\n      --amplify-text-xxl: 2.5rem;\\n\\n      /* Colors */\\n      --amplify-primary-color: #ff9900;\\n      --amplify-primary-contrast: var(--amplify-white);\\n      --amplify-primary-tint: #ffac31;\\n      --amplify-primary-shade: #e88b01;\\n\\n      --amplify-secondary-color: #152939;\\n      --amplify-secondary-contrast: var(--amplify-white);\\n      --amplify-secondary-tint: #31465f;\\n      --amplify-secondary-shade: #1F2A37;\\n\\n      --amplify-tertiary-color: #5d8aff;\\n      --amplify-tertiary-contrast: var(--amplify-white);\\n      --amplify-tertiary-tint: #7da1ff;\\n      --amplify-tertiary-shade: #537BE5;\\n\\n      --amplify-background-color: var(--amplify-white);\\n\\n      /* Neutral */\\n      --amplify-grey: #828282;\\n      --amplify-light-grey: #c4c4c4;\\n      --amplify-white: #ffffff;\\n      --amplify-smoke-white: #f5f5f5;\\n      --amplify-red: #dd3f5b;\\n      --amplify-blue: #099ac8;\\n    }\\n  </style>\\n  <meta charset=\"utf-8\"><style data-styles=\"\">amplify-icon,amplify-authenticator,amplify-federated-sign-in,amplify-select-mfa-type,amplify-s3-image-picker,amplify-chatbot,amplify-greetings,amplify-s3-album,amplify-s3-text-picker,amplify-tooltip,amplify-icon-button,amplify-checkbox,amplify-container,amplify-link,amplify-photo-picker,amplify-s3-image,amplify-s3-text,amplify-loading-spinner,amplify-section,amplify-button,amplify-sign-out,amplify-nav,amplify-toast,amplify-picker,amplify-form-field,amplify-hint,amplify-input,amplify-label,amplify-totp-setup,amplify-radio-button,amplify-sign-in-button,amplify-amazon-button,amplify-auth0-button,amplify-facebook-button,amplify-google-button,amplify-oauth-button,amplify-strike,amplify-federated-buttons,amplify-auth-fields,amplify-phone-field,amplify-code-field,amplify-email-field,amplify-password-field,amplify-username-field,amplify-country-dial-code,amplify-select,amplify-form-section,amplify-sign-in,amplify-confirm-sign-in,amplify-confirm-sign-up,amplify-forgot-password,amplify-require-new-password,amplify-sign-up,amplify-verify-contact{visibility:hidden}.hydrated{visibility:inherit}</style>\\n  <meta name=\"google\" content=\"notranslate\">\\n  <title>Presentación de Resultados Elecciones Generales y Parlamento Andino 2021</title>\\n  <base href=\"/EG2021/\">\\n  <script type=\"text/javascript\" src=\"https://bam.nr-data.net/1/df67590f5e?a=507167406&amp;sa=1&amp;v=1158.afc605b&amp;t=Unnamed%20Transaction&amp;rst=885&amp;ref=https://resultadoshistorico.onpe.gob.pe/EG2021/&amp;be=724&amp;fe=856&amp;dc=856&amp;af=err,xhr,stn,ins,spa&amp;perf=%7B%22timing%22:%7B%22of%22:1738101005028,%22n%22:0,%22f%22:0,%22dn%22:4,%22dne%22:12,%22c%22:12,%22s%22:45,%22ce%22:87,%22rq%22:87,%22rp%22:280,%22rpe%22:280,%22dl%22:287,%22di%22:291,%22ds%22:502,%22de%22:506,%22dc%22:507,%22l%22:507,%22le%22:508%7D,%22navigation%22:%7B%7D%7D&amp;jsonp=NREUM.setToken\"></script><script src=\"https://js-agent.newrelic.com/nr-spa-1158.min.js\"></script><script src=\"./assets/lib/amcharts/amcharts.js\" type=\"text/javascript\"></script>\\n  <script src=\"./assets/lib/amcharts/serial.js\" type=\"text/javascript\"></script>\\n  <script src=\"./assets/lib/amcharts/pie.js\" type=\"text/javascript\"></script>\\n  <script src=\"./assets/lib/ammap/ammap.js\" type=\"text/javascript\"></script>\\n  <script src=\"./assets/js/scripts.js\" type=\"text/javascript\"></script>\\n  <!-- Global  -->\\n  <script async=\"\" src=\"https://www.googletagmanager.com/gtag/js?id=UA-184811717-4\" type=\"text/javascript\"></script>\\n  <script type=\"text/javascript\">\\n    window.dataLayer = window.dataLayer || [];\\n    function gtag(){dataLayer.push(arguments);}\\n    gtag(\\'js\\', new Date());\\n    gtag(\\'config\\',\\'UA-184811717-4\\');\\n  </script>\\n\\n  <meta name=\"viewport\" content=\"width=device-width, initial-scale=1\">\\n  <meta name=\"google\" content=\"notranslate\">\\n  <link rel=\"icon\" type=\"image/x-icon\" href=\"favicon.ico\">  \\n  <style>\\n    @media (max-width: 1366px) {\\n      svg g g.amcharts-category-axis text.amcharts-axis-label tspan {\\n        font-weight: bold; \\n        font-size: 8px;   \\n      }\\n    }\\n    </style>\\n<link rel=\"stylesheet\" href=\"styles.bd7c35172284dda8da0f.css\"><script charset=\"utf-8\" src=\"common-es2015.f2fb729fa304a53b955b.js\"></script><script charset=\"utf-8\" src=\"6-es2015.f76683b054d851f58f21.js\"></script></head>\\n<body> \\n  <onpe-root ng-version=\"11.0.9\"><router-outlet></router-outlet><!----></onpe-root>\\n<script src=\"runtime-es2015.ab9953ec2e465abae7bb.js\" type=\"module\"></script><script src=\"runtime-es5.ab9953ec2e465abae7bb.js\" nomodule=\"\" defer=\"\" type=\"text/javascript\"></script><script src=\"polyfills-es5.57927b3b209714c5472b.js\" nomodule=\"\" defer=\"\" type=\"text/javascript\"></script><script src=\"polyfills-es2015.52509035a41bfa93766e.js\" type=\"module\"></script><script src=\"scripts.70faf5a86a90ac363714.js\" defer=\"\" type=\"text/javascript\"></script><script src=\"main-es2015.a63fb5fd5e0b78be7c8f.js\" type=\"module\"></script><script src=\"main-es5.a63fb5fd5e0b78be7c8f.js\" nomodule=\"\" defer=\"\" type=\"text/javascript\"></script>\\n<script type=\"text/javascript\">\\n    window.NREUM||(NREUM={}),__nr_require=function(t,e,n){function r(n){if(!e[n]){var o=e[n]={exports:{}};t[n][0].call(o.exports,function(e){var o=t[n][1][e];return r(o||e)},o,o.exports)}return e[n].exports}if(\"function\"==typeof __nr_require)return __nr_require;for(var o=0;o<n.length;o++)r(n[o]);return r}({1:[function(t,e,n){function r(t){try{s.console&&console.log(t)}catch(e){}}var o,i=t(\"ee\"),a=t(24),s={};try{o=localStorage.getItem(\"__nr_flags\").split(\",\"),console&&\"function\"==typeof console.log&&(s.console=!0,o.indexOf(\"dev\")!==-1&&(s.dev=!0),o.indexOf(\"nr_dev\")!==-1&&(s.nrDev=!0))}catch(c){}s.nrDev&&i.on(\"internal-error\",function(t){r(t.stack)}),s.dev&&i.on(\"fn-err\",function(t,e,n){r(n.stack)}),s.dev&&(r(\"NR AGENT IN DEVELOPMENT MODE\"),r(\"flags: \"+a(s,function(t,e){return t}).join(\", \")))},{}],2:[function(t,e,n){function r(t,e,n,r,s){try{l?l-=1:o(s||new UncaughtException(t,e,n),!0)}catch(f){try{i(\"ierr\",[f,c.now(),!0])}catch(d){}}return\"function\"==typeof u&&u.apply(this,a(arguments))}function UncaughtException(t,e,n){this.message=t||\"Uncaught error with no additional information\",this.sourceURL=e,this.line=n}function o(t,e){var n=e?null:c.now();i(\"err\",[t,n])}var i=t(\"handle\"),a=t(25),s=t(\"ee\"),c=t(\"loader\"),f=t(\"gos\"),u=window.onerror,d=!1,p=\"nr@seenError\",l=0;c.features.err=!0,t(1),window.onerror=r;try{throw new Error}catch(h){\"stack\"in h&&(t(13),t(12),\"addEventListener\"in window&&t(6),c.xhrWrappable&&t(14),d=!0)}s.on(\"fn-start\",function(t,e,n){d&&(l+=1)}),s.on(\"fn-err\",function(t,e,n){d&&!n[p]&&(f(n,p,function(){return!0}),this.thrown=!0,o(n))}),s.on(\"fn-end\",function(){d&&!this.thrown&&l>0&&(l-=1)}),s.on(\"internal-error\",function(t){i(\"ierr\",[t,c.now(),!0])})},{}],3:[function(t,e,n){t(\"loader\").features.ins=!0},{}],4:[function(t,e,n){function r(){L++,C=g.hash,this[u]=y.now()}function o(){L--,g.hash!==C&&i(0,!0);var t=y.now();this[h]=~~this[h]+t-this[u],this[d]=t}function i(t,e){E.emit(\"newURL\",[\"\"+g,e])}function a(t,e){t.on(e,function(){this[e]=y.now()})}var s=\"-start\",c=\"-end\",f=\"-body\",u=\"fn\"+s,d=\"fn\"+c,p=\"cb\"+s,l=\"cb\"+c,h=\"jsTime\",m=\"fetch\",v=\"addEventListener\",w=window,g=w.location,y=t(\"loader\");if(w[v]&&y.xhrWrappable){var x=t(10),b=t(11),E=t(8),O=t(6),R=t(13),P=t(7),N=t(14),T=t(9),M=t(\"ee\"),S=M.get(\"tracer\");t(16),y.features.spa=!0;var C,L=0;M.on(u,r),M.on(p,r),M.on(d,o),M.on(l,o),M.buffer([u,d,\"xhr-done\",\"xhr-resolved\"]),O.buffer([u]),R.buffer([\"setTimeout\"+c,\"clearTimeout\"+s,u]),N.buffer([u,\"new-xhr\",\"send-xhr\"+s]),P.buffer([m+s,m+\"-done\",m+f+s,m+f+c]),E.buffer([\"newURL\"]),x.buffer([u]),b.buffer([\"propagate\",p,l,\"executor-err\",\"resolve\"+s]),S.buffer([u,\"no-\"+u]),T.buffer([\"new-jsonp\",\"cb-start\",\"jsonp-error\",\"jsonp-end\"]),a(N,\"send-xhr\"+s),a(M,\"xhr-resolved\"),a(M,\"xhr-done\"),a(P,m+s),a(P,m+\"-done\"),a(T,\"new-jsonp\"),a(T,\"jsonp-end\"),a(T,\"cb-start\"),E.on(\"pushState-end\",i),E.on(\"replaceState-end\",i),w[v](\"hashchange\",i,!0),w[v](\"load\",i,!0),w[v](\"popstate\",function(){i(0,L>1)},!0)}},{}],5:[function(t,e,n){function r(t){}if(window.performance&&window.performance.timing&&window.performance.getEntriesByType){var o=t(\"ee\"),i=t(\"handle\"),a=t(13),s=t(12),c=\"learResourceTimings\",f=\"addEventListener\",u=\"resourcetimingbufferfull\",d=\"bstResource\",p=\"resource\",l=\"-start\",h=\"-end\",m=\"fn\"+l,v=\"fn\"+h,w=\"bstTimer\",g=\"pushState\",y=t(\"loader\");y.features.stn=!0,t(8),\"addEventListener\"in window&&t(6);var x=NREUM.o.EV;o.on(m,function(t,e){var n=t[0];n instanceof x&&(this.bstStart=y.now())}),o.on(v,function(t,e){var n=t[0];n instanceof x&&i(\"bst\",[n,e,this.bstStart,y.now()])}),a.on(m,function(t,e,n){this.bstStart=y.now(),this.bstType=n}),a.on(v,function(t,e){i(w,[e,this.bstStart,y.now(),this.bstType])}),s.on(m,function(){this.bstStart=y.now()}),s.on(v,function(t,e){i(w,[e,this.bstStart,y.now(),\"requestAnimationFrame\"])}),o.on(g+l,function(t){this.time=y.now(),this.startPath=location.pathname+location.hash}),o.on(g+h,function(t){i(\"bstHist\",[location.pathname+location.hash,this.startPath,this.time])}),f in window.performance&&(window.performance[\"c\"+c]?window.performance[f](u,function(t){i(d,[window.performance.getEntriesByType(p)]),window.performance[\"c\"+c]()},!1):window.performance[f](\"webkit\"+u,function(t){i(d,[window.performance.getEntriesByType(p)]),window.performance[\"webkitC\"+c]()},!1)),document[f](\"scroll\",r,{passive:!0}),document[f](\"keypress\",r,!1),document[f](\"click\",r,!1)}},{}],6:[function(t,e,n){function r(t){for(var e=t;e&&!e.hasOwnProperty(u);)e=Object.getPrototypeOf(e);e&&o(e)}function o(t){s.inPlace(t,[u,d],\"-\",i)}function i(t,e){return t[1]}var a=t(\"ee\").get(\"events\"),s=t(\"wrap-function\")(a,!0),c=t(\"gos\"),f=XMLHttpRequest,u=\"addEventListener\",d=\"removeEventListener\";e.exports=a,\"getPrototypeOf\"in Object?(r(document),r(window),r(f.prototype)):f.prototype.hasOwnProperty(u)&&(o(window),o(f.prototype)),a.on(u+\"-start\",function(t,e){var n=t[1],r=c(n,\"nr@wrapped\",function(){function t(){if(\"function\"==typeof n.handleEvent)return n.handleEvent.apply(n,arguments)}var e={object:t,\"function\":n}[typeof n];return e?s(e,\"fn-\",null,e.name||\"anonymous\"):n});this.wrapped=t[1]=r}),a.on(d+\"-start\",function(t){t[1]=this.wrapped||t[1]})},{}],7:[function(t,e,n){function r(t,e,n){var r=t[e];\"function\"==typeof r&&(t[e]=function(){var t=i(arguments),e={};o.emit(n+\"before-start\",[t],e);var a;e[m]&&e[m].dt&&(a=e[m].dt);var s=r.apply(this,t);return o.emit(n+\"start\",[t,a],s),s.then(function(t){return o.emit(n+\"end\",[null,t],s),t},function(t){throw o.emit(n+\"end\",[t],s),t})})}var o=t(\"ee\").get(\"fetch\"),i=t(25),a=t(24);e.exports=o;var s=window,c=\"fetch-\",f=c+\"body-\",u=[\"arrayBuffer\",\"blob\",\"json\",\"text\",\"formData\"],d=s.Request,p=s.Response,l=s.fetch,h=\"prototype\",m=\"nr@context\";d&&p&&l&&(a(u,function(t,e){r(d[h],e,f),r(p[h],e,f)}),r(s,\"fetch\",c),o.on(c+\"end\",function(t,e){var n=this;if(e){var r=e.headers.get(\"content-length\");null!==r&&(n.rxSize=r),o.emit(c+\"done\",[null,e],n)}else o.emit(c+\"done\",[t],n)}))},{}],8:[function(t,e,n){var r=t(\"ee\").get(\"history\"),o=t(\"wrap-function\")(r);e.exports=r;var i=window.history&&window.history.constructor&&window.history.constructor.prototype,a=window.history;i&&i.pushState&&i.replaceState&&(a=i),o.inPlace(a,[\"pushState\",\"replaceState\"],\"-\")},{}],9:[function(t,e,n){function r(t){function e(){c.emit(\"jsonp-end\",[],p),t.removeEventListener(\"load\",e,!1),t.removeEventListener(\"error\",n,!1)}function n(){c.emit(\"jsonp-error\",[],p),c.emit(\"jsonp-end\",[],p),t.removeEventListener(\"load\",e,!1),t.removeEventListener(\"error\",n,!1)}var r=t&&\"string\"==typeof t.nodeName&&\"script\"===t.nodeName.toLowerCase();if(r){var o=\"function\"==typeof t.addEventListener;if(o){var a=i(t.src);if(a){var u=s(a),d=\"function\"==typeof u.parent[u.key];if(d){var p={};f.inPlace(u.parent,[u.key],\"cb-\",p),t.addEventListener(\"load\",e,!1),t.addEventListener(\"error\",n,!1),c.emit(\"new-jsonp\",[t.src],p)}}}}}function o(){return\"addEventListener\"in window}function i(t){var e=t.match(u);return e?e[1]:null}function a(t,e){var n=t.match(p),r=n[1],o=n[3];return o?a(o,e[r]):e[r]}function s(t){var e=t.match(d);return e&&e.length>=3?{key:e[2],parent:a(e[1],window)}:{key:t,parent:window}}var c=t(\"ee\").get(\"jsonp\"),f=t(\"wrap-function\")(c);if(e.exports=c,o()){var u=/[?&](?:callback|cb)=([^&#]+)/,d=/(.*)\\\\.([^.]+)/,p=/^(\\\\w+)(\\\\.|$)(.*)$/,l=[\"appendChild\",\"insertBefore\",\"replaceChild\"];Node&&Node.prototype&&Node.prototype.appendChild?f.inPlace(Node.prototype,l,\"dom-\"):(f.inPlace(HTMLElement.prototype,l,\"dom-\"),f.inPlace(HTMLHeadElement.prototype,l,\"dom-\"),f.inPlace(HTMLBodyElement.prototype,l,\"dom-\")),c.on(\"dom-start\",function(t){r(t[0])})}},{}],10:[function(t,e,n){var r=t(\"ee\").get(\"mutation\"),o=t(\"wrap-function\")(r),i=NREUM.o.MO;e.exports=r,i&&(window.MutationObserver=function(t){return this instanceof i?new i(o(t,\"fn-\")):i.apply(this,arguments)},MutationObserver.prototype=i.prototype)},{}],11:[function(t,e,n){function r(t){var e=a.context(),n=s(t,\"executor-\",e),r=new f(n);return a.context(r).getCtx=function(){return e},a.emit(\"new-promise\",[r,e],e),r}function o(t,e){return e}var i=t(\"wrap-function\"),a=t(\"ee\").get(\"promise\"),s=i(a),c=t(24),f=NREUM.o.PR;e.exports=a,f&&(window.Promise=r,[\"all\",\"race\"].forEach(function(t){var e=f[t];f[t]=function(n){function r(t){return function(){a.emit(\"propagate\",[null,!o],i),o=o||!t}}var o=!1;c(n,function(e,n){Promise.resolve(n).then(r(\"all\"===t),r(!1))});var i=e.apply(f,arguments),s=f.resolve(i);return s}}),[\"resolve\",\"reject\"].forEach(function(t){var e=f[t];f[t]=function(t){var n=e.apply(f,arguments);return t!==n&&a.emit(\"propagate\",[t,!0],n),n}}),f.prototype[\"catch\"]=function(t){return this.then(null,t)},f.prototype=Object.create(f.prototype,{constructor:{value:r}}),c(Object.getOwnPropertyNames(f),function(t,e){try{r[e]=f[e]}catch(n){}}),a.on(\"executor-start\",function(t){t[0]=s(t[0],\"resolve-\",this),t[1]=s(t[1],\"resolve-\",this)}),a.on(\"executor-err\",function(t,e,n){t[1](n)}),s.inPlace(f.prototype,[\"then\"],\"then-\",o),a.on(\"then-start\",function(t,e){this.promise=e,t[0]=s(t[0],\"cb-\",this),t[1]=s(t[1],\"cb-\",this)}),a.on(\"then-end\",function(t,e,n){this.nextPromise=n;var r=this.promise;a.emit(\"propagate\",[r,!0],n)}),a.on(\"cb-end\",function(t,e,n){a.emit(\"propagate\",[n,!0],this.nextPromise)}),a.on(\"propagate\",function(t,e,n){this.getCtx&&!e||(this.getCtx=function(){if(t instanceof Promise)var e=a.context(t);return e&&e.getCtx?e.getCtx():this})}),r.toString=function(){return\"\"+f})},{}],12:[function(t,e,n){var r=t(\"ee\").get(\"raf\"),o=t(\"wrap-function\")(r),i=\"equestAnimationFrame\";e.exports=r,o.inPlace(window,[\"r\"+i,\"mozR\"+i,\"webkitR\"+i,\"msR\"+i],\"raf-\"),r.on(\"raf-start\",function(t){t[0]=o(t[0],\"fn-\")})},{}],13:[function(t,e,n){function r(t,e,n){t[0]=a(t[0],\"fn-\",null,n)}function o(t,e,n){this.method=n,this.timerDuration=isNaN(t[1])?0:+t[1],t[0]=a(t[0],\"fn-\",this,n)}var i=t(\"ee\").get(\"timer\"),a=t(\"wrap-function\")(i),s=\"setTimeout\",c=\"setInterval\",f=\"clearTimeout\",u=\"-start\",d=\"-\";e.exports=i,a.inPlace(window,[s,\"setImmediate\"],s+d),a.inPlace(window,[c],c+d),a.inPlace(window,[f,\"clearImmediate\"],f+d),i.on(c+u,r),i.on(s+u,o)},{}],14:[function(t,e,n){function r(t,e){d.inPlace(e,[\"onreadystatechange\"],\"fn-\",s)}function o(){var t=this,e=u.context(t);t.readyState>3&&!e.resolved&&(e.resolved=!0,u.emit(\"xhr-resolved\",[],t)),d.inPlace(t,g,\"fn-\",s)}function i(t){y.push(t),h&&(b?b.then(a):v?v(a):(E=-E,O.data=E))}function a(){for(var t=0;t<y.length;t++)r([],y[t]);y.length&&(y=[])}function s(t,e){return e}function c(t,e){for(var n in t)e[n]=t[n];return e}t(6);var f=t(\"ee\"),u=f.get(\"xhr\"),d=t(\"wrap-function\")(u),p=NREUM.o,l=p.XHR,h=p.MO,m=p.PR,v=p.SI,w=\"readystatechange\",g=[\"onload\",\"onerror\",\"onabort\",\"onloadstart\",\"onloadend\",\"onprogress\",\"ontimeout\"],y=[];e.exports=u;var x=window.XMLHttpRequest=function(t){var e=new l(t);try{u.emit(\"new-xhr\",[e],e),e.addEventListener(w,o,!1)}catch(n){try{u.emit(\"internal-error\",[n])}catch(r){}}return e};if(c(l,x),x.prototype=l.prototype,d.inPlace(x.prototype,[\"open\",\"send\"],\"-xhr-\",s),u.on(\"send-xhr-start\",function(t,e){r(t,e),i(e)}),u.on(\"open-xhr-start\",r),h){var b=m&&m.resolve();if(!v&&!m){var E=1,O=document.createTextNode(E);new h(a).observe(O,{characterData:!0})}}else f.on(\"fn-end\",function(t){t[0]&&t[0].type===w||a()})},{}],15:[function(t,e,n){function r(t){if(!i(t))return null;var e=window.NREUM;if(!e.loader_config)return null;var n=(e.loader_config.accountID||\"\").toString()||null,r=(e.loader_config.agentID||\"\").toString()||null,s=(e.loader_config.trustKey||\"\").toString()||null;if(!n||!r)return null;var c=a.generateCatId(),f=a.generateCatId(),u=Date.now(),d=o(c,f,u,n,r,s);return{header:d,guid:c,traceId:f,timestamp:u}}function o(t,e,n,r,o,i){var a=\"btoa\"in window&&\"function\"==typeof window.btoa;if(!a)return null;var s={v:[0,1],d:{ty:\"Browser\",ac:r,ap:o,id:t,tr:e,ti:n}};return i&&r!==i&&(s.d.tk=i),btoa(JSON.stringify(s))}function i(t){var e=!1,n=!1,r={};if(\"init\"in NREUM&&\"distributed_tracing\"in NREUM.init&&(r=NREUM.init.distributed_tracing,n=!!r.enabled),n)if(t.sameOrigin)e=!0;else if(r.allowed_origins instanceof Array)for(var o=0;o<r.allowed_origins.length;o++){var i=s(r.allowed_origins[o]);if(t.hostname===i.hostname&&t.protocol===i.protocol&&t.port===i.port){e=!0;break}}return n&&e}var a=t(22),s=t(17);e.exports={generateTracePayload:r,shouldGenerateTrace:i}},{}],16:[function(t,e,n){function r(t){var e=this.params,n=this.metrics;if(!this.ended){this.ended=!0;for(var r=0;r<l;r++)t.removeEventListener(p[r],this.listener,!1);e.aborted||(n.duration=s.now()-this.startTime,this.loadCaptureCalled||4!==t.readyState?null==e.status&&(e.status=0):a(this,t),n.cbTime=this.cbTime,d.emit(\"xhr-done\",[t],t),c(\"xhr\",[e,n,this.startTime]))}}function o(t,e){var n=t.responseType;if(\"json\"===n&&null!==e)return e;var r=\"arraybuffer\"===n||\"blob\"===n||\"json\"===n?t.response:t.responseText;return v(r)}function i(t,e){var n=f(e),r=t.params;r.host=n.hostname+\":\"+n.port,r.pathname=n.pathname,t.parsedOrigin=f(e),t.sameOrigin=t.parsedOrigin.sameOrigin}function a(t,e){t.params.status=e.status;var n=o(e,t.lastSize);if(n&&(t.metrics.rxSize=n),t.sameOrigin){var r=e.getResponseHeader(\"X-NewRelic-App-Data\");r&&(t.params.cat=r.split(\", \").pop())}t.loadCaptureCalled=!0}var s=t(\"loader\");if(s.xhrWrappable){var c=t(\"handle\"),f=t(17),u=t(15).generateTracePayload,d=t(\"ee\"),p=[\"load\",\"error\",\"abort\",\"timeout\"],l=p.length,h=t(\"id\"),m=t(20),v=t(19),w=window.XMLHttpRequest;s.features.xhr=!0,t(14),t(7),d.on(\"new-xhr\",function(t){var e=this;e.totalCbs=0,e.called=0,e.cbTime=0,e.end=r,e.ended=!1,e.xhrGuids={},e.lastSize=null,e.loadCaptureCalled=!1,t.addEventListener(\"load\",function(n){a(e,t)},!1),m&&(m>34||m<10)||window.opera||t.addEventListener(\"progress\",function(t){e.lastSize=t.loaded},!1)}),d.on(\"open-xhr-start\",function(t){this.params={method:t[0]},i(this,t[1]),this.metrics={}}),d.on(\"open-xhr-end\",function(t,e){\"loader_config\"in NREUM&&\"xpid\"in NREUM.loader_config&&this.sameOrigin&&e.setRequestHeader(\"X-NewRelic-ID\",NREUM.loader_config.xpid);var n=u(this.parsedOrigin);n&&n.header&&(e.setRequestHeader(\"newrelic\",n.header),this.dt=n)}),d.on(\"send-xhr-start\",function(t,e){var n=this.metrics,r=t[0],o=this;if(n&&r){var i=v(r);i&&(n.txSize=i)}this.startTime=s.now(),this.listener=function(t){try{\"abort\"!==t.type||o.loadCaptureCalled||(o.params.aborted=!0),(\"load\"!==t.type||o.called===o.totalCbs&&(o.onloadCalled||\"function\"!=typeof e.onload))&&o.end(e)}catch(n){try{d.emit(\"internal-error\",[n])}catch(r){}}};for(var a=0;a<l;a++)e.addEventListener(p[a],this.listener,!1)}),d.on(\"xhr-cb-time\",function(t,e,n){this.cbTime+=t,e?this.onloadCalled=!0:this.called+=1,this.called!==this.totalCbs||!this.onloadCalled&&\"function\"==typeof n.onload||this.end(n)}),d.on(\"xhr-load-added\",function(t,e){var n=\"\"+h(t)+!!e;this.xhrGuids&&!this.xhrGuids[n]&&(this.xhrGuids[n]=!0,this.totalCbs+=1)}),d.on(\"xhr-load-removed\",function(t,e){var n=\"\"+h(t)+!!e;this.xhrGuids&&this.xhrGuids[n]&&(delete this.xhrGuids[n],this.totalCbs-=1)}),d.on(\"addEventListener-end\",function(t,e){e instanceof w&&\"load\"===t[0]&&d.emit(\"xhr-load-added\",[t[1],t[2]],e)}),d.on(\"removeEventListener-end\",function(t,e){e instanceof w&&\"load\"===t[0]&&d.emit(\"xhr-load-removed\",[t[1],t[2]],e)}),d.on(\"fn-start\",function(t,e,n){e instanceof w&&(\"onload\"===n&&(this.onload=!0),(\"load\"===(t[0]&&t[0].type)||this.onload)&&(this.xhrCbStart=s.now()))}),d.on(\"fn-end\",function(t,e){this.xhrCbStart&&d.emit(\"xhr-cb-time\",[s.now()-this.xhrCbStart,this.onload,e],e)}),d.on(\"fetch-before-start\",function(t){var e,n=t[1]||{};\"string\"==typeof t[0]?e=t[0]:t[0]&&t[0].url&&(e=t[0].url),e&&(this.parsedOrigin=f(e),this.sameOrigin=this.parsedOrigin.sameOrigin);var r=u(this.parsedOrigin);if(r&&r.header){var o=r.header;if(\"string\"==typeof t[0]){var i={};for(var a in n)i[a]=n[a];i.headers=new Headers(n.headers||{}),i.headers.set(\"newrelic\",o),this.dt=r,t.length>1?t[1]=i:t.push(i)}else t[0]&&t[0].headers&&(t[0].headers.append(\"newrelic\",o),this.dt=r)}})}},{}],17:[function(t,e,n){var r={};e.exports=function(t){if(t in r)return r[t];var e=document.createElement(\"a\"),n=window.location,o={};e.href=t,o.port=e.port;var i=e.href.split(\"://\");!o.port&&i[1]&&(o.port=i[1].split(\"/\")[0].split(\"@\").pop().split(\":\")[1]),o.port&&\"0\"!==o.port||(o.port=\"https\"===i[0]?\"443\":\"80\"),o.hostname=e.hostname||n.hostname,o.pathname=e.pathname,o.protocol=i[0],\"/\"!==o.pathname.charAt(0)&&(o.pathname=\"/\"+o.pathname);var a=!e.protocol||\":\"===e.protocol||e.protocol===n.protocol,s=e.hostname===document.domain&&e.port===n.port;return o.sameOrigin=a&&(!e.hostname||s),\"/\"===o.pathname&&(r[t]=o),o}},{}],18:[function(t,e,n){function r(){}function o(t,e,n){return function(){return i(t,[f.now()].concat(s(arguments)),e?null:this,n),e?void 0:this}}var i=t(\"handle\"),a=t(24),s=t(25),c=t(\"ee\").get(\"tracer\"),f=t(\"loader\"),u=NREUM;\"undefined\"==typeof window.newrelic&&(newrelic=u);var d=[\"setPageViewName\",\"setCustomAttribute\",\"setErrorHandler\",\"finished\",\"addToTrace\",\"inlineHit\",\"addRelease\"],p=\"api-\",l=p+\"ixn-\";a(d,function(t,e){u[e]=o(p+e,!0,\"api\")}),u.addPageAction=o(p+\"addPageAction\",!0),u.setCurrentRouteName=o(p+\"routeName\",!0),e.exports=newrelic,u.interaction=function(){return(new r).get()};var h=r.prototype={createTracer:function(t,e){var n={},r=this,o=\"function\"==typeof e;return i(l+\"tracer\",[f.now(),t,n],r),function(){if(c.emit((o?\"\":\"no-\")+\"fn-start\",[f.now(),r,o],n),o)try{return e.apply(this,arguments)}catch(t){throw c.emit(\"fn-err\",[arguments,this,t],n),t}finally{c.emit(\"fn-end\",[f.now()],n)}}}};a(\"actionText,setName,setAttribute,save,ignore,onEnd,getContext,end,get\".split(\",\"),function(t,e){h[e]=o(l+e)}),newrelic.noticeError=function(t,e){\"string\"==typeof t&&(t=new Error(t)),i(\"err\",[t,f.now(),!1,e])}},{}],19:[function(t,e,n){e.exports=function(t){if(\"string\"==typeof t&&t.length)return t.length;if(\"object\"==typeof t){if(\"undefined\"!=typeof ArrayBuffer&&t instanceof ArrayBuffer&&t.byteLength)return t.byteLength;if(\"undefined\"!=typeof Blob&&t instanceof Blob&&t.size)return t.size;if(!(\"undefined\"!=typeof FormData&&t instanceof FormData))try{return JSON.stringify(t).length}catch(e){return}}}},{}],20:[function(t,e,n){var r=0,o=navigator.userAgent.match(/Firefox[\\\\/\\\\s](\\\\d+\\\\.\\\\d+)/);o&&(r=+o[1]),e.exports=r},{}],21:[function(t,e,n){function r(t,e){var n=t.getEntries();n.forEach(function(t){\"first-paint\"===t.name?a(\"timing\",[\"fp\",Math.floor(t.startTime)]):\"first-contentful-paint\"===t.name&&a(\"timing\",[\"fcp\",Math.floor(t.startTime)])})}function o(t){if(t instanceof c&&!u){var e,n=Math.round(t.timeStamp);e=n>1e12?Date.now()-n:s.now()-n,u=!0,a(\"timing\",[\"fi\",n,{type:t.type,fid:e}])}}if(!(\"init\"in NREUM&&\"page_view_timing\"in NREUM.init&&\"enabled\"in NREUM.init.page_view_timing&&NREUM.init.page_view_timing.enabled===!1)){var i,a=t(\"handle\"),s=t(\"loader\"),c=NREUM.o.EV;if(\"PerformanceObserver\"in window&&\"function\"==typeof window.PerformanceObserver){i=new PerformanceObserver(r);try{i.observe({entryTypes:[\"paint\"]})}catch(f){}}if(\"addEventListener\"in document){var u=!1,d=[\"click\",\"keydown\",\"mousedown\",\"pointerdown\",\"touchstart\"];d.forEach(function(t){document.addEventListener(t,o,!1)})}}},{}],22:[function(t,e,n){function r(){function t(){return e?15&e[n++]:16*Math.random()|0}var e=null,n=0,r=window.crypto||window.msCrypto;r&&r.getRandomValues&&(e=r.getRandomValues(new Uint8Array(31)));for(var o,i=\"xxxxxxxx-xxxx-4xxx-yxxx-xxxxxxxxxxxx\",a=\"\",s=0;s<i.length;s++)o=i[s],\"x\"===o?a+=t().toString(16):\"y\"===o?(o=3&t()|8,a+=o.toString(16)):a+=o;return a}function o(){function t(){return e?15&e[n++]:16*Math.random()|0}var e=null,n=0,r=window.crypto||window.msCrypto;r&&r.getRandomValues&&Uint8Array&&(e=r.getRandomValues(new Uint8Array(31)));for(var o=[],i=0;i<16;i++)o.push(t().toString(16));return o.join(\"\")}e.exports={generateUuid:r,generateCatId:o}},{}],23:[function(t,e,n){function r(t,e){if(!o)return!1;if(t!==o)return!1;if(!e)return!0;if(!i)return!1;for(var n=i.split(\".\"),r=e.split(\".\"),a=0;a<r.length;a++)if(r[a]!==n[a])return!1;return!0}var o=null,i=null,a=/Version\\\\/(\\\\S+)\\\\s+Safari/;if(navigator.userAgent){var s=navigator.userAgent,c=s.match(a);c&&s.indexOf(\"Chrome\")===-1&&s.indexOf(\"Chromium\")===-1&&(o=\"Safari\",i=c[1])}e.exports={agent:o,version:i,match:r}},{}],24:[function(t,e,n){function r(t,e){var n=[],r=\"\",i=0;for(r in t)o.call(t,r)&&(n[i]=e(r,t[r]),i+=1);return n}var o=Object.prototype.hasOwnProperty;e.exports=r},{}],25:[function(t,e,n){function r(t,e,n){e||(e=0),\"undefined\"==typeof n&&(n=t?t.length:0);for(var r=-1,o=n-e||0,i=Array(o<0?0:o);++r<o;)i[r]=t[e+r];return i}e.exports=r},{}],26:[function(t,e,n){e.exports={exists:\"undefined\"!=typeof window.performance&&window.performance.timing&&\"undefined\"!=typeof window.performance.timing.navigationStart}},{}],ee:[function(t,e,n){function r(){}function o(t){function e(t){return t&&t instanceof r?t:t?c(t,s,i):i()}function n(n,r,o,i){if(!p.aborted||i){t&&t(n,r,o);for(var a=e(o),s=m(n),c=s.length,f=0;f<c;f++)s[f].apply(a,r);var d=u[y[n]];return d&&d.push([x,n,r,a]),a}}function l(t,e){g[t]=m(t).concat(e)}function h(t,e){var n=g[t];if(n)for(var r=0;r<n.length;r++)n[r]===e&&n.splice(r,1)}function m(t){return g[t]||[]}function v(t){return d[t]=d[t]||o(n)}function w(t,e){f(t,function(t,n){e=e||\"feature\",y[n]=e,e in u||(u[e]=[])})}var g={},y={},x={on:l,addEventListener:l,removeEventListener:h,emit:n,get:v,listeners:m,context:e,buffer:w,abort:a,aborted:!1};return x}function i(){return new r}function a(){(u.api||u.feature)&&(p.aborted=!0,u=p.backlog={})}var s=\"nr@context\",c=t(\"gos\"),f=t(24),u={},d={},p=e.exports=o();p.backlog=u},{}],gos:[function(t,e,n){function r(t,e,n){if(o.call(t,e))return t[e];var r=n();if(Object.defineProperty&&Object.keys)try{return Object.defineProperty(t,e,{value:r,writable:!0,enumerable:!1}),r}catch(i){}return t[e]=r,r}var o=Object.prototype.hasOwnProperty;e.exports=r},{}],handle:[function(t,e,n){function r(t,e,n,r){o.buffer([t],r),o.emit(t,e,n)}var o=t(\"ee\").get(\"handle\");e.exports=r,r.ee=o},{}],id:[function(t,e,n){function r(t){var e=typeof t;return!t||\"object\"!==e&&\"function\"!==e?-1:t===window?0:a(t,i,function(){return o++})}var o=1,i=\"nr@id\",a=t(\"gos\");e.exports=r},{}],loader:[function(t,e,n){function r(){if(!E++){var t=b.info=NREUM.info,e=l.getElementsByTagName(\"script\")[0];if(setTimeout(u.abort,3e4),!(t&&t.licenseKey&&t.applicationID&&e))return u.abort();f(y,function(e,n){t[e]||(t[e]=n)}),c(\"mark\",[\"onload\",a()+b.offset],null,\"api\");var n=l.createElement(\"script\");n.src=\"https://\"+t.agent,e.parentNode.insertBefore(n,e)}}function o(){\"complete\"===l.readyState&&i()}function i(){c(\"mark\",[\"domContent\",a()+b.offset],null,\"api\")}function a(){return O.exists&&performance.now?Math.round(performance.now()):(s=Math.max((new Date).getTime(),s))-b.offset}var s=(new Date).getTime(),c=t(\"handle\"),f=t(24),u=t(\"ee\"),d=t(23),p=window,l=p.document,h=\"addEventListener\",m=\"attachEvent\",v=p.XMLHttpRequest,w=v&&v.prototype;NREUM.o={ST:setTimeout,SI:p.setImmediate,CT:clearTimeout,XHR:v,REQ:p.Request,EV:p.Event,PR:p.Promise,MO:p.MutationObserver};var g=\"\"+location,y={beacon:\"bam.nr-data.net\",errorBeacon:\"bam.nr-data.net\",agent:\"js-agent.newrelic.com/nr-spa-1158.min.js\"},x=v&&w&&w[h]&&!/CriOS/.test(navigator.userAgent),b=e.exports={offset:s,now:a,origin:g,features:{},xhrWrappable:x,userAgent:d};t(18),t(21),l[h]?(l[h](\"DOMContentLoaded\",i,!1),p[h](\"load\",r,!1)):(l[m](\"onreadystatechange\",o),p[m](\"onload\",r)),c(\"mark\",[\"firstbyte\",s],null,\"api\");var E=0,O=t(26)},{}],\"wrap-function\":[function(t,e,n){function r(t){return!(t&&t instanceof Function&&t.apply&&!t[a])}var o=t(\"ee\"),i=t(25),a=\"nr@original\",s=Object.prototype.hasOwnProperty,c=!1;e.exports=function(t,e){function n(t,e,n,o){function nrWrapper(){var r,a,s,c;try{a=this,r=i(arguments),s=\"function\"==typeof n?n(r,a):n||{}}catch(f){p([f,\"\",[r,a,o],s])}u(e+\"start\",[r,a,o],s);try{return c=t.apply(a,r)}catch(d){throw u(e+\"err\",[r,a,d],s),d}finally{u(e+\"end\",[r,a,c],s)}}return r(t)?t:(e||(e=\"\"),nrWrapper[a]=t,d(t,nrWrapper),nrWrapper)}function f(t,e,o,i){o||(o=\"\");var a,s,c,f=\"-\"===o.charAt(0);for(c=0;c<e.length;c++)s=e[c],a=t[s],r(a)||(t[s]=n(a,f?s+o:o,i,s))}function u(n,r,o){if(!c||e){var i=c;c=!0;try{t.emit(n,r,o,e)}catch(a){p([a,n,r,o])}c=i}}function d(t,e){if(Object.defineProperty&&Object.keys)try{var n=Object.keys(t);return n.forEach(function(n){Object.defineProperty(e,n,{get:function(){return t[n]},set:function(e){return t[n]=e,e}})}),e}catch(r){p([r])}for(var o in t)s.call(t,o)&&(e[o]=t[o]);return e}function p(e){try{t.emit(\"internal-error\",e)}catch(n){}}return t||(t=o),n.inPlace=f,n.flag=a,n}},{}]},{},[\"loader\",2,16,5,3,4]);\\n;NREUM.loader_config={accountID:\"1997682\",trustKey:\"1997682\",agentID:\"507167406\",licenseKey:\"df67590f5e\",applicationID:\"507167406\"}\\n;NREUM.info={beacon:\"bam.nr-data.net\",errorBeacon:\"bam.nr-data.net\",licenseKey:\"df67590f5e\",applicationID:\"507167406\",sa:1}\\n    </script>\\n\\n</body></html>'"
      ]
     },
     "execution_count": 76,
     "metadata": {},
     "output_type": "execute_result"
    }
   ],
   "source": [
    "# Get page source\n",
    "print(type(driver.page_source))\n",
    "driver.page_source"
   ]
  },
  {
   "cell_type": "code",
   "execution_count": 77,
   "metadata": {},
   "outputs": [],
   "source": [
    "# Refresh the page - \n",
    "driver.refresh() #reload or refresh the browser"
   ]
  },
  {
   "cell_type": "code",
   "execution_count": 78,
   "metadata": {},
   "outputs": [],
   "source": [
    "url_1 = \"https://resultadoshistorico.onpe.gob.pe/EG2021/\"\n",
    "driver.get( url_1 )\n",
    "\n",
    "time.sleep(5)\n",
    "\n",
    "url_2 = \"https://www.google.com/\"\n",
    "driver.get( url_2 )\n",
    "\n",
    "time.sleep(3)\n",
    "driver.back()"
   ]
  },
  {
   "cell_type": "code",
   "execution_count": 79,
   "metadata": {},
   "outputs": [],
   "source": [
    "driver.close()"
   ]
  },
  {
   "cell_type": "code",
   "execution_count": 80,
   "metadata": {},
   "outputs": [],
   "source": [
    "driver.quit()"
   ]
  },
  {
   "cell_type": "markdown",
   "metadata": {},
   "source": [
    "![Quite and Close](Images/quite_close.png)"
   ]
  },
  {
   "cell_type": "code",
   "execution_count": 81,
   "metadata": {},
   "outputs": [
    {
     "data": {
      "text/plain": [
       "selenium.webdriver.firefox.webdriver.WebDriver"
      ]
     },
     "execution_count": 81,
     "metadata": {},
     "output_type": "execute_result"
    }
   ],
   "source": [
    "type(driver)"
   ]
  },
  {
   "cell_type": "markdown",
   "metadata": {},
   "source": [
    "`driver` is an `selenium.webdriver.chrome.webdriver.WebDriver` object. This object has some attributes that will help us to navigate on the web."
   ]
  },
  {
   "cell_type": "markdown",
   "metadata": {},
   "source": [
    "Now, you can see in the driver that we are in [this link](https://resultadoshistorico.onpe.gob.pe/EG2021/)."
   ]
  },
  {
   "cell_type": "markdown",
   "metadata": {},
   "source": [
    "# Best Practices before working"
   ]
  },
  {
   "cell_type": "markdown",
   "metadata": {},
   "source": [
    "1. Maximize the browser"
   ]
  },
  {
   "cell_type": "code",
   "execution_count": 82,
   "metadata": {},
   "outputs": [],
   "source": [
    "# driver = webdriver.Chrome( ChromeDriverManager().install() )\n",
    "\n",
    "# url = 'https://www.kaspersky.com/resource-center/definitions/cookies'\n",
    "# driver.get( url )\n",
    "\n",
    "# driver.maximize_window()"
   ]
  },
  {
   "cell_type": "code",
   "execution_count": 83,
   "metadata": {},
   "outputs": [],
   "source": [
    "driver = webdriver.Firefox()\n",
    "url = 'https://www.kaspersky.com/resource-center/definitions/cookies'\n",
    "driver.get( url )\n",
    "driver.maximize_window()"
   ]
  },
  {
   "cell_type": "markdown",
   "metadata": {},
   "source": [
    "2. Set the Browser Zoom Level to 100 percent"
   ]
  },
  {
   "cell_type": "code",
   "execution_count": 84,
   "metadata": {},
   "outputs": [],
   "source": [
    "driver.execute_script(\"document.body.style.zoom='100%'\")"
   ]
  },
  {
   "cell_type": "markdown",
   "metadata": {},
   "source": [
    "3. Quit driver when done"
   ]
  },
  {
   "cell_type": "code",
   "execution_count": 85,
   "metadata": {},
   "outputs": [],
   "source": [
    "driver.quit()"
   ]
  },
  {
   "cell_type": "markdown",
   "metadata": {},
   "source": [
    "### 7.4.1. HTML\n",
    "HTML stands for HyperText Markup Language. You can deduce that it’s a language for creating web pages. It’s not a programming language like Python or Java, but it’s a markup language. It describes the elements of a page through tags characterized by angle brackets.\n",
    "\n",
    "1. The document always begins and ends using `<html>` and `</html>`.\n",
    "2. `<body></body>` constitutes the visible part of HTML document.\n",
    "3. `<h1>` to `<h3>` tags are defined for the headings."
   ]
  },
  {
   "cell_type": "markdown",
   "metadata": {},
   "source": [
    "#### 7.4.1.1. HTML Headings\n",
    "HTML headings are defined with the `<h1>` to `<h6>` tags.\n",
    "`<h1>` defines the most important heading. `<h6>` defines the least important heading.\n",
    "\n",
    "We can use text cells since markdown reads html tags."
   ]
  },
  {
   "cell_type": "markdown",
   "metadata": {},
   "source": [
    "<h1>This is heading 1</h1>\n",
    "<h2>This is heading 2</h2>\n",
    "<h3>This is heading 3</h3>"
   ]
  },
  {
   "cell_type": "markdown",
   "metadata": {},
   "source": [
    "#### 7.4.1.2. HTML Paragraphs\n",
    "HTML paragraphs are defined with the `<p>` tag.\n",
    "`<br>` tag is similar to `\"\\n\"`."
   ]
  },
  {
   "cell_type": "markdown",
   "metadata": {},
   "source": [
    "<html>\n",
    "<br>\n",
    "<p>My first paragraph.</p> <br>\n",
    "<p>This is another paragraph for this text cell.</p>\n",
    "<html>"
   ]
  },
  {
   "cell_type": "markdown",
   "metadata": {},
   "source": [
    "#### 7.4.1.3. HTML Links\n",
    "HTML links are defined with the `<a>` tag:"
   ]
  },
  {
   "cell_type": "markdown",
   "metadata": {},
   "source": [
    "<a href=\"http://bayes.cs.ucla.edu/jp_home.html\">This is a link for Judea Pearl's Website</a>"
   ]
  },
  {
   "cell_type": "markdown",
   "metadata": {},
   "source": [
    "#### 7.4.1.3. Unordered HTML List\n",
    "An unordered list starts with the `<ul>` tag. Each list item starts with the `<li>` tag."
   ]
  },
  {
   "cell_type": "markdown",
   "metadata": {},
   "source": [
    "<ul>\n",
    "  <li>Coffee</li>\n",
    "  <li>Tea</li>\n",
    "  <li>Milk</li>\n",
    "</ul>"
   ]
  },
  {
   "cell_type": "markdown",
   "metadata": {},
   "source": [
    "#### 7.4.1.4. Ordered HTML List\n",
    "An ordered list starts with the `<ol>` tag. Each list item starts with the `<li>` tag."
   ]
  },
  {
   "cell_type": "markdown",
   "metadata": {},
   "source": [
    "<ol>\n",
    "  <li>Coffee</li>\n",
    "  <li>Tea</li>\n",
    "  <li>Milk</li>\n",
    "</ol>"
   ]
  },
  {
   "cell_type": "markdown",
   "metadata": {},
   "source": [
    "#### 7.4.1.4. HTML Tables\n",
    "\n",
    "A table in HTML consists of table cells inside rows and columns. Each table cell is defined by a `<td>` and a `</td>` tag. Each table row starts with a `<tr>` and end with a `</tr>` tag."
   ]
  },
  {
   "cell_type": "markdown",
   "metadata": {},
   "source": [
    "<table>\n",
    "  <tr>\n",
    "    <th>Manager</th>\n",
    "    <th>Club</th>\n",
    "    <th>Nationality</th>\n",
    "  </tr>\n",
    "  <tr>\n",
    "    <td>Mikel Arteta</td>\n",
    "    <td>Arsenal</td>\n",
    "    <td>Spain</td>\n",
    "  </tr>\n",
    "  <tr>\n",
    "    <td>Thomas Tuchel</td>\n",
    "    <td>Chelsea</td>\n",
    "    <td>Germany</td>\n",
    "  </tr>\n",
    "</table>"
   ]
  },
  {
   "cell_type": "markdown",
   "metadata": {},
   "source": [
    "#### 7.4.1.5. HTML Iframes\n",
    "\n",
    "An HTML iframe is used to display a web page within a web page."
   ]
  },
  {
   "cell_type": "markdown",
   "metadata": {},
   "source": [
    "\n",
    "<!DOCTYPE html>\n",
    "<html>\n",
    "  \n",
    "<head>\n",
    "    <title>HTML iframe src Attribute</title>\n",
    "</head>\n",
    "  \n",
    "<body style=\"text-align: center\">\n",
    "    <h1>Diploma</h1>\n",
    "    <h2>HTML iframe</h2>\n",
    "    <iframe>\n",
    "          \n",
    "        <!DOCTYPE html>\n",
    "        <html>\n",
    "\n",
    "        <head>\n",
    "            <title>New html</title>\n",
    "        </head>\n",
    "\n",
    "        <body style=\"text-align: center\">\n",
    "            <h1>Diploma2</h1>\n",
    "            <h2>HTML iframe</h2>\n",
    "            <iframe>\n",
    "\n",
    "            </iframe>\n",
    "        </body>\n",
    "\n",
    "        </html>\n",
    "    </iframe>\n",
    "</body>\n",
    "  \n",
    "</html>"
   ]
  },
  {
   "cell_type": "markdown",
   "metadata": {},
   "source": [
    "#### 7.4.1.6. HTML Tags - Key"
   ]
  },
  {
   "cell_type": "markdown",
   "metadata": {},
   "source": [
    "|Tag|Description|\n",
    "|---|---|\n",
    "|`<h1>` to `<h6>`|\tDefines HTML headings|\n",
    "|`<ul>`|\tDefines an unordered list|\n",
    "|`<ol>`|\tDefines an ordered list|\n",
    "|`<p>`|\tDefines a paragraph|\n",
    "|`<a>`|\tIt is termed as anchor tag and it creates a hyperlink or link.|\n",
    "|`<div>`|\tIt defines a division or section within HTML document.|\n",
    "|`<strong>`|\tIt is used to define important text.|\n",
    "|`<table>`|\tIt is used to present data in tabular form or to create a table within HTML document.|\n",
    "|`<td>`|\tIt is used to define cells of an HTML table which contains table data|\n",
    "|`<iframe>`|\tDefines an inline frame|"
   ]
  },
  {
   "cell_type": "markdown",
   "metadata": {},
   "source": [
    "### 7.4. Identifying elements in a web page\n",
    "\n",
    "To identify elements of a webpage, we need to inspect the webpage. Open the browser and press `Ctrl`+ `Shift` + `I`."
   ]
  },
  {
   "cell_type": "markdown",
   "metadata": {},
   "source": [
    "#### One Element\n",
    "|Method|Description|\n",
    "|---|---|\n",
    "|find_element( By.ID, ... | Use id.|\n",
    "|find_element( By.NAME, ... | Use name.|\n",
    "|find_element( By.XPATH, ... | Use Xpath.|\n",
    "|find_element( By.TAG_NAME, ... | Use HTML tag.|\n",
    "|find_element( By.CLASS_NAME, ... | Use class name.|\n",
    "|find_element( By.CSS_SELECTOR, ...| Use css selector.|"
   ]
  },
  {
   "cell_type": "markdown",
   "metadata": {},
   "source": [
    "#### Multiple  elements\n",
    "|Method|Description|\n",
    "|---|---|\n",
    "|find_elements( By.ID, ... | Use id.|\n",
    "|find_elements( By.NAME, ... | Use name.|\n",
    "|find_elements( By.XPATH, ... | Use Xpath.|\n",
    "|find_elements( By.TAG_NAME, ... | Use HTML tag.|\n",
    "|find_elements( By.CLASS_NAME, ... | Use class name.|\n",
    "|find_elements( By.CSS_SELECTOR, ...| Use css selector.|"
   ]
  },
  {
   "cell_type": "markdown",
   "metadata": {},
   "source": [
    "### 7.4.1. Xpath\n",
    "XPath in Selenium is an XML path used for navigation through the HTML structure of the page. It is a syntax or language for finding any element on a web page using XML path expression.\n",
    "\n",
    "The basic format of XPath in selenium is explained below with screen shot.\n",
    "<img src=\"../_images/x_path.png\">"
   ]
  },
  {
   "cell_type": "markdown",
   "metadata": {},
   "source": [
    "**DO NOT COMPLICATE!**\n",
    "Finding the XPath of a element:\n",
    "1. Go to the element\n",
    "2. Right click\n",
    "3. Inspect - You may have to do it twice.\n",
    "4. Go to the selected line\n",
    "5. Right click\n",
    "7. Copy \n",
    "8. Copy Full Xpath"
   ]
  },
  {
   "cell_type": "markdown",
   "metadata": {},
   "source": [
    "**Example**\n",
    "\n",
    "We are going to click on the link to `Resumen General`. To do this, we must find the element with `find_element`, specify that we are using the XPath by setting the first option with `By.XPATH`, and click."
   ]
  },
  {
   "cell_type": "code",
   "execution_count": 86,
   "metadata": {},
   "outputs": [],
   "source": [
    "# driver = webdriver.Chrome( ChromeDriverManager().install() )\n",
    "# driver.maximize_window()\n",
    "\n",
    "# url_1 = \"https://resultadoshistorico.onpe.gob.pe/EG2021/\"\n",
    "# driver.get( url_1 )\n",
    "# #time.sleep(3)"
   ]
  },
  {
   "cell_type": "code",
   "execution_count": 87,
   "metadata": {},
   "outputs": [
    {
     "ename": "ElementNotInteractableException",
     "evalue": "Message: Element <img src=\"./assets/imagenes/resumen_general.jpg\"> could not be scrolled into view\nStacktrace:\nRemoteError@chrome://remote/content/shared/RemoteError.sys.mjs:8:8\nWebDriverError@chrome://remote/content/shared/webdriver/Errors.sys.mjs:193:5\nElementNotInteractableError@chrome://remote/content/shared/webdriver/Errors.sys.mjs:353:5\nwebdriverClickElement@chrome://remote/content/marionette/interaction.sys.mjs:167:11\ninteraction.clickElement@chrome://remote/content/marionette/interaction.sys.mjs:136:11\nclickElement@chrome://remote/content/marionette/actors/MarionetteCommandsChild.sys.mjs:344:29\nreceiveMessage@chrome://remote/content/marionette/actors/MarionetteCommandsChild.sys.mjs:220:31\n",
     "output_type": "error",
     "traceback": [
      "\u001b[1;31m---------------------------------------------------------------------------\u001b[0m",
      "\u001b[1;31mElementNotInteractableException\u001b[0m           Traceback (most recent call last)",
      "Cell \u001b[1;32mIn[87], line 7\u001b[0m\n\u001b[0;32m      5\u001b[0m driver\u001b[38;5;241m.\u001b[39mmaximize_window()\n\u001b[0;32m      6\u001b[0m resumen_general \u001b[38;5;241m=\u001b[39m driver\u001b[38;5;241m.\u001b[39mfind_element( By\u001b[38;5;241m.\u001b[39mXPATH, \u001b[38;5;124m'\u001b[39m\u001b[38;5;124m/html/body/onpe-root/onpe-home-onpe/div[1]/div/div/div/div[2]/div[1]/div/div/a/div[1]/img\u001b[39m\u001b[38;5;124m'\u001b[39m )\n\u001b[1;32m----> 7\u001b[0m \u001b[43mresumen_general\u001b[49m\u001b[38;5;241;43m.\u001b[39;49m\u001b[43mclick\u001b[49m\u001b[43m(\u001b[49m\u001b[43m)\u001b[49m\n",
      "File \u001b[1;32mc:\\Users\\Work\\Documents\\Personal\\Work\\classes\\summer_python_medialab\\env\\Lib\\site-packages\\selenium\\webdriver\\remote\\webelement.py:119\u001b[0m, in \u001b[0;36mWebElement.click\u001b[1;34m(self)\u001b[0m\n\u001b[0;32m    111\u001b[0m \u001b[38;5;28;01mdef\u001b[39;00m\u001b[38;5;250m \u001b[39m\u001b[38;5;21mclick\u001b[39m(\u001b[38;5;28mself\u001b[39m) \u001b[38;5;241m-\u001b[39m\u001b[38;5;241m>\u001b[39m \u001b[38;5;28;01mNone\u001b[39;00m:\n\u001b[0;32m    112\u001b[0m \u001b[38;5;250m    \u001b[39m\u001b[38;5;124;03m\"\"\"Clicks the element.\u001b[39;00m\n\u001b[0;32m    113\u001b[0m \n\u001b[0;32m    114\u001b[0m \u001b[38;5;124;03m    Example:\u001b[39;00m\n\u001b[1;32m   (...)\u001b[0m\n\u001b[0;32m    117\u001b[0m \u001b[38;5;124;03m    >>> element.click()\u001b[39;00m\n\u001b[0;32m    118\u001b[0m \u001b[38;5;124;03m    \"\"\"\u001b[39;00m\n\u001b[1;32m--> 119\u001b[0m     \u001b[38;5;28;43mself\u001b[39;49m\u001b[38;5;241;43m.\u001b[39;49m\u001b[43m_execute\u001b[49m\u001b[43m(\u001b[49m\u001b[43mCommand\u001b[49m\u001b[38;5;241;43m.\u001b[39;49m\u001b[43mCLICK_ELEMENT\u001b[49m\u001b[43m)\u001b[49m\n",
      "File \u001b[1;32mc:\\Users\\Work\\Documents\\Personal\\Work\\classes\\summer_python_medialab\\env\\Lib\\site-packages\\selenium\\webdriver\\remote\\webelement.py:570\u001b[0m, in \u001b[0;36mWebElement._execute\u001b[1;34m(self, command, params)\u001b[0m\n\u001b[0;32m    568\u001b[0m     params \u001b[38;5;241m=\u001b[39m {}\n\u001b[0;32m    569\u001b[0m params[\u001b[38;5;124m\"\u001b[39m\u001b[38;5;124mid\u001b[39m\u001b[38;5;124m\"\u001b[39m] \u001b[38;5;241m=\u001b[39m \u001b[38;5;28mself\u001b[39m\u001b[38;5;241m.\u001b[39m_id\n\u001b[1;32m--> 570\u001b[0m \u001b[38;5;28;01mreturn\u001b[39;00m \u001b[38;5;28;43mself\u001b[39;49m\u001b[38;5;241;43m.\u001b[39;49m\u001b[43m_parent\u001b[49m\u001b[38;5;241;43m.\u001b[39;49m\u001b[43mexecute\u001b[49m\u001b[43m(\u001b[49m\u001b[43mcommand\u001b[49m\u001b[43m,\u001b[49m\u001b[43m \u001b[49m\u001b[43mparams\u001b[49m\u001b[43m)\u001b[49m\n",
      "File \u001b[1;32mc:\\Users\\Work\\Documents\\Personal\\Work\\classes\\summer_python_medialab\\env\\Lib\\site-packages\\selenium\\webdriver\\remote\\webdriver.py:429\u001b[0m, in \u001b[0;36mWebDriver.execute\u001b[1;34m(self, driver_command, params)\u001b[0m\n\u001b[0;32m    427\u001b[0m response \u001b[38;5;241m=\u001b[39m \u001b[38;5;28mself\u001b[39m\u001b[38;5;241m.\u001b[39mcommand_executor\u001b[38;5;241m.\u001b[39mexecute(driver_command, params)\n\u001b[0;32m    428\u001b[0m \u001b[38;5;28;01mif\u001b[39;00m response:\n\u001b[1;32m--> 429\u001b[0m     \u001b[38;5;28;43mself\u001b[39;49m\u001b[38;5;241;43m.\u001b[39;49m\u001b[43merror_handler\u001b[49m\u001b[38;5;241;43m.\u001b[39;49m\u001b[43mcheck_response\u001b[49m\u001b[43m(\u001b[49m\u001b[43mresponse\u001b[49m\u001b[43m)\u001b[49m\n\u001b[0;32m    430\u001b[0m     response[\u001b[38;5;124m\"\u001b[39m\u001b[38;5;124mvalue\u001b[39m\u001b[38;5;124m\"\u001b[39m] \u001b[38;5;241m=\u001b[39m \u001b[38;5;28mself\u001b[39m\u001b[38;5;241m.\u001b[39m_unwrap_value(response\u001b[38;5;241m.\u001b[39mget(\u001b[38;5;124m\"\u001b[39m\u001b[38;5;124mvalue\u001b[39m\u001b[38;5;124m\"\u001b[39m, \u001b[38;5;28;01mNone\u001b[39;00m))\n\u001b[0;32m    431\u001b[0m     \u001b[38;5;28;01mreturn\u001b[39;00m response\n",
      "File \u001b[1;32mc:\\Users\\Work\\Documents\\Personal\\Work\\classes\\summer_python_medialab\\env\\Lib\\site-packages\\selenium\\webdriver\\remote\\errorhandler.py:232\u001b[0m, in \u001b[0;36mErrorHandler.check_response\u001b[1;34m(self, response)\u001b[0m\n\u001b[0;32m    230\u001b[0m         alert_text \u001b[38;5;241m=\u001b[39m value[\u001b[38;5;124m\"\u001b[39m\u001b[38;5;124malert\u001b[39m\u001b[38;5;124m\"\u001b[39m]\u001b[38;5;241m.\u001b[39mget(\u001b[38;5;124m\"\u001b[39m\u001b[38;5;124mtext\u001b[39m\u001b[38;5;124m\"\u001b[39m)\n\u001b[0;32m    231\u001b[0m     \u001b[38;5;28;01mraise\u001b[39;00m exception_class(message, screen, stacktrace, alert_text)  \u001b[38;5;66;03m# type: ignore[call-arg]  # mypy is not smart enough here\u001b[39;00m\n\u001b[1;32m--> 232\u001b[0m \u001b[38;5;28;01mraise\u001b[39;00m exception_class(message, screen, stacktrace)\n",
      "\u001b[1;31mElementNotInteractableException\u001b[0m: Message: Element <img src=\"./assets/imagenes/resumen_general.jpg\"> could not be scrolled into view\nStacktrace:\nRemoteError@chrome://remote/content/shared/RemoteError.sys.mjs:8:8\nWebDriverError@chrome://remote/content/shared/webdriver/Errors.sys.mjs:193:5\nElementNotInteractableError@chrome://remote/content/shared/webdriver/Errors.sys.mjs:353:5\nwebdriverClickElement@chrome://remote/content/marionette/interaction.sys.mjs:167:11\ninteraction.clickElement@chrome://remote/content/marionette/interaction.sys.mjs:136:11\nclickElement@chrome://remote/content/marionette/actors/MarionetteCommandsChild.sys.mjs:344:29\nreceiveMessage@chrome://remote/content/marionette/actors/MarionetteCommandsChild.sys.mjs:220:31\n"
     ]
    }
   ],
   "source": [
    "driver = webdriver.Firefox()\n",
    "\n",
    "url_1 = \"https://resultadoshistorico.onpe.gob.pe/EG2021/\"\n",
    "driver.get( url_1 )\n",
    "driver.maximize_window()\n",
    "resumen_general = driver.find_element( By.XPATH, '/html/body/onpe-root/onpe-home-onpe/div[1]/div/div/div/div[2]/div[1]/div/div/a/div[1]/img' )\n",
    "resumen_general.click()"
   ]
  },
  {
   "cell_type": "markdown",
   "metadata": {},
   "source": [
    "Did we get an error? This may be because we tried to find the element when the webpage had not finished loading yet. To prevent this, we can use the `sleep` function from Python's default `time` module. We can \"sleep\" our program for one second"
   ]
  },
  {
   "cell_type": "code",
   "execution_count": 88,
   "metadata": {},
   "outputs": [],
   "source": [
    "driver.get( url_1 )\n",
    "driver.maximize_window()\n",
    "time.sleep(1)\n",
    "resumen_general = driver.find_element( By.XPATH, '/html/body/onpe-root/onpe-home-onpe/div[1]/div/div/div/div[2]/div[1]/div/div/a/div[1]/img' )\n",
    "resumen_general.click()"
   ]
  },
  {
   "cell_type": "markdown",
   "metadata": {},
   "source": [
    "We can also find elements by their ID. We can find an element's ID by once again inspecting the page. We must keep in mind that an ID may not always be available, as it must be manually set by the programmer of the webpage. In this case, the dropdown menus for filtering by geography do have IDs available."
   ]
  },
  {
   "cell_type": "code",
   "execution_count": 89,
   "metadata": {},
   "outputs": [],
   "source": [
    "driver.find_element( By.ID, 'select_ambito').click()"
   ]
  },
  {
   "cell_type": "markdown",
   "metadata": {},
   "source": [
    "We can close the dropdown menu by clicking on it again"
   ]
  },
  {
   "cell_type": "code",
   "execution_count": 90,
   "metadata": {},
   "outputs": [],
   "source": [
    "driver.find_element( By.ID, 'select_ambito').click()"
   ]
  },
  {
   "cell_type": "markdown",
   "metadata": {},
   "source": [
    "Elements may also have names which we can use to find them."
   ]
  },
  {
   "cell_type": "code",
   "execution_count": 91,
   "metadata": {},
   "outputs": [
    {
     "data": {
      "text/plain": [
       "<selenium.webdriver.remote.webelement.WebElement (session=\"11d68e01-1747-4ebb-ac90-f75c7367371e\", element=\"941720f0-d803-4031-9ed8-c009f334c9a2\")>"
      ]
     },
     "execution_count": 91,
     "metadata": {},
     "output_type": "execute_result"
    }
   ],
   "source": [
    "driver.find_element( By.NAME, 'cod_ambito')"
   ]
  },
  {
   "cell_type": "markdown",
   "metadata": {},
   "source": [
    "The best practices regarding finding elements are as follows:\n",
    "\n",
    "1. Always use the ID of the element when it is available\n",
    "2. If the ID is not available, use the element's name\n",
    "3. If neither is available, we should use the XPath\n",
    "\n",
    "XPaths are always available, because they are constructed by referencing the HTML code itself.\n",
    "\n",
    "Another way of finding elements are through the `class_name`. However, these classes tend to be used for several objects. Therefor, we should only use the class names when we want to find many objects of the same type"
   ]
  },
  {
   "cell_type": "code",
   "execution_count": 92,
   "metadata": {},
   "outputs": [
    {
     "data": {
      "text/plain": [
       "[<selenium.webdriver.remote.webelement.WebElement (session=\"11d68e01-1747-4ebb-ac90-f75c7367371e\", element=\"dc275188-8a76-4d9d-bfca-fdf4afa0e0ad\")>,\n",
       " <selenium.webdriver.remote.webelement.WebElement (session=\"11d68e01-1747-4ebb-ac90-f75c7367371e\", element=\"b97c9262-653e-470b-a200-aedcd5aa7be5\")>,\n",
       " <selenium.webdriver.remote.webelement.WebElement (session=\"11d68e01-1747-4ebb-ac90-f75c7367371e\", element=\"5eeea5d1-ff6d-4f3e-b085-33eb894ecbd3\")>,\n",
       " <selenium.webdriver.remote.webelement.WebElement (session=\"11d68e01-1747-4ebb-ac90-f75c7367371e\", element=\"9c8402c9-b59d-4278-992a-b466d8aa21a1\")>,\n",
       " <selenium.webdriver.remote.webelement.WebElement (session=\"11d68e01-1747-4ebb-ac90-f75c7367371e\", element=\"08741249-56d1-41f7-93f6-15c727ffe2d1\")>,\n",
       " <selenium.webdriver.remote.webelement.WebElement (session=\"11d68e01-1747-4ebb-ac90-f75c7367371e\", element=\"808de170-89a9-4584-949b-61e01666c768\")>]"
      ]
     },
     "execution_count": 92,
     "metadata": {},
     "output_type": "execute_result"
    }
   ],
   "source": [
    "red_buttons = driver.find_elements( By.CLASS_NAME, 'btn_rojo')\n",
    "red_buttons"
   ]
  },
  {
   "cell_type": "markdown",
   "metadata": {},
   "source": [
    "### How this works\n",
    "\n",
    "The `find_element` method returns an object of class `WebElement`. In the case of `red_buttons`, the `find_elements` method returns several of these objects in a list."
   ]
  },
  {
   "cell_type": "markdown",
   "metadata": {},
   "source": [
    "The `WebElement` class has several attributes and methods. The following image lists some of the most useful ones.\n",
    "\n",
    "![Web Element](Images/Web_Elementpng.png)"
   ]
  },
  {
   "cell_type": "markdown",
   "metadata": {},
   "source": [
    "For example, we can see the text in the buttons by looking at the `text` attribute"
   ]
  },
  {
   "cell_type": "code",
   "execution_count": 93,
   "metadata": {},
   "outputs": [
    {
     "name": "stdout",
     "output_type": "stream",
     "text": [
      "Resumen General\n",
      "Presidencial\n",
      "Congresistas\n",
      "Parlamento Andino\n",
      "Actas\n",
      "Participación Ciudadana\n"
     ]
    }
   ],
   "source": [
    "for button in red_buttons:\n",
    "        print(button.text)"
   ]
  },
  {
   "cell_type": "markdown",
   "metadata": {},
   "source": [
    "We can also look at the attributes by using the `get_attribute` method"
   ]
  },
  {
   "cell_type": "code",
   "execution_count": 94,
   "metadata": {},
   "outputs": [
    {
     "data": {
      "text/plain": [
       "'T'"
      ]
     },
     "execution_count": 94,
     "metadata": {},
     "output_type": "execute_result"
    }
   ],
   "source": [
    "searchBox = driver.find_element( By.ID, 'select_ambito' )\n",
    "searchBox.get_attribute('value')"
   ]
  },
  {
   "cell_type": "markdown",
   "metadata": {},
   "source": [
    "**Suggestion** <br>\n",
    "We do not recomend to use `tag` at first time since most web pages use nested tags and it is difficult to define an element using HTML tag. However, it is great to find elements that is inside another located element in the web. Let's see the example."
   ]
  },
  {
   "cell_type": "markdown",
   "metadata": {},
   "source": [
    "# Scraping distric-level tables"
   ]
  },
  {
   "cell_type": "code",
   "execution_count": 95,
   "metadata": {},
   "outputs": [],
   "source": [
    "# driver = webdriver.Chrome( ChromeDriverManager().install() )\n",
    "# Maximize window\n",
    "driver.maximize_window()\n",
    "\n",
    "# go to the link\n",
    "url_1 = \"https://resultadoshistorico.onpe.gob.pe/EG2021/\"\n",
    "driver.get( url_1 )\n",
    "\n",
    "time.sleep(1)\n",
    "\n",
    "resumen_general = driver.find_element( By.XPATH, '/html/body/onpe-root/onpe-home-onpe/div[1]/div/div/div/div[2]/div[2]/div/div/a/div[1]/img' )\n",
    "resumen_general.click()"
   ]
  },
  {
   "cell_type": "markdown",
   "metadata": {},
   "source": [
    "We would like to get the frequency tables for votes in the presidential elections. We can select the presidential elections tab by first getting the elements for the red buttons"
   ]
  },
  {
   "cell_type": "code",
   "execution_count": 96,
   "metadata": {},
   "outputs": [
    {
     "name": "stdout",
     "output_type": "stream",
     "text": [
      "0: Resumen General\n",
      "1: Presidencial\n",
      "2: Congresistas\n",
      "3: Parlamento Andino\n",
      "4: Actas\n",
      "5: Participación Ciudadana\n"
     ]
    }
   ],
   "source": [
    "red_buttons = driver.find_elements( By.CLASS_NAME, 'btn_rojo')\n",
    "\n",
    "for index, button in enumerate(red_buttons):\n",
    "        print(f\"{index}:\", button.text)"
   ]
  },
  {
   "cell_type": "markdown",
   "metadata": {},
   "source": [
    "And we click on the button that takes us to the presidential elections tab"
   ]
  },
  {
   "cell_type": "code",
   "execution_count": 97,
   "metadata": {},
   "outputs": [],
   "source": [
    "presidential = red_buttons[1]\n",
    "presidential.click()"
   ]
  },
  {
   "cell_type": "markdown",
   "metadata": {},
   "source": [
    "We are only interested in votes from within Peru. Let's first look at the options from the dropdown menu"
   ]
  },
  {
   "cell_type": "code",
   "execution_count": 98,
   "metadata": {},
   "outputs": [],
   "source": [
    "scopes = driver.find_element(By.ID, \"select_ambito\")"
   ]
  },
  {
   "cell_type": "markdown",
   "metadata": {},
   "source": [
    "Inside the \"Ámbitos\" dropdown menu, we can search by tags to find the option elements"
   ]
  },
  {
   "cell_type": "code",
   "execution_count": 99,
   "metadata": {},
   "outputs": [
    {
     "name": "stdout",
     "output_type": "stream",
     "text": [
      "0: TODOS\n",
      "1: PERÚ\n",
      "2: EXTRANJERO\n"
     ]
    }
   ],
   "source": [
    "scope_options = scopes.find_elements(By.TAG_NAME, \"option\")\n",
    "for index, scope in enumerate(scope_options):\n",
    "        print(f\"{index}:\", scope.text)"
   ]
  },
  {
   "cell_type": "markdown",
   "metadata": {},
   "source": [
    "Now we choose the option for Peru"
   ]
  },
  {
   "cell_type": "code",
   "execution_count": 100,
   "metadata": {},
   "outputs": [],
   "source": [
    "scope_options[1].click()"
   ]
  },
  {
   "cell_type": "markdown",
   "metadata": {},
   "source": [
    "## Presidential results at the national level\n",
    "\n",
    "Notice that in the page we can see a table that summarizes the results for the presidential elections at the national level. Because the table is an HTML object, scrape it for its data using `pandas`. We first find the table element"
   ]
  },
  {
   "cell_type": "code",
   "execution_count": 101,
   "metadata": {},
   "outputs": [],
   "source": [
    "table_element = driver.find_element(By.ID, \"table1\")"
   ]
  },
  {
   "cell_type": "markdown",
   "metadata": {},
   "source": [
    "We can look at the HTML source for this element."
   ]
  },
  {
   "cell_type": "code",
   "execution_count": 102,
   "metadata": {},
   "outputs": [],
   "source": [
    "table_html = table_element.get_attribute(\"outerHTML\")"
   ]
  },
  {
   "cell_type": "markdown",
   "metadata": {},
   "source": [
    "For now this is not very useful. However, we can use `pandas`'s `read_html` function to parse this into a `DataFrame`"
   ]
  },
  {
   "cell_type": "code",
   "execution_count": 103,
   "metadata": {},
   "outputs": [
    {
     "data": {
      "text/plain": [
       "[              TOTAL DE VOTOS          TOTAL DE VOTOS.1  \\\n",
       " 0   ORGANIZACIONES POLÍTICAS  ORGANIZACIONES POLÍTICAS   \n",
       " 1                        NaN                       NaN   \n",
       " 2                        NaN                       NaN   \n",
       " 3                        NaN                       NaN   \n",
       " 4                        NaN                       NaN   \n",
       " 5                        NaN                       NaN   \n",
       " 6                        NaN                       NaN   \n",
       " 7                        NaN                       NaN   \n",
       " 8                        NaN                       NaN   \n",
       " 9                        NaN                       NaN   \n",
       " 10                       NaN                       NaN   \n",
       " 11                       NaN                       NaN   \n",
       " 12                       NaN                       NaN   \n",
       " 13                       NaN                       NaN   \n",
       " 14                       NaN                       NaN   \n",
       " 15                       NaN                       NaN   \n",
       " 16                       NaN                       NaN   \n",
       " 17                       NaN                       NaN   \n",
       " 18                       NaN                       NaN   \n",
       " 19                       NaN                       NaN   \n",
       " 20                       NaN                       NaN   \n",
       " 21                       NaN                       NaN   \n",
       " 22                       NaN                       NaN   \n",
       " \n",
       "                                   TOTAL DE VOTOS.2 TOTAL DE VOTOS.3  \\\n",
       " 0                         ORGANIZACIONES POLÍTICAS            TOTAL   \n",
       " 1                     PARTIDO NACIONALISTA PERUANO           228955   \n",
       " 2   EL FRENTE AMPLIO POR JUSTICIA, VIDA Y LIBERTAD            64217   \n",
       " 3                                   PARTIDO MORADO           319176   \n",
       " 4                               PERU PATRIA SEGURA            54341   \n",
       " 5                                VICTORIA NACIONAL           802957   \n",
       " 6                                   ACCION POPULAR          1294681   \n",
       " 7      AVANZA PAIS - PARTIDO DE INTEGRACION SOCIAL          1652682   \n",
       " 8                                     PODEMOS PERU           808559   \n",
       " 9                               JUNTOS POR EL PERU          1111407   \n",
       " 10                 PARTIDO POPULAR CRISTIANO - PPC           282007   \n",
       " 11                                  FUERZA POPULAR          1907896   \n",
       " 12                               UNION POR EL PERU           100312   \n",
       " 13                              RENOVACION POPULAR          1657575   \n",
       " 14                     RENACIMIENTO UNIDO NACIONAL            88634   \n",
       " 15                  PARTIDO DEMOCRATICO SOMOS PERU           237367   \n",
       " 16            PARTIDO POLITICO NACIONAL PERU LIBRE          2714152   \n",
       " 17                              DEMOCRACIA DIRECTA            50184   \n",
       " 18                        ALIANZA PARA EL PROGRESO           863955   \n",
       " 19                          TOTAL DE VOTOS VÁLIDOS         14239057   \n",
       " 20                                 VOTOS EN BLANCO          2159535   \n",
       " 21                                     VOTOS NULOS          1087222   \n",
       " 22                         TOTAL DE VOTOS EMITIDOS         17485814   \n",
       " \n",
       "    TOTAL DE VOTOS.4 TOTAL DE VOTOS.5  \n",
       " 0          %VÁLIDOS        %EMITIDOS  \n",
       " 1            1.608%           1.309%  \n",
       " 2            0.451%           0.367%  \n",
       " 3            2.242%           1.825%  \n",
       " 4            0.382%           0.311%  \n",
       " 5            5.639%           4.592%  \n",
       " 6            9.092%           7.404%  \n",
       " 7           11.607%           9.452%  \n",
       " 8            5.678%           4.624%  \n",
       " 9            7.805%           6.356%  \n",
       " 10           1.981%           1.613%  \n",
       " 11          13.399%          10.911%  \n",
       " 12           0.704%           0.574%  \n",
       " 13          11.641%           9.480%  \n",
       " 14           0.622%           0.507%  \n",
       " 15           1.667%           1.357%  \n",
       " 16          19.061%          15.522%  \n",
       " 17           0.352%           0.287%  \n",
       " 18           6.068%           4.941%  \n",
       " 19         100.000%          81.432%  \n",
       " 20              NaN          12.350%  \n",
       " 21              NaN           6.218%  \n",
       " 22              NaN         100.000%  ]"
      ]
     },
     "execution_count": 103,
     "metadata": {},
     "output_type": "execute_result"
    }
   ],
   "source": [
    "import pandas as pd\n",
    "from io import StringIO\n",
    "\n",
    "table_html = table_element.get_attribute(\"outerHTML\")\n",
    "table = pd.read_html(StringIO(table_html))\n",
    "table"
   ]
  },
  {
   "cell_type": "markdown",
   "metadata": {},
   "source": [
    "Pandas returns a list with one `DataFrame`, in this case."
   ]
  },
  {
   "cell_type": "code",
   "execution_count": 104,
   "metadata": {},
   "outputs": [
    {
     "data": {
      "text/html": [
       "<div>\n",
       "<style scoped>\n",
       "    .dataframe tbody tr th:only-of-type {\n",
       "        vertical-align: middle;\n",
       "    }\n",
       "\n",
       "    .dataframe tbody tr th {\n",
       "        vertical-align: top;\n",
       "    }\n",
       "\n",
       "    .dataframe thead th {\n",
       "        text-align: right;\n",
       "    }\n",
       "</style>\n",
       "<table border=\"1\" class=\"dataframe\">\n",
       "  <thead>\n",
       "    <tr style=\"text-align: right;\">\n",
       "      <th></th>\n",
       "      <th>TOTAL DE VOTOS</th>\n",
       "      <th>TOTAL DE VOTOS.1</th>\n",
       "      <th>TOTAL DE VOTOS.2</th>\n",
       "      <th>TOTAL DE VOTOS.3</th>\n",
       "      <th>TOTAL DE VOTOS.4</th>\n",
       "      <th>TOTAL DE VOTOS.5</th>\n",
       "    </tr>\n",
       "  </thead>\n",
       "  <tbody>\n",
       "    <tr>\n",
       "      <th>0</th>\n",
       "      <td>ORGANIZACIONES POLÍTICAS</td>\n",
       "      <td>ORGANIZACIONES POLÍTICAS</td>\n",
       "      <td>ORGANIZACIONES POLÍTICAS</td>\n",
       "      <td>TOTAL</td>\n",
       "      <td>%VÁLIDOS</td>\n",
       "      <td>%EMITIDOS</td>\n",
       "    </tr>\n",
       "    <tr>\n",
       "      <th>1</th>\n",
       "      <td>NaN</td>\n",
       "      <td>NaN</td>\n",
       "      <td>PARTIDO NACIONALISTA PERUANO</td>\n",
       "      <td>228955</td>\n",
       "      <td>1.608%</td>\n",
       "      <td>1.309%</td>\n",
       "    </tr>\n",
       "    <tr>\n",
       "      <th>2</th>\n",
       "      <td>NaN</td>\n",
       "      <td>NaN</td>\n",
       "      <td>EL FRENTE AMPLIO POR JUSTICIA, VIDA Y LIBERTAD</td>\n",
       "      <td>64217</td>\n",
       "      <td>0.451%</td>\n",
       "      <td>0.367%</td>\n",
       "    </tr>\n",
       "    <tr>\n",
       "      <th>3</th>\n",
       "      <td>NaN</td>\n",
       "      <td>NaN</td>\n",
       "      <td>PARTIDO MORADO</td>\n",
       "      <td>319176</td>\n",
       "      <td>2.242%</td>\n",
       "      <td>1.825%</td>\n",
       "    </tr>\n",
       "    <tr>\n",
       "      <th>4</th>\n",
       "      <td>NaN</td>\n",
       "      <td>NaN</td>\n",
       "      <td>PERU PATRIA SEGURA</td>\n",
       "      <td>54341</td>\n",
       "      <td>0.382%</td>\n",
       "      <td>0.311%</td>\n",
       "    </tr>\n",
       "    <tr>\n",
       "      <th>5</th>\n",
       "      <td>NaN</td>\n",
       "      <td>NaN</td>\n",
       "      <td>VICTORIA NACIONAL</td>\n",
       "      <td>802957</td>\n",
       "      <td>5.639%</td>\n",
       "      <td>4.592%</td>\n",
       "    </tr>\n",
       "    <tr>\n",
       "      <th>6</th>\n",
       "      <td>NaN</td>\n",
       "      <td>NaN</td>\n",
       "      <td>ACCION POPULAR</td>\n",
       "      <td>1294681</td>\n",
       "      <td>9.092%</td>\n",
       "      <td>7.404%</td>\n",
       "    </tr>\n",
       "    <tr>\n",
       "      <th>7</th>\n",
       "      <td>NaN</td>\n",
       "      <td>NaN</td>\n",
       "      <td>AVANZA PAIS - PARTIDO DE INTEGRACION SOCIAL</td>\n",
       "      <td>1652682</td>\n",
       "      <td>11.607%</td>\n",
       "      <td>9.452%</td>\n",
       "    </tr>\n",
       "    <tr>\n",
       "      <th>8</th>\n",
       "      <td>NaN</td>\n",
       "      <td>NaN</td>\n",
       "      <td>PODEMOS PERU</td>\n",
       "      <td>808559</td>\n",
       "      <td>5.678%</td>\n",
       "      <td>4.624%</td>\n",
       "    </tr>\n",
       "    <tr>\n",
       "      <th>9</th>\n",
       "      <td>NaN</td>\n",
       "      <td>NaN</td>\n",
       "      <td>JUNTOS POR EL PERU</td>\n",
       "      <td>1111407</td>\n",
       "      <td>7.805%</td>\n",
       "      <td>6.356%</td>\n",
       "    </tr>\n",
       "    <tr>\n",
       "      <th>10</th>\n",
       "      <td>NaN</td>\n",
       "      <td>NaN</td>\n",
       "      <td>PARTIDO POPULAR CRISTIANO - PPC</td>\n",
       "      <td>282007</td>\n",
       "      <td>1.981%</td>\n",
       "      <td>1.613%</td>\n",
       "    </tr>\n",
       "    <tr>\n",
       "      <th>11</th>\n",
       "      <td>NaN</td>\n",
       "      <td>NaN</td>\n",
       "      <td>FUERZA POPULAR</td>\n",
       "      <td>1907896</td>\n",
       "      <td>13.399%</td>\n",
       "      <td>10.911%</td>\n",
       "    </tr>\n",
       "    <tr>\n",
       "      <th>12</th>\n",
       "      <td>NaN</td>\n",
       "      <td>NaN</td>\n",
       "      <td>UNION POR EL PERU</td>\n",
       "      <td>100312</td>\n",
       "      <td>0.704%</td>\n",
       "      <td>0.574%</td>\n",
       "    </tr>\n",
       "    <tr>\n",
       "      <th>13</th>\n",
       "      <td>NaN</td>\n",
       "      <td>NaN</td>\n",
       "      <td>RENOVACION POPULAR</td>\n",
       "      <td>1657575</td>\n",
       "      <td>11.641%</td>\n",
       "      <td>9.480%</td>\n",
       "    </tr>\n",
       "    <tr>\n",
       "      <th>14</th>\n",
       "      <td>NaN</td>\n",
       "      <td>NaN</td>\n",
       "      <td>RENACIMIENTO UNIDO NACIONAL</td>\n",
       "      <td>88634</td>\n",
       "      <td>0.622%</td>\n",
       "      <td>0.507%</td>\n",
       "    </tr>\n",
       "    <tr>\n",
       "      <th>15</th>\n",
       "      <td>NaN</td>\n",
       "      <td>NaN</td>\n",
       "      <td>PARTIDO DEMOCRATICO SOMOS PERU</td>\n",
       "      <td>237367</td>\n",
       "      <td>1.667%</td>\n",
       "      <td>1.357%</td>\n",
       "    </tr>\n",
       "    <tr>\n",
       "      <th>16</th>\n",
       "      <td>NaN</td>\n",
       "      <td>NaN</td>\n",
       "      <td>PARTIDO POLITICO NACIONAL PERU LIBRE</td>\n",
       "      <td>2714152</td>\n",
       "      <td>19.061%</td>\n",
       "      <td>15.522%</td>\n",
       "    </tr>\n",
       "    <tr>\n",
       "      <th>17</th>\n",
       "      <td>NaN</td>\n",
       "      <td>NaN</td>\n",
       "      <td>DEMOCRACIA DIRECTA</td>\n",
       "      <td>50184</td>\n",
       "      <td>0.352%</td>\n",
       "      <td>0.287%</td>\n",
       "    </tr>\n",
       "    <tr>\n",
       "      <th>18</th>\n",
       "      <td>NaN</td>\n",
       "      <td>NaN</td>\n",
       "      <td>ALIANZA PARA EL PROGRESO</td>\n",
       "      <td>863955</td>\n",
       "      <td>6.068%</td>\n",
       "      <td>4.941%</td>\n",
       "    </tr>\n",
       "    <tr>\n",
       "      <th>19</th>\n",
       "      <td>NaN</td>\n",
       "      <td>NaN</td>\n",
       "      <td>TOTAL DE VOTOS VÁLIDOS</td>\n",
       "      <td>14239057</td>\n",
       "      <td>100.000%</td>\n",
       "      <td>81.432%</td>\n",
       "    </tr>\n",
       "    <tr>\n",
       "      <th>20</th>\n",
       "      <td>NaN</td>\n",
       "      <td>NaN</td>\n",
       "      <td>VOTOS EN BLANCO</td>\n",
       "      <td>2159535</td>\n",
       "      <td>NaN</td>\n",
       "      <td>12.350%</td>\n",
       "    </tr>\n",
       "    <tr>\n",
       "      <th>21</th>\n",
       "      <td>NaN</td>\n",
       "      <td>NaN</td>\n",
       "      <td>VOTOS NULOS</td>\n",
       "      <td>1087222</td>\n",
       "      <td>NaN</td>\n",
       "      <td>6.218%</td>\n",
       "    </tr>\n",
       "    <tr>\n",
       "      <th>22</th>\n",
       "      <td>NaN</td>\n",
       "      <td>NaN</td>\n",
       "      <td>TOTAL DE VOTOS EMITIDOS</td>\n",
       "      <td>17485814</td>\n",
       "      <td>NaN</td>\n",
       "      <td>100.000%</td>\n",
       "    </tr>\n",
       "  </tbody>\n",
       "</table>\n",
       "</div>"
      ],
      "text/plain": [
       "              TOTAL DE VOTOS          TOTAL DE VOTOS.1  \\\n",
       "0   ORGANIZACIONES POLÍTICAS  ORGANIZACIONES POLÍTICAS   \n",
       "1                        NaN                       NaN   \n",
       "2                        NaN                       NaN   \n",
       "3                        NaN                       NaN   \n",
       "4                        NaN                       NaN   \n",
       "5                        NaN                       NaN   \n",
       "6                        NaN                       NaN   \n",
       "7                        NaN                       NaN   \n",
       "8                        NaN                       NaN   \n",
       "9                        NaN                       NaN   \n",
       "10                       NaN                       NaN   \n",
       "11                       NaN                       NaN   \n",
       "12                       NaN                       NaN   \n",
       "13                       NaN                       NaN   \n",
       "14                       NaN                       NaN   \n",
       "15                       NaN                       NaN   \n",
       "16                       NaN                       NaN   \n",
       "17                       NaN                       NaN   \n",
       "18                       NaN                       NaN   \n",
       "19                       NaN                       NaN   \n",
       "20                       NaN                       NaN   \n",
       "21                       NaN                       NaN   \n",
       "22                       NaN                       NaN   \n",
       "\n",
       "                                  TOTAL DE VOTOS.2 TOTAL DE VOTOS.3  \\\n",
       "0                         ORGANIZACIONES POLÍTICAS            TOTAL   \n",
       "1                     PARTIDO NACIONALISTA PERUANO           228955   \n",
       "2   EL FRENTE AMPLIO POR JUSTICIA, VIDA Y LIBERTAD            64217   \n",
       "3                                   PARTIDO MORADO           319176   \n",
       "4                               PERU PATRIA SEGURA            54341   \n",
       "5                                VICTORIA NACIONAL           802957   \n",
       "6                                   ACCION POPULAR          1294681   \n",
       "7      AVANZA PAIS - PARTIDO DE INTEGRACION SOCIAL          1652682   \n",
       "8                                     PODEMOS PERU           808559   \n",
       "9                               JUNTOS POR EL PERU          1111407   \n",
       "10                 PARTIDO POPULAR CRISTIANO - PPC           282007   \n",
       "11                                  FUERZA POPULAR          1907896   \n",
       "12                               UNION POR EL PERU           100312   \n",
       "13                              RENOVACION POPULAR          1657575   \n",
       "14                     RENACIMIENTO UNIDO NACIONAL            88634   \n",
       "15                  PARTIDO DEMOCRATICO SOMOS PERU           237367   \n",
       "16            PARTIDO POLITICO NACIONAL PERU LIBRE          2714152   \n",
       "17                              DEMOCRACIA DIRECTA            50184   \n",
       "18                        ALIANZA PARA EL PROGRESO           863955   \n",
       "19                          TOTAL DE VOTOS VÁLIDOS         14239057   \n",
       "20                                 VOTOS EN BLANCO          2159535   \n",
       "21                                     VOTOS NULOS          1087222   \n",
       "22                         TOTAL DE VOTOS EMITIDOS         17485814   \n",
       "\n",
       "   TOTAL DE VOTOS.4 TOTAL DE VOTOS.5  \n",
       "0          %VÁLIDOS        %EMITIDOS  \n",
       "1            1.608%           1.309%  \n",
       "2            0.451%           0.367%  \n",
       "3            2.242%           1.825%  \n",
       "4            0.382%           0.311%  \n",
       "5            5.639%           4.592%  \n",
       "6            9.092%           7.404%  \n",
       "7           11.607%           9.452%  \n",
       "8            5.678%           4.624%  \n",
       "9            7.805%           6.356%  \n",
       "10           1.981%           1.613%  \n",
       "11          13.399%          10.911%  \n",
       "12           0.704%           0.574%  \n",
       "13          11.641%           9.480%  \n",
       "14           0.622%           0.507%  \n",
       "15           1.667%           1.357%  \n",
       "16          19.061%          15.522%  \n",
       "17           0.352%           0.287%  \n",
       "18           6.068%           4.941%  \n",
       "19         100.000%          81.432%  \n",
       "20              NaN          12.350%  \n",
       "21              NaN           6.218%  \n",
       "22              NaN         100.000%  "
      ]
     },
     "execution_count": 104,
     "metadata": {},
     "output_type": "execute_result"
    }
   ],
   "source": [
    "table = table[0]\n",
    "table"
   ]
  },
  {
   "cell_type": "markdown",
   "metadata": {},
   "source": [
    "We should get rid of the rows and columns that do not contain information we are interested in"
   ]
  },
  {
   "cell_type": "code",
   "execution_count": 105,
   "metadata": {},
   "outputs": [
    {
     "data": {
      "text/html": [
       "<div>\n",
       "<style scoped>\n",
       "    .dataframe tbody tr th:only-of-type {\n",
       "        vertical-align: middle;\n",
       "    }\n",
       "\n",
       "    .dataframe tbody tr th {\n",
       "        vertical-align: top;\n",
       "    }\n",
       "\n",
       "    .dataframe thead th {\n",
       "        text-align: right;\n",
       "    }\n",
       "</style>\n",
       "<table border=\"1\" class=\"dataframe\">\n",
       "  <thead>\n",
       "    <tr style=\"text-align: right;\">\n",
       "      <th></th>\n",
       "      <th>TOTAL DE VOTOS.2</th>\n",
       "      <th>TOTAL DE VOTOS.3</th>\n",
       "      <th>TOTAL DE VOTOS.4</th>\n",
       "      <th>TOTAL DE VOTOS.5</th>\n",
       "    </tr>\n",
       "  </thead>\n",
       "  <tbody>\n",
       "    <tr>\n",
       "      <th>0</th>\n",
       "      <td>ORGANIZACIONES POLÍTICAS</td>\n",
       "      <td>TOTAL</td>\n",
       "      <td>%VÁLIDOS</td>\n",
       "      <td>%EMITIDOS</td>\n",
       "    </tr>\n",
       "    <tr>\n",
       "      <th>1</th>\n",
       "      <td>PARTIDO NACIONALISTA PERUANO</td>\n",
       "      <td>228955</td>\n",
       "      <td>1.608%</td>\n",
       "      <td>1.309%</td>\n",
       "    </tr>\n",
       "    <tr>\n",
       "      <th>2</th>\n",
       "      <td>EL FRENTE AMPLIO POR JUSTICIA, VIDA Y LIBERTAD</td>\n",
       "      <td>64217</td>\n",
       "      <td>0.451%</td>\n",
       "      <td>0.367%</td>\n",
       "    </tr>\n",
       "    <tr>\n",
       "      <th>3</th>\n",
       "      <td>PARTIDO MORADO</td>\n",
       "      <td>319176</td>\n",
       "      <td>2.242%</td>\n",
       "      <td>1.825%</td>\n",
       "    </tr>\n",
       "    <tr>\n",
       "      <th>4</th>\n",
       "      <td>PERU PATRIA SEGURA</td>\n",
       "      <td>54341</td>\n",
       "      <td>0.382%</td>\n",
       "      <td>0.311%</td>\n",
       "    </tr>\n",
       "    <tr>\n",
       "      <th>5</th>\n",
       "      <td>VICTORIA NACIONAL</td>\n",
       "      <td>802957</td>\n",
       "      <td>5.639%</td>\n",
       "      <td>4.592%</td>\n",
       "    </tr>\n",
       "    <tr>\n",
       "      <th>6</th>\n",
       "      <td>ACCION POPULAR</td>\n",
       "      <td>1294681</td>\n",
       "      <td>9.092%</td>\n",
       "      <td>7.404%</td>\n",
       "    </tr>\n",
       "    <tr>\n",
       "      <th>7</th>\n",
       "      <td>AVANZA PAIS - PARTIDO DE INTEGRACION SOCIAL</td>\n",
       "      <td>1652682</td>\n",
       "      <td>11.607%</td>\n",
       "      <td>9.452%</td>\n",
       "    </tr>\n",
       "    <tr>\n",
       "      <th>8</th>\n",
       "      <td>PODEMOS PERU</td>\n",
       "      <td>808559</td>\n",
       "      <td>5.678%</td>\n",
       "      <td>4.624%</td>\n",
       "    </tr>\n",
       "    <tr>\n",
       "      <th>9</th>\n",
       "      <td>JUNTOS POR EL PERU</td>\n",
       "      <td>1111407</td>\n",
       "      <td>7.805%</td>\n",
       "      <td>6.356%</td>\n",
       "    </tr>\n",
       "    <tr>\n",
       "      <th>10</th>\n",
       "      <td>PARTIDO POPULAR CRISTIANO - PPC</td>\n",
       "      <td>282007</td>\n",
       "      <td>1.981%</td>\n",
       "      <td>1.613%</td>\n",
       "    </tr>\n",
       "    <tr>\n",
       "      <th>11</th>\n",
       "      <td>FUERZA POPULAR</td>\n",
       "      <td>1907896</td>\n",
       "      <td>13.399%</td>\n",
       "      <td>10.911%</td>\n",
       "    </tr>\n",
       "    <tr>\n",
       "      <th>12</th>\n",
       "      <td>UNION POR EL PERU</td>\n",
       "      <td>100312</td>\n",
       "      <td>0.704%</td>\n",
       "      <td>0.574%</td>\n",
       "    </tr>\n",
       "    <tr>\n",
       "      <th>13</th>\n",
       "      <td>RENOVACION POPULAR</td>\n",
       "      <td>1657575</td>\n",
       "      <td>11.641%</td>\n",
       "      <td>9.480%</td>\n",
       "    </tr>\n",
       "    <tr>\n",
       "      <th>14</th>\n",
       "      <td>RENACIMIENTO UNIDO NACIONAL</td>\n",
       "      <td>88634</td>\n",
       "      <td>0.622%</td>\n",
       "      <td>0.507%</td>\n",
       "    </tr>\n",
       "    <tr>\n",
       "      <th>15</th>\n",
       "      <td>PARTIDO DEMOCRATICO SOMOS PERU</td>\n",
       "      <td>237367</td>\n",
       "      <td>1.667%</td>\n",
       "      <td>1.357%</td>\n",
       "    </tr>\n",
       "    <tr>\n",
       "      <th>16</th>\n",
       "      <td>PARTIDO POLITICO NACIONAL PERU LIBRE</td>\n",
       "      <td>2714152</td>\n",
       "      <td>19.061%</td>\n",
       "      <td>15.522%</td>\n",
       "    </tr>\n",
       "    <tr>\n",
       "      <th>17</th>\n",
       "      <td>DEMOCRACIA DIRECTA</td>\n",
       "      <td>50184</td>\n",
       "      <td>0.352%</td>\n",
       "      <td>0.287%</td>\n",
       "    </tr>\n",
       "    <tr>\n",
       "      <th>18</th>\n",
       "      <td>ALIANZA PARA EL PROGRESO</td>\n",
       "      <td>863955</td>\n",
       "      <td>6.068%</td>\n",
       "      <td>4.941%</td>\n",
       "    </tr>\n",
       "  </tbody>\n",
       "</table>\n",
       "</div>"
      ],
      "text/plain": [
       "                                  TOTAL DE VOTOS.2 TOTAL DE VOTOS.3  \\\n",
       "0                         ORGANIZACIONES POLÍTICAS            TOTAL   \n",
       "1                     PARTIDO NACIONALISTA PERUANO           228955   \n",
       "2   EL FRENTE AMPLIO POR JUSTICIA, VIDA Y LIBERTAD            64217   \n",
       "3                                   PARTIDO MORADO           319176   \n",
       "4                               PERU PATRIA SEGURA            54341   \n",
       "5                                VICTORIA NACIONAL           802957   \n",
       "6                                   ACCION POPULAR          1294681   \n",
       "7      AVANZA PAIS - PARTIDO DE INTEGRACION SOCIAL          1652682   \n",
       "8                                     PODEMOS PERU           808559   \n",
       "9                               JUNTOS POR EL PERU          1111407   \n",
       "10                 PARTIDO POPULAR CRISTIANO - PPC           282007   \n",
       "11                                  FUERZA POPULAR          1907896   \n",
       "12                               UNION POR EL PERU           100312   \n",
       "13                              RENOVACION POPULAR          1657575   \n",
       "14                     RENACIMIENTO UNIDO NACIONAL            88634   \n",
       "15                  PARTIDO DEMOCRATICO SOMOS PERU           237367   \n",
       "16            PARTIDO POLITICO NACIONAL PERU LIBRE          2714152   \n",
       "17                              DEMOCRACIA DIRECTA            50184   \n",
       "18                        ALIANZA PARA EL PROGRESO           863955   \n",
       "\n",
       "   TOTAL DE VOTOS.4 TOTAL DE VOTOS.5  \n",
       "0          %VÁLIDOS        %EMITIDOS  \n",
       "1            1.608%           1.309%  \n",
       "2            0.451%           0.367%  \n",
       "3            2.242%           1.825%  \n",
       "4            0.382%           0.311%  \n",
       "5            5.639%           4.592%  \n",
       "6            9.092%           7.404%  \n",
       "7           11.607%           9.452%  \n",
       "8            5.678%           4.624%  \n",
       "9            7.805%           6.356%  \n",
       "10           1.981%           1.613%  \n",
       "11          13.399%          10.911%  \n",
       "12           0.704%           0.574%  \n",
       "13          11.641%           9.480%  \n",
       "14           0.622%           0.507%  \n",
       "15           1.667%           1.357%  \n",
       "16          19.061%          15.522%  \n",
       "17           0.352%           0.287%  \n",
       "18           6.068%           4.941%  "
      ]
     },
     "execution_count": 105,
     "metadata": {},
     "output_type": "execute_result"
    }
   ],
   "source": [
    "table = table.iloc[:19, 2:]\n",
    "table"
   ]
  },
  {
   "cell_type": "markdown",
   "metadata": {},
   "source": [
    "Finally, we fix the column names"
   ]
  },
  {
   "cell_type": "code",
   "execution_count": 106,
   "metadata": {},
   "outputs": [
    {
     "data": {
      "text/html": [
       "<div>\n",
       "<style scoped>\n",
       "    .dataframe tbody tr th:only-of-type {\n",
       "        vertical-align: middle;\n",
       "    }\n",
       "\n",
       "    .dataframe tbody tr th {\n",
       "        vertical-align: top;\n",
       "    }\n",
       "\n",
       "    .dataframe thead th {\n",
       "        text-align: right;\n",
       "    }\n",
       "</style>\n",
       "<table border=\"1\" class=\"dataframe\">\n",
       "  <thead>\n",
       "    <tr style=\"text-align: right;\">\n",
       "      <th></th>\n",
       "      <th>ORGANIZACIONES POLÍTICAS</th>\n",
       "      <th>TOTAL</th>\n",
       "      <th>%VÁLIDOS</th>\n",
       "      <th>%EMITIDOS</th>\n",
       "    </tr>\n",
       "  </thead>\n",
       "  <tbody>\n",
       "    <tr>\n",
       "      <th>0</th>\n",
       "      <td>PARTIDO NACIONALISTA PERUANO</td>\n",
       "      <td>228955</td>\n",
       "      <td>1.608%</td>\n",
       "      <td>1.309%</td>\n",
       "    </tr>\n",
       "    <tr>\n",
       "      <th>1</th>\n",
       "      <td>EL FRENTE AMPLIO POR JUSTICIA, VIDA Y LIBERTAD</td>\n",
       "      <td>64217</td>\n",
       "      <td>0.451%</td>\n",
       "      <td>0.367%</td>\n",
       "    </tr>\n",
       "    <tr>\n",
       "      <th>2</th>\n",
       "      <td>PARTIDO MORADO</td>\n",
       "      <td>319176</td>\n",
       "      <td>2.242%</td>\n",
       "      <td>1.825%</td>\n",
       "    </tr>\n",
       "    <tr>\n",
       "      <th>3</th>\n",
       "      <td>PERU PATRIA SEGURA</td>\n",
       "      <td>54341</td>\n",
       "      <td>0.382%</td>\n",
       "      <td>0.311%</td>\n",
       "    </tr>\n",
       "    <tr>\n",
       "      <th>4</th>\n",
       "      <td>VICTORIA NACIONAL</td>\n",
       "      <td>802957</td>\n",
       "      <td>5.639%</td>\n",
       "      <td>4.592%</td>\n",
       "    </tr>\n",
       "    <tr>\n",
       "      <th>5</th>\n",
       "      <td>ACCION POPULAR</td>\n",
       "      <td>1294681</td>\n",
       "      <td>9.092%</td>\n",
       "      <td>7.404%</td>\n",
       "    </tr>\n",
       "    <tr>\n",
       "      <th>6</th>\n",
       "      <td>AVANZA PAIS - PARTIDO DE INTEGRACION SOCIAL</td>\n",
       "      <td>1652682</td>\n",
       "      <td>11.607%</td>\n",
       "      <td>9.452%</td>\n",
       "    </tr>\n",
       "    <tr>\n",
       "      <th>7</th>\n",
       "      <td>PODEMOS PERU</td>\n",
       "      <td>808559</td>\n",
       "      <td>5.678%</td>\n",
       "      <td>4.624%</td>\n",
       "    </tr>\n",
       "    <tr>\n",
       "      <th>8</th>\n",
       "      <td>JUNTOS POR EL PERU</td>\n",
       "      <td>1111407</td>\n",
       "      <td>7.805%</td>\n",
       "      <td>6.356%</td>\n",
       "    </tr>\n",
       "    <tr>\n",
       "      <th>9</th>\n",
       "      <td>PARTIDO POPULAR CRISTIANO - PPC</td>\n",
       "      <td>282007</td>\n",
       "      <td>1.981%</td>\n",
       "      <td>1.613%</td>\n",
       "    </tr>\n",
       "    <tr>\n",
       "      <th>10</th>\n",
       "      <td>FUERZA POPULAR</td>\n",
       "      <td>1907896</td>\n",
       "      <td>13.399%</td>\n",
       "      <td>10.911%</td>\n",
       "    </tr>\n",
       "    <tr>\n",
       "      <th>11</th>\n",
       "      <td>UNION POR EL PERU</td>\n",
       "      <td>100312</td>\n",
       "      <td>0.704%</td>\n",
       "      <td>0.574%</td>\n",
       "    </tr>\n",
       "    <tr>\n",
       "      <th>12</th>\n",
       "      <td>RENOVACION POPULAR</td>\n",
       "      <td>1657575</td>\n",
       "      <td>11.641%</td>\n",
       "      <td>9.480%</td>\n",
       "    </tr>\n",
       "    <tr>\n",
       "      <th>13</th>\n",
       "      <td>RENACIMIENTO UNIDO NACIONAL</td>\n",
       "      <td>88634</td>\n",
       "      <td>0.622%</td>\n",
       "      <td>0.507%</td>\n",
       "    </tr>\n",
       "    <tr>\n",
       "      <th>14</th>\n",
       "      <td>PARTIDO DEMOCRATICO SOMOS PERU</td>\n",
       "      <td>237367</td>\n",
       "      <td>1.667%</td>\n",
       "      <td>1.357%</td>\n",
       "    </tr>\n",
       "    <tr>\n",
       "      <th>15</th>\n",
       "      <td>PARTIDO POLITICO NACIONAL PERU LIBRE</td>\n",
       "      <td>2714152</td>\n",
       "      <td>19.061%</td>\n",
       "      <td>15.522%</td>\n",
       "    </tr>\n",
       "    <tr>\n",
       "      <th>16</th>\n",
       "      <td>DEMOCRACIA DIRECTA</td>\n",
       "      <td>50184</td>\n",
       "      <td>0.352%</td>\n",
       "      <td>0.287%</td>\n",
       "    </tr>\n",
       "    <tr>\n",
       "      <th>17</th>\n",
       "      <td>ALIANZA PARA EL PROGRESO</td>\n",
       "      <td>863955</td>\n",
       "      <td>6.068%</td>\n",
       "      <td>4.941%</td>\n",
       "    </tr>\n",
       "  </tbody>\n",
       "</table>\n",
       "</div>"
      ],
      "text/plain": [
       "                          ORGANIZACIONES POLÍTICAS    TOTAL %VÁLIDOS %EMITIDOS\n",
       "0                     PARTIDO NACIONALISTA PERUANO   228955   1.608%    1.309%\n",
       "1   EL FRENTE AMPLIO POR JUSTICIA, VIDA Y LIBERTAD    64217   0.451%    0.367%\n",
       "2                                   PARTIDO MORADO   319176   2.242%    1.825%\n",
       "3                               PERU PATRIA SEGURA    54341   0.382%    0.311%\n",
       "4                                VICTORIA NACIONAL   802957   5.639%    4.592%\n",
       "5                                   ACCION POPULAR  1294681   9.092%    7.404%\n",
       "6      AVANZA PAIS - PARTIDO DE INTEGRACION SOCIAL  1652682  11.607%    9.452%\n",
       "7                                     PODEMOS PERU   808559   5.678%    4.624%\n",
       "8                               JUNTOS POR EL PERU  1111407   7.805%    6.356%\n",
       "9                  PARTIDO POPULAR CRISTIANO - PPC   282007   1.981%    1.613%\n",
       "10                                  FUERZA POPULAR  1907896  13.399%   10.911%\n",
       "11                               UNION POR EL PERU   100312   0.704%    0.574%\n",
       "12                              RENOVACION POPULAR  1657575  11.641%    9.480%\n",
       "13                     RENACIMIENTO UNIDO NACIONAL    88634   0.622%    0.507%\n",
       "14                  PARTIDO DEMOCRATICO SOMOS PERU   237367   1.667%    1.357%\n",
       "15            PARTIDO POLITICO NACIONAL PERU LIBRE  2714152  19.061%   15.522%\n",
       "16                              DEMOCRACIA DIRECTA    50184   0.352%    0.287%\n",
       "17                        ALIANZA PARA EL PROGRESO   863955   6.068%    4.941%"
      ]
     },
     "execution_count": 106,
     "metadata": {},
     "output_type": "execute_result"
    }
   ],
   "source": [
    "table = table.rename(columns = dict(zip(table.columns, table.iloc[0, :])))\n",
    "table = table[1:].reset_index(drop = True)\n",
    "table"
   ]
  },
  {
   "cell_type": "markdown",
   "metadata": {},
   "source": [
    "We can aggregate this whole procedure into a function for later"
   ]
  },
  {
   "cell_type": "code",
   "execution_count": 107,
   "metadata": {},
   "outputs": [],
   "source": [
    "from selenium.webdriver.remote.webelement import WebElement\n",
    "\n",
    "def parse_table_from_element(table_element: WebElement) -> pd.DataFrame:\n",
    "        table_html = table_element.get_attribute(\"outerHTML\")\n",
    "        table = pd.read_html(StringIO(table_html))[0].iloc[:19, 2:]\n",
    "        table = table.rename(columns = dict(zip(table.columns, table.iloc[0, :])))[1:]\n",
    "        return table"
   ]
  },
  {
   "cell_type": "markdown",
   "metadata": {},
   "source": [
    "### Get all elements from all options\n",
    "\n",
    "Now we get ready to loop over all districts. We can list the region options as before. First, we select the dropdown menu"
   ]
  },
  {
   "cell_type": "code",
   "execution_count": 108,
   "metadata": {},
   "outputs": [
    {
     "data": {
      "text/plain": [
       "<selenium.webdriver.remote.webelement.WebElement (session=\"11d68e01-1747-4ebb-ac90-f75c7367371e\", element=\"7a56aff6-d311-4f8a-ba01-f738790a5230\")>"
      ]
     },
     "execution_count": 108,
     "metadata": {},
     "output_type": "execute_result"
    }
   ],
   "source": [
    "regions = driver.find_element( By.ID, 'select_departamento')\n",
    "regions"
   ]
  },
  {
   "cell_type": "code",
   "execution_count": 109,
   "metadata": {},
   "outputs": [
    {
     "name": "stdout",
     "output_type": "stream",
     "text": [
      "--TODOS--\n",
      "AMAZONAS\n",
      "ANCASH\n",
      "APURIMAC\n",
      "AREQUIPA\n",
      "AYACUCHO\n",
      "CAJAMARCA\n",
      "CALLAO\n",
      "CUSCO\n",
      "HUANCAVELICA\n",
      "HUANUCO\n",
      "ICA\n",
      "JUNIN\n",
      "LA LIBERTAD\n",
      "LAMBAYEQUE\n",
      "LIMA\n",
      "LORETO\n",
      "MADRE DE DIOS\n",
      "MOQUEGUA\n",
      "PASCO\n",
      "PIURA\n",
      "PUNO\n",
      "SAN MARTIN\n",
      "TACNA\n",
      "TUMBES\n",
      "UCAYALI\n"
     ]
    }
   ],
   "source": [
    "print(regions.text)"
   ]
  },
  {
   "cell_type": "markdown",
   "metadata": {},
   "source": [
    "We can then work with each option individually"
   ]
  },
  {
   "cell_type": "code",
   "execution_count": 110,
   "metadata": {},
   "outputs": [
    {
     "name": "stdout",
     "output_type": "stream",
     "text": [
      "AMAZONAS\n",
      "ANCASH\n",
      "APURIMAC\n",
      "AREQUIPA\n"
     ]
    }
   ],
   "source": [
    "print(regions.find_elements(By.TAG_NAME,  \"option\")[1].text)\n",
    "print(regions.find_elements(By.TAG_NAME,  \"option\")[2].text)\n",
    "print(regions.find_elements(By.TAG_NAME,  \"option\")[3].text)\n",
    "print(regions.find_elements(By.TAG_NAME,  \"option\")[4].text)\n"
   ]
  },
  {
   "cell_type": "code",
   "execution_count": 111,
   "metadata": {},
   "outputs": [
    {
     "data": {
      "text/plain": [
       "26"
      ]
     },
     "execution_count": 111,
     "metadata": {},
     "output_type": "execute_result"
    }
   ],
   "source": [
    "num_dep =  len(regions.find_elements(By.TAG_NAME,  \"option\"))\n",
    "num_dep"
   ]
  },
  {
   "cell_type": "code",
   "execution_count": 112,
   "metadata": {},
   "outputs": [
    {
     "name": "stdout",
     "output_type": "stream",
     "text": [
      "0: --TODOS--\n",
      "1: AMAZONAS\n",
      "2: ANCASH\n",
      "3: APURIMAC\n",
      "4: AREQUIPA\n",
      "5: AYACUCHO\n",
      "6: CAJAMARCA\n",
      "7: CALLAO\n",
      "8: CUSCO\n",
      "9: HUANCAVELICA\n",
      "10: HUANUCO\n",
      "11: ICA\n",
      "12: JUNIN\n",
      "13: LA LIBERTAD\n",
      "14: LAMBAYEQUE\n",
      "15: LIMA\n",
      "16: LORETO\n",
      "17: MADRE DE DIOS\n",
      "18: MOQUEGUA\n",
      "19: PASCO\n",
      "20: PIURA\n",
      "21: PUNO\n",
      "22: SAN MARTIN\n",
      "23: TACNA\n",
      "24: TUMBES\n",
      "25: UCAYALI\n"
     ]
    }
   ],
   "source": [
    "for index, region in enumerate(regions.find_elements(By.TAG_NAME, \"option\")):\n",
    "        print(f\"{index}:\", region.text)"
   ]
  },
  {
   "cell_type": "markdown",
   "metadata": {},
   "source": [
    "We have to be careful since everytime we make a click, the XPath changes, and the elements we got before we clicked become invalid (\"stale\")."
   ]
  },
  {
   "cell_type": "markdown",
   "metadata": {},
   "source": [
    "### Loop over all departments"
   ]
  },
  {
   "cell_type": "markdown",
   "metadata": {},
   "source": [
    "We start by building the necessary functions to loop over each geographical subdivision and get the tables for every district. The final step of this algorithm is parse the table and add it to a collection of tables that we will later concatenate with `pandas.concat()`. We will ignore the \"--SELECCIONE--\" option, as it does not contain district-level information."
   ]
  },
  {
   "cell_type": "code",
   "execution_count": 113,
   "metadata": {},
   "outputs": [],
   "source": [
    "from selenium.webdriver.remote.webdriver import WebDriver\n",
    "\n",
    "def scrape_district_table(driver: WebDriver, all_tables: list[pd.DataFrame], region_name: str, province_name: str, district_id: int):\n",
    "        districts = driver.find_element(By.ID, \"cod_dist\")\n",
    "        district = districts.find_elements(By.TAG_NAME, \"option\")[district_id]\n",
    "        district_name = district.text\n",
    "\n",
    "        if district_name == \"-- SELECCIONE --\":\n",
    "                return\n",
    "        \n",
    "        district.click()\n",
    "        table_element = driver.find_element(By.ID, \"table1\")\n",
    "        table = parse_table_from_element(table_element)\n",
    "        table[\"DEPARTAMENTO\"] = region_name\n",
    "        table[\"PROVINCIA\"] = province_name\n",
    "        table[\"DISTRITO\"] = district_name\n",
    "        all_tables.append(table)\n",
    "        return\n",
    "\n",
    "\n"
   ]
  },
  {
   "cell_type": "markdown",
   "metadata": {},
   "source": [
    "Now we make a function that will loop over all districts within each province. We must keep in mind that every time we click on a new distric, we must reload the list district options, as it becomes stale. We do this in the function for the district level. In the function for the province level, we only load the list of district options to get the exact number of districts we must loop over. We also ignore the \"--TODOS--\" option."
   ]
  },
  {
   "cell_type": "code",
   "execution_count": 114,
   "metadata": {},
   "outputs": [],
   "source": [
    "from tqdm.notebook import tqdm\n",
    "\n",
    "def scrape_province_tables(driver: WebDriver, all_tables: list[pd.DataFrame], region_name: str, province_id: int):\n",
    "        provinces = driver.find_element(By.ID, \"cod_prov\")\n",
    "        province = provinces.find_elements(By.TAG_NAME, \"option\")[province_id]\n",
    "        province_name = province.text\n",
    "\n",
    "        if province_name == \"--TODOS--\":\n",
    "                return\n",
    "        \n",
    "        province.click()\n",
    "        districts = driver.find_element(By.ID, \"cod_dist\")\n",
    "        district_names = [district.text for district in districts.find_elements(By.TAG_NAME, \"option\")]\n",
    "        num_district_options = len(district_names)\n",
    "\n",
    "        for district_id in (pb := tqdm(range(num_district_options), leave = False)):\n",
    "                pb.set_description(district_names[district_id])\n",
    "                scrape_district_table(driver, all_tables, region_name, province_name, district_id)\n",
    "        \n",
    "        return"
   ]
  },
  {
   "cell_type": "markdown",
   "metadata": {},
   "source": [
    "Finally, we define the procedure at the region level, which is very similar to the procedure for provinces."
   ]
  },
  {
   "cell_type": "code",
   "execution_count": 115,
   "metadata": {},
   "outputs": [],
   "source": [
    "def scrape_region_tables(driver: WebDriver, all_tables: list[pd.DataFrame], region_id: int):\n",
    "        regions = driver.find_element(By.ID, \"select_departamento\")\n",
    "        region = regions.find_elements(By.TAG_NAME, \"option\")[region_id]\n",
    "        region_name = region.text\n",
    "\n",
    "        if region_name == \"--TODOS--\":\n",
    "                return\n",
    "        \n",
    "        region.click()\n",
    "        provinces = driver.find_element(By.ID, \"cod_prov\")\n",
    "        province_names = [province.text for province in provinces.find_elements(By.TAG_NAME, \"option\")]\n",
    "        num_province_options = len(province_names)\n",
    "\n",
    "        for province_id in (pb := tqdm(range(num_province_options), leave = False)):\n",
    "                pb.set_description(province_names[province_id])\n",
    "                scrape_province_tables(driver, all_tables, region_name, province_id)"
   ]
  },
  {
   "cell_type": "markdown",
   "metadata": {},
   "source": [
    "We can now apply our functions. Scraping all regions would take a long time, so we only do it for 5 of the options"
   ]
  },
  {
   "cell_type": "code",
   "execution_count": null,
   "metadata": {},
   "outputs": [
    {
     "data": {
      "application/vnd.jupyter.widget-view+json": {
       "model_id": "78fb792e63794a87b4b3e431646f4d13",
       "version_major": 2,
       "version_minor": 0
      },
      "text/plain": [
       "  0%|          | 0/5 [00:00<?, ?it/s]"
      ]
     },
     "metadata": {},
     "output_type": "display_data"
    },
    {
     "data": {
      "application/vnd.jupyter.widget-view+json": {
       "model_id": "e9d3704920634bfd87f13b276f657422",
       "version_major": 2,
       "version_minor": 0
      },
      "text/plain": [
       "  0%|          | 0/8 [00:00<?, ?it/s]"
      ]
     },
     "metadata": {},
     "output_type": "display_data"
    },
    {
     "data": {
      "application/vnd.jupyter.widget-view+json": {
       "model_id": "62c70741f01e40f89f15a9fca40636ff",
       "version_major": 2,
       "version_minor": 0
      },
      "text/plain": [
       "  0%|          | 0/7 [00:00<?, ?it/s]"
      ]
     },
     "metadata": {},
     "output_type": "display_data"
    },
    {
     "data": {
      "application/vnd.jupyter.widget-view+json": {
       "model_id": "315a956f1d544cfa93fd9ebb1ad5c4cf",
       "version_major": 2,
       "version_minor": 0
      },
      "text/plain": [
       "  0%|          | 0/13 [00:00<?, ?it/s]"
      ]
     },
     "metadata": {},
     "output_type": "display_data"
    },
    {
     "data": {
      "application/vnd.jupyter.widget-view+json": {
       "model_id": "36a48f2a2c474d9a9d5fc87f078e350f",
       "version_major": 2,
       "version_minor": 0
      },
      "text/plain": [
       "  0%|          | 0/22 [00:00<?, ?it/s]"
      ]
     },
     "metadata": {},
     "output_type": "display_data"
    },
    {
     "data": {
      "application/vnd.jupyter.widget-view+json": {
       "model_id": "7dd5727238a9453abfdd9475006d23e4",
       "version_major": 2,
       "version_minor": 0
      },
      "text/plain": [
       "  0%|          | 0/4 [00:00<?, ?it/s]"
      ]
     },
     "metadata": {},
     "output_type": "display_data"
    },
    {
     "data": {
      "application/vnd.jupyter.widget-view+json": {
       "model_id": "0557046336664452b8f18d86e97baaba",
       "version_major": 2,
       "version_minor": 0
      },
      "text/plain": [
       "  0%|          | 0/24 [00:00<?, ?it/s]"
      ]
     },
     "metadata": {},
     "output_type": "display_data"
    },
    {
     "data": {
      "application/vnd.jupyter.widget-view+json": {
       "model_id": "6e4e311eda0d45b6a2add507c1f94ae5",
       "version_major": 2,
       "version_minor": 0
      },
      "text/plain": [
       "  0%|          | 0/13 [00:00<?, ?it/s]"
      ]
     },
     "metadata": {},
     "output_type": "display_data"
    },
    {
     "data": {
      "application/vnd.jupyter.widget-view+json": {
       "model_id": "111177a5fe0341429a3d4fb0076fa921",
       "version_major": 2,
       "version_minor": 0
      },
      "text/plain": [
       "  0%|          | 0/8 [00:00<?, ?it/s]"
      ]
     },
     "metadata": {},
     "output_type": "display_data"
    },
    {
     "data": {
      "application/vnd.jupyter.widget-view+json": {
       "model_id": "df5cf98e7308494ea819c4d5b218327c",
       "version_major": 2,
       "version_minor": 0
      },
      "text/plain": [
       "  0%|          | 0/21 [00:00<?, ?it/s]"
      ]
     },
     "metadata": {},
     "output_type": "display_data"
    },
    {
     "data": {
      "application/vnd.jupyter.widget-view+json": {
       "model_id": "0833f926916b44988b196f62b60a6d26",
       "version_major": 2,
       "version_minor": 0
      },
      "text/plain": [
       "  0%|          | 0/6 [00:00<?, ?it/s]"
      ]
     },
     "metadata": {},
     "output_type": "display_data"
    },
    {
     "data": {
      "application/vnd.jupyter.widget-view+json": {
       "model_id": "98a569e0185e45fcaab53e6786bedf76",
       "version_major": 2,
       "version_minor": 0
      },
      "text/plain": [
       "  0%|          | 0/7 [00:00<?, ?it/s]"
      ]
     },
     "metadata": {},
     "output_type": "display_data"
    },
    {
     "data": {
      "application/vnd.jupyter.widget-view+json": {
       "model_id": "35e38aa786384232a734be1ea4276c0c",
       "version_major": 2,
       "version_minor": 0
      },
      "text/plain": [
       "  0%|          | 0/3 [00:00<?, ?it/s]"
      ]
     },
     "metadata": {},
     "output_type": "display_data"
    },
    {
     "data": {
      "application/vnd.jupyter.widget-view+json": {
       "model_id": "145b30a88b334a028aa11fb7a47f17d9",
       "version_major": 2,
       "version_minor": 0
      },
      "text/plain": [
       "  0%|          | 0/16 [00:00<?, ?it/s]"
      ]
     },
     "metadata": {},
     "output_type": "display_data"
    },
    {
     "data": {
      "application/vnd.jupyter.widget-view+json": {
       "model_id": "ab3e8e82433647b7b717e1e74d0a6979",
       "version_major": 2,
       "version_minor": 0
      },
      "text/plain": [
       "  0%|          | 0/12 [00:00<?, ?it/s]"
      ]
     },
     "metadata": {},
     "output_type": "display_data"
    },
    {
     "data": {
      "application/vnd.jupyter.widget-view+json": {
       "model_id": "208144ddf4974921a26cf9014cc11957",
       "version_major": 2,
       "version_minor": 0
      },
      "text/plain": [
       "  0%|          | 0/4 [00:00<?, ?it/s]"
      ]
     },
     "metadata": {},
     "output_type": "display_data"
    },
    {
     "data": {
      "application/vnd.jupyter.widget-view+json": {
       "model_id": "95476a8066824d37a56995aba45e2346",
       "version_major": 2,
       "version_minor": 0
      },
      "text/plain": [
       "  0%|          | 0/5 [00:00<?, ?it/s]"
      ]
     },
     "metadata": {},
     "output_type": "display_data"
    },
    {
     "data": {
      "application/vnd.jupyter.widget-view+json": {
       "model_id": "87a4d7d5f7bd4282843ed7562882acb7",
       "version_major": 2,
       "version_minor": 0
      },
      "text/plain": [
       "  0%|          | 0/8 [00:00<?, ?it/s]"
      ]
     },
     "metadata": {},
     "output_type": "display_data"
    },
    {
     "data": {
      "application/vnd.jupyter.widget-view+json": {
       "model_id": "4052ce43e55040bab25273d4f090f003",
       "version_major": 2,
       "version_minor": 0
      },
      "text/plain": [
       "  0%|          | 0/13 [00:00<?, ?it/s]"
      ]
     },
     "metadata": {},
     "output_type": "display_data"
    },
    {
     "data": {
      "application/vnd.jupyter.widget-view+json": {
       "model_id": "4b157ce9a3824179ac0fc7df62a19c66",
       "version_major": 2,
       "version_minor": 0
      },
      "text/plain": [
       "  0%|          | 0/17 [00:00<?, ?it/s]"
      ]
     },
     "metadata": {},
     "output_type": "display_data"
    },
    {
     "data": {
      "application/vnd.jupyter.widget-view+json": {
       "model_id": "c224d76529ad434daa47b1f85d9bd7e7",
       "version_major": 2,
       "version_minor": 0
      },
      "text/plain": [
       "  0%|          | 0/6 [00:00<?, ?it/s]"
      ]
     },
     "metadata": {},
     "output_type": "display_data"
    },
    {
     "data": {
      "application/vnd.jupyter.widget-view+json": {
       "model_id": "81c475287f7e44b29af7d7568dad16bb",
       "version_major": 2,
       "version_minor": 0
      },
      "text/plain": [
       "  0%|          | 0/11 [00:00<?, ?it/s]"
      ]
     },
     "metadata": {},
     "output_type": "display_data"
    },
    {
     "data": {
      "application/vnd.jupyter.widget-view+json": {
       "model_id": "41010be9e72d4611aa17405033d9cc3e",
       "version_major": 2,
       "version_minor": 0
      },
      "text/plain": [
       "  0%|          | 0/9 [00:00<?, ?it/s]"
      ]
     },
     "metadata": {},
     "output_type": "display_data"
    },
    {
     "data": {
      "application/vnd.jupyter.widget-view+json": {
       "model_id": "657f6686c1a74ce78eb3bb8189d2fa95",
       "version_major": 2,
       "version_minor": 0
      },
      "text/plain": [
       "  0%|          | 0/11 [00:00<?, ?it/s]"
      ]
     },
     "metadata": {},
     "output_type": "display_data"
    },
    {
     "data": {
      "application/vnd.jupyter.widget-view+json": {
       "model_id": "29069f3313b6484cae10093969148d16",
       "version_major": 2,
       "version_minor": 0
      },
      "text/plain": [
       "  0%|          | 0/12 [00:00<?, ?it/s]"
      ]
     },
     "metadata": {},
     "output_type": "display_data"
    },
    {
     "data": {
      "application/vnd.jupyter.widget-view+json": {
       "model_id": "2711829f369444e7ac67a7ef60de90e5",
       "version_major": 2,
       "version_minor": 0
      },
      "text/plain": [
       "  0%|          | 0/5 [00:00<?, ?it/s]"
      ]
     },
     "metadata": {},
     "output_type": "display_data"
    },
    {
     "data": {
      "application/vnd.jupyter.widget-view+json": {
       "model_id": "9c03638d90fb49d784d400773f034ebe",
       "version_major": 2,
       "version_minor": 0
      },
      "text/plain": [
       "  0%|          | 0/11 [00:00<?, ?it/s]"
      ]
     },
     "metadata": {},
     "output_type": "display_data"
    },
    {
     "data": {
      "application/vnd.jupyter.widget-view+json": {
       "model_id": "640a4403d7734a4eb949053943b89451",
       "version_major": 2,
       "version_minor": 0
      },
      "text/plain": [
       "  0%|          | 0/10 [00:00<?, ?it/s]"
      ]
     },
     "metadata": {},
     "output_type": "display_data"
    },
    {
     "data": {
      "application/vnd.jupyter.widget-view+json": {
       "model_id": "e22670b419614f1cbe58e9d632e49d3a",
       "version_major": 2,
       "version_minor": 0
      },
      "text/plain": [
       "  0%|          | 0/11 [00:00<?, ?it/s]"
      ]
     },
     "metadata": {},
     "output_type": "display_data"
    },
    {
     "data": {
      "application/vnd.jupyter.widget-view+json": {
       "model_id": "9d653e49f4ca492fa67bcf3d44e9c92d",
       "version_major": 2,
       "version_minor": 0
      },
      "text/plain": [
       "  0%|          | 0/9 [00:00<?, ?it/s]"
      ]
     },
     "metadata": {},
     "output_type": "display_data"
    },
    {
     "data": {
      "application/vnd.jupyter.widget-view+json": {
       "model_id": "d4f8c6d4cc6944adb46bcea75630856e",
       "version_major": 2,
       "version_minor": 0
      },
      "text/plain": [
       "  0%|          | 0/8 [00:00<?, ?it/s]"
      ]
     },
     "metadata": {},
     "output_type": "display_data"
    },
    {
     "data": {
      "application/vnd.jupyter.widget-view+json": {
       "model_id": "17579b505328492892d6a29d399d028d",
       "version_major": 2,
       "version_minor": 0
      },
      "text/plain": [
       "  0%|          | 0/10 [00:00<?, ?it/s]"
      ]
     },
     "metadata": {},
     "output_type": "display_data"
    },
    {
     "data": {
      "application/vnd.jupyter.widget-view+json": {
       "model_id": "1546460952cc40dfaf2463b8a197a3ca",
       "version_major": 2,
       "version_minor": 0
      },
      "text/plain": [
       "  0%|          | 0/21 [00:00<?, ?it/s]"
      ]
     },
     "metadata": {},
     "output_type": "display_data"
    },
    {
     "data": {
      "application/vnd.jupyter.widget-view+json": {
       "model_id": "9e7c49fd82224b1da154408e2e129083",
       "version_major": 2,
       "version_minor": 0
      },
      "text/plain": [
       "  0%|          | 0/8 [00:00<?, ?it/s]"
      ]
     },
     "metadata": {},
     "output_type": "display_data"
    },
    {
     "data": {
      "application/vnd.jupyter.widget-view+json": {
       "model_id": "976aa48c470443eca458430da4b467ae",
       "version_major": 2,
       "version_minor": 0
      },
      "text/plain": [
       "  0%|          | 0/18 [00:00<?, ?it/s]"
      ]
     },
     "metadata": {},
     "output_type": "display_data"
    },
    {
     "data": {
      "application/vnd.jupyter.widget-view+json": {
       "model_id": "080beed5a59441d781c4cc2502adaf2e",
       "version_major": 2,
       "version_minor": 0
      },
      "text/plain": [
       "  0%|          | 0/12 [00:00<?, ?it/s]"
      ]
     },
     "metadata": {},
     "output_type": "display_data"
    },
    {
     "data": {
      "application/vnd.jupyter.widget-view+json": {
       "model_id": "e0d9ac1fb9f149aeb5c773e200fbf7b2",
       "version_major": 2,
       "version_minor": 0
      },
      "text/plain": [
       "  0%|          | 0/7 [00:00<?, ?it/s]"
      ]
     },
     "metadata": {},
     "output_type": "display_data"
    },
    {
     "data": {
      "application/vnd.jupyter.widget-view+json": {
       "model_id": "bf5daf7c8b704b36a23cf4f8b1b9cb21",
       "version_major": 2,
       "version_minor": 0
      },
      "text/plain": [
       "  0%|          | 0/15 [00:00<?, ?it/s]"
      ]
     },
     "metadata": {},
     "output_type": "display_data"
    },
    {
     "data": {
      "application/vnd.jupyter.widget-view+json": {
       "model_id": "fe218e107b69433e8c2dab8e59d67e9c",
       "version_major": 2,
       "version_minor": 0
      },
      "text/plain": [
       "  0%|          | 0/9 [00:00<?, ?it/s]"
      ]
     },
     "metadata": {},
     "output_type": "display_data"
    },
    {
     "data": {
      "application/vnd.jupyter.widget-view+json": {
       "model_id": "a6bcfd685ddd49b385c35ff94c7acb1f",
       "version_major": 2,
       "version_minor": 0
      },
      "text/plain": [
       "  0%|          | 0/30 [00:00<?, ?it/s]"
      ]
     },
     "metadata": {},
     "output_type": "display_data"
    },
    {
     "data": {
      "application/vnd.jupyter.widget-view+json": {
       "model_id": "e89b84f55b424a4ab4f0f63a7eeb31c3",
       "version_major": 2,
       "version_minor": 0
      },
      "text/plain": [
       "  0%|          | 0/9 [00:00<?, ?it/s]"
      ]
     },
     "metadata": {},
     "output_type": "display_data"
    },
    {
     "data": {
      "application/vnd.jupyter.widget-view+json": {
       "model_id": "ba56bbf06391439b84414d368baee0c7",
       "version_major": 2,
       "version_minor": 0
      },
      "text/plain": [
       "  0%|          | 0/14 [00:00<?, ?it/s]"
      ]
     },
     "metadata": {},
     "output_type": "display_data"
    },
    {
     "data": {
      "application/vnd.jupyter.widget-view+json": {
       "model_id": "7101a99b988b46d3bb3b825a9b4ebe79",
       "version_major": 2,
       "version_minor": 0
      },
      "text/plain": [
       "  0%|          | 0/15 [00:00<?, ?it/s]"
      ]
     },
     "metadata": {},
     "output_type": "display_data"
    },
    {
     "data": {
      "application/vnd.jupyter.widget-view+json": {
       "model_id": "27236171980146e9b1245ba68f4447db",
       "version_major": 2,
       "version_minor": 0
      },
      "text/plain": [
       "  0%|          | 0/21 [00:00<?, ?it/s]"
      ]
     },
     "metadata": {},
     "output_type": "display_data"
    },
    {
     "data": {
      "application/vnd.jupyter.widget-view+json": {
       "model_id": "10bc67b20e4248cbbe526fc26bdc6120",
       "version_major": 2,
       "version_minor": 0
      },
      "text/plain": [
       "  0%|          | 0/9 [00:00<?, ?it/s]"
      ]
     },
     "metadata": {},
     "output_type": "display_data"
    },
    {
     "data": {
      "application/vnd.jupyter.widget-view+json": {
       "model_id": "8dd54996cfcd41c7b59fc7daf0e974fc",
       "version_major": 2,
       "version_minor": 0
      },
      "text/plain": [
       "  0%|          | 0/7 [00:00<?, ?it/s]"
      ]
     },
     "metadata": {},
     "output_type": "display_data"
    },
    {
     "data": {
      "application/vnd.jupyter.widget-view+json": {
       "model_id": "3fd8edc6151f436880e18df384383a7a",
       "version_major": 2,
       "version_minor": 0
      },
      "text/plain": [
       "  0%|          | 0/12 [00:00<?, ?it/s]"
      ]
     },
     "metadata": {},
     "output_type": "display_data"
    }
   ],
   "source": [
    "all_tables = []\n",
    "\n",
    "regions = driver.find_element(By.ID, \"select_departamento\")\n",
    "region_names = [region.text for region in regions.find_elements(By.TAG_NAME, \"option\")]\n",
    "\n",
    "for region_id in (pb := tqdm(range(5), leave = False)):\n",
    "        pb.set_description(region_names[region_id]) \n",
    "        scrape_region_tables(driver, all_tables, region_id)\n",
    "\n",
    "print(\"FINISHED!\")"
   ]
  },
  {
   "cell_type": "code",
   "execution_count": 117,
   "metadata": {},
   "outputs": [
    {
     "data": {
      "text/html": [
       "<div>\n",
       "<style scoped>\n",
       "    .dataframe tbody tr th:only-of-type {\n",
       "        vertical-align: middle;\n",
       "    }\n",
       "\n",
       "    .dataframe tbody tr th {\n",
       "        vertical-align: top;\n",
       "    }\n",
       "\n",
       "    .dataframe thead th {\n",
       "        text-align: right;\n",
       "    }\n",
       "</style>\n",
       "<table border=\"1\" class=\"dataframe\">\n",
       "  <thead>\n",
       "    <tr style=\"text-align: right;\">\n",
       "      <th></th>\n",
       "      <th>ORGANIZACIONES POLÍTICAS</th>\n",
       "      <th>TOTAL</th>\n",
       "      <th>%VÁLIDOS</th>\n",
       "      <th>%EMITIDOS</th>\n",
       "      <th>DEPARTAMENTO</th>\n",
       "      <th>PROVINCIA</th>\n",
       "      <th>DISTRITO</th>\n",
       "    </tr>\n",
       "  </thead>\n",
       "  <tbody>\n",
       "    <tr>\n",
       "      <th>0</th>\n",
       "      <td>PARTIDO NACIONALISTA PERUANO</td>\n",
       "      <td>356</td>\n",
       "      <td>9.327%</td>\n",
       "      <td>6.389%</td>\n",
       "      <td>AMAZONAS</td>\n",
       "      <td>BAGUA</td>\n",
       "      <td>ARAMANGO</td>\n",
       "    </tr>\n",
       "    <tr>\n",
       "      <th>1</th>\n",
       "      <td>EL FRENTE AMPLIO POR JUSTICIA, VIDA Y LIBERTAD</td>\n",
       "      <td>13</td>\n",
       "      <td>0.341%</td>\n",
       "      <td>0.233%</td>\n",
       "      <td>AMAZONAS</td>\n",
       "      <td>BAGUA</td>\n",
       "      <td>ARAMANGO</td>\n",
       "    </tr>\n",
       "    <tr>\n",
       "      <th>2</th>\n",
       "      <td>PARTIDO MORADO</td>\n",
       "      <td>41</td>\n",
       "      <td>1.074%</td>\n",
       "      <td>0.736%</td>\n",
       "      <td>AMAZONAS</td>\n",
       "      <td>BAGUA</td>\n",
       "      <td>ARAMANGO</td>\n",
       "    </tr>\n",
       "    <tr>\n",
       "      <th>3</th>\n",
       "      <td>PERU PATRIA SEGURA</td>\n",
       "      <td>4</td>\n",
       "      <td>0.105%</td>\n",
       "      <td>0.072%</td>\n",
       "      <td>AMAZONAS</td>\n",
       "      <td>BAGUA</td>\n",
       "      <td>ARAMANGO</td>\n",
       "    </tr>\n",
       "    <tr>\n",
       "      <th>4</th>\n",
       "      <td>VICTORIA NACIONAL</td>\n",
       "      <td>151</td>\n",
       "      <td>3.956%</td>\n",
       "      <td>2.710%</td>\n",
       "      <td>AMAZONAS</td>\n",
       "      <td>BAGUA</td>\n",
       "      <td>ARAMANGO</td>\n",
       "    </tr>\n",
       "    <tr>\n",
       "      <th>...</th>\n",
       "      <td>...</td>\n",
       "      <td>...</td>\n",
       "      <td>...</td>\n",
       "      <td>...</td>\n",
       "      <td>...</td>\n",
       "      <td>...</td>\n",
       "      <td>...</td>\n",
       "    </tr>\n",
       "    <tr>\n",
       "      <th>7969</th>\n",
       "      <td>RENACIMIENTO UNIDO NACIONAL</td>\n",
       "      <td>3</td>\n",
       "      <td>1.648%</td>\n",
       "      <td>1.154%</td>\n",
       "      <td>AREQUIPA</td>\n",
       "      <td>LA UNION</td>\n",
       "      <td>TORO</td>\n",
       "    </tr>\n",
       "    <tr>\n",
       "      <th>7970</th>\n",
       "      <td>PARTIDO DEMOCRATICO SOMOS PERU</td>\n",
       "      <td>5</td>\n",
       "      <td>2.747%</td>\n",
       "      <td>1.923%</td>\n",
       "      <td>AREQUIPA</td>\n",
       "      <td>LA UNION</td>\n",
       "      <td>TORO</td>\n",
       "    </tr>\n",
       "    <tr>\n",
       "      <th>7971</th>\n",
       "      <td>PARTIDO POLITICO NACIONAL PERU LIBRE</td>\n",
       "      <td>64</td>\n",
       "      <td>35.165%</td>\n",
       "      <td>24.615%</td>\n",
       "      <td>AREQUIPA</td>\n",
       "      <td>LA UNION</td>\n",
       "      <td>TORO</td>\n",
       "    </tr>\n",
       "    <tr>\n",
       "      <th>7972</th>\n",
       "      <td>DEMOCRACIA DIRECTA</td>\n",
       "      <td>0</td>\n",
       "      <td>0.000%</td>\n",
       "      <td>0.000%</td>\n",
       "      <td>AREQUIPA</td>\n",
       "      <td>LA UNION</td>\n",
       "      <td>TORO</td>\n",
       "    </tr>\n",
       "    <tr>\n",
       "      <th>7973</th>\n",
       "      <td>ALIANZA PARA EL PROGRESO</td>\n",
       "      <td>1</td>\n",
       "      <td>0.549%</td>\n",
       "      <td>0.385%</td>\n",
       "      <td>AREQUIPA</td>\n",
       "      <td>LA UNION</td>\n",
       "      <td>TORO</td>\n",
       "    </tr>\n",
       "  </tbody>\n",
       "</table>\n",
       "<p>7974 rows × 7 columns</p>\n",
       "</div>"
      ],
      "text/plain": [
       "                            ORGANIZACIONES POLÍTICAS TOTAL %VÁLIDOS %EMITIDOS  \\\n",
       "0                       PARTIDO NACIONALISTA PERUANO   356   9.327%    6.389%   \n",
       "1     EL FRENTE AMPLIO POR JUSTICIA, VIDA Y LIBERTAD    13   0.341%    0.233%   \n",
       "2                                     PARTIDO MORADO    41   1.074%    0.736%   \n",
       "3                                 PERU PATRIA SEGURA     4   0.105%    0.072%   \n",
       "4                                  VICTORIA NACIONAL   151   3.956%    2.710%   \n",
       "...                                              ...   ...      ...       ...   \n",
       "7969                     RENACIMIENTO UNIDO NACIONAL     3   1.648%    1.154%   \n",
       "7970                  PARTIDO DEMOCRATICO SOMOS PERU     5   2.747%    1.923%   \n",
       "7971            PARTIDO POLITICO NACIONAL PERU LIBRE    64  35.165%   24.615%   \n",
       "7972                              DEMOCRACIA DIRECTA     0   0.000%    0.000%   \n",
       "7973                        ALIANZA PARA EL PROGRESO     1   0.549%    0.385%   \n",
       "\n",
       "     DEPARTAMENTO PROVINCIA  DISTRITO  \n",
       "0        AMAZONAS     BAGUA  ARAMANGO  \n",
       "1        AMAZONAS     BAGUA  ARAMANGO  \n",
       "2        AMAZONAS     BAGUA  ARAMANGO  \n",
       "3        AMAZONAS     BAGUA  ARAMANGO  \n",
       "4        AMAZONAS     BAGUA  ARAMANGO  \n",
       "...           ...       ...       ...  \n",
       "7969     AREQUIPA  LA UNION      TORO  \n",
       "7970     AREQUIPA  LA UNION      TORO  \n",
       "7971     AREQUIPA  LA UNION      TORO  \n",
       "7972     AREQUIPA  LA UNION      TORO  \n",
       "7973     AREQUIPA  LA UNION      TORO  \n",
       "\n",
       "[7974 rows x 7 columns]"
      ]
     },
     "execution_count": 117,
     "metadata": {},
     "output_type": "execute_result"
    }
   ],
   "source": [
    "master = pd.concat(all_tables).reset_index(drop = True)\n",
    "master"
   ]
  },
  {
   "cell_type": "code",
   "execution_count": 118,
   "metadata": {},
   "outputs": [],
   "source": [
    "master.to_csv(\"_data_results/presidential_election_results.csv\", index = False)"
   ]
  },
  {
   "cell_type": "markdown",
   "metadata": {},
   "source": [
    "The following is a version of the code that achieves the same thing but without aggregating the nested loops into functios. For the sake of having clean and understandable code, it is advised to aggregate nested loops into functions to get clearer picture of the steps our algorithms follow. A useful rule of thumb is \"each function should do one thing,\" derived from GNU's principle \"each program should do one thing and do it well.\" This is only a guideline and can be broken in some circumstances, but it is very helpful to keep it in mind when working with complex algorithms with nested control sequences."
   ]
  },
  {
   "cell_type": "code",
   "execution_count": 119,
   "metadata": {},
   "outputs": [
    {
     "data": {
      "text/plain": [
       "26"
      ]
     },
     "execution_count": 119,
     "metadata": {},
     "output_type": "execute_result"
    }
   ],
   "source": [
    "# Store all_tables\n",
    "all_tables = []\n",
    "\n",
    "driver.get(url_1)\n",
    "\n",
    "time.sleep(1)\n",
    "\n",
    "resumen_general = driver.find_element( By.XPATH, '/html/body/onpe-root/onpe-home-onpe/div[1]/div/div/div/div[2]/div[2]/div/div/a/div[1]/img' )\n",
    "resumen_general.click()\n",
    "\n",
    "driver.find_elements( By.CLASS_NAME, 'btn_rojo')[1].click()\n",
    "\n",
    "opt_peru = driver.find_element( By.XPATH, '/html/body/onpe-root/onpe-layout-container/onpe-onpe-epres-re/div[1]/div[3]/div[1]/div[1]/div/div/div/select/option[2]')\n",
    "opt_peru.click()\n",
    "\n",
    "dept_0 = driver.find_element(By.ID, \"select_departamento\")\n",
    "num_regions = len(dept_0.find_elements( By.TAG_NAME, \"option\"))\n",
    "\n",
    "num_regions"
   ]
  },
  {
   "cell_type": "code",
   "execution_count": 120,
   "metadata": {},
   "outputs": [],
   "source": [
    "from selenium.webdriver.support.ui import WebDriverWait\n",
    "\n",
    "all_tables = []\n",
    "\n",
    "for region_id in range(3):\n",
    "        opt_peru = driver.find_element(By.XPATH, '/html/body/onpe-root/onpe-layout-container/onpe-onpe-epres-re/div[1]/div[3]/div[1]/div[1]/div/div/div/select/option[2]')\n",
    "        opt_peru.click()\n",
    "        dept_select = driver.find_element(By.ID, \"select_departamento\")\n",
    "        region = dept_select.find_elements( By.TAG_NAME, \"option\")[region_id]\n",
    "        dpt_name = region.text\n",
    "\n",
    "        if dpt_name != \"--TODOS--\":\n",
    "                region.click()\n",
    "                provinces = driver.find_element(By.ID, \"cod_prov\")\n",
    "                num_province_options = len(provinces.find_elements(By.TAG_NAME, \"option\"))\n",
    "                \n",
    "                for province_id in range(num_province_options):\n",
    "                        provinces = driver.find_element(By.ID, \"cod_prov\")\n",
    "                        province = provinces.find_elements(By.TAG_NAME, \"option\")[province_id]\n",
    "                        province_name = province.text\n",
    "                        \n",
    "                        if province_name != \"--TODOS--\":\n",
    "                                province.click()\n",
    "                                districts = driver.find_element(By.ID, \"cod_dist\")\n",
    "                                num_district_options = len(districts.find_elements(By.TAG_NAME, \"option\"))\n",
    "\n",
    "                                for district_id in range(num_district_options):\n",
    "                                        districts = driver.find_element(By.ID, \"cod_dist\")\n",
    "                                        district = districts.find_elements(By.TAG_NAME, \"option\")[district_id]\n",
    "                                        district_name = district.text\n",
    "                                        \n",
    "                                        if district_name != \"-- SELECCIONE --\":\n",
    "                                                district.click()\n",
    "                                                table_element = driver.find_element(By.ID, \"table1\")\n",
    "                                                table = parse_table_from_element(table_element)\n",
    "                                                table[\"DEPARTAMENTO\"] = dpt_name\n",
    "                                                table[\"PROVINCIA\"] = province_name\n",
    "                                                table[\"DISTRITO\"] = district_name\n",
    "                                                all_tables.append(table)\n",
    "                "
   ]
  },
  {
   "cell_type": "code",
   "execution_count": 121,
   "metadata": {},
   "outputs": [
    {
     "data": {
      "text/html": [
       "<div>\n",
       "<style scoped>\n",
       "    .dataframe tbody tr th:only-of-type {\n",
       "        vertical-align: middle;\n",
       "    }\n",
       "\n",
       "    .dataframe tbody tr th {\n",
       "        vertical-align: top;\n",
       "    }\n",
       "\n",
       "    .dataframe thead th {\n",
       "        text-align: right;\n",
       "    }\n",
       "</style>\n",
       "<table border=\"1\" class=\"dataframe\">\n",
       "  <thead>\n",
       "    <tr style=\"text-align: right;\">\n",
       "      <th></th>\n",
       "      <th>ORGANIZACIONES POLÍTICAS</th>\n",
       "      <th>TOTAL</th>\n",
       "      <th>%VÁLIDOS</th>\n",
       "      <th>%EMITIDOS</th>\n",
       "      <th>DEPARTAMENTO</th>\n",
       "      <th>PROVINCIA</th>\n",
       "      <th>DISTRITO</th>\n",
       "    </tr>\n",
       "  </thead>\n",
       "  <tbody>\n",
       "    <tr>\n",
       "      <th>1</th>\n",
       "      <td>PARTIDO NACIONALISTA PERUANO</td>\n",
       "      <td>356</td>\n",
       "      <td>9.327%</td>\n",
       "      <td>6.389%</td>\n",
       "      <td>AMAZONAS</td>\n",
       "      <td>BAGUA</td>\n",
       "      <td>ARAMANGO</td>\n",
       "    </tr>\n",
       "    <tr>\n",
       "      <th>2</th>\n",
       "      <td>EL FRENTE AMPLIO POR JUSTICIA, VIDA Y LIBERTAD</td>\n",
       "      <td>13</td>\n",
       "      <td>0.341%</td>\n",
       "      <td>0.233%</td>\n",
       "      <td>AMAZONAS</td>\n",
       "      <td>BAGUA</td>\n",
       "      <td>ARAMANGO</td>\n",
       "    </tr>\n",
       "    <tr>\n",
       "      <th>3</th>\n",
       "      <td>PARTIDO MORADO</td>\n",
       "      <td>41</td>\n",
       "      <td>1.074%</td>\n",
       "      <td>0.736%</td>\n",
       "      <td>AMAZONAS</td>\n",
       "      <td>BAGUA</td>\n",
       "      <td>ARAMANGO</td>\n",
       "    </tr>\n",
       "    <tr>\n",
       "      <th>4</th>\n",
       "      <td>PERU PATRIA SEGURA</td>\n",
       "      <td>4</td>\n",
       "      <td>0.105%</td>\n",
       "      <td>0.072%</td>\n",
       "      <td>AMAZONAS</td>\n",
       "      <td>BAGUA</td>\n",
       "      <td>ARAMANGO</td>\n",
       "    </tr>\n",
       "    <tr>\n",
       "      <th>5</th>\n",
       "      <td>VICTORIA NACIONAL</td>\n",
       "      <td>151</td>\n",
       "      <td>3.956%</td>\n",
       "      <td>2.710%</td>\n",
       "      <td>AMAZONAS</td>\n",
       "      <td>BAGUA</td>\n",
       "      <td>ARAMANGO</td>\n",
       "    </tr>\n",
       "    <tr>\n",
       "      <th>...</th>\n",
       "      <td>...</td>\n",
       "      <td>...</td>\n",
       "      <td>...</td>\n",
       "      <td>...</td>\n",
       "      <td>...</td>\n",
       "      <td>...</td>\n",
       "      <td>...</td>\n",
       "    </tr>\n",
       "    <tr>\n",
       "      <th>14</th>\n",
       "      <td>RENACIMIENTO UNIDO NACIONAL</td>\n",
       "      <td>59</td>\n",
       "      <td>0.687%</td>\n",
       "      <td>0.489%</td>\n",
       "      <td>ANCASH</td>\n",
       "      <td>YUNGAY</td>\n",
       "      <td>YUNGAY</td>\n",
       "    </tr>\n",
       "    <tr>\n",
       "      <th>15</th>\n",
       "      <td>PARTIDO DEMOCRATICO SOMOS PERU</td>\n",
       "      <td>114</td>\n",
       "      <td>1.328%</td>\n",
       "      <td>0.946%</td>\n",
       "      <td>ANCASH</td>\n",
       "      <td>YUNGAY</td>\n",
       "      <td>YUNGAY</td>\n",
       "    </tr>\n",
       "    <tr>\n",
       "      <th>16</th>\n",
       "      <td>PARTIDO POLITICO NACIONAL PERU LIBRE</td>\n",
       "      <td>3696</td>\n",
       "      <td>43.062%</td>\n",
       "      <td>30.659%</td>\n",
       "      <td>ANCASH</td>\n",
       "      <td>YUNGAY</td>\n",
       "      <td>YUNGAY</td>\n",
       "    </tr>\n",
       "    <tr>\n",
       "      <th>17</th>\n",
       "      <td>DEMOCRACIA DIRECTA</td>\n",
       "      <td>16</td>\n",
       "      <td>0.186%</td>\n",
       "      <td>0.133%</td>\n",
       "      <td>ANCASH</td>\n",
       "      <td>YUNGAY</td>\n",
       "      <td>YUNGAY</td>\n",
       "    </tr>\n",
       "    <tr>\n",
       "      <th>18</th>\n",
       "      <td>ALIANZA PARA EL PROGRESO</td>\n",
       "      <td>473</td>\n",
       "      <td>5.511%</td>\n",
       "      <td>3.924%</td>\n",
       "      <td>ANCASH</td>\n",
       "      <td>YUNGAY</td>\n",
       "      <td>YUNGAY</td>\n",
       "    </tr>\n",
       "  </tbody>\n",
       "</table>\n",
       "<p>4500 rows × 7 columns</p>\n",
       "</div>"
      ],
      "text/plain": [
       "                          ORGANIZACIONES POLÍTICAS TOTAL %VÁLIDOS %EMITIDOS  \\\n",
       "1                     PARTIDO NACIONALISTA PERUANO   356   9.327%    6.389%   \n",
       "2   EL FRENTE AMPLIO POR JUSTICIA, VIDA Y LIBERTAD    13   0.341%    0.233%   \n",
       "3                                   PARTIDO MORADO    41   1.074%    0.736%   \n",
       "4                               PERU PATRIA SEGURA     4   0.105%    0.072%   \n",
       "5                                VICTORIA NACIONAL   151   3.956%    2.710%   \n",
       "..                                             ...   ...      ...       ...   \n",
       "14                     RENACIMIENTO UNIDO NACIONAL    59   0.687%    0.489%   \n",
       "15                  PARTIDO DEMOCRATICO SOMOS PERU   114   1.328%    0.946%   \n",
       "16            PARTIDO POLITICO NACIONAL PERU LIBRE  3696  43.062%   30.659%   \n",
       "17                              DEMOCRACIA DIRECTA    16   0.186%    0.133%   \n",
       "18                        ALIANZA PARA EL PROGRESO   473   5.511%    3.924%   \n",
       "\n",
       "   DEPARTAMENTO PROVINCIA  DISTRITO  \n",
       "1      AMAZONAS     BAGUA  ARAMANGO  \n",
       "2      AMAZONAS     BAGUA  ARAMANGO  \n",
       "3      AMAZONAS     BAGUA  ARAMANGO  \n",
       "4      AMAZONAS     BAGUA  ARAMANGO  \n",
       "5      AMAZONAS     BAGUA  ARAMANGO  \n",
       "..          ...       ...       ...  \n",
       "14       ANCASH    YUNGAY    YUNGAY  \n",
       "15       ANCASH    YUNGAY    YUNGAY  \n",
       "16       ANCASH    YUNGAY    YUNGAY  \n",
       "17       ANCASH    YUNGAY    YUNGAY  \n",
       "18       ANCASH    YUNGAY    YUNGAY  \n",
       "\n",
       "[4500 rows x 7 columns]"
      ]
     },
     "execution_count": 121,
     "metadata": {},
     "output_type": "execute_result"
    }
   ],
   "source": [
    "pd.concat(all_tables)"
   ]
  },
  {
   "cell_type": "code",
   "execution_count": 122,
   "metadata": {},
   "outputs": [],
   "source": [
    "final_data = pd.concat( all_tables).reset_index( drop = True )"
   ]
  },
  {
   "cell_type": "code",
   "execution_count": 123,
   "metadata": {},
   "outputs": [],
   "source": [
    "final_data.to_excel( '_data_results/presidential_election_results.xlsx' , index = False )"
   ]
  },
  {
   "cell_type": "markdown",
   "metadata": {},
   "source": [
    "Now that we are all done, we quit the driver"
   ]
  },
  {
   "cell_type": "code",
   "execution_count": 124,
   "metadata": {},
   "outputs": [],
   "source": [
    "driver.quit()"
   ]
  }
 ],
 "metadata": {
  "hide_input": false,
  "kernelspec": {
   "display_name": "env",
   "language": "python",
   "name": "python3"
  },
  "language_info": {
   "codemirror_mode": {
    "name": "ipython",
    "version": 3
   },
   "file_extension": ".py",
   "mimetype": "text/x-python",
   "name": "python",
   "nbconvert_exporter": "python",
   "pygments_lexer": "ipython3",
   "version": "3.11.5"
  },
  "toc": {
   "base_numbering": 1,
   "nav_menu": {},
   "number_sections": true,
   "sideBar": true,
   "skip_h1_title": false,
   "title_cell": "Table of Contents",
   "title_sidebar": "Contents",
   "toc_cell": false,
   "toc_position": {},
   "toc_section_display": true,
   "toc_window_display": false
  }
 },
 "nbformat": 4,
 "nbformat_minor": 4
}
