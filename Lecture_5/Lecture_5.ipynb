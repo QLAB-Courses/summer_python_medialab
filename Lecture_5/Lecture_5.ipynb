{
 "cells": [
  {
   "cell_type": "code",
   "execution_count": 1,
   "metadata": {},
   "outputs": [],
   "source": [
    "import pickle\n",
    "import pandas as pd\n",
    "import numpy as np"
   ]
  },
  {
   "cell_type": "markdown",
   "metadata": {},
   "source": [
    "# 5. Functions and Class\n",
    "In this class we will cover everything related to creating functions and clases in Python."
   ]
  },
  {
   "cell_type": "markdown",
   "metadata": {},
   "source": [
    "- <a href='##5.1.'>5.1. Functions</a>\n",
    "     - <a href='##5.1.1.'>5.1.1. The Importance of Python Functions </a> \n",
    "     - <a href='##5.1.2.'>5.1.2. Basic structure of a function </a> \n",
    "     - <a href='##5.1.3.'>5.1.3. Function without `return` function </a> \n",
    "     - <a href='##5.1.5.'>5.1.5. Multiple objects for return </a> \n",
    "     - <a href='##5.1.5.'>5.1.5. If condition with return </a>\n",
    "     - <a href='##5.1.6.'>5.1.6. Default values to parameters </a> \n",
    "     - <a href='##5.1.7.'>5.1.7. Specify the type of a parameter and the type of the return type of a function </a> \n",
    "     - <a href='##5.1.8.'>5.1.8. Local variables VS Global variables </a> \n",
    "     - <a href='##5.1.9.'>5.1.9. Args </a> \n",
    "     - <a href='##5.1.10.'>5.1.10. Kwargs </a> \n",
    "- <a href='##5.2.'>5.2. Class </a> \n",
    "     - <a href='##5.2.1.'>5.2.1. The Importance of Python Classes </a> \n",
    "     - <a href='##5.2.2.'> 5.2.2. Defining a class </a> \n",
    "     - <a href='##5.2.3.'> 5.2.3. Attributes </a> \n",
    "     - <a href='##5.2.5.'> 5.2.5. Method </a>\n",
    "     - <a href='##5.2.6.'> 5.2.6. \\_\\_init\\_\\_() </a>\n",
    "     - <a href='##5.2.7.'> 5.2.7. Self </a>\n",
    "- <a href='##5.3.'>5.3. References </a>  "
   ]
  },
  {
   "cell_type": "markdown",
   "metadata": {},
   "source": [
    "##  <a id='#5.1.'>5.1. Functions</a>"
   ]
  },
  {
   "cell_type": "markdown",
   "metadata": {},
   "source": [
    "### <a id = '#5.1.1.'> 5.1.1.The Importance of Python Functions </a> "
   ]
  },
  {
   "cell_type": "markdown",
   "metadata": {},
   "source": [
    "- Abstraction and Reusability: Replicate the code you will use over and over again.\n",
    "- Modularity: Functions allow complex processes to be broken up into smaller steps.\n",
    "- Namespace Separation: It allows you to use variables  and used within a Python function even if they have the same name as variables defined in other functions or in the main program. "
   ]
  },
  {
   "cell_type": "markdown",
   "metadata": {},
   "source": [
    "### <a id='#5.1.2.'> 5.1.2. Basic structure of a function </a> \n",
    "A function requires **parameters**, **code** to execute and the **return** function. The **def** keyword introduces a new Python function definition.\n",
    "\n",
    "This is the basic structure:\n",
    "<br><br>\n",
    "\n",
    "<font size=\"4\">\n",
    "def name_function<font color='green'>( parameter1, parameter2 )</font>: <br> <br>\n",
    "&nbsp;&nbsp;&nbsp;&nbsp;Code<br><br>\n",
    "&nbsp;&nbsp;&nbsp;&nbsp;<font color='green'>return</font> final_output<br>\n",
    "</font>"
   ]
  },
  {
   "cell_type": "code",
   "execution_count": 1,
   "metadata": {},
   "outputs": [],
   "source": [
    "import numpy as np"
   ]
  },
  {
   "cell_type": "code",
   "execution_count": 3,
   "metadata": {},
   "outputs": [],
   "source": [
    "x = 10"
   ]
  },
  {
   "cell_type": "code",
   "execution_count": 6,
   "metadata": {},
   "outputs": [],
   "source": [
    "b = 5 "
   ]
  },
  {
   "cell_type": "code",
   "execution_count": 9,
   "metadata": {},
   "outputs": [],
   "source": [
    "c = 10 "
   ]
  },
  {
   "cell_type": "code",
   "execution_count": 10,
   "metadata": {},
   "outputs": [
    {
     "data": {
      "text/plain": [
       "160"
      ]
     },
     "execution_count": 10,
     "metadata": {},
     "output_type": "execute_result"
    }
   ],
   "source": [
    "x**2 + 10 + 50"
   ]
  },
  {
   "cell_type": "code",
   "execution_count": 11,
   "metadata": {},
   "outputs": [
    {
     "data": {
      "text/plain": [
       "85"
      ]
     },
     "execution_count": 11,
     "metadata": {},
     "output_type": "execute_result"
    }
   ],
   "source": [
    "b**2 + 10 + 50 "
   ]
  },
  {
   "cell_type": "code",
   "execution_count": 12,
   "metadata": {},
   "outputs": [
    {
     "data": {
      "text/plain": [
       "160"
      ]
     },
     "execution_count": 12,
     "metadata": {},
     "output_type": "execute_result"
    }
   ],
   "source": [
    "c**2 + 10 + 50 "
   ]
  },
  {
   "cell_type": "code",
   "execution_count": 22,
   "metadata": {},
   "outputs": [],
   "source": [
    "def edit_text(y):\n",
    "    string = \"{} is a student in PUCP\".format(y)\n",
    "    return string"
   ]
  },
  {
   "cell_type": "code",
   "execution_count": 24,
   "metadata": {},
   "outputs": [
    {
     "data": {
      "text/plain": [
       "'Maribel is a student in PUCP'"
      ]
     },
     "execution_count": 24,
     "metadata": {},
     "output_type": "execute_result"
    }
   ],
   "source": [
    "edit_text(y = \"Maribel\")"
   ]
  },
  {
   "cell_type": "code",
   "execution_count": 26,
   "metadata": {},
   "outputs": [],
   "source": [
    "def calculate( z, y ):\n",
    "    value = z**2 + 10 + y*50\n",
    "    return value"
   ]
  },
  {
   "cell_type": "code",
   "execution_count": 28,
   "metadata": {},
   "outputs": [
    {
     "data": {
      "text/plain": [
       "535"
      ]
     },
     "execution_count": 28,
     "metadata": {},
     "output_type": "execute_result"
    }
   ],
   "source": [
    "calculate(z=5, y=10)"
   ]
  },
  {
   "cell_type": "code",
   "execution_count": 15,
   "metadata": {},
   "outputs": [
    {
     "data": {
      "text/plain": [
       "85"
      ]
     },
     "execution_count": 15,
     "metadata": {},
     "output_type": "execute_result"
    }
   ],
   "source": [
    "calculate(z=5)"
   ]
  },
  {
   "cell_type": "code",
   "execution_count": 16,
   "metadata": {},
   "outputs": [
    {
     "data": {
      "text/plain": [
       "160"
      ]
     },
     "execution_count": 16,
     "metadata": {},
     "output_type": "execute_result"
    }
   ],
   "source": [
    "calculate(z=10)"
   ]
  },
  {
   "cell_type": "code",
   "execution_count": 2,
   "metadata": {},
   "outputs": [
    {
     "data": {
      "text/plain": [
       "25"
      ]
     },
     "execution_count": 2,
     "metadata": {},
     "output_type": "execute_result"
    }
   ],
   "source": [
    "5**2"
   ]
  },
  {
   "cell_type": "code",
   "execution_count": 5,
   "metadata": {},
   "outputs": [],
   "source": [
    "def power(x):\n",
    "    # code\n",
    "    xsq = x**2\n",
    "    \n",
    "    return xsq"
   ]
  },
  {
   "cell_type": "code",
   "execution_count": 6,
   "metadata": {},
   "outputs": [
    {
     "data": {
      "text/plain": [
       "49"
      ]
     },
     "execution_count": 6,
     "metadata": {},
     "output_type": "execute_result"
    }
   ],
   "source": [
    "power(x=7)"
   ]
  },
  {
   "cell_type": "code",
   "execution_count": 7,
   "metadata": {},
   "outputs": [],
   "source": [
    "def calculator(x, y):\n",
    "    # code\n",
    "    mult = x * y\n",
    "    \n",
    "    return mult"
   ]
  },
  {
   "cell_type": "code",
   "execution_count": 10,
   "metadata": {},
   "outputs": [],
   "source": [
    "import numpy as np"
   ]
  },
  {
   "cell_type": "code",
   "execution_count": 8,
   "metadata": {},
   "outputs": [
    {
     "data": {
      "text/plain": [
       "500"
      ]
     },
     "execution_count": 8,
     "metadata": {},
     "output_type": "execute_result"
    }
   ],
   "source": [
    "calculator(x=10, y=50)"
   ]
  },
  {
   "cell_type": "code",
   "execution_count": 25,
   "metadata": {},
   "outputs": [],
   "source": [
    "def calculator(x, y, z, p):\n",
    "    # code\n",
    "    vanessa = x * y * z * p\n",
    "    \n",
    "    return vanessa"
   ]
  },
  {
   "cell_type": "code",
   "execution_count": 22,
   "metadata": {},
   "outputs": [
    {
     "data": {
      "text/plain": [
       "2400"
      ]
     },
     "execution_count": 22,
     "metadata": {},
     "output_type": "execute_result"
    }
   ],
   "source": [
    "calculator(x= 10, y=5, z=2, p=24)"
   ]
  },
  {
   "cell_type": "code",
   "execution_count": 23,
   "metadata": {},
   "outputs": [
    {
     "data": {
      "text/plain": [
       "2400"
      ]
     },
     "execution_count": 23,
     "metadata": {},
     "output_type": "execute_result"
    }
   ],
   "source": [
    "calculator( 10, 5, 2, 24)"
   ]
  },
  {
   "cell_type": "code",
   "execution_count": 24,
   "metadata": {},
   "outputs": [
    {
     "data": {
      "text/plain": [
       "2400"
      ]
     },
     "execution_count": 24,
     "metadata": {},
     "output_type": "execute_result"
    }
   ],
   "source": [
    "calculator( p=24,z=2, x= 10, y=5)"
   ]
  },
  {
   "cell_type": "code",
   "execution_count": null,
   "metadata": {},
   "outputs": [],
   "source": [
    "vec_1= np.arange(0, 10)\n",
    "vec_2 = np.arange(0, 10)"
   ]
  },
  {
   "cell_type": "code",
   "execution_count": 15,
   "metadata": {},
   "outputs": [
    {
     "data": {
      "text/plain": [
       "array([0, 1, 2, 3, 4, 5, 6, 7, 8, 9])"
      ]
     },
     "execution_count": 15,
     "metadata": {},
     "output_type": "execute_result"
    }
   ],
   "source": [
    "vec_1*vec_2"
   ]
  },
  {
   "cell_type": "code",
   "execution_count": 16,
   "metadata": {},
   "outputs": [
    {
     "data": {
      "text/plain": [
       "array([0, 1, 2, 3, 4, 5, 6, 7, 8, 9])"
      ]
     },
     "execution_count": 16,
     "metadata": {},
     "output_type": "execute_result"
    }
   ],
   "source": [
    "vec_2"
   ]
  },
  {
   "cell_type": "code",
   "execution_count": 13,
   "metadata": {},
   "outputs": [
    {
     "data": {
      "text/plain": [
       "array([ 0,  1,  4,  9, 16, 25, 36, 49, 64, 81])"
      ]
     },
     "execution_count": 13,
     "metadata": {},
     "output_type": "execute_result"
    }
   ],
   "source": [
    "calculator(x=vec_1, y=vec_2)"
   ]
  },
  {
   "cell_type": "code",
   "execution_count": 14,
   "metadata": {},
   "outputs": [
    {
     "data": {
      "text/plain": [
       "array([0, 1, 2, 3, 4, 5, 6, 7, 8, 9])"
      ]
     },
     "execution_count": 14,
     "metadata": {},
     "output_type": "execute_result"
    }
   ],
   "source": [
    "vec_1"
   ]
  },
  {
   "cell_type": "code",
   "execution_count": 5,
   "metadata": {},
   "outputs": [],
   "source": [
    "def multiplication(x, y, z):\n",
    "    result = x*y*z\n",
    "    return result"
   ]
  },
  {
   "cell_type": "code",
   "execution_count": 8,
   "metadata": {},
   "outputs": [
    {
     "data": {
      "text/plain": [
       "96"
      ]
     },
     "execution_count": 8,
     "metadata": {},
     "output_type": "execute_result"
    }
   ],
   "source": [
    "multiplication(8, 6, 2)"
   ]
  },
  {
   "cell_type": "code",
   "execution_count": 32,
   "metadata": {},
   "outputs": [],
   "source": [
    "marco = 28"
   ]
  },
  {
   "cell_type": "code",
   "execution_count": 33,
   "metadata": {},
   "outputs": [
    {
     "data": {
      "text/plain": [
       "28"
      ]
     },
     "execution_count": 33,
     "metadata": {},
     "output_type": "execute_result"
    }
   ],
   "source": [
    "marco"
   ]
  },
  {
   "cell_type": "code",
   "execution_count": 38,
   "metadata": {},
   "outputs": [
    {
     "data": {
      "text/plain": [
       "False"
      ]
     },
     "execution_count": 38,
     "metadata": {},
     "output_type": "execute_result"
    }
   ],
   "source": [
    "True == 25"
   ]
  },
  {
   "cell_type": "code",
   "execution_count": 34,
   "metadata": {},
   "outputs": [
    {
     "data": {
      "text/plain": [
       "False"
      ]
     },
     "execution_count": 34,
     "metadata": {},
     "output_type": "execute_result"
    }
   ],
   "source": [
    "100 == 1"
   ]
  },
  {
   "cell_type": "code",
   "execution_count": 42,
   "metadata": {},
   "outputs": [
    {
     "name": "stdout",
     "output_type": "stream",
     "text": [
      "100\n"
     ]
    }
   ],
   "source": [
    "if 60>50:\n",
    "    vanessa = 100\n",
    "    print(vanessa)"
   ]
  },
  {
   "cell_type": "code",
   "execution_count": 44,
   "metadata": {},
   "outputs": [
    {
     "data": {
      "text/plain": [
       "False"
      ]
     },
     "execution_count": 44,
     "metadata": {},
     "output_type": "execute_result"
    }
   ],
   "source": [
    "0 == 1"
   ]
  },
  {
   "cell_type": "code",
   "execution_count": 46,
   "metadata": {},
   "outputs": [
    {
     "data": {
      "text/plain": [
       "False"
      ]
     },
     "execution_count": 46,
     "metadata": {},
     "output_type": "execute_result"
    }
   ],
   "source": [
    "False == 1"
   ]
  },
  {
   "cell_type": "code",
   "execution_count": 49,
   "metadata": {},
   "outputs": [],
   "source": [
    "def info_students(x, y, z):\n",
    "    \n",
    "    if z == 1:\n",
    "        name = \"Her name is {}\".format(x)\n",
    "        lastname = \"Her lastname is {}\".format(y)\n",
    "        \n",
    "    else:\n",
    "        name = \"His name is {}\".format(x)\n",
    "        lastname = \"His lastname is {}\".format(y)\n",
    "    \n",
    "    return print(name,\",\",  lastname)"
   ]
  },
  {
   "cell_type": "code",
   "execution_count": 64,
   "metadata": {},
   "outputs": [
    {
     "name": "stdout",
     "output_type": "stream",
     "text": [
      "Her name is Valeria , Her lastname is Reyes\n"
     ]
    }
   ],
   "source": [
    "info_students(x=\"Valeria\", y=\"Reyes\", z=True)"
   ]
  },
  {
   "cell_type": "code",
   "execution_count": 97,
   "metadata": {},
   "outputs": [],
   "source": [
    "def info_students(x, y, z):\n",
    "    \n",
    "    if z == 1:\n",
    "        name = \"Her name is {}\".format(x)\n",
    "        lastname = \"Her lastname is {}\".format(y)\n",
    "        \n",
    "    else:\n",
    "        name = \"His name is {}\".format(x)\n",
    "        lastname = \"His lastname is {}\".format(y)\n",
    "    \n",
    "    return name, lastname"
   ]
  },
  {
   "cell_type": "code",
   "execution_count": 95,
   "metadata": {},
   "outputs": [
    {
     "data": {
      "text/plain": [
       "('Her name is Valeria', 'Her lastname is Reyes')"
      ]
     },
     "execution_count": 95,
     "metadata": {},
     "output_type": "execute_result"
    }
   ],
   "source": [
    "info_students(x=\"Valeria\", y=\"Reyes\", z=True)"
   ]
  },
  {
   "cell_type": "code",
   "execution_count": 91,
   "metadata": {},
   "outputs": [],
   "source": [
    "def multiplication(x, y, z):\n",
    "    mult_1 = x*y \n",
    "    mult_3 = z*y \n",
    "    \n",
    "    result = x*y*z\n",
    "    \n",
    "    return result, mult_1, mult_3"
   ]
  },
  {
   "cell_type": "code",
   "execution_count": 92,
   "metadata": {},
   "outputs": [
    {
     "data": {
      "text/plain": [
       "(120, 20, 30)"
      ]
     },
     "execution_count": 92,
     "metadata": {},
     "output_type": "execute_result"
    }
   ],
   "source": [
    "multiplication(4, 5, 6)"
   ]
  },
  {
   "cell_type": "code",
   "execution_count": 94,
   "metadata": {},
   "outputs": [
    {
     "ename": "NameError",
     "evalue": "name 'mult_3' is not defined",
     "output_type": "error",
     "traceback": [
      "\u001b[1;31m---------------------------------------------------------------------------\u001b[0m",
      "\u001b[1;31mNameError\u001b[0m                                 Traceback (most recent call last)",
      "\u001b[1;32mC:\\Users\\ALEXAN~1\\AppData\\Local\\Temp/ipykernel_36464/685433500.py\u001b[0m in \u001b[0;36m<module>\u001b[1;34m\u001b[0m\n\u001b[1;32m----> 1\u001b[1;33m \u001b[0mmult_3\u001b[0m\u001b[1;33m\u001b[0m\u001b[1;33m\u001b[0m\u001b[0m\n\u001b[0m",
      "\u001b[1;31mNameError\u001b[0m: name 'mult_3' is not defined"
     ]
    }
   ],
   "source": [
    "mult_3"
   ]
  },
  {
   "cell_type": "code",
   "execution_count": 72,
   "metadata": {},
   "outputs": [
    {
     "ename": "NameError",
     "evalue": "name 'lastname' is not defined",
     "output_type": "error",
     "traceback": [
      "\u001b[1;31m---------------------------------------------------------------------------\u001b[0m",
      "\u001b[1;31mNameError\u001b[0m                                 Traceback (most recent call last)",
      "\u001b[1;32mC:\\Users\\ALEXAN~1\\AppData\\Local\\Temp/ipykernel_36464/808077539.py\u001b[0m in \u001b[0;36m<module>\u001b[1;34m\u001b[0m\n\u001b[1;32m----> 1\u001b[1;33m \u001b[0mlastname\u001b[0m\u001b[1;33m\u001b[0m\u001b[1;33m\u001b[0m\u001b[0m\n\u001b[0m",
      "\u001b[1;31mNameError\u001b[0m: name 'lastname' is not defined"
     ]
    }
   ],
   "source": [
    "lastname"
   ]
  },
  {
   "cell_type": "code",
   "execution_count": 53,
   "metadata": {},
   "outputs": [],
   "source": [
    "nathaly = \"Belapatiño\""
   ]
  },
  {
   "cell_type": "code",
   "execution_count": 62,
   "metadata": {},
   "outputs": [],
   "source": [
    "nathaly_2 = \"Belapatiño\""
   ]
  },
  {
   "cell_type": "code",
   "execution_count": 61,
   "metadata": {},
   "outputs": [
    {
     "data": {
      "text/plain": [
       "'Belapatiño'"
      ]
     },
     "execution_count": 61,
     "metadata": {},
     "output_type": "execute_result"
    }
   ],
   "source": [
    "nathaly_2"
   ]
  },
  {
   "cell_type": "code",
   "execution_count": 63,
   "metadata": {},
   "outputs": [
    {
     "name": "stdout",
     "output_type": "stream",
     "text": [
      "Her name is Valeria , Her lastname is Reyes\n"
     ]
    }
   ],
   "source": [
    "info_students(x=\"Valeria\", y=\"Reyes\", z=True)"
   ]
  },
  {
   "cell_type": "code",
   "execution_count": 29,
   "metadata": {},
   "outputs": [
    {
     "name": "stdout",
     "output_type": "stream",
     "text": [
      "Her name is Valeria , Her lastname is Reyes\n"
     ]
    }
   ],
   "source": [
    "info_students(x = \"Valeria\", y = \"Reyes\", z = True)"
   ]
  },
  {
   "cell_type": "code",
   "execution_count": 30,
   "metadata": {},
   "outputs": [
    {
     "name": "stdout",
     "output_type": "stream",
     "text": [
      "His name is Pablo , His lastname is Paredes\n"
     ]
    }
   ],
   "source": [
    "info_students(x = \"Pablo\", y = \"Paredes\", z=False)"
   ]
  },
  {
   "cell_type": "code",
   "execution_count": 18,
   "metadata": {},
   "outputs": [
    {
     "name": "stdout",
     "output_type": "stream",
     "text": [
      "His name is Guillermo , His lastname is Coronado\n"
     ]
    }
   ],
   "source": [
    "info_students(\"Guillermo\", \"Coronado\", False)"
   ]
  },
  {
   "cell_type": "code",
   "execution_count": 14,
   "metadata": {},
   "outputs": [],
   "source": [
    "def calculator(x, y):\n",
    "    \n",
    "    if x < y:\n",
    "        print(\"division out range\")\n",
    "        result = np.nan\n",
    "    else: \n",
    "        result  = x/y\n",
    "    \n",
    "    return result"
   ]
  },
  {
   "cell_type": "code",
   "execution_count": 16,
   "metadata": {},
   "outputs": [
    {
     "data": {
      "text/plain": [
       "1.3333333333333333"
      ]
     },
     "execution_count": 16,
     "metadata": {},
     "output_type": "execute_result"
    }
   ],
   "source": [
    "calculator(4, 3)"
   ]
  },
  {
   "cell_type": "code",
   "execution_count": 17,
   "metadata": {},
   "outputs": [],
   "source": [
    "def calculator( x, y, z ):\n",
    "    \n",
    "    result = x * y * z\n",
    "    \n",
    "    return result"
   ]
  },
  {
   "cell_type": "code",
   "execution_count": 20,
   "metadata": {},
   "outputs": [
    {
     "data": {
      "text/plain": [
       "60040"
      ]
     },
     "execution_count": 20,
     "metadata": {},
     "output_type": "execute_result"
    }
   ],
   "source": [
    "calculator( 158, 38, 10 )"
   ]
  },
  {
   "cell_type": "code",
   "execution_count": 22,
   "metadata": {},
   "outputs": [
    {
     "data": {
      "text/plain": [
       "0"
      ]
     },
     "execution_count": 22,
     "metadata": {},
     "output_type": "execute_result"
    }
   ],
   "source": [
    "calculator( 4, 7, 0)"
   ]
  },
  {
   "cell_type": "code",
   "execution_count": 19,
   "metadata": {},
   "outputs": [
    {
     "ename": "TypeError",
     "evalue": "calculator() missing 1 required positional argument: 'z'",
     "output_type": "error",
     "traceback": [
      "\u001b[1;31m---------------------------------------------------------------------------\u001b[0m",
      "\u001b[1;31mTypeError\u001b[0m                                 Traceback (most recent call last)",
      "\u001b[1;32mC:\\Users\\ALEXAN~1\\AppData\\Local\\Temp/ipykernel_39524/2897035931.py\u001b[0m in \u001b[0;36m<module>\u001b[1;34m\u001b[0m\n\u001b[1;32m----> 1\u001b[1;33m \u001b[0mreturn1\u001b[0m \u001b[1;33m=\u001b[0m \u001b[0mcalculator\u001b[0m\u001b[1;33m(\u001b[0m \u001b[1;36m4\u001b[0m\u001b[1;33m,\u001b[0m \u001b[1;36m7\u001b[0m \u001b[1;33m)\u001b[0m\u001b[1;33m\u001b[0m\u001b[1;33m\u001b[0m\u001b[0m\n\u001b[0m\u001b[0;32m      2\u001b[0m \u001b[0mreturn1\u001b[0m\u001b[1;33m\u001b[0m\u001b[1;33m\u001b[0m\u001b[0m\n",
      "\u001b[1;31mTypeError\u001b[0m: calculator() missing 1 required positional argument: 'z'"
     ]
    }
   ],
   "source": [
    "return1 = calculator( 4, 7 )\n",
    "return1"
   ]
  },
  {
   "cell_type": "markdown",
   "metadata": {},
   "source": [
    "### <a id='#5.1.3.'>5.1.3. Function without `return` function </a> \n",
    "When we define a function without the `return` function, the generated function does not return any output."
   ]
  },
  {
   "cell_type": "code",
   "execution_count": 44,
   "metadata": {},
   "outputs": [],
   "source": [
    "x2 = 5\n",
    "y2 = 10"
   ]
  },
  {
   "cell_type": "code",
   "execution_count": 106,
   "metadata": {},
   "outputs": [],
   "source": [
    "def calculator_square( x, y ):\n",
    "    \n",
    "    x2 = x * x\n",
    "    y2 = y * y\n",
    "    \n",
    "    result = x2 * y2 \n",
    "    \n",
    "    #return result"
   ]
  },
  {
   "cell_type": "code",
   "execution_count": 108,
   "metadata": {},
   "outputs": [],
   "source": [
    "calculator_square( 5, 10 )"
   ]
  },
  {
   "cell_type": "code",
   "execution_count": 50,
   "metadata": {},
   "outputs": [
    {
     "data": {
      "text/plain": [
       "2500"
      ]
     },
     "execution_count": 50,
     "metadata": {},
     "output_type": "execute_result"
    }
   ],
   "source": [
    "calculator_square( x, y )"
   ]
  },
  {
   "cell_type": "code",
   "execution_count": 6,
   "metadata": {},
   "outputs": [
    {
     "data": {
      "text/plain": [
       "784"
      ]
     },
     "execution_count": 6,
     "metadata": {},
     "output_type": "execute_result"
    }
   ],
   "source": [
    "return2 = calculator_square( 4, 7 )\n",
    "return2"
   ]
  },
  {
   "cell_type": "code",
   "execution_count": 53,
   "metadata": {},
   "outputs": [],
   "source": [
    "def info_students(x, y, z):\n",
    "    \n",
    "    if z == 1:\n",
    "        name = \"Her name is {}\".format(x)\n",
    "        lastname = \"Her lastname is {}\".format(y)\n",
    "        \n",
    "    else:\n",
    "        name = \"His name is {}\".format(x)\n",
    "        lastname = \"His lastname is {}\".format(y)\n",
    "    \n",
    "    return print(name,\",\",  lastname)\n",
    "    #return lastname"
   ]
  },
  {
   "cell_type": "code",
   "execution_count": 83,
   "metadata": {},
   "outputs": [],
   "source": [
    "def info_students(x, y, z, s, e):\n",
    "    \n",
    "    if z == 1:\n",
    "        name = \"Her name is {}\".format(x)\n",
    "        lastname = \"Her lastname is {}\".format(y)\n",
    "        school = \"Her school is {}\".format(s)\n",
    "        \n",
    "        if e >= 18: \n",
    "            age = \"She is an adult\"\n",
    "    \n",
    "        else:\n",
    "            age = \"She is a kid\"\n",
    "        \n",
    "    else:\n",
    "        name = \"His name is {}\".format(x)\n",
    "        lastname = \"His lastname is {}\".format(y)\n",
    "        school = \"His school is {}\".format(s)\n",
    "        \n",
    "        if e >= 18: \n",
    "            age = \"He is an adult\"\n",
    "    \n",
    "        else:\n",
    "            age = \"He is a kid\"\n",
    "\n",
    "    #return print(name,\",\",  lastname)\n",
    "    return name, lastname, school, age"
   ]
  },
  {
   "cell_type": "code",
   "execution_count": 90,
   "metadata": {},
   "outputs": [
    {
     "data": {
      "text/plain": [
       "20"
      ]
     },
     "execution_count": 90,
     "metadata": {},
     "output_type": "execute_result"
    }
   ],
   "source": [
    "tupe_1 = (10, 20, \"true\", True)\n",
    "tupe_1[1]"
   ]
  },
  {
   "cell_type": "code",
   "execution_count": 84,
   "metadata": {},
   "outputs": [
    {
     "data": {
      "text/plain": [
       "('Her name is Gabriela',\n",
       " 'Her lastname is Narvaez',\n",
       " 'Her school is CIFO',\n",
       " 'She is a kid')"
      ]
     },
     "execution_count": 84,
     "metadata": {},
     "output_type": "execute_result"
    }
   ],
   "source": [
    "info_students(\"Gabriela\", \"Narvaez\", True , \"CIFO\", 17)"
   ]
  },
  {
   "cell_type": "code",
   "execution_count": 81,
   "metadata": {},
   "outputs": [],
   "source": [
    "name_student =  info_students(\"Gabriela\", \"Narvaez\", True , \"CIFO\", 17)"
   ]
  },
  {
   "cell_type": "code",
   "execution_count": 82,
   "metadata": {},
   "outputs": [
    {
     "data": {
      "text/plain": [
       "('Her name is Gabriela',\n",
       " 'Her lastname is Narvaez',\n",
       " 'Her school is CIFO',\n",
       " 'She is a kid')"
      ]
     },
     "execution_count": 82,
     "metadata": {},
     "output_type": "execute_result"
    }
   ],
   "source": [
    "name_student"
   ]
  },
  {
   "cell_type": "code",
   "execution_count": 36,
   "metadata": {},
   "outputs": [
    {
     "ename": "NameError",
     "evalue": "name 'name' is not defined",
     "output_type": "error",
     "traceback": [
      "\u001b[1;31m---------------------------------------------------------------------------\u001b[0m",
      "\u001b[1;31mNameError\u001b[0m                                 Traceback (most recent call last)",
      "\u001b[1;32mC:\\Users\\ALEXAN~1\\AppData\\Local\\Temp/ipykernel_17784/3474671970.py\u001b[0m in \u001b[0;36m<module>\u001b[1;34m\u001b[0m\n\u001b[1;32m----> 1\u001b[1;33m \u001b[0mname\u001b[0m\u001b[1;33m\u001b[0m\u001b[1;33m\u001b[0m\u001b[0m\n\u001b[0m",
      "\u001b[1;31mNameError\u001b[0m: name 'name' is not defined"
     ]
    }
   ],
   "source": [
    "name"
   ]
  },
  {
   "cell_type": "markdown",
   "metadata": {},
   "source": [
    "### <a id='#5.1.5.'>5.1.5. Multiple objects for return </a> \n",
    "The output of a function can have several objects. These objects are stored in a tuple by default."
   ]
  },
  {
   "cell_type": "code",
   "execution_count": 29,
   "metadata": {},
   "outputs": [],
   "source": [
    "def calculator_square( x, y ):\n",
    "    \n",
    "    x2 = x * x\n",
    "    y2 = y * y\n",
    "    \n",
    "    result = x2 * y2   \n",
    "    \n",
    "    return result, x2, y2"
   ]
  },
  {
   "cell_type": "code",
   "execution_count": 32,
   "metadata": {},
   "outputs": [
    {
     "data": {
      "text/plain": [
       "(36, 4, 9)"
      ]
     },
     "execution_count": 32,
     "metadata": {},
     "output_type": "execute_result"
    }
   ],
   "source": [
    "result = calculator_square(x=2, y=3)\n",
    "result"
   ]
  },
  {
   "cell_type": "code",
   "execution_count": 33,
   "metadata": {},
   "outputs": [
    {
     "data": {
      "text/plain": [
       "tuple"
      ]
     },
     "execution_count": 33,
     "metadata": {},
     "output_type": "execute_result"
    }
   ],
   "source": [
    "type(result)"
   ]
  },
  {
   "cell_type": "code",
   "execution_count": 36,
   "metadata": {},
   "outputs": [
    {
     "data": {
      "text/plain": [
       "9"
      ]
     },
     "execution_count": 36,
     "metadata": {},
     "output_type": "execute_result"
    }
   ],
   "source": [
    "result[2]"
   ]
  },
  {
   "cell_type": "code",
   "execution_count": 52,
   "metadata": {},
   "outputs": [
    {
     "data": {
      "text/plain": [
       "(144, 9, 16)"
      ]
     },
     "execution_count": 52,
     "metadata": {},
     "output_type": "execute_result"
    }
   ],
   "source": [
    "calculator_square(3, 4)"
   ]
  },
  {
   "cell_type": "code",
   "execution_count": 53,
   "metadata": {},
   "outputs": [
    {
     "data": {
      "text/plain": [
       "(5184, 64, 81)"
      ]
     },
     "execution_count": 53,
     "metadata": {},
     "output_type": "execute_result"
    }
   ],
   "source": [
    "result4 = calculator_square( 8, 9 )\n",
    "result4"
   ]
  },
  {
   "cell_type": "code",
   "execution_count": 54,
   "metadata": {},
   "outputs": [
    {
     "data": {
      "text/plain": [
       "tuple"
      ]
     },
     "execution_count": 54,
     "metadata": {},
     "output_type": "execute_result"
    }
   ],
   "source": [
    "type(result4)"
   ]
  },
  {
   "cell_type": "code",
   "execution_count": 58,
   "metadata": {},
   "outputs": [
    {
     "data": {
      "text/plain": [
       "81"
      ]
     },
     "execution_count": 58,
     "metadata": {},
     "output_type": "execute_result"
    }
   ],
   "source": [
    "result4[2]"
   ]
  },
  {
   "cell_type": "markdown",
   "metadata": {},
   "source": [
    "We can name the outputs in one line."
   ]
  },
  {
   "cell_type": "code",
   "execution_count": 59,
   "metadata": {},
   "outputs": [],
   "source": [
    "output_1 = result4[0]\n",
    "output_2 = result4[1]\n",
    "output_3 = result4[2]"
   ]
  },
  {
   "cell_type": "code",
   "execution_count": 63,
   "metadata": {},
   "outputs": [
    {
     "data": {
      "text/plain": [
       "64"
      ]
     },
     "execution_count": 63,
     "metadata": {},
     "output_type": "execute_result"
    }
   ],
   "source": [
    "output_2"
   ]
  },
  {
   "cell_type": "code",
   "execution_count": 11,
   "metadata": {},
   "outputs": [],
   "source": [
    "result5, x_2, y_2 = calculator_square( 8, 9 )"
   ]
  },
  {
   "cell_type": "markdown",
   "metadata": {},
   "source": [
    "### <a id='#5.1.5.'>5.1.5. If condition with return </a>"
   ]
  },
  {
   "cell_type": "code",
   "execution_count": 109,
   "metadata": {},
   "outputs": [],
   "source": [
    "def calculator_square( x, y ):\n",
    "    \n",
    "    x2 = x * x\n",
    "    y2 = y * y\n",
    "    \n",
    "    result = x2 * y2   \n",
    "    \n",
    "    if ( 200 >= result ):\n",
    "        return result, x2, y2\n",
    "    \n",
    "    elif ( 500 >= result > 200 ):\n",
    "        print( \"Large number. Get only the result variable\")\n",
    "        return result\n",
    "    \n",
    "    else:\n",
    "        print( \"Too large number. Do not return variables!\")"
   ]
  },
  {
   "cell_type": "code",
   "execution_count": 110,
   "metadata": {},
   "outputs": [
    {
     "data": {
      "text/plain": [
       "(100, 4, 25)"
      ]
     },
     "execution_count": 110,
     "metadata": {},
     "output_type": "execute_result"
    }
   ],
   "source": [
    "calculator_square(2, 5)"
   ]
  },
  {
   "cell_type": "code",
   "execution_count": 114,
   "metadata": {},
   "outputs": [
    {
     "name": "stdout",
     "output_type": "stream",
     "text": [
      "Large number. Get only the result variable\n"
     ]
    },
    {
     "data": {
      "text/plain": [
       "225"
      ]
     },
     "execution_count": 114,
     "metadata": {},
     "output_type": "execute_result"
    }
   ],
   "source": [
    "calculator_square(3, 5)"
   ]
  },
  {
   "cell_type": "code",
   "execution_count": 115,
   "metadata": {},
   "outputs": [
    {
     "name": "stdout",
     "output_type": "stream",
     "text": [
      "Too large number. Do not return variables!\n"
     ]
    }
   ],
   "source": [
    "calculator_square(10, 20)"
   ]
  },
  {
   "cell_type": "code",
   "execution_count": 72,
   "metadata": {},
   "outputs": [
    {
     "name": "stdout",
     "output_type": "stream",
     "text": [
      "Large number. Get only the result variable\n"
     ]
    },
    {
     "data": {
      "text/plain": [
       "400"
      ]
     },
     "execution_count": 72,
     "metadata": {},
     "output_type": "execute_result"
    }
   ],
   "source": [
    "calculator_square( 2, 10 )"
   ]
  },
  {
   "cell_type": "code",
   "execution_count": 73,
   "metadata": {},
   "outputs": [
    {
     "name": "stdout",
     "output_type": "stream",
     "text": [
      "Large number. Get only the result variable\n"
     ]
    },
    {
     "data": {
      "text/plain": [
       "256"
      ]
     },
     "execution_count": 73,
     "metadata": {},
     "output_type": "execute_result"
    }
   ],
   "source": [
    "calculator_square( 8, 2 )"
   ]
  },
  {
   "cell_type": "code",
   "execution_count": 74,
   "metadata": {},
   "outputs": [
    {
     "name": "stdout",
     "output_type": "stream",
     "text": [
      "Too large number. Do not return variables!\n"
     ]
    }
   ],
   "source": [
    "calculator_square( 8, 10 )"
   ]
  },
  {
   "cell_type": "markdown",
   "metadata": {},
   "source": [
    "### <a id='#5.1.6.'>5.1.6. Default values to parameters </a> \n",
    "We can define default values to parameters."
   ]
  },
  {
   "cell_type": "code",
   "execution_count": 42,
   "metadata": {},
   "outputs": [],
   "source": [
    "def calc_base_10(x, y=10, z=15):\n",
    "    result = x*y + z\n",
    "    return result"
   ]
  },
  {
   "cell_type": "code",
   "execution_count": 43,
   "metadata": {},
   "outputs": [
    {
     "data": {
      "text/plain": [
       "55"
      ]
     },
     "execution_count": 43,
     "metadata": {},
     "output_type": "execute_result"
    }
   ],
   "source": [
    "calc_base_10(x=4)"
   ]
  },
  {
   "cell_type": "code",
   "execution_count": 44,
   "metadata": {},
   "outputs": [
    {
     "data": {
      "text/plain": [
       "26"
      ]
     },
     "execution_count": 44,
     "metadata": {},
     "output_type": "execute_result"
    }
   ],
   "source": [
    "calc_base_10(x=4, y=5, z=6)"
   ]
  },
  {
   "cell_type": "code",
   "execution_count": 96,
   "metadata": {},
   "outputs": [],
   "source": [
    "def calculator_base_20(x, y=20):\n",
    "    result = x*y\n",
    "    return result"
   ]
  },
  {
   "cell_type": "code",
   "execution_count": 97,
   "metadata": {},
   "outputs": [
    {
     "data": {
      "text/plain": [
       "2000"
      ]
     },
     "execution_count": 97,
     "metadata": {},
     "output_type": "execute_result"
    }
   ],
   "source": [
    "calculator_base_20( x=100 )"
   ]
  },
  {
   "cell_type": "code",
   "execution_count": null,
   "metadata": {},
   "outputs": [],
   "source": []
  },
  {
   "cell_type": "code",
   "execution_count": 82,
   "metadata": {},
   "outputs": [],
   "source": [
    "def calculator_base_10(x, y = 10):\n",
    "    result = x*y\n",
    "    return result"
   ]
  },
  {
   "cell_type": "code",
   "execution_count": 83,
   "metadata": {},
   "outputs": [
    {
     "data": {
      "text/plain": [
       "135"
      ]
     },
     "execution_count": 83,
     "metadata": {},
     "output_type": "execute_result"
    }
   ],
   "source": [
    "calculator_base_10(15, y = 9)"
   ]
  },
  {
   "cell_type": "code",
   "execution_count": 84,
   "metadata": {},
   "outputs": [],
   "source": [
    "def calculator_base_5( x , y = 5 ):\n",
    "    \n",
    "    result = x * y\n",
    "    \n",
    "    return result"
   ]
  },
  {
   "cell_type": "code",
   "execution_count": 86,
   "metadata": {},
   "outputs": [
    {
     "data": {
      "text/plain": [
       "25"
      ]
     },
     "execution_count": 86,
     "metadata": {},
     "output_type": "execute_result"
    }
   ],
   "source": [
    "calculator_base_5( x )"
   ]
  },
  {
   "cell_type": "code",
   "execution_count": 87,
   "metadata": {},
   "outputs": [
    {
     "data": {
      "text/plain": [
       "35"
      ]
     },
     "execution_count": 87,
     "metadata": {},
     "output_type": "execute_result"
    }
   ],
   "source": [
    "result3 = calculator_base_5( 7 )\n",
    "result3"
   ]
  },
  {
   "cell_type": "code",
   "execution_count": 102,
   "metadata": {},
   "outputs": [],
   "source": [
    "def info_students(x, y, s, e, sex=True):\n",
    "    \n",
    "    if sex == 1:\n",
    "        name = \"Her name is {}\".format(x)\n",
    "        lastname = \"Her lastname is {}\".format(y)\n",
    "        school = \"Her school is {}\".format(s)\n",
    "        \n",
    "        if e >= 18: \n",
    "            age = \"She is an adult\"\n",
    "    \n",
    "        else:\n",
    "            age = \"She is a kid\"\n",
    "        \n",
    "    else:\n",
    "        name = \"His name is {}\".format(x)\n",
    "        lastname = \"His lastname is {}\".format(y)\n",
    "        school = \"His school is {}\".format(s)\n",
    "        \n",
    "        if e >= 18: \n",
    "            age = \"He is an adult\"\n",
    "    \n",
    "        else:\n",
    "            age = \"He is a kid\"\n",
    "\n",
    "    #return print(name,\",\",  lastname)\n",
    "    return name, lastname, school, age"
   ]
  },
  {
   "cell_type": "code",
   "execution_count": 104,
   "metadata": {},
   "outputs": [
    {
     "data": {
      "text/plain": [
       "('Her name is Cristhian',\n",
       " 'Her lastname is Alfaro',\n",
       " 'Her school is CIFO',\n",
       " 'She is a kid')"
      ]
     },
     "execution_count": 104,
     "metadata": {},
     "output_type": "execute_result"
    }
   ],
   "source": [
    "info_students(\"Cristhian\", \"Alfaro\",\"CIFO\", 17)"
   ]
  },
  {
   "cell_type": "code",
   "execution_count": null,
   "metadata": {},
   "outputs": [],
   "source": []
  },
  {
   "cell_type": "markdown",
   "metadata": {},
   "source": [
    "### <a id='#5.1.7.'>5.1.7. Specify the type of a parameter and the type of the return type of a function </a> \n",
    "\n",
    "It is important to note that Python won't raise a TypeError if you pass a float into x, the reason for this is one of the main points in Python's design philosophy: \"We're all consenting adults here\", which means you are expected to be aware of what you can pass to a function and what you can't. If you really want to write code that throws TypeErrors you can use the isinstance function to check that the passed argument is of the proper type or a subclass of it like this:"
   ]
  },
  {
   "cell_type": "code",
   "execution_count": 118,
   "metadata": {},
   "outputs": [],
   "source": [
    "def calculator_base_10( x:int, y:float ) -> float:\n",
    "    result = x*y\n",
    "    return result"
   ]
  },
  {
   "cell_type": "code",
   "execution_count": 119,
   "metadata": {},
   "outputs": [
    {
     "data": {
      "text/plain": [
       "18.0"
      ]
     },
     "execution_count": 119,
     "metadata": {},
     "output_type": "execute_result"
    }
   ],
   "source": [
    "calculator_base_10(4, 4.5)"
   ]
  },
  {
   "cell_type": "code",
   "execution_count": 121,
   "metadata": {},
   "outputs": [
    {
     "data": {
      "text/plain": [
       "18.0"
      ]
     },
     "execution_count": 121,
     "metadata": {},
     "output_type": "execute_result"
    }
   ],
   "source": [
    "calculator_base_10( 4.5, 4 )"
   ]
  },
  {
   "cell_type": "code",
   "execution_count": 88,
   "metadata": {},
   "outputs": [],
   "source": [
    "def calculator_base_5( x : int, y : float ) -> float:\n",
    "    \n",
    "    result = x * y\n",
    "    \n",
    "    return result"
   ]
  },
  {
   "cell_type": "code",
   "execution_count": null,
   "metadata": {},
   "outputs": [],
   "source": []
  },
  {
   "cell_type": "code",
   "execution_count": 96,
   "metadata": {},
   "outputs": [
    {
     "ename": "TypeError",
     "evalue": "unsupported operand type(s) for ** or pow(): 'int' and 'str'",
     "output_type": "error",
     "traceback": [
      "\u001b[1;31m---------------------------------------------------------------------------\u001b[0m",
      "\u001b[1;31mTypeError\u001b[0m                                 Traceback (most recent call last)",
      "\u001b[1;32mC:\\Users\\ALEXAN~1\\AppData\\Local\\Temp/ipykernel_39524/3845650038.py\u001b[0m in \u001b[0;36m<module>\u001b[1;34m\u001b[0m\n\u001b[1;32m----> 1\u001b[1;33m \u001b[0mx2\u001b[0m\u001b[1;33m**\u001b[0m\u001b[1;34m\"Trea\"\u001b[0m\u001b[1;33m\u001b[0m\u001b[1;33m\u001b[0m\u001b[0m\n\u001b[0m",
      "\u001b[1;31mTypeError\u001b[0m: unsupported operand type(s) for ** or pow(): 'int' and 'str'"
     ]
    }
   ],
   "source": [
    "x2**\"Trea\""
   ]
  },
  {
   "cell_type": "code",
   "execution_count": 91,
   "metadata": {},
   "outputs": [
    {
     "data": {
      "text/plain": [
       "150.0"
      ]
     },
     "execution_count": 91,
     "metadata": {},
     "output_type": "execute_result"
    }
   ],
   "source": [
    "calculator_base_5( 10.0, 15 )"
   ]
  },
  {
   "cell_type": "code",
   "execution_count": 129,
   "metadata": {},
   "outputs": [],
   "source": [
    "def calculator_base_5( x : int, y : float , z:list, ) -> float:\n",
    "    \n",
    "    if not isinstance( x , int ):\n",
    "        raise TypeError( \"X variable is not int type.\")\n",
    "        \n",
    "    if not isinstance( y, float ):\n",
    "        raise TypeError( \"Y variable is not float type.\")\n",
    "    \n",
    "    if not isinstance( z, list ):\n",
    "        raise TypeError( \"Y variable is not list type.\")\n",
    "\n",
    "    result = x * y\n",
    "    \n",
    "    \n",
    "    return result"
   ]
  },
  {
   "cell_type": "code",
   "execution_count": 131,
   "metadata": {},
   "outputs": [
    {
     "ename": "TypeError",
     "evalue": "X variable is not int type.",
     "output_type": "error",
     "traceback": [
      "\u001b[1;31m---------------------------------------------------------------------------\u001b[0m",
      "\u001b[1;31mTypeError\u001b[0m                                 Traceback (most recent call last)",
      "\u001b[1;32mC:\\Users\\ALEXAN~1\\AppData\\Local\\Temp/ipykernel_17784/1535258023.py\u001b[0m in \u001b[0;36m<module>\u001b[1;34m\u001b[0m\n\u001b[1;32m----> 1\u001b[1;33m \u001b[0mcalculator_base_5\u001b[0m\u001b[1;33m(\u001b[0m \u001b[1;36m3.0\u001b[0m\u001b[1;33m,\u001b[0m \u001b[1;36m5.8\u001b[0m\u001b[1;33m,\u001b[0m \u001b[1;33m[\u001b[0m\u001b[1;36m1\u001b[0m\u001b[1;33m,\u001b[0m\u001b[1;36m2\u001b[0m\u001b[1;33m]\u001b[0m\u001b[1;33m)\u001b[0m\u001b[1;33m\u001b[0m\u001b[1;33m\u001b[0m\u001b[0m\n\u001b[0m",
      "\u001b[1;32mC:\\Users\\ALEXAN~1\\AppData\\Local\\Temp/ipykernel_17784/2210311499.py\u001b[0m in \u001b[0;36mcalculator_base_5\u001b[1;34m(x, y, z)\u001b[0m\n\u001b[0;32m      2\u001b[0m \u001b[1;33m\u001b[0m\u001b[0m\n\u001b[0;32m      3\u001b[0m     \u001b[1;32mif\u001b[0m \u001b[1;32mnot\u001b[0m \u001b[0misinstance\u001b[0m\u001b[1;33m(\u001b[0m \u001b[0mx\u001b[0m \u001b[1;33m,\u001b[0m \u001b[0mint\u001b[0m \u001b[1;33m)\u001b[0m\u001b[1;33m:\u001b[0m\u001b[1;33m\u001b[0m\u001b[1;33m\u001b[0m\u001b[0m\n\u001b[1;32m----> 4\u001b[1;33m         \u001b[1;32mraise\u001b[0m \u001b[0mTypeError\u001b[0m\u001b[1;33m(\u001b[0m \u001b[1;34m\"X variable is not int type.\"\u001b[0m\u001b[1;33m)\u001b[0m\u001b[1;33m\u001b[0m\u001b[1;33m\u001b[0m\u001b[0m\n\u001b[0m\u001b[0;32m      5\u001b[0m \u001b[1;33m\u001b[0m\u001b[0m\n\u001b[0;32m      6\u001b[0m     \u001b[1;32mif\u001b[0m \u001b[1;32mnot\u001b[0m \u001b[0misinstance\u001b[0m\u001b[1;33m(\u001b[0m \u001b[0my\u001b[0m\u001b[1;33m,\u001b[0m \u001b[0mfloat\u001b[0m \u001b[1;33m)\u001b[0m\u001b[1;33m:\u001b[0m\u001b[1;33m\u001b[0m\u001b[1;33m\u001b[0m\u001b[0m\n",
      "\u001b[1;31mTypeError\u001b[0m: X variable is not int type."
     ]
    }
   ],
   "source": [
    "calculator_base_5( 3.0, 5.8, [1,2])"
   ]
  },
  {
   "cell_type": "code",
   "execution_count": 26,
   "metadata": {},
   "outputs": [
    {
     "ename": "TypeError",
     "evalue": "X variable is not int type.",
     "output_type": "error",
     "traceback": [
      "\u001b[1;31m---------------------------------------------------------------------------\u001b[0m",
      "\u001b[1;31mTypeError\u001b[0m                                 Traceback (most recent call last)",
      "\u001b[1;32mC:\\Users\\ALEXAN~1\\AppData\\Local\\Temp/ipykernel_9200/471413585.py\u001b[0m in \u001b[0;36m<module>\u001b[1;34m\u001b[0m\n\u001b[1;32m----> 1\u001b[1;33m \u001b[0mcalculator_base_5\u001b[0m\u001b[1;33m(\u001b[0m \u001b[1;36m4.5\u001b[0m\u001b[1;33m,\u001b[0m \u001b[1;36m3\u001b[0m\u001b[1;33m)\u001b[0m\u001b[1;33m\u001b[0m\u001b[1;33m\u001b[0m\u001b[0m\n\u001b[0m",
      "\u001b[1;32mC:\\Users\\ALEXAN~1\\AppData\\Local\\Temp/ipykernel_9200/2980220040.py\u001b[0m in \u001b[0;36mcalculator_base_5\u001b[1;34m(x, y)\u001b[0m\n\u001b[0;32m      2\u001b[0m \u001b[1;33m\u001b[0m\u001b[0m\n\u001b[0;32m      3\u001b[0m     \u001b[1;32mif\u001b[0m \u001b[1;32mnot\u001b[0m \u001b[0misinstance\u001b[0m\u001b[1;33m(\u001b[0m \u001b[0mx\u001b[0m \u001b[1;33m,\u001b[0m \u001b[0mint\u001b[0m \u001b[1;33m)\u001b[0m\u001b[1;33m:\u001b[0m\u001b[1;33m\u001b[0m\u001b[1;33m\u001b[0m\u001b[0m\n\u001b[1;32m----> 4\u001b[1;33m         \u001b[1;32mraise\u001b[0m \u001b[0mTypeError\u001b[0m\u001b[1;33m(\u001b[0m \u001b[1;34m\"X variable is not int type.\"\u001b[0m\u001b[1;33m)\u001b[0m\u001b[1;33m\u001b[0m\u001b[1;33m\u001b[0m\u001b[0m\n\u001b[0m\u001b[0;32m      5\u001b[0m \u001b[1;33m\u001b[0m\u001b[0m\n\u001b[0;32m      6\u001b[0m     \u001b[1;32mif\u001b[0m \u001b[1;32mnot\u001b[0m \u001b[0misinstance\u001b[0m\u001b[1;33m(\u001b[0m \u001b[0my\u001b[0m\u001b[1;33m,\u001b[0m \u001b[0mfloat\u001b[0m \u001b[1;33m)\u001b[0m\u001b[1;33m:\u001b[0m\u001b[1;33m\u001b[0m\u001b[1;33m\u001b[0m\u001b[0m\n",
      "\u001b[1;31mTypeError\u001b[0m: X variable is not int type."
     ]
    }
   ],
   "source": [
    "calculator_base_5( 4.5, 3)"
   ]
  },
  {
   "cell_type": "code",
   "execution_count": 27,
   "metadata": {},
   "outputs": [
    {
     "ename": "TypeError",
     "evalue": "Y variable is not float type.",
     "output_type": "error",
     "traceback": [
      "\u001b[1;31m---------------------------------------------------------------------------\u001b[0m",
      "\u001b[1;31mTypeError\u001b[0m                                 Traceback (most recent call last)",
      "\u001b[1;32mC:\\Users\\ALEXAN~1\\AppData\\Local\\Temp/ipykernel_9200/4218193570.py\u001b[0m in \u001b[0;36m<module>\u001b[1;34m\u001b[0m\n\u001b[1;32m----> 1\u001b[1;33m \u001b[0mcalculator_base_5\u001b[0m\u001b[1;33m(\u001b[0m \u001b[1;36m4\u001b[0m\u001b[1;33m,\u001b[0m \u001b[1;36m3\u001b[0m \u001b[1;33m)\u001b[0m\u001b[1;33m\u001b[0m\u001b[1;33m\u001b[0m\u001b[0m\n\u001b[0m",
      "\u001b[1;32mC:\\Users\\ALEXAN~1\\AppData\\Local\\Temp/ipykernel_9200/2980220040.py\u001b[0m in \u001b[0;36mcalculator_base_5\u001b[1;34m(x, y)\u001b[0m\n\u001b[0;32m      5\u001b[0m \u001b[1;33m\u001b[0m\u001b[0m\n\u001b[0;32m      6\u001b[0m     \u001b[1;32mif\u001b[0m \u001b[1;32mnot\u001b[0m \u001b[0misinstance\u001b[0m\u001b[1;33m(\u001b[0m \u001b[0my\u001b[0m\u001b[1;33m,\u001b[0m \u001b[0mfloat\u001b[0m \u001b[1;33m)\u001b[0m\u001b[1;33m:\u001b[0m\u001b[1;33m\u001b[0m\u001b[1;33m\u001b[0m\u001b[0m\n\u001b[1;32m----> 7\u001b[1;33m         \u001b[1;32mraise\u001b[0m \u001b[0mTypeError\u001b[0m\u001b[1;33m(\u001b[0m \u001b[1;34m\"Y variable is not float type.\"\u001b[0m\u001b[1;33m)\u001b[0m\u001b[1;33m\u001b[0m\u001b[1;33m\u001b[0m\u001b[0m\n\u001b[0m\u001b[0;32m      8\u001b[0m \u001b[1;33m\u001b[0m\u001b[0m\n\u001b[0;32m      9\u001b[0m     \u001b[0mresult\u001b[0m \u001b[1;33m=\u001b[0m \u001b[0mx\u001b[0m \u001b[1;33m*\u001b[0m \u001b[0my\u001b[0m\u001b[1;33m\u001b[0m\u001b[1;33m\u001b[0m\u001b[0m\n",
      "\u001b[1;31mTypeError\u001b[0m: Y variable is not float type."
     ]
    }
   ],
   "source": [
    "calculator_base_5( 4, 3 )"
   ]
  },
  {
   "cell_type": "code",
   "execution_count": 28,
   "metadata": {},
   "outputs": [
    {
     "data": {
      "text/plain": [
       "15.2"
      ]
     },
     "execution_count": 28,
     "metadata": {},
     "output_type": "execute_result"
    }
   ],
   "source": [
    "calculator_base_5( 4, 3.8 )"
   ]
  },
  {
   "cell_type": "markdown",
   "metadata": {},
   "source": [
    "### <a id='#5.1.8.'>5.1.8. Local variables VS Global variables </a> \n",
    "\n",
    "|Variables|Definition|\n",
    "|---|---|\n",
    "|Global Variables| Variables declared outside a function.|\n",
    "|Local Variables | Variables declared inside a function.|\n",
    "\n",
    "The parameters and the variables created inside a function are local variables. They take values when the function is executed; however, they do not exist outside the function since they belong to a different namespace. A namespace is a system that has a unique name for every object in Python. When a Python function is called, a new namespace is created for that function, one that is distinct from all other namespaces that already exist. That is the reason we can use various functions with parameters and variables with the same name. Additionally, it explains why the variables generated inside a function do not exist outside the defined function namespace."
   ]
  },
  {
   "cell_type": "markdown",
   "metadata": {},
   "source": [
    "#### Example"
   ]
  },
  {
   "cell_type": "code",
   "execution_count": 29,
   "metadata": {},
   "outputs": [
    {
     "data": {
      "text/plain": [
       "'C:\\\\Users\\\\Alexander\\\\Documents\\\\GitHub\\\\Diplomado_PUCP\\\\Lecture_5'"
      ]
     },
     "execution_count": 29,
     "metadata": {},
     "output_type": "execute_result"
    }
   ],
   "source": [
    "pwd"
   ]
  },
  {
   "cell_type": "code",
   "execution_count": 30,
   "metadata": {},
   "outputs": [],
   "source": [
    "%run \"function_1.ipynb\""
   ]
  },
  {
   "cell_type": "code",
   "execution_count": 31,
   "metadata": {},
   "outputs": [],
   "source": [
    "def lower_case( string1  ):\n",
    "    \n",
    "    str_result = string1.lower()\n",
    "    \n",
    "    return str_result"
   ]
  },
  {
   "cell_type": "code",
   "execution_count": 32,
   "metadata": {},
   "outputs": [
    {
     "data": {
      "text/plain": [
       "'adriana'"
      ]
     },
     "execution_count": 32,
     "metadata": {},
     "output_type": "execute_result"
    }
   ],
   "source": [
    "lower_case( \"ADRIANA\")"
   ]
  },
  {
   "cell_type": "code",
   "execution_count": 33,
   "metadata": {},
   "outputs": [
    {
     "ename": "NameError",
     "evalue": "name 'str_result' is not defined",
     "output_type": "error",
     "traceback": [
      "\u001b[1;31m---------------------------------------------------------------------------\u001b[0m",
      "\u001b[1;31mNameError\u001b[0m                                 Traceback (most recent call last)",
      "\u001b[1;32mC:\\Users\\ALEXAN~1\\AppData\\Local\\Temp/ipykernel_9200/2404635967.py\u001b[0m in \u001b[0;36m<module>\u001b[1;34m\u001b[0m\n\u001b[1;32m----> 1\u001b[1;33m \u001b[0mstr_result\u001b[0m\u001b[1;33m\u001b[0m\u001b[1;33m\u001b[0m\u001b[0m\n\u001b[0m",
      "\u001b[1;31mNameError\u001b[0m: name 'str_result' is not defined"
     ]
    }
   ],
   "source": [
    "str_result"
   ]
  },
  {
   "cell_type": "code",
   "execution_count": 34,
   "metadata": {},
   "outputs": [
    {
     "data": {
      "text/plain": [
       "'diploma'"
      ]
     },
     "execution_count": 34,
     "metadata": {},
     "output_type": "execute_result"
    }
   ],
   "source": [
    "result2 = lower_case( \"DIPLOMA\")\n",
    "result2"
   ]
  },
  {
   "cell_type": "markdown",
   "metadata": {},
   "source": [
    "Now, we try to call the variable `str_result`."
   ]
  },
  {
   "cell_type": "code",
   "execution_count": 35,
   "metadata": {},
   "outputs": [
    {
     "ename": "NameError",
     "evalue": "name 'str_result' is not defined",
     "output_type": "error",
     "traceback": [
      "\u001b[1;31m---------------------------------------------------------------------------\u001b[0m",
      "\u001b[1;31mNameError\u001b[0m                                 Traceback (most recent call last)",
      "\u001b[1;32mC:\\Users\\ALEXAN~1\\AppData\\Local\\Temp/ipykernel_9200/2404635967.py\u001b[0m in \u001b[0;36m<module>\u001b[1;34m\u001b[0m\n\u001b[1;32m----> 1\u001b[1;33m \u001b[0mstr_result\u001b[0m\u001b[1;33m\u001b[0m\u001b[1;33m\u001b[0m\u001b[0m\n\u001b[0m",
      "\u001b[1;31mNameError\u001b[0m: name 'str_result' is not defined"
     ]
    }
   ],
   "source": [
    "str_result"
   ]
  },
  {
   "cell_type": "markdown",
   "metadata": {},
   "source": [
    "We can see that `str_result` is not defined. It does not exist in the main space. It was defined in the namespace of **lower_case**. In concluion, `str_result` is a local variable. <br>\n",
    "`result2` is a global variable."
   ]
  },
  {
   "cell_type": "markdown",
   "metadata": {},
   "source": [
    "### <a id='#5.1.9.'>5.1.9. Args </a> \n",
    "\n",
    "The special syntax **\\*args** in function definitions in python is used to pass a variable number of arguments to a function. The object **\\*args** is a **tuple** that contains all the arguments. When you build your code, you should consider **\\*args** as a **tuple**."
   ]
  },
  {
   "cell_type": "code",
   "execution_count": 36,
   "metadata": {},
   "outputs": [],
   "source": [
    "def calculator( *args ):\n",
    "    \n",
    "    print( f\"args is a {type( args )}\" )\n",
    "    # Get the first value\n",
    "    result = args[ 0 ]\n",
    "    \n",
    "    # Keep the rest of values\n",
    "    args1 = args[ 1: ]\n",
    "    \n",
    "    # multiply all elements\n",
    "    for element in args1:\n",
    "        result = result * element\n",
    "    \n",
    "    return result"
   ]
  },
  {
   "cell_type": "markdown",
   "metadata": {},
   "source": [
    "In this example, the values `8, 9, 50 and 40` are storing in a list."
   ]
  },
  {
   "cell_type": "code",
   "execution_count": 37,
   "metadata": {},
   "outputs": [
    {
     "name": "stdout",
     "output_type": "stream",
     "text": [
      "args is a <class 'tuple'>\n"
     ]
    },
    {
     "data": {
      "text/plain": [
       "24480000"
      ]
     },
     "execution_count": 37,
     "metadata": {},
     "output_type": "execute_result"
    }
   ],
   "source": [
    "calculator( 8, 9, 50, 40, 10, 17 )"
   ]
  },
  {
   "cell_type": "markdown",
   "metadata": {},
   "source": [
    "We can use **\\*args** with a different name (e.g., **\\*list_vars** ). We should keep the asterisk (**\\***)."
   ]
  },
  {
   "cell_type": "code",
   "execution_count": 132,
   "metadata": {},
   "outputs": [],
   "source": [
    "def calculator( *list_vars ):\n",
    "    \n",
    "    print( f\"args is a { type( list_vars ) }\" )\n",
    "    # Get the first value\n",
    "    result = list_vars[ 0 ]\n",
    "    \n",
    "    # Keep the rest of values\n",
    "    list_vars1 = list_vars[ 1: ]\n",
    "    \n",
    "    # multiply all elements\n",
    "    for element in list_vars1:\n",
    "        result = result * element\n",
    "    \n",
    "    return result"
   ]
  },
  {
   "cell_type": "code",
   "execution_count": 134,
   "metadata": {},
   "outputs": [
    {
     "name": "stdout",
     "output_type": "stream",
     "text": [
      "args is a <class 'tuple'>\n"
     ]
    },
    {
     "data": {
      "text/plain": [
       "794880000"
      ]
     },
     "execution_count": 134,
     "metadata": {},
     "output_type": "execute_result"
    }
   ],
   "source": [
    "calculator( 8, 9, 50, 40, 23, 20, 12 )"
   ]
  },
  {
   "cell_type": "markdown",
   "metadata": {},
   "source": [
    "### <a id='#5.1.10.'>5.1.10. Kwargs </a> \n",
    "\n",
    "The special syntax **\\*kwargs** in function definitions in python is used to pass a keyworded, variable-length argument list. We use the name kwargs with the double star. The reason is because the double star allows us to pass through keyword arguments (and any number of them)."
   ]
  },
  {
   "cell_type": "code",
   "execution_count": 142,
   "metadata": {},
   "outputs": [],
   "source": [
    "def calculator( *list_vars, **kwargs):\n",
    "    \n",
    "    print( type( list_vars ) )\n",
    "    print( type( kwargs ) )\n",
    "    \n",
    "    if ( kwargs[ 'function' ] == \"Potencia\" ) :\n",
    "        \n",
    "        # Get the first value\n",
    "        result = potencia( list_vars )\n",
    "    \n",
    "    elif ( kwargs[ 'function' ] == \"multiplication\" ) :\n",
    "\n",
    "        # Get the first value\n",
    "        result = list_vars[ 0 ]\n",
    "\n",
    "        # Keep the rest of values\n",
    "        list_vars2 = list_vars[ 1: ]\n",
    "\n",
    "        # multiply all elements\n",
    "        for element in list_vars2:\n",
    "            result = result * element\n",
    "    else:\n",
    "        raise ValueError( f\"The function argument {kwargs[ 'function' ]} is not supported.\" )\n",
    "\n",
    "    return result"
   ]
  },
  {
   "cell_type": "code",
   "execution_count": 140,
   "metadata": {},
   "outputs": [
    {
     "name": "stdout",
     "output_type": "stream",
     "text": [
      "<class 'tuple'>\n",
      "<class 'dict'>\n"
     ]
    },
    {
     "data": {
      "text/plain": [
       "30"
      ]
     },
     "execution_count": 140,
     "metadata": {},
     "output_type": "execute_result"
    }
   ],
   "source": [
    "calculator( 4, 5, 6, 7, 8, function = \"addition\" )"
   ]
  },
  {
   "cell_type": "code",
   "execution_count": 141,
   "metadata": {
    "scrolled": false
   },
   "outputs": [
    {
     "name": "stdout",
     "output_type": "stream",
     "text": [
      "<class 'tuple'>\n",
      "<class 'dict'>\n"
     ]
    },
    {
     "ename": "ValueError",
     "evalue": "The function argument division is not supported.",
     "output_type": "error",
     "traceback": [
      "\u001b[1;31m---------------------------------------------------------------------------\u001b[0m",
      "\u001b[1;31mValueError\u001b[0m                                Traceback (most recent call last)",
      "\u001b[1;32m<ipython-input-141-bf8334b8975c>\u001b[0m in \u001b[0;36m<module>\u001b[1;34m\u001b[0m\n\u001b[1;32m----> 1\u001b[1;33m \u001b[0mcalculator\u001b[0m\u001b[1;33m(\u001b[0m \u001b[1;36m4\u001b[0m\u001b[1;33m,\u001b[0m \u001b[1;36m5\u001b[0m\u001b[1;33m,\u001b[0m \u001b[1;36m6\u001b[0m\u001b[1;33m,\u001b[0m \u001b[1;36m7\u001b[0m\u001b[1;33m,\u001b[0m \u001b[1;36m8\u001b[0m\u001b[1;33m,\u001b[0m \u001b[0mfunction\u001b[0m \u001b[1;33m=\u001b[0m \u001b[1;34m\"division\"\u001b[0m \u001b[1;33m)\u001b[0m\u001b[1;33m\u001b[0m\u001b[1;33m\u001b[0m\u001b[0m\n\u001b[0m",
      "\u001b[1;32m<ipython-input-139-691a0f9b9fe8>\u001b[0m in \u001b[0;36mcalculator\u001b[1;34m(*list_vars, **kwargs)\u001b[0m\n\u001b[0;32m     21\u001b[0m             \u001b[0mresult\u001b[0m \u001b[1;33m=\u001b[0m \u001b[0mresult\u001b[0m \u001b[1;33m*\u001b[0m \u001b[0melement\u001b[0m\u001b[1;33m\u001b[0m\u001b[1;33m\u001b[0m\u001b[0m\n\u001b[0;32m     22\u001b[0m     \u001b[1;32melse\u001b[0m\u001b[1;33m:\u001b[0m\u001b[1;33m\u001b[0m\u001b[1;33m\u001b[0m\u001b[0m\n\u001b[1;32m---> 23\u001b[1;33m         \u001b[1;32mraise\u001b[0m \u001b[0mValueError\u001b[0m\u001b[1;33m(\u001b[0m \u001b[1;34mf\"The function argument {kwargs[ 'function' ]} is not supported.\"\u001b[0m \u001b[1;33m)\u001b[0m\u001b[1;33m\u001b[0m\u001b[1;33m\u001b[0m\u001b[0m\n\u001b[0m\u001b[0;32m     24\u001b[0m \u001b[1;33m\u001b[0m\u001b[0m\n\u001b[0;32m     25\u001b[0m     \u001b[1;32mreturn\u001b[0m \u001b[0mresult\u001b[0m\u001b[1;33m\u001b[0m\u001b[1;33m\u001b[0m\u001b[0m\n",
      "\u001b[1;31mValueError\u001b[0m: The function argument division is not supported."
     ]
    }
   ],
   "source": [
    "calculator( 4, 5, 6, 7, 8, function = \"division\" )"
   ]
  },
  {
   "cell_type": "markdown",
   "metadata": {},
   "source": [
    "## Excersise\n",
    "#### Importing a Dictionary"
   ]
  },
  {
   "cell_type": "markdown",
   "metadata": {},
   "source": [
    "The `places_result` dictionary stores information from a Google API request that aims to geolocate all the National Identity Management Commission establishments in Nigeria. We want to store the results in a Pandas DataFrame. We want to keep the name of the establishment and its coordiantes."
   ]
  },
  {
   "cell_type": "code",
   "execution_count": 116,
   "metadata": {},
   "outputs": [
    {
     "ename": "NameError",
     "evalue": "name 'pickle' is not defined",
     "output_type": "error",
     "traceback": [
      "\u001b[1;31m---------------------------------------------------------------------------\u001b[0m",
      "\u001b[1;31mNameError\u001b[0m                                 Traceback (most recent call last)",
      "\u001b[1;32mC:\\Users\\ALEXAN~1\\AppData\\Local\\Temp/ipykernel_36464/2003854035.py\u001b[0m in \u001b[0;36m<module>\u001b[1;34m\u001b[0m\n\u001b[0;32m      1\u001b[0m \u001b[0mdictionary_places\u001b[0m \u001b[1;33m=\u001b[0m \u001b[0mopen\u001b[0m\u001b[1;33m(\u001b[0m \u001b[1;34mr\"..\\_data\\places_result\"\u001b[0m\u001b[1;33m,\u001b[0m \u001b[1;34m\"rb\"\u001b[0m\u001b[1;33m)\u001b[0m\u001b[1;33m\u001b[0m\u001b[1;33m\u001b[0m\u001b[0m\n\u001b[1;32m----> 2\u001b[1;33m \u001b[0mplaces_result\u001b[0m \u001b[1;33m=\u001b[0m \u001b[0mpickle\u001b[0m\u001b[1;33m.\u001b[0m\u001b[0mload\u001b[0m\u001b[1;33m(\u001b[0m \u001b[0mdictionary_places\u001b[0m \u001b[1;33m)\u001b[0m\u001b[1;33m\u001b[0m\u001b[1;33m\u001b[0m\u001b[0m\n\u001b[0m",
      "\u001b[1;31mNameError\u001b[0m: name 'pickle' is not defined"
     ]
    }
   ],
   "source": [
    "dictionary_places = open( r\"..\\_data\\places_result\", \"rb\")\n",
    "places_result = pickle.load( dictionary_places )"
   ]
  },
  {
   "cell_type": "code",
   "execution_count": 151,
   "metadata": {},
   "outputs": [
    {
     "data": {
      "text/plain": [
       "dict"
      ]
     },
     "execution_count": 151,
     "metadata": {},
     "output_type": "execute_result"
    }
   ],
   "source": [
    "# It is a dictionary\n",
    "type( places_result )"
   ]
  },
  {
   "cell_type": "code",
   "execution_count": 152,
   "metadata": {},
   "outputs": [
    {
     "name": "stdout",
     "output_type": "stream",
     "text": [
      "National Identity Management Commission (Nimc)\n",
      "National Identity Management Commission NIMC\n",
      "National Identity Management Commission\n",
      "National Identity Management Commission (Nimc)\n",
      "National Identity Management Commission\n",
      "National Identity Management Commission\n",
      "National Identity Management Commission (Nimc)\n",
      "National Identity Management Commission\n",
      "National Identity Management Commission (Nimc)\n",
      "National Identity Management Commission (Nimc)\n",
      "National Identity Management Center\n",
      "National Identity Management Commision (NIMC) Lagos\n",
      "National Identity Management Commission\n",
      "National Identity Management Commission (Nimc)\n",
      "National Identity Management Commission Umuahia\n",
      "National Identity Management Commission\n",
      "National Identity Management Commission (Nimc)\n",
      "National Identity Management Commission, Northwest Zonal Office\n",
      "National Identity Management Commission Nimc\n"
     ]
    }
   ],
   "source": [
    "# See all the establishments\n",
    "\n",
    "i = 0\n",
    "while True:\n",
    "    try:\n",
    "        i = i + 1\n",
    "        print( places_result['results'][i]['name'] )\n",
    "    except:\n",
    "        break"
   ]
  },
  {
   "cell_type": "code",
   "execution_count": 153,
   "metadata": {},
   "outputs": [
    {
     "data": {
      "text/plain": [
       "{'lat': 9.065977, 'lng': 7.4549606}"
      ]
     },
     "execution_count": 153,
     "metadata": {},
     "output_type": "execute_result"
    }
   ],
   "source": [
    "# We want to iterate over all the results to get the location of every point\n",
    "places_result['results'][0]['geometry']['location']"
   ]
  },
  {
   "cell_type": "markdown",
   "metadata": {},
   "source": [
    "`places_result` is a nested dictionary. It is composed of a list, dictionary, and a dictionary."
   ]
  },
  {
   "cell_type": "markdown",
   "metadata": {},
   "source": [
    "First, we are going to do it using a for loop. We are not going to use a function. After we get our expected results, we will define a function."
   ]
  },
  {
   "cell_type": "markdown",
   "metadata": {},
   "source": [
    "##### We can do it lists"
   ]
  },
  {
   "cell_type": "code",
   "execution_count": 154,
   "metadata": {},
   "outputs": [],
   "source": [
    "from tqdm import tqdm"
   ]
  },
  {
   "cell_type": "code",
   "execution_count": 156,
   "metadata": {},
   "outputs": [
    {
     "name": "stderr",
     "output_type": "stream",
     "text": [
      "100%|██████████████████████████████████████████████████████████████████████████████████████████| 20/20 [00:00<?, ?it/s]\n"
     ]
    },
    {
     "data": {
      "text/html": [
       "<div>\n",
       "<style scoped>\n",
       "    .dataframe tbody tr th:only-of-type {\n",
       "        vertical-align: middle;\n",
       "    }\n",
       "\n",
       "    .dataframe tbody tr th {\n",
       "        vertical-align: top;\n",
       "    }\n",
       "\n",
       "    .dataframe thead th {\n",
       "        text-align: right;\n",
       "    }\n",
       "</style>\n",
       "<table border=\"1\" class=\"dataframe\">\n",
       "  <thead>\n",
       "    <tr style=\"text-align: right;\">\n",
       "      <th></th>\n",
       "      <th>Institution</th>\n",
       "      <th>Latitud</th>\n",
       "      <th>Longitud</th>\n",
       "    </tr>\n",
       "  </thead>\n",
       "  <tbody>\n",
       "    <tr>\n",
       "      <th>0</th>\n",
       "      <td>National Identity Management Commission</td>\n",
       "      <td>9.065977</td>\n",
       "      <td>7.454961</td>\n",
       "    </tr>\n",
       "    <tr>\n",
       "      <th>1</th>\n",
       "      <td>National Identity Management Commission (Nimc)</td>\n",
       "      <td>8.450151</td>\n",
       "      <td>4.542503</td>\n",
       "    </tr>\n",
       "    <tr>\n",
       "      <th>2</th>\n",
       "      <td>National Identity Management Commission NIMC</td>\n",
       "      <td>8.505730</td>\n",
       "      <td>8.531775</td>\n",
       "    </tr>\n",
       "    <tr>\n",
       "      <th>3</th>\n",
       "      <td>National Identity Management Commission</td>\n",
       "      <td>9.058854</td>\n",
       "      <td>7.468078</td>\n",
       "    </tr>\n",
       "    <tr>\n",
       "      <th>4</th>\n",
       "      <td>National Identity Management Commission (Nimc)</td>\n",
       "      <td>9.895973</td>\n",
       "      <td>8.931434</td>\n",
       "    </tr>\n",
       "    <tr>\n",
       "      <th>5</th>\n",
       "      <td>National Identity Management Commission</td>\n",
       "      <td>9.892295</td>\n",
       "      <td>8.917566</td>\n",
       "    </tr>\n",
       "    <tr>\n",
       "      <th>6</th>\n",
       "      <td>National Identity Management Commission</td>\n",
       "      <td>9.857233</td>\n",
       "      <td>7.967972</td>\n",
       "    </tr>\n",
       "    <tr>\n",
       "      <th>7</th>\n",
       "      <td>National Identity Management Commission (Nimc)</td>\n",
       "      <td>7.711656</td>\n",
       "      <td>8.526523</td>\n",
       "    </tr>\n",
       "    <tr>\n",
       "      <th>8</th>\n",
       "      <td>National Identity Management Commission</td>\n",
       "      <td>11.989994</td>\n",
       "      <td>8.489165</td>\n",
       "    </tr>\n",
       "    <tr>\n",
       "      <th>9</th>\n",
       "      <td>National Identity Management Commission (Nimc)</td>\n",
       "      <td>10.310332</td>\n",
       "      <td>9.826602</td>\n",
       "    </tr>\n",
       "    <tr>\n",
       "      <th>10</th>\n",
       "      <td>National Identity Management Commission (Nimc)</td>\n",
       "      <td>10.592473</td>\n",
       "      <td>7.449456</td>\n",
       "    </tr>\n",
       "    <tr>\n",
       "      <th>11</th>\n",
       "      <td>National Identity Management Center</td>\n",
       "      <td>5.471781</td>\n",
       "      <td>7.008344</td>\n",
       "    </tr>\n",
       "    <tr>\n",
       "      <th>12</th>\n",
       "      <td>National Identity Management Commision (NIMC) ...</td>\n",
       "      <td>6.617086</td>\n",
       "      <td>3.357951</td>\n",
       "    </tr>\n",
       "    <tr>\n",
       "      <th>13</th>\n",
       "      <td>National Identity Management Commission</td>\n",
       "      <td>6.460106</td>\n",
       "      <td>7.579009</td>\n",
       "    </tr>\n",
       "    <tr>\n",
       "      <th>14</th>\n",
       "      <td>National Identity Management Commission (Nimc)</td>\n",
       "      <td>9.076770</td>\n",
       "      <td>7.493777</td>\n",
       "    </tr>\n",
       "    <tr>\n",
       "      <th>15</th>\n",
       "      <td>National Identity Management Commission Umuahia</td>\n",
       "      <td>5.502502</td>\n",
       "      <td>7.517956</td>\n",
       "    </tr>\n",
       "    <tr>\n",
       "      <th>16</th>\n",
       "      <td>National Identity Management Commission</td>\n",
       "      <td>4.822006</td>\n",
       "      <td>7.007972</td>\n",
       "    </tr>\n",
       "    <tr>\n",
       "      <th>17</th>\n",
       "      <td>National Identity Management Commission (Nimc)</td>\n",
       "      <td>11.988203</td>\n",
       "      <td>8.496804</td>\n",
       "    </tr>\n",
       "    <tr>\n",
       "      <th>18</th>\n",
       "      <td>National Identity Management Commission, North...</td>\n",
       "      <td>10.543617</td>\n",
       "      <td>7.460988</td>\n",
       "    </tr>\n",
       "    <tr>\n",
       "      <th>19</th>\n",
       "      <td>National Identity Management Commission Nimc</td>\n",
       "      <td>4.849608</td>\n",
       "      <td>7.052736</td>\n",
       "    </tr>\n",
       "  </tbody>\n",
       "</table>\n",
       "</div>"
      ],
      "text/plain": [
       "                                          Institution    Latitud  Longitud\n",
       "0             National Identity Management Commission   9.065977  7.454961\n",
       "1      National Identity Management Commission (Nimc)   8.450151  4.542503\n",
       "2        National Identity Management Commission NIMC   8.505730  8.531775\n",
       "3             National Identity Management Commission   9.058854  7.468078\n",
       "4      National Identity Management Commission (Nimc)   9.895973  8.931434\n",
       "5             National Identity Management Commission   9.892295  8.917566\n",
       "6             National Identity Management Commission   9.857233  7.967972\n",
       "7      National Identity Management Commission (Nimc)   7.711656  8.526523\n",
       "8             National Identity Management Commission  11.989994  8.489165\n",
       "9      National Identity Management Commission (Nimc)  10.310332  9.826602\n",
       "10     National Identity Management Commission (Nimc)  10.592473  7.449456\n",
       "11                National Identity Management Center   5.471781  7.008344\n",
       "12  National Identity Management Commision (NIMC) ...   6.617086  3.357951\n",
       "13            National Identity Management Commission   6.460106  7.579009\n",
       "14     National Identity Management Commission (Nimc)   9.076770  7.493777\n",
       "15    National Identity Management Commission Umuahia   5.502502  7.517956\n",
       "16            National Identity Management Commission   4.822006  7.007972\n",
       "17     National Identity Management Commission (Nimc)  11.988203  8.496804\n",
       "18  National Identity Management Commission, North...  10.543617  7.460988\n",
       "19       National Identity Management Commission Nimc   4.849608  7.052736"
      ]
     },
     "execution_count": 156,
     "metadata": {},
     "output_type": "execute_result"
    }
   ],
   "source": [
    "# Lists\n",
    "latitudes = []\n",
    "longitudes = []\n",
    "institutions = []\n",
    "\n",
    "\n",
    "# define all the results\n",
    "results = places_result[ 'results' ]\n",
    "# loop para guardar cada uno de los elementos\n",
    "for row in tqdm( range( 0 , len( results ) ) ):\n",
    "    \n",
    "    # latitude\n",
    "    lat = results[ row ]['geometry']['location']['lat']\n",
    "    \n",
    "    # Longitude\n",
    "    lng = results[ row ]['geometry']['location']['lng']\n",
    "    \n",
    "    # nombre de la institution\n",
    "    institution = results[ row ]['name']\n",
    "    \n",
    "    # Save results\n",
    "    latitudes.append( lat )\n",
    "    longitudes.append( lng )\n",
    "    institutions.append( institution )\n",
    "    \n",
    "# Diccionario\n",
    "final_result = { 'Institution': institutions, 'Latitud' : latitudes, 'Longitud' : longitudes }\n",
    "# Dataframe\n",
    "df_result = pd.DataFrame( final_result )\n",
    "df_result"
   ]
  },
  {
   "cell_type": "markdown",
   "metadata": {},
   "source": [
    "##### We can do it using iteration over rows of a DataFrame"
   ]
  },
  {
   "cell_type": "code",
   "execution_count": 157,
   "metadata": {},
   "outputs": [
    {
     "name": "stderr",
     "output_type": "stream",
     "text": [
      "100%|█████████████████████████████████████████████████████████████████████████████████| 20/20 [00:00<00:00, 466.35it/s]\n"
     ]
    },
    {
     "data": {
      "text/html": [
       "<div>\n",
       "<style scoped>\n",
       "    .dataframe tbody tr th:only-of-type {\n",
       "        vertical-align: middle;\n",
       "    }\n",
       "\n",
       "    .dataframe tbody tr th {\n",
       "        vertical-align: top;\n",
       "    }\n",
       "\n",
       "    .dataframe thead th {\n",
       "        text-align: right;\n",
       "    }\n",
       "</style>\n",
       "<table border=\"1\" class=\"dataframe\">\n",
       "  <thead>\n",
       "    <tr style=\"text-align: right;\">\n",
       "      <th></th>\n",
       "      <th>Institution</th>\n",
       "      <th>Latitude</th>\n",
       "      <th>Longitud</th>\n",
       "    </tr>\n",
       "  </thead>\n",
       "  <tbody>\n",
       "    <tr>\n",
       "      <th>0</th>\n",
       "      <td>National Identity Management Commission</td>\n",
       "      <td>9.065977</td>\n",
       "      <td>7.454961</td>\n",
       "    </tr>\n",
       "    <tr>\n",
       "      <th>1</th>\n",
       "      <td>National Identity Management Commission (Nimc)</td>\n",
       "      <td>8.450151</td>\n",
       "      <td>4.542503</td>\n",
       "    </tr>\n",
       "    <tr>\n",
       "      <th>2</th>\n",
       "      <td>National Identity Management Commission NIMC</td>\n",
       "      <td>8.505730</td>\n",
       "      <td>8.531775</td>\n",
       "    </tr>\n",
       "    <tr>\n",
       "      <th>3</th>\n",
       "      <td>National Identity Management Commission</td>\n",
       "      <td>9.058854</td>\n",
       "      <td>7.468078</td>\n",
       "    </tr>\n",
       "    <tr>\n",
       "      <th>4</th>\n",
       "      <td>National Identity Management Commission (Nimc)</td>\n",
       "      <td>9.895973</td>\n",
       "      <td>8.931434</td>\n",
       "    </tr>\n",
       "    <tr>\n",
       "      <th>5</th>\n",
       "      <td>National Identity Management Commission</td>\n",
       "      <td>9.892295</td>\n",
       "      <td>8.917566</td>\n",
       "    </tr>\n",
       "    <tr>\n",
       "      <th>6</th>\n",
       "      <td>National Identity Management Commission</td>\n",
       "      <td>9.857233</td>\n",
       "      <td>7.967972</td>\n",
       "    </tr>\n",
       "    <tr>\n",
       "      <th>7</th>\n",
       "      <td>National Identity Management Commission (Nimc)</td>\n",
       "      <td>7.711656</td>\n",
       "      <td>8.526523</td>\n",
       "    </tr>\n",
       "    <tr>\n",
       "      <th>8</th>\n",
       "      <td>National Identity Management Commission</td>\n",
       "      <td>11.989994</td>\n",
       "      <td>8.489165</td>\n",
       "    </tr>\n",
       "    <tr>\n",
       "      <th>9</th>\n",
       "      <td>National Identity Management Commission (Nimc)</td>\n",
       "      <td>10.310332</td>\n",
       "      <td>9.826602</td>\n",
       "    </tr>\n",
       "    <tr>\n",
       "      <th>10</th>\n",
       "      <td>National Identity Management Commission (Nimc)</td>\n",
       "      <td>10.592473</td>\n",
       "      <td>7.449456</td>\n",
       "    </tr>\n",
       "    <tr>\n",
       "      <th>11</th>\n",
       "      <td>National Identity Management Center</td>\n",
       "      <td>5.471781</td>\n",
       "      <td>7.008344</td>\n",
       "    </tr>\n",
       "    <tr>\n",
       "      <th>12</th>\n",
       "      <td>National Identity Management Commision (NIMC) ...</td>\n",
       "      <td>6.617086</td>\n",
       "      <td>3.357951</td>\n",
       "    </tr>\n",
       "    <tr>\n",
       "      <th>13</th>\n",
       "      <td>National Identity Management Commission</td>\n",
       "      <td>6.460106</td>\n",
       "      <td>7.579009</td>\n",
       "    </tr>\n",
       "    <tr>\n",
       "      <th>14</th>\n",
       "      <td>National Identity Management Commission (Nimc)</td>\n",
       "      <td>9.076770</td>\n",
       "      <td>7.493777</td>\n",
       "    </tr>\n",
       "    <tr>\n",
       "      <th>15</th>\n",
       "      <td>National Identity Management Commission Umuahia</td>\n",
       "      <td>5.502502</td>\n",
       "      <td>7.517956</td>\n",
       "    </tr>\n",
       "    <tr>\n",
       "      <th>16</th>\n",
       "      <td>National Identity Management Commission</td>\n",
       "      <td>4.822006</td>\n",
       "      <td>7.007972</td>\n",
       "    </tr>\n",
       "    <tr>\n",
       "      <th>17</th>\n",
       "      <td>National Identity Management Commission (Nimc)</td>\n",
       "      <td>11.988203</td>\n",
       "      <td>8.496804</td>\n",
       "    </tr>\n",
       "    <tr>\n",
       "      <th>18</th>\n",
       "      <td>National Identity Management Commission, North...</td>\n",
       "      <td>10.543617</td>\n",
       "      <td>7.460988</td>\n",
       "    </tr>\n",
       "    <tr>\n",
       "      <th>19</th>\n",
       "      <td>National Identity Management Commission Nimc</td>\n",
       "      <td>4.849608</td>\n",
       "      <td>7.052736</td>\n",
       "    </tr>\n",
       "  </tbody>\n",
       "</table>\n",
       "</div>"
      ],
      "text/plain": [
       "                                          Institution   Latitude  Longitud\n",
       "0             National Identity Management Commission   9.065977  7.454961\n",
       "1      National Identity Management Commission (Nimc)   8.450151  4.542503\n",
       "2        National Identity Management Commission NIMC   8.505730  8.531775\n",
       "3             National Identity Management Commission   9.058854  7.468078\n",
       "4      National Identity Management Commission (Nimc)   9.895973  8.931434\n",
       "5             National Identity Management Commission   9.892295  8.917566\n",
       "6             National Identity Management Commission   9.857233  7.967972\n",
       "7      National Identity Management Commission (Nimc)   7.711656  8.526523\n",
       "8             National Identity Management Commission  11.989994  8.489165\n",
       "9      National Identity Management Commission (Nimc)  10.310332  9.826602\n",
       "10     National Identity Management Commission (Nimc)  10.592473  7.449456\n",
       "11                National Identity Management Center   5.471781  7.008344\n",
       "12  National Identity Management Commision (NIMC) ...   6.617086  3.357951\n",
       "13            National Identity Management Commission   6.460106  7.579009\n",
       "14     National Identity Management Commission (Nimc)   9.076770  7.493777\n",
       "15    National Identity Management Commission Umuahia   5.502502  7.517956\n",
       "16            National Identity Management Commission   4.822006  7.007972\n",
       "17     National Identity Management Commission (Nimc)  11.988203  8.496804\n",
       "18  National Identity Management Commission, North...  10.543617  7.460988\n",
       "19       National Identity Management Commission Nimc   4.849608  7.052736"
      ]
     },
     "execution_count": 157,
     "metadata": {},
     "output_type": "execute_result"
    }
   ],
   "source": [
    "df2 = pd.DataFrame( columns = ['Institution','Latitude','Longitud'] )\n",
    "\n",
    "results = places_result['results']\n",
    "\n",
    "for fila in tqdm(range( 0 , len( results ) )):\n",
    "    \n",
    "    df2.loc[fila] = [results[ fila ]['name'], \\\n",
    "                       results[ fila ]['geometry']['location']['lat'], \\\n",
    "                       results[ fila ]['geometry']['location']['lng']]\n",
    "    \n",
    "df2"
   ]
  },
  {
   "cell_type": "code",
   "execution_count": 160,
   "metadata": {},
   "outputs": [],
   "source": [
    "def dict_output( dictionary , output = 'tuples'):\n",
    "    \n",
    "    # key results\n",
    "    results = dictionary['results']\n",
    "    \n",
    "    # Lists\n",
    "    latitudes = []\n",
    "    longitudes = []\n",
    "    inst = []\n",
    "    \n",
    "    # iterate over values and store in lists\n",
    "    # we are going to use lists apporach\n",
    "    for fila in range( 0 , len( results ) ):\n",
    "        # latitude\n",
    "        lat = results[ fila ]['geometry']['location']['lat']\n",
    "\n",
    "        # Longitude\n",
    "        lng = results[ fila ]['geometry']['location']['lng']\n",
    "\n",
    "        # nombre de la institucion\n",
    "        institucion = results[ fila ]['name']\n",
    "\n",
    "        # Save results\n",
    "        latitudes.append( lat )\n",
    "        longitudes.append( lng )\n",
    "        inst.append( institucion )\n",
    "    \n",
    "    # Store all values in \n",
    "    # dictionary\n",
    "    results_dict = { 'Instituciones': institutions, 'Latitud' : latitudes, 'Longitud' : longitudes }\n",
    "    \n",
    "    # pandas\n",
    "    results_pd = pd.DataFrame( results_dict )\n",
    "    \n",
    "    # tuple\n",
    "    results_tuple = ( latitudes , longitudes , inst )\n",
    "    \n",
    "    # We can use return with if condition\n",
    "    if output == 'dataframe':\n",
    "        return results_pd\n",
    "    \n",
    "    elif output == 'dictionary':\n",
    "        return results_dict\n",
    "    \n",
    "    elif output == 'tuple':\n",
    "        return results_tuple\n",
    "    \n",
    "    else:\n",
    "        raise Exception( f'''The output value ({output}) is wrong. \\nYou can only use `tuple`, `dataframe`, or `dictionary` as argument variables.''' )"
   ]
  },
  {
   "cell_type": "code",
   "execution_count": 161,
   "metadata": {},
   "outputs": [
    {
     "data": {
      "text/plain": [
       "([9.065977,\n",
       "  8.450151,\n",
       "  8.50573,\n",
       "  9.058854499999999,\n",
       "  9.895973,\n",
       "  9.892294699999999,\n",
       "  9.8572331,\n",
       "  7.711655800000001,\n",
       "  11.9899944,\n",
       "  10.310332,\n",
       "  10.592473,\n",
       "  5.4717813,\n",
       "  6.617086,\n",
       "  6.460105899999999,\n",
       "  9.07677,\n",
       "  5.5025021,\n",
       "  4.822006,\n",
       "  11.988203,\n",
       "  10.5436173,\n",
       "  4.8496083],\n",
       " [7.4549606,\n",
       "  4.542503,\n",
       "  8.531774799999999,\n",
       "  7.468077600000001,\n",
       "  8.931434,\n",
       "  8.9175658,\n",
       "  7.967971899999998,\n",
       "  8.5265235,\n",
       "  8.4891647,\n",
       "  9.826602,\n",
       "  7.449456,\n",
       "  7.0083439,\n",
       "  3.357951,\n",
       "  7.579008999999999,\n",
       "  7.493777,\n",
       "  7.517955600000001,\n",
       "  7.0079724,\n",
       "  8.496804,\n",
       "  7.4609879,\n",
       "  7.0527365],\n",
       " ['National Identity Management Commission',\n",
       "  'National Identity Management Commission (Nimc)',\n",
       "  'National Identity Management Commission NIMC',\n",
       "  'National Identity Management Commission',\n",
       "  'National Identity Management Commission (Nimc)',\n",
       "  'National Identity Management Commission',\n",
       "  'National Identity Management Commission',\n",
       "  'National Identity Management Commission (Nimc)',\n",
       "  'National Identity Management Commission',\n",
       "  'National Identity Management Commission (Nimc)',\n",
       "  'National Identity Management Commission (Nimc)',\n",
       "  'National Identity Management Center',\n",
       "  'National Identity Management Commision (NIMC) Lagos',\n",
       "  'National Identity Management Commission',\n",
       "  'National Identity Management Commission (Nimc)',\n",
       "  'National Identity Management Commission Umuahia',\n",
       "  'National Identity Management Commission',\n",
       "  'National Identity Management Commission (Nimc)',\n",
       "  'National Identity Management Commission, Northwest Zonal Office',\n",
       "  'National Identity Management Commission Nimc'])"
      ]
     },
     "execution_count": 161,
     "metadata": {},
     "output_type": "execute_result"
    }
   ],
   "source": [
    "dict_output( places_result, output = \"tuple\" )"
   ]
  },
  {
   "cell_type": "code",
   "execution_count": 162,
   "metadata": {},
   "outputs": [
    {
     "data": {
      "text/html": [
       "<div>\n",
       "<style scoped>\n",
       "    .dataframe tbody tr th:only-of-type {\n",
       "        vertical-align: middle;\n",
       "    }\n",
       "\n",
       "    .dataframe tbody tr th {\n",
       "        vertical-align: top;\n",
       "    }\n",
       "\n",
       "    .dataframe thead th {\n",
       "        text-align: right;\n",
       "    }\n",
       "</style>\n",
       "<table border=\"1\" class=\"dataframe\">\n",
       "  <thead>\n",
       "    <tr style=\"text-align: right;\">\n",
       "      <th></th>\n",
       "      <th>Instituciones</th>\n",
       "      <th>Latitud</th>\n",
       "      <th>Longitud</th>\n",
       "    </tr>\n",
       "  </thead>\n",
       "  <tbody>\n",
       "    <tr>\n",
       "      <th>0</th>\n",
       "      <td>National Identity Management Commission</td>\n",
       "      <td>9.065977</td>\n",
       "      <td>7.454961</td>\n",
       "    </tr>\n",
       "    <tr>\n",
       "      <th>1</th>\n",
       "      <td>National Identity Management Commission (Nimc)</td>\n",
       "      <td>8.450151</td>\n",
       "      <td>4.542503</td>\n",
       "    </tr>\n",
       "    <tr>\n",
       "      <th>2</th>\n",
       "      <td>National Identity Management Commission NIMC</td>\n",
       "      <td>8.505730</td>\n",
       "      <td>8.531775</td>\n",
       "    </tr>\n",
       "    <tr>\n",
       "      <th>3</th>\n",
       "      <td>National Identity Management Commission</td>\n",
       "      <td>9.058854</td>\n",
       "      <td>7.468078</td>\n",
       "    </tr>\n",
       "    <tr>\n",
       "      <th>4</th>\n",
       "      <td>National Identity Management Commission (Nimc)</td>\n",
       "      <td>9.895973</td>\n",
       "      <td>8.931434</td>\n",
       "    </tr>\n",
       "    <tr>\n",
       "      <th>5</th>\n",
       "      <td>National Identity Management Commission</td>\n",
       "      <td>9.892295</td>\n",
       "      <td>8.917566</td>\n",
       "    </tr>\n",
       "    <tr>\n",
       "      <th>6</th>\n",
       "      <td>National Identity Management Commission</td>\n",
       "      <td>9.857233</td>\n",
       "      <td>7.967972</td>\n",
       "    </tr>\n",
       "    <tr>\n",
       "      <th>7</th>\n",
       "      <td>National Identity Management Commission (Nimc)</td>\n",
       "      <td>7.711656</td>\n",
       "      <td>8.526523</td>\n",
       "    </tr>\n",
       "    <tr>\n",
       "      <th>8</th>\n",
       "      <td>National Identity Management Commission</td>\n",
       "      <td>11.989994</td>\n",
       "      <td>8.489165</td>\n",
       "    </tr>\n",
       "    <tr>\n",
       "      <th>9</th>\n",
       "      <td>National Identity Management Commission (Nimc)</td>\n",
       "      <td>10.310332</td>\n",
       "      <td>9.826602</td>\n",
       "    </tr>\n",
       "    <tr>\n",
       "      <th>10</th>\n",
       "      <td>National Identity Management Commission (Nimc)</td>\n",
       "      <td>10.592473</td>\n",
       "      <td>7.449456</td>\n",
       "    </tr>\n",
       "    <tr>\n",
       "      <th>11</th>\n",
       "      <td>National Identity Management Center</td>\n",
       "      <td>5.471781</td>\n",
       "      <td>7.008344</td>\n",
       "    </tr>\n",
       "    <tr>\n",
       "      <th>12</th>\n",
       "      <td>National Identity Management Commision (NIMC) ...</td>\n",
       "      <td>6.617086</td>\n",
       "      <td>3.357951</td>\n",
       "    </tr>\n",
       "    <tr>\n",
       "      <th>13</th>\n",
       "      <td>National Identity Management Commission</td>\n",
       "      <td>6.460106</td>\n",
       "      <td>7.579009</td>\n",
       "    </tr>\n",
       "    <tr>\n",
       "      <th>14</th>\n",
       "      <td>National Identity Management Commission (Nimc)</td>\n",
       "      <td>9.076770</td>\n",
       "      <td>7.493777</td>\n",
       "    </tr>\n",
       "    <tr>\n",
       "      <th>15</th>\n",
       "      <td>National Identity Management Commission Umuahia</td>\n",
       "      <td>5.502502</td>\n",
       "      <td>7.517956</td>\n",
       "    </tr>\n",
       "    <tr>\n",
       "      <th>16</th>\n",
       "      <td>National Identity Management Commission</td>\n",
       "      <td>4.822006</td>\n",
       "      <td>7.007972</td>\n",
       "    </tr>\n",
       "    <tr>\n",
       "      <th>17</th>\n",
       "      <td>National Identity Management Commission (Nimc)</td>\n",
       "      <td>11.988203</td>\n",
       "      <td>8.496804</td>\n",
       "    </tr>\n",
       "    <tr>\n",
       "      <th>18</th>\n",
       "      <td>National Identity Management Commission, North...</td>\n",
       "      <td>10.543617</td>\n",
       "      <td>7.460988</td>\n",
       "    </tr>\n",
       "    <tr>\n",
       "      <th>19</th>\n",
       "      <td>National Identity Management Commission Nimc</td>\n",
       "      <td>4.849608</td>\n",
       "      <td>7.052736</td>\n",
       "    </tr>\n",
       "  </tbody>\n",
       "</table>\n",
       "</div>"
      ],
      "text/plain": [
       "                                        Instituciones    Latitud  Longitud\n",
       "0             National Identity Management Commission   9.065977  7.454961\n",
       "1      National Identity Management Commission (Nimc)   8.450151  4.542503\n",
       "2        National Identity Management Commission NIMC   8.505730  8.531775\n",
       "3             National Identity Management Commission   9.058854  7.468078\n",
       "4      National Identity Management Commission (Nimc)   9.895973  8.931434\n",
       "5             National Identity Management Commission   9.892295  8.917566\n",
       "6             National Identity Management Commission   9.857233  7.967972\n",
       "7      National Identity Management Commission (Nimc)   7.711656  8.526523\n",
       "8             National Identity Management Commission  11.989994  8.489165\n",
       "9      National Identity Management Commission (Nimc)  10.310332  9.826602\n",
       "10     National Identity Management Commission (Nimc)  10.592473  7.449456\n",
       "11                National Identity Management Center   5.471781  7.008344\n",
       "12  National Identity Management Commision (NIMC) ...   6.617086  3.357951\n",
       "13            National Identity Management Commission   6.460106  7.579009\n",
       "14     National Identity Management Commission (Nimc)   9.076770  7.493777\n",
       "15    National Identity Management Commission Umuahia   5.502502  7.517956\n",
       "16            National Identity Management Commission   4.822006  7.007972\n",
       "17     National Identity Management Commission (Nimc)  11.988203  8.496804\n",
       "18  National Identity Management Commission, North...  10.543617  7.460988\n",
       "19       National Identity Management Commission Nimc   4.849608  7.052736"
      ]
     },
     "execution_count": 162,
     "metadata": {},
     "output_type": "execute_result"
    }
   ],
   "source": [
    "dict_output( places_result, output = \"dataframe\" )"
   ]
  },
  {
   "cell_type": "code",
   "execution_count": 164,
   "metadata": {},
   "outputs": [
    {
     "data": {
      "text/plain": [
       "{'Instituciones': ['National Identity Management Commission',\n",
       "  'National Identity Management Commission (Nimc)',\n",
       "  'National Identity Management Commission NIMC',\n",
       "  'National Identity Management Commission',\n",
       "  'National Identity Management Commission (Nimc)',\n",
       "  'National Identity Management Commission',\n",
       "  'National Identity Management Commission',\n",
       "  'National Identity Management Commission (Nimc)',\n",
       "  'National Identity Management Commission',\n",
       "  'National Identity Management Commission (Nimc)',\n",
       "  'National Identity Management Commission (Nimc)',\n",
       "  'National Identity Management Center',\n",
       "  'National Identity Management Commision (NIMC) Lagos',\n",
       "  'National Identity Management Commission',\n",
       "  'National Identity Management Commission (Nimc)',\n",
       "  'National Identity Management Commission Umuahia',\n",
       "  'National Identity Management Commission',\n",
       "  'National Identity Management Commission (Nimc)',\n",
       "  'National Identity Management Commission, Northwest Zonal Office',\n",
       "  'National Identity Management Commission Nimc'],\n",
       " 'Latitud': [9.065977,\n",
       "  8.450151,\n",
       "  8.50573,\n",
       "  9.058854499999999,\n",
       "  9.895973,\n",
       "  9.892294699999999,\n",
       "  9.8572331,\n",
       "  7.711655800000001,\n",
       "  11.9899944,\n",
       "  10.310332,\n",
       "  10.592473,\n",
       "  5.4717813,\n",
       "  6.617086,\n",
       "  6.460105899999999,\n",
       "  9.07677,\n",
       "  5.5025021,\n",
       "  4.822006,\n",
       "  11.988203,\n",
       "  10.5436173,\n",
       "  4.8496083],\n",
       " 'Longitud': [7.4549606,\n",
       "  4.542503,\n",
       "  8.531774799999999,\n",
       "  7.468077600000001,\n",
       "  8.931434,\n",
       "  8.9175658,\n",
       "  7.967971899999998,\n",
       "  8.5265235,\n",
       "  8.4891647,\n",
       "  9.826602,\n",
       "  7.449456,\n",
       "  7.0083439,\n",
       "  3.357951,\n",
       "  7.579008999999999,\n",
       "  7.493777,\n",
       "  7.517955600000001,\n",
       "  7.0079724,\n",
       "  8.496804,\n",
       "  7.4609879,\n",
       "  7.0527365]}"
      ]
     },
     "execution_count": 164,
     "metadata": {},
     "output_type": "execute_result"
    }
   ],
   "source": [
    "dict_output( places_result, output = \"dictionary\" )"
   ]
  },
  {
   "cell_type": "code",
   "execution_count": 165,
   "metadata": {},
   "outputs": [
    {
     "ename": "Exception",
     "evalue": "The output value (list) is wrong. \nYou can only use `tuple`, `dataframe`, or `dictionary` as argument variables.",
     "output_type": "error",
     "traceback": [
      "\u001b[1;31m---------------------------------------------------------------------------\u001b[0m",
      "\u001b[1;31mException\u001b[0m                                 Traceback (most recent call last)",
      "\u001b[1;32m<ipython-input-165-e91397d3200f>\u001b[0m in \u001b[0;36m<module>\u001b[1;34m\u001b[0m\n\u001b[1;32m----> 1\u001b[1;33m \u001b[0mdict_output\u001b[0m\u001b[1;33m(\u001b[0m \u001b[0mplaces_result\u001b[0m\u001b[1;33m,\u001b[0m \u001b[0moutput\u001b[0m \u001b[1;33m=\u001b[0m \u001b[1;34m\"list\"\u001b[0m \u001b[1;33m)\u001b[0m\u001b[1;33m\u001b[0m\u001b[1;33m\u001b[0m\u001b[0m\n\u001b[0m",
      "\u001b[1;32m<ipython-input-160-0ecbb021015a>\u001b[0m in \u001b[0;36mdict_output\u001b[1;34m(dictionary, output)\u001b[0m\n\u001b[0;32m     47\u001b[0m \u001b[1;33m\u001b[0m\u001b[0m\n\u001b[0;32m     48\u001b[0m     \u001b[1;32melse\u001b[0m\u001b[1;33m:\u001b[0m\u001b[1;33m\u001b[0m\u001b[1;33m\u001b[0m\u001b[0m\n\u001b[1;32m---> 49\u001b[1;33m         \u001b[1;32mraise\u001b[0m \u001b[0mException\u001b[0m\u001b[1;33m(\u001b[0m \u001b[1;34mf'''The output value ({output}) is wrong. \\nYou can only use `tuple`, `dataframe`, or `dictionary` as argument variables.'''\u001b[0m \u001b[1;33m)\u001b[0m\u001b[1;33m\u001b[0m\u001b[1;33m\u001b[0m\u001b[0m\n\u001b[0m",
      "\u001b[1;31mException\u001b[0m: The output value (list) is wrong. \nYou can only use `tuple`, `dataframe`, or `dictionary` as argument variables."
     ]
    }
   ],
   "source": [
    "dict_output( places_result, output = \"list\" )"
   ]
  },
  {
   "cell_type": "code",
   "execution_count": 118,
   "metadata": {},
   "outputs": [],
   "source": [
    "import pandas as pd"
   ]
  },
  {
   "cell_type": "code",
   "execution_count": 119,
   "metadata": {},
   "outputs": [],
   "source": [
    "extraction_fish = pd.read_csv( r\"..\\_data\\production_fish.csv\" )"
   ]
  },
  {
   "cell_type": "code",
   "execution_count": 120,
   "metadata": {},
   "outputs": [
    {
     "data": {
      "text/html": [
       "<div>\n",
       "<style scoped>\n",
       "    .dataframe tbody tr th:only-of-type {\n",
       "        vertical-align: middle;\n",
       "    }\n",
       "\n",
       "    .dataframe tbody tr th {\n",
       "        vertical-align: top;\n",
       "    }\n",
       "\n",
       "    .dataframe thead th {\n",
       "        text-align: right;\n",
       "    }\n",
       "</style>\n",
       "<table border=\"1\" class=\"dataframe\">\n",
       "  <thead>\n",
       "    <tr style=\"text-align: right;\">\n",
       "      <th></th>\n",
       "      <th>year</th>\n",
       "      <th>Consumo Industrial - Anchoveta</th>\n",
       "      <th>Consumo Humano - Congelado - Concha de abanico</th>\n",
       "      <th>Consumo Humano - Congelado - Langostino</th>\n",
       "      <th>Consumo Humano - Congelado - Merluza</th>\n",
       "      <th>Consumo Humano - Congelado - Calamar gigante</th>\n",
       "      <th>Consumo Humano - Conservas - Atún</th>\n",
       "      <th>Consumo Humano - Conservas - Caballa</th>\n",
       "      <th>Consumo Humano - Conservas - Jurel</th>\n",
       "      <th>Consumo Humano - Conservas - Sardina</th>\n",
       "      <th>Consumo Humano - Fresco - Concha de abanico</th>\n",
       "      <th>Consumo Humano - Fresco - Jurel</th>\n",
       "      <th>Consumo Humano - Fresco - Liza</th>\n",
       "      <th>Consumo Humano - Fresco - Tollo</th>\n",
       "      <th>total_production</th>\n",
       "    </tr>\n",
       "  </thead>\n",
       "  <tbody>\n",
       "    <tr>\n",
       "      <th>0</th>\n",
       "      <td>2005</td>\n",
       "      <td>8628.396000</td>\n",
       "      <td>13.537000</td>\n",
       "      <td>9.021000</td>\n",
       "      <td>23.279000</td>\n",
       "      <td>235.630000</td>\n",
       "      <td>9.877000</td>\n",
       "      <td>25.711000</td>\n",
       "      <td>20.481000</td>\n",
       "      <td>0.165000</td>\n",
       "      <td>1.843080</td>\n",
       "      <td>56.167940</td>\n",
       "      <td>5.875600</td>\n",
       "      <td>0.430000</td>\n",
       "      <td>9030.413620</td>\n",
       "    </tr>\n",
       "    <tr>\n",
       "      <th>1</th>\n",
       "      <td>2006</td>\n",
       "      <td>5891.838000</td>\n",
       "      <td>14.714000</td>\n",
       "      <td>11.295000</td>\n",
       "      <td>25.189000</td>\n",
       "      <td>365.729000</td>\n",
       "      <td>11.336000</td>\n",
       "      <td>58.245000</td>\n",
       "      <td>122.904000</td>\n",
       "      <td>0.048000</td>\n",
       "      <td>4.048000</td>\n",
       "      <td>136.827000</td>\n",
       "      <td>3.166000</td>\n",
       "      <td>1.584000</td>\n",
       "      <td>6646.923000</td>\n",
       "    </tr>\n",
       "    <tr>\n",
       "      <th>2</th>\n",
       "      <td>2007</td>\n",
       "      <td>6084.713000</td>\n",
       "      <td>19.937000</td>\n",
       "      <td>13.548000</td>\n",
       "      <td>28.358488</td>\n",
       "      <td>379.556594</td>\n",
       "      <td>3.713293</td>\n",
       "      <td>26.248739</td>\n",
       "      <td>82.910307</td>\n",
       "      <td>0.001020</td>\n",
       "      <td>4.822991</td>\n",
       "      <td>134.887316</td>\n",
       "      <td>9.317622</td>\n",
       "      <td>2.834958</td>\n",
       "      <td>6790.849328</td>\n",
       "    </tr>\n",
       "    <tr>\n",
       "      <th>3</th>\n",
       "      <td>2008</td>\n",
       "      <td>6159.387000</td>\n",
       "      <td>18.790000</td>\n",
       "      <td>12.817000</td>\n",
       "      <td>26.348398</td>\n",
       "      <td>484.162082</td>\n",
       "      <td>3.283711</td>\n",
       "      <td>47.694121</td>\n",
       "      <td>58.864202</td>\n",
       "      <td>0.000000</td>\n",
       "      <td>0.828187</td>\n",
       "      <td>80.092885</td>\n",
       "      <td>14.514054</td>\n",
       "      <td>2.933360</td>\n",
       "      <td>6909.715000</td>\n",
       "    </tr>\n",
       "    <tr>\n",
       "      <th>4</th>\n",
       "      <td>2009</td>\n",
       "      <td>5828.636000</td>\n",
       "      <td>24.634372</td>\n",
       "      <td>11.877399</td>\n",
       "      <td>36.774763</td>\n",
       "      <td>355.106589</td>\n",
       "      <td>2.017061</td>\n",
       "      <td>51.355908</td>\n",
       "      <td>14.289041</td>\n",
       "      <td>0.000000</td>\n",
       "      <td>1.843072</td>\n",
       "      <td>47.079175</td>\n",
       "      <td>17.311344</td>\n",
       "      <td>4.057886</td>\n",
       "      <td>6394.982610</td>\n",
       "    </tr>\n",
       "    <tr>\n",
       "      <th>5</th>\n",
       "      <td>2010</td>\n",
       "      <td>3330.413040</td>\n",
       "      <td>60.001250</td>\n",
       "      <td>14.477939</td>\n",
       "      <td>25.647697</td>\n",
       "      <td>327.571909</td>\n",
       "      <td>9.182845</td>\n",
       "      <td>9.729522</td>\n",
       "      <td>5.774274</td>\n",
       "      <td>0.000000</td>\n",
       "      <td>2.824749</td>\n",
       "      <td>10.404933</td>\n",
       "      <td>9.706363</td>\n",
       "      <td>4.994712</td>\n",
       "      <td>3810.729233</td>\n",
       "    </tr>\n",
       "    <tr>\n",
       "      <th>6</th>\n",
       "      <td>2011</td>\n",
       "      <td>7000.092781</td>\n",
       "      <td>92.027637</td>\n",
       "      <td>23.384478</td>\n",
       "      <td>28.544458</td>\n",
       "      <td>373.195661</td>\n",
       "      <td>6.586856</td>\n",
       "      <td>20.478814</td>\n",
       "      <td>83.277943</td>\n",
       "      <td>0.054463</td>\n",
       "      <td>0.873130</td>\n",
       "      <td>72.955117</td>\n",
       "      <td>12.124808</td>\n",
       "      <td>5.687520</td>\n",
       "      <td>7719.283666</td>\n",
       "    </tr>\n",
       "    <tr>\n",
       "      <th>7</th>\n",
       "      <td>2012</td>\n",
       "      <td>3693.871080</td>\n",
       "      <td>38.933390</td>\n",
       "      <td>22.707220</td>\n",
       "      <td>21.054780</td>\n",
       "      <td>457.072670</td>\n",
       "      <td>1.115060</td>\n",
       "      <td>9.978510</td>\n",
       "      <td>43.693940</td>\n",
       "      <td>0.088460</td>\n",
       "      <td>0.744610</td>\n",
       "      <td>72.930470</td>\n",
       "      <td>17.162420</td>\n",
       "      <td>4.235380</td>\n",
       "      <td>4383.587990</td>\n",
       "    </tr>\n",
       "    <tr>\n",
       "      <th>8</th>\n",
       "      <td>2013</td>\n",
       "      <td>4754.118210</td>\n",
       "      <td>89.293284</td>\n",
       "      <td>19.111372</td>\n",
       "      <td>31.187461</td>\n",
       "      <td>410.759534</td>\n",
       "      <td>7.136436</td>\n",
       "      <td>26.600553</td>\n",
       "      <td>7.197624</td>\n",
       "      <td>0.000000</td>\n",
       "      <td>2.180252</td>\n",
       "      <td>54.454541</td>\n",
       "      <td>12.530821</td>\n",
       "      <td>3.945647</td>\n",
       "      <td>5418.515737</td>\n",
       "    </tr>\n",
       "    <tr>\n",
       "      <th>9</th>\n",
       "      <td>2014</td>\n",
       "      <td>2255.453460</td>\n",
       "      <td>52.266500</td>\n",
       "      <td>21.762990</td>\n",
       "      <td>30.770800</td>\n",
       "      <td>465.007580</td>\n",
       "      <td>4.734540</td>\n",
       "      <td>29.576440</td>\n",
       "      <td>8.882560</td>\n",
       "      <td>0.000000</td>\n",
       "      <td>0.608160</td>\n",
       "      <td>46.346459</td>\n",
       "      <td>12.248670</td>\n",
       "      <td>5.206880</td>\n",
       "      <td>2932.865039</td>\n",
       "    </tr>\n",
       "    <tr>\n",
       "      <th>10</th>\n",
       "      <td>2015</td>\n",
       "      <td>3616.481500</td>\n",
       "      <td>14.843150</td>\n",
       "      <td>26.772210</td>\n",
       "      <td>25.644130</td>\n",
       "      <td>426.932300</td>\n",
       "      <td>11.082120</td>\n",
       "      <td>15.314910</td>\n",
       "      <td>2.769796</td>\n",
       "      <td>0.164140</td>\n",
       "      <td>0.615910</td>\n",
       "      <td>17.536930</td>\n",
       "      <td>12.463520</td>\n",
       "      <td>7.717680</td>\n",
       "      <td>4178.338296</td>\n",
       "    </tr>\n",
       "    <tr>\n",
       "      <th>11</th>\n",
       "      <td>2016</td>\n",
       "      <td>2732.733740</td>\n",
       "      <td>10.090130</td>\n",
       "      <td>29.253750</td>\n",
       "      <td>25.800210</td>\n",
       "      <td>246.124700</td>\n",
       "      <td>10.884490</td>\n",
       "      <td>57.675170</td>\n",
       "      <td>0.412040</td>\n",
       "      <td>0.007490</td>\n",
       "      <td>0.579750</td>\n",
       "      <td>12.472050</td>\n",
       "      <td>15.757580</td>\n",
       "      <td>9.453130</td>\n",
       "      <td>3151.244230</td>\n",
       "    </tr>\n",
       "    <tr>\n",
       "      <th>12</th>\n",
       "      <td>2017</td>\n",
       "      <td>3165.490240</td>\n",
       "      <td>4.596090</td>\n",
       "      <td>38.760070</td>\n",
       "      <td>37.147430</td>\n",
       "      <td>252.429930</td>\n",
       "      <td>11.802750</td>\n",
       "      <td>23.249140</td>\n",
       "      <td>1.052910</td>\n",
       "      <td>0.000000</td>\n",
       "      <td>0.373700</td>\n",
       "      <td>6.889530</td>\n",
       "      <td>29.061740</td>\n",
       "      <td>6.692660</td>\n",
       "      <td>3577.546190</td>\n",
       "    </tr>\n",
       "    <tr>\n",
       "      <th>13</th>\n",
       "      <td>2018</td>\n",
       "      <td>6072.887839</td>\n",
       "      <td>36.530349</td>\n",
       "      <td>31.505879</td>\n",
       "      <td>34.876576</td>\n",
       "      <td>319.146488</td>\n",
       "      <td>18.138975</td>\n",
       "      <td>24.610468</td>\n",
       "      <td>14.619846</td>\n",
       "      <td>0.000000</td>\n",
       "      <td>1.551366</td>\n",
       "      <td>14.720969</td>\n",
       "      <td>23.326310</td>\n",
       "      <td>3.672117</td>\n",
       "      <td>6595.587183</td>\n",
       "    </tr>\n",
       "    <tr>\n",
       "      <th>14</th>\n",
       "      <td>2019</td>\n",
       "      <td>3381.437222</td>\n",
       "      <td>53.112863</td>\n",
       "      <td>42.857637</td>\n",
       "      <td>28.979849</td>\n",
       "      <td>483.765239</td>\n",
       "      <td>17.839298</td>\n",
       "      <td>19.598784</td>\n",
       "      <td>27.733432</td>\n",
       "      <td>0.000000</td>\n",
       "      <td>1.226521</td>\n",
       "      <td>40.798701</td>\n",
       "      <td>24.029820</td>\n",
       "      <td>1.241883</td>\n",
       "      <td>4122.621249</td>\n",
       "    </tr>\n",
       "    <tr>\n",
       "      <th>15</th>\n",
       "      <td>2020</td>\n",
       "      <td>4314.558220</td>\n",
       "      <td>46.995287</td>\n",
       "      <td>34.516971</td>\n",
       "      <td>19.842900</td>\n",
       "      <td>407.384850</td>\n",
       "      <td>3.843680</td>\n",
       "      <td>28.408700</td>\n",
       "      <td>23.475890</td>\n",
       "      <td>0.000000</td>\n",
       "      <td>0.616697</td>\n",
       "      <td>48.115810</td>\n",
       "      <td>14.992172</td>\n",
       "      <td>0.544585</td>\n",
       "      <td>4943.295762</td>\n",
       "    </tr>\n",
       "  </tbody>\n",
       "</table>\n",
       "</div>"
      ],
      "text/plain": [
       "    year  Consumo Industrial - Anchoveta  \\\n",
       "0   2005                     8628.396000   \n",
       "1   2006                     5891.838000   \n",
       "2   2007                     6084.713000   \n",
       "3   2008                     6159.387000   \n",
       "4   2009                     5828.636000   \n",
       "5   2010                     3330.413040   \n",
       "6   2011                     7000.092781   \n",
       "7   2012                     3693.871080   \n",
       "8   2013                     4754.118210   \n",
       "9   2014                     2255.453460   \n",
       "10  2015                     3616.481500   \n",
       "11  2016                     2732.733740   \n",
       "12  2017                     3165.490240   \n",
       "13  2018                     6072.887839   \n",
       "14  2019                     3381.437222   \n",
       "15  2020                     4314.558220   \n",
       "\n",
       "    Consumo Humano - Congelado - Concha de abanico  \\\n",
       "0                                        13.537000   \n",
       "1                                        14.714000   \n",
       "2                                        19.937000   \n",
       "3                                        18.790000   \n",
       "4                                        24.634372   \n",
       "5                                        60.001250   \n",
       "6                                        92.027637   \n",
       "7                                        38.933390   \n",
       "8                                        89.293284   \n",
       "9                                        52.266500   \n",
       "10                                       14.843150   \n",
       "11                                       10.090130   \n",
       "12                                        4.596090   \n",
       "13                                       36.530349   \n",
       "14                                       53.112863   \n",
       "15                                       46.995287   \n",
       "\n",
       "    Consumo Humano - Congelado - Langostino  \\\n",
       "0                                  9.021000   \n",
       "1                                 11.295000   \n",
       "2                                 13.548000   \n",
       "3                                 12.817000   \n",
       "4                                 11.877399   \n",
       "5                                 14.477939   \n",
       "6                                 23.384478   \n",
       "7                                 22.707220   \n",
       "8                                 19.111372   \n",
       "9                                 21.762990   \n",
       "10                                26.772210   \n",
       "11                                29.253750   \n",
       "12                                38.760070   \n",
       "13                                31.505879   \n",
       "14                                42.857637   \n",
       "15                                34.516971   \n",
       "\n",
       "    Consumo Humano - Congelado - Merluza  \\\n",
       "0                              23.279000   \n",
       "1                              25.189000   \n",
       "2                              28.358488   \n",
       "3                              26.348398   \n",
       "4                              36.774763   \n",
       "5                              25.647697   \n",
       "6                              28.544458   \n",
       "7                              21.054780   \n",
       "8                              31.187461   \n",
       "9                              30.770800   \n",
       "10                             25.644130   \n",
       "11                             25.800210   \n",
       "12                             37.147430   \n",
       "13                             34.876576   \n",
       "14                             28.979849   \n",
       "15                             19.842900   \n",
       "\n",
       "    Consumo Humano - Congelado - Calamar gigante  \\\n",
       "0                                     235.630000   \n",
       "1                                     365.729000   \n",
       "2                                     379.556594   \n",
       "3                                     484.162082   \n",
       "4                                     355.106589   \n",
       "5                                     327.571909   \n",
       "6                                     373.195661   \n",
       "7                                     457.072670   \n",
       "8                                     410.759534   \n",
       "9                                     465.007580   \n",
       "10                                    426.932300   \n",
       "11                                    246.124700   \n",
       "12                                    252.429930   \n",
       "13                                    319.146488   \n",
       "14                                    483.765239   \n",
       "15                                    407.384850   \n",
       "\n",
       "    Consumo Humano - Conservas - Atún  Consumo Humano - Conservas - Caballa  \\\n",
       "0                            9.877000                             25.711000   \n",
       "1                           11.336000                             58.245000   \n",
       "2                            3.713293                             26.248739   \n",
       "3                            3.283711                             47.694121   \n",
       "4                            2.017061                             51.355908   \n",
       "5                            9.182845                              9.729522   \n",
       "6                            6.586856                             20.478814   \n",
       "7                            1.115060                              9.978510   \n",
       "8                            7.136436                             26.600553   \n",
       "9                            4.734540                             29.576440   \n",
       "10                          11.082120                             15.314910   \n",
       "11                          10.884490                             57.675170   \n",
       "12                          11.802750                             23.249140   \n",
       "13                          18.138975                             24.610468   \n",
       "14                          17.839298                             19.598784   \n",
       "15                           3.843680                             28.408700   \n",
       "\n",
       "    Consumo Humano - Conservas - Jurel  Consumo Humano - Conservas - Sardina  \\\n",
       "0                            20.481000                              0.165000   \n",
       "1                           122.904000                              0.048000   \n",
       "2                            82.910307                              0.001020   \n",
       "3                            58.864202                              0.000000   \n",
       "4                            14.289041                              0.000000   \n",
       "5                             5.774274                              0.000000   \n",
       "6                            83.277943                              0.054463   \n",
       "7                            43.693940                              0.088460   \n",
       "8                             7.197624                              0.000000   \n",
       "9                             8.882560                              0.000000   \n",
       "10                            2.769796                              0.164140   \n",
       "11                            0.412040                              0.007490   \n",
       "12                            1.052910                              0.000000   \n",
       "13                           14.619846                              0.000000   \n",
       "14                           27.733432                              0.000000   \n",
       "15                           23.475890                              0.000000   \n",
       "\n",
       "    Consumo Humano - Fresco - Concha de abanico  \\\n",
       "0                                      1.843080   \n",
       "1                                      4.048000   \n",
       "2                                      4.822991   \n",
       "3                                      0.828187   \n",
       "4                                      1.843072   \n",
       "5                                      2.824749   \n",
       "6                                      0.873130   \n",
       "7                                      0.744610   \n",
       "8                                      2.180252   \n",
       "9                                      0.608160   \n",
       "10                                     0.615910   \n",
       "11                                     0.579750   \n",
       "12                                     0.373700   \n",
       "13                                     1.551366   \n",
       "14                                     1.226521   \n",
       "15                                     0.616697   \n",
       "\n",
       "    Consumo Humano - Fresco - Jurel  Consumo Humano - Fresco - Liza  \\\n",
       "0                         56.167940                        5.875600   \n",
       "1                        136.827000                        3.166000   \n",
       "2                        134.887316                        9.317622   \n",
       "3                         80.092885                       14.514054   \n",
       "4                         47.079175                       17.311344   \n",
       "5                         10.404933                        9.706363   \n",
       "6                         72.955117                       12.124808   \n",
       "7                         72.930470                       17.162420   \n",
       "8                         54.454541                       12.530821   \n",
       "9                         46.346459                       12.248670   \n",
       "10                        17.536930                       12.463520   \n",
       "11                        12.472050                       15.757580   \n",
       "12                         6.889530                       29.061740   \n",
       "13                        14.720969                       23.326310   \n",
       "14                        40.798701                       24.029820   \n",
       "15                        48.115810                       14.992172   \n",
       "\n",
       "    Consumo Humano - Fresco - Tollo  total_production  \n",
       "0                          0.430000       9030.413620  \n",
       "1                          1.584000       6646.923000  \n",
       "2                          2.834958       6790.849328  \n",
       "3                          2.933360       6909.715000  \n",
       "4                          4.057886       6394.982610  \n",
       "5                          4.994712       3810.729233  \n",
       "6                          5.687520       7719.283666  \n",
       "7                          4.235380       4383.587990  \n",
       "8                          3.945647       5418.515737  \n",
       "9                          5.206880       2932.865039  \n",
       "10                         7.717680       4178.338296  \n",
       "11                         9.453130       3151.244230  \n",
       "12                         6.692660       3577.546190  \n",
       "13                         3.672117       6595.587183  \n",
       "14                         1.241883       4122.621249  \n",
       "15                         0.544585       4943.295762  "
      ]
     },
     "execution_count": 120,
     "metadata": {},
     "output_type": "execute_result"
    }
   ],
   "source": [
    "extraction_fish"
   ]
  },
  {
   "cell_type": "code",
   "execution_count": 122,
   "metadata": {},
   "outputs": [
    {
     "data": {
      "text/html": [
       "<div>\n",
       "<style scoped>\n",
       "    .dataframe tbody tr th:only-of-type {\n",
       "        vertical-align: middle;\n",
       "    }\n",
       "\n",
       "    .dataframe tbody tr th {\n",
       "        vertical-align: top;\n",
       "    }\n",
       "\n",
       "    .dataframe thead th {\n",
       "        text-align: right;\n",
       "    }\n",
       "</style>\n",
       "<table border=\"1\" class=\"dataframe\">\n",
       "  <thead>\n",
       "    <tr style=\"text-align: right;\">\n",
       "      <th></th>\n",
       "      <th>year</th>\n",
       "      <th>Consumo Industrial - Anchoveta</th>\n",
       "      <th>Consumo Humano - Congelado - Concha de abanico</th>\n",
       "      <th>Consumo Humano - Congelado - Langostino</th>\n",
       "      <th>Consumo Humano - Congelado - Merluza</th>\n",
       "      <th>Consumo Humano - Congelado - Calamar gigante</th>\n",
       "      <th>Consumo Humano - Conservas - Atún</th>\n",
       "      <th>Consumo Humano - Conservas - Caballa</th>\n",
       "      <th>Consumo Humano - Conservas - Jurel</th>\n",
       "      <th>Consumo Humano - Conservas - Sardina</th>\n",
       "      <th>Consumo Humano - Fresco - Concha de abanico</th>\n",
       "      <th>Consumo Humano - Fresco - Jurel</th>\n",
       "      <th>Consumo Humano - Fresco - Liza</th>\n",
       "      <th>Consumo Humano - Fresco - Tollo</th>\n",
       "      <th>total_production</th>\n",
       "    </tr>\n",
       "  </thead>\n",
       "  <tbody>\n",
       "    <tr>\n",
       "      <th>0</th>\n",
       "      <td>2005</td>\n",
       "      <td>8628.39600</td>\n",
       "      <td>13.537000</td>\n",
       "      <td>9.021000</td>\n",
       "      <td>23.279000</td>\n",
       "      <td>235.630000</td>\n",
       "      <td>9.877000</td>\n",
       "      <td>25.711000</td>\n",
       "      <td>20.481000</td>\n",
       "      <td>0.16500</td>\n",
       "      <td>1.843080</td>\n",
       "      <td>56.167940</td>\n",
       "      <td>5.875600</td>\n",
       "      <td>0.430000</td>\n",
       "      <td>9030.413620</td>\n",
       "    </tr>\n",
       "    <tr>\n",
       "      <th>1</th>\n",
       "      <td>2006</td>\n",
       "      <td>5891.83800</td>\n",
       "      <td>14.714000</td>\n",
       "      <td>11.295000</td>\n",
       "      <td>25.189000</td>\n",
       "      <td>365.729000</td>\n",
       "      <td>11.336000</td>\n",
       "      <td>58.245000</td>\n",
       "      <td>122.904000</td>\n",
       "      <td>0.04800</td>\n",
       "      <td>4.048000</td>\n",
       "      <td>136.827000</td>\n",
       "      <td>3.166000</td>\n",
       "      <td>1.584000</td>\n",
       "      <td>6646.923000</td>\n",
       "    </tr>\n",
       "    <tr>\n",
       "      <th>2</th>\n",
       "      <td>2007</td>\n",
       "      <td>6084.71300</td>\n",
       "      <td>19.937000</td>\n",
       "      <td>13.548000</td>\n",
       "      <td>28.358488</td>\n",
       "      <td>379.556594</td>\n",
       "      <td>3.713293</td>\n",
       "      <td>26.248739</td>\n",
       "      <td>82.910307</td>\n",
       "      <td>0.00102</td>\n",
       "      <td>4.822991</td>\n",
       "      <td>134.887316</td>\n",
       "      <td>9.317622</td>\n",
       "      <td>2.834958</td>\n",
       "      <td>6790.849328</td>\n",
       "    </tr>\n",
       "    <tr>\n",
       "      <th>3</th>\n",
       "      <td>2008</td>\n",
       "      <td>6159.38700</td>\n",
       "      <td>18.790000</td>\n",
       "      <td>12.817000</td>\n",
       "      <td>26.348398</td>\n",
       "      <td>484.162082</td>\n",
       "      <td>3.283711</td>\n",
       "      <td>47.694121</td>\n",
       "      <td>58.864202</td>\n",
       "      <td>0.00000</td>\n",
       "      <td>0.828187</td>\n",
       "      <td>80.092885</td>\n",
       "      <td>14.514054</td>\n",
       "      <td>2.933360</td>\n",
       "      <td>6909.715000</td>\n",
       "    </tr>\n",
       "    <tr>\n",
       "      <th>4</th>\n",
       "      <td>2009</td>\n",
       "      <td>5828.63600</td>\n",
       "      <td>24.634372</td>\n",
       "      <td>11.877399</td>\n",
       "      <td>36.774763</td>\n",
       "      <td>355.106589</td>\n",
       "      <td>2.017061</td>\n",
       "      <td>51.355908</td>\n",
       "      <td>14.289041</td>\n",
       "      <td>0.00000</td>\n",
       "      <td>1.843072</td>\n",
       "      <td>47.079175</td>\n",
       "      <td>17.311344</td>\n",
       "      <td>4.057886</td>\n",
       "      <td>6394.982610</td>\n",
       "    </tr>\n",
       "    <tr>\n",
       "      <th>5</th>\n",
       "      <td>2010</td>\n",
       "      <td>3330.41304</td>\n",
       "      <td>60.001250</td>\n",
       "      <td>14.477939</td>\n",
       "      <td>25.647697</td>\n",
       "      <td>327.571909</td>\n",
       "      <td>9.182845</td>\n",
       "      <td>9.729522</td>\n",
       "      <td>5.774274</td>\n",
       "      <td>0.00000</td>\n",
       "      <td>2.824749</td>\n",
       "      <td>10.404933</td>\n",
       "      <td>9.706363</td>\n",
       "      <td>4.994712</td>\n",
       "      <td>3810.729233</td>\n",
       "    </tr>\n",
       "  </tbody>\n",
       "</table>\n",
       "</div>"
      ],
      "text/plain": [
       "   year  Consumo Industrial - Anchoveta  \\\n",
       "0  2005                      8628.39600   \n",
       "1  2006                      5891.83800   \n",
       "2  2007                      6084.71300   \n",
       "3  2008                      6159.38700   \n",
       "4  2009                      5828.63600   \n",
       "5  2010                      3330.41304   \n",
       "\n",
       "   Consumo Humano - Congelado - Concha de abanico  \\\n",
       "0                                       13.537000   \n",
       "1                                       14.714000   \n",
       "2                                       19.937000   \n",
       "3                                       18.790000   \n",
       "4                                       24.634372   \n",
       "5                                       60.001250   \n",
       "\n",
       "   Consumo Humano - Congelado - Langostino  \\\n",
       "0                                 9.021000   \n",
       "1                                11.295000   \n",
       "2                                13.548000   \n",
       "3                                12.817000   \n",
       "4                                11.877399   \n",
       "5                                14.477939   \n",
       "\n",
       "   Consumo Humano - Congelado - Merluza  \\\n",
       "0                             23.279000   \n",
       "1                             25.189000   \n",
       "2                             28.358488   \n",
       "3                             26.348398   \n",
       "4                             36.774763   \n",
       "5                             25.647697   \n",
       "\n",
       "   Consumo Humano - Congelado - Calamar gigante  \\\n",
       "0                                    235.630000   \n",
       "1                                    365.729000   \n",
       "2                                    379.556594   \n",
       "3                                    484.162082   \n",
       "4                                    355.106589   \n",
       "5                                    327.571909   \n",
       "\n",
       "   Consumo Humano - Conservas - Atún  Consumo Humano - Conservas - Caballa  \\\n",
       "0                           9.877000                             25.711000   \n",
       "1                          11.336000                             58.245000   \n",
       "2                           3.713293                             26.248739   \n",
       "3                           3.283711                             47.694121   \n",
       "4                           2.017061                             51.355908   \n",
       "5                           9.182845                              9.729522   \n",
       "\n",
       "   Consumo Humano - Conservas - Jurel  Consumo Humano - Conservas - Sardina  \\\n",
       "0                           20.481000                               0.16500   \n",
       "1                          122.904000                               0.04800   \n",
       "2                           82.910307                               0.00102   \n",
       "3                           58.864202                               0.00000   \n",
       "4                           14.289041                               0.00000   \n",
       "5                            5.774274                               0.00000   \n",
       "\n",
       "   Consumo Humano - Fresco - Concha de abanico  \\\n",
       "0                                     1.843080   \n",
       "1                                     4.048000   \n",
       "2                                     4.822991   \n",
       "3                                     0.828187   \n",
       "4                                     1.843072   \n",
       "5                                     2.824749   \n",
       "\n",
       "   Consumo Humano - Fresco - Jurel  Consumo Humano - Fresco - Liza  \\\n",
       "0                        56.167940                        5.875600   \n",
       "1                       136.827000                        3.166000   \n",
       "2                       134.887316                        9.317622   \n",
       "3                        80.092885                       14.514054   \n",
       "4                        47.079175                       17.311344   \n",
       "5                        10.404933                        9.706363   \n",
       "\n",
       "   Consumo Humano - Fresco - Tollo  total_production  \n",
       "0                         0.430000       9030.413620  \n",
       "1                         1.584000       6646.923000  \n",
       "2                         2.834958       6790.849328  \n",
       "3                         2.933360       6909.715000  \n",
       "4                         4.057886       6394.982610  \n",
       "5                         4.994712       3810.729233  "
      ]
     },
     "execution_count": 122,
     "metadata": {},
     "output_type": "execute_result"
    }
   ],
   "source": [
    "extraction_fish.iloc[ 0:6, : ]"
   ]
  },
  {
   "cell_type": "code",
   "execution_count": 125,
   "metadata": {},
   "outputs": [
    {
     "data": {
      "text/html": [
       "<div>\n",
       "<style scoped>\n",
       "    .dataframe tbody tr th:only-of-type {\n",
       "        vertical-align: middle;\n",
       "    }\n",
       "\n",
       "    .dataframe tbody tr th {\n",
       "        vertical-align: top;\n",
       "    }\n",
       "\n",
       "    .dataframe thead th {\n",
       "        text-align: right;\n",
       "    }\n",
       "</style>\n",
       "<table border=\"1\" class=\"dataframe\">\n",
       "  <thead>\n",
       "    <tr style=\"text-align: right;\">\n",
       "      <th></th>\n",
       "      <th>year</th>\n",
       "      <th>Consumo Industrial - Anchoveta</th>\n",
       "      <th>Consumo Humano - Congelado - Concha de abanico</th>\n",
       "      <th>Consumo Humano - Congelado - Langostino</th>\n",
       "      <th>Consumo Humano - Congelado - Merluza</th>\n",
       "      <th>Consumo Humano - Congelado - Calamar gigante</th>\n",
       "      <th>Consumo Humano - Conservas - Atún</th>\n",
       "      <th>Consumo Humano - Conservas - Caballa</th>\n",
       "      <th>Consumo Humano - Conservas - Jurel</th>\n",
       "      <th>Consumo Humano - Conservas - Sardina</th>\n",
       "      <th>Consumo Humano - Fresco - Concha de abanico</th>\n",
       "      <th>Consumo Humano - Fresco - Jurel</th>\n",
       "      <th>Consumo Humano - Fresco - Liza</th>\n",
       "      <th>Consumo Humano - Fresco - Tollo</th>\n",
       "      <th>total_production</th>\n",
       "    </tr>\n",
       "  </thead>\n",
       "  <tbody>\n",
       "    <tr>\n",
       "      <th>3</th>\n",
       "      <td>2008</td>\n",
       "      <td>6159.387000</td>\n",
       "      <td>18.790000</td>\n",
       "      <td>12.817000</td>\n",
       "      <td>26.348398</td>\n",
       "      <td>484.162082</td>\n",
       "      <td>3.283711</td>\n",
       "      <td>47.694121</td>\n",
       "      <td>58.864202</td>\n",
       "      <td>0.000000</td>\n",
       "      <td>0.828187</td>\n",
       "      <td>80.092885</td>\n",
       "      <td>14.514054</td>\n",
       "      <td>2.933360</td>\n",
       "      <td>6909.715000</td>\n",
       "    </tr>\n",
       "    <tr>\n",
       "      <th>4</th>\n",
       "      <td>2009</td>\n",
       "      <td>5828.636000</td>\n",
       "      <td>24.634372</td>\n",
       "      <td>11.877399</td>\n",
       "      <td>36.774763</td>\n",
       "      <td>355.106589</td>\n",
       "      <td>2.017061</td>\n",
       "      <td>51.355908</td>\n",
       "      <td>14.289041</td>\n",
       "      <td>0.000000</td>\n",
       "      <td>1.843072</td>\n",
       "      <td>47.079175</td>\n",
       "      <td>17.311344</td>\n",
       "      <td>4.057886</td>\n",
       "      <td>6394.982610</td>\n",
       "    </tr>\n",
       "    <tr>\n",
       "      <th>5</th>\n",
       "      <td>2010</td>\n",
       "      <td>3330.413040</td>\n",
       "      <td>60.001250</td>\n",
       "      <td>14.477939</td>\n",
       "      <td>25.647697</td>\n",
       "      <td>327.571909</td>\n",
       "      <td>9.182845</td>\n",
       "      <td>9.729522</td>\n",
       "      <td>5.774274</td>\n",
       "      <td>0.000000</td>\n",
       "      <td>2.824749</td>\n",
       "      <td>10.404933</td>\n",
       "      <td>9.706363</td>\n",
       "      <td>4.994712</td>\n",
       "      <td>3810.729233</td>\n",
       "    </tr>\n",
       "    <tr>\n",
       "      <th>6</th>\n",
       "      <td>2011</td>\n",
       "      <td>7000.092781</td>\n",
       "      <td>92.027637</td>\n",
       "      <td>23.384478</td>\n",
       "      <td>28.544458</td>\n",
       "      <td>373.195661</td>\n",
       "      <td>6.586856</td>\n",
       "      <td>20.478814</td>\n",
       "      <td>83.277943</td>\n",
       "      <td>0.054463</td>\n",
       "      <td>0.873130</td>\n",
       "      <td>72.955117</td>\n",
       "      <td>12.124808</td>\n",
       "      <td>5.687520</td>\n",
       "      <td>7719.283666</td>\n",
       "    </tr>\n",
       "    <tr>\n",
       "      <th>7</th>\n",
       "      <td>2012</td>\n",
       "      <td>3693.871080</td>\n",
       "      <td>38.933390</td>\n",
       "      <td>22.707220</td>\n",
       "      <td>21.054780</td>\n",
       "      <td>457.072670</td>\n",
       "      <td>1.115060</td>\n",
       "      <td>9.978510</td>\n",
       "      <td>43.693940</td>\n",
       "      <td>0.088460</td>\n",
       "      <td>0.744610</td>\n",
       "      <td>72.930470</td>\n",
       "      <td>17.162420</td>\n",
       "      <td>4.235380</td>\n",
       "      <td>4383.587990</td>\n",
       "    </tr>\n",
       "    <tr>\n",
       "      <th>8</th>\n",
       "      <td>2013</td>\n",
       "      <td>4754.118210</td>\n",
       "      <td>89.293284</td>\n",
       "      <td>19.111372</td>\n",
       "      <td>31.187461</td>\n",
       "      <td>410.759534</td>\n",
       "      <td>7.136436</td>\n",
       "      <td>26.600553</td>\n",
       "      <td>7.197624</td>\n",
       "      <td>0.000000</td>\n",
       "      <td>2.180252</td>\n",
       "      <td>54.454541</td>\n",
       "      <td>12.530821</td>\n",
       "      <td>3.945647</td>\n",
       "      <td>5418.515737</td>\n",
       "    </tr>\n",
       "  </tbody>\n",
       "</table>\n",
       "</div>"
      ],
      "text/plain": [
       "   year  Consumo Industrial - Anchoveta  \\\n",
       "3  2008                     6159.387000   \n",
       "4  2009                     5828.636000   \n",
       "5  2010                     3330.413040   \n",
       "6  2011                     7000.092781   \n",
       "7  2012                     3693.871080   \n",
       "8  2013                     4754.118210   \n",
       "\n",
       "   Consumo Humano - Congelado - Concha de abanico  \\\n",
       "3                                       18.790000   \n",
       "4                                       24.634372   \n",
       "5                                       60.001250   \n",
       "6                                       92.027637   \n",
       "7                                       38.933390   \n",
       "8                                       89.293284   \n",
       "\n",
       "   Consumo Humano - Congelado - Langostino  \\\n",
       "3                                12.817000   \n",
       "4                                11.877399   \n",
       "5                                14.477939   \n",
       "6                                23.384478   \n",
       "7                                22.707220   \n",
       "8                                19.111372   \n",
       "\n",
       "   Consumo Humano - Congelado - Merluza  \\\n",
       "3                             26.348398   \n",
       "4                             36.774763   \n",
       "5                             25.647697   \n",
       "6                             28.544458   \n",
       "7                             21.054780   \n",
       "8                             31.187461   \n",
       "\n",
       "   Consumo Humano - Congelado - Calamar gigante  \\\n",
       "3                                    484.162082   \n",
       "4                                    355.106589   \n",
       "5                                    327.571909   \n",
       "6                                    373.195661   \n",
       "7                                    457.072670   \n",
       "8                                    410.759534   \n",
       "\n",
       "   Consumo Humano - Conservas - Atún  Consumo Humano - Conservas - Caballa  \\\n",
       "3                           3.283711                             47.694121   \n",
       "4                           2.017061                             51.355908   \n",
       "5                           9.182845                              9.729522   \n",
       "6                           6.586856                             20.478814   \n",
       "7                           1.115060                              9.978510   \n",
       "8                           7.136436                             26.600553   \n",
       "\n",
       "   Consumo Humano - Conservas - Jurel  Consumo Humano - Conservas - Sardina  \\\n",
       "3                           58.864202                              0.000000   \n",
       "4                           14.289041                              0.000000   \n",
       "5                            5.774274                              0.000000   \n",
       "6                           83.277943                              0.054463   \n",
       "7                           43.693940                              0.088460   \n",
       "8                            7.197624                              0.000000   \n",
       "\n",
       "   Consumo Humano - Fresco - Concha de abanico  \\\n",
       "3                                     0.828187   \n",
       "4                                     1.843072   \n",
       "5                                     2.824749   \n",
       "6                                     0.873130   \n",
       "7                                     0.744610   \n",
       "8                                     2.180252   \n",
       "\n",
       "   Consumo Humano - Fresco - Jurel  Consumo Humano - Fresco - Liza  \\\n",
       "3                        80.092885                       14.514054   \n",
       "4                        47.079175                       17.311344   \n",
       "5                        10.404933                        9.706363   \n",
       "6                        72.955117                       12.124808   \n",
       "7                        72.930470                       17.162420   \n",
       "8                        54.454541                       12.530821   \n",
       "\n",
       "   Consumo Humano - Fresco - Tollo  total_production  \n",
       "3                         2.933360       6909.715000  \n",
       "4                         4.057886       6394.982610  \n",
       "5                         4.994712       3810.729233  \n",
       "6                         5.687520       7719.283666  \n",
       "7                         4.235380       4383.587990  \n",
       "8                         3.945647       5418.515737  "
      ]
     },
     "execution_count": 125,
     "metadata": {},
     "output_type": "execute_result"
    }
   ],
   "source": [
    "extraction_fish.iloc[ 3:9, : ]"
   ]
  },
  {
   "cell_type": "code",
   "execution_count": 140,
   "metadata": {},
   "outputs": [
    {
     "data": {
      "text/plain": [
       "Int64Index([4], dtype='int64')"
      ]
     },
     "execution_count": 140,
     "metadata": {},
     "output_type": "execute_result"
    }
   ],
   "source": [
    "extraction_fish[extraction_fish.year==2009].index[0]"
   ]
  },
  {
   "cell_type": "code",
   "execution_count": 158,
   "metadata": {},
   "outputs": [],
   "source": [
    "year_init = extraction_fish[extraction_fish.year == 2009].index[0]\n",
    "year_end = extraction_fish[extraction_fish.year == 2015].index[0]\n",
    "extraction_fish.iloc[ year_init:year_end+1, : ]"
   ]
  },
  {
   "cell_type": "code",
   "execution_count": 159,
   "metadata": {},
   "outputs": [
    {
     "data": {
      "text/html": [
       "<div>\n",
       "<style scoped>\n",
       "    .dataframe tbody tr th:only-of-type {\n",
       "        vertical-align: middle;\n",
       "    }\n",
       "\n",
       "    .dataframe tbody tr th {\n",
       "        vertical-align: top;\n",
       "    }\n",
       "\n",
       "    .dataframe thead th {\n",
       "        text-align: right;\n",
       "    }\n",
       "</style>\n",
       "<table border=\"1\" class=\"dataframe\">\n",
       "  <thead>\n",
       "    <tr style=\"text-align: right;\">\n",
       "      <th></th>\n",
       "      <th>year</th>\n",
       "      <th>Consumo Industrial - Anchoveta</th>\n",
       "      <th>Consumo Humano - Congelado - Concha de abanico</th>\n",
       "      <th>Consumo Humano - Congelado - Langostino</th>\n",
       "      <th>Consumo Humano - Congelado - Merluza</th>\n",
       "      <th>Consumo Humano - Congelado - Calamar gigante</th>\n",
       "      <th>Consumo Humano - Conservas - Atún</th>\n",
       "      <th>Consumo Humano - Conservas - Caballa</th>\n",
       "      <th>Consumo Humano - Conservas - Jurel</th>\n",
       "      <th>Consumo Humano - Conservas - Sardina</th>\n",
       "      <th>Consumo Humano - Fresco - Concha de abanico</th>\n",
       "      <th>Consumo Humano - Fresco - Jurel</th>\n",
       "      <th>Consumo Humano - Fresco - Liza</th>\n",
       "      <th>Consumo Humano - Fresco - Tollo</th>\n",
       "      <th>total_production</th>\n",
       "    </tr>\n",
       "  </thead>\n",
       "  <tbody>\n",
       "    <tr>\n",
       "      <th>4</th>\n",
       "      <td>2009</td>\n",
       "      <td>5828.636000</td>\n",
       "      <td>24.634372</td>\n",
       "      <td>11.877399</td>\n",
       "      <td>36.774763</td>\n",
       "      <td>355.106589</td>\n",
       "      <td>2.017061</td>\n",
       "      <td>51.355908</td>\n",
       "      <td>14.289041</td>\n",
       "      <td>0.000000</td>\n",
       "      <td>1.843072</td>\n",
       "      <td>47.079175</td>\n",
       "      <td>17.311344</td>\n",
       "      <td>4.057886</td>\n",
       "      <td>6394.982610</td>\n",
       "    </tr>\n",
       "    <tr>\n",
       "      <th>5</th>\n",
       "      <td>2010</td>\n",
       "      <td>3330.413040</td>\n",
       "      <td>60.001250</td>\n",
       "      <td>14.477939</td>\n",
       "      <td>25.647697</td>\n",
       "      <td>327.571909</td>\n",
       "      <td>9.182845</td>\n",
       "      <td>9.729522</td>\n",
       "      <td>5.774274</td>\n",
       "      <td>0.000000</td>\n",
       "      <td>2.824749</td>\n",
       "      <td>10.404933</td>\n",
       "      <td>9.706363</td>\n",
       "      <td>4.994712</td>\n",
       "      <td>3810.729233</td>\n",
       "    </tr>\n",
       "    <tr>\n",
       "      <th>6</th>\n",
       "      <td>2011</td>\n",
       "      <td>7000.092781</td>\n",
       "      <td>92.027637</td>\n",
       "      <td>23.384478</td>\n",
       "      <td>28.544458</td>\n",
       "      <td>373.195661</td>\n",
       "      <td>6.586856</td>\n",
       "      <td>20.478814</td>\n",
       "      <td>83.277943</td>\n",
       "      <td>0.054463</td>\n",
       "      <td>0.873130</td>\n",
       "      <td>72.955117</td>\n",
       "      <td>12.124808</td>\n",
       "      <td>5.687520</td>\n",
       "      <td>7719.283666</td>\n",
       "    </tr>\n",
       "    <tr>\n",
       "      <th>7</th>\n",
       "      <td>2012</td>\n",
       "      <td>3693.871080</td>\n",
       "      <td>38.933390</td>\n",
       "      <td>22.707220</td>\n",
       "      <td>21.054780</td>\n",
       "      <td>457.072670</td>\n",
       "      <td>1.115060</td>\n",
       "      <td>9.978510</td>\n",
       "      <td>43.693940</td>\n",
       "      <td>0.088460</td>\n",
       "      <td>0.744610</td>\n",
       "      <td>72.930470</td>\n",
       "      <td>17.162420</td>\n",
       "      <td>4.235380</td>\n",
       "      <td>4383.587990</td>\n",
       "    </tr>\n",
       "    <tr>\n",
       "      <th>8</th>\n",
       "      <td>2013</td>\n",
       "      <td>4754.118210</td>\n",
       "      <td>89.293284</td>\n",
       "      <td>19.111372</td>\n",
       "      <td>31.187461</td>\n",
       "      <td>410.759534</td>\n",
       "      <td>7.136436</td>\n",
       "      <td>26.600553</td>\n",
       "      <td>7.197624</td>\n",
       "      <td>0.000000</td>\n",
       "      <td>2.180252</td>\n",
       "      <td>54.454541</td>\n",
       "      <td>12.530821</td>\n",
       "      <td>3.945647</td>\n",
       "      <td>5418.515737</td>\n",
       "    </tr>\n",
       "    <tr>\n",
       "      <th>9</th>\n",
       "      <td>2014</td>\n",
       "      <td>2255.453460</td>\n",
       "      <td>52.266500</td>\n",
       "      <td>21.762990</td>\n",
       "      <td>30.770800</td>\n",
       "      <td>465.007580</td>\n",
       "      <td>4.734540</td>\n",
       "      <td>29.576440</td>\n",
       "      <td>8.882560</td>\n",
       "      <td>0.000000</td>\n",
       "      <td>0.608160</td>\n",
       "      <td>46.346459</td>\n",
       "      <td>12.248670</td>\n",
       "      <td>5.206880</td>\n",
       "      <td>2932.865039</td>\n",
       "    </tr>\n",
       "    <tr>\n",
       "      <th>10</th>\n",
       "      <td>2015</td>\n",
       "      <td>3616.481500</td>\n",
       "      <td>14.843150</td>\n",
       "      <td>26.772210</td>\n",
       "      <td>25.644130</td>\n",
       "      <td>426.932300</td>\n",
       "      <td>11.082120</td>\n",
       "      <td>15.314910</td>\n",
       "      <td>2.769796</td>\n",
       "      <td>0.164140</td>\n",
       "      <td>0.615910</td>\n",
       "      <td>17.536930</td>\n",
       "      <td>12.463520</td>\n",
       "      <td>7.717680</td>\n",
       "      <td>4178.338296</td>\n",
       "    </tr>\n",
       "  </tbody>\n",
       "</table>\n",
       "</div>"
      ],
      "text/plain": [
       "    year  Consumo Industrial - Anchoveta  \\\n",
       "4   2009                     5828.636000   \n",
       "5   2010                     3330.413040   \n",
       "6   2011                     7000.092781   \n",
       "7   2012                     3693.871080   \n",
       "8   2013                     4754.118210   \n",
       "9   2014                     2255.453460   \n",
       "10  2015                     3616.481500   \n",
       "\n",
       "    Consumo Humano - Congelado - Concha de abanico  \\\n",
       "4                                        24.634372   \n",
       "5                                        60.001250   \n",
       "6                                        92.027637   \n",
       "7                                        38.933390   \n",
       "8                                        89.293284   \n",
       "9                                        52.266500   \n",
       "10                                       14.843150   \n",
       "\n",
       "    Consumo Humano - Congelado - Langostino  \\\n",
       "4                                 11.877399   \n",
       "5                                 14.477939   \n",
       "6                                 23.384478   \n",
       "7                                 22.707220   \n",
       "8                                 19.111372   \n",
       "9                                 21.762990   \n",
       "10                                26.772210   \n",
       "\n",
       "    Consumo Humano - Congelado - Merluza  \\\n",
       "4                              36.774763   \n",
       "5                              25.647697   \n",
       "6                              28.544458   \n",
       "7                              21.054780   \n",
       "8                              31.187461   \n",
       "9                              30.770800   \n",
       "10                             25.644130   \n",
       "\n",
       "    Consumo Humano - Congelado - Calamar gigante  \\\n",
       "4                                     355.106589   \n",
       "5                                     327.571909   \n",
       "6                                     373.195661   \n",
       "7                                     457.072670   \n",
       "8                                     410.759534   \n",
       "9                                     465.007580   \n",
       "10                                    426.932300   \n",
       "\n",
       "    Consumo Humano - Conservas - Atún  Consumo Humano - Conservas - Caballa  \\\n",
       "4                            2.017061                             51.355908   \n",
       "5                            9.182845                              9.729522   \n",
       "6                            6.586856                             20.478814   \n",
       "7                            1.115060                              9.978510   \n",
       "8                            7.136436                             26.600553   \n",
       "9                            4.734540                             29.576440   \n",
       "10                          11.082120                             15.314910   \n",
       "\n",
       "    Consumo Humano - Conservas - Jurel  Consumo Humano - Conservas - Sardina  \\\n",
       "4                            14.289041                              0.000000   \n",
       "5                             5.774274                              0.000000   \n",
       "6                            83.277943                              0.054463   \n",
       "7                            43.693940                              0.088460   \n",
       "8                             7.197624                              0.000000   \n",
       "9                             8.882560                              0.000000   \n",
       "10                            2.769796                              0.164140   \n",
       "\n",
       "    Consumo Humano - Fresco - Concha de abanico  \\\n",
       "4                                      1.843072   \n",
       "5                                      2.824749   \n",
       "6                                      0.873130   \n",
       "7                                      0.744610   \n",
       "8                                      2.180252   \n",
       "9                                      0.608160   \n",
       "10                                     0.615910   \n",
       "\n",
       "    Consumo Humano - Fresco - Jurel  Consumo Humano - Fresco - Liza  \\\n",
       "4                         47.079175                       17.311344   \n",
       "5                         10.404933                        9.706363   \n",
       "6                         72.955117                       12.124808   \n",
       "7                         72.930470                       17.162420   \n",
       "8                         54.454541                       12.530821   \n",
       "9                         46.346459                       12.248670   \n",
       "10                        17.536930                       12.463520   \n",
       "\n",
       "    Consumo Humano - Fresco - Tollo  total_production  \n",
       "4                          4.057886       6394.982610  \n",
       "5                          4.994712       3810.729233  \n",
       "6                          5.687520       7719.283666  \n",
       "7                          4.235380       4383.587990  \n",
       "8                          3.945647       5418.515737  \n",
       "9                          5.206880       2932.865039  \n",
       "10                         7.717680       4178.338296  "
      ]
     },
     "execution_count": 159,
     "metadata": {},
     "output_type": "execute_result"
    }
   ],
   "source": []
  },
  {
   "cell_type": "code",
   "execution_count": 144,
   "metadata": {},
   "outputs": [],
   "source": [
    "year_init = extraction_fish[extraction_fish.year==2009].index[0]"
   ]
  },
  {
   "cell_type": "code",
   "execution_count": 145,
   "metadata": {},
   "outputs": [],
   "source": [
    "year_end =  extraction_fish[extraction_fish.year==2015].index[0]"
   ]
  },
  {
   "cell_type": "code",
   "execution_count": 146,
   "metadata": {},
   "outputs": [
    {
     "data": {
      "text/html": [
       "<div>\n",
       "<style scoped>\n",
       "    .dataframe tbody tr th:only-of-type {\n",
       "        vertical-align: middle;\n",
       "    }\n",
       "\n",
       "    .dataframe tbody tr th {\n",
       "        vertical-align: top;\n",
       "    }\n",
       "\n",
       "    .dataframe thead th {\n",
       "        text-align: right;\n",
       "    }\n",
       "</style>\n",
       "<table border=\"1\" class=\"dataframe\">\n",
       "  <thead>\n",
       "    <tr style=\"text-align: right;\">\n",
       "      <th></th>\n",
       "      <th>year</th>\n",
       "      <th>Consumo Industrial - Anchoveta</th>\n",
       "      <th>Consumo Humano - Congelado - Concha de abanico</th>\n",
       "      <th>Consumo Humano - Congelado - Langostino</th>\n",
       "      <th>Consumo Humano - Congelado - Merluza</th>\n",
       "      <th>Consumo Humano - Congelado - Calamar gigante</th>\n",
       "      <th>Consumo Humano - Conservas - Atún</th>\n",
       "      <th>Consumo Humano - Conservas - Caballa</th>\n",
       "      <th>Consumo Humano - Conservas - Jurel</th>\n",
       "      <th>Consumo Humano - Conservas - Sardina</th>\n",
       "      <th>Consumo Humano - Fresco - Concha de abanico</th>\n",
       "      <th>Consumo Humano - Fresco - Jurel</th>\n",
       "      <th>Consumo Humano - Fresco - Liza</th>\n",
       "      <th>Consumo Humano - Fresco - Tollo</th>\n",
       "      <th>total_production</th>\n",
       "    </tr>\n",
       "  </thead>\n",
       "  <tbody>\n",
       "    <tr>\n",
       "      <th>4</th>\n",
       "      <td>2009</td>\n",
       "      <td>5828.636000</td>\n",
       "      <td>24.634372</td>\n",
       "      <td>11.877399</td>\n",
       "      <td>36.774763</td>\n",
       "      <td>355.106589</td>\n",
       "      <td>2.017061</td>\n",
       "      <td>51.355908</td>\n",
       "      <td>14.289041</td>\n",
       "      <td>0.000000</td>\n",
       "      <td>1.843072</td>\n",
       "      <td>47.079175</td>\n",
       "      <td>17.311344</td>\n",
       "      <td>4.057886</td>\n",
       "      <td>6394.982610</td>\n",
       "    </tr>\n",
       "    <tr>\n",
       "      <th>5</th>\n",
       "      <td>2010</td>\n",
       "      <td>3330.413040</td>\n",
       "      <td>60.001250</td>\n",
       "      <td>14.477939</td>\n",
       "      <td>25.647697</td>\n",
       "      <td>327.571909</td>\n",
       "      <td>9.182845</td>\n",
       "      <td>9.729522</td>\n",
       "      <td>5.774274</td>\n",
       "      <td>0.000000</td>\n",
       "      <td>2.824749</td>\n",
       "      <td>10.404933</td>\n",
       "      <td>9.706363</td>\n",
       "      <td>4.994712</td>\n",
       "      <td>3810.729233</td>\n",
       "    </tr>\n",
       "    <tr>\n",
       "      <th>6</th>\n",
       "      <td>2011</td>\n",
       "      <td>7000.092781</td>\n",
       "      <td>92.027637</td>\n",
       "      <td>23.384478</td>\n",
       "      <td>28.544458</td>\n",
       "      <td>373.195661</td>\n",
       "      <td>6.586856</td>\n",
       "      <td>20.478814</td>\n",
       "      <td>83.277943</td>\n",
       "      <td>0.054463</td>\n",
       "      <td>0.873130</td>\n",
       "      <td>72.955117</td>\n",
       "      <td>12.124808</td>\n",
       "      <td>5.687520</td>\n",
       "      <td>7719.283666</td>\n",
       "    </tr>\n",
       "    <tr>\n",
       "      <th>7</th>\n",
       "      <td>2012</td>\n",
       "      <td>3693.871080</td>\n",
       "      <td>38.933390</td>\n",
       "      <td>22.707220</td>\n",
       "      <td>21.054780</td>\n",
       "      <td>457.072670</td>\n",
       "      <td>1.115060</td>\n",
       "      <td>9.978510</td>\n",
       "      <td>43.693940</td>\n",
       "      <td>0.088460</td>\n",
       "      <td>0.744610</td>\n",
       "      <td>72.930470</td>\n",
       "      <td>17.162420</td>\n",
       "      <td>4.235380</td>\n",
       "      <td>4383.587990</td>\n",
       "    </tr>\n",
       "    <tr>\n",
       "      <th>8</th>\n",
       "      <td>2013</td>\n",
       "      <td>4754.118210</td>\n",
       "      <td>89.293284</td>\n",
       "      <td>19.111372</td>\n",
       "      <td>31.187461</td>\n",
       "      <td>410.759534</td>\n",
       "      <td>7.136436</td>\n",
       "      <td>26.600553</td>\n",
       "      <td>7.197624</td>\n",
       "      <td>0.000000</td>\n",
       "      <td>2.180252</td>\n",
       "      <td>54.454541</td>\n",
       "      <td>12.530821</td>\n",
       "      <td>3.945647</td>\n",
       "      <td>5418.515737</td>\n",
       "    </tr>\n",
       "    <tr>\n",
       "      <th>9</th>\n",
       "      <td>2014</td>\n",
       "      <td>2255.453460</td>\n",
       "      <td>52.266500</td>\n",
       "      <td>21.762990</td>\n",
       "      <td>30.770800</td>\n",
       "      <td>465.007580</td>\n",
       "      <td>4.734540</td>\n",
       "      <td>29.576440</td>\n",
       "      <td>8.882560</td>\n",
       "      <td>0.000000</td>\n",
       "      <td>0.608160</td>\n",
       "      <td>46.346459</td>\n",
       "      <td>12.248670</td>\n",
       "      <td>5.206880</td>\n",
       "      <td>2932.865039</td>\n",
       "    </tr>\n",
       "    <tr>\n",
       "      <th>10</th>\n",
       "      <td>2015</td>\n",
       "      <td>3616.481500</td>\n",
       "      <td>14.843150</td>\n",
       "      <td>26.772210</td>\n",
       "      <td>25.644130</td>\n",
       "      <td>426.932300</td>\n",
       "      <td>11.082120</td>\n",
       "      <td>15.314910</td>\n",
       "      <td>2.769796</td>\n",
       "      <td>0.164140</td>\n",
       "      <td>0.615910</td>\n",
       "      <td>17.536930</td>\n",
       "      <td>12.463520</td>\n",
       "      <td>7.717680</td>\n",
       "      <td>4178.338296</td>\n",
       "    </tr>\n",
       "  </tbody>\n",
       "</table>\n",
       "</div>"
      ],
      "text/plain": [
       "    year  Consumo Industrial - Anchoveta  \\\n",
       "4   2009                     5828.636000   \n",
       "5   2010                     3330.413040   \n",
       "6   2011                     7000.092781   \n",
       "7   2012                     3693.871080   \n",
       "8   2013                     4754.118210   \n",
       "9   2014                     2255.453460   \n",
       "10  2015                     3616.481500   \n",
       "\n",
       "    Consumo Humano - Congelado - Concha de abanico  \\\n",
       "4                                        24.634372   \n",
       "5                                        60.001250   \n",
       "6                                        92.027637   \n",
       "7                                        38.933390   \n",
       "8                                        89.293284   \n",
       "9                                        52.266500   \n",
       "10                                       14.843150   \n",
       "\n",
       "    Consumo Humano - Congelado - Langostino  \\\n",
       "4                                 11.877399   \n",
       "5                                 14.477939   \n",
       "6                                 23.384478   \n",
       "7                                 22.707220   \n",
       "8                                 19.111372   \n",
       "9                                 21.762990   \n",
       "10                                26.772210   \n",
       "\n",
       "    Consumo Humano - Congelado - Merluza  \\\n",
       "4                              36.774763   \n",
       "5                              25.647697   \n",
       "6                              28.544458   \n",
       "7                              21.054780   \n",
       "8                              31.187461   \n",
       "9                              30.770800   \n",
       "10                             25.644130   \n",
       "\n",
       "    Consumo Humano - Congelado - Calamar gigante  \\\n",
       "4                                     355.106589   \n",
       "5                                     327.571909   \n",
       "6                                     373.195661   \n",
       "7                                     457.072670   \n",
       "8                                     410.759534   \n",
       "9                                     465.007580   \n",
       "10                                    426.932300   \n",
       "\n",
       "    Consumo Humano - Conservas - Atún  Consumo Humano - Conservas - Caballa  \\\n",
       "4                            2.017061                             51.355908   \n",
       "5                            9.182845                              9.729522   \n",
       "6                            6.586856                             20.478814   \n",
       "7                            1.115060                              9.978510   \n",
       "8                            7.136436                             26.600553   \n",
       "9                            4.734540                             29.576440   \n",
       "10                          11.082120                             15.314910   \n",
       "\n",
       "    Consumo Humano - Conservas - Jurel  Consumo Humano - Conservas - Sardina  \\\n",
       "4                            14.289041                              0.000000   \n",
       "5                             5.774274                              0.000000   \n",
       "6                            83.277943                              0.054463   \n",
       "7                            43.693940                              0.088460   \n",
       "8                             7.197624                              0.000000   \n",
       "9                             8.882560                              0.000000   \n",
       "10                            2.769796                              0.164140   \n",
       "\n",
       "    Consumo Humano - Fresco - Concha de abanico  \\\n",
       "4                                      1.843072   \n",
       "5                                      2.824749   \n",
       "6                                      0.873130   \n",
       "7                                      0.744610   \n",
       "8                                      2.180252   \n",
       "9                                      0.608160   \n",
       "10                                     0.615910   \n",
       "\n",
       "    Consumo Humano - Fresco - Jurel  Consumo Humano - Fresco - Liza  \\\n",
       "4                         47.079175                       17.311344   \n",
       "5                         10.404933                        9.706363   \n",
       "6                         72.955117                       12.124808   \n",
       "7                         72.930470                       17.162420   \n",
       "8                         54.454541                       12.530821   \n",
       "9                         46.346459                       12.248670   \n",
       "10                        17.536930                       12.463520   \n",
       "\n",
       "    Consumo Humano - Fresco - Tollo  total_production  \n",
       "4                          4.057886       6394.982610  \n",
       "5                          4.994712       3810.729233  \n",
       "6                          5.687520       7719.283666  \n",
       "7                          4.235380       4383.587990  \n",
       "8                          3.945647       5418.515737  \n",
       "9                          5.206880       2932.865039  \n",
       "10                         7.717680       4178.338296  "
      ]
     },
     "execution_count": 146,
     "metadata": {},
     "output_type": "execute_result"
    }
   ],
   "source": [
    "extraction_fish.iloc[ year_init:year_end+1, : ]"
   ]
  },
  {
   "cell_type": "code",
   "execution_count": null,
   "metadata": {},
   "outputs": [],
   "source": [
    "# 2009 -- 4\n",
    "# 2015 - 10"
   ]
  },
  {
   "cell_type": "code",
   "execution_count": 130,
   "metadata": {},
   "outputs": [
    {
     "data": {
      "text/html": [
       "<div>\n",
       "<style scoped>\n",
       "    .dataframe tbody tr th:only-of-type {\n",
       "        vertical-align: middle;\n",
       "    }\n",
       "\n",
       "    .dataframe tbody tr th {\n",
       "        vertical-align: top;\n",
       "    }\n",
       "\n",
       "    .dataframe thead th {\n",
       "        text-align: right;\n",
       "    }\n",
       "</style>\n",
       "<table border=\"1\" class=\"dataframe\">\n",
       "  <thead>\n",
       "    <tr style=\"text-align: right;\">\n",
       "      <th></th>\n",
       "      <th>year</th>\n",
       "      <th>Consumo Industrial - Anchoveta</th>\n",
       "      <th>Consumo Humano - Congelado - Concha de abanico</th>\n",
       "      <th>Consumo Humano - Congelado - Langostino</th>\n",
       "      <th>Consumo Humano - Congelado - Merluza</th>\n",
       "      <th>Consumo Humano - Congelado - Calamar gigante</th>\n",
       "      <th>Consumo Humano - Conservas - Atún</th>\n",
       "      <th>Consumo Humano - Conservas - Caballa</th>\n",
       "      <th>Consumo Humano - Conservas - Jurel</th>\n",
       "      <th>Consumo Humano - Conservas - Sardina</th>\n",
       "      <th>Consumo Humano - Fresco - Concha de abanico</th>\n",
       "      <th>Consumo Humano - Fresco - Jurel</th>\n",
       "      <th>Consumo Humano - Fresco - Liza</th>\n",
       "      <th>Consumo Humano - Fresco - Tollo</th>\n",
       "      <th>total_production</th>\n",
       "    </tr>\n",
       "  </thead>\n",
       "  <tbody>\n",
       "    <tr>\n",
       "      <th>4</th>\n",
       "      <td>2009</td>\n",
       "      <td>5828.636000</td>\n",
       "      <td>24.634372</td>\n",
       "      <td>11.877399</td>\n",
       "      <td>36.774763</td>\n",
       "      <td>355.106589</td>\n",
       "      <td>2.017061</td>\n",
       "      <td>51.355908</td>\n",
       "      <td>14.289041</td>\n",
       "      <td>0.000000</td>\n",
       "      <td>1.843072</td>\n",
       "      <td>47.079175</td>\n",
       "      <td>17.311344</td>\n",
       "      <td>4.057886</td>\n",
       "      <td>6394.982610</td>\n",
       "    </tr>\n",
       "    <tr>\n",
       "      <th>5</th>\n",
       "      <td>2010</td>\n",
       "      <td>3330.413040</td>\n",
       "      <td>60.001250</td>\n",
       "      <td>14.477939</td>\n",
       "      <td>25.647697</td>\n",
       "      <td>327.571909</td>\n",
       "      <td>9.182845</td>\n",
       "      <td>9.729522</td>\n",
       "      <td>5.774274</td>\n",
       "      <td>0.000000</td>\n",
       "      <td>2.824749</td>\n",
       "      <td>10.404933</td>\n",
       "      <td>9.706363</td>\n",
       "      <td>4.994712</td>\n",
       "      <td>3810.729233</td>\n",
       "    </tr>\n",
       "    <tr>\n",
       "      <th>6</th>\n",
       "      <td>2011</td>\n",
       "      <td>7000.092781</td>\n",
       "      <td>92.027637</td>\n",
       "      <td>23.384478</td>\n",
       "      <td>28.544458</td>\n",
       "      <td>373.195661</td>\n",
       "      <td>6.586856</td>\n",
       "      <td>20.478814</td>\n",
       "      <td>83.277943</td>\n",
       "      <td>0.054463</td>\n",
       "      <td>0.873130</td>\n",
       "      <td>72.955117</td>\n",
       "      <td>12.124808</td>\n",
       "      <td>5.687520</td>\n",
       "      <td>7719.283666</td>\n",
       "    </tr>\n",
       "    <tr>\n",
       "      <th>7</th>\n",
       "      <td>2012</td>\n",
       "      <td>3693.871080</td>\n",
       "      <td>38.933390</td>\n",
       "      <td>22.707220</td>\n",
       "      <td>21.054780</td>\n",
       "      <td>457.072670</td>\n",
       "      <td>1.115060</td>\n",
       "      <td>9.978510</td>\n",
       "      <td>43.693940</td>\n",
       "      <td>0.088460</td>\n",
       "      <td>0.744610</td>\n",
       "      <td>72.930470</td>\n",
       "      <td>17.162420</td>\n",
       "      <td>4.235380</td>\n",
       "      <td>4383.587990</td>\n",
       "    </tr>\n",
       "    <tr>\n",
       "      <th>8</th>\n",
       "      <td>2013</td>\n",
       "      <td>4754.118210</td>\n",
       "      <td>89.293284</td>\n",
       "      <td>19.111372</td>\n",
       "      <td>31.187461</td>\n",
       "      <td>410.759534</td>\n",
       "      <td>7.136436</td>\n",
       "      <td>26.600553</td>\n",
       "      <td>7.197624</td>\n",
       "      <td>0.000000</td>\n",
       "      <td>2.180252</td>\n",
       "      <td>54.454541</td>\n",
       "      <td>12.530821</td>\n",
       "      <td>3.945647</td>\n",
       "      <td>5418.515737</td>\n",
       "    </tr>\n",
       "    <tr>\n",
       "      <th>9</th>\n",
       "      <td>2014</td>\n",
       "      <td>2255.453460</td>\n",
       "      <td>52.266500</td>\n",
       "      <td>21.762990</td>\n",
       "      <td>30.770800</td>\n",
       "      <td>465.007580</td>\n",
       "      <td>4.734540</td>\n",
       "      <td>29.576440</td>\n",
       "      <td>8.882560</td>\n",
       "      <td>0.000000</td>\n",
       "      <td>0.608160</td>\n",
       "      <td>46.346459</td>\n",
       "      <td>12.248670</td>\n",
       "      <td>5.206880</td>\n",
       "      <td>2932.865039</td>\n",
       "    </tr>\n",
       "    <tr>\n",
       "      <th>10</th>\n",
       "      <td>2015</td>\n",
       "      <td>3616.481500</td>\n",
       "      <td>14.843150</td>\n",
       "      <td>26.772210</td>\n",
       "      <td>25.644130</td>\n",
       "      <td>426.932300</td>\n",
       "      <td>11.082120</td>\n",
       "      <td>15.314910</td>\n",
       "      <td>2.769796</td>\n",
       "      <td>0.164140</td>\n",
       "      <td>0.615910</td>\n",
       "      <td>17.536930</td>\n",
       "      <td>12.463520</td>\n",
       "      <td>7.717680</td>\n",
       "      <td>4178.338296</td>\n",
       "    </tr>\n",
       "  </tbody>\n",
       "</table>\n",
       "</div>"
      ],
      "text/plain": [
       "    year  Consumo Industrial - Anchoveta  \\\n",
       "4   2009                     5828.636000   \n",
       "5   2010                     3330.413040   \n",
       "6   2011                     7000.092781   \n",
       "7   2012                     3693.871080   \n",
       "8   2013                     4754.118210   \n",
       "9   2014                     2255.453460   \n",
       "10  2015                     3616.481500   \n",
       "\n",
       "    Consumo Humano - Congelado - Concha de abanico  \\\n",
       "4                                        24.634372   \n",
       "5                                        60.001250   \n",
       "6                                        92.027637   \n",
       "7                                        38.933390   \n",
       "8                                        89.293284   \n",
       "9                                        52.266500   \n",
       "10                                       14.843150   \n",
       "\n",
       "    Consumo Humano - Congelado - Langostino  \\\n",
       "4                                 11.877399   \n",
       "5                                 14.477939   \n",
       "6                                 23.384478   \n",
       "7                                 22.707220   \n",
       "8                                 19.111372   \n",
       "9                                 21.762990   \n",
       "10                                26.772210   \n",
       "\n",
       "    Consumo Humano - Congelado - Merluza  \\\n",
       "4                              36.774763   \n",
       "5                              25.647697   \n",
       "6                              28.544458   \n",
       "7                              21.054780   \n",
       "8                              31.187461   \n",
       "9                              30.770800   \n",
       "10                             25.644130   \n",
       "\n",
       "    Consumo Humano - Congelado - Calamar gigante  \\\n",
       "4                                     355.106589   \n",
       "5                                     327.571909   \n",
       "6                                     373.195661   \n",
       "7                                     457.072670   \n",
       "8                                     410.759534   \n",
       "9                                     465.007580   \n",
       "10                                    426.932300   \n",
       "\n",
       "    Consumo Humano - Conservas - Atún  Consumo Humano - Conservas - Caballa  \\\n",
       "4                            2.017061                             51.355908   \n",
       "5                            9.182845                              9.729522   \n",
       "6                            6.586856                             20.478814   \n",
       "7                            1.115060                              9.978510   \n",
       "8                            7.136436                             26.600553   \n",
       "9                            4.734540                             29.576440   \n",
       "10                          11.082120                             15.314910   \n",
       "\n",
       "    Consumo Humano - Conservas - Jurel  Consumo Humano - Conservas - Sardina  \\\n",
       "4                            14.289041                              0.000000   \n",
       "5                             5.774274                              0.000000   \n",
       "6                            83.277943                              0.054463   \n",
       "7                            43.693940                              0.088460   \n",
       "8                             7.197624                              0.000000   \n",
       "9                             8.882560                              0.000000   \n",
       "10                            2.769796                              0.164140   \n",
       "\n",
       "    Consumo Humano - Fresco - Concha de abanico  \\\n",
       "4                                      1.843072   \n",
       "5                                      2.824749   \n",
       "6                                      0.873130   \n",
       "7                                      0.744610   \n",
       "8                                      2.180252   \n",
       "9                                      0.608160   \n",
       "10                                     0.615910   \n",
       "\n",
       "    Consumo Humano - Fresco - Jurel  Consumo Humano - Fresco - Liza  \\\n",
       "4                         47.079175                       17.311344   \n",
       "5                         10.404933                        9.706363   \n",
       "6                         72.955117                       12.124808   \n",
       "7                         72.930470                       17.162420   \n",
       "8                         54.454541                       12.530821   \n",
       "9                         46.346459                       12.248670   \n",
       "10                        17.536930                       12.463520   \n",
       "\n",
       "    Consumo Humano - Fresco - Tollo  total_production  \n",
       "4                          4.057886       6394.982610  \n",
       "5                          4.994712       3810.729233  \n",
       "6                          5.687520       7719.283666  \n",
       "7                          4.235380       4383.587990  \n",
       "8                          3.945647       5418.515737  \n",
       "9                          5.206880       2932.865039  \n",
       "10                         7.717680       4178.338296  "
      ]
     },
     "execution_count": 130,
     "metadata": {},
     "output_type": "execute_result"
    }
   ],
   "source": [
    "extraction_fish.iloc[ 4:11, : ]"
   ]
  },
  {
   "cell_type": "code",
   "execution_count": null,
   "metadata": {},
   "outputs": [],
   "source": [
    "extraction_fish"
   ]
  },
  {
   "cell_type": "code",
   "execution_count": 161,
   "metadata": {},
   "outputs": [],
   "source": [
    "def sample_data(data, year_init, year_end):\n",
    "    \n",
    "    year_init = data[data.year == year_init].index[0]\n",
    "    year_end = data[data.year == year_end].index[0]\n",
    "    \n",
    "    samp_data = data.iloc[ year_init:year_end+1, : ]\n",
    "    \n",
    "    return samp_data"
   ]
  },
  {
   "cell_type": "code",
   "execution_count": 166,
   "metadata": {},
   "outputs": [
    {
     "data": {
      "text/html": [
       "<div>\n",
       "<style scoped>\n",
       "    .dataframe tbody tr th:only-of-type {\n",
       "        vertical-align: middle;\n",
       "    }\n",
       "\n",
       "    .dataframe tbody tr th {\n",
       "        vertical-align: top;\n",
       "    }\n",
       "\n",
       "    .dataframe thead th {\n",
       "        text-align: right;\n",
       "    }\n",
       "</style>\n",
       "<table border=\"1\" class=\"dataframe\">\n",
       "  <thead>\n",
       "    <tr style=\"text-align: right;\">\n",
       "      <th></th>\n",
       "      <th>year</th>\n",
       "      <th>Consumo Industrial - Anchoveta</th>\n",
       "      <th>Consumo Humano - Congelado - Concha de abanico</th>\n",
       "      <th>Consumo Humano - Congelado - Langostino</th>\n",
       "      <th>Consumo Humano - Congelado - Merluza</th>\n",
       "      <th>Consumo Humano - Congelado - Calamar gigante</th>\n",
       "      <th>Consumo Humano - Conservas - Atún</th>\n",
       "      <th>Consumo Humano - Conservas - Caballa</th>\n",
       "      <th>Consumo Humano - Conservas - Jurel</th>\n",
       "      <th>Consumo Humano - Conservas - Sardina</th>\n",
       "      <th>Consumo Humano - Fresco - Concha de abanico</th>\n",
       "      <th>Consumo Humano - Fresco - Jurel</th>\n",
       "      <th>Consumo Humano - Fresco - Liza</th>\n",
       "      <th>Consumo Humano - Fresco - Tollo</th>\n",
       "      <th>total_production</th>\n",
       "    </tr>\n",
       "  </thead>\n",
       "  <tbody>\n",
       "    <tr>\n",
       "      <th>4</th>\n",
       "      <td>2009</td>\n",
       "      <td>5828.636000</td>\n",
       "      <td>24.634372</td>\n",
       "      <td>11.877399</td>\n",
       "      <td>36.774763</td>\n",
       "      <td>355.106589</td>\n",
       "      <td>2.017061</td>\n",
       "      <td>51.355908</td>\n",
       "      <td>14.289041</td>\n",
       "      <td>0.000000</td>\n",
       "      <td>1.843072</td>\n",
       "      <td>47.079175</td>\n",
       "      <td>17.311344</td>\n",
       "      <td>4.057886</td>\n",
       "      <td>6394.982610</td>\n",
       "    </tr>\n",
       "    <tr>\n",
       "      <th>5</th>\n",
       "      <td>2010</td>\n",
       "      <td>3330.413040</td>\n",
       "      <td>60.001250</td>\n",
       "      <td>14.477939</td>\n",
       "      <td>25.647697</td>\n",
       "      <td>327.571909</td>\n",
       "      <td>9.182845</td>\n",
       "      <td>9.729522</td>\n",
       "      <td>5.774274</td>\n",
       "      <td>0.000000</td>\n",
       "      <td>2.824749</td>\n",
       "      <td>10.404933</td>\n",
       "      <td>9.706363</td>\n",
       "      <td>4.994712</td>\n",
       "      <td>3810.729233</td>\n",
       "    </tr>\n",
       "    <tr>\n",
       "      <th>6</th>\n",
       "      <td>2011</td>\n",
       "      <td>7000.092781</td>\n",
       "      <td>92.027637</td>\n",
       "      <td>23.384478</td>\n",
       "      <td>28.544458</td>\n",
       "      <td>373.195661</td>\n",
       "      <td>6.586856</td>\n",
       "      <td>20.478814</td>\n",
       "      <td>83.277943</td>\n",
       "      <td>0.054463</td>\n",
       "      <td>0.873130</td>\n",
       "      <td>72.955117</td>\n",
       "      <td>12.124808</td>\n",
       "      <td>5.687520</td>\n",
       "      <td>7719.283666</td>\n",
       "    </tr>\n",
       "    <tr>\n",
       "      <th>7</th>\n",
       "      <td>2012</td>\n",
       "      <td>3693.871080</td>\n",
       "      <td>38.933390</td>\n",
       "      <td>22.707220</td>\n",
       "      <td>21.054780</td>\n",
       "      <td>457.072670</td>\n",
       "      <td>1.115060</td>\n",
       "      <td>9.978510</td>\n",
       "      <td>43.693940</td>\n",
       "      <td>0.088460</td>\n",
       "      <td>0.744610</td>\n",
       "      <td>72.930470</td>\n",
       "      <td>17.162420</td>\n",
       "      <td>4.235380</td>\n",
       "      <td>4383.587990</td>\n",
       "    </tr>\n",
       "    <tr>\n",
       "      <th>8</th>\n",
       "      <td>2013</td>\n",
       "      <td>4754.118210</td>\n",
       "      <td>89.293284</td>\n",
       "      <td>19.111372</td>\n",
       "      <td>31.187461</td>\n",
       "      <td>410.759534</td>\n",
       "      <td>7.136436</td>\n",
       "      <td>26.600553</td>\n",
       "      <td>7.197624</td>\n",
       "      <td>0.000000</td>\n",
       "      <td>2.180252</td>\n",
       "      <td>54.454541</td>\n",
       "      <td>12.530821</td>\n",
       "      <td>3.945647</td>\n",
       "      <td>5418.515737</td>\n",
       "    </tr>\n",
       "    <tr>\n",
       "      <th>9</th>\n",
       "      <td>2014</td>\n",
       "      <td>2255.453460</td>\n",
       "      <td>52.266500</td>\n",
       "      <td>21.762990</td>\n",
       "      <td>30.770800</td>\n",
       "      <td>465.007580</td>\n",
       "      <td>4.734540</td>\n",
       "      <td>29.576440</td>\n",
       "      <td>8.882560</td>\n",
       "      <td>0.000000</td>\n",
       "      <td>0.608160</td>\n",
       "      <td>46.346459</td>\n",
       "      <td>12.248670</td>\n",
       "      <td>5.206880</td>\n",
       "      <td>2932.865039</td>\n",
       "    </tr>\n",
       "    <tr>\n",
       "      <th>10</th>\n",
       "      <td>2015</td>\n",
       "      <td>3616.481500</td>\n",
       "      <td>14.843150</td>\n",
       "      <td>26.772210</td>\n",
       "      <td>25.644130</td>\n",
       "      <td>426.932300</td>\n",
       "      <td>11.082120</td>\n",
       "      <td>15.314910</td>\n",
       "      <td>2.769796</td>\n",
       "      <td>0.164140</td>\n",
       "      <td>0.615910</td>\n",
       "      <td>17.536930</td>\n",
       "      <td>12.463520</td>\n",
       "      <td>7.717680</td>\n",
       "      <td>4178.338296</td>\n",
       "    </tr>\n",
       "  </tbody>\n",
       "</table>\n",
       "</div>"
      ],
      "text/plain": [
       "    year  Consumo Industrial - Anchoveta  \\\n",
       "4   2009                     5828.636000   \n",
       "5   2010                     3330.413040   \n",
       "6   2011                     7000.092781   \n",
       "7   2012                     3693.871080   \n",
       "8   2013                     4754.118210   \n",
       "9   2014                     2255.453460   \n",
       "10  2015                     3616.481500   \n",
       "\n",
       "    Consumo Humano - Congelado - Concha de abanico  \\\n",
       "4                                        24.634372   \n",
       "5                                        60.001250   \n",
       "6                                        92.027637   \n",
       "7                                        38.933390   \n",
       "8                                        89.293284   \n",
       "9                                        52.266500   \n",
       "10                                       14.843150   \n",
       "\n",
       "    Consumo Humano - Congelado - Langostino  \\\n",
       "4                                 11.877399   \n",
       "5                                 14.477939   \n",
       "6                                 23.384478   \n",
       "7                                 22.707220   \n",
       "8                                 19.111372   \n",
       "9                                 21.762990   \n",
       "10                                26.772210   \n",
       "\n",
       "    Consumo Humano - Congelado - Merluza  \\\n",
       "4                              36.774763   \n",
       "5                              25.647697   \n",
       "6                              28.544458   \n",
       "7                              21.054780   \n",
       "8                              31.187461   \n",
       "9                              30.770800   \n",
       "10                             25.644130   \n",
       "\n",
       "    Consumo Humano - Congelado - Calamar gigante  \\\n",
       "4                                     355.106589   \n",
       "5                                     327.571909   \n",
       "6                                     373.195661   \n",
       "7                                     457.072670   \n",
       "8                                     410.759534   \n",
       "9                                     465.007580   \n",
       "10                                    426.932300   \n",
       "\n",
       "    Consumo Humano - Conservas - Atún  Consumo Humano - Conservas - Caballa  \\\n",
       "4                            2.017061                             51.355908   \n",
       "5                            9.182845                              9.729522   \n",
       "6                            6.586856                             20.478814   \n",
       "7                            1.115060                              9.978510   \n",
       "8                            7.136436                             26.600553   \n",
       "9                            4.734540                             29.576440   \n",
       "10                          11.082120                             15.314910   \n",
       "\n",
       "    Consumo Humano - Conservas - Jurel  Consumo Humano - Conservas - Sardina  \\\n",
       "4                            14.289041                              0.000000   \n",
       "5                             5.774274                              0.000000   \n",
       "6                            83.277943                              0.054463   \n",
       "7                            43.693940                              0.088460   \n",
       "8                             7.197624                              0.000000   \n",
       "9                             8.882560                              0.000000   \n",
       "10                            2.769796                              0.164140   \n",
       "\n",
       "    Consumo Humano - Fresco - Concha de abanico  \\\n",
       "4                                      1.843072   \n",
       "5                                      2.824749   \n",
       "6                                      0.873130   \n",
       "7                                      0.744610   \n",
       "8                                      2.180252   \n",
       "9                                      0.608160   \n",
       "10                                     0.615910   \n",
       "\n",
       "    Consumo Humano - Fresco - Jurel  Consumo Humano - Fresco - Liza  \\\n",
       "4                         47.079175                       17.311344   \n",
       "5                         10.404933                        9.706363   \n",
       "6                         72.955117                       12.124808   \n",
       "7                         72.930470                       17.162420   \n",
       "8                         54.454541                       12.530821   \n",
       "9                         46.346459                       12.248670   \n",
       "10                        17.536930                       12.463520   \n",
       "\n",
       "    Consumo Humano - Fresco - Tollo  total_production  \n",
       "4                          4.057886       6394.982610  \n",
       "5                          4.994712       3810.729233  \n",
       "6                          5.687520       7719.283666  \n",
       "7                          4.235380       4383.587990  \n",
       "8                          3.945647       5418.515737  \n",
       "9                          5.206880       2932.865039  \n",
       "10                         7.717680       4178.338296  "
      ]
     },
     "execution_count": 166,
     "metadata": {},
     "output_type": "execute_result"
    }
   ],
   "source": [
    "year_init = extraction_fish[extraction_fish.year == 2009].index[0]\n",
    "year_end = extraction_fish[extraction_fish.year == 2015].index[0]\n",
    "extraction_fish.iloc[ year_init:year_end+1, : ]"
   ]
  },
  {
   "cell_type": "code",
   "execution_count": 167,
   "metadata": {},
   "outputs": [
    {
     "data": {
      "text/html": [
       "<div>\n",
       "<style scoped>\n",
       "    .dataframe tbody tr th:only-of-type {\n",
       "        vertical-align: middle;\n",
       "    }\n",
       "\n",
       "    .dataframe tbody tr th {\n",
       "        vertical-align: top;\n",
       "    }\n",
       "\n",
       "    .dataframe thead th {\n",
       "        text-align: right;\n",
       "    }\n",
       "</style>\n",
       "<table border=\"1\" class=\"dataframe\">\n",
       "  <thead>\n",
       "    <tr style=\"text-align: right;\">\n",
       "      <th></th>\n",
       "      <th>year</th>\n",
       "      <th>Consumo Industrial - Anchoveta</th>\n",
       "      <th>Consumo Humano - Congelado - Concha de abanico</th>\n",
       "      <th>Consumo Humano - Congelado - Langostino</th>\n",
       "      <th>Consumo Humano - Congelado - Merluza</th>\n",
       "      <th>Consumo Humano - Congelado - Calamar gigante</th>\n",
       "      <th>Consumo Humano - Conservas - Atún</th>\n",
       "      <th>Consumo Humano - Conservas - Caballa</th>\n",
       "      <th>Consumo Humano - Conservas - Jurel</th>\n",
       "      <th>Consumo Humano - Conservas - Sardina</th>\n",
       "      <th>Consumo Humano - Fresco - Concha de abanico</th>\n",
       "      <th>Consumo Humano - Fresco - Jurel</th>\n",
       "      <th>Consumo Humano - Fresco - Liza</th>\n",
       "      <th>Consumo Humano - Fresco - Tollo</th>\n",
       "      <th>total_production</th>\n",
       "    </tr>\n",
       "  </thead>\n",
       "  <tbody>\n",
       "    <tr>\n",
       "      <th>3</th>\n",
       "      <td>2008</td>\n",
       "      <td>6159.387000</td>\n",
       "      <td>18.790000</td>\n",
       "      <td>12.817000</td>\n",
       "      <td>26.348398</td>\n",
       "      <td>484.162082</td>\n",
       "      <td>3.283711</td>\n",
       "      <td>47.694121</td>\n",
       "      <td>58.864202</td>\n",
       "      <td>0.000000</td>\n",
       "      <td>0.828187</td>\n",
       "      <td>80.092885</td>\n",
       "      <td>14.514054</td>\n",
       "      <td>2.933360</td>\n",
       "      <td>6909.715000</td>\n",
       "    </tr>\n",
       "    <tr>\n",
       "      <th>4</th>\n",
       "      <td>2009</td>\n",
       "      <td>5828.636000</td>\n",
       "      <td>24.634372</td>\n",
       "      <td>11.877399</td>\n",
       "      <td>36.774763</td>\n",
       "      <td>355.106589</td>\n",
       "      <td>2.017061</td>\n",
       "      <td>51.355908</td>\n",
       "      <td>14.289041</td>\n",
       "      <td>0.000000</td>\n",
       "      <td>1.843072</td>\n",
       "      <td>47.079175</td>\n",
       "      <td>17.311344</td>\n",
       "      <td>4.057886</td>\n",
       "      <td>6394.982610</td>\n",
       "    </tr>\n",
       "    <tr>\n",
       "      <th>5</th>\n",
       "      <td>2010</td>\n",
       "      <td>3330.413040</td>\n",
       "      <td>60.001250</td>\n",
       "      <td>14.477939</td>\n",
       "      <td>25.647697</td>\n",
       "      <td>327.571909</td>\n",
       "      <td>9.182845</td>\n",
       "      <td>9.729522</td>\n",
       "      <td>5.774274</td>\n",
       "      <td>0.000000</td>\n",
       "      <td>2.824749</td>\n",
       "      <td>10.404933</td>\n",
       "      <td>9.706363</td>\n",
       "      <td>4.994712</td>\n",
       "      <td>3810.729233</td>\n",
       "    </tr>\n",
       "    <tr>\n",
       "      <th>6</th>\n",
       "      <td>2011</td>\n",
       "      <td>7000.092781</td>\n",
       "      <td>92.027637</td>\n",
       "      <td>23.384478</td>\n",
       "      <td>28.544458</td>\n",
       "      <td>373.195661</td>\n",
       "      <td>6.586856</td>\n",
       "      <td>20.478814</td>\n",
       "      <td>83.277943</td>\n",
       "      <td>0.054463</td>\n",
       "      <td>0.873130</td>\n",
       "      <td>72.955117</td>\n",
       "      <td>12.124808</td>\n",
       "      <td>5.687520</td>\n",
       "      <td>7719.283666</td>\n",
       "    </tr>\n",
       "    <tr>\n",
       "      <th>7</th>\n",
       "      <td>2012</td>\n",
       "      <td>3693.871080</td>\n",
       "      <td>38.933390</td>\n",
       "      <td>22.707220</td>\n",
       "      <td>21.054780</td>\n",
       "      <td>457.072670</td>\n",
       "      <td>1.115060</td>\n",
       "      <td>9.978510</td>\n",
       "      <td>43.693940</td>\n",
       "      <td>0.088460</td>\n",
       "      <td>0.744610</td>\n",
       "      <td>72.930470</td>\n",
       "      <td>17.162420</td>\n",
       "      <td>4.235380</td>\n",
       "      <td>4383.587990</td>\n",
       "    </tr>\n",
       "    <tr>\n",
       "      <th>8</th>\n",
       "      <td>2013</td>\n",
       "      <td>4754.118210</td>\n",
       "      <td>89.293284</td>\n",
       "      <td>19.111372</td>\n",
       "      <td>31.187461</td>\n",
       "      <td>410.759534</td>\n",
       "      <td>7.136436</td>\n",
       "      <td>26.600553</td>\n",
       "      <td>7.197624</td>\n",
       "      <td>0.000000</td>\n",
       "      <td>2.180252</td>\n",
       "      <td>54.454541</td>\n",
       "      <td>12.530821</td>\n",
       "      <td>3.945647</td>\n",
       "      <td>5418.515737</td>\n",
       "    </tr>\n",
       "    <tr>\n",
       "      <th>9</th>\n",
       "      <td>2014</td>\n",
       "      <td>2255.453460</td>\n",
       "      <td>52.266500</td>\n",
       "      <td>21.762990</td>\n",
       "      <td>30.770800</td>\n",
       "      <td>465.007580</td>\n",
       "      <td>4.734540</td>\n",
       "      <td>29.576440</td>\n",
       "      <td>8.882560</td>\n",
       "      <td>0.000000</td>\n",
       "      <td>0.608160</td>\n",
       "      <td>46.346459</td>\n",
       "      <td>12.248670</td>\n",
       "      <td>5.206880</td>\n",
       "      <td>2932.865039</td>\n",
       "    </tr>\n",
       "    <tr>\n",
       "      <th>10</th>\n",
       "      <td>2015</td>\n",
       "      <td>3616.481500</td>\n",
       "      <td>14.843150</td>\n",
       "      <td>26.772210</td>\n",
       "      <td>25.644130</td>\n",
       "      <td>426.932300</td>\n",
       "      <td>11.082120</td>\n",
       "      <td>15.314910</td>\n",
       "      <td>2.769796</td>\n",
       "      <td>0.164140</td>\n",
       "      <td>0.615910</td>\n",
       "      <td>17.536930</td>\n",
       "      <td>12.463520</td>\n",
       "      <td>7.717680</td>\n",
       "      <td>4178.338296</td>\n",
       "    </tr>\n",
       "    <tr>\n",
       "      <th>11</th>\n",
       "      <td>2016</td>\n",
       "      <td>2732.733740</td>\n",
       "      <td>10.090130</td>\n",
       "      <td>29.253750</td>\n",
       "      <td>25.800210</td>\n",
       "      <td>246.124700</td>\n",
       "      <td>10.884490</td>\n",
       "      <td>57.675170</td>\n",
       "      <td>0.412040</td>\n",
       "      <td>0.007490</td>\n",
       "      <td>0.579750</td>\n",
       "      <td>12.472050</td>\n",
       "      <td>15.757580</td>\n",
       "      <td>9.453130</td>\n",
       "      <td>3151.244230</td>\n",
       "    </tr>\n",
       "    <tr>\n",
       "      <th>12</th>\n",
       "      <td>2017</td>\n",
       "      <td>3165.490240</td>\n",
       "      <td>4.596090</td>\n",
       "      <td>38.760070</td>\n",
       "      <td>37.147430</td>\n",
       "      <td>252.429930</td>\n",
       "      <td>11.802750</td>\n",
       "      <td>23.249140</td>\n",
       "      <td>1.052910</td>\n",
       "      <td>0.000000</td>\n",
       "      <td>0.373700</td>\n",
       "      <td>6.889530</td>\n",
       "      <td>29.061740</td>\n",
       "      <td>6.692660</td>\n",
       "      <td>3577.546190</td>\n",
       "    </tr>\n",
       "    <tr>\n",
       "      <th>13</th>\n",
       "      <td>2018</td>\n",
       "      <td>6072.887839</td>\n",
       "      <td>36.530349</td>\n",
       "      <td>31.505879</td>\n",
       "      <td>34.876576</td>\n",
       "      <td>319.146488</td>\n",
       "      <td>18.138975</td>\n",
       "      <td>24.610468</td>\n",
       "      <td>14.619846</td>\n",
       "      <td>0.000000</td>\n",
       "      <td>1.551366</td>\n",
       "      <td>14.720969</td>\n",
       "      <td>23.326310</td>\n",
       "      <td>3.672117</td>\n",
       "      <td>6595.587183</td>\n",
       "    </tr>\n",
       "    <tr>\n",
       "      <th>14</th>\n",
       "      <td>2019</td>\n",
       "      <td>3381.437222</td>\n",
       "      <td>53.112863</td>\n",
       "      <td>42.857637</td>\n",
       "      <td>28.979849</td>\n",
       "      <td>483.765239</td>\n",
       "      <td>17.839298</td>\n",
       "      <td>19.598784</td>\n",
       "      <td>27.733432</td>\n",
       "      <td>0.000000</td>\n",
       "      <td>1.226521</td>\n",
       "      <td>40.798701</td>\n",
       "      <td>24.029820</td>\n",
       "      <td>1.241883</td>\n",
       "      <td>4122.621249</td>\n",
       "    </tr>\n",
       "    <tr>\n",
       "      <th>15</th>\n",
       "      <td>2020</td>\n",
       "      <td>4314.558220</td>\n",
       "      <td>46.995287</td>\n",
       "      <td>34.516971</td>\n",
       "      <td>19.842900</td>\n",
       "      <td>407.384850</td>\n",
       "      <td>3.843680</td>\n",
       "      <td>28.408700</td>\n",
       "      <td>23.475890</td>\n",
       "      <td>0.000000</td>\n",
       "      <td>0.616697</td>\n",
       "      <td>48.115810</td>\n",
       "      <td>14.992172</td>\n",
       "      <td>0.544585</td>\n",
       "      <td>4943.295762</td>\n",
       "    </tr>\n",
       "  </tbody>\n",
       "</table>\n",
       "</div>"
      ],
      "text/plain": [
       "    year  Consumo Industrial - Anchoveta  \\\n",
       "3   2008                     6159.387000   \n",
       "4   2009                     5828.636000   \n",
       "5   2010                     3330.413040   \n",
       "6   2011                     7000.092781   \n",
       "7   2012                     3693.871080   \n",
       "8   2013                     4754.118210   \n",
       "9   2014                     2255.453460   \n",
       "10  2015                     3616.481500   \n",
       "11  2016                     2732.733740   \n",
       "12  2017                     3165.490240   \n",
       "13  2018                     6072.887839   \n",
       "14  2019                     3381.437222   \n",
       "15  2020                     4314.558220   \n",
       "\n",
       "    Consumo Humano - Congelado - Concha de abanico  \\\n",
       "3                                        18.790000   \n",
       "4                                        24.634372   \n",
       "5                                        60.001250   \n",
       "6                                        92.027637   \n",
       "7                                        38.933390   \n",
       "8                                        89.293284   \n",
       "9                                        52.266500   \n",
       "10                                       14.843150   \n",
       "11                                       10.090130   \n",
       "12                                        4.596090   \n",
       "13                                       36.530349   \n",
       "14                                       53.112863   \n",
       "15                                       46.995287   \n",
       "\n",
       "    Consumo Humano - Congelado - Langostino  \\\n",
       "3                                 12.817000   \n",
       "4                                 11.877399   \n",
       "5                                 14.477939   \n",
       "6                                 23.384478   \n",
       "7                                 22.707220   \n",
       "8                                 19.111372   \n",
       "9                                 21.762990   \n",
       "10                                26.772210   \n",
       "11                                29.253750   \n",
       "12                                38.760070   \n",
       "13                                31.505879   \n",
       "14                                42.857637   \n",
       "15                                34.516971   \n",
       "\n",
       "    Consumo Humano - Congelado - Merluza  \\\n",
       "3                              26.348398   \n",
       "4                              36.774763   \n",
       "5                              25.647697   \n",
       "6                              28.544458   \n",
       "7                              21.054780   \n",
       "8                              31.187461   \n",
       "9                              30.770800   \n",
       "10                             25.644130   \n",
       "11                             25.800210   \n",
       "12                             37.147430   \n",
       "13                             34.876576   \n",
       "14                             28.979849   \n",
       "15                             19.842900   \n",
       "\n",
       "    Consumo Humano - Congelado - Calamar gigante  \\\n",
       "3                                     484.162082   \n",
       "4                                     355.106589   \n",
       "5                                     327.571909   \n",
       "6                                     373.195661   \n",
       "7                                     457.072670   \n",
       "8                                     410.759534   \n",
       "9                                     465.007580   \n",
       "10                                    426.932300   \n",
       "11                                    246.124700   \n",
       "12                                    252.429930   \n",
       "13                                    319.146488   \n",
       "14                                    483.765239   \n",
       "15                                    407.384850   \n",
       "\n",
       "    Consumo Humano - Conservas - Atún  Consumo Humano - Conservas - Caballa  \\\n",
       "3                            3.283711                             47.694121   \n",
       "4                            2.017061                             51.355908   \n",
       "5                            9.182845                              9.729522   \n",
       "6                            6.586856                             20.478814   \n",
       "7                            1.115060                              9.978510   \n",
       "8                            7.136436                             26.600553   \n",
       "9                            4.734540                             29.576440   \n",
       "10                          11.082120                             15.314910   \n",
       "11                          10.884490                             57.675170   \n",
       "12                          11.802750                             23.249140   \n",
       "13                          18.138975                             24.610468   \n",
       "14                          17.839298                             19.598784   \n",
       "15                           3.843680                             28.408700   \n",
       "\n",
       "    Consumo Humano - Conservas - Jurel  Consumo Humano - Conservas - Sardina  \\\n",
       "3                            58.864202                              0.000000   \n",
       "4                            14.289041                              0.000000   \n",
       "5                             5.774274                              0.000000   \n",
       "6                            83.277943                              0.054463   \n",
       "7                            43.693940                              0.088460   \n",
       "8                             7.197624                              0.000000   \n",
       "9                             8.882560                              0.000000   \n",
       "10                            2.769796                              0.164140   \n",
       "11                            0.412040                              0.007490   \n",
       "12                            1.052910                              0.000000   \n",
       "13                           14.619846                              0.000000   \n",
       "14                           27.733432                              0.000000   \n",
       "15                           23.475890                              0.000000   \n",
       "\n",
       "    Consumo Humano - Fresco - Concha de abanico  \\\n",
       "3                                      0.828187   \n",
       "4                                      1.843072   \n",
       "5                                      2.824749   \n",
       "6                                      0.873130   \n",
       "7                                      0.744610   \n",
       "8                                      2.180252   \n",
       "9                                      0.608160   \n",
       "10                                     0.615910   \n",
       "11                                     0.579750   \n",
       "12                                     0.373700   \n",
       "13                                     1.551366   \n",
       "14                                     1.226521   \n",
       "15                                     0.616697   \n",
       "\n",
       "    Consumo Humano - Fresco - Jurel  Consumo Humano - Fresco - Liza  \\\n",
       "3                         80.092885                       14.514054   \n",
       "4                         47.079175                       17.311344   \n",
       "5                         10.404933                        9.706363   \n",
       "6                         72.955117                       12.124808   \n",
       "7                         72.930470                       17.162420   \n",
       "8                         54.454541                       12.530821   \n",
       "9                         46.346459                       12.248670   \n",
       "10                        17.536930                       12.463520   \n",
       "11                        12.472050                       15.757580   \n",
       "12                         6.889530                       29.061740   \n",
       "13                        14.720969                       23.326310   \n",
       "14                        40.798701                       24.029820   \n",
       "15                        48.115810                       14.992172   \n",
       "\n",
       "    Consumo Humano - Fresco - Tollo  total_production  \n",
       "3                          2.933360       6909.715000  \n",
       "4                          4.057886       6394.982610  \n",
       "5                          4.994712       3810.729233  \n",
       "6                          5.687520       7719.283666  \n",
       "7                          4.235380       4383.587990  \n",
       "8                          3.945647       5418.515737  \n",
       "9                          5.206880       2932.865039  \n",
       "10                         7.717680       4178.338296  \n",
       "11                         9.453130       3151.244230  \n",
       "12                         6.692660       3577.546190  \n",
       "13                         3.672117       6595.587183  \n",
       "14                         1.241883       4122.621249  \n",
       "15                         0.544585       4943.295762  "
      ]
     },
     "execution_count": 167,
     "metadata": {},
     "output_type": "execute_result"
    }
   ],
   "source": [
    "year_init = extraction_fish[extraction_fish.year == 2008].index[0]\n",
    "year_end = extraction_fish[extraction_fish.year == 2020].index[0]\n",
    "extraction_fish.iloc[ year_init:year_end+1, : ]"
   ]
  },
  {
   "cell_type": "code",
   "execution_count": 168,
   "metadata": {},
   "outputs": [
    {
     "data": {
      "text/html": [
       "<div>\n",
       "<style scoped>\n",
       "    .dataframe tbody tr th:only-of-type {\n",
       "        vertical-align: middle;\n",
       "    }\n",
       "\n",
       "    .dataframe tbody tr th {\n",
       "        vertical-align: top;\n",
       "    }\n",
       "\n",
       "    .dataframe thead th {\n",
       "        text-align: right;\n",
       "    }\n",
       "</style>\n",
       "<table border=\"1\" class=\"dataframe\">\n",
       "  <thead>\n",
       "    <tr style=\"text-align: right;\">\n",
       "      <th></th>\n",
       "      <th>year</th>\n",
       "      <th>Consumo Industrial - Anchoveta</th>\n",
       "      <th>Consumo Humano - Congelado - Concha de abanico</th>\n",
       "      <th>Consumo Humano - Congelado - Langostino</th>\n",
       "      <th>Consumo Humano - Congelado - Merluza</th>\n",
       "      <th>Consumo Humano - Congelado - Calamar gigante</th>\n",
       "      <th>Consumo Humano - Conservas - Atún</th>\n",
       "      <th>Consumo Humano - Conservas - Caballa</th>\n",
       "      <th>Consumo Humano - Conservas - Jurel</th>\n",
       "      <th>Consumo Humano - Conservas - Sardina</th>\n",
       "      <th>Consumo Humano - Fresco - Concha de abanico</th>\n",
       "      <th>Consumo Humano - Fresco - Jurel</th>\n",
       "      <th>Consumo Humano - Fresco - Liza</th>\n",
       "      <th>Consumo Humano - Fresco - Tollo</th>\n",
       "      <th>total_production</th>\n",
       "    </tr>\n",
       "  </thead>\n",
       "  <tbody>\n",
       "    <tr>\n",
       "      <th>13</th>\n",
       "      <td>2018</td>\n",
       "      <td>6072.887839</td>\n",
       "      <td>36.530349</td>\n",
       "      <td>31.505879</td>\n",
       "      <td>34.876576</td>\n",
       "      <td>319.146488</td>\n",
       "      <td>18.138975</td>\n",
       "      <td>24.610468</td>\n",
       "      <td>14.619846</td>\n",
       "      <td>0.0</td>\n",
       "      <td>1.551366</td>\n",
       "      <td>14.720969</td>\n",
       "      <td>23.326310</td>\n",
       "      <td>3.672117</td>\n",
       "      <td>6595.587183</td>\n",
       "    </tr>\n",
       "    <tr>\n",
       "      <th>14</th>\n",
       "      <td>2019</td>\n",
       "      <td>3381.437222</td>\n",
       "      <td>53.112863</td>\n",
       "      <td>42.857637</td>\n",
       "      <td>28.979849</td>\n",
       "      <td>483.765239</td>\n",
       "      <td>17.839298</td>\n",
       "      <td>19.598784</td>\n",
       "      <td>27.733432</td>\n",
       "      <td>0.0</td>\n",
       "      <td>1.226521</td>\n",
       "      <td>40.798701</td>\n",
       "      <td>24.029820</td>\n",
       "      <td>1.241883</td>\n",
       "      <td>4122.621249</td>\n",
       "    </tr>\n",
       "    <tr>\n",
       "      <th>15</th>\n",
       "      <td>2020</td>\n",
       "      <td>4314.558220</td>\n",
       "      <td>46.995287</td>\n",
       "      <td>34.516971</td>\n",
       "      <td>19.842900</td>\n",
       "      <td>407.384850</td>\n",
       "      <td>3.843680</td>\n",
       "      <td>28.408700</td>\n",
       "      <td>23.475890</td>\n",
       "      <td>0.0</td>\n",
       "      <td>0.616697</td>\n",
       "      <td>48.115810</td>\n",
       "      <td>14.992172</td>\n",
       "      <td>0.544585</td>\n",
       "      <td>4943.295762</td>\n",
       "    </tr>\n",
       "  </tbody>\n",
       "</table>\n",
       "</div>"
      ],
      "text/plain": [
       "    year  Consumo Industrial - Anchoveta  \\\n",
       "13  2018                     6072.887839   \n",
       "14  2019                     3381.437222   \n",
       "15  2020                     4314.558220   \n",
       "\n",
       "    Consumo Humano - Congelado - Concha de abanico  \\\n",
       "13                                       36.530349   \n",
       "14                                       53.112863   \n",
       "15                                       46.995287   \n",
       "\n",
       "    Consumo Humano - Congelado - Langostino  \\\n",
       "13                                31.505879   \n",
       "14                                42.857637   \n",
       "15                                34.516971   \n",
       "\n",
       "    Consumo Humano - Congelado - Merluza  \\\n",
       "13                             34.876576   \n",
       "14                             28.979849   \n",
       "15                             19.842900   \n",
       "\n",
       "    Consumo Humano - Congelado - Calamar gigante  \\\n",
       "13                                    319.146488   \n",
       "14                                    483.765239   \n",
       "15                                    407.384850   \n",
       "\n",
       "    Consumo Humano - Conservas - Atún  Consumo Humano - Conservas - Caballa  \\\n",
       "13                          18.138975                             24.610468   \n",
       "14                          17.839298                             19.598784   \n",
       "15                           3.843680                             28.408700   \n",
       "\n",
       "    Consumo Humano - Conservas - Jurel  Consumo Humano - Conservas - Sardina  \\\n",
       "13                           14.619846                                   0.0   \n",
       "14                           27.733432                                   0.0   \n",
       "15                           23.475890                                   0.0   \n",
       "\n",
       "    Consumo Humano - Fresco - Concha de abanico  \\\n",
       "13                                     1.551366   \n",
       "14                                     1.226521   \n",
       "15                                     0.616697   \n",
       "\n",
       "    Consumo Humano - Fresco - Jurel  Consumo Humano - Fresco - Liza  \\\n",
       "13                        14.720969                       23.326310   \n",
       "14                        40.798701                       24.029820   \n",
       "15                        48.115810                       14.992172   \n",
       "\n",
       "    Consumo Humano - Fresco - Tollo  total_production  \n",
       "13                         3.672117       6595.587183  \n",
       "14                         1.241883       4122.621249  \n",
       "15                         0.544585       4943.295762  "
      ]
     },
     "execution_count": 168,
     "metadata": {},
     "output_type": "execute_result"
    }
   ],
   "source": [
    "year_init = extraction_fish[extraction_fish.year == 2018].index[0]\n",
    "year_end = extraction_fish[extraction_fish.year == 2020].index[0]\n",
    "extraction_fish.iloc[ year_init:year_end+1, : ]"
   ]
  },
  {
   "cell_type": "code",
   "execution_count": 169,
   "metadata": {},
   "outputs": [
    {
     "data": {
      "text/html": [
       "<div>\n",
       "<style scoped>\n",
       "    .dataframe tbody tr th:only-of-type {\n",
       "        vertical-align: middle;\n",
       "    }\n",
       "\n",
       "    .dataframe tbody tr th {\n",
       "        vertical-align: top;\n",
       "    }\n",
       "\n",
       "    .dataframe thead th {\n",
       "        text-align: right;\n",
       "    }\n",
       "</style>\n",
       "<table border=\"1\" class=\"dataframe\">\n",
       "  <thead>\n",
       "    <tr style=\"text-align: right;\">\n",
       "      <th></th>\n",
       "      <th>year</th>\n",
       "      <th>Consumo Industrial - Anchoveta</th>\n",
       "      <th>Consumo Humano - Congelado - Concha de abanico</th>\n",
       "      <th>Consumo Humano - Congelado - Langostino</th>\n",
       "      <th>Consumo Humano - Congelado - Merluza</th>\n",
       "      <th>Consumo Humano - Congelado - Calamar gigante</th>\n",
       "      <th>Consumo Humano - Conservas - Atún</th>\n",
       "      <th>Consumo Humano - Conservas - Caballa</th>\n",
       "      <th>Consumo Humano - Conservas - Jurel</th>\n",
       "      <th>Consumo Humano - Conservas - Sardina</th>\n",
       "      <th>Consumo Humano - Fresco - Concha de abanico</th>\n",
       "      <th>Consumo Humano - Fresco - Jurel</th>\n",
       "      <th>Consumo Humano - Fresco - Liza</th>\n",
       "      <th>Consumo Humano - Fresco - Tollo</th>\n",
       "      <th>total_production</th>\n",
       "    </tr>\n",
       "  </thead>\n",
       "  <tbody>\n",
       "    <tr>\n",
       "      <th>14</th>\n",
       "      <td>2019</td>\n",
       "      <td>3381.437222</td>\n",
       "      <td>53.112863</td>\n",
       "      <td>42.857637</td>\n",
       "      <td>28.979849</td>\n",
       "      <td>483.765239</td>\n",
       "      <td>17.839298</td>\n",
       "      <td>19.598784</td>\n",
       "      <td>27.733432</td>\n",
       "      <td>0.0</td>\n",
       "      <td>1.226521</td>\n",
       "      <td>40.798701</td>\n",
       "      <td>24.029820</td>\n",
       "      <td>1.241883</td>\n",
       "      <td>4122.621249</td>\n",
       "    </tr>\n",
       "    <tr>\n",
       "      <th>15</th>\n",
       "      <td>2020</td>\n",
       "      <td>4314.558220</td>\n",
       "      <td>46.995287</td>\n",
       "      <td>34.516971</td>\n",
       "      <td>19.842900</td>\n",
       "      <td>407.384850</td>\n",
       "      <td>3.843680</td>\n",
       "      <td>28.408700</td>\n",
       "      <td>23.475890</td>\n",
       "      <td>0.0</td>\n",
       "      <td>0.616697</td>\n",
       "      <td>48.115810</td>\n",
       "      <td>14.992172</td>\n",
       "      <td>0.544585</td>\n",
       "      <td>4943.295762</td>\n",
       "    </tr>\n",
       "  </tbody>\n",
       "</table>\n",
       "</div>"
      ],
      "text/plain": [
       "    year  Consumo Industrial - Anchoveta  \\\n",
       "14  2019                     3381.437222   \n",
       "15  2020                     4314.558220   \n",
       "\n",
       "    Consumo Humano - Congelado - Concha de abanico  \\\n",
       "14                                       53.112863   \n",
       "15                                       46.995287   \n",
       "\n",
       "    Consumo Humano - Congelado - Langostino  \\\n",
       "14                                42.857637   \n",
       "15                                34.516971   \n",
       "\n",
       "    Consumo Humano - Congelado - Merluza  \\\n",
       "14                             28.979849   \n",
       "15                             19.842900   \n",
       "\n",
       "    Consumo Humano - Congelado - Calamar gigante  \\\n",
       "14                                    483.765239   \n",
       "15                                    407.384850   \n",
       "\n",
       "    Consumo Humano - Conservas - Atún  Consumo Humano - Conservas - Caballa  \\\n",
       "14                          17.839298                             19.598784   \n",
       "15                           3.843680                             28.408700   \n",
       "\n",
       "    Consumo Humano - Conservas - Jurel  Consumo Humano - Conservas - Sardina  \\\n",
       "14                           27.733432                                   0.0   \n",
       "15                           23.475890                                   0.0   \n",
       "\n",
       "    Consumo Humano - Fresco - Concha de abanico  \\\n",
       "14                                     1.226521   \n",
       "15                                     0.616697   \n",
       "\n",
       "    Consumo Humano - Fresco - Jurel  Consumo Humano - Fresco - Liza  \\\n",
       "14                        40.798701                       24.029820   \n",
       "15                        48.115810                       14.992172   \n",
       "\n",
       "    Consumo Humano - Fresco - Tollo  total_production  \n",
       "14                         1.241883       4122.621249  \n",
       "15                         0.544585       4943.295762  "
      ]
     },
     "execution_count": 169,
     "metadata": {},
     "output_type": "execute_result"
    }
   ],
   "source": [
    "sample_data(data = extraction_fish, year_init=2019, year_end=2020)"
   ]
  },
  {
   "cell_type": "markdown",
   "metadata": {},
   "source": [
    "### <a id='#5.2.'>5.2. Class </a> \n",
    "\n",
    "A class is a user-defined blueprint or prototype from which objects are created. Classes provide a means of bundling data and functionality together. Creating a new class creates a new type of object, allowing new instances of that type to be made.\n",
    "\n",
    "<img src=\"../_images\\classes.png\">"
   ]
  },
  {
   "cell_type": "markdown",
   "metadata": {},
   "source": [
    "### <a id='#5.2.1.'>5.2.1. The Importance of Python Classes </a> \n",
    "\n",
    "Classes are a way to organize your code into generic, reusable peices. At their best they are generic blueprints for things that will be used over and over again with little modification. The original concept was inspired by independent biological systems or organism unique from other organisms by the set or collection of features (attributes) and abilities (methods).\n",
    "\n",
    "Functions are great to use when data is central to the work being done. Classes are great when you need to represent a collection of attributes and methods that will be used over and over again in other places.\n",
    "\n",
    "Generally if you find your self writing functions inside of functions you should consider writing a class instead. If you only have one function in a class then stick with just writing a function.\n",
    "\n",
    "\n",
    "\n",
    "- Classes provide an easy way of keeping the data members and methods together in one place which helps in keeping the program more organized.\n",
    "- Using classes also provides another functionality of this object-oriented programming paradigm, that is, inheritance.\n",
    "- Classes also help in overriding any standard operator.\n",
    "- Using classes provides the ability to reuse the code which makes the program more efficient.\n",
    "- Grouping related functions and keeping them in one place (inside a class) provides a clean structure to the code which increases the readability of the program."
   ]
  },
  {
   "cell_type": "markdown",
   "metadata": {},
   "source": [
    "###  <a id='#5.2.2.'> 5.2.2. Defining a class </a> \n",
    "it is considered to be a good practice to include a brief description about the class to increase the readability and understandability of the code."
   ]
  },
  {
   "cell_type": "markdown",
   "metadata": {},
   "source": [
    "<font size=\"4\">\n",
    "<font color='green'>class</font> class_name:<br> <br>\n",
    "&nbsp;&nbsp;&nbsp;&nbsp;    \"\"\"Description\"\"\" <br><br>\n",
    "&nbsp;&nbsp;&nbsp;&nbsp;<font color='red'>def __init__</font><font color  = 'blue'>( <font color='red'>self</font>, parameter1, parameter2 )</font>:<br><br>\n",
    "</font>"
   ]
  },
  {
   "cell_type": "markdown",
   "metadata": {},
   "source": [
    "### <a id='#5.2.3.'> 5.2.3. Attributes </a> \n",
    "A value associated with an object which is referenced by name using dotted expressions. For example, `np.size`."
   ]
  },
  {
   "cell_type": "code",
   "execution_count": 181,
   "metadata": {},
   "outputs": [
    {
     "data": {
      "text/plain": [
       "(16, 15)"
      ]
     },
     "execution_count": 181,
     "metadata": {},
     "output_type": "execute_result"
    }
   ],
   "source": [
    "extraction_fish.shape"
   ]
  },
  {
   "cell_type": "code",
   "execution_count": 46,
   "metadata": {},
   "outputs": [
    {
     "data": {
      "text/plain": [
       "array([ 8,  9, 10, 11, 12, 13, 14, 15, 16, 17, 18, 19, 20, 21, 22, 23, 24])"
      ]
     },
     "execution_count": 46,
     "metadata": {},
     "output_type": "execute_result"
    }
   ],
   "source": [
    "import numpy as np \n",
    "\n",
    "A = np.arange( 8, 25 , 1)\n",
    "A"
   ]
  },
  {
   "cell_type": "code",
   "execution_count": 47,
   "metadata": {},
   "outputs": [
    {
     "data": {
      "text/plain": [
       "1"
      ]
     },
     "execution_count": 47,
     "metadata": {},
     "output_type": "execute_result"
    }
   ],
   "source": [
    "A.ndim"
   ]
  },
  {
   "cell_type": "code",
   "execution_count": 48,
   "metadata": {},
   "outputs": [
    {
     "data": {
      "text/plain": [
       "(17,)"
      ]
     },
     "execution_count": 48,
     "metadata": {},
     "output_type": "execute_result"
    }
   ],
   "source": [
    "A.shape"
   ]
  },
  {
   "cell_type": "code",
   "execution_count": 49,
   "metadata": {},
   "outputs": [
    {
     "data": {
      "text/plain": [
       "dtype('int32')"
      ]
     },
     "execution_count": 49,
     "metadata": {},
     "output_type": "execute_result"
    }
   ],
   "source": [
    "A.dtype"
   ]
  },
  {
   "cell_type": "code",
   "execution_count": 50,
   "metadata": {},
   "outputs": [
    {
     "data": {
      "text/plain": [
       "(17,)"
      ]
     },
     "execution_count": 50,
     "metadata": {},
     "output_type": "execute_result"
    }
   ],
   "source": [
    "A.shape"
   ]
  },
  {
   "cell_type": "code",
   "execution_count": 192,
   "metadata": {},
   "outputs": [
    {
     "data": {
      "text/plain": [
       "array([[1, 2, 4],\n",
       "       [5, 6, 7]])"
      ]
     },
     "execution_count": 192,
     "metadata": {},
     "output_type": "execute_result"
    }
   ],
   "source": [
    "matrix = np.array( [ [1, 2, 4], [5, 6, 7]   ] )\n",
    "matrix"
   ]
  },
  {
   "cell_type": "code",
   "execution_count": 193,
   "metadata": {},
   "outputs": [
    {
     "data": {
      "text/plain": [
       "1"
      ]
     },
     "execution_count": 193,
     "metadata": {},
     "output_type": "execute_result"
    }
   ],
   "source": [
    "A.ndim"
   ]
  },
  {
   "cell_type": "code",
   "execution_count": 194,
   "metadata": {},
   "outputs": [
    {
     "data": {
      "text/plain": [
       "2"
      ]
     },
     "execution_count": 194,
     "metadata": {},
     "output_type": "execute_result"
    }
   ],
   "source": [
    "matrix.ndim"
   ]
  },
  {
   "cell_type": "code",
   "execution_count": 195,
   "metadata": {},
   "outputs": [
    {
     "data": {
      "text/plain": [
       "1"
      ]
     },
     "execution_count": 195,
     "metadata": {},
     "output_type": "execute_result"
    }
   ],
   "source": [
    "A.ndim"
   ]
  },
  {
   "cell_type": "code",
   "execution_count": 13,
   "metadata": {},
   "outputs": [
    {
     "data": {
      "text/plain": [
       "1"
      ]
     },
     "execution_count": 13,
     "metadata": {},
     "output_type": "execute_result"
    }
   ],
   "source": [
    "A.ndim"
   ]
  },
  {
   "cell_type": "code",
   "execution_count": 175,
   "metadata": {},
   "outputs": [
    {
     "data": {
      "text/plain": [
       "(9,)"
      ]
     },
     "execution_count": 175,
     "metadata": {},
     "output_type": "execute_result"
    }
   ],
   "source": [
    "A.shape"
   ]
  },
  {
   "cell_type": "code",
   "execution_count": 8,
   "metadata": {},
   "outputs": [
    {
     "data": {
      "text/plain": [
       "dtype('int32')"
      ]
     },
     "execution_count": 8,
     "metadata": {},
     "output_type": "execute_result"
    }
   ],
   "source": [
    "A.dtype"
   ]
  },
  {
   "cell_type": "code",
   "execution_count": 9,
   "metadata": {},
   "outputs": [],
   "source": [
    "#list_1  =  [\"alex\", \"Anzony\", \"Mariela\"]"
   ]
  },
  {
   "cell_type": "code",
   "execution_count": 10,
   "metadata": {},
   "outputs": [],
   "source": [
    "#list_1"
   ]
  },
  {
   "cell_type": "code",
   "execution_count": 11,
   "metadata": {},
   "outputs": [
    {
     "data": {
      "text/plain": [
       "4"
      ]
     },
     "execution_count": 11,
     "metadata": {},
     "output_type": "execute_result"
    }
   ],
   "source": [
    "# this an attribute / size\n",
    "A.itemsize"
   ]
  },
  {
   "cell_type": "code",
   "execution_count": 155,
   "metadata": {},
   "outputs": [
    {
     "data": {
      "text/plain": [
       "(9,)"
      ]
     },
     "execution_count": 155,
     "metadata": {},
     "output_type": "execute_result"
    }
   ],
   "source": [
    "#\n",
    "A.shape"
   ]
  },
  {
   "cell_type": "markdown",
   "metadata": {},
   "source": [
    "### <a id='#5.2.5.'> 5.2.5. Method </a>\n",
    "A function which is defined inside a class body. If called as an attribute of an instance of that class, the method will get the instance object as its first argument (which is usually called self). See function and nested scope."
   ]
  },
  {
   "cell_type": "code",
   "execution_count": 51,
   "metadata": {},
   "outputs": [
    {
     "data": {
      "text/plain": [
       "array([0, 1, 2, 3, 4, 5, 6, 7, 8, 9])"
      ]
     },
     "execution_count": 51,
     "metadata": {},
     "output_type": "execute_result"
    }
   ],
   "source": [
    "A = np.arange( 0, 10 )\n",
    "A"
   ]
  },
  {
   "cell_type": "code",
   "execution_count": 54,
   "metadata": {},
   "outputs": [
    {
     "data": {
      "text/plain": [
       "9"
      ]
     },
     "execution_count": 54,
     "metadata": {},
     "output_type": "execute_result"
    }
   ],
   "source": [
    "A.max()"
   ]
  },
  {
   "cell_type": "code",
   "execution_count": 55,
   "metadata": {},
   "outputs": [
    {
     "data": {
      "text/plain": [
       "0"
      ]
     },
     "execution_count": 55,
     "metadata": {},
     "output_type": "execute_result"
    }
   ],
   "source": [
    "A.min()"
   ]
  },
  {
   "cell_type": "code",
   "execution_count": 56,
   "metadata": {},
   "outputs": [
    {
     "data": {
      "text/plain": [
       "4.5"
      ]
     },
     "execution_count": 56,
     "metadata": {},
     "output_type": "execute_result"
    }
   ],
   "source": [
    "A.mean()"
   ]
  },
  {
   "cell_type": "code",
   "execution_count": 59,
   "metadata": {},
   "outputs": [
    {
     "data": {
      "text/plain": [
       "<method-wrapper '__abs__' of numpy.ndarray object at 0x000002863AD452D0>"
      ]
     },
     "execution_count": 59,
     "metadata": {},
     "output_type": "execute_result"
    }
   ],
   "source": [
    "A.__abs__"
   ]
  },
  {
   "cell_type": "code",
   "execution_count": 57,
   "metadata": {},
   "outputs": [
    {
     "data": {
      "text/plain": [
       "['T',\n",
       " '__abs__',\n",
       " '__add__',\n",
       " '__and__',\n",
       " '__array__',\n",
       " '__array_finalize__',\n",
       " '__array_function__',\n",
       " '__array_interface__',\n",
       " '__array_prepare__',\n",
       " '__array_priority__',\n",
       " '__array_struct__',\n",
       " '__array_ufunc__',\n",
       " '__array_wrap__',\n",
       " '__bool__',\n",
       " '__class__',\n",
       " '__class_getitem__',\n",
       " '__complex__',\n",
       " '__contains__',\n",
       " '__copy__',\n",
       " '__deepcopy__',\n",
       " '__delattr__',\n",
       " '__delitem__',\n",
       " '__dir__',\n",
       " '__divmod__',\n",
       " '__dlpack__',\n",
       " '__dlpack_device__',\n",
       " '__doc__',\n",
       " '__eq__',\n",
       " '__float__',\n",
       " '__floordiv__',\n",
       " '__format__',\n",
       " '__ge__',\n",
       " '__getattribute__',\n",
       " '__getitem__',\n",
       " '__gt__',\n",
       " '__hash__',\n",
       " '__iadd__',\n",
       " '__iand__',\n",
       " '__ifloordiv__',\n",
       " '__ilshift__',\n",
       " '__imatmul__',\n",
       " '__imod__',\n",
       " '__imul__',\n",
       " '__index__',\n",
       " '__init__',\n",
       " '__init_subclass__',\n",
       " '__int__',\n",
       " '__invert__',\n",
       " '__ior__',\n",
       " '__ipow__',\n",
       " '__irshift__',\n",
       " '__isub__',\n",
       " '__iter__',\n",
       " '__itruediv__',\n",
       " '__ixor__',\n",
       " '__le__',\n",
       " '__len__',\n",
       " '__lshift__',\n",
       " '__lt__',\n",
       " '__matmul__',\n",
       " '__mod__',\n",
       " '__mul__',\n",
       " '__ne__',\n",
       " '__neg__',\n",
       " '__new__',\n",
       " '__or__',\n",
       " '__pos__',\n",
       " '__pow__',\n",
       " '__radd__',\n",
       " '__rand__',\n",
       " '__rdivmod__',\n",
       " '__reduce__',\n",
       " '__reduce_ex__',\n",
       " '__repr__',\n",
       " '__rfloordiv__',\n",
       " '__rlshift__',\n",
       " '__rmatmul__',\n",
       " '__rmod__',\n",
       " '__rmul__',\n",
       " '__ror__',\n",
       " '__rpow__',\n",
       " '__rrshift__',\n",
       " '__rshift__',\n",
       " '__rsub__',\n",
       " '__rtruediv__',\n",
       " '__rxor__',\n",
       " '__setattr__',\n",
       " '__setitem__',\n",
       " '__setstate__',\n",
       " '__sizeof__',\n",
       " '__str__',\n",
       " '__sub__',\n",
       " '__subclasshook__',\n",
       " '__truediv__',\n",
       " '__xor__',\n",
       " 'all',\n",
       " 'any',\n",
       " 'argmax',\n",
       " 'argmin',\n",
       " 'argpartition',\n",
       " 'argsort',\n",
       " 'astype',\n",
       " 'base',\n",
       " 'byteswap',\n",
       " 'choose',\n",
       " 'clip',\n",
       " 'compress',\n",
       " 'conj',\n",
       " 'conjugate',\n",
       " 'copy',\n",
       " 'ctypes',\n",
       " 'cumprod',\n",
       " 'cumsum',\n",
       " 'data',\n",
       " 'diagonal',\n",
       " 'dot',\n",
       " 'dtype',\n",
       " 'dump',\n",
       " 'dumps',\n",
       " 'fill',\n",
       " 'flags',\n",
       " 'flat',\n",
       " 'flatten',\n",
       " 'getfield',\n",
       " 'imag',\n",
       " 'item',\n",
       " 'itemset',\n",
       " 'itemsize',\n",
       " 'max',\n",
       " 'mean',\n",
       " 'min',\n",
       " 'nbytes',\n",
       " 'ndim',\n",
       " 'newbyteorder',\n",
       " 'nonzero',\n",
       " 'partition',\n",
       " 'prod',\n",
       " 'ptp',\n",
       " 'put',\n",
       " 'ravel',\n",
       " 'real',\n",
       " 'repeat',\n",
       " 'reshape',\n",
       " 'resize',\n",
       " 'round',\n",
       " 'searchsorted',\n",
       " 'setfield',\n",
       " 'setflags',\n",
       " 'shape',\n",
       " 'size',\n",
       " 'sort',\n",
       " 'squeeze',\n",
       " 'std',\n",
       " 'strides',\n",
       " 'sum',\n",
       " 'swapaxes',\n",
       " 'take',\n",
       " 'tobytes',\n",
       " 'tofile',\n",
       " 'tolist',\n",
       " 'tostring',\n",
       " 'trace',\n",
       " 'transpose',\n",
       " 'var',\n",
       " 'view']"
      ]
     },
     "execution_count": 57,
     "metadata": {},
     "output_type": "execute_result"
    }
   ],
   "source": [
    "dir(A)"
   ]
  },
  {
   "cell_type": "code",
   "execution_count": null,
   "metadata": {},
   "outputs": [],
   "source": []
  },
  {
   "cell_type": "code",
   "execution_count": 203,
   "metadata": {},
   "outputs": [
    {
     "data": {
      "text/plain": [
       "9"
      ]
     },
     "execution_count": 203,
     "metadata": {},
     "output_type": "execute_result"
    }
   ],
   "source": [
    "A.max()"
   ]
  },
  {
   "cell_type": "code",
   "execution_count": 201,
   "metadata": {},
   "outputs": [
    {
     "data": {
      "text/plain": [
       "0"
      ]
     },
     "execution_count": 201,
     "metadata": {},
     "output_type": "execute_result"
    }
   ],
   "source": [
    "A.min()"
   ]
  },
  {
   "cell_type": "code",
   "execution_count": 19,
   "metadata": {},
   "outputs": [
    {
     "data": {
      "text/plain": [
       "24"
      ]
     },
     "execution_count": 19,
     "metadata": {},
     "output_type": "execute_result"
    }
   ],
   "source": [
    "A.max()"
   ]
  },
  {
   "cell_type": "code",
   "execution_count": 20,
   "metadata": {},
   "outputs": [
    {
     "data": {
      "text/plain": [
       "8"
      ]
     },
     "execution_count": 20,
     "metadata": {},
     "output_type": "execute_result"
    }
   ],
   "source": [
    "A.min()# np.max(A)"
   ]
  },
  {
   "cell_type": "code",
   "execution_count": 21,
   "metadata": {},
   "outputs": [
    {
     "data": {
      "text/plain": [
       "16.0"
      ]
     },
     "execution_count": 21,
     "metadata": {},
     "output_type": "execute_result"
    }
   ],
   "source": [
    "A.mean()"
   ]
  },
  {
   "cell_type": "code",
   "execution_count": 213,
   "metadata": {},
   "outputs": [],
   "source": [
    "B = A "
   ]
  },
  {
   "cell_type": "code",
   "execution_count": 190,
   "metadata": {},
   "outputs": [
    {
     "data": {
      "text/plain": [
       "array([[ 8,  9, 10, 11, 12, 13, 14, 15, 16, 17, 18, 19, 20, 21, 22, 23,\n",
       "        24]])"
      ]
     },
     "execution_count": 190,
     "metadata": {},
     "output_type": "execute_result"
    }
   ],
   "source": [
    "# this a method\n",
    "A.reshape( 1, -1 )"
   ]
  },
  {
   "cell_type": "code",
   "execution_count": 191,
   "metadata": {},
   "outputs": [
    {
     "data": {
      "text/plain": [
       "(17,)"
      ]
     },
     "execution_count": 191,
     "metadata": {},
     "output_type": "execute_result"
    }
   ],
   "source": [
    "A.shape"
   ]
  },
  {
   "cell_type": "code",
   "execution_count": 194,
   "metadata": {},
   "outputs": [
    {
     "data": {
      "text/plain": [
       "(1, 17)"
      ]
     },
     "execution_count": 194,
     "metadata": {},
     "output_type": "execute_result"
    }
   ],
   "source": [
    "A_2 = A.reshape( 1, -1 )\n",
    "A_2.shape"
   ]
  },
  {
   "cell_type": "code",
   "execution_count": 204,
   "metadata": {},
   "outputs": [
    {
     "data": {
      "text/plain": [
       "['T',\n",
       " '__abs__',\n",
       " '__add__',\n",
       " '__and__',\n",
       " '__array__',\n",
       " '__array_finalize__',\n",
       " '__array_function__',\n",
       " '__array_interface__',\n",
       " '__array_prepare__',\n",
       " '__array_priority__',\n",
       " '__array_struct__',\n",
       " '__array_ufunc__',\n",
       " '__array_wrap__',\n",
       " '__bool__',\n",
       " '__class__',\n",
       " '__class_getitem__',\n",
       " '__complex__',\n",
       " '__contains__',\n",
       " '__copy__',\n",
       " '__deepcopy__',\n",
       " '__delattr__',\n",
       " '__delitem__',\n",
       " '__dir__',\n",
       " '__divmod__',\n",
       " '__dlpack__',\n",
       " '__dlpack_device__',\n",
       " '__doc__',\n",
       " '__eq__',\n",
       " '__float__',\n",
       " '__floordiv__',\n",
       " '__format__',\n",
       " '__ge__',\n",
       " '__getattribute__',\n",
       " '__getitem__',\n",
       " '__gt__',\n",
       " '__hash__',\n",
       " '__iadd__',\n",
       " '__iand__',\n",
       " '__ifloordiv__',\n",
       " '__ilshift__',\n",
       " '__imatmul__',\n",
       " '__imod__',\n",
       " '__imul__',\n",
       " '__index__',\n",
       " '__init__',\n",
       " '__init_subclass__',\n",
       " '__int__',\n",
       " '__invert__',\n",
       " '__ior__',\n",
       " '__ipow__',\n",
       " '__irshift__',\n",
       " '__isub__',\n",
       " '__iter__',\n",
       " '__itruediv__',\n",
       " '__ixor__',\n",
       " '__le__',\n",
       " '__len__',\n",
       " '__lshift__',\n",
       " '__lt__',\n",
       " '__matmul__',\n",
       " '__mod__',\n",
       " '__mul__',\n",
       " '__ne__',\n",
       " '__neg__',\n",
       " '__new__',\n",
       " '__or__',\n",
       " '__pos__',\n",
       " '__pow__',\n",
       " '__radd__',\n",
       " '__rand__',\n",
       " '__rdivmod__',\n",
       " '__reduce__',\n",
       " '__reduce_ex__',\n",
       " '__repr__',\n",
       " '__rfloordiv__',\n",
       " '__rlshift__',\n",
       " '__rmatmul__',\n",
       " '__rmod__',\n",
       " '__rmul__',\n",
       " '__ror__',\n",
       " '__rpow__',\n",
       " '__rrshift__',\n",
       " '__rshift__',\n",
       " '__rsub__',\n",
       " '__rtruediv__',\n",
       " '__rxor__',\n",
       " '__setattr__',\n",
       " '__setitem__',\n",
       " '__setstate__',\n",
       " '__sizeof__',\n",
       " '__str__',\n",
       " '__sub__',\n",
       " '__subclasshook__',\n",
       " '__truediv__',\n",
       " '__xor__',\n",
       " 'all',\n",
       " 'any',\n",
       " 'argmax',\n",
       " 'argmin',\n",
       " 'argpartition',\n",
       " 'argsort',\n",
       " 'astype',\n",
       " 'base',\n",
       " 'byteswap',\n",
       " 'choose',\n",
       " 'clip',\n",
       " 'compress',\n",
       " 'conj',\n",
       " 'conjugate',\n",
       " 'copy',\n",
       " 'ctypes',\n",
       " 'cumprod',\n",
       " 'cumsum',\n",
       " 'data',\n",
       " 'diagonal',\n",
       " 'dot',\n",
       " 'dtype',\n",
       " 'dump',\n",
       " 'dumps',\n",
       " 'fill',\n",
       " 'flags',\n",
       " 'flat',\n",
       " 'flatten',\n",
       " 'getfield',\n",
       " 'imag',\n",
       " 'item',\n",
       " 'itemset',\n",
       " 'itemsize',\n",
       " 'max',\n",
       " 'mean',\n",
       " 'min',\n",
       " 'nbytes',\n",
       " 'ndim',\n",
       " 'newbyteorder',\n",
       " 'nonzero',\n",
       " 'partition',\n",
       " 'prod',\n",
       " 'ptp',\n",
       " 'put',\n",
       " 'ravel',\n",
       " 'real',\n",
       " 'repeat',\n",
       " 'reshape',\n",
       " 'resize',\n",
       " 'round',\n",
       " 'searchsorted',\n",
       " 'setfield',\n",
       " 'setflags',\n",
       " 'shape',\n",
       " 'size',\n",
       " 'sort',\n",
       " 'squeeze',\n",
       " 'std',\n",
       " 'strides',\n",
       " 'sum',\n",
       " 'swapaxes',\n",
       " 'take',\n",
       " 'tobytes',\n",
       " 'tofile',\n",
       " 'tolist',\n",
       " 'tostring',\n",
       " 'trace',\n",
       " 'transpose',\n",
       " 'var',\n",
       " 'view']"
      ]
     },
     "execution_count": 204,
     "metadata": {},
     "output_type": "execute_result"
    }
   ],
   "source": [
    "dir(A)"
   ]
  },
  {
   "cell_type": "code",
   "execution_count": 22,
   "metadata": {},
   "outputs": [
    {
     "data": {
      "text/plain": [
       "['T',\n",
       " '__abs__',\n",
       " '__add__',\n",
       " '__and__',\n",
       " '__array__',\n",
       " '__array_finalize__',\n",
       " '__array_function__',\n",
       " '__array_interface__',\n",
       " '__array_prepare__',\n",
       " '__array_priority__',\n",
       " '__array_struct__',\n",
       " '__array_ufunc__',\n",
       " '__array_wrap__',\n",
       " '__bool__',\n",
       " '__class__',\n",
       " '__complex__',\n",
       " '__contains__',\n",
       " '__copy__',\n",
       " '__deepcopy__',\n",
       " '__delattr__',\n",
       " '__delitem__',\n",
       " '__dir__',\n",
       " '__divmod__',\n",
       " '__doc__',\n",
       " '__eq__',\n",
       " '__float__',\n",
       " '__floordiv__',\n",
       " '__format__',\n",
       " '__ge__',\n",
       " '__getattribute__',\n",
       " '__getitem__',\n",
       " '__gt__',\n",
       " '__hash__',\n",
       " '__iadd__',\n",
       " '__iand__',\n",
       " '__ifloordiv__',\n",
       " '__ilshift__',\n",
       " '__imatmul__',\n",
       " '__imod__',\n",
       " '__imul__',\n",
       " '__index__',\n",
       " '__init__',\n",
       " '__init_subclass__',\n",
       " '__int__',\n",
       " '__invert__',\n",
       " '__ior__',\n",
       " '__ipow__',\n",
       " '__irshift__',\n",
       " '__isub__',\n",
       " '__iter__',\n",
       " '__itruediv__',\n",
       " '__ixor__',\n",
       " '__le__',\n",
       " '__len__',\n",
       " '__lshift__',\n",
       " '__lt__',\n",
       " '__matmul__',\n",
       " '__mod__',\n",
       " '__mul__',\n",
       " '__ne__',\n",
       " '__neg__',\n",
       " '__new__',\n",
       " '__or__',\n",
       " '__pos__',\n",
       " '__pow__',\n",
       " '__radd__',\n",
       " '__rand__',\n",
       " '__rdivmod__',\n",
       " '__reduce__',\n",
       " '__reduce_ex__',\n",
       " '__repr__',\n",
       " '__rfloordiv__',\n",
       " '__rlshift__',\n",
       " '__rmatmul__',\n",
       " '__rmod__',\n",
       " '__rmul__',\n",
       " '__ror__',\n",
       " '__rpow__',\n",
       " '__rrshift__',\n",
       " '__rshift__',\n",
       " '__rsub__',\n",
       " '__rtruediv__',\n",
       " '__rxor__',\n",
       " '__setattr__',\n",
       " '__setitem__',\n",
       " '__setstate__',\n",
       " '__sizeof__',\n",
       " '__str__',\n",
       " '__sub__',\n",
       " '__subclasshook__',\n",
       " '__truediv__',\n",
       " '__xor__',\n",
       " 'all',\n",
       " 'any',\n",
       " 'argmax',\n",
       " 'argmin',\n",
       " 'argpartition',\n",
       " 'argsort',\n",
       " 'astype',\n",
       " 'base',\n",
       " 'byteswap',\n",
       " 'choose',\n",
       " 'clip',\n",
       " 'compress',\n",
       " 'conj',\n",
       " 'conjugate',\n",
       " 'copy',\n",
       " 'ctypes',\n",
       " 'cumprod',\n",
       " 'cumsum',\n",
       " 'data',\n",
       " 'diagonal',\n",
       " 'dot',\n",
       " 'dtype',\n",
       " 'dump',\n",
       " 'dumps',\n",
       " 'fill',\n",
       " 'flags',\n",
       " 'flat',\n",
       " 'flatten',\n",
       " 'getfield',\n",
       " 'imag',\n",
       " 'item',\n",
       " 'itemset',\n",
       " 'itemsize',\n",
       " 'max',\n",
       " 'mean',\n",
       " 'min',\n",
       " 'nbytes',\n",
       " 'ndim',\n",
       " 'newbyteorder',\n",
       " 'nonzero',\n",
       " 'partition',\n",
       " 'prod',\n",
       " 'ptp',\n",
       " 'put',\n",
       " 'ravel',\n",
       " 'real',\n",
       " 'repeat',\n",
       " 'reshape',\n",
       " 'resize',\n",
       " 'round',\n",
       " 'searchsorted',\n",
       " 'setfield',\n",
       " 'setflags',\n",
       " 'shape',\n",
       " 'size',\n",
       " 'sort',\n",
       " 'squeeze',\n",
       " 'std',\n",
       " 'strides',\n",
       " 'sum',\n",
       " 'swapaxes',\n",
       " 'take',\n",
       " 'tobytes',\n",
       " 'tofile',\n",
       " 'tolist',\n",
       " 'tostring',\n",
       " 'trace',\n",
       " 'transpose',\n",
       " 'var',\n",
       " 'view']"
      ]
     },
     "execution_count": 22,
     "metadata": {},
     "output_type": "execute_result"
    }
   ],
   "source": [
    "dir(A)"
   ]
  },
  {
   "cell_type": "code",
   "execution_count": 175,
   "metadata": {},
   "outputs": [
    {
     "data": {
      "text/plain": [
       "['T',\n",
       " '__abs__',\n",
       " '__add__',\n",
       " '__and__',\n",
       " '__array__',\n",
       " '__array_finalize__',\n",
       " '__array_function__',\n",
       " '__array_interface__',\n",
       " '__array_prepare__',\n",
       " '__array_priority__',\n",
       " '__array_struct__',\n",
       " '__array_ufunc__',\n",
       " '__array_wrap__',\n",
       " '__bool__',\n",
       " '__class__',\n",
       " '__complex__',\n",
       " '__contains__',\n",
       " '__copy__',\n",
       " '__deepcopy__',\n",
       " '__delattr__',\n",
       " '__delitem__',\n",
       " '__dir__',\n",
       " '__divmod__',\n",
       " '__doc__',\n",
       " '__eq__',\n",
       " '__float__',\n",
       " '__floordiv__',\n",
       " '__format__',\n",
       " '__ge__',\n",
       " '__getattribute__',\n",
       " '__getitem__',\n",
       " '__gt__',\n",
       " '__hash__',\n",
       " '__iadd__',\n",
       " '__iand__',\n",
       " '__ifloordiv__',\n",
       " '__ilshift__',\n",
       " '__imatmul__',\n",
       " '__imod__',\n",
       " '__imul__',\n",
       " '__index__',\n",
       " '__init__',\n",
       " '__init_subclass__',\n",
       " '__int__',\n",
       " '__invert__',\n",
       " '__ior__',\n",
       " '__ipow__',\n",
       " '__irshift__',\n",
       " '__isub__',\n",
       " '__iter__',\n",
       " '__itruediv__',\n",
       " '__ixor__',\n",
       " '__le__',\n",
       " '__len__',\n",
       " '__lshift__',\n",
       " '__lt__',\n",
       " '__matmul__',\n",
       " '__mod__',\n",
       " '__mul__',\n",
       " '__ne__',\n",
       " '__neg__',\n",
       " '__new__',\n",
       " '__or__',\n",
       " '__pos__',\n",
       " '__pow__',\n",
       " '__radd__',\n",
       " '__rand__',\n",
       " '__rdivmod__',\n",
       " '__reduce__',\n",
       " '__reduce_ex__',\n",
       " '__repr__',\n",
       " '__rfloordiv__',\n",
       " '__rlshift__',\n",
       " '__rmatmul__',\n",
       " '__rmod__',\n",
       " '__rmul__',\n",
       " '__ror__',\n",
       " '__rpow__',\n",
       " '__rrshift__',\n",
       " '__rshift__',\n",
       " '__rsub__',\n",
       " '__rtruediv__',\n",
       " '__rxor__',\n",
       " '__setattr__',\n",
       " '__setitem__',\n",
       " '__setstate__',\n",
       " '__sizeof__',\n",
       " '__str__',\n",
       " '__sub__',\n",
       " '__subclasshook__',\n",
       " '__truediv__',\n",
       " '__xor__',\n",
       " 'all',\n",
       " 'any',\n",
       " 'argmax',\n",
       " 'argmin',\n",
       " 'argpartition',\n",
       " 'argsort',\n",
       " 'astype',\n",
       " 'base',\n",
       " 'byteswap',\n",
       " 'choose',\n",
       " 'clip',\n",
       " 'compress',\n",
       " 'conj',\n",
       " 'conjugate',\n",
       " 'copy',\n",
       " 'ctypes',\n",
       " 'cumprod',\n",
       " 'cumsum',\n",
       " 'data',\n",
       " 'diagonal',\n",
       " 'dot',\n",
       " 'dtype',\n",
       " 'dump',\n",
       " 'dumps',\n",
       " 'fill',\n",
       " 'flags',\n",
       " 'flat',\n",
       " 'flatten',\n",
       " 'getfield',\n",
       " 'imag',\n",
       " 'item',\n",
       " 'itemset',\n",
       " 'itemsize',\n",
       " 'max',\n",
       " 'mean',\n",
       " 'min',\n",
       " 'nbytes',\n",
       " 'ndim',\n",
       " 'newbyteorder',\n",
       " 'nonzero',\n",
       " 'partition',\n",
       " 'prod',\n",
       " 'ptp',\n",
       " 'put',\n",
       " 'ravel',\n",
       " 'real',\n",
       " 'repeat',\n",
       " 'reshape',\n",
       " 'resize',\n",
       " 'round',\n",
       " 'searchsorted',\n",
       " 'setfield',\n",
       " 'setflags',\n",
       " 'shape',\n",
       " 'size',\n",
       " 'sort',\n",
       " 'squeeze',\n",
       " 'std',\n",
       " 'strides',\n",
       " 'sum',\n",
       " 'swapaxes',\n",
       " 'take',\n",
       " 'tobytes',\n",
       " 'tofile',\n",
       " 'tolist',\n",
       " 'tostring',\n",
       " 'trace',\n",
       " 'transpose',\n",
       " 'var',\n",
       " 'view']"
      ]
     },
     "execution_count": 175,
     "metadata": {},
     "output_type": "execute_result"
    }
   ],
   "source": [
    "dir(A)"
   ]
  },
  {
   "cell_type": "code",
   "execution_count": 184,
   "metadata": {},
   "outputs": [
    {
     "data": {
      "text/plain": [
       "['T',\n",
       " '__abs__',\n",
       " '__add__',\n",
       " '__and__',\n",
       " '__array__',\n",
       " '__array_finalize__',\n",
       " '__array_function__',\n",
       " '__array_interface__',\n",
       " '__array_prepare__',\n",
       " '__array_priority__',\n",
       " '__array_struct__',\n",
       " '__array_ufunc__',\n",
       " '__array_wrap__',\n",
       " '__bool__',\n",
       " '__class__',\n",
       " '__complex__',\n",
       " '__contains__',\n",
       " '__copy__',\n",
       " '__deepcopy__',\n",
       " '__delattr__',\n",
       " '__delitem__',\n",
       " '__dir__',\n",
       " '__divmod__',\n",
       " '__doc__',\n",
       " '__eq__',\n",
       " '__float__',\n",
       " '__floordiv__',\n",
       " '__format__',\n",
       " '__ge__',\n",
       " '__getattribute__',\n",
       " '__getitem__',\n",
       " '__gt__',\n",
       " '__hash__',\n",
       " '__iadd__',\n",
       " '__iand__',\n",
       " '__ifloordiv__',\n",
       " '__ilshift__',\n",
       " '__imatmul__',\n",
       " '__imod__',\n",
       " '__imul__',\n",
       " '__index__',\n",
       " '__init__',\n",
       " '__init_subclass__',\n",
       " '__int__',\n",
       " '__invert__',\n",
       " '__ior__',\n",
       " '__ipow__',\n",
       " '__irshift__',\n",
       " '__isub__',\n",
       " '__iter__',\n",
       " '__itruediv__',\n",
       " '__ixor__',\n",
       " '__le__',\n",
       " '__len__',\n",
       " '__lshift__',\n",
       " '__lt__',\n",
       " '__matmul__',\n",
       " '__mod__',\n",
       " '__mul__',\n",
       " '__ne__',\n",
       " '__neg__',\n",
       " '__new__',\n",
       " '__or__',\n",
       " '__pos__',\n",
       " '__pow__',\n",
       " '__radd__',\n",
       " '__rand__',\n",
       " '__rdivmod__',\n",
       " '__reduce__',\n",
       " '__reduce_ex__',\n",
       " '__repr__',\n",
       " '__rfloordiv__',\n",
       " '__rlshift__',\n",
       " '__rmatmul__',\n",
       " '__rmod__',\n",
       " '__rmul__',\n",
       " '__ror__',\n",
       " '__rpow__',\n",
       " '__rrshift__',\n",
       " '__rshift__',\n",
       " '__rsub__',\n",
       " '__rtruediv__',\n",
       " '__rxor__',\n",
       " '__setattr__',\n",
       " '__setitem__',\n",
       " '__setstate__',\n",
       " '__sizeof__',\n",
       " '__str__',\n",
       " '__sub__',\n",
       " '__subclasshook__',\n",
       " '__truediv__',\n",
       " '__xor__',\n",
       " 'all',\n",
       " 'any',\n",
       " 'argmax',\n",
       " 'argmin',\n",
       " 'argpartition',\n",
       " 'argsort',\n",
       " 'astype',\n",
       " 'base',\n",
       " 'byteswap',\n",
       " 'choose',\n",
       " 'clip',\n",
       " 'compress',\n",
       " 'conj',\n",
       " 'conjugate',\n",
       " 'copy',\n",
       " 'ctypes',\n",
       " 'cumprod',\n",
       " 'cumsum',\n",
       " 'data',\n",
       " 'diagonal',\n",
       " 'dot',\n",
       " 'dtype',\n",
       " 'dump',\n",
       " 'dumps',\n",
       " 'fill',\n",
       " 'flags',\n",
       " 'flat',\n",
       " 'flatten',\n",
       " 'getfield',\n",
       " 'imag',\n",
       " 'item',\n",
       " 'itemset',\n",
       " 'itemsize',\n",
       " 'max',\n",
       " 'mean',\n",
       " 'min',\n",
       " 'nbytes',\n",
       " 'ndim',\n",
       " 'newbyteorder',\n",
       " 'nonzero',\n",
       " 'partition',\n",
       " 'prod',\n",
       " 'ptp',\n",
       " 'put',\n",
       " 'ravel',\n",
       " 'real',\n",
       " 'repeat',\n",
       " 'reshape',\n",
       " 'resize',\n",
       " 'round',\n",
       " 'searchsorted',\n",
       " 'setfield',\n",
       " 'setflags',\n",
       " 'shape',\n",
       " 'size',\n",
       " 'sort',\n",
       " 'squeeze',\n",
       " 'std',\n",
       " 'strides',\n",
       " 'sum',\n",
       " 'swapaxes',\n",
       " 'take',\n",
       " 'tobytes',\n",
       " 'tofile',\n",
       " 'tolist',\n",
       " 'tostring',\n",
       " 'trace',\n",
       " 'transpose',\n",
       " 'var',\n",
       " 'view']"
      ]
     },
     "execution_count": 184,
     "metadata": {},
     "output_type": "execute_result"
    }
   ],
   "source": [
    "dir(A)"
   ]
  },
  {
   "cell_type": "code",
   "execution_count": 118,
   "metadata": {},
   "outputs": [
    {
     "data": {
      "text/plain": [
       "8"
      ]
     },
     "execution_count": 118,
     "metadata": {},
     "output_type": "execute_result"
    }
   ],
   "source": [
    "A.min()"
   ]
  },
  {
   "cell_type": "markdown",
   "metadata": {},
   "source": [
    "|Name| Definition|\n",
    "|---|---|\n",
    "|attribute|A variable stored in an instance or class.|\n",
    "|method|A function stored in an instance or class.|"
   ]
  },
  {
   "cell_type": "markdown",
   "metadata": {},
   "source": [
    "###  <a id='#5.2.6.'> 5.2.6. \\_\\_init\\_\\_() </a>\n",
    "\n",
    "In python classes, “__init__” method is reserved. It is automatically called when you create an object using a class and is used to initialize the variables of the class. It is equivalent to a constructor.\n",
    "\n",
    "- Like any other method, init method starts with the keyword **“def”**\n",
    "- **“self”** is the first parameter in this method just like any other method although in case of init, **“self”** refers to a newly created object unlike other methods where it refers to the current object or instance associated with that particular method.\n",
    "- Additional parameters can be added"
   ]
  },
  {
   "cell_type": "markdown",
   "metadata": {},
   "source": [
    "### <a id='#5.2.7.'> 5.2.7. Self</a>\n",
    "self represents the instance of the class. By using the **“self”** keyword we build attributes and methods for the class in python. It binds the attributes with the given arguments."
   ]
  },
  {
   "cell_type": "markdown",
   "metadata": {},
   "source": [
    "In the example, **MyFirstClass** I use self to define attributes and methods. "
   ]
  },
  {
   "cell_type": "code",
   "execution_count": 50,
   "metadata": {},
   "outputs": [],
   "source": [
    "def print_name(name):\n",
    "    print(name)"
   ]
  },
  {
   "cell_type": "code",
   "execution_count": 51,
   "metadata": {},
   "outputs": [
    {
     "name": "stdout",
     "output_type": "stream",
     "text": [
      "Alexander\n"
     ]
    }
   ],
   "source": [
    "print_name(name = \"Alexander\")"
   ]
  },
  {
   "cell_type": "code",
   "execution_count": 74,
   "metadata": {},
   "outputs": [],
   "source": [
    "class medialab_students_2025:\n",
    "    def __init__(self, name, age, school):\n",
    "        \n",
    "        self.name_student = name\n",
    "        self.age_student = age\n",
    "        self.name_school = school\n",
    "    \n",
    "    def age_sq(self):\n",
    "        result = self.age_student**2\n",
    "        return result\n",
    "    \n",
    "    def std_school(self):\n",
    "        print(self.name_student, \"studied in,\", self.name_school)"
   ]
  },
  {
   "cell_type": "code",
   "execution_count": 75,
   "metadata": {},
   "outputs": [],
   "source": [
    "fem =  medialab_students_2025(name=\"Fabiana Elias\", age=21, school=\"La Saye\")"
   ]
  },
  {
   "cell_type": "code",
   "execution_count": 76,
   "metadata": {},
   "outputs": [
    {
     "data": {
      "text/plain": [
       "441"
      ]
     },
     "execution_count": 76,
     "metadata": {},
     "output_type": "execute_result"
    }
   ],
   "source": [
    "fem.age_sq()"
   ]
  },
  {
   "cell_type": "code",
   "execution_count": 77,
   "metadata": {},
   "outputs": [
    {
     "name": "stdout",
     "output_type": "stream",
     "text": [
      "Fabiana Elias studied in, La Saye\n"
     ]
    }
   ],
   "source": [
    "fem.std_school()"
   ]
  },
  {
   "cell_type": "code",
   "execution_count": 64,
   "metadata": {},
   "outputs": [
    {
     "data": {
      "text/plain": [
       "'Fabiana Elias'"
      ]
     },
     "execution_count": 64,
     "metadata": {},
     "output_type": "execute_result"
    }
   ],
   "source": [
    "fem.name_student"
   ]
  },
  {
   "cell_type": "code",
   "execution_count": 65,
   "metadata": {},
   "outputs": [
    {
     "data": {
      "text/plain": [
       "21"
      ]
     },
     "execution_count": 65,
     "metadata": {},
     "output_type": "execute_result"
    }
   ],
   "source": [
    "fem.age_student"
   ]
  },
  {
   "cell_type": "code",
   "execution_count": 67,
   "metadata": {},
   "outputs": [
    {
     "data": {
      "text/plain": [
       "'La Saye'"
      ]
     },
     "execution_count": 67,
     "metadata": {},
     "output_type": "execute_result"
    }
   ],
   "source": [
    "fem.name_school"
   ]
  },
  {
   "cell_type": "code",
   "execution_count": 217,
   "metadata": {},
   "outputs": [],
   "source": [
    "class medialab_students:\n",
    "    \n",
    "    def __init__(self, name, age, school ):\n",
    "        \n",
    "        self.name_student = name\n",
    "        self.age_student = age\n",
    "        self.name_school = school\n",
    "        \n",
    "    def print_name(self):\n",
    "        print( f'I am {self.name_student}.' )\n",
    "        \n",
    "    def print_age(self):\n",
    "        print( f'I am  { self.age_student } years old' )\n"
   ]
  },
  {
   "cell_type": "code",
   "execution_count": 218,
   "metadata": {},
   "outputs": [],
   "source": [
    "student1 =  medialab_students(name=\"Emily Pinares\", age= 25, school = \"Rosa de Santa Maria\")"
   ]
  },
  {
   "cell_type": "code",
   "execution_count": 219,
   "metadata": {},
   "outputs": [
    {
     "data": {
      "text/plain": [
       "'Rosa de Santa Maria'"
      ]
     },
     "execution_count": 219,
     "metadata": {},
     "output_type": "execute_result"
    }
   ],
   "source": [
    "student1.name_school"
   ]
  },
  {
   "cell_type": "code",
   "execution_count": 213,
   "metadata": {},
   "outputs": [
    {
     "data": {
      "text/plain": [
       "'Emily Pinares'"
      ]
     },
     "execution_count": 213,
     "metadata": {},
     "output_type": "execute_result"
    }
   ],
   "source": [
    "student1.name_student"
   ]
  },
  {
   "cell_type": "code",
   "execution_count": 209,
   "metadata": {},
   "outputs": [
    {
     "data": {
      "text/plain": [
       "25"
      ]
     },
     "execution_count": 209,
     "metadata": {},
     "output_type": "execute_result"
    }
   ],
   "source": [
    "student1.age_student"
   ]
  },
  {
   "cell_type": "code",
   "execution_count": 210,
   "metadata": {},
   "outputs": [
    {
     "name": "stdout",
     "output_type": "stream",
     "text": [
      "I am Emily Pinares.\n"
     ]
    }
   ],
   "source": [
    "student1.print_name()"
   ]
  },
  {
   "cell_type": "code",
   "execution_count": 211,
   "metadata": {},
   "outputs": [
    {
     "name": "stdout",
     "output_type": "stream",
     "text": [
      "I am  25 years old\n"
     ]
    }
   ],
   "source": [
    "student1.print_age()"
   ]
  },
  {
   "cell_type": "code",
   "execution_count": 45,
   "metadata": {},
   "outputs": [],
   "source": [
    "class qlab_students:\n",
    "    \n",
    "    def __init__(self, name, age):\n",
    "        self.name_student = name\n",
    "        self.age_student = age\n",
    "\n",
    "    def print_name( self ):\n",
    "        print( f'I am { self.name_student }.' )\n",
    "        \n",
    "    def print_age( self ):\n",
    "        print( f'I am  { self.age_student } years old' ) "
   ]
  },
  {
   "cell_type": "code",
   "execution_count": 52,
   "metadata": {},
   "outputs": [],
   "source": [
    "student1 = qlab_students( name=\"Maria Alejandra Colan\", age=\"20\"  )"
   ]
  },
  {
   "cell_type": "code",
   "execution_count": 53,
   "metadata": {},
   "outputs": [
    {
     "data": {
      "text/plain": [
       "__main__.qlab_students"
      ]
     },
     "execution_count": 53,
     "metadata": {},
     "output_type": "execute_result"
    }
   ],
   "source": [
    "type(student1)"
   ]
  },
  {
   "cell_type": "code",
   "execution_count": 54,
   "metadata": {},
   "outputs": [
    {
     "name": "stdout",
     "output_type": "stream",
     "text": [
      "I am  20 years old\n"
     ]
    }
   ],
   "source": [
    "student1.print_age()"
   ]
  },
  {
   "cell_type": "code",
   "execution_count": null,
   "metadata": {},
   "outputs": [],
   "source": []
  },
  {
   "cell_type": "code",
   "execution_count": 48,
   "metadata": {},
   "outputs": [
    {
     "name": "stdout",
     "output_type": "stream",
     "text": [
      "I am Maria Alejandra Colan.\n"
     ]
    }
   ],
   "source": [
    "# Call methods\n",
    "student1.print_name()"
   ]
  },
  {
   "cell_type": "code",
   "execution_count": null,
   "metadata": {},
   "outputs": [],
   "source": []
  },
  {
   "cell_type": "code",
   "execution_count": 105,
   "metadata": {},
   "outputs": [],
   "source": [
    "def calculator(x, y):\n",
    "    mult = x*y\n",
    "    return(mult)"
   ]
  },
  {
   "cell_type": "code",
   "execution_count": 106,
   "metadata": {},
   "outputs": [
    {
     "data": {
      "text/plain": [
       "150"
      ]
     },
     "execution_count": 106,
     "metadata": {},
     "output_type": "execute_result"
    }
   ],
   "source": [
    "calculator(10, 15)"
   ]
  },
  {
   "cell_type": "code",
   "execution_count": 107,
   "metadata": {},
   "outputs": [
    {
     "ename": "NameError",
     "evalue": "name 'mult' is not defined",
     "output_type": "error",
     "traceback": [
      "\u001b[1;31m---------------------------------------------------------------------------\u001b[0m",
      "\u001b[1;31mNameError\u001b[0m                                 Traceback (most recent call last)",
      "\u001b[1;32mC:\\Users\\ALEXAN~1\\AppData\\Local\\Temp/ipykernel_25944/1686954695.py\u001b[0m in \u001b[0;36m<module>\u001b[1;34m\u001b[0m\n\u001b[1;32m----> 1\u001b[1;33m \u001b[0mmult\u001b[0m\u001b[1;33m\u001b[0m\u001b[1;33m\u001b[0m\u001b[0m\n\u001b[0m",
      "\u001b[1;31mNameError\u001b[0m: name 'mult' is not defined"
     ]
    }
   ],
   "source": [
    "mult\n"
   ]
  },
  {
   "cell_type": "code",
   "execution_count": 104,
   "metadata": {},
   "outputs": [],
   "source": [
    "list_students = [\"Daniela\", \"Angie\", \"Esteban\", \"Alexandro\", \"Alex\"]"
   ]
  },
  {
   "cell_type": "code",
   "execution_count": null,
   "metadata": {},
   "outputs": [],
   "source": []
  },
  {
   "cell_type": "code",
   "execution_count": 110,
   "metadata": {},
   "outputs": [],
   "source": [
    "# Requested by Brisa\n",
    "class qlab_students_2:\n",
    "    \n",
    "    def __init__(self, list_st, ages, schools):\n",
    "        self.name_student = list_st\n",
    "        self.age_student = ages\n",
    "        self.list_school = schools\n",
    "            \n",
    "    def first_st_list(self):\n",
    "        print(f'the first in list is {self.name_student[0]}.')\n",
    "        \n",
    "    def first_st_list_alpha(self):\n",
    "        list_sorted = sorted(self.name_student)\n",
    "        print(f'the first in the list by alpha order {list_sorted[0]}. ')\n",
    "    \n",
    "    def print_name( self ):\n",
    "        print( f'The list of students is { self.name_student }.' )\n",
    "        \n",
    "    def print_age( self ):\n",
    "        print( f'The range of ages is { self.age_student } years old' ) \n",
    "    \n",
    "    def print_schools( self ):\n",
    "         print( f'The list of schools is  { self.list_school } ' ) "
   ]
  },
  {
   "cell_type": "code",
   "execution_count": 109,
   "metadata": {},
   "outputs": [
    {
     "data": {
      "text/plain": [
       "['__class__',\n",
       " '__delattr__',\n",
       " '__dict__',\n",
       " '__dir__',\n",
       " '__doc__',\n",
       " '__eq__',\n",
       " '__format__',\n",
       " '__ge__',\n",
       " '__getattribute__',\n",
       " '__gt__',\n",
       " '__hash__',\n",
       " '__init__',\n",
       " '__init_subclass__',\n",
       " '__le__',\n",
       " '__lt__',\n",
       " '__module__',\n",
       " '__ne__',\n",
       " '__new__',\n",
       " '__reduce__',\n",
       " '__reduce_ex__',\n",
       " '__repr__',\n",
       " '__setattr__',\n",
       " '__sizeof__',\n",
       " '__str__',\n",
       " '__subclasshook__',\n",
       " '__weakref__',\n",
       " 'first_st_list',\n",
       " 'first_st_list_alpha',\n",
       " 'print_age',\n",
       " 'print_name',\n",
       " 'print_schools']"
      ]
     },
     "execution_count": 109,
     "metadata": {},
     "output_type": "execute_result"
    }
   ],
   "source": [
    "dir(qlab_students_2)"
   ]
  },
  {
   "cell_type": "code",
   "execution_count": 100,
   "metadata": {},
   "outputs": [
    {
     "data": {
      "text/plain": [
       "['Alex', 'Alexandro', 'Angie', 'Daniela', 'Esteban']"
      ]
     },
     "execution_count": 100,
     "metadata": {},
     "output_type": "execute_result"
    }
   ],
   "source": [
    "sorted(list_students)"
   ]
  },
  {
   "cell_type": "code",
   "execution_count": 101,
   "metadata": {},
   "outputs": [],
   "source": [
    "list_students = [\"Daniela\", \"Angie\", \"Esteban\", \"Alexandro\", \"Alex\"]\n",
    "list_ages = [20, 19, 18, 20]\n",
    "list_schools = [\"Claretiano\", \"San Columbano\", \"2045\", \"Colegio Mayor\" ]"
   ]
  },
  {
   "cell_type": "code",
   "execution_count": 111,
   "metadata": {},
   "outputs": [],
   "source": [
    "summer_students =  qlab_students_2( list_st = list_students, ages= list_ages, schools=list_schools)"
   ]
  },
  {
   "cell_type": "code",
   "execution_count": 112,
   "metadata": {},
   "outputs": [
    {
     "data": {
      "text/plain": [
       "['Daniela', 'Angie', 'Esteban', 'Alexandro', 'Alex']"
      ]
     },
     "execution_count": 112,
     "metadata": {},
     "output_type": "execute_result"
    }
   ],
   "source": [
    "# Atribute 1 \n",
    "summer_students.name_student"
   ]
  },
  {
   "cell_type": "code",
   "execution_count": 115,
   "metadata": {},
   "outputs": [
    {
     "data": {
      "text/plain": [
       "[20, 19, 18, 20]"
      ]
     },
     "execution_count": 115,
     "metadata": {},
     "output_type": "execute_result"
    }
   ],
   "source": [
    "# Atribute 2 \n",
    "summer_students.age_student"
   ]
  },
  {
   "cell_type": "code",
   "execution_count": 116,
   "metadata": {},
   "outputs": [
    {
     "data": {
      "text/plain": [
       "['__class__',\n",
       " '__delattr__',\n",
       " '__dict__',\n",
       " '__dir__',\n",
       " '__doc__',\n",
       " '__eq__',\n",
       " '__format__',\n",
       " '__ge__',\n",
       " '__getattribute__',\n",
       " '__gt__',\n",
       " '__hash__',\n",
       " '__init__',\n",
       " '__init_subclass__',\n",
       " '__le__',\n",
       " '__lt__',\n",
       " '__module__',\n",
       " '__ne__',\n",
       " '__new__',\n",
       " '__reduce__',\n",
       " '__reduce_ex__',\n",
       " '__repr__',\n",
       " '__setattr__',\n",
       " '__sizeof__',\n",
       " '__str__',\n",
       " '__subclasshook__',\n",
       " '__weakref__',\n",
       " 'age_student',\n",
       " 'first_st_list',\n",
       " 'first_st_list_alpha',\n",
       " 'list_school',\n",
       " 'name_student',\n",
       " 'print_age',\n",
       " 'print_name',\n",
       " 'print_schools']"
      ]
     },
     "execution_count": 116,
     "metadata": {},
     "output_type": "execute_result"
    }
   ],
   "source": [
    "dir(summer_students)"
   ]
  },
  {
   "cell_type": "code",
   "execution_count": 103,
   "metadata": {},
   "outputs": [
    {
     "name": "stdout",
     "output_type": "stream",
     "text": [
      "The list of schools is  ['Claretiano', 'San Columbano', '2045', 'Colegio Mayor'] \n"
     ]
    }
   ],
   "source": [
    "summer_students.print_schools()"
   ]
  },
  {
   "cell_type": "code",
   "execution_count": 96,
   "metadata": {},
   "outputs": [
    {
     "name": "stdout",
     "output_type": "stream",
     "text": [
      "the first in the list by alpha order Alex. \n"
     ]
    }
   ],
   "source": [
    "summer_students.first_st_list_alpha()"
   ]
  },
  {
   "cell_type": "code",
   "execution_count": 88,
   "metadata": {},
   "outputs": [
    {
     "name": "stdout",
     "output_type": "stream",
     "text": [
      "The list of students is ['Daniela', 'Angie', 'Esteban', 'Alexandro'].\n"
     ]
    }
   ],
   "source": [
    "summer_students.print_name()"
   ]
  },
  {
   "cell_type": "code",
   "execution_count": 74,
   "metadata": {},
   "outputs": [
    {
     "name": "stdout",
     "output_type": "stream",
     "text": [
      "the first in list is Daniela.\n"
     ]
    }
   ],
   "source": [
    "summer_students.first_st_list()"
   ]
  },
  {
   "cell_type": "code",
   "execution_count": null,
   "metadata": {},
   "outputs": [],
   "source": []
  },
  {
   "cell_type": "code",
   "execution_count": 44,
   "metadata": {},
   "outputs": [
    {
     "name": "stdout",
     "output_type": "stream",
     "text": [
      "I am  20 years old\n"
     ]
    }
   ],
   "source": [
    "student1.print_age()"
   ]
  },
  {
   "cell_type": "code",
   "execution_count": 131,
   "metadata": {},
   "outputs": [],
   "source": [
    "class MyFirstClass:\n",
    "    \n",
    "    def __init__(self, name, age):\n",
    "        self.name = name\n",
    "        self.age = age\n",
    "\n",
    "    def print_name_1( self ):\n",
    "        print( f'I am { self.name }.' )\n",
    "        \n",
    "    def print_age_1( self ):\n",
    "        print( f'I am  { self.age } years old' ) "
   ]
  },
  {
   "cell_type": "code",
   "execution_count": 132,
   "metadata": {},
   "outputs": [],
   "source": [
    "#MyFirstClass( name = \"Dorkas\", age = 25)"
   ]
  },
  {
   "cell_type": "code",
   "execution_count": 140,
   "metadata": {},
   "outputs": [
    {
     "name": "stdout",
     "output_type": "stream",
     "text": [
      "I am Miguel.\n",
      "I am  24 years old\n"
     ]
    }
   ],
   "source": [
    "student1 = MyFirstClass( name = \"Miguel\", age = 24)\n",
    "student1.print_name_1()\n",
    "student1.print_age_1()"
   ]
  },
  {
   "cell_type": "code",
   "execution_count": null,
   "metadata": {},
   "outputs": [],
   "source": []
  },
  {
   "cell_type": "code",
   "execution_count": null,
   "metadata": {},
   "outputs": [],
   "source": [
    "student_0 = MyFirstClass( name = \"Jose\" , age = 22, school = \"Saco Oliveros\" )"
   ]
  },
  {
   "cell_type": "code",
   "execution_count": 35,
   "metadata": {},
   "outputs": [],
   "source": [
    "class MyFirstClass:\n",
    "    \n",
    "    def __init__( self, name, age ):\n",
    "        self.name = name\n",
    "        self.age = age\n",
    "    \n",
    "    # best way to define a method\n",
    "    def print_name_1( self ):\n",
    "        print( f'I am { self.name }.' )\n",
    "    \n",
    "    # wrong way to define a method \n",
    "    def print_name_2():\n",
    "        print( f'This is my { name }.' )\n",
    "    \n",
    "    \n",
    "    # the worst way to call a parameter\n",
    "    # we need to define them as attributes\n",
    "    def print_name_3( self ):\n",
    "        print( f'This is my { name }.' )\n",
    "    \n"
   ]
  },
  {
   "cell_type": "code",
   "execution_count": 155,
   "metadata": {},
   "outputs": [],
   "source": [
    "class MyFirstClass:\n",
    "    \n",
    "    def __init__( self, name, age, school ):\n",
    "        self.name = name\n",
    "        self.age = age\n",
    "        self.school = school\n",
    "    \n",
    "    # how to define a method\n",
    "    def print_name_1( self ):\n",
    "        print( f'I am { self.name }.' )\n",
    "    \n",
    "    # other method\n",
    "    def person_age( self ):\n",
    "        print( f' I am { self.name } , I am { self.age } old. ' )\n",
    "    \n",
    "    # method\n",
    "    def person_school( self ):\n",
    "        print( f' I am {self.name} , I studied at {self.school}. ' )\n",
    "      \n",
    "    # # wrong way to define a method \n",
    "    def print_name_2():\n",
    "        print( f'This is my { name }.' )\n",
    "    \n",
    "    # the worst way to call a parameter\n",
    "    # we need to define them as attributes\n",
    "    # def print_name_3( self ):\n",
    "    #     print( f'This is my { name }.' )\n",
    "    "
   ]
  },
  {
   "cell_type": "code",
   "execution_count": null,
   "metadata": {},
   "outputs": [],
   "source": []
  },
  {
   "cell_type": "code",
   "execution_count": 156,
   "metadata": {},
   "outputs": [],
   "source": [
    "student2 = MyFirstClass( name = \"Jose\" , age = 31, school = \"Agustiniano\" )"
   ]
  },
  {
   "cell_type": "code",
   "execution_count": 157,
   "metadata": {},
   "outputs": [
    {
     "data": {
      "text/plain": [
       "['__class__',\n",
       " '__delattr__',\n",
       " '__dict__',\n",
       " '__dir__',\n",
       " '__doc__',\n",
       " '__eq__',\n",
       " '__format__',\n",
       " '__ge__',\n",
       " '__getattribute__',\n",
       " '__gt__',\n",
       " '__hash__',\n",
       " '__init__',\n",
       " '__init_subclass__',\n",
       " '__le__',\n",
       " '__lt__',\n",
       " '__module__',\n",
       " '__ne__',\n",
       " '__new__',\n",
       " '__reduce__',\n",
       " '__reduce_ex__',\n",
       " '__repr__',\n",
       " '__setattr__',\n",
       " '__sizeof__',\n",
       " '__str__',\n",
       " '__subclasshook__',\n",
       " '__weakref__',\n",
       " 'age',\n",
       " 'name',\n",
       " 'person_age',\n",
       " 'person_school',\n",
       " 'print_name_1',\n",
       " 'print_name_2',\n",
       " 'school']"
      ]
     },
     "execution_count": 157,
     "metadata": {},
     "output_type": "execute_result"
    }
   ],
   "source": [
    "dir(student2)"
   ]
  },
  {
   "cell_type": "code",
   "execution_count": null,
   "metadata": {},
   "outputs": [],
   "source": []
  },
  {
   "cell_type": "code",
   "execution_count": null,
   "metadata": {},
   "outputs": [],
   "source": []
  },
  {
   "cell_type": "code",
   "execution_count": 153,
   "metadata": {},
   "outputs": [
    {
     "name": "stdout",
     "output_type": "stream",
     "text": [
      " I am Jose , I studied at Agustiniano. \n"
     ]
    }
   ],
   "source": [
    "student2.person_school()"
   ]
  },
  {
   "cell_type": "code",
   "execution_count": 154,
   "metadata": {},
   "outputs": [
    {
     "ename": "TypeError",
     "evalue": "print_name_2() takes 0 positional arguments but 1 was given",
     "output_type": "error",
     "traceback": [
      "\u001b[1;31m---------------------------------------------------------------------------\u001b[0m",
      "\u001b[1;31mTypeError\u001b[0m                                 Traceback (most recent call last)",
      "\u001b[1;32mC:\\Users\\ALEXAN~1\\AppData\\Local\\Temp/ipykernel_39524/2593113614.py\u001b[0m in \u001b[0;36m<module>\u001b[1;34m\u001b[0m\n\u001b[1;32m----> 1\u001b[1;33m \u001b[0mstudent2\u001b[0m\u001b[1;33m.\u001b[0m\u001b[0mprint_name_2\u001b[0m\u001b[1;33m(\u001b[0m\u001b[1;33m)\u001b[0m\u001b[1;33m\u001b[0m\u001b[1;33m\u001b[0m\u001b[0m\n\u001b[0m",
      "\u001b[1;31mTypeError\u001b[0m: print_name_2() takes 0 positional arguments but 1 was given"
     ]
    }
   ],
   "source": [
    "student2.print_name_2()"
   ]
  },
  {
   "cell_type": "code",
   "execution_count": 237,
   "metadata": {},
   "outputs": [],
   "source": [
    "student_0 = MyFirstClass( name = \"Jose\" , age = 22, school = \"Saco Oliveros\" )"
   ]
  },
  {
   "cell_type": "code",
   "execution_count": 234,
   "metadata": {},
   "outputs": [
    {
     "name": "stdout",
     "output_type": "stream",
     "text": [
      " I am Jose , I study at Saco Oliveros. \n"
     ]
    }
   ],
   "source": [
    "student_0.person_school()"
   ]
  },
  {
   "cell_type": "code",
   "execution_count": 238,
   "metadata": {},
   "outputs": [
    {
     "ename": "NameError",
     "evalue": "name 'name' is not defined",
     "output_type": "error",
     "traceback": [
      "\u001b[1;31m---------------------------------------------------------------------------\u001b[0m",
      "\u001b[1;31mNameError\u001b[0m                                 Traceback (most recent call last)",
      "\u001b[1;32m<ipython-input-238-3b54dea0ea58>\u001b[0m in \u001b[0;36m<module>\u001b[1;34m\u001b[0m\n\u001b[1;32m----> 1\u001b[1;33m \u001b[0mstudent_0\u001b[0m\u001b[1;33m.\u001b[0m\u001b[0mprint_name_3\u001b[0m\u001b[1;33m(\u001b[0m\u001b[1;33m)\u001b[0m\u001b[1;33m\u001b[0m\u001b[1;33m\u001b[0m\u001b[0m\n\u001b[0m",
      "\u001b[1;32m<ipython-input-236-9e4359ea8732>\u001b[0m in \u001b[0;36mprint_name_3\u001b[1;34m(self)\u001b[0m\n\u001b[0;32m     25\u001b[0m     \u001b[1;31m# we need to define them as attributes\u001b[0m\u001b[1;33m\u001b[0m\u001b[1;33m\u001b[0m\u001b[1;33m\u001b[0m\u001b[0m\n\u001b[0;32m     26\u001b[0m     \u001b[1;32mdef\u001b[0m \u001b[0mprint_name_3\u001b[0m\u001b[1;33m(\u001b[0m \u001b[0mself\u001b[0m \u001b[1;33m)\u001b[0m\u001b[1;33m:\u001b[0m\u001b[1;33m\u001b[0m\u001b[1;33m\u001b[0m\u001b[0m\n\u001b[1;32m---> 27\u001b[1;33m         \u001b[0mprint\u001b[0m\u001b[1;33m(\u001b[0m \u001b[1;34mf'This is my { name }.'\u001b[0m \u001b[1;33m)\u001b[0m\u001b[1;33m\u001b[0m\u001b[1;33m\u001b[0m\u001b[0m\n\u001b[0m\u001b[0;32m     28\u001b[0m \u001b[1;33m\u001b[0m\u001b[0m\n",
      "\u001b[1;31mNameError\u001b[0m: name 'name' is not defined"
     ]
    }
   ],
   "source": [
    "student_0.print_name_3()"
   ]
  },
  {
   "cell_type": "code",
   "execution_count": 224,
   "metadata": {},
   "outputs": [
    {
     "name": "stdout",
     "output_type": "stream",
     "text": [
      "I am Jose.\n"
     ]
    }
   ],
   "source": [
    "student_0.print_name_1()"
   ]
  },
  {
   "cell_type": "markdown",
   "metadata": {},
   "source": [
    "When we create an object using a class, we have an instance of this class."
   ]
  },
  {
   "cell_type": "code",
   "execution_count": 36,
   "metadata": {},
   "outputs": [],
   "source": [
    "student1 = MyFirstClass( name = \"Jose\" , age = 22 )"
   ]
  },
  {
   "cell_type": "markdown",
   "metadata": {},
   "source": [
    "Attributes"
   ]
  },
  {
   "cell_type": "code",
   "execution_count": 26,
   "metadata": {},
   "outputs": [
    {
     "data": {
      "text/plain": [
       "22"
      ]
     },
     "execution_count": 26,
     "metadata": {},
     "output_type": "execute_result"
    }
   ],
   "source": [
    "student1.age"
   ]
  },
  {
   "cell_type": "code",
   "execution_count": 27,
   "metadata": {},
   "outputs": [
    {
     "data": {
      "text/plain": [
       "'Jose'"
      ]
     },
     "execution_count": 27,
     "metadata": {},
     "output_type": "execute_result"
    }
   ],
   "source": [
    "student1.name"
   ]
  },
  {
   "cell_type": "markdown",
   "metadata": {},
   "source": [
    "Methods"
   ]
  },
  {
   "cell_type": "code",
   "execution_count": 28,
   "metadata": {},
   "outputs": [
    {
     "data": {
      "text/plain": [
       "<bound method MyFirstClass.print_name_1 of <__main__.MyFirstClass object at 0x000001C77D5DBE80>>"
      ]
     },
     "execution_count": 28,
     "metadata": {},
     "output_type": "execute_result"
    }
   ],
   "source": [
    "# Calling like an attribute\n",
    "student1.print_name_1"
   ]
  },
  {
   "cell_type": "code",
   "execution_count": 32,
   "metadata": {},
   "outputs": [
    {
     "name": "stdout",
     "output_type": "stream",
     "text": [
      "I am Jose.\n"
     ]
    }
   ],
   "source": [
    "# Calling like as a method\n",
    "student1.print_name_1()"
   ]
  },
  {
   "cell_type": "markdown",
   "metadata": {},
   "source": [
    "When we do not use the **self** keyword, the class do not recognize `print_name_2` function as a method. "
   ]
  },
  {
   "cell_type": "code",
   "execution_count": 33,
   "metadata": {},
   "outputs": [
    {
     "ename": "TypeError",
     "evalue": "print_name_2() takes 0 positional arguments but 1 was given",
     "output_type": "error",
     "traceback": [
      "\u001b[1;31m---------------------------------------------------------------------------\u001b[0m",
      "\u001b[1;31mTypeError\u001b[0m                                 Traceback (most recent call last)",
      "\u001b[1;32m<ipython-input-33-3c8e56978537>\u001b[0m in \u001b[0;36m<module>\u001b[1;34m\u001b[0m\n\u001b[1;32m----> 1\u001b[1;33m \u001b[0mstudent1\u001b[0m\u001b[1;33m.\u001b[0m\u001b[0mprint_name_2\u001b[0m\u001b[1;33m(\u001b[0m\u001b[1;33m)\u001b[0m\u001b[1;33m\u001b[0m\u001b[1;33m\u001b[0m\u001b[0m\n\u001b[0m",
      "\u001b[1;31mTypeError\u001b[0m: print_name_2() takes 0 positional arguments but 1 was given"
     ]
    }
   ],
   "source": [
    "student1.print_name_2()"
   ]
  },
  {
   "cell_type": "markdown",
   "metadata": {},
   "source": [
    "When we do not use the **self** keyword, the class does not recognize `name` variable. We need to define it as an `attribute`. Classes are not the same as functions. In functions, the parameters are identified in the namespace, but in classes, they do not."
   ]
  },
  {
   "cell_type": "code",
   "execution_count": 37,
   "metadata": {},
   "outputs": [
    {
     "ename": "NameError",
     "evalue": "name 'name' is not defined",
     "output_type": "error",
     "traceback": [
      "\u001b[1;31m---------------------------------------------------------------------------\u001b[0m",
      "\u001b[1;31mNameError\u001b[0m                                 Traceback (most recent call last)",
      "\u001b[1;32m<ipython-input-37-f4879dda857f>\u001b[0m in \u001b[0;36m<module>\u001b[1;34m\u001b[0m\n\u001b[1;32m----> 1\u001b[1;33m \u001b[0mstudent1\u001b[0m\u001b[1;33m.\u001b[0m\u001b[0mprint_name_3\u001b[0m\u001b[1;33m(\u001b[0m\u001b[1;33m)\u001b[0m\u001b[1;33m\u001b[0m\u001b[1;33m\u001b[0m\u001b[0m\n\u001b[0m",
      "\u001b[1;32m<ipython-input-35-879bde9c1c57>\u001b[0m in \u001b[0;36mprint_name_3\u001b[1;34m(self)\u001b[0m\n\u001b[0;32m     17\u001b[0m     \u001b[1;31m# we need to define them as attributes\u001b[0m\u001b[1;33m\u001b[0m\u001b[1;33m\u001b[0m\u001b[1;33m\u001b[0m\u001b[0m\n\u001b[0;32m     18\u001b[0m     \u001b[1;32mdef\u001b[0m \u001b[0mprint_name_3\u001b[0m\u001b[1;33m(\u001b[0m \u001b[0mself\u001b[0m \u001b[1;33m)\u001b[0m\u001b[1;33m:\u001b[0m\u001b[1;33m\u001b[0m\u001b[1;33m\u001b[0m\u001b[0m\n\u001b[1;32m---> 19\u001b[1;33m         \u001b[0mprint\u001b[0m\u001b[1;33m(\u001b[0m \u001b[1;34mf'This is my {name}.'\u001b[0m \u001b[1;33m)\u001b[0m\u001b[1;33m\u001b[0m\u001b[1;33m\u001b[0m\u001b[0m\n\u001b[0m\u001b[0;32m     20\u001b[0m \u001b[1;33m\u001b[0m\u001b[0m\n",
      "\u001b[1;31mNameError\u001b[0m: name 'name' is not defined"
     ]
    }
   ],
   "source": [
    "student1.print_name_3()"
   ]
  },
  {
   "cell_type": "code",
   "execution_count": 220,
   "metadata": {},
   "outputs": [],
   "source": [
    "class select_data:\n",
    "    \n",
    "    def __init__(self, data, year_init, year_end):\n",
    "        \n",
    "        self.data = data\n",
    "        self.year_initial = year_init\n",
    "        self.year_final = year_end\n",
    "        \n",
    "    def sample_data(self):\n",
    "        \n",
    "        year_init = self.data[self.data.year == self.year_initial].index[0]\n",
    "        year_end = self.data[self.data.year == self.year_final].index[0]\n",
    "\n",
    "        samp_data = self.data.iloc[ year_init:year_end+1, : ]\n",
    "\n",
    "        return samp_data\n",
    "    "
   ]
  },
  {
   "cell_type": "code",
   "execution_count": 221,
   "metadata": {},
   "outputs": [],
   "source": [
    "data_2009_2019 = select_data(extraction_fish, 2009, 2019 )"
   ]
  },
  {
   "cell_type": "code",
   "execution_count": 226,
   "metadata": {},
   "outputs": [
    {
     "data": {
      "text/html": [
       "<div>\n",
       "<style scoped>\n",
       "    .dataframe tbody tr th:only-of-type {\n",
       "        vertical-align: middle;\n",
       "    }\n",
       "\n",
       "    .dataframe tbody tr th {\n",
       "        vertical-align: top;\n",
       "    }\n",
       "\n",
       "    .dataframe thead th {\n",
       "        text-align: right;\n",
       "    }\n",
       "</style>\n",
       "<table border=\"1\" class=\"dataframe\">\n",
       "  <thead>\n",
       "    <tr style=\"text-align: right;\">\n",
       "      <th></th>\n",
       "      <th>year</th>\n",
       "      <th>Consumo Industrial - Anchoveta</th>\n",
       "      <th>Consumo Humano - Congelado - Concha de abanico</th>\n",
       "      <th>Consumo Humano - Congelado - Langostino</th>\n",
       "      <th>Consumo Humano - Congelado - Merluza</th>\n",
       "      <th>Consumo Humano - Congelado - Calamar gigante</th>\n",
       "      <th>Consumo Humano - Conservas - Atún</th>\n",
       "      <th>Consumo Humano - Conservas - Caballa</th>\n",
       "      <th>Consumo Humano - Conservas - Jurel</th>\n",
       "      <th>Consumo Humano - Conservas - Sardina</th>\n",
       "      <th>Consumo Humano - Fresco - Concha de abanico</th>\n",
       "      <th>Consumo Humano - Fresco - Jurel</th>\n",
       "      <th>Consumo Humano - Fresco - Liza</th>\n",
       "      <th>Consumo Humano - Fresco - Tollo</th>\n",
       "      <th>total_production</th>\n",
       "    </tr>\n",
       "  </thead>\n",
       "  <tbody>\n",
       "    <tr>\n",
       "      <th>0</th>\n",
       "      <td>2005</td>\n",
       "      <td>8628.396000</td>\n",
       "      <td>13.537000</td>\n",
       "      <td>9.021000</td>\n",
       "      <td>23.279000</td>\n",
       "      <td>235.630000</td>\n",
       "      <td>9.877000</td>\n",
       "      <td>25.711000</td>\n",
       "      <td>20.481000</td>\n",
       "      <td>0.165000</td>\n",
       "      <td>1.843080</td>\n",
       "      <td>56.167940</td>\n",
       "      <td>5.875600</td>\n",
       "      <td>0.430000</td>\n",
       "      <td>9030.413620</td>\n",
       "    </tr>\n",
       "    <tr>\n",
       "      <th>1</th>\n",
       "      <td>2006</td>\n",
       "      <td>5891.838000</td>\n",
       "      <td>14.714000</td>\n",
       "      <td>11.295000</td>\n",
       "      <td>25.189000</td>\n",
       "      <td>365.729000</td>\n",
       "      <td>11.336000</td>\n",
       "      <td>58.245000</td>\n",
       "      <td>122.904000</td>\n",
       "      <td>0.048000</td>\n",
       "      <td>4.048000</td>\n",
       "      <td>136.827000</td>\n",
       "      <td>3.166000</td>\n",
       "      <td>1.584000</td>\n",
       "      <td>6646.923000</td>\n",
       "    </tr>\n",
       "    <tr>\n",
       "      <th>2</th>\n",
       "      <td>2007</td>\n",
       "      <td>6084.713000</td>\n",
       "      <td>19.937000</td>\n",
       "      <td>13.548000</td>\n",
       "      <td>28.358488</td>\n",
       "      <td>379.556594</td>\n",
       "      <td>3.713293</td>\n",
       "      <td>26.248739</td>\n",
       "      <td>82.910307</td>\n",
       "      <td>0.001020</td>\n",
       "      <td>4.822991</td>\n",
       "      <td>134.887316</td>\n",
       "      <td>9.317622</td>\n",
       "      <td>2.834958</td>\n",
       "      <td>6790.849328</td>\n",
       "    </tr>\n",
       "    <tr>\n",
       "      <th>3</th>\n",
       "      <td>2008</td>\n",
       "      <td>6159.387000</td>\n",
       "      <td>18.790000</td>\n",
       "      <td>12.817000</td>\n",
       "      <td>26.348398</td>\n",
       "      <td>484.162082</td>\n",
       "      <td>3.283711</td>\n",
       "      <td>47.694121</td>\n",
       "      <td>58.864202</td>\n",
       "      <td>0.000000</td>\n",
       "      <td>0.828187</td>\n",
       "      <td>80.092885</td>\n",
       "      <td>14.514054</td>\n",
       "      <td>2.933360</td>\n",
       "      <td>6909.715000</td>\n",
       "    </tr>\n",
       "    <tr>\n",
       "      <th>4</th>\n",
       "      <td>2009</td>\n",
       "      <td>5828.636000</td>\n",
       "      <td>24.634372</td>\n",
       "      <td>11.877399</td>\n",
       "      <td>36.774763</td>\n",
       "      <td>355.106589</td>\n",
       "      <td>2.017061</td>\n",
       "      <td>51.355908</td>\n",
       "      <td>14.289041</td>\n",
       "      <td>0.000000</td>\n",
       "      <td>1.843072</td>\n",
       "      <td>47.079175</td>\n",
       "      <td>17.311344</td>\n",
       "      <td>4.057886</td>\n",
       "      <td>6394.982610</td>\n",
       "    </tr>\n",
       "    <tr>\n",
       "      <th>5</th>\n",
       "      <td>2010</td>\n",
       "      <td>3330.413040</td>\n",
       "      <td>60.001250</td>\n",
       "      <td>14.477939</td>\n",
       "      <td>25.647697</td>\n",
       "      <td>327.571909</td>\n",
       "      <td>9.182845</td>\n",
       "      <td>9.729522</td>\n",
       "      <td>5.774274</td>\n",
       "      <td>0.000000</td>\n",
       "      <td>2.824749</td>\n",
       "      <td>10.404933</td>\n",
       "      <td>9.706363</td>\n",
       "      <td>4.994712</td>\n",
       "      <td>3810.729233</td>\n",
       "    </tr>\n",
       "    <tr>\n",
       "      <th>6</th>\n",
       "      <td>2011</td>\n",
       "      <td>7000.092781</td>\n",
       "      <td>92.027637</td>\n",
       "      <td>23.384478</td>\n",
       "      <td>28.544458</td>\n",
       "      <td>373.195661</td>\n",
       "      <td>6.586856</td>\n",
       "      <td>20.478814</td>\n",
       "      <td>83.277943</td>\n",
       "      <td>0.054463</td>\n",
       "      <td>0.873130</td>\n",
       "      <td>72.955117</td>\n",
       "      <td>12.124808</td>\n",
       "      <td>5.687520</td>\n",
       "      <td>7719.283666</td>\n",
       "    </tr>\n",
       "    <tr>\n",
       "      <th>7</th>\n",
       "      <td>2012</td>\n",
       "      <td>3693.871080</td>\n",
       "      <td>38.933390</td>\n",
       "      <td>22.707220</td>\n",
       "      <td>21.054780</td>\n",
       "      <td>457.072670</td>\n",
       "      <td>1.115060</td>\n",
       "      <td>9.978510</td>\n",
       "      <td>43.693940</td>\n",
       "      <td>0.088460</td>\n",
       "      <td>0.744610</td>\n",
       "      <td>72.930470</td>\n",
       "      <td>17.162420</td>\n",
       "      <td>4.235380</td>\n",
       "      <td>4383.587990</td>\n",
       "    </tr>\n",
       "    <tr>\n",
       "      <th>8</th>\n",
       "      <td>2013</td>\n",
       "      <td>4754.118210</td>\n",
       "      <td>89.293284</td>\n",
       "      <td>19.111372</td>\n",
       "      <td>31.187461</td>\n",
       "      <td>410.759534</td>\n",
       "      <td>7.136436</td>\n",
       "      <td>26.600553</td>\n",
       "      <td>7.197624</td>\n",
       "      <td>0.000000</td>\n",
       "      <td>2.180252</td>\n",
       "      <td>54.454541</td>\n",
       "      <td>12.530821</td>\n",
       "      <td>3.945647</td>\n",
       "      <td>5418.515737</td>\n",
       "    </tr>\n",
       "    <tr>\n",
       "      <th>9</th>\n",
       "      <td>2014</td>\n",
       "      <td>2255.453460</td>\n",
       "      <td>52.266500</td>\n",
       "      <td>21.762990</td>\n",
       "      <td>30.770800</td>\n",
       "      <td>465.007580</td>\n",
       "      <td>4.734540</td>\n",
       "      <td>29.576440</td>\n",
       "      <td>8.882560</td>\n",
       "      <td>0.000000</td>\n",
       "      <td>0.608160</td>\n",
       "      <td>46.346459</td>\n",
       "      <td>12.248670</td>\n",
       "      <td>5.206880</td>\n",
       "      <td>2932.865039</td>\n",
       "    </tr>\n",
       "    <tr>\n",
       "      <th>10</th>\n",
       "      <td>2015</td>\n",
       "      <td>3616.481500</td>\n",
       "      <td>14.843150</td>\n",
       "      <td>26.772210</td>\n",
       "      <td>25.644130</td>\n",
       "      <td>426.932300</td>\n",
       "      <td>11.082120</td>\n",
       "      <td>15.314910</td>\n",
       "      <td>2.769796</td>\n",
       "      <td>0.164140</td>\n",
       "      <td>0.615910</td>\n",
       "      <td>17.536930</td>\n",
       "      <td>12.463520</td>\n",
       "      <td>7.717680</td>\n",
       "      <td>4178.338296</td>\n",
       "    </tr>\n",
       "    <tr>\n",
       "      <th>11</th>\n",
       "      <td>2016</td>\n",
       "      <td>2732.733740</td>\n",
       "      <td>10.090130</td>\n",
       "      <td>29.253750</td>\n",
       "      <td>25.800210</td>\n",
       "      <td>246.124700</td>\n",
       "      <td>10.884490</td>\n",
       "      <td>57.675170</td>\n",
       "      <td>0.412040</td>\n",
       "      <td>0.007490</td>\n",
       "      <td>0.579750</td>\n",
       "      <td>12.472050</td>\n",
       "      <td>15.757580</td>\n",
       "      <td>9.453130</td>\n",
       "      <td>3151.244230</td>\n",
       "    </tr>\n",
       "    <tr>\n",
       "      <th>12</th>\n",
       "      <td>2017</td>\n",
       "      <td>3165.490240</td>\n",
       "      <td>4.596090</td>\n",
       "      <td>38.760070</td>\n",
       "      <td>37.147430</td>\n",
       "      <td>252.429930</td>\n",
       "      <td>11.802750</td>\n",
       "      <td>23.249140</td>\n",
       "      <td>1.052910</td>\n",
       "      <td>0.000000</td>\n",
       "      <td>0.373700</td>\n",
       "      <td>6.889530</td>\n",
       "      <td>29.061740</td>\n",
       "      <td>6.692660</td>\n",
       "      <td>3577.546190</td>\n",
       "    </tr>\n",
       "    <tr>\n",
       "      <th>13</th>\n",
       "      <td>2018</td>\n",
       "      <td>6072.887839</td>\n",
       "      <td>36.530349</td>\n",
       "      <td>31.505879</td>\n",
       "      <td>34.876576</td>\n",
       "      <td>319.146488</td>\n",
       "      <td>18.138975</td>\n",
       "      <td>24.610468</td>\n",
       "      <td>14.619846</td>\n",
       "      <td>0.000000</td>\n",
       "      <td>1.551366</td>\n",
       "      <td>14.720969</td>\n",
       "      <td>23.326310</td>\n",
       "      <td>3.672117</td>\n",
       "      <td>6595.587183</td>\n",
       "    </tr>\n",
       "    <tr>\n",
       "      <th>14</th>\n",
       "      <td>2019</td>\n",
       "      <td>3381.437222</td>\n",
       "      <td>53.112863</td>\n",
       "      <td>42.857637</td>\n",
       "      <td>28.979849</td>\n",
       "      <td>483.765239</td>\n",
       "      <td>17.839298</td>\n",
       "      <td>19.598784</td>\n",
       "      <td>27.733432</td>\n",
       "      <td>0.000000</td>\n",
       "      <td>1.226521</td>\n",
       "      <td>40.798701</td>\n",
       "      <td>24.029820</td>\n",
       "      <td>1.241883</td>\n",
       "      <td>4122.621249</td>\n",
       "    </tr>\n",
       "    <tr>\n",
       "      <th>15</th>\n",
       "      <td>2020</td>\n",
       "      <td>4314.558220</td>\n",
       "      <td>46.995287</td>\n",
       "      <td>34.516971</td>\n",
       "      <td>19.842900</td>\n",
       "      <td>407.384850</td>\n",
       "      <td>3.843680</td>\n",
       "      <td>28.408700</td>\n",
       "      <td>23.475890</td>\n",
       "      <td>0.000000</td>\n",
       "      <td>0.616697</td>\n",
       "      <td>48.115810</td>\n",
       "      <td>14.992172</td>\n",
       "      <td>0.544585</td>\n",
       "      <td>4943.295762</td>\n",
       "    </tr>\n",
       "  </tbody>\n",
       "</table>\n",
       "</div>"
      ],
      "text/plain": [
       "    year  Consumo Industrial - Anchoveta  \\\n",
       "0   2005                     8628.396000   \n",
       "1   2006                     5891.838000   \n",
       "2   2007                     6084.713000   \n",
       "3   2008                     6159.387000   \n",
       "4   2009                     5828.636000   \n",
       "5   2010                     3330.413040   \n",
       "6   2011                     7000.092781   \n",
       "7   2012                     3693.871080   \n",
       "8   2013                     4754.118210   \n",
       "9   2014                     2255.453460   \n",
       "10  2015                     3616.481500   \n",
       "11  2016                     2732.733740   \n",
       "12  2017                     3165.490240   \n",
       "13  2018                     6072.887839   \n",
       "14  2019                     3381.437222   \n",
       "15  2020                     4314.558220   \n",
       "\n",
       "    Consumo Humano - Congelado - Concha de abanico  \\\n",
       "0                                        13.537000   \n",
       "1                                        14.714000   \n",
       "2                                        19.937000   \n",
       "3                                        18.790000   \n",
       "4                                        24.634372   \n",
       "5                                        60.001250   \n",
       "6                                        92.027637   \n",
       "7                                        38.933390   \n",
       "8                                        89.293284   \n",
       "9                                        52.266500   \n",
       "10                                       14.843150   \n",
       "11                                       10.090130   \n",
       "12                                        4.596090   \n",
       "13                                       36.530349   \n",
       "14                                       53.112863   \n",
       "15                                       46.995287   \n",
       "\n",
       "    Consumo Humano - Congelado - Langostino  \\\n",
       "0                                  9.021000   \n",
       "1                                 11.295000   \n",
       "2                                 13.548000   \n",
       "3                                 12.817000   \n",
       "4                                 11.877399   \n",
       "5                                 14.477939   \n",
       "6                                 23.384478   \n",
       "7                                 22.707220   \n",
       "8                                 19.111372   \n",
       "9                                 21.762990   \n",
       "10                                26.772210   \n",
       "11                                29.253750   \n",
       "12                                38.760070   \n",
       "13                                31.505879   \n",
       "14                                42.857637   \n",
       "15                                34.516971   \n",
       "\n",
       "    Consumo Humano - Congelado - Merluza  \\\n",
       "0                              23.279000   \n",
       "1                              25.189000   \n",
       "2                              28.358488   \n",
       "3                              26.348398   \n",
       "4                              36.774763   \n",
       "5                              25.647697   \n",
       "6                              28.544458   \n",
       "7                              21.054780   \n",
       "8                              31.187461   \n",
       "9                              30.770800   \n",
       "10                             25.644130   \n",
       "11                             25.800210   \n",
       "12                             37.147430   \n",
       "13                             34.876576   \n",
       "14                             28.979849   \n",
       "15                             19.842900   \n",
       "\n",
       "    Consumo Humano - Congelado - Calamar gigante  \\\n",
       "0                                     235.630000   \n",
       "1                                     365.729000   \n",
       "2                                     379.556594   \n",
       "3                                     484.162082   \n",
       "4                                     355.106589   \n",
       "5                                     327.571909   \n",
       "6                                     373.195661   \n",
       "7                                     457.072670   \n",
       "8                                     410.759534   \n",
       "9                                     465.007580   \n",
       "10                                    426.932300   \n",
       "11                                    246.124700   \n",
       "12                                    252.429930   \n",
       "13                                    319.146488   \n",
       "14                                    483.765239   \n",
       "15                                    407.384850   \n",
       "\n",
       "    Consumo Humano - Conservas - Atún  Consumo Humano - Conservas - Caballa  \\\n",
       "0                            9.877000                             25.711000   \n",
       "1                           11.336000                             58.245000   \n",
       "2                            3.713293                             26.248739   \n",
       "3                            3.283711                             47.694121   \n",
       "4                            2.017061                             51.355908   \n",
       "5                            9.182845                              9.729522   \n",
       "6                            6.586856                             20.478814   \n",
       "7                            1.115060                              9.978510   \n",
       "8                            7.136436                             26.600553   \n",
       "9                            4.734540                             29.576440   \n",
       "10                          11.082120                             15.314910   \n",
       "11                          10.884490                             57.675170   \n",
       "12                          11.802750                             23.249140   \n",
       "13                          18.138975                             24.610468   \n",
       "14                          17.839298                             19.598784   \n",
       "15                           3.843680                             28.408700   \n",
       "\n",
       "    Consumo Humano - Conservas - Jurel  Consumo Humano - Conservas - Sardina  \\\n",
       "0                            20.481000                              0.165000   \n",
       "1                           122.904000                              0.048000   \n",
       "2                            82.910307                              0.001020   \n",
       "3                            58.864202                              0.000000   \n",
       "4                            14.289041                              0.000000   \n",
       "5                             5.774274                              0.000000   \n",
       "6                            83.277943                              0.054463   \n",
       "7                            43.693940                              0.088460   \n",
       "8                             7.197624                              0.000000   \n",
       "9                             8.882560                              0.000000   \n",
       "10                            2.769796                              0.164140   \n",
       "11                            0.412040                              0.007490   \n",
       "12                            1.052910                              0.000000   \n",
       "13                           14.619846                              0.000000   \n",
       "14                           27.733432                              0.000000   \n",
       "15                           23.475890                              0.000000   \n",
       "\n",
       "    Consumo Humano - Fresco - Concha de abanico  \\\n",
       "0                                      1.843080   \n",
       "1                                      4.048000   \n",
       "2                                      4.822991   \n",
       "3                                      0.828187   \n",
       "4                                      1.843072   \n",
       "5                                      2.824749   \n",
       "6                                      0.873130   \n",
       "7                                      0.744610   \n",
       "8                                      2.180252   \n",
       "9                                      0.608160   \n",
       "10                                     0.615910   \n",
       "11                                     0.579750   \n",
       "12                                     0.373700   \n",
       "13                                     1.551366   \n",
       "14                                     1.226521   \n",
       "15                                     0.616697   \n",
       "\n",
       "    Consumo Humano - Fresco - Jurel  Consumo Humano - Fresco - Liza  \\\n",
       "0                         56.167940                        5.875600   \n",
       "1                        136.827000                        3.166000   \n",
       "2                        134.887316                        9.317622   \n",
       "3                         80.092885                       14.514054   \n",
       "4                         47.079175                       17.311344   \n",
       "5                         10.404933                        9.706363   \n",
       "6                         72.955117                       12.124808   \n",
       "7                         72.930470                       17.162420   \n",
       "8                         54.454541                       12.530821   \n",
       "9                         46.346459                       12.248670   \n",
       "10                        17.536930                       12.463520   \n",
       "11                        12.472050                       15.757580   \n",
       "12                         6.889530                       29.061740   \n",
       "13                        14.720969                       23.326310   \n",
       "14                        40.798701                       24.029820   \n",
       "15                        48.115810                       14.992172   \n",
       "\n",
       "    Consumo Humano - Fresco - Tollo  total_production  \n",
       "0                          0.430000       9030.413620  \n",
       "1                          1.584000       6646.923000  \n",
       "2                          2.834958       6790.849328  \n",
       "3                          2.933360       6909.715000  \n",
       "4                          4.057886       6394.982610  \n",
       "5                          4.994712       3810.729233  \n",
       "6                          5.687520       7719.283666  \n",
       "7                          4.235380       4383.587990  \n",
       "8                          3.945647       5418.515737  \n",
       "9                          5.206880       2932.865039  \n",
       "10                         7.717680       4178.338296  \n",
       "11                         9.453130       3151.244230  \n",
       "12                         6.692660       3577.546190  \n",
       "13                         3.672117       6595.587183  \n",
       "14                         1.241883       4122.621249  \n",
       "15                         0.544585       4943.295762  "
      ]
     },
     "execution_count": 226,
     "metadata": {},
     "output_type": "execute_result"
    }
   ],
   "source": [
    "data_2009_2019.data"
   ]
  },
  {
   "cell_type": "code",
   "execution_count": 225,
   "metadata": {},
   "outputs": [
    {
     "data": {
      "text/html": [
       "<div>\n",
       "<style scoped>\n",
       "    .dataframe tbody tr th:only-of-type {\n",
       "        vertical-align: middle;\n",
       "    }\n",
       "\n",
       "    .dataframe tbody tr th {\n",
       "        vertical-align: top;\n",
       "    }\n",
       "\n",
       "    .dataframe thead th {\n",
       "        text-align: right;\n",
       "    }\n",
       "</style>\n",
       "<table border=\"1\" class=\"dataframe\">\n",
       "  <thead>\n",
       "    <tr style=\"text-align: right;\">\n",
       "      <th></th>\n",
       "      <th>year</th>\n",
       "      <th>Consumo Industrial - Anchoveta</th>\n",
       "      <th>Consumo Humano - Congelado - Concha de abanico</th>\n",
       "      <th>Consumo Humano - Congelado - Langostino</th>\n",
       "      <th>Consumo Humano - Congelado - Merluza</th>\n",
       "      <th>Consumo Humano - Congelado - Calamar gigante</th>\n",
       "      <th>Consumo Humano - Conservas - Atún</th>\n",
       "      <th>Consumo Humano - Conservas - Caballa</th>\n",
       "      <th>Consumo Humano - Conservas - Jurel</th>\n",
       "      <th>Consumo Humano - Conservas - Sardina</th>\n",
       "      <th>Consumo Humano - Fresco - Concha de abanico</th>\n",
       "      <th>Consumo Humano - Fresco - Jurel</th>\n",
       "      <th>Consumo Humano - Fresco - Liza</th>\n",
       "      <th>Consumo Humano - Fresco - Tollo</th>\n",
       "      <th>total_production</th>\n",
       "    </tr>\n",
       "  </thead>\n",
       "  <tbody>\n",
       "    <tr>\n",
       "      <th>4</th>\n",
       "      <td>2009</td>\n",
       "      <td>5828.636000</td>\n",
       "      <td>24.634372</td>\n",
       "      <td>11.877399</td>\n",
       "      <td>36.774763</td>\n",
       "      <td>355.106589</td>\n",
       "      <td>2.017061</td>\n",
       "      <td>51.355908</td>\n",
       "      <td>14.289041</td>\n",
       "      <td>0.000000</td>\n",
       "      <td>1.843072</td>\n",
       "      <td>47.079175</td>\n",
       "      <td>17.311344</td>\n",
       "      <td>4.057886</td>\n",
       "      <td>6394.982610</td>\n",
       "    </tr>\n",
       "    <tr>\n",
       "      <th>5</th>\n",
       "      <td>2010</td>\n",
       "      <td>3330.413040</td>\n",
       "      <td>60.001250</td>\n",
       "      <td>14.477939</td>\n",
       "      <td>25.647697</td>\n",
       "      <td>327.571909</td>\n",
       "      <td>9.182845</td>\n",
       "      <td>9.729522</td>\n",
       "      <td>5.774274</td>\n",
       "      <td>0.000000</td>\n",
       "      <td>2.824749</td>\n",
       "      <td>10.404933</td>\n",
       "      <td>9.706363</td>\n",
       "      <td>4.994712</td>\n",
       "      <td>3810.729233</td>\n",
       "    </tr>\n",
       "    <tr>\n",
       "      <th>6</th>\n",
       "      <td>2011</td>\n",
       "      <td>7000.092781</td>\n",
       "      <td>92.027637</td>\n",
       "      <td>23.384478</td>\n",
       "      <td>28.544458</td>\n",
       "      <td>373.195661</td>\n",
       "      <td>6.586856</td>\n",
       "      <td>20.478814</td>\n",
       "      <td>83.277943</td>\n",
       "      <td>0.054463</td>\n",
       "      <td>0.873130</td>\n",
       "      <td>72.955117</td>\n",
       "      <td>12.124808</td>\n",
       "      <td>5.687520</td>\n",
       "      <td>7719.283666</td>\n",
       "    </tr>\n",
       "    <tr>\n",
       "      <th>7</th>\n",
       "      <td>2012</td>\n",
       "      <td>3693.871080</td>\n",
       "      <td>38.933390</td>\n",
       "      <td>22.707220</td>\n",
       "      <td>21.054780</td>\n",
       "      <td>457.072670</td>\n",
       "      <td>1.115060</td>\n",
       "      <td>9.978510</td>\n",
       "      <td>43.693940</td>\n",
       "      <td>0.088460</td>\n",
       "      <td>0.744610</td>\n",
       "      <td>72.930470</td>\n",
       "      <td>17.162420</td>\n",
       "      <td>4.235380</td>\n",
       "      <td>4383.587990</td>\n",
       "    </tr>\n",
       "    <tr>\n",
       "      <th>8</th>\n",
       "      <td>2013</td>\n",
       "      <td>4754.118210</td>\n",
       "      <td>89.293284</td>\n",
       "      <td>19.111372</td>\n",
       "      <td>31.187461</td>\n",
       "      <td>410.759534</td>\n",
       "      <td>7.136436</td>\n",
       "      <td>26.600553</td>\n",
       "      <td>7.197624</td>\n",
       "      <td>0.000000</td>\n",
       "      <td>2.180252</td>\n",
       "      <td>54.454541</td>\n",
       "      <td>12.530821</td>\n",
       "      <td>3.945647</td>\n",
       "      <td>5418.515737</td>\n",
       "    </tr>\n",
       "    <tr>\n",
       "      <th>9</th>\n",
       "      <td>2014</td>\n",
       "      <td>2255.453460</td>\n",
       "      <td>52.266500</td>\n",
       "      <td>21.762990</td>\n",
       "      <td>30.770800</td>\n",
       "      <td>465.007580</td>\n",
       "      <td>4.734540</td>\n",
       "      <td>29.576440</td>\n",
       "      <td>8.882560</td>\n",
       "      <td>0.000000</td>\n",
       "      <td>0.608160</td>\n",
       "      <td>46.346459</td>\n",
       "      <td>12.248670</td>\n",
       "      <td>5.206880</td>\n",
       "      <td>2932.865039</td>\n",
       "    </tr>\n",
       "    <tr>\n",
       "      <th>10</th>\n",
       "      <td>2015</td>\n",
       "      <td>3616.481500</td>\n",
       "      <td>14.843150</td>\n",
       "      <td>26.772210</td>\n",
       "      <td>25.644130</td>\n",
       "      <td>426.932300</td>\n",
       "      <td>11.082120</td>\n",
       "      <td>15.314910</td>\n",
       "      <td>2.769796</td>\n",
       "      <td>0.164140</td>\n",
       "      <td>0.615910</td>\n",
       "      <td>17.536930</td>\n",
       "      <td>12.463520</td>\n",
       "      <td>7.717680</td>\n",
       "      <td>4178.338296</td>\n",
       "    </tr>\n",
       "    <tr>\n",
       "      <th>11</th>\n",
       "      <td>2016</td>\n",
       "      <td>2732.733740</td>\n",
       "      <td>10.090130</td>\n",
       "      <td>29.253750</td>\n",
       "      <td>25.800210</td>\n",
       "      <td>246.124700</td>\n",
       "      <td>10.884490</td>\n",
       "      <td>57.675170</td>\n",
       "      <td>0.412040</td>\n",
       "      <td>0.007490</td>\n",
       "      <td>0.579750</td>\n",
       "      <td>12.472050</td>\n",
       "      <td>15.757580</td>\n",
       "      <td>9.453130</td>\n",
       "      <td>3151.244230</td>\n",
       "    </tr>\n",
       "    <tr>\n",
       "      <th>12</th>\n",
       "      <td>2017</td>\n",
       "      <td>3165.490240</td>\n",
       "      <td>4.596090</td>\n",
       "      <td>38.760070</td>\n",
       "      <td>37.147430</td>\n",
       "      <td>252.429930</td>\n",
       "      <td>11.802750</td>\n",
       "      <td>23.249140</td>\n",
       "      <td>1.052910</td>\n",
       "      <td>0.000000</td>\n",
       "      <td>0.373700</td>\n",
       "      <td>6.889530</td>\n",
       "      <td>29.061740</td>\n",
       "      <td>6.692660</td>\n",
       "      <td>3577.546190</td>\n",
       "    </tr>\n",
       "    <tr>\n",
       "      <th>13</th>\n",
       "      <td>2018</td>\n",
       "      <td>6072.887839</td>\n",
       "      <td>36.530349</td>\n",
       "      <td>31.505879</td>\n",
       "      <td>34.876576</td>\n",
       "      <td>319.146488</td>\n",
       "      <td>18.138975</td>\n",
       "      <td>24.610468</td>\n",
       "      <td>14.619846</td>\n",
       "      <td>0.000000</td>\n",
       "      <td>1.551366</td>\n",
       "      <td>14.720969</td>\n",
       "      <td>23.326310</td>\n",
       "      <td>3.672117</td>\n",
       "      <td>6595.587183</td>\n",
       "    </tr>\n",
       "    <tr>\n",
       "      <th>14</th>\n",
       "      <td>2019</td>\n",
       "      <td>3381.437222</td>\n",
       "      <td>53.112863</td>\n",
       "      <td>42.857637</td>\n",
       "      <td>28.979849</td>\n",
       "      <td>483.765239</td>\n",
       "      <td>17.839298</td>\n",
       "      <td>19.598784</td>\n",
       "      <td>27.733432</td>\n",
       "      <td>0.000000</td>\n",
       "      <td>1.226521</td>\n",
       "      <td>40.798701</td>\n",
       "      <td>24.029820</td>\n",
       "      <td>1.241883</td>\n",
       "      <td>4122.621249</td>\n",
       "    </tr>\n",
       "  </tbody>\n",
       "</table>\n",
       "</div>"
      ],
      "text/plain": [
       "    year  Consumo Industrial - Anchoveta  \\\n",
       "4   2009                     5828.636000   \n",
       "5   2010                     3330.413040   \n",
       "6   2011                     7000.092781   \n",
       "7   2012                     3693.871080   \n",
       "8   2013                     4754.118210   \n",
       "9   2014                     2255.453460   \n",
       "10  2015                     3616.481500   \n",
       "11  2016                     2732.733740   \n",
       "12  2017                     3165.490240   \n",
       "13  2018                     6072.887839   \n",
       "14  2019                     3381.437222   \n",
       "\n",
       "    Consumo Humano - Congelado - Concha de abanico  \\\n",
       "4                                        24.634372   \n",
       "5                                        60.001250   \n",
       "6                                        92.027637   \n",
       "7                                        38.933390   \n",
       "8                                        89.293284   \n",
       "9                                        52.266500   \n",
       "10                                       14.843150   \n",
       "11                                       10.090130   \n",
       "12                                        4.596090   \n",
       "13                                       36.530349   \n",
       "14                                       53.112863   \n",
       "\n",
       "    Consumo Humano - Congelado - Langostino  \\\n",
       "4                                 11.877399   \n",
       "5                                 14.477939   \n",
       "6                                 23.384478   \n",
       "7                                 22.707220   \n",
       "8                                 19.111372   \n",
       "9                                 21.762990   \n",
       "10                                26.772210   \n",
       "11                                29.253750   \n",
       "12                                38.760070   \n",
       "13                                31.505879   \n",
       "14                                42.857637   \n",
       "\n",
       "    Consumo Humano - Congelado - Merluza  \\\n",
       "4                              36.774763   \n",
       "5                              25.647697   \n",
       "6                              28.544458   \n",
       "7                              21.054780   \n",
       "8                              31.187461   \n",
       "9                              30.770800   \n",
       "10                             25.644130   \n",
       "11                             25.800210   \n",
       "12                             37.147430   \n",
       "13                             34.876576   \n",
       "14                             28.979849   \n",
       "\n",
       "    Consumo Humano - Congelado - Calamar gigante  \\\n",
       "4                                     355.106589   \n",
       "5                                     327.571909   \n",
       "6                                     373.195661   \n",
       "7                                     457.072670   \n",
       "8                                     410.759534   \n",
       "9                                     465.007580   \n",
       "10                                    426.932300   \n",
       "11                                    246.124700   \n",
       "12                                    252.429930   \n",
       "13                                    319.146488   \n",
       "14                                    483.765239   \n",
       "\n",
       "    Consumo Humano - Conservas - Atún  Consumo Humano - Conservas - Caballa  \\\n",
       "4                            2.017061                             51.355908   \n",
       "5                            9.182845                              9.729522   \n",
       "6                            6.586856                             20.478814   \n",
       "7                            1.115060                              9.978510   \n",
       "8                            7.136436                             26.600553   \n",
       "9                            4.734540                             29.576440   \n",
       "10                          11.082120                             15.314910   \n",
       "11                          10.884490                             57.675170   \n",
       "12                          11.802750                             23.249140   \n",
       "13                          18.138975                             24.610468   \n",
       "14                          17.839298                             19.598784   \n",
       "\n",
       "    Consumo Humano - Conservas - Jurel  Consumo Humano - Conservas - Sardina  \\\n",
       "4                            14.289041                              0.000000   \n",
       "5                             5.774274                              0.000000   \n",
       "6                            83.277943                              0.054463   \n",
       "7                            43.693940                              0.088460   \n",
       "8                             7.197624                              0.000000   \n",
       "9                             8.882560                              0.000000   \n",
       "10                            2.769796                              0.164140   \n",
       "11                            0.412040                              0.007490   \n",
       "12                            1.052910                              0.000000   \n",
       "13                           14.619846                              0.000000   \n",
       "14                           27.733432                              0.000000   \n",
       "\n",
       "    Consumo Humano - Fresco - Concha de abanico  \\\n",
       "4                                      1.843072   \n",
       "5                                      2.824749   \n",
       "6                                      0.873130   \n",
       "7                                      0.744610   \n",
       "8                                      2.180252   \n",
       "9                                      0.608160   \n",
       "10                                     0.615910   \n",
       "11                                     0.579750   \n",
       "12                                     0.373700   \n",
       "13                                     1.551366   \n",
       "14                                     1.226521   \n",
       "\n",
       "    Consumo Humano - Fresco - Jurel  Consumo Humano - Fresco - Liza  \\\n",
       "4                         47.079175                       17.311344   \n",
       "5                         10.404933                        9.706363   \n",
       "6                         72.955117                       12.124808   \n",
       "7                         72.930470                       17.162420   \n",
       "8                         54.454541                       12.530821   \n",
       "9                         46.346459                       12.248670   \n",
       "10                        17.536930                       12.463520   \n",
       "11                        12.472050                       15.757580   \n",
       "12                         6.889530                       29.061740   \n",
       "13                        14.720969                       23.326310   \n",
       "14                        40.798701                       24.029820   \n",
       "\n",
       "    Consumo Humano - Fresco - Tollo  total_production  \n",
       "4                          4.057886       6394.982610  \n",
       "5                          4.994712       3810.729233  \n",
       "6                          5.687520       7719.283666  \n",
       "7                          4.235380       4383.587990  \n",
       "8                          3.945647       5418.515737  \n",
       "9                          5.206880       2932.865039  \n",
       "10                         7.717680       4178.338296  \n",
       "11                         9.453130       3151.244230  \n",
       "12                         6.692660       3577.546190  \n",
       "13                         3.672117       6595.587183  \n",
       "14                         1.241883       4122.621249  "
      ]
     },
     "execution_count": 225,
     "metadata": {},
     "output_type": "execute_result"
    }
   ],
   "source": [
    "data_2009_2019.sample_data()"
   ]
  },
  {
   "cell_type": "code",
   "execution_count": null,
   "metadata": {},
   "outputs": [],
   "source": [
    "def sample_data(data, year_init, year_end):\n",
    "    \n",
    "    year_init = data[data.year == year_init].index[0]\n",
    "    year_end = data[data.year == year_end].index[0]\n",
    "    \n",
    "    samp_data = data.iloc[ year_init:year_end+1, : ]\n",
    "    \n",
    "    return samp_data"
   ]
  },
  {
   "cell_type": "code",
   "execution_count": null,
   "metadata": {},
   "outputs": [],
   "source": []
  },
  {
   "cell_type": "code",
   "execution_count": 78,
   "metadata": {},
   "outputs": [
    {
     "name": "stdout",
     "output_type": "stream",
     "text": [
      "\n",
      "PDF: ..\\_data\\144 VIDEO N.° 1.JOY WAY-SCHUTZ.SIN FECHA.COPIA_.pdf\n",
      "Page 1:\n",
      "- - 1 Departamento de Transcripciones  \n",
      "CONGRESO DE LA REPÚBLICA  \n",
      "PRIMERA LEGISLATURA ORDINARIA DE 2001  \n",
      " \n",
      "TRANSCRIPCIÓN DEL VÍDEO S/N  \n",
      " \n",
      "“REUNIÓN DR. - JOY WAY - SCHUTZ”  \n",
      " \n",
      "SIN FECHA  \n",
      " \n",
      "—Se observa que el señor Schutz está en la sala de espera leyendo unos documentos.  \n",
      "—Una persona ingresa a la sala y le hace entrega de un diario.  \n",
      " \n",
      "El señor   .— (?). \n",
      "El señor SCHUTZ. — Gracias.  \n",
      "El señor   .— (?). \n",
      "El señor SCHUTZ. — No, me estoy poniendo al día, muchas gracias.  \n",
      "El señor   .— (?). \n",
      "El señor SCHUTZ. — Ya, gracias.  \n",
      "El señor   .— Permis o. \n",
      "El señor SCHUTZ. — Ya sabe que estoy acá.  \n",
      "El señor   .— Sí, sí, ya le comuniqué.  \n",
      "El señor SCHUTZ. — Estamos esperando a.  \n",
      "El señor   .— Sí, sí, llamó (?).  \n",
      "El señor SCHUTZ. — Ya viene.  \n",
      "El señor   .— Sí, sí, sí, llamó.  \n",
      "El señor SCHUTZ. — (?). \n",
      "El señor   .— Claro, bien, permiso.  \n",
      "—Ingresa un mozo con un vaso de jugo para el señor Schutz.  \n",
      "El MOZO. — Permiso, buenas.  \n",
      "El señor SCHUTZ. — Buenas.  \n",
      "El MOZO. — (?). \n",
      "—En ese lapso cruzan personas por la puerta.  \n",
      "—Después de una espera de aproximadamente 22 minutos ingresa el señor  Víctor Joy Way \n",
      "Rojas portando un maletín, acompañado de un oficial que se retira.  \n",
      "El señor JOY WAY ROJAS. — Maestro.  \n",
      "El señor SCHUTZ. — Hola, ¿cómo estás? (?) el hombre tampoco, ah.  \n",
      "El señor JOY WAY ROJAS. — (?) Tenemos que hacerlo de 6 a 7. (?).  \n",
      "El señor S CHUTZ. — Si, pues.  \n",
      "El señor JOY WAY ROJAS. — ¿Ya le avisaron, no?  \n",
      "\n",
      "Page 2:\n",
      "- - 2 El señor SCHUTZ. — Yo me supongo, yo estoy, llegué un poquito antes, oye.  \n",
      "—El señor Joy Way Rojas sale de la sala y regresa inmediatamente.  \n",
      "El señor SCHUTZ. — Oye, ahora, tu sabes que (?).  \n",
      "El se ñor JOY WAY ROJAS. — (?) congelado (?) un poquito ¿no?  \n",
      "—El señor Joy Way Rojas recibe una llamada telefónica en el celular.  \n",
      "El señor JOY WAY ROJAS. — Aló, ¿de qué? Nada, ya no ya, estoy cambiado.  \n",
      "El INTERLOCUTOR. — (?). \n",
      "El señor JOY WAY ROJAS. — Vivo de mis re ntas. Nada, nada, nada.  \n",
      "Me has mecido, me has mecido, me has mecido.  \n",
      "Claro pues, así es.  \n",
      "Me has mecido, pareces de la oposición, pues.  \n",
      "¿Por qué?  \n",
      "No, no, no. Nunca, no, no, no, de ninguna manera.  \n",
      "Tu has estado con (?).  \n",
      "El INTERLOCUTOR. — (?). \n",
      "El señor JOY WA Y ROJAS. — Ya, yo me acordé, pues, fue su cumpleaños. Sí, pues.  \n",
      "El INTERLOCUTOR. — (?). \n",
      "El señor JOY WAY ROJAS. — Estábamos 5 años ahí.  \n",
      "El INTERLOCUTOR. — (?). \n",
      "El señor JOY WAY ROJAS. — ¿De allá de la Costa Verde?  \n",
      "—Hace su ingreso el señor Vladimiro Montesinos Torres saluda al señor Schutz y le entrega \n",
      "un sobre manila y el señor Schutz le entrega aparentemente un libro y luego una bolsa con \n",
      "dos regalos, aparentemente, que pone sobre la mesa.  \n",
      "—En ese instante inicia un diálogo entre el señor Schutz y el señor Mon tesinos que es \n",
      "ininteligible.  \n",
      "El señor JOY WAY ROJAS. — Fue memorable.  \n",
      "El INTERLOCUTOR. — (?). \n",
      "El señor JOY WAY ROJAS. — ¿A qué hora vas a salir? Puede haber algo entonces ¿no? Tengo \n",
      "cita en ..... que tal ....  \n",
      "Ya. Ah, ya, ya.  \n",
      "Yo te llamo porque tengo una reu nión con el señor Schutz . \n",
      "—Finaliza la conversación telefónica.  \n",
      "El señor SCHUTZ. — Oye, el hecho  de (?) tampoco se hizo la venta, hemos postergado una \n",
      "sólida (?)  \n",
      "Estoy seguro que (?) persona.  \n",
      "Mira, voy a explicarte, hermano. Esta carta tiene un montón de co sas que te quiero explicar \n",
      "rápidamente.  \n",
      "Esta es la carta que yo te mandé.  \n",
      "El señor MONTESINOS TORRES. — Ya. \n",
      "\n",
      "Page 3:\n",
      "- - 3 El señor SCHUTZ. — Ahí te pinta él cómo es, él jura que con esto nos va a fregar.  \n",
      "El señor MONTESINOS TORRES. — Claro.  \n",
      "El señor SCHUTZ. — Y el comentar io es pues que.  \n",
      "—El señor SCHUTZ le hace una seña al señor Montesinos para que cierre la puerta.  \n",
      "El señor MONTESINOS TORRES. — (?). \n",
      "El señor SCHUTZ. — El comentario es este, pues, que dice: “Él se pinta ahí, le se canta ahí, \n",
      "todo (?) cuál es el (?) que está dando ahí (?)  \n",
      "Tengo (?) que va a tumbar todo. Y él lo anda diciendo en los bancos y en todas partes, y me dan \n",
      "la copia, que no me den publicidad, tratando de fregarme económicamente, él lo que me quiere \n",
      "es tumbarme (?) como no puede (?).  \n",
      "Yo le contesté eso  que yo te mandé, con la carta esa que ... no te vayas, que hay el famoso Calila \n",
      "que le ha garantizado y le ha dicho.  \n",
      "Este es el juicio principal, hermano, que usted ha colmado.  \n",
      "El señor MONTESINOS TORRES. — Ya, que está en la Corte Suprema, está pendiente.  \n",
      "El señor SCHUTZ. — Pendiente.  \n",
      "El señor MONTESINOS TORRES. — Con esto bajamos todo.  \n",
      "El señor SCHUTZ. — Con eso baja bastante.  \n",
      "Con eso baja a 70 millones.  Ahí le sigue esto, N.° 2.  \n",
      "El señor MONTESINOS TORRES. — ¿Dónde está eso?  \n",
      "El señor SCHUTZ. — Eso está en.  \n",
      "El señor MONTESINOS TORRES. — Eso está (?).  \n",
      "El señor SCHUTZ. — Sí que es una de las acciones (?) que complementa, este con este.  \n",
      "El señor MONTESINOS TORRES. — Ya. \n",
      "El señor SCHUTZ. — (?). \n",
      "—El señor Joy Way se retira de la sala.  \n",
      "El señor SCHUTZ. — Este y éste son l os básicos, después sigue este de acá que ya dice (?) este \n",
      "ya está, mira, es una zoncera (?) este es una ratificación (?) de incautación que Genaro quiere \n",
      "para que.  \n",
      "El señor MONTESINOS TORRES. — No contraten.  \n",
      "El señor SCHUTZ. — Entonces ahí está todo, se tie ne que, simplemente ratificar, me entiendes, \n",
      "le piden a él ya que ratifique pues lo que en su mayoría y el (?).  \n",
      "El señor MONTESINOS TORRES. — (?) es abogado (?).  \n",
      "El señor SCHUTZ. — Es el abogado que él presentó.  \n",
      "Acá está, hermano, la demanda de cumplimiento  de contrato el que presentó tu tocayo; (?) este \n",
      "está en un proceso iniciado el juicio en el (?) juzgado.  \n",
      "Este está iniciado este juicio por 30 millones de dólares, esto no sé si se lo va admitir. Quizás no \n",
      "lo admita, está todo medio asustado.  \n",
      "El señor MON TESINOS TORRES. — El juez.  \n",
      "El señor SCHUTZ. — Y éste, este es otra cosa, el juez es un tal Soberón, está asustado, hasta \n",
      "ayer me decían que iba a firmar.  \n",
      "\n",
      "Page 4:\n",
      "- - 4 Como tu me dijiste tráeme todo y esto es urgente para los Registros Públicos. Es una llamadita: \n",
      "“Oye, (? ) es asunto de Panamericana”  \n",
      "El señor MONTESINOS TORRES. — ¿Tienes lapicero?  \n",
      "El señor SCHUTZ. — Cortamos, le cortamos, le cortamos, hermano, la posibilidad de que me \n",
      "tire el local.  \n",
      "Y eso Medelius ha estado viendo eso, o sea que tu puedes preguntarle, yo lo v i a Medelius y me \n",
      "estuvo ayudando.  \n",
      "El señor MONTESINOS TORRES. — No, no, no, así no más.  \n",
      "El señor SCHUTZ. — Este es una ayuda memoria (?) Esta es la demanda (?).  \n",
      "Claro, este es el, este es esto.  \n",
      "El señor MONTESINOS TORRES. — Ah, ya, ya.  \n",
      "El señor SCHUTZ. — Le hemos aumentado, ¿qué pasa?  \n",
      "Cuando, él está queriendo registrar esto, cuando nosotros le metimos iniciamos este juicio.  \n",
      "El señor MONTESINOS TORRES. — Ya. \n",
      "El señor SCHUTZ. — Nosotros le hemos metido un adicional en donde metemos, tenemos que \n",
      "al querer comprar este local, lo ha comprado por solo para, para, aumentar (?).  \n",
      "—El señor Joy Way regresa a la sala.  \n",
      "El señor JOY WAY ROJAS. — (?) se puede, ¿no?.  \n",
      "El señor MONTESINOS TORRES. — Claro.  \n",
      "El señor SCHUTZ. — Oye, y acá está este, tú tienes que darle el pase de este penal.  \n",
      "El señor MONTESINOS TORRES. — Ah, este es el clave.  \n",
      "El señor SCHUTZ. — Este es el que tu me dijiste, “dame el proyecto”  \n",
      "El señor MONTESINOS TORRES. — Sí, sí, sí.  \n",
      "El señor SCHUTZ. — Ya este es el proyecto.  \n",
      "El señor MONTESINOS TORRES. — Ya, perfecto.  \n",
      "El se ñor SCHUTZ. — Tú solamente me dices, yo ya tengo el abogado que es un abogado \n",
      "Leguía, creo se llama Leguía, no sé.  \n",
      "El señor MONTESINOS TORRES. — Está bonito, ah.  \n",
      "El señor SCHUTZ. — Ureta, Ureta.  \n",
      "El señor MONTESINOS TORRES. — No, no, lo que interesa es que sea abogado.  \n",
      "El señor SCHUTZ. — Tu me dijiste de eso pues, tú solamente de acá me guías, esto es paseito \n",
      "(?). \n",
      "El señor MONTESINOS TORRES. — (?). \n",
      "El señor SCHUTZ. — (?) No aparezco yo, yo le doy el poder a él, que cobre.  \n",
      "El señor MONTESINOS TORRES. — ¿Quién es el a poderado? No, en penal quién es el \n",
      "apoderado de Panamericana? O sea representó.  \n",
      "El señor SCHUTZ. — No, yo le doy. Mira como es la.  \n",
      "El señor MONTESINOS TORRES. — ¿Le das poder a quién?  \n",
      "El señor SCHUTZ. — Yo le doy poder al abogado para que cobre.  \n",
      "El señor MONT ESINOS TORRES. — No, no, no, pero en este proceso penal quién va \n",
      "\n",
      "Page 5:\n",
      "- - 5 anunciar Panamericana (?) por su apoderado  \n",
      "El señor SCHUTZ. — No, no, yo le doy, yo no, yo le doy el apoderado a éste, al abogado.  \n",
      "El señor MONTESINOS TORRES. — Ah, (?).  \n",
      "El señor SCHUTZ. — No, no , todavía yo estoy, tu me tienes  que decir tú lo miras, mira y el \n",
      "planteamiento es que yo le doy a él  \n",
      "El señor MONTESINOS TORRES. — El poder.  \n",
      "El señor SCHUTZ. — El poder para que cobre.  \n",
      "El señor MONTESINOS TORRES. — Ya. \n",
      "El señor SCHUTZ. — Y él para cobrar le m ete el juicio penal, los 400 mil dólares por este \n",
      "fundamento. Ya es problema de él, pues (?).  \n",
      "El señor MONTESINOS TORRES. — Tu le das poder a él para iniciar las acciones penales y \n",
      "civiles (?) entonces ahí.  \n",
      "El señor SCHUTZ. — Para cobrar, en cobranza yo le d oy a él que cobre, nada más. Y le doy \n",
      "poder para que haga las acciones que crea conveniente, y él, carajo, se (?).  \n",
      "El señor MONTESINOS TORRES. — Se mete con él.  \n",
      "El señor SCHUTZ. — Entonces y él es que aparece (?) ¿Lo entiendes?  \n",
      "El señor MONTESINOS TORRES. — Ya. \n",
      "El señor SCHUTZ. — Ya ahí ya no me meto yo personalmente con él.  \n",
      "El abogado pues se metió a la cana, mano.  \n",
      "Después esto ya son (?) acá está todo tienes dos más que están allí (?) Y estas de acá todas las de \n",
      "Manuel.  \n",
      "El señor MONTESINOS TORRES. — Ya. \n",
      "El señ or SCHUTZ. — Sin embargo, esto es plata, hermano, que lo chocamos con el bolsillo este \n",
      "pata lo obligamos. Parece no le ha salido una vaina, pero parece que han ido por otro lado creo \n",
      "que van a (?) y este, hermano, él, bueno de hace años (?)  \n",
      "—El señor Montes inos Torres se pone de pie y sale de la sala.  \n",
      "El señor JOY WAY ROJAS. — Ya. \n",
      "El señor SCHUTZ. — (?) entramos juntos.  \n",
      "El señor JOY WAY ROJAS. — (?) Genaro.  \n",
      "—El señor Montesinos Torres regresa a la sala.  \n",
      "El señor SCHUTZ. — (?) a Genaro, (?) yo no soy aliado de Ma nuel, su padre (?) y este es el de \n",
      "Manuel que es bueno y que lo quiere quitar, pues (?) 80 millones en todos los juicios ¿no? en \n",
      "todos los juicios.  \n",
      "(?) lo arrinconamos (?).  \n",
      "El 4 si se está mandando está (?).  \n",
      "El señor MONTESINOS TORRES. — (?). \n",
      "El señor SCHU TZ.— Sacó a Utilísimas (?) después lo sacó a (?).  \n",
      "El señor JOY WAY ROJAS. — Esa parte ya está, ya hemos cuadrado.  \n",
      "El señor SCHUTZ. — ¿Ya lo han cuadrado ya?  \n",
      "El señor JOY WAY ROJAS. — Claro (?).  \n",
      "\n",
      "Page 6:\n",
      "- - 6 El señor SCHUTZ. — Desahuévenlo, que dasahueve porque el papá se l a da de bacán, lo lleva a \n",
      "Genaro, hace cojudeces, se la quiere dar de.  \n",
      "El señor JOY WAY ROJAS. — Este es una buena forma de manejar.  \n",
      "—El señor Joy Way muestra el titular de un periódico.  \n",
      "El señor SCHUTZ. — Eso es.  \n",
      "El señor JOY WAY ROJAS. — Marcan acá y le met en el titular.  \n",
      "El señor MONTESINOS TORRES. — Para ver.  \n",
      "El señor SCHUTZ. — Pero yo lo llevé a este y le sacó la mierda a Andrade.  \n",
      "El señor JOY WAY ROJAS. — Mira, ahí está titular y (?).  \n",
      "El señor SCHUTZ. — Bueno, ya tu no me dejas. Yo le metí y con este mismo en  Buenos Días le \n",
      "saco la mierda, le dijo que era un farsante y que tenían (?).  \n",
      "El señor JOY WAY ROJAS. — Cuando tu fuiste a (?) que ya lo estaban cochineando a \n",
      "Andrade en el (?).  \n",
      "El señor SCHUTZ. — Sí. \n",
      "El señor JOY WAY ROJAS. — Claro, entonces, uno va agarrand o \n",
      "El señor SCHUTZ. — Poquito, poquito a poco.  \n",
      "Bueno, yo voy a empezar (?).  \n",
      "El señor JOY WAY ROJAS. — Ese de Armas es un programón. Es un programón que llega no \n",
      "te imaginas cuánto, es (?) bien manejadito es un arma buenísimas.  \n",
      "Yo estoy (?).  \n",
      "El señor SCHUTZ. — Eso lo hago yo cuando nací (?).  \n",
      "El señor JOY WAY ROJAS. — Tu tienes para (?).  \n",
      "El señor SCHUTZ. — (?) en el manejo, estamos bien en pareja ¿no?  \n",
      "Nos apoyamos, carajo,  Panamericana y RPP es una empresa de la (?).  \n",
      "El señor JOY WAY ROJAS. — (?) Todo, todo.  \n",
      "—Timbra  el teléfono y contesta el señor Schutz.  \n",
      "El señor SCHUTZ. — Aló.  \n",
      "El señor INTERLOCUTOR. — (?). \n",
      "El señor SCHUTZ. — Sí.  \n",
      "El señor INTERLOCUTOR. — (?). \n",
      "El señor SCHUTZ. — No oye. No, no.  \n",
      "El señor INTERLOCUTOR. — (?). \n",
      "El señor SCHUTZ. — Tu tendrías que llevarla, pue s, mañana a Bucarén.  \n",
      "El señor INTERLOCUTOR. — (?). \n",
      "El señor SCHUTZ. — Mi oficina allá en Camacho.  \n",
      "El señor INTERLOCUTOR. — (?). \n",
      "El señor SCHUTZ. — Bucarén 598 a las 9, pues, ¿ya? 598.  \n",
      "El señor INTERLOCUTOR. — (?). \n",
      "El señor SCHUTZ. — A partir de las 9 y media pue s. \n",
      "\n",
      "Page 7:\n",
      "- - 7 El señor INTERLOCUTOR. — (?). \n",
      "El señor SCHUTZ. — Es en la cuadra 52 de la avenida Javier Prado, en esa esquina.  \n",
      "—Termina conversación telefónica.  \n",
      "Bueno, ahí está todo, oye (?) todos mis problemas pues hermano (?) hoy día me reuní con mi \n",
      "gente (?) algunas cosas.  \n",
      "El señor JOY WAY ROJAS. — Habla bien de dónde (?).  \n",
      "El señor MONTESINOS TORRES. — (?). \n",
      "El señor SCHUTZ. — Yo le dije que, entro y salgo poco a poco. Yo le dije, mire ve, primero \n",
      "que ya esta vaina (?) a Panamericana le entregan un terreno.  \n",
      "El señor MONTE SINOS TORRES. — Sí. \n",
      "El señor SCHUTZ. — De 2 metros, en canje que cambie de una expropiación de hace un huevo \n",
      "de años. (2) \n",
      "Yo voy a hablar con él hace 13 años, con (?) es un cerro pasando La Molina, ahí le había dado su \n",
      "adjudicación (?) 3 años (?) trabajar, t engo un montón de tiempo ¿quién llama? ¿quién vuelve? (?) \n",
      "que quiere que no se haga nada (?)  \n",
      "El señor JOY WAY ROJAS. — (?) Cuando no haya (?).  \n",
      "El señor SCHUTZ. — No, no, no, él se llama, él dice voy a inaugurar tal cosa y (?).  \n",
      "El señor JOY WAY ROJAS. — Ah, ya , ya, claro. Se llama a.  \n",
      "El señor SCHUTZ. — Pero él tiene (?) una observación, la otra vez pasada hablamos. Yo le digo \n",
      "oiga ¿Qué pasa? le digo si hoy día el gobierno no está inaugurando nada, no está  haciendo nada \n",
      "(?)no hay gobierno. Usted no ve qué está qu e está haciendo, carajo, los ministros, qué está \n",
      "haciendo Salud, que le informe (?). Claro, me ha dicho que ... instala nada, no dice nada ...  \n",
      "El señor JOY WAY ROJAS. — (?). \n",
      "El señor SCHUTZ. — Oye ya hay una actividad, bueno ¿no? (?).  \n",
      "El señor JOY WAY ROJAS .— Pero también es verdad que.  \n",
      "El señor SCHUTZ. — Nada, porque el ministro dice oye que el ministro va para Talado, que \n",
      "inauguró, tal vaina qué está haciendo (?) el otro no hace nada.  \n",
      "El señor JOY WAY. — Hoy día el Presidente ha inaugurado 2 tramos buenos.  \n",
      "El señor SCHUTZ. — (?). \n",
      "El señor JOY WAY ROJAS. — No, está bien. Me refiero (?).  \n",
      "El señor SCHUTZ. — (?) diferente es una actividad (?) y yo le digo cómo, no hay nada.  \n",
      "El señor MONTESINOS TORRES. — No, no, pero, pero ahí, ahí no se puede decir la \n",
      "recordación eso  es el activo del gobierno.  \n",
      "El señor SCHUTZ. — Eso es otro (?) son las noticias diarias. Estábamos hablando con (?) que \n",
      "hay golpear poquito a poco (?).  \n",
      "El señor MONTESINOS TORRES. — Sorpresivamente.  \n",
      "El señor SCHUTZ. — Y tú por tu lado el Congreso acá allá, en tonces qué pasa 20 noticias \n",
      "buenas, 2, 3 malas, pero 20 buenas.  \n",
      "El señor MONTESINOS TORRES. — ¿Yo, por qué? Vas a decir?  \n",
      "El señor SCHUTZ. — Nada, nada, sólo lo que hace el Presidente, el Presidente, nada más que el \n",
      "Presidente (?) que ha hecho esto, que ha h echo el otro. Pezúa me decía que se había ido por \n",
      "caballo, no sé cuánto por el otro lado (?) hace poco y yo le digo oye y tú has dicho la (?) carajo \n",
      "\n",
      "Page 8:\n",
      "- - 8 todo subterráneo, bueno es que yo le dije a no se quien que no sé. Está bien (?) sino sacan \n",
      "ustedes de dónd e (?) yo lo voy a inventar.  \n",
      "Después, ahora sí (?) ya te voy a ir armando toda tu vaina (?).  \n",
      "Yo lo que tenía, yo lo que quiero es primero que me apoyen fuerte, pues, acá.  \n",
      "El señor MONTESINOS TORRES. — No, la clave está en esto, en enero y tú sabes que no \n",
      "falta nada.  \n",
      "El señor SCHUTZ. — ¿Quiénes van? (?).  \n",
      "El señor MONTESINOS TORRES. — No, no, no el 2 de enero (?).  \n",
      "El señor JOY WAY ROJAS. — Tal vez (?) la trampa del off side, después que iba a meter el \n",
      "gol, queda en off side.  \n",
      "—El señor Montesinos Torres se retira  de la sala.  \n",
      "El señor SCHUTZ. — Claro, lo sacamos de allí los 2, bueno esos 2 principales, después ya \n",
      "bueno en la medida que vamos. Después qué posibilidades le ve usted lo de la deuda. (?)  \n",
      "El señor JOY WAY ROJAS. — (?) Acá también hay que ser un poquito.  \n",
      "El señor SCHUTZ. — No, no, pero estás viendo ¿no? (?) el único que habla es Víctor Joy Way, \n",
      "Víctor Joy Way y el Presidente. ¡Por Dios¡ No hay otro señor, como usted quiere que traigamos \n",
      "más notas. Nada, nada, pero nada, compañero, nada, nada.  \n",
      "El señor JOY WAY  ROJAS. — (?) ya está en el Proyecto N.° 31000.  \n",
      "El señor SCHUTZ. — Parece que estuviese, pues, en otro lado. Un cacareo lo que hace señor, \n",
      "pero todos tienen su departamento de prensa. Te puede llamar señor, está yendo el ministro, \n",
      "están yendo a tal sitio, (? ) o en todo caso el Presidente quiera (?) tú vas a lo tuyo, ¿no? Poder \n",
      "Judicial lo tuyo, tú poquito a poco, toda la semana (?) noticia, hermano, yo te la voy a poner, a \n",
      "parte de lo que tú (?) Tú me dijiste que yo como administré (?).  \n",
      "El señor JOY WAY ROJAS .— (?). \n",
      "El señor SCHUTZ. — Después dice que le han dado el 4 a un (?).  \n",
      "—El señor Schutz recibe una llamada telefónica en su celular.  \n",
      "El señor SCHUTZ. — Aló. Sí. No, yo ya hablé con su papá. Muchas gracias, gracias.  \n",
      "—Fin de la conversación telefónica.  \n",
      "El seño r JOY WAY ROJAS. — (?) en la forma (?).  \n",
      "El señor SCHUTZ. — Pero esto es más, porque esto es escrito.  \n",
      "El señor JOY WAY ROJAS. — Claro.  \n",
      "El señor SCHUTZ. — El otro se lo lleva el viento, el otro se lo lleva el viento, tú no lo ves pues, \n",
      "pasa, pasa, pasa, queda. L o que pasa es que esto lo leen 80 mil ... \n",
      "El señor JOY WAY ROJAS. — Claro (?).  \n",
      "El señor SCHUTZ. — (?) toda la noche lo ven 800 mil. (?) y comenta, ¿no? O sea, yo soy el \n",
      "mal. Oye, fulano me ha dicho tal cosa.  \n",
      "(?) la cosa que quería ver.  \n",
      "Bueno, yo tengo eso, te nía la... quiero ir con todo.  \n",
      "Lo del Canal 13 yo sigo, ¿no?  \n",
      "El señor JOY WAY ROJAS. — Ah ya.  \n",
      "El señor SCHUTZ. — Tú sabes (?) con los españoles (?) no hay otra forma de arreglar con los \n",
      "\n",
      "Page 9:\n",
      "- - 9 españoles.  \n",
      "El señor JOY WAY ROJAS. — ¿Y con Gonzales?  \n",
      "El señor SCHUTZ. — ¿Gonzales? (?).  \n",
      "¡Cuidado con Gonzales, ¡ah¡ Sí hay que tener cuidado; quería decirle justamente acá porque \n",
      "Domingo Palermo y Gonzales andan juntos. Pero Gonzales es un tipo bien (?) ni Palermo lo va a \n",
      "poder controlar, porque le está tratando de vender el 25%  del 13 y nada. Y se ha comprado el 9; \n",
      "o sea, ha agarrado el 9.  \n",
      "El señor JOY WAY ROJAS. — Ah, ya.  \n",
      "El señor SCHUTZ. — Ah, el 9. Te acuerdas que yo te decía (?) hablé con Julio, lo hice venir y \n",
      "todo, lo hice venir y todo.  \n",
      "—Ingresa el señor Vladimiro Montesinos  Torres con un maletín y un fólder.  \n",
      "El señor MONTESINOS TORRES. — (?). \n",
      "El señor SCHUTZ. — (?). \n",
      "El señor MONTESINOS TORRES. — Los 2 meses.  \n",
      "El señor SCHUTZ. — No, (?).  \n",
      "—El señor Vladimiro Montesinos Torres abre el maletín y saca un papel.  \n",
      "El señor SCHUTZ. — Yo lo llevo acá.  \n",
      "El señor MONTESINOS TORRES. — No, de acá lo puede llevar ahí.  \n",
      "El señor SCHUTZ. — Uyuyuy.  \n",
      "—El señor Vladimiro Montesinos Torres saca 3 fajos de 100 mil, uno de 40 mil y otro de diez \n",
      "mil dólares.  \n",
      "El señor MONTESINOS TORRES. — Esto es 100.  \n",
      "El señor SCHUTZ. — Una vaina, qué tal vaina.  \n",
      "El señor MONTESINOS TORRES. — Acá 200; 300; 10; 20; 30; 40 y 50. Son dos meses.  \n",
      "Te ha servido la...  \n",
      "El señor SCHUTZ. — Sí, sí, (?).  \n",
      "El señor MONTESINOS TORRES. — No, la bolsita te ha servido (?) ahí.  \n",
      "El señor SCHUTZ. — Claro pues.  \n",
      "El señor MONTESINOS TORRES. — Está más disimulada que este maletón negro.  \n",
      "El señor SCHUTZ. — (?). \n",
      "El señor MONTESINOS TORRES. — Está llevando vino.  \n",
      "El señor SCHUTZ. — Sí. \n",
      "El señor MONTESINOS TORRES. — Y me favorece porque me dejas mi maletincito.  \n",
      "El señor  SCHUTZ. — Sí, (?).  \n",
      "El señor MONTESINOS TORRES. — Entonces, acá estamos al día.  \n",
      "El señor SCHUTZ. — Sí estamos al día.  \n",
      "El señor MONTESINOS TORRES. — Noviembre y diciembre.  \n",
      "El señor SCHUTZ. — Ya. \n",
      "El señor MONTESINOS TORRES. — Noviembre y diciembre. O sea, estamos cumpliendo \n",
      "\n",
      "Page 10:\n",
      "- - 10 contigo, y encima de eso...  \n",
      "El señor SCHUTZ. — (?). \n",
      "El señor MONTESINOS TORRES. — Claro, encima de eso (?).  \n",
      "El señor SCHUTZ. — (?). \n",
      "El señor MONTESINOS TORRES. — ... me voy a responsabilizar de estas 2 cosas. Este... en \n",
      "el mes de enero, los primeros  días vemos lo que más nos interesa, lo de la Sala Civil Permanente, \n",
      "que es el fondo del asunto.  \n",
      "El señor SCHUTZ. — Claro, los dos, A y B (?).  \n",
      "El señor MONTESINOS TORRES. — Claro. Se ve el tema de la casación sin entrar a imputar, \n",
      "entra al fondo el tema y es o se solucionó casi el 60 ó 70% (?).  \n",
      "El señor SCHUTZ. — Claro. (?) pero lo de la ley queda cero.  \n",
      "El señor MONTESINOS TORRES. — Ya queda cero.  \n",
      "El señor SCHUTZ. — Bueno, queda la otra, ésta es la que te estoy diciendo, ésta es la que te \n",
      "estoy pidiendo.  \n",
      "El señor  MONTESINOS TORRES. — Claro, ya.  \n",
      "El señor SCHUTZ. — (?) ésta que (?).  \n",
      "El señor MONTESINOS TORRES. — Sí. \n",
      "El señor SCHUTZ. — (?). \n",
      "El señor MONTESINOS TORRES. — (?). \n",
      "El señor SCHUTZ. — ¿(?) en detalle todo eso?  \n",
      "El señor MONTESINOS TORRES. — Sí. \n",
      "El señor SCHUTZ. — (?). \n",
      "El señor MONTESINOS TORRES. — No, no, sí. Yo voy a hablar con él.  \n",
      "El señor SCHUTZ. — O sea, él conoce cómo es eso. (?) él sabe cómo hizo todas sus cuestiones.  \n",
      "Oye, dime una cosa, ¿él siempre (?)?  \n",
      "El señor MONTESINOS TORRES. — Sí, siempre está.  \n",
      "El señor SCH UTZ. — Está hablando con Manuel y eso; ¿no hay problema, no?  \n",
      "El señor MONTESINOS TORRES. — No, no hay problema.  \n",
      "El señor SCHUTZ. — Yo no he hablado con él, porque...  \n",
      "El señor MONTESINOS TORRES. — No, no, no hay problema, porque ya me estás hablando \n",
      "a mí, ya yo  \n",
      "El señor SCHUTZ. — (?). \n",
      "El señor MONTESINOS TORRES. — Ahora, con Manuel también te vamos a citar, porque \n",
      "también hemos llegado a un...  \n",
      "El señor SCHUTZ. — Un acuerdo.  \n",
      "El señor MONTESINOS TORRES. — ... a un acuerdo con él y...  \n",
      "El señor SCHUTZ. — Yo no le he cont ado nada.  \n",
      "El señor MONTESINOS TORRES. — No, no, no, nada. Pero...  \n",
      "El señor JOY WAY ROJAS. — (?). \n",
      "\n",
      "Page 11:\n",
      "- - 11 El señor SCHUTZ. — No, él me pregunta a mí, yo le digo: hermano, yo no tengo nada de nada.  \n",
      "El señor MONTESINOS TORRES. — Pero te contamos para que veas...  \n",
      "El señor  SCHUTZ. — Ya, sí, sí.  \n",
      "El señor MONTESINOS TORRES. — ... que también nosotros somos serios y no solamente \n",
      "(?) a él.  \n",
      "El señor SCHUTZ. — No, yo sé, yo sé.  \n",
      "El señor MONTESINOS TORRES. — Entonces, vamos a conversar con él. Ya hemos \n",
      "conversado con Víctor.  \n",
      "El señor SCHUTZ. — Bueno, no, prefiero más que...  \n",
      "El señor MONTESINOS TORRES. — Pero él no tiene por qué saber las magnitudes ni niveles \n",
      "de los detalles.  \n",
      "El señor SCHUTZ. — Nada, nada. No, no (?) nada.  \n",
      "El señor MONTESINOS TORRES. — Nada. Mira, hermano, (?) contigo, ya hemos \n",
      "conversado, ni tiene por qué hablar de ti ni de nadie.  \n",
      "El señor SCHUTZ. — Nada, nada. Ni le digas nada.  \n",
      "Oye, mira.  \n",
      "El señor MONTESINOS TORRES. — Sí. \n",
      "El señor SCHUTZ. — Por qué la SUNAT y el IPS golpean tanto a Panamericana...  \n",
      "El señor MONTESINOS TORRES .— ¿Quién es la IPS, ah?  \n",
      "El señor SCHUTZ. — El Instituto de Seguridad Social.  \n",
      "El señor MONTESINOS TORRES. — ¿En qué sentido?  \n",
      "El señor SCHUTZ. — (?) por gusto (?).  \n",
      "El señor MONTESINOS TORRES. — Bueno, hermano, mira, por eso tu tranquilízate.  \n",
      "El señor SCHUTZ. — (?) nada, ah.  \n",
      "El señor MONTESINOS TORRES. — Tú te tienes que tranquilizar. A partir del 1 de enero \n",
      "vamos a regularizarlo todo en todo el esquema; en el ámbito judicial, en el ámbito de imagen, en \n",
      "el ámbito del apoyo económico, en todo ese tipo de problemas. Ya no pienses en la SUNAT o el \n",
      "IPSS, ya eso a partir de enero lo regularizamos.  \n",
      "El señor SCHUTZ. — Ya. \n",
      "El señor MONTESINOS TORRES. — Entonces, eso, digamos, es una cosa que Víctor y yo \n",
      "nos encargamos.  \n",
      "El señor SCHUTZ. — Ya. \n",
      "El señor MONTESINOS TORRES. — Y tú v as sobre la base de los tres objetivos que Víctor te \n",
      "ha conversado.  \n",
      "El señor SCHUTZ. — No, yo estoy trabajando en eso. Ya te tengo ya. Mira tú, ayer hemos \n",
      "hablado y hoy día ya te estoy trayendo toda una (?).  \n",
      "El señor MONTESINOS TORRES. — O sea, ...  \n",
      "El señor SCHUTZ. — (?) una maquinaria.  \n",
      "El señor MONTESINOS TORRES. — Claro, o sea.  \n",
      "El señor SCHUTZ. — Inventar vainas es difícil.  \n",
      "\n",
      "Page 12:\n",
      "- - 12 El señor MONTESINOS TORRES. — No, no, claro. Por eso te digo, este, Castañeda cero.  \n",
      "El señor SCHUTZ. — Yo lo bajé, (?).  \n",
      "El señor MONTESINOS TORRES. — No aparece.  \n",
      "El señor SCHUTZ. — No, ya (?).  \n",
      "El señor MONTESINOS TORRES. — Ya, ¿y Andrade? Hay que darle...  \n",
      "El señor SCHUTZ. — Bajar, sí.  \n",
      "El señor MONTESINOS TORRES. — ...lo mínimo posible.  \n",
      "El señor SCHUTZ. — Bueno, Castañeda va a llegar su momento, va a  (?) nada.  \n",
      "El señor MONTESINOS TORRES. — Bueno, se le da pues un minuto.  \n",
      "El señor SCHUTZ. — No, no. Ahí no (?).  \n",
      "El señor JOY WAY ROJAS. — Cuando vaya la clave es (?) tiene que ir, tiene que ir; pero ya \n",
      "viene la forma de entrevistar. También hay que (?).  \n",
      "El se ñor SCHUTZ. — Pero alguien debería (?) habría que ver qué cosa pasó. Por ejemplo, hoy \n",
      "día también hablaron de Castañeda en la reunión. Ahora me dice, del señor Castañeda: ya no, \n",
      "párelo ahí.  \n",
      "El señor JOY WAY ROJAS. — Ah, también (?).  \n",
      "El señor SCHUTZ. — No, no,  no, pero va a seguir (?).  \n",
      "El señor JOY WAY ROJAS. — Ah, ya.  \n",
      "El señor SCHUTZ. — No, no (?). Es que ha estado...  \n",
      "El señor MONTESINOS TORRES. — Sí, claro.  \n",
      "El señor SCHUTZ. — Ha estado llamando, entonces ellos preguntan. Yo le dije: mira, déjalo \n",
      "todavía (?) su fi rma (?), déjelo ahí nomás (?).  \n",
      "Además no es gran cosa el pata, le dije, porque yo, de verdad pues, un día yo me voy de \n",
      "Paramonga y lo veo pues administrando la cosa. Y me dice: acá estoy (?) pobre gente. Entonces, \n",
      "en eso caminando por ahí, yo le digo: (?) está parada. Sí, me dice, no tengo un repuesto (?).  \n",
      "El señor JOY WAY ROJAS. — Tienes que decir que (?).  \n",
      "El señor SCHUTZ. — Yo soy el (?).  \n",
      "El señor MONTESINOS TORRES. — (?) usted use un sentido de la lógica...  \n",
      "El señor JOY WAY ROJAS. — (?) el producto que él ve nde donde vaya es él.  \n",
      "El señor MONTESINOS TORRES. — Claro.  \n",
      "El señor JOY WAY ROJAS. — Donde vaya.  \n",
      "El señor SCHUTZ. — Pero hay que sacar un poco el destape del Seguro; nadie dijo nada.  \n",
      "El señor MONTESINOS TORRES. — No, tenemos un montón de información para el \n",
      "momento adecuado.  \n",
      "El señor SCHUTZ. — Claro.  \n",
      "El señor MONTESINOS TORRES. — Hay manejos...  \n",
      "El señor SCHUTZ. — Pero, la información me tienes que dar, no al 4 que te ha traicionado. \n",
      "Algo para mi Panorama . \n",
      "El señor MONTESINOS TORRES. — No, te voy a dar para tu Pano rama . Mira, hay un trabajo \n",
      "bueno que estamos haciendo.  \n",
      "\n",
      "Page 13:\n",
      "- - 13 El señor SCHUTZ. — (?). \n",
      "El señor MONTESINOS TORRES. — Estoy haciendo uno... los últimos dos que cayeron de \n",
      "Sendero Luminoso, la mujer y el maestro, que son de Feliciano, están ya en contacto con \n",
      "Guzmán. Y Guzmán ya los ha convencido para que salgan a la televisión a criticar a Feliciano y \n",
      "digan que es un traidor. Entonces, lo sacas tú.  \n",
      "El señor SCHUTZ. — Ya. \n",
      "El señor MONTESINOS TORRES. — Entonces, tú designas una persona de Panamericana (3) \n",
      "para que lo llev e yo al penal y le hace un pliego, le preparamos un pliego de preguntas \n",
      "coordinado, hacemos el ensayo. Y le hago las preguntas antes, lo ensayo. Y después te entrego a \n",
      "ti las preguntas, y tú le dices: oye, quiero que hagas estas preguntas.  \n",
      "El señor SCHUTZ. — Tú ni intervengas.  \n",
      "El señor MONTESINOS TORRES. — Nada.  \n",
      "El señor SCHUTZ. — Tú no aparezcas.  \n",
      "El señor MONTESINOS TORRES. — Para nada, para nada.  \n",
      "El señor SCHUTZ. — Ya. \n",
      "El señor MONTESINOS TORRES. — Éstas son las preguntas y no debe salirse de ese (?).  \n",
      "El señor SCHUTZ. — No, no, porque, claro...  \n",
      "El señor MONTESINOS TORRES. — Entonces van allá...  \n",
      "El señor SCHUTZ. — Tiene que hacer lo que le digo.  \n",
      "El señor MONTESINOS TORRES. — Claro, claro. Éstas son las preguntas que le hacen y él \n",
      "que haga sus respuestas; pero las res puestas ya le he entrenado.  \n",
      "El señor SCHUTZ. — Claro.  \n",
      "El señor MONTESINOS TORRES. — Entonces, ésa es una buena primicia. Sale un tipo \n",
      "diciendo que Feliciano es traidor tal cuál, esto que (?). Este es el asunto.  \n",
      "El señor SCHUTZ. — Ahora tú sabes que te estoy h aciendo el proyecto de Ecuador ¿no?  \n",
      "El señor MONTESINOS TORRES. — Sí. \n",
      "El señor SCHUTZ. — Lo está haciendo Mónica Delta (?); qué bueno que lo haga una persona \n",
      "que no sea, y se está haciendo bien, se está haciendo bien. Y al final va a ser favorable para el \n",
      "Presidente, porque el Presidente va a ser el héroe.  \n",
      "El señor MONTESINOS TORRES. — Así es.  \n",
      "El señor SCHUTZ. — Toda esta vaina (?) y al final aparece pues el Presidente. Allí  van a tener \n",
      "que conseguir una cita. Creo que al Presidente no le gusta mucho Mónica.  \n",
      "El señor JOY WAY ROJAS. — No, bueno, ya le toca una (?)  \n",
      "El señor SCHUTZ. — (?) no tiene.  \n",
      "El señor JOY WAY ROJAS. — Ya le toca una (?). \n",
      "El señor SCHUTZ. — No a fregar pues. Tiene que armas una cosa y  además que se vea bien \n",
      "pues, que se vea bien hecho la pregunta.  \n",
      "El señor MONTESINOS TORRES. — Claro.  \n",
      "El señor SCHUTZ. — O en todo caso que nos diga cómo quiere, ya yo la preparo a Mónica sin \n",
      "decirle nada, le digo: mira, pregúntale por acá, no le preguntes por allá. Yo le digo.  \n",
      "El señor MONTESINOS TORRES. — Lógico.  \n",
      "\n",
      "Page 14:\n",
      "- - 14 El señ or SCHUTZ. — No, no. Me gustaría (?). \n",
      "El señor MONTESINOS TORRES. — Claro.  \n",
      "El señor SCHUTZ. — Ya. Después (?). Porque yo todos  los días hablo con ellos, todos los días. \n",
      "Pero por ahí se me escapan algunas cosas; porque, carajo, tengo pues 38 reporteros en el P erú y \n",
      "600 en provincias, ya no agarro, agarro sólo unos jefecitos que (?).  \n",
      "Cualquier cosa me avisan, yo vengo para acá.  \n",
      "El señor MONTESINOS TORRES. — Sí. Ya llegaron los teléfonos, por si acaso.  \n",
      "El señor SCHUTZ. — Ah ya.  \n",
      "El señor MONTESINOS TORRES .— Ya lleg aron, ya me llegaron los teléfonos, estoy ahorita \n",
      "haciendo la cuestión. El día lunes tengo (?) teléfonos encriptados.  \n",
      "El señor SCHUTZ. — Ya. \n",
      "El señor MONTESINOS TORRES. — El lunes te voy a llamar. Te llevas en tu maletín, llegas \n",
      "a tu oficina, acá te enseño c ómo lo manejas.  \n",
      "El señor SCHUTZ. — Ya, yo lo hago.  \n",
      "El señor MONTESINOS TORRES. — Lo enchufas en tu oficina, cuando te vas lo sacas y te lo \n",
      "llevas a tu casa. (?) en tu casa, en tu oficina, en la playa, en lo que quieras.  \n",
      "El señor SCHUTZ. — Ya. \n",
      "El señor MONTESI NOS TORRES. — Te vas a la provincia, igual te llevas y lo enchufas.  \n",
      "El señor SCHUTZ. — Bueno, en la playa no tengo teléfono.  \n",
      "El señor JOY WAY ROJAS. — Qué raro  (?).  \n",
      "El señor SCHUTZ. — Ah sí, no, para no, para poder andar tranquilo.  \n",
      "El señor MONTESINOS TORRES. — Tú también te llevas uno (?) en tu carro, tu casa (?). Lo \n",
      "puedes enchufar (?).  \n",
      "El señor SCHUTZ. — Bueno, llevamos quiénes podemos hablar, pues.  \n",
      "Bueno, está bien que tú te manejes individualmente con los canales.  \n",
      "El señor MONTESINOS TORRES. — Sí, claro.  \n",
      "El señor SCHUTZ. — Ese vaina de que estemos todos no (?). \n",
      "El señor MONTESINOS TORRES. — No, pero a veces (?).  \n",
      "El señor SCHUTZ. — Para algunas cosas.  \n",
      "El señor JOY WAY ROJAS. — Sólo en los casos como qué sucedió el otro día que \n",
      "comprometía a todos.  \n",
      "El señor SCHUTZ .— Claro, pero fíjate como arreglamos uno, yo estaba de acuerdo totalmente \n",
      "contigo y después (?) la otra vaina.  \n",
      "El señor JOY WAY ROJAS. — Pero te has dado cuenta, por más que uno ande coordinado, un \n",
      "descuido y (?) un descuido de un día.  \n",
      "El señor SCHUTZ. — Oye, las comunicaciones van a una velocidad, y yo soy nuevo, yo soy \n",
      "ingeniero agrónomo, hermano.  \n",
      "El señor MONTESINOS TORRES. — Sí, sí, claro.  \n",
      "El señor SCHUTZ. — Yo no soy un hombre de... tú eres ingeniero también, tú eres abogado.  \n",
      "Pero, (?) el periodista es un  tipo que está a la caza y te  saca cosas, sueltan un chisme, ¡pum¡ lo \n",
      "saca, lo tira (?) y mientras te das cuenta ya lo sacó, porque él cree que ha hecho el gran trabajo, él \n",
      "\n",
      "Page 15:\n",
      "- - 15 es profesional. Cómo le vas a quitar esa primicia.  \n",
      "El señor MONTESINOS TORRES. — Claro. \n",
      "El señor SCHUTZ. — Se vuelve loco. Una entrevista contigo, se vuelve loco. Tú le dices que le \n",
      "vas a dar una entrevista mañana y que quieres que (?).  \n",
      "El señor MONTESINOS TORRES. — A esa gente le gusta,  \n",
      "El señor SCHUTZ. — Le encanta.  Claro, Hildebrandt es  ya la expresión máxima de cómo (?). \n",
      "¿Va a volver o no va a volver?  \n",
      "El señor MONTESINOS TORRES. — No, no va a volver.  \n",
      "El señor SCHUTZ. — ¿Ya no?  \n",
      "El señor MONTESINOS TORRES. — Bueno, estamos tratando de evitar que vuelva.  \n",
      "El señor SCHUTZ. — Bueno, yo estoy en e sencia trabajando, ah.  \n",
      "El señor MONTESINOS TORRES. — Ya. \n",
      "El señor SCHUTZ. — Te cuento que,  no sé, pues hasta dónde llegue, porque el asunto es sacarlo \n",
      "a Genaro...  \n",
      "El señor MONTESINOS TORRES. — Claro . \n",
      "El señor SCHUTZ. — (?) el papá de los Crousillat es muy pare cido a Genaro.  \n",
      "El señor MONTESINOS TORRES. — Así es.  \n",
      "El señor SCHUTZ. — Uy, es una cosa de (?).  \n",
      "El señor MONTESINOS TORRES. — ¿Tú lo conoces?  \n",
      "El señor SCHUTZ. — Manuel me ha dicho: “puta madre, (?) es mi amigo y todo, pero él es hijo \n",
      "putativo de Genaro. Ahora que no llega a los extremos del otro, pero, carajo, no cumple nada, no \n",
      "cree en nadie, (?). \n",
      "En cambio, Kiko  era un poquito más razonable, un tipo que se podía manejar, pero bueno...  \n",
      "(?) el Ferrari le quiere iniciar el juicio, como sabes, para pedir que no.. . hacer la venta (?).  \n",
      "El señor MONTESINOS TORRES. — (?) mandaron un memorándum, hay una señora de \n",
      "Ferrari.  \n",
      "El señor SCHUTZ. — Rosita de Ferrari.  \n",
      "El señor MONTESINOS TORRES. — Que quiere hacer un tema de juicio; ¿hay que apoyar \n",
      "eso o no?  \n",
      "El señor SCHUTZ. — ¿El juicio de cuál de ellos es?  \n",
      "El señor MONTESINOS TORRES. — Tengo el papel, te lo voy a traer ahorita, porque me \n",
      "mandaron un fax, una persona que está defendiendo a la señora.  \n",
      "El señor SCHUTZ. — Ya. Ah, una señora, una doctora.  \n",
      "El señor MONTESINOS TORRES. — Sí, sí, sí.  \n",
      "El señor SCHUTZ. — Creo que la conoces, ¿no?  \n",
      "El señor MONTESINOS TORRES. — Sí, sí.  \n",
      "El señor SCHUTZ. — Sí, está bien.  \n",
      "El señor MONTESINOS TORRES. — ¿Hay que apoyar eso?  \n",
      "El señor SCHUTZ. — Apoyarla, sí.  \n",
      "El señor MONTESINOS TORRES. — Quiero que me (?) en d etalle.  \n",
      "\n",
      "Page 16:\n",
      "- - 16 El señor SCHUTZ. — Pero hay que ver si el apoyo, yo quiero ver, porque ¿qué cosa pasa?  \n",
      "Fíjate, acá hay una cosa que es media ambigua. Yo le dicho a De Ferrari: oye, mira, yo te voy a \n",
      "comprar 50%.  \n",
      "El señor MONTESINOS TORRES. — Ya. \n",
      "El señor SCHUTZ. — Después hay que acogotar un poco a Ángel Gonzales...  \n",
      "El señor MONTESINOS TORRES. — Ya. Pero quiero traerte el papelito para que tú me digas. \n",
      "Me han hecho la consulta, yo no sé (?).  \n",
      "El señor SCHUTZ. — Ya, ya. Ya yo sé de donde (?). Ésa  es una (?) es amiga de...  \n",
      "—El señor Vladimiro Montesinos Torres coge el maletín un fólder y sale de la sala.  \n",
      "—Suena el teléfono celular del señor Ernesto Schutz , quien contesta la llamada.  \n",
      "El señor SCHUTZ. — Aló. \n",
      "Sí, si, Gustavo, dime.  \n",
      "¿Buena o mala? Haber.  \n",
      "Ajá. Ya, dice que hay gr andes posibilidades ¿no?  \n",
      "Ya, perfecto.  \n",
      "Y mañana nos vamos a ver, el domingo, para la asamblea ¿no? Vas a ir allá.  \n",
      "Ya, ya, ya listo.  \n",
      "Me llamas antes por teléfono.  \n",
      "Ya listo.  \n",
      "Gracias.  \n",
      "—Finaliza conversación telefónica.  \n",
      "El señor SCHUTZ. — (?) abogado que está viendo el juicio del edificio justamente.  \n",
      "Oye, (?) partimos por ahí y se acabó (?). Y a Ángel Gonzales lo tenemos que...  \n",
      "Ya, entonces, yo lo que quiero hacer es un acuerdo con Telefónica, (?) un juicio; la mejor \n",
      "manera es que yo (?) al juicio. Y Telefónic a no creo que tenga problema de ser dueña de un...  \n",
      "El señor JOY WAY ROJAS. — (?). \n",
      "El señor SCHUTZ. — Bueno, (?) a nosotros no van a poder (?). Pero yo le dije: yo te doy una \n",
      "parte de las acciones, formamos una compañía, yo te doy una parte de las acciones, s i quieres \n",
      "hasta la mayoría te doy; pero yo soy socio del canal (?) el 25 % (?) y 75 % (?). Y yo quiero \n",
      "manejar, pues; ¿cuál es mi interés? (?) además, tiene su (?) yo no creo que van a hacer un \n",
      "problema político (?) ellos son extranjeros, ¿te das cuenta?  \n",
      "(?) ¿como está? (?).  \n",
      "Yo no sé, allá hay algo raro.  \n",
      "El señor JOY WAY ROJAS. — (?). \n",
      "El señor SCHUTZ. — (?). \n",
      "El señor JOY WAY ROJAS. — (?). \n",
      "El señor SCHUTZ. — Nada, ¿no?  \n",
      "Bueno él se ha metido con el 9 y ha hecho la mayoría absoluta con (?) o sea (?).  \n",
      "Le ha hecho  todo una jugada a la familia (?) ya no podía hacer nada (?). \n",
      "Y de esa manera imagínate (?) no podía hacer nada, ya le había cerrado (?). \n",
      "\n",
      "Page 17:\n",
      "- - 17 Y ahí está Príncipe (?) el otro desiste, después desiste (?). Acepta e inmediatamente creo que le \n",
      "pone una (?).  \n",
      "El señ or JOY WAY ROJAS. — ¿Qué está pidiendo  de Ferrari?  \n",
      "El señor SCHUTZ. — De Ferrari está pidiendo que le pague (?) diarios; el otro 50 tiene creo, \n",
      "no, miento, creo que lo tenía el 25% (?).  \n",
      "Hay un detalle con el que no (?) que tenga el canal. El canal (?). \n",
      "El se ñor JOY WAY ROJAS. — Ahí vemos, pues.  \n",
      "El señor SCHUTZ. — (?) sólo para (?).  \n",
      "Yo pensaba irme con él (?) si éste desiste de la venta (?). Toma la empresa él y me da a mí el (?) \n",
      "se caga.  \n",
      "El señor JOY WAY ROJAS. — Claro. Está luchando por los dos, están marchando  cuerpo a \n",
      "cuerpo ¿no?  \n",
      "El señor SCHUTZ. — Quien con él (?). Usted no sabe que yo conozco a ese tipo. Igualito, \n",
      "igualito (?).  \n",
      "El edificio que le ha quitado, lo va a sacar del edifico y le va a ganar el juicio.  \n",
      "(?) por la puerta grande. Bueno, será por la puer ta grande (?). Es la mitad del edificio, la mitad \n",
      "del edificio. Eso es por un lado.  \n",
      "Por otro lado, esto no es que le ha quitado el canal (?) ha ganado un juicio (?) gasta, hace perder \n",
      "dinero (?). Pero no produce, no está (?).  \n",
      "(?) Joy Way tiene que hacerlo todo con campaña ¿no? (?).  \n",
      "—Reingresa el señor Vladimiro Montesinos Torres a la sala.  \n",
      "El señor MONTESINOS TORRES. — Bueno, el papelito no lo ubico, pero apenas lo... (4) \n",
      "El señor SCHUTZ. — No, yo ya sé de quién, es de Aldaba creo (?).  \n",
      "El señor MONTESINOS TOR RES. — Aldaba, exactamente, Aldaba (?) defendiendo...  \n",
      "El señor SCHUTZ. — Exactamente, esto (?).  \n",
      "El señor MONTESINOS TORRES. — (?) haciendo el juicio contra el Banco Wiese, y...  \n",
      "El señor SCHUTZ. — Parece que ahí hay un problema.  \n",
      "El señor MONTESINOS TORRES. — Sí. \n",
      "El señor SCHUTZ. — Si ellos ganan, el Banco Wiese les tiene que pagar.  \n",
      "El señor MONTESINOS TORRES. — Ya. \n",
      "El señor SCHUTZ. — Y si les paga (?) agarran su plata (?) mejor es lo que estoy haciendo yo. Y \n",
      "le dije a él: yo te voy a comprar (?), no si tú cobras más  del 50%, ya no...  \n",
      "—Timbra el teléfono celular del señor Schutz, quien no contesta la llamada.  \n",
      "El señor SCHUTZ. — Tú cobras más del 50%, y ya no le puedes hacer juicio (?) Wiese paga, \n",
      "paga, para (?) lo que tengo que pagar, ¿no es cierto?  \n",
      "El señor MONTESINOS  TORRES. — Así es.  \n",
      "El señor SCHUTZ. — Entonces, yo le dije: “¿cómo te voy a ayudar yo para que tú cobres, si tu \n",
      "cobras ya no me vendes; lo que tú tienes que hacer es no cobrar, hermano.”  \n",
      "Él dice que no, él lo que quiere es probar que Genaro los ha estafado.  \n",
      "Como ha (?) Genaro (?) él compra (?)estoy comprando con plata de una compañía que se llama \n",
      "(?). \n",
      "\n",
      "Page 18:\n",
      "- - 18 (?) es una compañía (?) y esos 2 con 1 mil soles de capital compran 10 millones de soles, pagan \n",
      "la mitad, y la otra mitad le dicen: “Voy a ver cómo están tus p asivos” He visto los pasivos y te \n",
      "agarran y levantan los pasivos (?)  \n",
      "Y me dice: “Pero no te levantan los pasivos” (?) el contralor (?) levanta los pasivos y dice: “Hay \n",
      "más pasivos de lo que me dijiste” (?) no te pago nada (?)  \n",
      "Estos han querido (?) Y ante t odo, ah.  \n",
      "El señor MONTESINOS TORRES. — Cuando tenga el papelito lo (?) en diskettes.  \n",
      "El señor SCHUTZ. — Me llamas porque yo, la idea es que si yo llego al acuerdo con él (?) \n",
      "como le he estado explicando a él(?).  \n",
      "El señor MONTESINOS TORRES. — Claro, por eso le  digo.  \n",
      "El señor SCHUTZ. — Yo le he estado diciendo a él: “Yo he hablado con los españoles, le he \n",
      "dicho que yo no tengo plata para (?)  \n",
      "El señor MONTESINOS TORRES. — Claro.  \n",
      "El señor SCHUTZ. — Sí, hay un grupo que quiere entrar aquí (?)” Usted está interesado,  sí, me \n",
      "dijo (?). Ha nombre de otro, porque yo no voy a tener para pagar.  \n",
      "El señor MONTESINOS TORRES. — Claro, lógico.  \n",
      "El señor SCHUTZ. — Pero ya estamos ahí, pues, comenzamos a meter, a meter y de ahí ya \n",
      "llegamos ya a ganar y como son extranjeros (?); la pa rte política no los van a (?).  \n",
      "El señor MONTESINOS TORRES. — Eso es lo que nos  interesa.  \n",
      "El señor SCHUTZ. — (?) al hombre (?).  \n",
      "El señor MONTESINOS TORRES. — Claro, de todas maneras.  \n",
      "El señor SCHUTZ. — (?) tú con (?).  \n",
      "(Risas.)  \n",
      "El señor SCHUTZ. — No, no.  \n",
      "El señor  JOY WAY ROJAS. — No, pues, está bien, está bien así.  \n",
      "Lo normal, lo normal.  \n",
      "El señor SCHUTZ. — Hay que cuidarlo, hermano.  \n",
      "El señor JOY WAY ROJAS. — Sí, de todas maneras.  \n",
      "El señor MONTESINOS TORRES. — Claro.  \n",
      "El señor SCHUTZ. — Bueno.  \n",
      "El señor MONTESINOS TORRES. — Listo hermano.  \n",
      "Entonces, el lunes estoy entregándote el maletín.  \n",
      "El señor SCHUTZ. — Ya, pues.  \n",
      "El señor MONTESINOS TORRES. — Ya. \n",
      "—Se observa que los señores Montesinos Torres y Schutz se retiran de la sala, quedándose \n",
      "solamente el señor Joy Way Rojas.  \n",
      "—Despu és de un momento regresa a la sala el señor Montesinos Torres y comienza el diálogo \n",
      "con el señor Víctor Joy Way Rojas.  \n",
      "El señor MONTESINOS TORRES. — ¿Has visto al general Moncayo?  \n",
      "(Risas.)  \n",
      "\n",
      "Page 19:\n",
      "- - 19 El señor MONTESINOS TORRES. — (?) de una vez, está entrando mi llamad a. Has visto \n",
      "cómo el cojudo (?)  \n",
      "Este es el que mejor está, ah.  \n",
      "El señor JOY WAY ROJAS. — Sí. \n",
      "El señor MONTESINOS TORRES. — Bueno, que el problema, sabes está de que nosotros \n",
      "decimos pon menos a este, pon más a este; pero no tenemos el esquema de cómo los dif undimos \n",
      "a (?) un equipo de actividad, cómo se hace el tema de obra; pero también ellos que pongan un \n",
      "poco de su parte, del ingenio, porque sino vamos a hacer duplicado.  \n",
      "El señor JOY WAY ROJAS. — Sí. \n",
      "El señor MONTESINOS TORRES. — Ya. \n",
      "El señor JOY WAY ROJAS. — Claro porque no debe saber (?), pero...  \n",
      "El señor MONTESINOS TORRES. — No, no.  \n",
      "El señor JOY WAY ROJAS. — (?) me refiero (?).  \n",
      "El señor MONTESINOS TORRES. — Ahora, el tema está en que él viene mañana con los \n",
      "procuradores por el asunto de las leyes.  \n",
      "Entonces pod emos ahondar especialmente para poder (?).  \n",
      "¿Por qué te digo? Porque en el primer caso que tú no tienes, es el de Castillo Petrucci (?). \n",
      "Entonces, ¿cuál es mi idea? En la mañana van a venir los procuradores y voy mandar a \n",
      "Washington a que presenten una quej a ante el Secretario General de la OEA por las parcialidades \n",
      "(?). \n",
      "Cuando se trató de (?) o acá (?) descalificados por (?) lo que ha pasado en (?).  \n",
      "El señor JOY WAY ROJAS. — Ciertamente que ya lo han recusado.  \n",
      "El señor MONTESINOS TORRES. — Lo han recusado y l o han sacado, y lo han declarado \n",
      "nulo.  \n",
      "Entonces ahora nosotros y el procurador, y sobre esa base se hace todo un reportaje.  \n",
      "El señor JOY WAY ROJAS. — Nosotros también podemos recusarlo a él.  \n",
      "El señor MONTESINOS TORRES. — Pero, por supuesto, por supuesto.  \n",
      "Entonces ya entra el procurador allá, entonces vamos allá se hace todo un reportaje (?) “Mire \n",
      "señor, este Castillo Petrucci, esto pasó, y el procurador está pidiendo es la nulidad, de todas estas \n",
      "cuestiones, porque se viene este problema.”  \n",
      "¿Entiendes?  \n",
      "Entonce s, en febrero nos viene la libertad de Castillo Petrucci, o a fines de enero nos viene y eso \n",
      "(?) Porque lo de (?).  \n",
      "El señor JOY WAY ROJAS. — (?) se podría sacar una ley (?).  \n",
      "El señor MONTESINOS TORRES. — Sí. \n",
      "El señor JOY WAY ROJAS. — Creando una (?) justament e. \n",
      "El señor MONTESINOS TORRES. — (?) permanente.  \n",
      "Pero el tema, mire, el tema entraña lo siguiente: la Corte Interamericana, que es el órgano \n",
      "jurisdiccional, porque la Comisión Interamericana  que es la OEA que hace recomendaciones, y \n",
      "cuando no se cumplen esa s recomendaciones pasa a la Corte, pero todo está encerrado en la \n",
      "OEA, están recomendando la libertad de Castillo Petrucci, y la OEA va por encima de esa Corte, \n",
      "hace reunión de ministros del Interior en el Mar del Plata para ver cómo vamos a hacer para \n",
      "luchar, pues, contra el fantasma del terrorismo en América Latina.  \n",
      "\n",
      "Page 20:\n",
      "- - 20 Entonces, es una incongruencia que un órgano subordinado quiera poner en libertad a un fulano \n",
      "que lo que va a poner...  \n",
      "El señor JOY WAY ROJAS. — Y por una cuestión procesal.  \n",
      "El señor MONTESINOS  TORRES. — Por una cuestión procesal, donde va a poner, ¿cómo se \n",
      "llama esto?, en el libro justamente lo que están haciendo los ministros.  \n",
      "Entonces, con eso sensibilizamos la opinión pública, hermano.  \n",
      "¿Qué te parece la idea? (?).  \n",
      "El señor JOY WAY ROJAS. — Yo le dije a Medelius que no se (?).  \n",
      "El señor MONTESINOS TORRES. — Y ahí queda.  \n",
      "El señor JOY WAY ROJAS. — Yo hoy día me (?).  \n",
      "Mire, yo lo único que he hecho estos días es a título personal, expresar una preocupación a los \n",
      "(?) en voz alta.  \n",
      "El señor MONTESINOS TOR RES. — ¿Y cuál es mi preocupación? De que, señores, ha \n",
      "habido una reunión de ministros del Interior en el Mar del Plata convocada por la OEA para ver \n",
      "el peligro de la lacra del terrorismo en el continente.  \n",
      "El señor JOY WAY ROJAS. — Eso puede ser.  \n",
      "El señor MO NTESINOS TORRES. — Claro, sí, es un hecho real.  \n",
      "El señor JOY WAY ROJAS. — Ah, ya, ya, ya.  \n",
      "El señor MONTESINOS TORRES. — (?). \n",
      "El señor JOY WAY ROJAS. — Yo pensé que era, este...  \n",
      "El señor MONTESINOS TORRES. — No, es un hecho real.  \n",
      "Entonces, y me está preocupando;  entonces, me preocupa que un ente de la OEA pretenda poner \n",
      "en libertad a un terrorista probadamente, que quería tomar el Congreso, como Presidente del \n",
      "Congreso eso me tiene que llamar a preocupación a mí. Que se prepare a (?) quien quiso tomar el \n",
      "Congreso . \n",
      "Entonces es una preocupación.  \n",
      "El señor JOY WAY ROJAS. — Claro.  \n",
      "El señor MONTESINOS TORRES. — Como deben compartir todos los ciudadanos y lo \n",
      "comparten todo los ministros del Interior.  \n",
      "El señor JOY WAY ROJAS. — (?) a toda la opinión pública.  \n",
      "El señor MONTESIN OS TORRES. — Claro, pero, ya no, pero ya no.  \n",
      "El tema tuyo es que tienes esa preocupación como Presidente del Congreso.  \n",
      "El señor JOY WAY ROJAS. — Ah, ya, ya, ya.  \n",
      "El señor MONTESINOS TORRES. — ¿Por qué? Porque este señor trató de tomar el Congreso, \n",
      "y ahora se p retende poner en libertad, esa es tu preocupación.  \n",
      "El señor JOY WAY ROJAS. — Oye, antes de que me olvide.  \n",
      "El señor MONTESINOS TORRES. — Sí. \n",
      "El señor JOY WAY ROJAS. — Te dije que va a mover (?).  \n",
      "El señor MONTESINOS TORRES. — No, no.  \n",
      "El señor JOY WAY ROJAS. — Claro yo, pero (?).  \n",
      "\n",
      "Page 21:\n",
      "- - 21 El señor MONTESINOS TORRES. — No hermano, no, cómo si ya lo estuve imaginando acá.  \n",
      "Ha venido Absalón con él y ya no va a volver a (?) además está trabajando (?).  \n",
      "El señor JOY WAY ROJAS. — Además no viene.  \n",
      "El señor MONTESINOS TORRES. — Mira, h ermano (?) y evitamos a toda (?).  \n",
      "El señor JOY WAY ROJAS. — (?) No, no, pero (?).  \n",
      "El señor MONTESINOS TORRES. — No, no, no.  \n",
      "No, mentira, hermano, (?) llámalo hoy día y dile que tienes la plena seguridad que no es así.  \n",
      "Yo no sería tan zonzo de a una persona q ue nos puede dar un apoyo lo vamos a sacar de tiro, \n",
      "pues, hermano, (?).  \n",
      "El señor JOY WAY ROJAS. — (?). \n",
      "—El señor Joy Way Rojas toma asiento.  \n",
      "El señor MONTESINOS TORRES. — No, hermano, dale la plena seguridad de que no es así.  \n",
      "Tienes la, la, no, no (?) la seg uridad de eso, la seguridad de que no va a salir ese (?) tranquilo, \n",
      "son especulaciones.  \n",
      "El señor JOY WAY ROJAS. — (?). \n",
      "El señor MONTESINOS TORRES. — A los “gorditos” ahora, ¿cómo se llama esto? Les voy a \n",
      "entregar, hermano un poco más de 1 millón de dólares, hermano, no es poca cosa.  \n",
      "Por ejemplo, mira, anteanoche, hermano, han pasado lo del plan, hermano, como 4 minutos, \n",
      "hermano, ah.  \n",
      "El señor JOY WAY ROJAS. — Si pudieras leer (?).  \n",
      "El señor MONTESINOS TORRES. — Mira hermano, estos son los objetivos y al próximo \n",
      "mes, hermano, haciendo evaluación, entonces (?).  \n",
      "El señor JOY WAY ROJAS. — (?) nos toca guiar nuestro trabajo.  \n",
      "El señor MONTESINOS TORRES. — Claro.  \n",
      "El señor JOY WAY ROJAS. — Nosotros...  \n",
      "El señor MONTESINOS TORRES. — (?) hermano.  \n",
      "El señor JOY WAY ROJAS. — (?) vam os a mirar.  \n",
      "El señor MONTESINOS TORRES. — Ya. \n",
      "El señor JOY WAY ROJAS. — Los canales.  \n",
      "El señor MONTESINOS TORRES. — Los canales estamos viendo.  \n",
      "El señor JOY WAY ROJAS. — (?) cada vez que miro un mañana (?) pone.  \n",
      "El señor MONTESINOS TORRES. — Claro.  \n",
      "El señor JOY WAY ROJAS. — Así es.  \n",
      "El señor MONTESINOS TORRES. — Lógico.  \n",
      "—Se retira de la sala el señor Vladimiro Montesinos Torres.  \n",
      "—Fin del Vídeo S/N.  \n",
      "—Transcripción: martes 2 de octubre de 2001.  \n",
      "—Transcriptores: Alberto Balbuena Reccio, Dior Dávila Ames, Azucena Lafore tt Palacios, \n",
      "Néstor Guillén Salazar.  \n",
      " \n",
      "\n",
      "\n",
      "PDF: ..\\_data\\131 VÍDEO N.° 1825.KOURI-DR(02-02-00).pdf\n",
      "Page 1:\n",
      "-1- Departamento de Transcripciones  \n",
      " \n",
      "CONGRESO DE LA REPÚBLICA  \n",
      "SEGUNDA LEGISLATURA ORDINARIA DE 2000  \n",
      " \n",
      "TRANSCRIPCIÓN DEL VÍDEO N.° 1825  \n",
      "‘‘REUNIÓN ALEX KOURI - DOCTOR’’  \n",
      " \n",
      "2 DE FEBRERO DE 2000  \n",
      " \n",
      "—Se aprecia al señor Alexander Kouri Bumachar en una sala hojeando una revista. \n",
      "Ingresa el señor Vladimiro Montesinos Torres.  \n",
      " \n",
      "El señor MONTESINOS TORRES. —¿Cómo está?  \n",
      "El señor KOURI BUMACHAR, Alexander. — Bien.  \n",
      "El señor MONTESINOS TORRES. — Lo vi en la mañana, con Lombardi.  \n",
      "El señor KOURI BUMACHAR, Alexander. — ¡Ah! ¿En canal 11 ? \n",
      "El señor MONTESINOS TORRES. —Sí, sí, sí.  \n",
      "El señor KOURI BUMACHAR, Alexander. —Bueno, ahí me encontré \n",
      "circunstancialmente con Andrade...  \n",
      "El señor MONTESINOS TORRES. — Sí. \n",
      "El señor KOURI BUMACHAR, Alexander. — Estuvo a primera hora con su esposa, y \n",
      "justo fue a  raíz de eso que me dijo...bueno, fue un poco tensa la...un poco fría, digamos, la \n",
      "relación ¿no?  \n",
      "El señor MONTESINOS TORRES .— Claro.  \n",
      "El señor KOURI BUMACHAR, Alexander. — Y nos hemos reencontrado nuevamente \n",
      "ahora en el Hotel Miraflores Park Plaza.  \n",
      "El señor MONTESINOS TORRES .— ¡Ah! Con el Frei.  \n",
      "El señor KOURI BUMACHAR, Alexander. — Con el presidente Frei.  \n",
      "Hemos estado Castañeda, Andrade, el presidente Belaunde.  \n",
      "El señor MONTESINOS TORRES .— Ya. \n",
      "El señor KOURI BUMACHAR, Alexander. — Había  una cantidad importante  de \n",
      "industriales, gente de CONFIEP.  \n",
      "Lo quería molestar, y era el propósito de la llamada el día de ayer, por lo siguiente: Tuve \n",
      "ocasión de conversar el día de ayer al mediodía con el señor Dellepiane y con el señor \n",
      "Gómez.  \n",
      "El señor MONTESINOS TORRES .— Ya. \n",
      "El señor KOURI BUMACHAR, Alexander. —Ellos me comentan lo siguiente. Me \n",
      "dijeron, bueno, me hicieron una breve exposición de cual había sido la evolución de la \n",
      "intención de voto en el Callao, y (ininteligible) presidente Fujimori como los candidatos de \n",
      "(ininteligible). Y la conclusión, me dijo, es necesario salir al frente en el caso Andrade, \n",
      "adelantando las fechas de lo que se viene más o menos planteando. Eso me parece muy \n",
      "bien, no hay ningún problema, se puede ir trabajando.  \n",
      "Sin embargo, creo, el exceso d e entusiasmo de ellos —lo cual, sin duda, puede ser \n",
      "canalizado para otros propósitos — no cubre, creo yo, me refiero al análisis frío en el tema \n",
      "no sólo político, sino al aspecto metodológico de cómo hacer una difusión de impacto más \n",
      "\n",
      "Page 2:\n",
      "-2- directa para que sea re almente efectiva.  \n",
      "Por eso me permití, y le agradezco la gentileza de que usted me haya dado (ininteligible) el \n",
      "día de hoy, conversé con (ininteligible) la posibilidad de que usted designara a una \n",
      "persona...  \n",
      "El señor MONTESINOS TORRES .— Ya. \n",
      "El señor KOURI B UMACHAR, Alexander. — Que sea más un estratega ¿no?  \n",
      "El señor MONTESINOS TORRES .— Ya. \n",
      "El señor KOURI BUMACHAR, Alexander. — Que me diga: “Mire, señor Kouri, es \n",
      "apropiado en este momento, podemos trabajar en esta línea”, y poder tratar con él de \n",
      "asuntos tanto de contenido como de las normas . \n",
      "Por tanto, el comandante como el almirante, como le reitero, tenía yo que sugerir un poco \n",
      "las ideas y los planteamientos que, pero entiendo (Suena un teléfono)  una visión global \n",
      "del tema.  \n",
      "El señor MONTESINOS TORRES .— Ya. \n",
      "El señor KOURI BUMACHAR, Alexander. — Para poder hacerlo de una manera mucho \n",
      "sincronizada.  \n",
      "Y quiero plantear una cosa más puntual, podría ser este viernes o el lunes, digamos, una \n",
      "opción mucho más clara, ir a este asunto de los humedales , se inicia la semana  de los \n",
      "humedales, hacemos un operativo conjunto entre el gobierno con el municipio, el cual \n",
      "permite una relación coordinada. Esto es, el Ministerio de la Presidencia comunique \n",
      "municipalidad provincial con la comunidad.  \n",
      "Si se hace simultáneamente el tema d e Chotay -Chorrillos, y en horas de la tarde yo voy \n",
      "con mi maquinaria a los humedales, yo limpio la zona periférica.  \n",
      "Entonces, ¿esto qué implica? Implica conversar con el alcalde de Chorrillos.  \n",
      "El señor MONTESINOS TORRES. — Con Miyashiro.  \n",
      "El señor KOURI BU MACHAR, Alexander.  — Con Miyashiro, y que los dirigentes de la \n",
      "zona colindante no sólo que le oficien al alcalde del Callao para que les limpie la zona \n",
      "aledaña, sino que sea básicamente confrontarlo a Andrade con la población. Entonces, la \n",
      "población va y d ice: “Señores, nos parece realmente importante que venga la \n",
      "Municipalidad del Callao, la Corporación de Desarrollo con el municipio a limpiarnos aquí \n",
      "el humedal ante la proximidad de la Semana de los Humedales; y realmente llama la \n",
      "atención de que quien de bió asumir la responsabilidad esté abocado a otras tareas de \n",
      "promover invasiones y demás” ¿comprendes?  \n",
      "Eso implica, primero, un trabajo sincronizado entre el gobierno con el municipio, en el \n",
      "caso puntual de la Provincia del Callao. Y en horas de la tarde mostrar la falencia o la \n",
      "carencia de un trabajo o una preocupación del Municipio de Lima en referencia a sus \n",
      "obligaciones y sus responsabilidades.  \n",
      "Entonces, en la mañana es solamente hablar del trabajo en el Callao, y en la tarde ya entrar \n",
      "al tema fuerte.  \n",
      "Y en el noticiero, en la noche, sale en el noticiero “Jornadas de limpieza en el Callao”. Y lo \n",
      "que quedó demostrado es que inclusive los del Callao tuvieron que limpiar Lima, porque el \n",
      "Alcalde de Lima está abocado a su campaña electoral .  \n",
      "Eso fue lo que yo  le sugerí, pero entiendo que esto tiene que ser parte de una discusión con \n",
      "alguien que (ininteligible) o más.  \n",
      "El señor MONTESINOS TORRES. — Claro  \n",
      "El señor KOURI BUMACHAR. — Que me diga: “Señor Kouri, nos parece bien o no nos \n",
      "\n",
      "Page 3:\n",
      "-3- parece, usted ha trabajado de ta l manera”.  \n",
      "Porque de alguna forma, el hecho solamente de confrontar autoridad con autoridad o \n",
      "dirigente con dirigente escapa en la apreciación del tiempo que dan los medios \n",
      "informativos, entre los cuales la gente de la oposición ha vendido como que hay un \n",
      "cargamontón en contra de él. Confrontar ahora a la población con las autoridades. O sea, el \n",
      "poblador le exige al quien le dio el voto, yo lo elegí no, sino (ininteligible), al señor \n",
      "Andrade. Y ese señor está preocupado en la tarea.  \n",
      "Entonces, hacer la tarea , estar en el campo y, obviamente, si yo tengo que opinar: “Mire, \n",
      "usted, lamento que el señor Alcalde de Lima, se ha abocado a hacer en Huancayo, en \n",
      "Cajamarca, etcétera, (2) y no responde a sus responsabilidades inmediatas, que es el \n",
      "compromiso que tiene c on la ciudad de Lima”. Éste es un primer detalle.  \n",
      "Un segundo detalle, y eso no lo había comentado todavía, es que manifestaba no sólo a la \n",
      "necesidad de inutilizar a Andrade, sino de poder hacer un trabajo más integrado de lo que \n",
      "es un liderazgo en el Calla o basándonos en el presidente Fujimori. Yo dije, bueno, ideen \n",
      "ustedes algunas posibilidades, algún anunció importante del Presidente, que estamos \n",
      "acompañándolo en el Callao y un poco expresarle el agradecimiento a nombre de la \n",
      "ciudad.  \n",
      "Sin embargo, yo le ad elanto un hecho que puede ser de interés, que lo podrían tomar o no \n",
      "como una cuestión de gobierno.  \n",
      "Al margen del asunto, de la quincena de marzo, que es el tema importantísimo sobre el \n",
      "corredor vial, nosotros por esos viajes que realizamos en algunos luga res del mundo, \n",
      "hemos logrado hermanar en el tema cultural la ciudad del Callao con París.  \n",
      "Entonces, l a primera semana de abril están viajando  20 estudiantes.  \n",
      "El señor MONTESINOS TORRES. — A hacer un intercambio.  \n",
      "El señor KOURI BUMACHAR, Alexander. — Así es.  \n",
      "Veinte estudiantes de los colegios nacionales del Callao, los primeros puestos, premiados \n",
      "por la municipalidad para hacer turismo cultural en París.  \n",
      "Lo que podríamos hacer es quizás en una semana o semana y media, con el presidente \n",
      "Fujimori, hacerles entr ega a esta gente que son de asentamientos humanos del Callao, en \n",
      "una reunión, sus pasaportes y sus pasajes. Y eso es propicio no sólo para identificar al \n",
      "Presidente con un trabajo en la provincia, sino hablar del tema relacionado con el premio al \n",
      "esfuerzo en el sector educación.  \n",
      "Hablar de educación, del liderazgo juvenil, tarea preventiva, y ésa es una idea que la \n",
      "planteamos porque la tenemos a la mano.  \n",
      "Yo lo iba a hacer solo.  \n",
      "El señor MONTESINOS TORRES. — Claro.  \n",
      "El señor KOURI BUMACHAR, Alexander. — Ya cons eguí las empresas que me van a \n",
      "financiar los pasajes, de igual manera los pasaportes, y la municipalidad lo iba a lanzar.  \n",
      "Pero si esto puede ser útil para el gobierno. Creo que con los ministros también podría ser, \n",
      "pero si se trata ya de una situación más  política,. Evidentemente ponemos a disposición de \n",
      "la idea para que el Presidente lo pueda evaluar, que vaya gente, jóvenes que vienen con una \n",
      "vestimenta humilde de zonas de asentamientos humanos y decir: “Este muchacho que vive \n",
      "en el asentamiento humano t al del Callao...  \n",
      "El señor MONTESINOS TORRES. — Se ha ganado el premio.  \n",
      "El señor KOURI BUMACHAR, Alexander. — ...se va a ir a París por ser el primero de \n",
      "su clase”.  \n",
      "Entonces, en vez de hablar de pandillaje, violencia, etcétera, estamos hablando de una \n",
      "\n",
      "Page 4:\n",
      "-4- cultura , de respaldar el éxito, de impulsar a esa juventud que con esfuerzo quiere ver algo \n",
      "más promisorio.  \n",
      "El señor MONTESINOS TORRES. — Ya. \n",
      "El señor KOURI BUMACHAR, Alexander. — Lo planteo como una idea para que lo \n",
      "puedan evaluar.  \n",
      "Entonces, un poco la intención e s decir: Muy bien, estamos en la mejor disposición de \n",
      "colaborar; pero es importante que haya un orden para hacerlo de tal manera que sea todo \n",
      "adecuado y no permitir solamente lo que puedan editar los medios informativos.  \n",
      "El señor MONTESINOS TORRES. — No, n o, no, nosotros tenemos que tomar la \n",
      "iniciativa, los medios van a reflejar la estrategia.  \n",
      "El señor KOURI BUMACHAR, Alexander. — Exactamente.  \n",
      "El señor MONTESINOS TORRES. — Y no a la inversa, ¿no?  \n",
      "Yo creo, como se llama, coincido con usted que tienen  que ver d e aquí. En realidad no \n",
      "faltan ni 50 días para las elecciones, porque del primero al nueve ya básicamente murió el \n",
      "tema, 7 días antes ya no hay campaña, esto termina el 31 de marzo. O sea, faltan los 31 \n",
      "días del mes de marzo más los 26 días de este mes, est amos hablando de 30 y 26 días son \n",
      "cincuenta y pico de días, no falta más.  \n",
      "Entonces, nosotros tenemos que en 56 días hacer un cronograma de qué cosa es lo que \n",
      "vamos a hacer para ir mellando la imagen de los dos candidatos que van en pugna y en qué \n",
      "forma nos otros podemos consolidar el objetivo inmediato.  \n",
      "En esa orientación no debemos de perder la perspectiva del otro objetivo que estamos \n",
      "buscando, que es las elecciones del 2002. O sea, una cosa debe estar amarrado a la otra \n",
      "cosa ¿no?  \n",
      "El señor KOURI BUMACHAR, Alexander. — Para que tenga un sentido de la \n",
      "participación.  \n",
      "El señor MONTESINOS TORRES. — Claro, porque sino también no tiene razón que \n",
      "salga y salga...entonces, tenemos que hilvanar uno con el otro, pero que sea muy sutil.  \n",
      "El señor KOURI BUMACHAR, Alexander .— Acá el un punto que quisiera precisar. La \n",
      "entrevista hoy en la mañana ha sido muy tímidas las definiciones, porque no entiendo aún \n",
      "una estrategia clara.  \n",
      "Entonces, cuando me preguntan sobre el tema de las inversiones, bueno, yo digo “a mí ese \n",
      "tema de la s inversiones (ininteligible) la propiedad privada y brindar para que la gente \n",
      "acceda a la propiedad, sobre todo los comedores populares, bueno, reivindicar a la madre”. \n",
      "(3) O sea, no fui a la confrontación con ninguno de los candidatos para no agotar la \n",
      "fórmula todavía que fuese a expresar una manera más contundente.  \n",
      "El señor MONTESINOS TORRES. — Claro.  \n",
      "Porque eso yo pienso, ¿cómo se llama esto? Tenemos acá, definitivamente el que está en \n",
      "segundo lugar es Castañeda, no Andrade; Andrade está tercero, o sea,  está con un 14, un 13 \n",
      "a nivel de Lima -Callao. Entonces es un poco difícil que en 50 días él pueda hacer...  \n",
      "El señor KOURI BUMACHAR, Alexander. — Pueda remontar.  \n",
      "El señor MONTESINOS TORRES. — Pueda remontar.  \n",
      "Entonces, el blanco principal o el objetivo princ ipal es Castañeda. Pero eso no quiere decir \n",
      "que lo descuidemos al otro.  \n",
      "El señor KOURI BUMACHAR, Alexander. — A tal punto le digo, porque sé eso de \n",
      "Andrade, ha habido un crecimiento de 6 a 14 puntos en el caso, según las encuestas que me \n",
      "informaron ayer. En  el caso de Castañeda de 12 a....perdón, de 6 a 14, y de Castañeda de \n",
      "\n",
      "Page 5:\n",
      "-5- 12 a 16.  \n",
      "Entonces, en el caso particular, el de Castañeda, ahí hay un tema vinculado con los \n",
      "pescadores.  \n",
      "El señor MONTESINOS TORRES. — Totalmente.  \n",
      "El señor KOURI BUMACHAR, Alexander. — Entonces, sobre esa línea dije muy bien, \n",
      "por qué no organizamos que se movilice la población del Callao. Ya la corporación tiene \n",
      "cantidad de gente contratada por tareas múltiples, y que hagan una gran movilización y que \n",
      "vayan a la municipalidad y que le exija n al alcalde que el alcalde se pronuncie sobre el \n",
      "tema de la caja. Entonces: “Mire, señor, yo lamento la crisis y creo que tiene que haber una \n",
      "responsabilidad y entiendo que no se puede eludir esto (ininteligible) y tiene que plantearse \n",
      "al país, tiene que ser un concertar.”  \n",
      "El señor MONTESINOS TORRES. — Entonces, por qué no vamos haciendo una cosa \n",
      "más sensata. Voy a hacer un documentito y mañana lo conversamos ¿qué le parece? Me da \n",
      "usted 24 horas, donde yo le planteo lo que podríamos hacer en estos 50 días.   \n",
      "El señor KOURI BUMACHAR, Alexander. — Me parece lo más lógico.  \n",
      "El señor MONTESINOS TORRES. — Nos podemos de acuerdo y desarrollamos. Está \n",
      "usted y me hace ver esta sugerencia pa´ ca, ésta pa´ ca, ésta pa´ca, ésta pa´ lla, y sobre esa \n",
      "base trabajamos. Entonc es, ya no sale nada al azar, ya todo va planificado \n",
      "estratégicamente.  \n",
      "Y las cuestiones tácticas lo de la coyuntura que vayan saliendo de una escena...  \n",
      "El señor KOURI BUMACHAR, Alexander. — Eso es rápido.  \n",
      "El señor MONTESINOS TORRES. — Claro, definimos en fun ción de la estrategia.  \n",
      "El señor KOURI BUMACHAR, Alexander. — Entonces, le comento. A propósito de esa \n",
      "conversación el día de ayer, yo me quedé un poco preocupado porque dije, bueno, eso no \n",
      "puede ser la metodología.  \n",
      "El señor MONTESINOS TORRES. — No, no, no, n o. \n",
      "Es que, obviamente, ellos manejan la perspectiva sectorial, local, muy focalizada y no ven \n",
      "el problema macro, y el problema macro es diferente. O sea, tiene que ser una visión \n",
      "amplia, una visión del bosque, ellos están viendo el tema del árbol y desde l a perspectiva \n",
      "del árbol, están cuidando su árbol. Entonces, hay que entenderlos.  \n",
      "El señor KOURI BUMACHAR, Alexander. — Lo entiendo perfectamente, a tal punto \n",
      "que le dije “mire, estoy dispuesto a colaborar con usted, no hay ningún problema”, le \n",
      "sugerí alguna s ideas; pero, yo decidí que habría que establecer un nivel de comunicación.  \n",
      "El señor MONTESINOS TORRES. — Por eso que inmediatamente usted apenas llamó \n",
      "yo... \n",
      "El señor KOURI BUMACHAR, Alexander. — ...le agradezco.  \n",
      "El señor MONTESINOS TORRES. — Porque habíamo s quedado que ya estamos en \n",
      "contacto directo.  \n",
      "Yo pienso que el mejor interlocutor es que usted tendría sería conmigo, manejo todo el \n",
      "escenario. Porque Dellepiane es un buen hombre, pero mucho entusiasmo...  \n",
      "El señor KOURI BUMACHAR, Alexander. — Es en el asp ecto operativo.  \n",
      "El señor MONTESINOS TORRES. — ...pero es un hombre para la parte táctica; para la \n",
      "parte estratégica, él no maneja la parte estratégica.  \n",
      "Entonces, yo voy a armar un documentito con acciones tácticas dentro de un objetivo \n",
      "estratégico, y mañana  nos podemos reunir, vemos, coincidimos, usted me dice sí, no, nos \n",
      "podemos de acuerdo, y sobre esa base cronometramos la salida suyas en la televisión, que \n",
      "\n",
      "Page 6:\n",
      "-6- tampoco sea por saturación ni aparezca que como que estamos cargando al lado uno o al \n",
      "otro o que com o que usted está coludido con el gobierno, nada por el estilo. Manteniendo \n",
      "un nivel de independencia que tenga credibilidad, vemos como vamos mellando a los dos.  \n",
      "Entonces, el tema de Andrade sustancialmente ya está él en una actitud...el hecho de la \n",
      "incorp oración, por ejemplo, de Mufarech ayer le quita mucho imagen.  \n",
      "Mufarech ha hecho...  \n",
      "El señor KOURI BUMACHAR, Alexander. — La presentación de Mufarech con CPN \n",
      "ayer fue...  \n",
      "El señor MONTESINOS TORRES. — Fue un desastre.  \n",
      "Mufarech es un tipo muy alocado. No es ma l hombre, pero es muy loco, muy vehemente; y \n",
      "la vehemencia, tú sabes, que pierde a los políticos ¿no?  \n",
      "Entonces, el objetivo principal es Castañeda. Castañeda es más sofisticado que Andrade en \n",
      "el manejo de su campaña política y la evidencia es que está en segundo lugar. Entonces, \n",
      "ahí es donde debemos ir, vamos a ver cómo vamos a hacer esto. Me parece muy bien esa \n",
      "idea de mover el tema de los pescadores, que vayan a la municipalidad a hacer la gran \n",
      "marcha a la municipalidad, y usted sale al pronunciamiento; y después de eso vemos una \n",
      "entrevista, que puede ser en el Canal 2 ó Canal 4, etcétera, y le vamos dando.  \n",
      "El señor KOURI BUMACHAR, Alexander. — Yo le digo algo más.  \n",
      "Se puede hacer una medida radical...  \n",
      "El señor MONTESINOS TORRES. — Sí. \n",
      "El señor KOURI BUMACHA R, Alexander. — De toma de calles en el Callao por parte \n",
      "de los pescadores.  \n",
      "El señor MONTESINOS TORRES. — Claro.  \n",
      "El señor KOURI BUMACHAR, Alexander. — Y yo voy como alcalde a hablar con ellos \n",
      "para que depongan esa actitud.  \n",
      "El señor MONTESINOS TORRES. — Claro.  \n",
      "El señor KOURI BUMACHAR, Alexander. — Yo tomo un liderazgo y yo digo “bueno, \n",
      "señores, ésta es una situación que se ha desencadenado producto de un mal manejo de la \n",
      "caja, hay un problema económico, lo tenemos que resolver y enfrentarlo”.  \n",
      "El señor MONTESINOS TORRES. — Así es . \n",
      "El señor KOURI BUMACHAR, Alexander. — Convocar a todas las partes involucradas \n",
      "y tenemos (ininteligible) la situación (ininteligible). Es cuestión de evaluarlo, trabajarlo.  \n",
      "El señor MONTESINOS TORRES. — Por eso, entonces, tendríamos que arma r todo un \n",
      "cronograma, qué hacer en el manejo de aquí al 31 de marzo. Pienso que eso es lo más \n",
      "adecuado. Mañana, digamos, si nos ponemos reunir en la nochecita.  \n",
      "El señor KOURI BUMACHAR, Alexander. — Con todo gusto.  \n",
      "El señor MONTESINOS TORRES. — ¿Le parece bie n que lo recojan seis y media del \n",
      "mismo sitio?  \n",
      "El señor KOURI BUMACHAR, Alexander. — Mañana a las seis y treinta.  \n",
      "El señor MONTESINOS TORRES. — Lo recogen. Siete acá y ya discutimos, nos \n",
      "sentamos en la mesa y más o menos le presento yo el esquema , si le pare ce de acuerdo.  \n",
      "El señor KOURI BUMACHAR, Alexander. — Me permito sugerirle.  \n",
      "El señor MONTESINOS TORRES. — Sí. \n",
      "El señor KOURI BUMACHAR, Alexander. — De mi parte hay la mejor disposición \n",
      "\n",
      "Page 7:\n",
      "-7- también.  \n",
      "El señor MONTESINOS TORRES. — Sí. \n",
      "El señor KOURI BUMACHAR, Alexande r.— No sólo que se refiere(ininteligible) a \n",
      "terceros, sino el deseo de poder colaborar más abiertamente en lo que se refiere, digamos, a \n",
      "la presencia del Presidente en el Callao, porque creo que tal le informe como neutralizar a \n",
      "los otros (ininteligible) e ntre ellos.  \n",
      "El señor MONTESINOS TORRES. — No, es que además el Presidente tiene que ir al \n",
      "Callao.  \n",
      "El señor KOURI BUMACHAR, Alexander. — Referente a su sector.  \n",
      "El señor MONTESINOS TORRES. — Así es.  \n",
      "El señor KOURI BUMACHAR, Alexander. — Porque el Presidente no v a al Callao hace \n",
      "muchísimo tiempo.  \n",
      "El señor MONTESINOS TORRES. — Así es, no va.  \n",
      "El señor KOURI BUMACHAR, Alexander. — Excepto a Ventanilla.  \n",
      "Entiendo que el trabajo de la corporación ha sido primero ablandar la zona.  \n",
      "El señor MONTESINOS TORRES. — Así es . \n",
      "El se ñor KOURI BUMACHAR, Alexander. — Los porcentajes, por ejemplo, tanto en \n",
      "Bellavista como en la Perla no son tan favorables al gobierno, básicamente porque somos \n",
      "de clase media.  \n",
      "El señor MONTESINOS TORRES. — Ya. \n",
      "El señor KOURI BUMACHAR, Alexander. — Sin embarg o, (4) la zona de Cercado, lo \n",
      "que es Ventanilla está muy alto y también está algo bajo La Punta, no es significativo \n",
      "electoralmente, pero sí trasciende...  \n",
      "El señor MONTESINOS TORRES. — Pero hay que ganar La Punta, hay que ganar La \n",
      "Punta.  \n",
      "El señor KOURI BUMA CHAR, Alexander .— Y hay una buena disposición del alcalde, \n",
      "al final todos los alcaldes están en buena disposición de colaborar en ese propósito.  \n",
      "El señor MONTESINOS TORRES. — ¿Y algunas ideas que usted también tuviera, \n",
      "digamos? O sea, no solamente que yo le  haga el documento, sino darme usted algunas \n",
      "ideas que usted podría...  \n",
      "El señor KOURI BUMACHAR, Alexander. — Mañana intercambiamos.  \n",
      "El señor MONTESINOS TORRES. — Intercambiamos las opiniones.  \n",
      "Usted me dice yo también tengo éstas ideas que podrían ser.  \n",
      "Porqu e si nos ponemos a sacar todos los días en la televisión también satura el tema.  \n",
      "El señor KOURI BUMACHAR, Alexander. — Es contraproducente.  \n",
      "El señor MONTESINOS TORRES. — Es contraproducente, entonces, vamos haciendo \n",
      "acciones que vayan minando el tema.  \n",
      "Por ej emplo, fíjese, otra cosa que es importante. Que no solamente es la discusión en \n",
      "cuanto a la función de (ininteligible) de deberes de función de Andrade como alcalde, que \n",
      "ha abandonado la ciudad, no ha cumplido con el tema de la ciudad, con el caso de los \n",
      "humerales, que lo vamos a tocar el día viernes o sábado; sino también ya el hecho, por \n",
      "ejemplo, en cuanto a su programa de gobierno, de sus planes de gobierno, que también es \n",
      "un punto de (ininteligible) críticas.  \n",
      "De igual manera en el tema de Castañeda, ha  presentado en el CADE un plan de gobierno \n",
      "\n",
      "Page 8:\n",
      "-8- que lo ha elaborado con la Graciela Fernández Baca y Garrido Lecca y...  \n",
      "El señor KOURI BUMACHAR, Alexander. — Le comento un hecho que puede ser de su \n",
      "interés.  \n",
      "Me encontré con Hernán Garrido Lecca antes de ingresar  al Hotel Miraflores Park Plaza.  \n",
      "El señor MONTESINOS TORRES. — Ya. \n",
      "El señor KOURI BUMACHAR, Alexander. — Por lo menos me comentó que no iba a \n",
      "postular a ningún cargo, pero no sé si lo que estaba haciendo era ya renunciar a Solidaridad \n",
      "Nacional.  \n",
      "Por lo menos , me dejó entrever su disgusto en lo que se refiere a la participación de él...  \n",
      "El señor MONTESINOS TORRES. — Bueno, el tema está de que...  \n",
      "El señor KOURI BUMACHAR, Alexander. — Lo comento como un hecho...  \n",
      "El señor MONTESINOS TORRES. — El asunto está  que él e ncabezaba el...  \n",
      "El señor KOURI BUMACHAR, Alexander. — El equipo de gobierno.  \n",
      "El señor MONTESINOS TORRES. — Y lo han desplazado y han puesto a Graciela \n",
      "Fernández Baca. Entonces, obviamente, no le ha gustado esa situación y por eso es que \n",
      "medio que se ha resen tido y ha producido una situación (ininteligible).  \n",
      "El señor KOURI BUMACHAR, Alexander. — Pero entiendo que es un elemento que \n",
      "puede resultar favorable si se le insiste un poco para que él pueda salir a los medios quizás \n",
      "refiriéndose a temas internos, porque  tuvo palabras muy duras hacia Solidaridad Nacional \n",
      "hoy en la mañana (ininteligible), y me manifestó no sólo su deseo de no participar en el \n",
      "proceso electoral, sino de apartarse de manera definitiva de Solidaridad Nacional.  \n",
      "“He considerado que debo (ininte ligible)”...me planteó, me dijo “es algo como oscuro, \n",
      "como siniestro que no está claro”.  \n",
      "El señor MONTESINOS TORRES. — Solidaridad en realidad es una especie de logia \n",
      "que lo maneja Martín Bustamante con Piccini y el segundo éste, Villarán, son los tres \n",
      "homb res claves...y Blonde, son las cuatro personas...  \n",
      "El señor KOURI BUMACHAR, Alexander. — Yo a Bustamante lo conozco, conversé \n",
      "con él hace no mucho tiempo (ininteligible) iba bien. Y, ciertamente, él ha retomado una \n",
      "posición expectante dentro de Solidaridad N acional.  \n",
      "El señor MONTESINOS TORRES. — Pero, si usted lo conoce y lo ha visto, es un tipo \n",
      "elemental, es una persona que no tiene ningún nivel cultural.   \n",
      "El señor KOURI BUMACHAR, Alexander. — Es básico en sus conceptos.  \n",
      "El señor MONTESINOS TORRES. — Totalmente , es un hombre simplón. Yo diría \n",
      "un...para no expresarme peyorativamente...  \n",
      "El señor KOURI BUMACHAR, Alexander. — No lo he tratado mucho; sin embargo, de \n",
      "lo que lo he tratado...  \n",
      "El señor MONTESINOS TORRES. — Pero el perfil lo tiene como un hombre de un nivel  \n",
      "cultural muy bajo.  \n",
      "Tiene un hermano que ha sido coronel del Ejército que está retirado ya, yo he tenido \n",
      "oportunidad de tratarlo. El coronel éste tiene más nivel; pero Martín está en la calle, o sea, \n",
      "no tiene noción del manejo del tema del Estado y tiene u na (ininteligible) fundamental.  \n",
      "Pero claro, tenemos de comprender que Castañeda, que también es un hombre simple, \n",
      "usted ha visto que no es un hombre que tenga cultura ni formación ni de política ni nada \n",
      "por el estilo, no puede rodearse de gente que brille  más que él. Entonces, el nivel...  \n",
      "El señor KOURI BUMACHAR, Alexander. — Es mediocre.  \n",
      "\n",
      "Page 9:\n",
      "-9- El señor MONTESINOS TORRES. — Es mediocre, o sea, digamos, ése es el estándar \n",
      "ahí. Porque Villarán, usted lo ha visto qué cosa es Villarán.  \n",
      "El señor KOURI BUMACHAR, Alexan der.— Quizás una de las personas de mayor \n",
      "formación en el entorno de él es Sota Nadal.  \n",
      "El señor MONTESINOS TORRES. — Claro, Sota Nadal, porque ése es un tipo que sí, \n",
      "por la edad y por la experiencia política, la trayectoria es el más sofisticado; pero tamb ién \n",
      "tiene una visión tugurizada de lo que es el problema del manejo del Estado.  \n",
      "O sea, que este Estado de este quinquenio no es el Estado del quinquenio...   \n",
      "El señor KOURI BUMACHAR, Alexander. — Es que el mundo ha cambiado...  \n",
      "El señor MONTESINOS TORRES. — Ha cambiado. Viene la globalización.  \n",
      "Y ahora, definitivamente, en este quinquenio tenemos que entrar a la democratización del \n",
      "Estado, eso es indispensable. No se puede dejar de democratizar el aparato del Estado. No \n",
      "da el Estado (5) para un modelo autoritar io. \n",
      "El señor KOURI BOUMACHAR, Alexander. — Bueno, eso significa dos cosas.  \n",
      "Primero, hacer del Estado...o sea, disminuir el Estado y hacer más partícipe a la sociedad \n",
      "civil,  \n",
      "El señor MONTESINOS TORRES. — Así es.  \n",
      "El señor KOURI BOUMACHAR, Alexander. — Porque el exceso de democracia es \n",
      "también un error de percepción, porque la democracia es un medio, no un fin, es un mito.  \n",
      "El señor MONTESINOS TORRES. — Claro.  \n",
      "El señor KOURI BUMACHAR, Alexander. — Cuando se crea un mito en la democracia, \n",
      "eso también es un error.  \n",
      "El señor MONTESINOS TORRES. — Un colapso, porque se crea la ingobernabilidad. \n",
      "Lo que pasó en Ecuador.  \n",
      "El señor KOURI BOUMACHAR, Alexander. — Absolutamente.  \n",
      "Cuando se prioriza el medio al fin hay un error absoluto.  \n",
      "El señor MONTESINOS TORRES. — Así es.  \n",
      "El señor  KOURI BOUMACHAR, Alexander. — A veces hay que patear el tablero para \n",
      "lograr...  \n",
      "El señor MONTESINOS TORRES. — Pero ésa es la cuestión que tienen los políticos, \n",
      "que están planteando ahora, es el error de la clase política peruana.  \n",
      "El señor KOURI BOUMACHAR, Al exander. — Sin duda, es un tema claro y creo que \n",
      "en ese aspecto hay una aproximación a la realidad que no se puede diluir. La democracia \n",
      "está al servicio del bien común y no viceversa.  \n",
      "El señor MONTESINOS TORRES. — Hay un trastrocamiento de valores y de conc eptos.  \n",
      "Bueno, entonces, yo creo que estamos claros en eso.  \n",
      "El señor KOURI BUMACHAR, Alexander. — Mañana seis y treinta...  \n",
      "El señor MONTESINOS TORRES. — Mañana seis y treinta.  \n",
      "Si usted también tiene algunas ideas de lo que podría ser este cronogramita que lo \n",
      "empezaríamos desde este viernes al 31 de marzo...  \n",
      "El señor KOURI BUMACHAR, Alexander. — Muy bien.  \n",
      "El señor MONTESINOS TORRES. — Con salidas, etcétera.  \n",
      "Yo más o menos le voy a presentar un cuadro que diga tal salida, tal cosa, esto, lo otro  \n",
      "\n",
      "Page 10:\n",
      "-10- El señor KOURI BOU MACHAR, Alexander. — Y luego en función a las variables de la \n",
      "campaña se plantean nuevas cosas.  \n",
      "El señor MONTESINOS TORRES. — Bueno, ahí salen ya las cosas de la coyuntura; \n",
      "pero tenemos un plan estratégico y las coyunturas las insertamos y las manejamos en el día \n",
      "a día.  \n",
      "El señor KOURI BUMACHAR, Alexander. — Okey.  \n",
      "El señor MONTESINOS TORRES. — Además, como nos vamos a estar conversando y \n",
      "viendo, entonces es más fácil hacer la coordinación.  \n",
      "Y Dellepiane, bueno, dará un apoyo táctico a las cosas.  \n",
      " El señor KOURI BOUMACHAR, Alexander. — Claro, ya define el tema operativo.  \n",
      "El señor MONTESINOS TORRES. — Claro.  \n",
      "El señor KOURI BUMACHAR, Alexander. — El tema de planeamiento...  \n",
      "El señor MONTESINOS TORRES. — No, no, él no tiene la perspectiva. El planeamiento \n",
      "lo hacemos noso tros. \n",
      "Y persiguiendo que el objetivo es que vamos al tema del 2002, o sea el 2002 tenemos que \n",
      "ganarle la alcaldía Andrade de todas maneras.  \n",
      "El señor KOURI BUMACHAR, Alexander. — Lo tengo claro, a tal punto que el mismo \n",
      "Lombardi lo planteó, yo no entré...  \n",
      "El señor MONTESINOS TORRES. — No, no, no conviene ahora plantear eso.  \n",
      "El señor KOURI BUMACHAR, Alexander. — Dije, estoy en el tema de la tarea de hoy \n",
      "en día.  \n",
      "Creo que el error de muchos políticos es pensar en su realización futura y no en su \n",
      "confección práctic a del día a día.  \n",
      "El señor MONTESINOS TORRES. — Hay que vivir el presente y ahorita; y tampoco \n",
      "hay que soltar las prendas antes de tiempo.  \n",
      "El señor KOURI BOUMACHAR, Alexander. — Hay que trabajar con tranquilidad , es \n",
      "una carrera de resistencia más que de veloc idad.  \n",
      "El señor MONTESINOS TORRES. — No es de 100 metros.  \n",
      "Okey.  \n",
      "Muy bien, entonces, mañana a las seis y media.  \n",
      "El señor KOURI BOUMACHAR, Alexander. — Como no.  \n",
      "El señor MONTESINOS TORRES. — Muy bien.  \n",
      "Hasta luego, señor Kouri, un gusto de verlo.  \n",
      "El señor KOURI BOUMACHAR, Alexander. — Buenas tardes.  \n",
      "—Fin de la grabación.  \n",
      "—Fecha de transcripción: 1 -3-2001.  \n",
      "\n"
     ]
    }
   ],
   "source": [
    "import PyPDF2\n",
    "\n",
    "# Dictionary to store all PDFs\n",
    "pdfs_data = {}\n",
    "\n",
    "# List of PDF paths\n",
    "pdf_paths = [\n",
    "   r\"..\\_data\\144 VIDEO N.° 1.JOY WAY-SCHUTZ.SIN FECHA.COPIA_.pdf\",\n",
    "   r\"..\\_data\\131 VÍDEO N.° 1825.KOURI-DR(02-02-00).pdf\"  # Add path to second PDF\n",
    "]\n",
    "\n",
    "# Read each PDF into dictionary\n",
    "for pdf_path in pdf_paths:\n",
    "   pdf_content = {}\n",
    "   with open(pdf_path, 'rb') as file:\n",
    "       pdf_reader = PyPDF2.PdfReader(file)\n",
    "       for page_num in range(len(pdf_reader.pages)):\n",
    "           page = pdf_reader.pages[page_num]\n",
    "           pdf_content[page_num + 1] = page.extract_text()\n",
    "   pdfs_data[pdf_path] = pdf_content\n",
    "\n",
    "# Print contents\n",
    "for pdf_path, pdf_content in pdfs_data.items():\n",
    "   print(f\"\\nPDF: {pdf_path}\")\n",
    "   for page, content in pdf_content.items():\n",
    "       print(f\"Page {page}:\\n{content}\\n\")"
   ]
  },
  {
   "cell_type": "code",
   "execution_count": 79,
   "metadata": {},
   "outputs": [
    {
     "data": {
      "text/plain": [
       "{'..\\\\_data\\\\144 VIDEO N.° 1.JOY WAY-SCHUTZ.SIN FECHA.COPIA_.pdf': {1: '- - 1 Departamento de Transcripciones  \\nCONGRESO DE LA REPÚBLICA  \\nPRIMERA LEGISLATURA ORDINARIA DE 2001  \\n \\nTRANSCRIPCIÓN DEL VÍDEO S/N  \\n \\n“REUNIÓN DR. - JOY WAY - SCHUTZ”  \\n \\nSIN FECHA  \\n \\n—Se observa que el señor Schutz está en la sala de espera leyendo unos documentos.  \\n—Una persona ingresa a la sala y le hace entrega de un diario.  \\n \\nEl señor   .— (?). \\nEl señor SCHUTZ. — Gracias.  \\nEl señor   .— (?). \\nEl señor SCHUTZ. — No, me estoy poniendo al día, muchas gracias.  \\nEl señor   .— (?). \\nEl señor SCHUTZ. — Ya, gracias.  \\nEl señor   .— Permis o. \\nEl señor SCHUTZ. — Ya sabe que estoy acá.  \\nEl señor   .— Sí, sí, ya le comuniqué.  \\nEl señor SCHUTZ. — Estamos esperando a.  \\nEl señor   .— Sí, sí, llamó (?).  \\nEl señor SCHUTZ. — Ya viene.  \\nEl señor   .— Sí, sí, sí, llamó.  \\nEl señor SCHUTZ. — (?). \\nEl señor   .— Claro, bien, permiso.  \\n—Ingresa un mozo con un vaso de jugo para el señor Schutz.  \\nEl MOZO. — Permiso, buenas.  \\nEl señor SCHUTZ. — Buenas.  \\nEl MOZO. — (?). \\n—En ese lapso cruzan personas por la puerta.  \\n—Después de una espera de aproximadamente 22 minutos ingresa el señor  Víctor Joy Way \\nRojas portando un maletín, acompañado de un oficial que se retira.  \\nEl señor JOY WAY ROJAS. — Maestro.  \\nEl señor SCHUTZ. — Hola, ¿cómo estás? (?) el hombre tampoco, ah.  \\nEl señor JOY WAY ROJAS. — (?) Tenemos que hacerlo de 6 a 7. (?).  \\nEl señor S CHUTZ. — Si, pues.  \\nEl señor JOY WAY ROJAS. — ¿Ya le avisaron, no?  ',\n",
       "  2: '- - 2 El señor SCHUTZ. — Yo me supongo, yo estoy, llegué un poquito antes, oye.  \\n—El señor Joy Way Rojas sale de la sala y regresa inmediatamente.  \\nEl señor SCHUTZ. — Oye, ahora, tu sabes que (?).  \\nEl se ñor JOY WAY ROJAS. — (?) congelado (?) un poquito ¿no?  \\n—El señor Joy Way Rojas recibe una llamada telefónica en el celular.  \\nEl señor JOY WAY ROJAS. — Aló, ¿de qué? Nada, ya no ya, estoy cambiado.  \\nEl INTERLOCUTOR. — (?). \\nEl señor JOY WAY ROJAS. — Vivo de mis re ntas. Nada, nada, nada.  \\nMe has mecido, me has mecido, me has mecido.  \\nClaro pues, así es.  \\nMe has mecido, pareces de la oposición, pues.  \\n¿Por qué?  \\nNo, no, no. Nunca, no, no, no, de ninguna manera.  \\nTu has estado con (?).  \\nEl INTERLOCUTOR. — (?). \\nEl señor JOY WA Y ROJAS. — Ya, yo me acordé, pues, fue su cumpleaños. Sí, pues.  \\nEl INTERLOCUTOR. — (?). \\nEl señor JOY WAY ROJAS. — Estábamos 5 años ahí.  \\nEl INTERLOCUTOR. — (?). \\nEl señor JOY WAY ROJAS. — ¿De allá de la Costa Verde?  \\n—Hace su ingreso el señor Vladimiro Montesinos Torres saluda al señor Schutz y le entrega \\nun sobre manila y el señor Schutz le entrega aparentemente un libro y luego una bolsa con \\ndos regalos, aparentemente, que pone sobre la mesa.  \\n—En ese instante inicia un diálogo entre el señor Schutz y el señor Mon tesinos que es \\nininteligible.  \\nEl señor JOY WAY ROJAS. — Fue memorable.  \\nEl INTERLOCUTOR. — (?). \\nEl señor JOY WAY ROJAS. — ¿A qué hora vas a salir? Puede haber algo entonces ¿no? Tengo \\ncita en ..... que tal ....  \\nYa. Ah, ya, ya.  \\nYo te llamo porque tengo una reu nión con el señor Schutz . \\n—Finaliza la conversación telefónica.  \\nEl señor SCHUTZ. — Oye, el hecho  de (?) tampoco se hizo la venta, hemos postergado una \\nsólida (?)  \\nEstoy seguro que (?) persona.  \\nMira, voy a explicarte, hermano. Esta carta tiene un montón de co sas que te quiero explicar \\nrápidamente.  \\nEsta es la carta que yo te mandé.  \\nEl señor MONTESINOS TORRES. — Ya. ',\n",
       "  3: '- - 3 El señor SCHUTZ. — Ahí te pinta él cómo es, él jura que con esto nos va a fregar.  \\nEl señor MONTESINOS TORRES. — Claro.  \\nEl señor SCHUTZ. — Y el comentar io es pues que.  \\n—El señor SCHUTZ le hace una seña al señor Montesinos para que cierre la puerta.  \\nEl señor MONTESINOS TORRES. — (?). \\nEl señor SCHUTZ. — El comentario es este, pues, que dice: “Él se pinta ahí, le se canta ahí, \\ntodo (?) cuál es el (?) que está dando ahí (?)  \\nTengo (?) que va a tumbar todo. Y él lo anda diciendo en los bancos y en todas partes, y me dan \\nla copia, que no me den publicidad, tratando de fregarme económicamente, él lo que me quiere \\nes tumbarme (?) como no puede (?).  \\nYo le contesté eso  que yo te mandé, con la carta esa que ... no te vayas, que hay el famoso Calila \\nque le ha garantizado y le ha dicho.  \\nEste es el juicio principal, hermano, que usted ha colmado.  \\nEl señor MONTESINOS TORRES. — Ya, que está en la Corte Suprema, está pendiente.  \\nEl señor SCHUTZ. — Pendiente.  \\nEl señor MONTESINOS TORRES. — Con esto bajamos todo.  \\nEl señor SCHUTZ. — Con eso baja bastante.  \\nCon eso baja a 70 millones.  Ahí le sigue esto, N.° 2.  \\nEl señor MONTESINOS TORRES. — ¿Dónde está eso?  \\nEl señor SCHUTZ. — Eso está en.  \\nEl señor MONTESINOS TORRES. — Eso está (?).  \\nEl señor SCHUTZ. — Sí que es una de las acciones (?) que complementa, este con este.  \\nEl señor MONTESINOS TORRES. — Ya. \\nEl señor SCHUTZ. — (?). \\n—El señor Joy Way se retira de la sala.  \\nEl señor SCHUTZ. — Este y éste son l os básicos, después sigue este de acá que ya dice (?) este \\nya está, mira, es una zoncera (?) este es una ratificación (?) de incautación que Genaro quiere \\npara que.  \\nEl señor MONTESINOS TORRES. — No contraten.  \\nEl señor SCHUTZ. — Entonces ahí está todo, se tie ne que, simplemente ratificar, me entiendes, \\nle piden a él ya que ratifique pues lo que en su mayoría y el (?).  \\nEl señor MONTESINOS TORRES. — (?) es abogado (?).  \\nEl señor SCHUTZ. — Es el abogado que él presentó.  \\nAcá está, hermano, la demanda de cumplimiento  de contrato el que presentó tu tocayo; (?) este \\nestá en un proceso iniciado el juicio en el (?) juzgado.  \\nEste está iniciado este juicio por 30 millones de dólares, esto no sé si se lo va admitir. Quizás no \\nlo admita, está todo medio asustado.  \\nEl señor MON TESINOS TORRES. — El juez.  \\nEl señor SCHUTZ. — Y éste, este es otra cosa, el juez es un tal Soberón, está asustado, hasta \\nayer me decían que iba a firmar.  ',\n",
       "  4: '- - 4 Como tu me dijiste tráeme todo y esto es urgente para los Registros Públicos. Es una llamadita: \\n“Oye, (? ) es asunto de Panamericana”  \\nEl señor MONTESINOS TORRES. — ¿Tienes lapicero?  \\nEl señor SCHUTZ. — Cortamos, le cortamos, le cortamos, hermano, la posibilidad de que me \\ntire el local.  \\nY eso Medelius ha estado viendo eso, o sea que tu puedes preguntarle, yo lo v i a Medelius y me \\nestuvo ayudando.  \\nEl señor MONTESINOS TORRES. — No, no, no, así no más.  \\nEl señor SCHUTZ. — Este es una ayuda memoria (?) Esta es la demanda (?).  \\nClaro, este es el, este es esto.  \\nEl señor MONTESINOS TORRES. — Ah, ya, ya.  \\nEl señor SCHUTZ. — Le hemos aumentado, ¿qué pasa?  \\nCuando, él está queriendo registrar esto, cuando nosotros le metimos iniciamos este juicio.  \\nEl señor MONTESINOS TORRES. — Ya. \\nEl señor SCHUTZ. — Nosotros le hemos metido un adicional en donde metemos, tenemos que \\nal querer comprar este local, lo ha comprado por solo para, para, aumentar (?).  \\n—El señor Joy Way regresa a la sala.  \\nEl señor JOY WAY ROJAS. — (?) se puede, ¿no?.  \\nEl señor MONTESINOS TORRES. — Claro.  \\nEl señor SCHUTZ. — Oye, y acá está este, tú tienes que darle el pase de este penal.  \\nEl señor MONTESINOS TORRES. — Ah, este es el clave.  \\nEl señor SCHUTZ. — Este es el que tu me dijiste, “dame el proyecto”  \\nEl señor MONTESINOS TORRES. — Sí, sí, sí.  \\nEl señor SCHUTZ. — Ya este es el proyecto.  \\nEl señor MONTESINOS TORRES. — Ya, perfecto.  \\nEl se ñor SCHUTZ. — Tú solamente me dices, yo ya tengo el abogado que es un abogado \\nLeguía, creo se llama Leguía, no sé.  \\nEl señor MONTESINOS TORRES. — Está bonito, ah.  \\nEl señor SCHUTZ. — Ureta, Ureta.  \\nEl señor MONTESINOS TORRES. — No, no, lo que interesa es que sea abogado.  \\nEl señor SCHUTZ. — Tu me dijiste de eso pues, tú solamente de acá me guías, esto es paseito \\n(?). \\nEl señor MONTESINOS TORRES. — (?). \\nEl señor SCHUTZ. — (?) No aparezco yo, yo le doy el poder a él, que cobre.  \\nEl señor MONTESINOS TORRES. — ¿Quién es el a poderado? No, en penal quién es el \\napoderado de Panamericana? O sea representó.  \\nEl señor SCHUTZ. — No, yo le doy. Mira como es la.  \\nEl señor MONTESINOS TORRES. — ¿Le das poder a quién?  \\nEl señor SCHUTZ. — Yo le doy poder al abogado para que cobre.  \\nEl señor MONT ESINOS TORRES. — No, no, no, pero en este proceso penal quién va ',\n",
       "  5: '- - 5 anunciar Panamericana (?) por su apoderado  \\nEl señor SCHUTZ. — No, no, yo le doy, yo no, yo le doy el apoderado a éste, al abogado.  \\nEl señor MONTESINOS TORRES. — Ah, (?).  \\nEl señor SCHUTZ. — No, no , todavía yo estoy, tu me tienes  que decir tú lo miras, mira y el \\nplanteamiento es que yo le doy a él  \\nEl señor MONTESINOS TORRES. — El poder.  \\nEl señor SCHUTZ. — El poder para que cobre.  \\nEl señor MONTESINOS TORRES. — Ya. \\nEl señor SCHUTZ. — Y él para cobrar le m ete el juicio penal, los 400 mil dólares por este \\nfundamento. Ya es problema de él, pues (?).  \\nEl señor MONTESINOS TORRES. — Tu le das poder a él para iniciar las acciones penales y \\nciviles (?) entonces ahí.  \\nEl señor SCHUTZ. — Para cobrar, en cobranza yo le d oy a él que cobre, nada más. Y le doy \\npoder para que haga las acciones que crea conveniente, y él, carajo, se (?).  \\nEl señor MONTESINOS TORRES. — Se mete con él.  \\nEl señor SCHUTZ. — Entonces y él es que aparece (?) ¿Lo entiendes?  \\nEl señor MONTESINOS TORRES. — Ya. \\nEl señor SCHUTZ. — Ya ahí ya no me meto yo personalmente con él.  \\nEl abogado pues se metió a la cana, mano.  \\nDespués esto ya son (?) acá está todo tienes dos más que están allí (?) Y estas de acá todas las de \\nManuel.  \\nEl señor MONTESINOS TORRES. — Ya. \\nEl señ or SCHUTZ. — Sin embargo, esto es plata, hermano, que lo chocamos con el bolsillo este \\npata lo obligamos. Parece no le ha salido una vaina, pero parece que han ido por otro lado creo \\nque van a (?) y este, hermano, él, bueno de hace años (?)  \\n—El señor Montes inos Torres se pone de pie y sale de la sala.  \\nEl señor JOY WAY ROJAS. — Ya. \\nEl señor SCHUTZ. — (?) entramos juntos.  \\nEl señor JOY WAY ROJAS. — (?) Genaro.  \\n—El señor Montesinos Torres regresa a la sala.  \\nEl señor SCHUTZ. — (?) a Genaro, (?) yo no soy aliado de Ma nuel, su padre (?) y este es el de \\nManuel que es bueno y que lo quiere quitar, pues (?) 80 millones en todos los juicios ¿no? en \\ntodos los juicios.  \\n(?) lo arrinconamos (?).  \\nEl 4 si se está mandando está (?).  \\nEl señor MONTESINOS TORRES. — (?). \\nEl señor SCHU TZ.— Sacó a Utilísimas (?) después lo sacó a (?).  \\nEl señor JOY WAY ROJAS. — Esa parte ya está, ya hemos cuadrado.  \\nEl señor SCHUTZ. — ¿Ya lo han cuadrado ya?  \\nEl señor JOY WAY ROJAS. — Claro (?).  ',\n",
       "  6: '- - 6 El señor SCHUTZ. — Desahuévenlo, que dasahueve porque el papá se l a da de bacán, lo lleva a \\nGenaro, hace cojudeces, se la quiere dar de.  \\nEl señor JOY WAY ROJAS. — Este es una buena forma de manejar.  \\n—El señor Joy Way muestra el titular de un periódico.  \\nEl señor SCHUTZ. — Eso es.  \\nEl señor JOY WAY ROJAS. — Marcan acá y le met en el titular.  \\nEl señor MONTESINOS TORRES. — Para ver.  \\nEl señor SCHUTZ. — Pero yo lo llevé a este y le sacó la mierda a Andrade.  \\nEl señor JOY WAY ROJAS. — Mira, ahí está titular y (?).  \\nEl señor SCHUTZ. — Bueno, ya tu no me dejas. Yo le metí y con este mismo en  Buenos Días le \\nsaco la mierda, le dijo que era un farsante y que tenían (?).  \\nEl señor JOY WAY ROJAS. — Cuando tu fuiste a (?) que ya lo estaban cochineando a \\nAndrade en el (?).  \\nEl señor SCHUTZ. — Sí. \\nEl señor JOY WAY ROJAS. — Claro, entonces, uno va agarrand o \\nEl señor SCHUTZ. — Poquito, poquito a poco.  \\nBueno, yo voy a empezar (?).  \\nEl señor JOY WAY ROJAS. — Ese de Armas es un programón. Es un programón que llega no \\nte imaginas cuánto, es (?) bien manejadito es un arma buenísimas.  \\nYo estoy (?).  \\nEl señor SCHUTZ. — Eso lo hago yo cuando nací (?).  \\nEl señor JOY WAY ROJAS. — Tu tienes para (?).  \\nEl señor SCHUTZ. — (?) en el manejo, estamos bien en pareja ¿no?  \\nNos apoyamos, carajo,  Panamericana y RPP es una empresa de la (?).  \\nEl señor JOY WAY ROJAS. — (?) Todo, todo.  \\n—Timbra  el teléfono y contesta el señor Schutz.  \\nEl señor SCHUTZ. — Aló.  \\nEl señor INTERLOCUTOR. — (?). \\nEl señor SCHUTZ. — Sí.  \\nEl señor INTERLOCUTOR. — (?). \\nEl señor SCHUTZ. — No oye. No, no.  \\nEl señor INTERLOCUTOR. — (?). \\nEl señor SCHUTZ. — Tu tendrías que llevarla, pue s, mañana a Bucarén.  \\nEl señor INTERLOCUTOR. — (?). \\nEl señor SCHUTZ. — Mi oficina allá en Camacho.  \\nEl señor INTERLOCUTOR. — (?). \\nEl señor SCHUTZ. — Bucarén 598 a las 9, pues, ¿ya? 598.  \\nEl señor INTERLOCUTOR. — (?). \\nEl señor SCHUTZ. — A partir de las 9 y media pue s. ',\n",
       "  7: '- - 7 El señor INTERLOCUTOR. — (?). \\nEl señor SCHUTZ. — Es en la cuadra 52 de la avenida Javier Prado, en esa esquina.  \\n—Termina conversación telefónica.  \\nBueno, ahí está todo, oye (?) todos mis problemas pues hermano (?) hoy día me reuní con mi \\ngente (?) algunas cosas.  \\nEl señor JOY WAY ROJAS. — Habla bien de dónde (?).  \\nEl señor MONTESINOS TORRES. — (?). \\nEl señor SCHUTZ. — Yo le dije que, entro y salgo poco a poco. Yo le dije, mire ve, primero \\nque ya esta vaina (?) a Panamericana le entregan un terreno.  \\nEl señor MONTE SINOS TORRES. — Sí. \\nEl señor SCHUTZ. — De 2 metros, en canje que cambie de una expropiación de hace un huevo \\nde años. (2) \\nYo voy a hablar con él hace 13 años, con (?) es un cerro pasando La Molina, ahí le había dado su \\nadjudicación (?) 3 años (?) trabajar, t engo un montón de tiempo ¿quién llama? ¿quién vuelve? (?) \\nque quiere que no se haga nada (?)  \\nEl señor JOY WAY ROJAS. — (?) Cuando no haya (?).  \\nEl señor SCHUTZ. — No, no, no, él se llama, él dice voy a inaugurar tal cosa y (?).  \\nEl señor JOY WAY ROJAS. — Ah, ya , ya, claro. Se llama a.  \\nEl señor SCHUTZ. — Pero él tiene (?) una observación, la otra vez pasada hablamos. Yo le digo \\noiga ¿Qué pasa? le digo si hoy día el gobierno no está inaugurando nada, no está  haciendo nada \\n(?)no hay gobierno. Usted no ve qué está qu e está haciendo, carajo, los ministros, qué está \\nhaciendo Salud, que le informe (?). Claro, me ha dicho que ... instala nada, no dice nada ...  \\nEl señor JOY WAY ROJAS. — (?). \\nEl señor SCHUTZ. — Oye ya hay una actividad, bueno ¿no? (?).  \\nEl señor JOY WAY ROJAS .— Pero también es verdad que.  \\nEl señor SCHUTZ. — Nada, porque el ministro dice oye que el ministro va para Talado, que \\ninauguró, tal vaina qué está haciendo (?) el otro no hace nada.  \\nEl señor JOY WAY. — Hoy día el Presidente ha inaugurado 2 tramos buenos.  \\nEl señor SCHUTZ. — (?). \\nEl señor JOY WAY ROJAS. — No, está bien. Me refiero (?).  \\nEl señor SCHUTZ. — (?) diferente es una actividad (?) y yo le digo cómo, no hay nada.  \\nEl señor MONTESINOS TORRES. — No, no, pero, pero ahí, ahí no se puede decir la \\nrecordación eso  es el activo del gobierno.  \\nEl señor SCHUTZ. — Eso es otro (?) son las noticias diarias. Estábamos hablando con (?) que \\nhay golpear poquito a poco (?).  \\nEl señor MONTESINOS TORRES. — Sorpresivamente.  \\nEl señor SCHUTZ. — Y tú por tu lado el Congreso acá allá, en tonces qué pasa 20 noticias \\nbuenas, 2, 3 malas, pero 20 buenas.  \\nEl señor MONTESINOS TORRES. — ¿Yo, por qué? Vas a decir?  \\nEl señor SCHUTZ. — Nada, nada, sólo lo que hace el Presidente, el Presidente, nada más que el \\nPresidente (?) que ha hecho esto, que ha h echo el otro. Pezúa me decía que se había ido por \\ncaballo, no sé cuánto por el otro lado (?) hace poco y yo le digo oye y tú has dicho la (?) carajo ',\n",
       "  8: '- - 8 todo subterráneo, bueno es que yo le dije a no se quien que no sé. Está bien (?) sino sacan \\nustedes de dónd e (?) yo lo voy a inventar.  \\nDespués, ahora sí (?) ya te voy a ir armando toda tu vaina (?).  \\nYo lo que tenía, yo lo que quiero es primero que me apoyen fuerte, pues, acá.  \\nEl señor MONTESINOS TORRES. — No, la clave está en esto, en enero y tú sabes que no \\nfalta nada.  \\nEl señor SCHUTZ. — ¿Quiénes van? (?).  \\nEl señor MONTESINOS TORRES. — No, no, no el 2 de enero (?).  \\nEl señor JOY WAY ROJAS. — Tal vez (?) la trampa del off side, después que iba a meter el \\ngol, queda en off side.  \\n—El señor Montesinos Torres se retira  de la sala.  \\nEl señor SCHUTZ. — Claro, lo sacamos de allí los 2, bueno esos 2 principales, después ya \\nbueno en la medida que vamos. Después qué posibilidades le ve usted lo de la deuda. (?)  \\nEl señor JOY WAY ROJAS. — (?) Acá también hay que ser un poquito.  \\nEl señor SCHUTZ. — No, no, pero estás viendo ¿no? (?) el único que habla es Víctor Joy Way, \\nVíctor Joy Way y el Presidente. ¡Por Dios¡ No hay otro señor, como usted quiere que traigamos \\nmás notas. Nada, nada, pero nada, compañero, nada, nada.  \\nEl señor JOY WAY  ROJAS. — (?) ya está en el Proyecto N.° 31000.  \\nEl señor SCHUTZ. — Parece que estuviese, pues, en otro lado. Un cacareo lo que hace señor, \\npero todos tienen su departamento de prensa. Te puede llamar señor, está yendo el ministro, \\nestán yendo a tal sitio, (? ) o en todo caso el Presidente quiera (?) tú vas a lo tuyo, ¿no? Poder \\nJudicial lo tuyo, tú poquito a poco, toda la semana (?) noticia, hermano, yo te la voy a poner, a \\nparte de lo que tú (?) Tú me dijiste que yo como administré (?).  \\nEl señor JOY WAY ROJAS .— (?). \\nEl señor SCHUTZ. — Después dice que le han dado el 4 a un (?).  \\n—El señor Schutz recibe una llamada telefónica en su celular.  \\nEl señor SCHUTZ. — Aló. Sí. No, yo ya hablé con su papá. Muchas gracias, gracias.  \\n—Fin de la conversación telefónica.  \\nEl seño r JOY WAY ROJAS. — (?) en la forma (?).  \\nEl señor SCHUTZ. — Pero esto es más, porque esto es escrito.  \\nEl señor JOY WAY ROJAS. — Claro.  \\nEl señor SCHUTZ. — El otro se lo lleva el viento, el otro se lo lleva el viento, tú no lo ves pues, \\npasa, pasa, pasa, queda. L o que pasa es que esto lo leen 80 mil ... \\nEl señor JOY WAY ROJAS. — Claro (?).  \\nEl señor SCHUTZ. — (?) toda la noche lo ven 800 mil. (?) y comenta, ¿no? O sea, yo soy el \\nmal. Oye, fulano me ha dicho tal cosa.  \\n(?) la cosa que quería ver.  \\nBueno, yo tengo eso, te nía la... quiero ir con todo.  \\nLo del Canal 13 yo sigo, ¿no?  \\nEl señor JOY WAY ROJAS. — Ah ya.  \\nEl señor SCHUTZ. — Tú sabes (?) con los españoles (?) no hay otra forma de arreglar con los ',\n",
       "  9: '- - 9 españoles.  \\nEl señor JOY WAY ROJAS. — ¿Y con Gonzales?  \\nEl señor SCHUTZ. — ¿Gonzales? (?).  \\n¡Cuidado con Gonzales, ¡ah¡ Sí hay que tener cuidado; quería decirle justamente acá porque \\nDomingo Palermo y Gonzales andan juntos. Pero Gonzales es un tipo bien (?) ni Palermo lo va a \\npoder controlar, porque le está tratando de vender el 25%  del 13 y nada. Y se ha comprado el 9; \\no sea, ha agarrado el 9.  \\nEl señor JOY WAY ROJAS. — Ah, ya.  \\nEl señor SCHUTZ. — Ah, el 9. Te acuerdas que yo te decía (?) hablé con Julio, lo hice venir y \\ntodo, lo hice venir y todo.  \\n—Ingresa el señor Vladimiro Montesinos  Torres con un maletín y un fólder.  \\nEl señor MONTESINOS TORRES. — (?). \\nEl señor SCHUTZ. — (?). \\nEl señor MONTESINOS TORRES. — Los 2 meses.  \\nEl señor SCHUTZ. — No, (?).  \\n—El señor Vladimiro Montesinos Torres abre el maletín y saca un papel.  \\nEl señor SCHUTZ. — Yo lo llevo acá.  \\nEl señor MONTESINOS TORRES. — No, de acá lo puede llevar ahí.  \\nEl señor SCHUTZ. — Uyuyuy.  \\n—El señor Vladimiro Montesinos Torres saca 3 fajos de 100 mil, uno de 40 mil y otro de diez \\nmil dólares.  \\nEl señor MONTESINOS TORRES. — Esto es 100.  \\nEl señor SCHUTZ. — Una vaina, qué tal vaina.  \\nEl señor MONTESINOS TORRES. — Acá 200; 300; 10; 20; 30; 40 y 50. Son dos meses.  \\nTe ha servido la...  \\nEl señor SCHUTZ. — Sí, sí, (?).  \\nEl señor MONTESINOS TORRES. — No, la bolsita te ha servido (?) ahí.  \\nEl señor SCHUTZ. — Claro pues.  \\nEl señor MONTESINOS TORRES. — Está más disimulada que este maletón negro.  \\nEl señor SCHUTZ. — (?). \\nEl señor MONTESINOS TORRES. — Está llevando vino.  \\nEl señor SCHUTZ. — Sí. \\nEl señor MONTESINOS TORRES. — Y me favorece porque me dejas mi maletincito.  \\nEl señor  SCHUTZ. — Sí, (?).  \\nEl señor MONTESINOS TORRES. — Entonces, acá estamos al día.  \\nEl señor SCHUTZ. — Sí estamos al día.  \\nEl señor MONTESINOS TORRES. — Noviembre y diciembre.  \\nEl señor SCHUTZ. — Ya. \\nEl señor MONTESINOS TORRES. — Noviembre y diciembre. O sea, estamos cumpliendo ',\n",
       "  10: '- - 10 contigo, y encima de eso...  \\nEl señor SCHUTZ. — (?). \\nEl señor MONTESINOS TORRES. — Claro, encima de eso (?).  \\nEl señor SCHUTZ. — (?). \\nEl señor MONTESINOS TORRES. — ... me voy a responsabilizar de estas 2 cosas. Este... en \\nel mes de enero, los primeros  días vemos lo que más nos interesa, lo de la Sala Civil Permanente, \\nque es el fondo del asunto.  \\nEl señor SCHUTZ. — Claro, los dos, A y B (?).  \\nEl señor MONTESINOS TORRES. — Claro. Se ve el tema de la casación sin entrar a imputar, \\nentra al fondo el tema y es o se solucionó casi el 60 ó 70% (?).  \\nEl señor SCHUTZ. — Claro. (?) pero lo de la ley queda cero.  \\nEl señor MONTESINOS TORRES. — Ya queda cero.  \\nEl señor SCHUTZ. — Bueno, queda la otra, ésta es la que te estoy diciendo, ésta es la que te \\nestoy pidiendo.  \\nEl señor  MONTESINOS TORRES. — Claro, ya.  \\nEl señor SCHUTZ. — (?) ésta que (?).  \\nEl señor MONTESINOS TORRES. — Sí. \\nEl señor SCHUTZ. — (?). \\nEl señor MONTESINOS TORRES. — (?). \\nEl señor SCHUTZ. — ¿(?) en detalle todo eso?  \\nEl señor MONTESINOS TORRES. — Sí. \\nEl señor SCHUTZ. — (?). \\nEl señor MONTESINOS TORRES. — No, no, sí. Yo voy a hablar con él.  \\nEl señor SCHUTZ. — O sea, él conoce cómo es eso. (?) él sabe cómo hizo todas sus cuestiones.  \\nOye, dime una cosa, ¿él siempre (?)?  \\nEl señor MONTESINOS TORRES. — Sí, siempre está.  \\nEl señor SCH UTZ. — Está hablando con Manuel y eso; ¿no hay problema, no?  \\nEl señor MONTESINOS TORRES. — No, no hay problema.  \\nEl señor SCHUTZ. — Yo no he hablado con él, porque...  \\nEl señor MONTESINOS TORRES. — No, no, no hay problema, porque ya me estás hablando \\na mí, ya yo  \\nEl señor SCHUTZ. — (?). \\nEl señor MONTESINOS TORRES. — Ahora, con Manuel también te vamos a citar, porque \\ntambién hemos llegado a un...  \\nEl señor SCHUTZ. — Un acuerdo.  \\nEl señor MONTESINOS TORRES. — ... a un acuerdo con él y...  \\nEl señor SCHUTZ. — Yo no le he cont ado nada.  \\nEl señor MONTESINOS TORRES. — No, no, no, nada. Pero...  \\nEl señor JOY WAY ROJAS. — (?). ',\n",
       "  11: '- - 11 El señor SCHUTZ. — No, él me pregunta a mí, yo le digo: hermano, yo no tengo nada de nada.  \\nEl señor MONTESINOS TORRES. — Pero te contamos para que veas...  \\nEl señor  SCHUTZ. — Ya, sí, sí.  \\nEl señor MONTESINOS TORRES. — ... que también nosotros somos serios y no solamente \\n(?) a él.  \\nEl señor SCHUTZ. — No, yo sé, yo sé.  \\nEl señor MONTESINOS TORRES. — Entonces, vamos a conversar con él. Ya hemos \\nconversado con Víctor.  \\nEl señor SCHUTZ. — Bueno, no, prefiero más que...  \\nEl señor MONTESINOS TORRES. — Pero él no tiene por qué saber las magnitudes ni niveles \\nde los detalles.  \\nEl señor SCHUTZ. — Nada, nada. No, no (?) nada.  \\nEl señor MONTESINOS TORRES. — Nada. Mira, hermano, (?) contigo, ya hemos \\nconversado, ni tiene por qué hablar de ti ni de nadie.  \\nEl señor SCHUTZ. — Nada, nada. Ni le digas nada.  \\nOye, mira.  \\nEl señor MONTESINOS TORRES. — Sí. \\nEl señor SCHUTZ. — Por qué la SUNAT y el IPS golpean tanto a Panamericana...  \\nEl señor MONTESINOS TORRES .— ¿Quién es la IPS, ah?  \\nEl señor SCHUTZ. — El Instituto de Seguridad Social.  \\nEl señor MONTESINOS TORRES. — ¿En qué sentido?  \\nEl señor SCHUTZ. — (?) por gusto (?).  \\nEl señor MONTESINOS TORRES. — Bueno, hermano, mira, por eso tu tranquilízate.  \\nEl señor SCHUTZ. — (?) nada, ah.  \\nEl señor MONTESINOS TORRES. — Tú te tienes que tranquilizar. A partir del 1 de enero \\nvamos a regularizarlo todo en todo el esquema; en el ámbito judicial, en el ámbito de imagen, en \\nel ámbito del apoyo económico, en todo ese tipo de problemas. Ya no pienses en la SUNAT o el \\nIPSS, ya eso a partir de enero lo regularizamos.  \\nEl señor SCHUTZ. — Ya. \\nEl señor MONTESINOS TORRES. — Entonces, eso, digamos, es una cosa que Víctor y yo \\nnos encargamos.  \\nEl señor SCHUTZ. — Ya. \\nEl señor MONTESINOS TORRES. — Y tú v as sobre la base de los tres objetivos que Víctor te \\nha conversado.  \\nEl señor SCHUTZ. — No, yo estoy trabajando en eso. Ya te tengo ya. Mira tú, ayer hemos \\nhablado y hoy día ya te estoy trayendo toda una (?).  \\nEl señor MONTESINOS TORRES. — O sea, ...  \\nEl señor SCHUTZ. — (?) una maquinaria.  \\nEl señor MONTESINOS TORRES. — Claro, o sea.  \\nEl señor SCHUTZ. — Inventar vainas es difícil.  ',\n",
       "  12: '- - 12 El señor MONTESINOS TORRES. — No, no, claro. Por eso te digo, este, Castañeda cero.  \\nEl señor SCHUTZ. — Yo lo bajé, (?).  \\nEl señor MONTESINOS TORRES. — No aparece.  \\nEl señor SCHUTZ. — No, ya (?).  \\nEl señor MONTESINOS TORRES. — Ya, ¿y Andrade? Hay que darle...  \\nEl señor SCHUTZ. — Bajar, sí.  \\nEl señor MONTESINOS TORRES. — ...lo mínimo posible.  \\nEl señor SCHUTZ. — Bueno, Castañeda va a llegar su momento, va a  (?) nada.  \\nEl señor MONTESINOS TORRES. — Bueno, se le da pues un minuto.  \\nEl señor SCHUTZ. — No, no. Ahí no (?).  \\nEl señor JOY WAY ROJAS. — Cuando vaya la clave es (?) tiene que ir, tiene que ir; pero ya \\nviene la forma de entrevistar. También hay que (?).  \\nEl se ñor SCHUTZ. — Pero alguien debería (?) habría que ver qué cosa pasó. Por ejemplo, hoy \\ndía también hablaron de Castañeda en la reunión. Ahora me dice, del señor Castañeda: ya no, \\npárelo ahí.  \\nEl señor JOY WAY ROJAS. — Ah, también (?).  \\nEl señor SCHUTZ. — No, no,  no, pero va a seguir (?).  \\nEl señor JOY WAY ROJAS. — Ah, ya.  \\nEl señor SCHUTZ. — No, no (?). Es que ha estado...  \\nEl señor MONTESINOS TORRES. — Sí, claro.  \\nEl señor SCHUTZ. — Ha estado llamando, entonces ellos preguntan. Yo le dije: mira, déjalo \\ntodavía (?) su fi rma (?), déjelo ahí nomás (?).  \\nAdemás no es gran cosa el pata, le dije, porque yo, de verdad pues, un día yo me voy de \\nParamonga y lo veo pues administrando la cosa. Y me dice: acá estoy (?) pobre gente. Entonces, \\nen eso caminando por ahí, yo le digo: (?) está parada. Sí, me dice, no tengo un repuesto (?).  \\nEl señor JOY WAY ROJAS. — Tienes que decir que (?).  \\nEl señor SCHUTZ. — Yo soy el (?).  \\nEl señor MONTESINOS TORRES. — (?) usted use un sentido de la lógica...  \\nEl señor JOY WAY ROJAS. — (?) el producto que él ve nde donde vaya es él.  \\nEl señor MONTESINOS TORRES. — Claro.  \\nEl señor JOY WAY ROJAS. — Donde vaya.  \\nEl señor SCHUTZ. — Pero hay que sacar un poco el destape del Seguro; nadie dijo nada.  \\nEl señor MONTESINOS TORRES. — No, tenemos un montón de información para el \\nmomento adecuado.  \\nEl señor SCHUTZ. — Claro.  \\nEl señor MONTESINOS TORRES. — Hay manejos...  \\nEl señor SCHUTZ. — Pero, la información me tienes que dar, no al 4 que te ha traicionado. \\nAlgo para mi Panorama . \\nEl señor MONTESINOS TORRES. — No, te voy a dar para tu Pano rama . Mira, hay un trabajo \\nbueno que estamos haciendo.  ',\n",
       "  13: '- - 13 El señor SCHUTZ. — (?). \\nEl señor MONTESINOS TORRES. — Estoy haciendo uno... los últimos dos que cayeron de \\nSendero Luminoso, la mujer y el maestro, que son de Feliciano, están ya en contacto con \\nGuzmán. Y Guzmán ya los ha convencido para que salgan a la televisión a criticar a Feliciano y \\ndigan que es un traidor. Entonces, lo sacas tú.  \\nEl señor SCHUTZ. — Ya. \\nEl señor MONTESINOS TORRES. — Entonces, tú designas una persona de Panamericana (3) \\npara que lo llev e yo al penal y le hace un pliego, le preparamos un pliego de preguntas \\ncoordinado, hacemos el ensayo. Y le hago las preguntas antes, lo ensayo. Y después te entrego a \\nti las preguntas, y tú le dices: oye, quiero que hagas estas preguntas.  \\nEl señor SCHUTZ. — Tú ni intervengas.  \\nEl señor MONTESINOS TORRES. — Nada.  \\nEl señor SCHUTZ. — Tú no aparezcas.  \\nEl señor MONTESINOS TORRES. — Para nada, para nada.  \\nEl señor SCHUTZ. — Ya. \\nEl señor MONTESINOS TORRES. — Éstas son las preguntas y no debe salirse de ese (?).  \\nEl señor SCHUTZ. — No, no, porque, claro...  \\nEl señor MONTESINOS TORRES. — Entonces van allá...  \\nEl señor SCHUTZ. — Tiene que hacer lo que le digo.  \\nEl señor MONTESINOS TORRES. — Claro, claro. Éstas son las preguntas que le hacen y él \\nque haga sus respuestas; pero las res puestas ya le he entrenado.  \\nEl señor SCHUTZ. — Claro.  \\nEl señor MONTESINOS TORRES. — Entonces, ésa es una buena primicia. Sale un tipo \\ndiciendo que Feliciano es traidor tal cuál, esto que (?). Este es el asunto.  \\nEl señor SCHUTZ. — Ahora tú sabes que te estoy h aciendo el proyecto de Ecuador ¿no?  \\nEl señor MONTESINOS TORRES. — Sí. \\nEl señor SCHUTZ. — Lo está haciendo Mónica Delta (?); qué bueno que lo haga una persona \\nque no sea, y se está haciendo bien, se está haciendo bien. Y al final va a ser favorable para el \\nPresidente, porque el Presidente va a ser el héroe.  \\nEl señor MONTESINOS TORRES. — Así es.  \\nEl señor SCHUTZ. — Toda esta vaina (?) y al final aparece pues el Presidente. Allí  van a tener \\nque conseguir una cita. Creo que al Presidente no le gusta mucho Mónica.  \\nEl señor JOY WAY ROJAS. — No, bueno, ya le toca una (?)  \\nEl señor SCHUTZ. — (?) no tiene.  \\nEl señor JOY WAY ROJAS. — Ya le toca una (?). \\nEl señor SCHUTZ. — No a fregar pues. Tiene que armas una cosa y  además que se vea bien \\npues, que se vea bien hecho la pregunta.  \\nEl señor MONTESINOS TORRES. — Claro.  \\nEl señor SCHUTZ. — O en todo caso que nos diga cómo quiere, ya yo la preparo a Mónica sin \\ndecirle nada, le digo: mira, pregúntale por acá, no le preguntes por allá. Yo le digo.  \\nEl señor MONTESINOS TORRES. — Lógico.  ',\n",
       "  14: '- - 14 El señ or SCHUTZ. — No, no. Me gustaría (?). \\nEl señor MONTESINOS TORRES. — Claro.  \\nEl señor SCHUTZ. — Ya. Después (?). Porque yo todos  los días hablo con ellos, todos los días. \\nPero por ahí se me escapan algunas cosas; porque, carajo, tengo pues 38 reporteros en el P erú y \\n600 en provincias, ya no agarro, agarro sólo unos jefecitos que (?).  \\nCualquier cosa me avisan, yo vengo para acá.  \\nEl señor MONTESINOS TORRES. — Sí. Ya llegaron los teléfonos, por si acaso.  \\nEl señor SCHUTZ. — Ah ya.  \\nEl señor MONTESINOS TORRES .— Ya lleg aron, ya me llegaron los teléfonos, estoy ahorita \\nhaciendo la cuestión. El día lunes tengo (?) teléfonos encriptados.  \\nEl señor SCHUTZ. — Ya. \\nEl señor MONTESINOS TORRES. — El lunes te voy a llamar. Te llevas en tu maletín, llegas \\na tu oficina, acá te enseño c ómo lo manejas.  \\nEl señor SCHUTZ. — Ya, yo lo hago.  \\nEl señor MONTESINOS TORRES. — Lo enchufas en tu oficina, cuando te vas lo sacas y te lo \\nllevas a tu casa. (?) en tu casa, en tu oficina, en la playa, en lo que quieras.  \\nEl señor SCHUTZ. — Ya. \\nEl señor MONTESI NOS TORRES. — Te vas a la provincia, igual te llevas y lo enchufas.  \\nEl señor SCHUTZ. — Bueno, en la playa no tengo teléfono.  \\nEl señor JOY WAY ROJAS. — Qué raro  (?).  \\nEl señor SCHUTZ. — Ah sí, no, para no, para poder andar tranquilo.  \\nEl señor MONTESINOS TORRES. — Tú también te llevas uno (?) en tu carro, tu casa (?). Lo \\npuedes enchufar (?).  \\nEl señor SCHUTZ. — Bueno, llevamos quiénes podemos hablar, pues.  \\nBueno, está bien que tú te manejes individualmente con los canales.  \\nEl señor MONTESINOS TORRES. — Sí, claro.  \\nEl señor SCHUTZ. — Ese vaina de que estemos todos no (?). \\nEl señor MONTESINOS TORRES. — No, pero a veces (?).  \\nEl señor SCHUTZ. — Para algunas cosas.  \\nEl señor JOY WAY ROJAS. — Sólo en los casos como qué sucedió el otro día que \\ncomprometía a todos.  \\nEl señor SCHUTZ .— Claro, pero fíjate como arreglamos uno, yo estaba de acuerdo totalmente \\ncontigo y después (?) la otra vaina.  \\nEl señor JOY WAY ROJAS. — Pero te has dado cuenta, por más que uno ande coordinado, un \\ndescuido y (?) un descuido de un día.  \\nEl señor SCHUTZ. — Oye, las comunicaciones van a una velocidad, y yo soy nuevo, yo soy \\ningeniero agrónomo, hermano.  \\nEl señor MONTESINOS TORRES. — Sí, sí, claro.  \\nEl señor SCHUTZ. — Yo no soy un hombre de... tú eres ingeniero también, tú eres abogado.  \\nPero, (?) el periodista es un  tipo que está a la caza y te  saca cosas, sueltan un chisme, ¡pum¡ lo \\nsaca, lo tira (?) y mientras te das cuenta ya lo sacó, porque él cree que ha hecho el gran trabajo, él ',\n",
       "  15: '- - 15 es profesional. Cómo le vas a quitar esa primicia.  \\nEl señor MONTESINOS TORRES. — Claro. \\nEl señor SCHUTZ. — Se vuelve loco. Una entrevista contigo, se vuelve loco. Tú le dices que le \\nvas a dar una entrevista mañana y que quieres que (?).  \\nEl señor MONTESINOS TORRES. — A esa gente le gusta,  \\nEl señor SCHUTZ. — Le encanta.  Claro, Hildebrandt es  ya la expresión máxima de cómo (?). \\n¿Va a volver o no va a volver?  \\nEl señor MONTESINOS TORRES. — No, no va a volver.  \\nEl señor SCHUTZ. — ¿Ya no?  \\nEl señor MONTESINOS TORRES. — Bueno, estamos tratando de evitar que vuelva.  \\nEl señor SCHUTZ. — Bueno, yo estoy en e sencia trabajando, ah.  \\nEl señor MONTESINOS TORRES. — Ya. \\nEl señor SCHUTZ. — Te cuento que,  no sé, pues hasta dónde llegue, porque el asunto es sacarlo \\na Genaro...  \\nEl señor MONTESINOS TORRES. — Claro . \\nEl señor SCHUTZ. — (?) el papá de los Crousillat es muy pare cido a Genaro.  \\nEl señor MONTESINOS TORRES. — Así es.  \\nEl señor SCHUTZ. — Uy, es una cosa de (?).  \\nEl señor MONTESINOS TORRES. — ¿Tú lo conoces?  \\nEl señor SCHUTZ. — Manuel me ha dicho: “puta madre, (?) es mi amigo y todo, pero él es hijo \\nputativo de Genaro. Ahora que no llega a los extremos del otro, pero, carajo, no cumple nada, no \\ncree en nadie, (?). \\nEn cambio, Kiko  era un poquito más razonable, un tipo que se podía manejar, pero bueno...  \\n(?) el Ferrari le quiere iniciar el juicio, como sabes, para pedir que no.. . hacer la venta (?).  \\nEl señor MONTESINOS TORRES. — (?) mandaron un memorándum, hay una señora de \\nFerrari.  \\nEl señor SCHUTZ. — Rosita de Ferrari.  \\nEl señor MONTESINOS TORRES. — Que quiere hacer un tema de juicio; ¿hay que apoyar \\neso o no?  \\nEl señor SCHUTZ. — ¿El juicio de cuál de ellos es?  \\nEl señor MONTESINOS TORRES. — Tengo el papel, te lo voy a traer ahorita, porque me \\nmandaron un fax, una persona que está defendiendo a la señora.  \\nEl señor SCHUTZ. — Ya. Ah, una señora, una doctora.  \\nEl señor MONTESINOS TORRES. — Sí, sí, sí.  \\nEl señor SCHUTZ. — Creo que la conoces, ¿no?  \\nEl señor MONTESINOS TORRES. — Sí, sí.  \\nEl señor SCHUTZ. — Sí, está bien.  \\nEl señor MONTESINOS TORRES. — ¿Hay que apoyar eso?  \\nEl señor SCHUTZ. — Apoyarla, sí.  \\nEl señor MONTESINOS TORRES. — Quiero que me (?) en d etalle.  ',\n",
       "  16: '- - 16 El señor SCHUTZ. — Pero hay que ver si el apoyo, yo quiero ver, porque ¿qué cosa pasa?  \\nFíjate, acá hay una cosa que es media ambigua. Yo le dicho a De Ferrari: oye, mira, yo te voy a \\ncomprar 50%.  \\nEl señor MONTESINOS TORRES. — Ya. \\nEl señor SCHUTZ. — Después hay que acogotar un poco a Ángel Gonzales...  \\nEl señor MONTESINOS TORRES. — Ya. Pero quiero traerte el papelito para que tú me digas. \\nMe han hecho la consulta, yo no sé (?).  \\nEl señor SCHUTZ. — Ya, ya. Ya yo sé de donde (?). Ésa  es una (?) es amiga de...  \\n—El señor Vladimiro Montesinos Torres coge el maletín un fólder y sale de la sala.  \\n—Suena el teléfono celular del señor Ernesto Schutz , quien contesta la llamada.  \\nEl señor SCHUTZ. — Aló. \\nSí, si, Gustavo, dime.  \\n¿Buena o mala? Haber.  \\nAjá. Ya, dice que hay gr andes posibilidades ¿no?  \\nYa, perfecto.  \\nY mañana nos vamos a ver, el domingo, para la asamblea ¿no? Vas a ir allá.  \\nYa, ya, ya listo.  \\nMe llamas antes por teléfono.  \\nYa listo.  \\nGracias.  \\n—Finaliza conversación telefónica.  \\nEl señor SCHUTZ. — (?) abogado que está viendo el juicio del edificio justamente.  \\nOye, (?) partimos por ahí y se acabó (?). Y a Ángel Gonzales lo tenemos que...  \\nYa, entonces, yo lo que quiero hacer es un acuerdo con Telefónica, (?) un juicio; la mejor \\nmanera es que yo (?) al juicio. Y Telefónic a no creo que tenga problema de ser dueña de un...  \\nEl señor JOY WAY ROJAS. — (?). \\nEl señor SCHUTZ. — Bueno, (?) a nosotros no van a poder (?). Pero yo le dije: yo te doy una \\nparte de las acciones, formamos una compañía, yo te doy una parte de las acciones, s i quieres \\nhasta la mayoría te doy; pero yo soy socio del canal (?) el 25 % (?) y 75 % (?). Y yo quiero \\nmanejar, pues; ¿cuál es mi interés? (?) además, tiene su (?) yo no creo que van a hacer un \\nproblema político (?) ellos son extranjeros, ¿te das cuenta?  \\n(?) ¿como está? (?).  \\nYo no sé, allá hay algo raro.  \\nEl señor JOY WAY ROJAS. — (?). \\nEl señor SCHUTZ. — (?). \\nEl señor JOY WAY ROJAS. — (?). \\nEl señor SCHUTZ. — Nada, ¿no?  \\nBueno él se ha metido con el 9 y ha hecho la mayoría absoluta con (?) o sea (?).  \\nLe ha hecho  todo una jugada a la familia (?) ya no podía hacer nada (?). \\nY de esa manera imagínate (?) no podía hacer nada, ya le había cerrado (?). ',\n",
       "  17: '- - 17 Y ahí está Príncipe (?) el otro desiste, después desiste (?). Acepta e inmediatamente creo que le \\npone una (?).  \\nEl señ or JOY WAY ROJAS. — ¿Qué está pidiendo  de Ferrari?  \\nEl señor SCHUTZ. — De Ferrari está pidiendo que le pague (?) diarios; el otro 50 tiene creo, \\nno, miento, creo que lo tenía el 25% (?).  \\nHay un detalle con el que no (?) que tenga el canal. El canal (?). \\nEl se ñor JOY WAY ROJAS. — Ahí vemos, pues.  \\nEl señor SCHUTZ. — (?) sólo para (?).  \\nYo pensaba irme con él (?) si éste desiste de la venta (?). Toma la empresa él y me da a mí el (?) \\nse caga.  \\nEl señor JOY WAY ROJAS. — Claro. Está luchando por los dos, están marchando  cuerpo a \\ncuerpo ¿no?  \\nEl señor SCHUTZ. — Quien con él (?). Usted no sabe que yo conozco a ese tipo. Igualito, \\nigualito (?).  \\nEl edificio que le ha quitado, lo va a sacar del edifico y le va a ganar el juicio.  \\n(?) por la puerta grande. Bueno, será por la puer ta grande (?). Es la mitad del edificio, la mitad \\ndel edificio. Eso es por un lado.  \\nPor otro lado, esto no es que le ha quitado el canal (?) ha ganado un juicio (?) gasta, hace perder \\ndinero (?). Pero no produce, no está (?).  \\n(?) Joy Way tiene que hacerlo todo con campaña ¿no? (?).  \\n—Reingresa el señor Vladimiro Montesinos Torres a la sala.  \\nEl señor MONTESINOS TORRES. — Bueno, el papelito no lo ubico, pero apenas lo... (4) \\nEl señor SCHUTZ. — No, yo ya sé de quién, es de Aldaba creo (?).  \\nEl señor MONTESINOS TOR RES. — Aldaba, exactamente, Aldaba (?) defendiendo...  \\nEl señor SCHUTZ. — Exactamente, esto (?).  \\nEl señor MONTESINOS TORRES. — (?) haciendo el juicio contra el Banco Wiese, y...  \\nEl señor SCHUTZ. — Parece que ahí hay un problema.  \\nEl señor MONTESINOS TORRES. — Sí. \\nEl señor SCHUTZ. — Si ellos ganan, el Banco Wiese les tiene que pagar.  \\nEl señor MONTESINOS TORRES. — Ya. \\nEl señor SCHUTZ. — Y si les paga (?) agarran su plata (?) mejor es lo que estoy haciendo yo. Y \\nle dije a él: yo te voy a comprar (?), no si tú cobras más  del 50%, ya no...  \\n—Timbra el teléfono celular del señor Schutz, quien no contesta la llamada.  \\nEl señor SCHUTZ. — Tú cobras más del 50%, y ya no le puedes hacer juicio (?) Wiese paga, \\npaga, para (?) lo que tengo que pagar, ¿no es cierto?  \\nEl señor MONTESINOS  TORRES. — Así es.  \\nEl señor SCHUTZ. — Entonces, yo le dije: “¿cómo te voy a ayudar yo para que tú cobres, si tu \\ncobras ya no me vendes; lo que tú tienes que hacer es no cobrar, hermano.”  \\nÉl dice que no, él lo que quiere es probar que Genaro los ha estafado.  \\nComo ha (?) Genaro (?) él compra (?)estoy comprando con plata de una compañía que se llama \\n(?). ',\n",
       "  18: '- - 18 (?) es una compañía (?) y esos 2 con 1 mil soles de capital compran 10 millones de soles, pagan \\nla mitad, y la otra mitad le dicen: “Voy a ver cómo están tus p asivos” He visto los pasivos y te \\nagarran y levantan los pasivos (?)  \\nY me dice: “Pero no te levantan los pasivos” (?) el contralor (?) levanta los pasivos y dice: “Hay \\nmás pasivos de lo que me dijiste” (?) no te pago nada (?)  \\nEstos han querido (?) Y ante t odo, ah.  \\nEl señor MONTESINOS TORRES. — Cuando tenga el papelito lo (?) en diskettes.  \\nEl señor SCHUTZ. — Me llamas porque yo, la idea es que si yo llego al acuerdo con él (?) \\ncomo le he estado explicando a él(?).  \\nEl señor MONTESINOS TORRES. — Claro, por eso le  digo.  \\nEl señor SCHUTZ. — Yo le he estado diciendo a él: “Yo he hablado con los españoles, le he \\ndicho que yo no tengo plata para (?)  \\nEl señor MONTESINOS TORRES. — Claro.  \\nEl señor SCHUTZ. — Sí, hay un grupo que quiere entrar aquí (?)” Usted está interesado,  sí, me \\ndijo (?). Ha nombre de otro, porque yo no voy a tener para pagar.  \\nEl señor MONTESINOS TORRES. — Claro, lógico.  \\nEl señor SCHUTZ. — Pero ya estamos ahí, pues, comenzamos a meter, a meter y de ahí ya \\nllegamos ya a ganar y como son extranjeros (?); la pa rte política no los van a (?).  \\nEl señor MONTESINOS TORRES. — Eso es lo que nos  interesa.  \\nEl señor SCHUTZ. — (?) al hombre (?).  \\nEl señor MONTESINOS TORRES. — Claro, de todas maneras.  \\nEl señor SCHUTZ. — (?) tú con (?).  \\n(Risas.)  \\nEl señor SCHUTZ. — No, no.  \\nEl señor  JOY WAY ROJAS. — No, pues, está bien, está bien así.  \\nLo normal, lo normal.  \\nEl señor SCHUTZ. — Hay que cuidarlo, hermano.  \\nEl señor JOY WAY ROJAS. — Sí, de todas maneras.  \\nEl señor MONTESINOS TORRES. — Claro.  \\nEl señor SCHUTZ. — Bueno.  \\nEl señor MONTESINOS TORRES. — Listo hermano.  \\nEntonces, el lunes estoy entregándote el maletín.  \\nEl señor SCHUTZ. — Ya, pues.  \\nEl señor MONTESINOS TORRES. — Ya. \\n—Se observa que los señores Montesinos Torres y Schutz se retiran de la sala, quedándose \\nsolamente el señor Joy Way Rojas.  \\n—Despu és de un momento regresa a la sala el señor Montesinos Torres y comienza el diálogo \\ncon el señor Víctor Joy Way Rojas.  \\nEl señor MONTESINOS TORRES. — ¿Has visto al general Moncayo?  \\n(Risas.)  ',\n",
       "  19: '- - 19 El señor MONTESINOS TORRES. — (?) de una vez, está entrando mi llamad a. Has visto \\ncómo el cojudo (?)  \\nEste es el que mejor está, ah.  \\nEl señor JOY WAY ROJAS. — Sí. \\nEl señor MONTESINOS TORRES. — Bueno, que el problema, sabes está de que nosotros \\ndecimos pon menos a este, pon más a este; pero no tenemos el esquema de cómo los dif undimos \\na (?) un equipo de actividad, cómo se hace el tema de obra; pero también ellos que pongan un \\npoco de su parte, del ingenio, porque sino vamos a hacer duplicado.  \\nEl señor JOY WAY ROJAS. — Sí. \\nEl señor MONTESINOS TORRES. — Ya. \\nEl señor JOY WAY ROJAS. — Claro porque no debe saber (?), pero...  \\nEl señor MONTESINOS TORRES. — No, no.  \\nEl señor JOY WAY ROJAS. — (?) me refiero (?).  \\nEl señor MONTESINOS TORRES. — Ahora, el tema está en que él viene mañana con los \\nprocuradores por el asunto de las leyes.  \\nEntonces pod emos ahondar especialmente para poder (?).  \\n¿Por qué te digo? Porque en el primer caso que tú no tienes, es el de Castillo Petrucci (?). \\nEntonces, ¿cuál es mi idea? En la mañana van a venir los procuradores y voy mandar a \\nWashington a que presenten una quej a ante el Secretario General de la OEA por las parcialidades \\n(?). \\nCuando se trató de (?) o acá (?) descalificados por (?) lo que ha pasado en (?).  \\nEl señor JOY WAY ROJAS. — Ciertamente que ya lo han recusado.  \\nEl señor MONTESINOS TORRES. — Lo han recusado y l o han sacado, y lo han declarado \\nnulo.  \\nEntonces ahora nosotros y el procurador, y sobre esa base se hace todo un reportaje.  \\nEl señor JOY WAY ROJAS. — Nosotros también podemos recusarlo a él.  \\nEl señor MONTESINOS TORRES. — Pero, por supuesto, por supuesto.  \\nEntonces ya entra el procurador allá, entonces vamos allá se hace todo un reportaje (?) “Mire \\nseñor, este Castillo Petrucci, esto pasó, y el procurador está pidiendo es la nulidad, de todas estas \\ncuestiones, porque se viene este problema.”  \\n¿Entiendes?  \\nEntonce s, en febrero nos viene la libertad de Castillo Petrucci, o a fines de enero nos viene y eso \\n(?) Porque lo de (?).  \\nEl señor JOY WAY ROJAS. — (?) se podría sacar una ley (?).  \\nEl señor MONTESINOS TORRES. — Sí. \\nEl señor JOY WAY ROJAS. — Creando una (?) justament e. \\nEl señor MONTESINOS TORRES. — (?) permanente.  \\nPero el tema, mire, el tema entraña lo siguiente: la Corte Interamericana, que es el órgano \\njurisdiccional, porque la Comisión Interamericana  que es la OEA que hace recomendaciones, y \\ncuando no se cumplen esa s recomendaciones pasa a la Corte, pero todo está encerrado en la \\nOEA, están recomendando la libertad de Castillo Petrucci, y la OEA va por encima de esa Corte, \\nhace reunión de ministros del Interior en el Mar del Plata para ver cómo vamos a hacer para \\nluchar, pues, contra el fantasma del terrorismo en América Latina.  ',\n",
       "  20: '- - 20 Entonces, es una incongruencia que un órgano subordinado quiera poner en libertad a un fulano \\nque lo que va a poner...  \\nEl señor JOY WAY ROJAS. — Y por una cuestión procesal.  \\nEl señor MONTESINOS  TORRES. — Por una cuestión procesal, donde va a poner, ¿cómo se \\nllama esto?, en el libro justamente lo que están haciendo los ministros.  \\nEntonces, con eso sensibilizamos la opinión pública, hermano.  \\n¿Qué te parece la idea? (?).  \\nEl señor JOY WAY ROJAS. — Yo le dije a Medelius que no se (?).  \\nEl señor MONTESINOS TORRES. — Y ahí queda.  \\nEl señor JOY WAY ROJAS. — Yo hoy día me (?).  \\nMire, yo lo único que he hecho estos días es a título personal, expresar una preocupación a los \\n(?) en voz alta.  \\nEl señor MONTESINOS TOR RES. — ¿Y cuál es mi preocupación? De que, señores, ha \\nhabido una reunión de ministros del Interior en el Mar del Plata convocada por la OEA para ver \\nel peligro de la lacra del terrorismo en el continente.  \\nEl señor JOY WAY ROJAS. — Eso puede ser.  \\nEl señor MO NTESINOS TORRES. — Claro, sí, es un hecho real.  \\nEl señor JOY WAY ROJAS. — Ah, ya, ya, ya.  \\nEl señor MONTESINOS TORRES. — (?). \\nEl señor JOY WAY ROJAS. — Yo pensé que era, este...  \\nEl señor MONTESINOS TORRES. — No, es un hecho real.  \\nEntonces, y me está preocupando;  entonces, me preocupa que un ente de la OEA pretenda poner \\nen libertad a un terrorista probadamente, que quería tomar el Congreso, como Presidente del \\nCongreso eso me tiene que llamar a preocupación a mí. Que se prepare a (?) quien quiso tomar el \\nCongreso . \\nEntonces es una preocupación.  \\nEl señor JOY WAY ROJAS. — Claro.  \\nEl señor MONTESINOS TORRES. — Como deben compartir todos los ciudadanos y lo \\ncomparten todo los ministros del Interior.  \\nEl señor JOY WAY ROJAS. — (?) a toda la opinión pública.  \\nEl señor MONTESIN OS TORRES. — Claro, pero, ya no, pero ya no.  \\nEl tema tuyo es que tienes esa preocupación como Presidente del Congreso.  \\nEl señor JOY WAY ROJAS. — Ah, ya, ya, ya.  \\nEl señor MONTESINOS TORRES. — ¿Por qué? Porque este señor trató de tomar el Congreso, \\ny ahora se p retende poner en libertad, esa es tu preocupación.  \\nEl señor JOY WAY ROJAS. — Oye, antes de que me olvide.  \\nEl señor MONTESINOS TORRES. — Sí. \\nEl señor JOY WAY ROJAS. — Te dije que va a mover (?).  \\nEl señor MONTESINOS TORRES. — No, no.  \\nEl señor JOY WAY ROJAS. — Claro yo, pero (?).  ',\n",
       "  21: '- - 21 El señor MONTESINOS TORRES. — No hermano, no, cómo si ya lo estuve imaginando acá.  \\nHa venido Absalón con él y ya no va a volver a (?) además está trabajando (?).  \\nEl señor JOY WAY ROJAS. — Además no viene.  \\nEl señor MONTESINOS TORRES. — Mira, h ermano (?) y evitamos a toda (?).  \\nEl señor JOY WAY ROJAS. — (?) No, no, pero (?).  \\nEl señor MONTESINOS TORRES. — No, no, no.  \\nNo, mentira, hermano, (?) llámalo hoy día y dile que tienes la plena seguridad que no es así.  \\nYo no sería tan zonzo de a una persona q ue nos puede dar un apoyo lo vamos a sacar de tiro, \\npues, hermano, (?).  \\nEl señor JOY WAY ROJAS. — (?). \\n—El señor Joy Way Rojas toma asiento.  \\nEl señor MONTESINOS TORRES. — No, hermano, dale la plena seguridad de que no es así.  \\nTienes la, la, no, no (?) la seg uridad de eso, la seguridad de que no va a salir ese (?) tranquilo, \\nson especulaciones.  \\nEl señor JOY WAY ROJAS. — (?). \\nEl señor MONTESINOS TORRES. — A los “gorditos” ahora, ¿cómo se llama esto? Les voy a \\nentregar, hermano un poco más de 1 millón de dólares, hermano, no es poca cosa.  \\nPor ejemplo, mira, anteanoche, hermano, han pasado lo del plan, hermano, como 4 minutos, \\nhermano, ah.  \\nEl señor JOY WAY ROJAS. — Si pudieras leer (?).  \\nEl señor MONTESINOS TORRES. — Mira hermano, estos son los objetivos y al próximo \\nmes, hermano, haciendo evaluación, entonces (?).  \\nEl señor JOY WAY ROJAS. — (?) nos toca guiar nuestro trabajo.  \\nEl señor MONTESINOS TORRES. — Claro.  \\nEl señor JOY WAY ROJAS. — Nosotros...  \\nEl señor MONTESINOS TORRES. — (?) hermano.  \\nEl señor JOY WAY ROJAS. — (?) vam os a mirar.  \\nEl señor MONTESINOS TORRES. — Ya. \\nEl señor JOY WAY ROJAS. — Los canales.  \\nEl señor MONTESINOS TORRES. — Los canales estamos viendo.  \\nEl señor JOY WAY ROJAS. — (?) cada vez que miro un mañana (?) pone.  \\nEl señor MONTESINOS TORRES. — Claro.  \\nEl señor JOY WAY ROJAS. — Así es.  \\nEl señor MONTESINOS TORRES. — Lógico.  \\n—Se retira de la sala el señor Vladimiro Montesinos Torres.  \\n—Fin del Vídeo S/N.  \\n—Transcripción: martes 2 de octubre de 2001.  \\n—Transcriptores: Alberto Balbuena Reccio, Dior Dávila Ames, Azucena Lafore tt Palacios, \\nNéstor Guillén Salazar.  \\n '},\n",
       " '..\\\\_data\\\\131 VÍDEO N.° 1825.KOURI-DR(02-02-00).pdf': {1: '-1- Departamento de Transcripciones  \\n \\nCONGRESO DE LA REPÚBLICA  \\nSEGUNDA LEGISLATURA ORDINARIA DE 2000  \\n \\nTRANSCRIPCIÓN DEL VÍDEO N.° 1825  \\n‘‘REUNIÓN ALEX KOURI - DOCTOR’’  \\n \\n2 DE FEBRERO DE 2000  \\n \\n—Se aprecia al señor Alexander Kouri Bumachar en una sala hojeando una revista. \\nIngresa el señor Vladimiro Montesinos Torres.  \\n \\nEl señor MONTESINOS TORRES. —¿Cómo está?  \\nEl señor KOURI BUMACHAR, Alexander. — Bien.  \\nEl señor MONTESINOS TORRES. — Lo vi en la mañana, con Lombardi.  \\nEl señor KOURI BUMACHAR, Alexander. — ¡Ah! ¿En canal 11 ? \\nEl señor MONTESINOS TORRES. —Sí, sí, sí.  \\nEl señor KOURI BUMACHAR, Alexander. —Bueno, ahí me encontré \\ncircunstancialmente con Andrade...  \\nEl señor MONTESINOS TORRES. — Sí. \\nEl señor KOURI BUMACHAR, Alexander. — Estuvo a primera hora con su esposa, y \\njusto fue a  raíz de eso que me dijo...bueno, fue un poco tensa la...un poco fría, digamos, la \\nrelación ¿no?  \\nEl señor MONTESINOS TORRES .— Claro.  \\nEl señor KOURI BUMACHAR, Alexander. — Y nos hemos reencontrado nuevamente \\nahora en el Hotel Miraflores Park Plaza.  \\nEl señor MONTESINOS TORRES .— ¡Ah! Con el Frei.  \\nEl señor KOURI BUMACHAR, Alexander. — Con el presidente Frei.  \\nHemos estado Castañeda, Andrade, el presidente Belaunde.  \\nEl señor MONTESINOS TORRES .— Ya. \\nEl señor KOURI BUMACHAR, Alexander. — Había  una cantidad importante  de \\nindustriales, gente de CONFIEP.  \\nLo quería molestar, y era el propósito de la llamada el día de ayer, por lo siguiente: Tuve \\nocasión de conversar el día de ayer al mediodía con el señor Dellepiane y con el señor \\nGómez.  \\nEl señor MONTESINOS TORRES .— Ya. \\nEl señor KOURI BUMACHAR, Alexander. —Ellos me comentan lo siguiente. Me \\ndijeron, bueno, me hicieron una breve exposición de cual había sido la evolución de la \\nintención de voto en el Callao, y (ininteligible) presidente Fujimori como los candidatos de \\n(ininteligible). Y la conclusión, me dijo, es necesario salir al frente en el caso Andrade, \\nadelantando las fechas de lo que se viene más o menos planteando. Eso me parece muy \\nbien, no hay ningún problema, se puede ir trabajando.  \\nSin embargo, creo, el exceso d e entusiasmo de ellos —lo cual, sin duda, puede ser \\ncanalizado para otros propósitos — no cubre, creo yo, me refiero al análisis frío en el tema \\nno sólo político, sino al aspecto metodológico de cómo hacer una difusión de impacto más ',\n",
       "  2: '-2- directa para que sea re almente efectiva.  \\nPor eso me permití, y le agradezco la gentileza de que usted me haya dado (ininteligible) el \\ndía de hoy, conversé con (ininteligible) la posibilidad de que usted designara a una \\npersona...  \\nEl señor MONTESINOS TORRES .— Ya. \\nEl señor KOURI B UMACHAR, Alexander. — Que sea más un estratega ¿no?  \\nEl señor MONTESINOS TORRES .— Ya. \\nEl señor KOURI BUMACHAR, Alexander. — Que me diga: “Mire, señor Kouri, es \\napropiado en este momento, podemos trabajar en esta línea”, y poder tratar con él de \\nasuntos tanto de contenido como de las normas . \\nPor tanto, el comandante como el almirante, como le reitero, tenía yo que sugerir un poco \\nlas ideas y los planteamientos que, pero entiendo (Suena un teléfono)  una visión global \\ndel tema.  \\nEl señor MONTESINOS TORRES .— Ya. \\nEl señor KOURI BUMACHAR, Alexander. — Para poder hacerlo de una manera mucho \\nsincronizada.  \\nY quiero plantear una cosa más puntual, podría ser este viernes o el lunes, digamos, una \\nopción mucho más clara, ir a este asunto de los humedales , se inicia la semana  de los \\nhumedales, hacemos un operativo conjunto entre el gobierno con el municipio, el cual \\npermite una relación coordinada. Esto es, el Ministerio de la Presidencia comunique \\nmunicipalidad provincial con la comunidad.  \\nSi se hace simultáneamente el tema d e Chotay -Chorrillos, y en horas de la tarde yo voy \\ncon mi maquinaria a los humedales, yo limpio la zona periférica.  \\nEntonces, ¿esto qué implica? Implica conversar con el alcalde de Chorrillos.  \\nEl señor MONTESINOS TORRES. — Con Miyashiro.  \\nEl señor KOURI BU MACHAR, Alexander.  — Con Miyashiro, y que los dirigentes de la \\nzona colindante no sólo que le oficien al alcalde del Callao para que les limpie la zona \\naledaña, sino que sea básicamente confrontarlo a Andrade con la población. Entonces, la \\npoblación va y d ice: “Señores, nos parece realmente importante que venga la \\nMunicipalidad del Callao, la Corporación de Desarrollo con el municipio a limpiarnos aquí \\nel humedal ante la proximidad de la Semana de los Humedales; y realmente llama la \\natención de que quien de bió asumir la responsabilidad esté abocado a otras tareas de \\npromover invasiones y demás” ¿comprendes?  \\nEso implica, primero, un trabajo sincronizado entre el gobierno con el municipio, en el \\ncaso puntual de la Provincia del Callao. Y en horas de la tarde mostrar la falencia o la \\ncarencia de un trabajo o una preocupación del Municipio de Lima en referencia a sus \\nobligaciones y sus responsabilidades.  \\nEntonces, en la mañana es solamente hablar del trabajo en el Callao, y en la tarde ya entrar \\nal tema fuerte.  \\nY en el noticiero, en la noche, sale en el noticiero “Jornadas de limpieza en el Callao”. Y lo \\nque quedó demostrado es que inclusive los del Callao tuvieron que limpiar Lima, porque el \\nAlcalde de Lima está abocado a su campaña electoral .  \\nEso fue lo que yo  le sugerí, pero entiendo que esto tiene que ser parte de una discusión con \\nalguien que (ininteligible) o más.  \\nEl señor MONTESINOS TORRES. — Claro  \\nEl señor KOURI BUMACHAR. — Que me diga: “Señor Kouri, nos parece bien o no nos ',\n",
       "  3: '-3- parece, usted ha trabajado de ta l manera”.  \\nPorque de alguna forma, el hecho solamente de confrontar autoridad con autoridad o \\ndirigente con dirigente escapa en la apreciación del tiempo que dan los medios \\ninformativos, entre los cuales la gente de la oposición ha vendido como que hay un \\ncargamontón en contra de él. Confrontar ahora a la población con las autoridades. O sea, el \\npoblador le exige al quien le dio el voto, yo lo elegí no, sino (ininteligible), al señor \\nAndrade. Y ese señor está preocupado en la tarea.  \\nEntonces, hacer la tarea , estar en el campo y, obviamente, si yo tengo que opinar: “Mire, \\nusted, lamento que el señor Alcalde de Lima, se ha abocado a hacer en Huancayo, en \\nCajamarca, etcétera, (2) y no responde a sus responsabilidades inmediatas, que es el \\ncompromiso que tiene c on la ciudad de Lima”. Éste es un primer detalle.  \\nUn segundo detalle, y eso no lo había comentado todavía, es que manifestaba no sólo a la \\nnecesidad de inutilizar a Andrade, sino de poder hacer un trabajo más integrado de lo que \\nes un liderazgo en el Calla o basándonos en el presidente Fujimori. Yo dije, bueno, ideen \\nustedes algunas posibilidades, algún anunció importante del Presidente, que estamos \\nacompañándolo en el Callao y un poco expresarle el agradecimiento a nombre de la \\nciudad.  \\nSin embargo, yo le ad elanto un hecho que puede ser de interés, que lo podrían tomar o no \\ncomo una cuestión de gobierno.  \\nAl margen del asunto, de la quincena de marzo, que es el tema importantísimo sobre el \\ncorredor vial, nosotros por esos viajes que realizamos en algunos luga res del mundo, \\nhemos logrado hermanar en el tema cultural la ciudad del Callao con París.  \\nEntonces, l a primera semana de abril están viajando  20 estudiantes.  \\nEl señor MONTESINOS TORRES. — A hacer un intercambio.  \\nEl señor KOURI BUMACHAR, Alexander. — Así es.  \\nVeinte estudiantes de los colegios nacionales del Callao, los primeros puestos, premiados \\npor la municipalidad para hacer turismo cultural en París.  \\nLo que podríamos hacer es quizás en una semana o semana y media, con el presidente \\nFujimori, hacerles entr ega a esta gente que son de asentamientos humanos del Callao, en \\nuna reunión, sus pasaportes y sus pasajes. Y eso es propicio no sólo para identificar al \\nPresidente con un trabajo en la provincia, sino hablar del tema relacionado con el premio al \\nesfuerzo en el sector educación.  \\nHablar de educación, del liderazgo juvenil, tarea preventiva, y ésa es una idea que la \\nplanteamos porque la tenemos a la mano.  \\nYo lo iba a hacer solo.  \\nEl señor MONTESINOS TORRES. — Claro.  \\nEl señor KOURI BUMACHAR, Alexander. — Ya cons eguí las empresas que me van a \\nfinanciar los pasajes, de igual manera los pasaportes, y la municipalidad lo iba a lanzar.  \\nPero si esto puede ser útil para el gobierno. Creo que con los ministros también podría ser, \\npero si se trata ya de una situación más  política,. Evidentemente ponemos a disposición de \\nla idea para que el Presidente lo pueda evaluar, que vaya gente, jóvenes que vienen con una \\nvestimenta humilde de zonas de asentamientos humanos y decir: “Este muchacho que vive \\nen el asentamiento humano t al del Callao...  \\nEl señor MONTESINOS TORRES. — Se ha ganado el premio.  \\nEl señor KOURI BUMACHAR, Alexander. — ...se va a ir a París por ser el primero de \\nsu clase”.  \\nEntonces, en vez de hablar de pandillaje, violencia, etcétera, estamos hablando de una ',\n",
       "  4: '-4- cultura , de respaldar el éxito, de impulsar a esa juventud que con esfuerzo quiere ver algo \\nmás promisorio.  \\nEl señor MONTESINOS TORRES. — Ya. \\nEl señor KOURI BUMACHAR, Alexander. — Lo planteo como una idea para que lo \\npuedan evaluar.  \\nEntonces, un poco la intención e s decir: Muy bien, estamos en la mejor disposición de \\ncolaborar; pero es importante que haya un orden para hacerlo de tal manera que sea todo \\nadecuado y no permitir solamente lo que puedan editar los medios informativos.  \\nEl señor MONTESINOS TORRES. — No, n o, no, nosotros tenemos que tomar la \\niniciativa, los medios van a reflejar la estrategia.  \\nEl señor KOURI BUMACHAR, Alexander. — Exactamente.  \\nEl señor MONTESINOS TORRES. — Y no a la inversa, ¿no?  \\nYo creo, como se llama, coincido con usted que tienen  que ver d e aquí. En realidad no \\nfaltan ni 50 días para las elecciones, porque del primero al nueve ya básicamente murió el \\ntema, 7 días antes ya no hay campaña, esto termina el 31 de marzo. O sea, faltan los 31 \\ndías del mes de marzo más los 26 días de este mes, est amos hablando de 30 y 26 días son \\ncincuenta y pico de días, no falta más.  \\nEntonces, nosotros tenemos que en 56 días hacer un cronograma de qué cosa es lo que \\nvamos a hacer para ir mellando la imagen de los dos candidatos que van en pugna y en qué \\nforma nos otros podemos consolidar el objetivo inmediato.  \\nEn esa orientación no debemos de perder la perspectiva del otro objetivo que estamos \\nbuscando, que es las elecciones del 2002. O sea, una cosa debe estar amarrado a la otra \\ncosa ¿no?  \\nEl señor KOURI BUMACHAR, Alexander. — Para que tenga un sentido de la \\nparticipación.  \\nEl señor MONTESINOS TORRES. — Claro, porque sino también no tiene razón que \\nsalga y salga...entonces, tenemos que hilvanar uno con el otro, pero que sea muy sutil.  \\nEl señor KOURI BUMACHAR, Alexander .— Acá el un punto que quisiera precisar. La \\nentrevista hoy en la mañana ha sido muy tímidas las definiciones, porque no entiendo aún \\nuna estrategia clara.  \\nEntonces, cuando me preguntan sobre el tema de las inversiones, bueno, yo digo “a mí ese \\ntema de la s inversiones (ininteligible) la propiedad privada y brindar para que la gente \\nacceda a la propiedad, sobre todo los comedores populares, bueno, reivindicar a la madre”. \\n(3) O sea, no fui a la confrontación con ninguno de los candidatos para no agotar la \\nfórmula todavía que fuese a expresar una manera más contundente.  \\nEl señor MONTESINOS TORRES. — Claro.  \\nPorque eso yo pienso, ¿cómo se llama esto? Tenemos acá, definitivamente el que está en \\nsegundo lugar es Castañeda, no Andrade; Andrade está tercero, o sea,  está con un 14, un 13 \\na nivel de Lima -Callao. Entonces es un poco difícil que en 50 días él pueda hacer...  \\nEl señor KOURI BUMACHAR, Alexander. — Pueda remontar.  \\nEl señor MONTESINOS TORRES. — Pueda remontar.  \\nEntonces, el blanco principal o el objetivo princ ipal es Castañeda. Pero eso no quiere decir \\nque lo descuidemos al otro.  \\nEl señor KOURI BUMACHAR, Alexander. — A tal punto le digo, porque sé eso de \\nAndrade, ha habido un crecimiento de 6 a 14 puntos en el caso, según las encuestas que me \\ninformaron ayer. En  el caso de Castañeda de 12 a....perdón, de 6 a 14, y de Castañeda de ',\n",
       "  5: '-5- 12 a 16.  \\nEntonces, en el caso particular, el de Castañeda, ahí hay un tema vinculado con los \\npescadores.  \\nEl señor MONTESINOS TORRES. — Totalmente.  \\nEl señor KOURI BUMACHAR, Alexander. — Entonces, sobre esa línea dije muy bien, \\npor qué no organizamos que se movilice la población del Callao. Ya la corporación tiene \\ncantidad de gente contratada por tareas múltiples, y que hagan una gran movilización y que \\nvayan a la municipalidad y que le exija n al alcalde que el alcalde se pronuncie sobre el \\ntema de la caja. Entonces: “Mire, señor, yo lamento la crisis y creo que tiene que haber una \\nresponsabilidad y entiendo que no se puede eludir esto (ininteligible) y tiene que plantearse \\nal país, tiene que ser un concertar.”  \\nEl señor MONTESINOS TORRES. — Entonces, por qué no vamos haciendo una cosa \\nmás sensata. Voy a hacer un documentito y mañana lo conversamos ¿qué le parece? Me da \\nusted 24 horas, donde yo le planteo lo que podríamos hacer en estos 50 días.   \\nEl señor KOURI BUMACHAR, Alexander. — Me parece lo más lógico.  \\nEl señor MONTESINOS TORRES. — Nos podemos de acuerdo y desarrollamos. Está \\nusted y me hace ver esta sugerencia pa´ ca, ésta pa´ ca, ésta pa´ca, ésta pa´ lla, y sobre esa \\nbase trabajamos. Entonc es, ya no sale nada al azar, ya todo va planificado \\nestratégicamente.  \\nY las cuestiones tácticas lo de la coyuntura que vayan saliendo de una escena...  \\nEl señor KOURI BUMACHAR, Alexander. — Eso es rápido.  \\nEl señor MONTESINOS TORRES. — Claro, definimos en fun ción de la estrategia.  \\nEl señor KOURI BUMACHAR, Alexander. — Entonces, le comento. A propósito de esa \\nconversación el día de ayer, yo me quedé un poco preocupado porque dije, bueno, eso no \\npuede ser la metodología.  \\nEl señor MONTESINOS TORRES. — No, no, no, n o. \\nEs que, obviamente, ellos manejan la perspectiva sectorial, local, muy focalizada y no ven \\nel problema macro, y el problema macro es diferente. O sea, tiene que ser una visión \\namplia, una visión del bosque, ellos están viendo el tema del árbol y desde l a perspectiva \\ndel árbol, están cuidando su árbol. Entonces, hay que entenderlos.  \\nEl señor KOURI BUMACHAR, Alexander. — Lo entiendo perfectamente, a tal punto \\nque le dije “mire, estoy dispuesto a colaborar con usted, no hay ningún problema”, le \\nsugerí alguna s ideas; pero, yo decidí que habría que establecer un nivel de comunicación.  \\nEl señor MONTESINOS TORRES. — Por eso que inmediatamente usted apenas llamó \\nyo... \\nEl señor KOURI BUMACHAR, Alexander. — ...le agradezco.  \\nEl señor MONTESINOS TORRES. — Porque habíamo s quedado que ya estamos en \\ncontacto directo.  \\nYo pienso que el mejor interlocutor es que usted tendría sería conmigo, manejo todo el \\nescenario. Porque Dellepiane es un buen hombre, pero mucho entusiasmo...  \\nEl señor KOURI BUMACHAR, Alexander. — Es en el asp ecto operativo.  \\nEl señor MONTESINOS TORRES. — ...pero es un hombre para la parte táctica; para la \\nparte estratégica, él no maneja la parte estratégica.  \\nEntonces, yo voy a armar un documentito con acciones tácticas dentro de un objetivo \\nestratégico, y mañana  nos podemos reunir, vemos, coincidimos, usted me dice sí, no, nos \\npodemos de acuerdo, y sobre esa base cronometramos la salida suyas en la televisión, que ',\n",
       "  6: '-6- tampoco sea por saturación ni aparezca que como que estamos cargando al lado uno o al \\notro o que com o que usted está coludido con el gobierno, nada por el estilo. Manteniendo \\nun nivel de independencia que tenga credibilidad, vemos como vamos mellando a los dos.  \\nEntonces, el tema de Andrade sustancialmente ya está él en una actitud...el hecho de la \\nincorp oración, por ejemplo, de Mufarech ayer le quita mucho imagen.  \\nMufarech ha hecho...  \\nEl señor KOURI BUMACHAR, Alexander. — La presentación de Mufarech con CPN \\nayer fue...  \\nEl señor MONTESINOS TORRES. — Fue un desastre.  \\nMufarech es un tipo muy alocado. No es ma l hombre, pero es muy loco, muy vehemente; y \\nla vehemencia, tú sabes, que pierde a los políticos ¿no?  \\nEntonces, el objetivo principal es Castañeda. Castañeda es más sofisticado que Andrade en \\nel manejo de su campaña política y la evidencia es que está en segundo lugar. Entonces, \\nahí es donde debemos ir, vamos a ver cómo vamos a hacer esto. Me parece muy bien esa \\nidea de mover el tema de los pescadores, que vayan a la municipalidad a hacer la gran \\nmarcha a la municipalidad, y usted sale al pronunciamiento; y después de eso vemos una \\nentrevista, que puede ser en el Canal 2 ó Canal 4, etcétera, y le vamos dando.  \\nEl señor KOURI BUMACHAR, Alexander. — Yo le digo algo más.  \\nSe puede hacer una medida radical...  \\nEl señor MONTESINOS TORRES. — Sí. \\nEl señor KOURI BUMACHA R, Alexander. — De toma de calles en el Callao por parte \\nde los pescadores.  \\nEl señor MONTESINOS TORRES. — Claro.  \\nEl señor KOURI BUMACHAR, Alexander. — Y yo voy como alcalde a hablar con ellos \\npara que depongan esa actitud.  \\nEl señor MONTESINOS TORRES. — Claro.  \\nEl señor KOURI BUMACHAR, Alexander. — Yo tomo un liderazgo y yo digo “bueno, \\nseñores, ésta es una situación que se ha desencadenado producto de un mal manejo de la \\ncaja, hay un problema económico, lo tenemos que resolver y enfrentarlo”.  \\nEl señor MONTESINOS TORRES. — Así es . \\nEl señor KOURI BUMACHAR, Alexander. — Convocar a todas las partes involucradas \\ny tenemos (ininteligible) la situación (ininteligible). Es cuestión de evaluarlo, trabajarlo.  \\nEl señor MONTESINOS TORRES. — Por eso, entonces, tendríamos que arma r todo un \\ncronograma, qué hacer en el manejo de aquí al 31 de marzo. Pienso que eso es lo más \\nadecuado. Mañana, digamos, si nos ponemos reunir en la nochecita.  \\nEl señor KOURI BUMACHAR, Alexander. — Con todo gusto.  \\nEl señor MONTESINOS TORRES. — ¿Le parece bie n que lo recojan seis y media del \\nmismo sitio?  \\nEl señor KOURI BUMACHAR, Alexander. — Mañana a las seis y treinta.  \\nEl señor MONTESINOS TORRES. — Lo recogen. Siete acá y ya discutimos, nos \\nsentamos en la mesa y más o menos le presento yo el esquema , si le pare ce de acuerdo.  \\nEl señor KOURI BUMACHAR, Alexander. — Me permito sugerirle.  \\nEl señor MONTESINOS TORRES. — Sí. \\nEl señor KOURI BUMACHAR, Alexander. — De mi parte hay la mejor disposición ',\n",
       "  7: '-7- también.  \\nEl señor MONTESINOS TORRES. — Sí. \\nEl señor KOURI BUMACHAR, Alexande r.— No sólo que se refiere(ininteligible) a \\nterceros, sino el deseo de poder colaborar más abiertamente en lo que se refiere, digamos, a \\nla presencia del Presidente en el Callao, porque creo que tal le informe como neutralizar a \\nlos otros (ininteligible) e ntre ellos.  \\nEl señor MONTESINOS TORRES. — No, es que además el Presidente tiene que ir al \\nCallao.  \\nEl señor KOURI BUMACHAR, Alexander. — Referente a su sector.  \\nEl señor MONTESINOS TORRES. — Así es.  \\nEl señor KOURI BUMACHAR, Alexander. — Porque el Presidente no v a al Callao hace \\nmuchísimo tiempo.  \\nEl señor MONTESINOS TORRES. — Así es, no va.  \\nEl señor KOURI BUMACHAR, Alexander. — Excepto a Ventanilla.  \\nEntiendo que el trabajo de la corporación ha sido primero ablandar la zona.  \\nEl señor MONTESINOS TORRES. — Así es . \\nEl se ñor KOURI BUMACHAR, Alexander. — Los porcentajes, por ejemplo, tanto en \\nBellavista como en la Perla no son tan favorables al gobierno, básicamente porque somos \\nde clase media.  \\nEl señor MONTESINOS TORRES. — Ya. \\nEl señor KOURI BUMACHAR, Alexander. — Sin embarg o, (4) la zona de Cercado, lo \\nque es Ventanilla está muy alto y también está algo bajo La Punta, no es significativo \\nelectoralmente, pero sí trasciende...  \\nEl señor MONTESINOS TORRES. — Pero hay que ganar La Punta, hay que ganar La \\nPunta.  \\nEl señor KOURI BUMA CHAR, Alexander .— Y hay una buena disposición del alcalde, \\nal final todos los alcaldes están en buena disposición de colaborar en ese propósito.  \\nEl señor MONTESINOS TORRES. — ¿Y algunas ideas que usted también tuviera, \\ndigamos? O sea, no solamente que yo le  haga el documento, sino darme usted algunas \\nideas que usted podría...  \\nEl señor KOURI BUMACHAR, Alexander. — Mañana intercambiamos.  \\nEl señor MONTESINOS TORRES. — Intercambiamos las opiniones.  \\nUsted me dice yo también tengo éstas ideas que podrían ser.  \\nPorqu e si nos ponemos a sacar todos los días en la televisión también satura el tema.  \\nEl señor KOURI BUMACHAR, Alexander. — Es contraproducente.  \\nEl señor MONTESINOS TORRES. — Es contraproducente, entonces, vamos haciendo \\nacciones que vayan minando el tema.  \\nPor ej emplo, fíjese, otra cosa que es importante. Que no solamente es la discusión en \\ncuanto a la función de (ininteligible) de deberes de función de Andrade como alcalde, que \\nha abandonado la ciudad, no ha cumplido con el tema de la ciudad, con el caso de los \\nhumerales, que lo vamos a tocar el día viernes o sábado; sino también ya el hecho, por \\nejemplo, en cuanto a su programa de gobierno, de sus planes de gobierno, que también es \\nun punto de (ininteligible) críticas.  \\nDe igual manera en el tema de Castañeda, ha  presentado en el CADE un plan de gobierno ',\n",
       "  8: '-8- que lo ha elaborado con la Graciela Fernández Baca y Garrido Lecca y...  \\nEl señor KOURI BUMACHAR, Alexander. — Le comento un hecho que puede ser de su \\ninterés.  \\nMe encontré con Hernán Garrido Lecca antes de ingresar  al Hotel Miraflores Park Plaza.  \\nEl señor MONTESINOS TORRES. — Ya. \\nEl señor KOURI BUMACHAR, Alexander. — Por lo menos me comentó que no iba a \\npostular a ningún cargo, pero no sé si lo que estaba haciendo era ya renunciar a Solidaridad \\nNacional.  \\nPor lo menos , me dejó entrever su disgusto en lo que se refiere a la participación de él...  \\nEl señor MONTESINOS TORRES. — Bueno, el tema está de que...  \\nEl señor KOURI BUMACHAR, Alexander. — Lo comento como un hecho...  \\nEl señor MONTESINOS TORRES. — El asunto está  que él e ncabezaba el...  \\nEl señor KOURI BUMACHAR, Alexander. — El equipo de gobierno.  \\nEl señor MONTESINOS TORRES. — Y lo han desplazado y han puesto a Graciela \\nFernández Baca. Entonces, obviamente, no le ha gustado esa situación y por eso es que \\nmedio que se ha resen tido y ha producido una situación (ininteligible).  \\nEl señor KOURI BUMACHAR, Alexander. — Pero entiendo que es un elemento que \\npuede resultar favorable si se le insiste un poco para que él pueda salir a los medios quizás \\nrefiriéndose a temas internos, porque  tuvo palabras muy duras hacia Solidaridad Nacional \\nhoy en la mañana (ininteligible), y me manifestó no sólo su deseo de no participar en el \\nproceso electoral, sino de apartarse de manera definitiva de Solidaridad Nacional.  \\n“He considerado que debo (ininte ligible)”...me planteó, me dijo “es algo como oscuro, \\ncomo siniestro que no está claro”.  \\nEl señor MONTESINOS TORRES. — Solidaridad en realidad es una especie de logia \\nque lo maneja Martín Bustamante con Piccini y el segundo éste, Villarán, son los tres \\nhomb res claves...y Blonde, son las cuatro personas...  \\nEl señor KOURI BUMACHAR, Alexander. — Yo a Bustamante lo conozco, conversé \\ncon él hace no mucho tiempo (ininteligible) iba bien. Y, ciertamente, él ha retomado una \\nposición expectante dentro de Solidaridad N acional.  \\nEl señor MONTESINOS TORRES. — Pero, si usted lo conoce y lo ha visto, es un tipo \\nelemental, es una persona que no tiene ningún nivel cultural.   \\nEl señor KOURI BUMACHAR, Alexander. — Es básico en sus conceptos.  \\nEl señor MONTESINOS TORRES. — Totalmente , es un hombre simplón. Yo diría \\nun...para no expresarme peyorativamente...  \\nEl señor KOURI BUMACHAR, Alexander. — No lo he tratado mucho; sin embargo, de \\nlo que lo he tratado...  \\nEl señor MONTESINOS TORRES. — Pero el perfil lo tiene como un hombre de un nivel  \\ncultural muy bajo.  \\nTiene un hermano que ha sido coronel del Ejército que está retirado ya, yo he tenido \\noportunidad de tratarlo. El coronel éste tiene más nivel; pero Martín está en la calle, o sea, \\nno tiene noción del manejo del tema del Estado y tiene u na (ininteligible) fundamental.  \\nPero claro, tenemos de comprender que Castañeda, que también es un hombre simple, \\nusted ha visto que no es un hombre que tenga cultura ni formación ni de política ni nada \\npor el estilo, no puede rodearse de gente que brille  más que él. Entonces, el nivel...  \\nEl señor KOURI BUMACHAR, Alexander. — Es mediocre.  ',\n",
       "  9: '-9- El señor MONTESINOS TORRES. — Es mediocre, o sea, digamos, ése es el estándar \\nahí. Porque Villarán, usted lo ha visto qué cosa es Villarán.  \\nEl señor KOURI BUMACHAR, Alexan der.— Quizás una de las personas de mayor \\nformación en el entorno de él es Sota Nadal.  \\nEl señor MONTESINOS TORRES. — Claro, Sota Nadal, porque ése es un tipo que sí, \\npor la edad y por la experiencia política, la trayectoria es el más sofisticado; pero tamb ién \\ntiene una visión tugurizada de lo que es el problema del manejo del Estado.  \\nO sea, que este Estado de este quinquenio no es el Estado del quinquenio...   \\nEl señor KOURI BUMACHAR, Alexander. — Es que el mundo ha cambiado...  \\nEl señor MONTESINOS TORRES. — Ha cambiado. Viene la globalización.  \\nY ahora, definitivamente, en este quinquenio tenemos que entrar a la democratización del \\nEstado, eso es indispensable. No se puede dejar de democratizar el aparato del Estado. No \\nda el Estado (5) para un modelo autoritar io. \\nEl señor KOURI BOUMACHAR, Alexander. — Bueno, eso significa dos cosas.  \\nPrimero, hacer del Estado...o sea, disminuir el Estado y hacer más partícipe a la sociedad \\ncivil,  \\nEl señor MONTESINOS TORRES. — Así es.  \\nEl señor KOURI BOUMACHAR, Alexander. — Porque el exceso de democracia es \\ntambién un error de percepción, porque la democracia es un medio, no un fin, es un mito.  \\nEl señor MONTESINOS TORRES. — Claro.  \\nEl señor KOURI BUMACHAR, Alexander. — Cuando se crea un mito en la democracia, \\neso también es un error.  \\nEl señor MONTESINOS TORRES. — Un colapso, porque se crea la ingobernabilidad. \\nLo que pasó en Ecuador.  \\nEl señor KOURI BOUMACHAR, Alexander. — Absolutamente.  \\nCuando se prioriza el medio al fin hay un error absoluto.  \\nEl señor MONTESINOS TORRES. — Así es.  \\nEl señor  KOURI BOUMACHAR, Alexander. — A veces hay que patear el tablero para \\nlograr...  \\nEl señor MONTESINOS TORRES. — Pero ésa es la cuestión que tienen los políticos, \\nque están planteando ahora, es el error de la clase política peruana.  \\nEl señor KOURI BOUMACHAR, Al exander. — Sin duda, es un tema claro y creo que \\nen ese aspecto hay una aproximación a la realidad que no se puede diluir. La democracia \\nestá al servicio del bien común y no viceversa.  \\nEl señor MONTESINOS TORRES. — Hay un trastrocamiento de valores y de conc eptos.  \\nBueno, entonces, yo creo que estamos claros en eso.  \\nEl señor KOURI BUMACHAR, Alexander. — Mañana seis y treinta...  \\nEl señor MONTESINOS TORRES. — Mañana seis y treinta.  \\nSi usted también tiene algunas ideas de lo que podría ser este cronogramita que lo \\nempezaríamos desde este viernes al 31 de marzo...  \\nEl señor KOURI BUMACHAR, Alexander. — Muy bien.  \\nEl señor MONTESINOS TORRES. — Con salidas, etcétera.  \\nYo más o menos le voy a presentar un cuadro que diga tal salida, tal cosa, esto, lo otro  ',\n",
       "  10: '-10- El señor KOURI BOU MACHAR, Alexander. — Y luego en función a las variables de la \\ncampaña se plantean nuevas cosas.  \\nEl señor MONTESINOS TORRES. — Bueno, ahí salen ya las cosas de la coyuntura; \\npero tenemos un plan estratégico y las coyunturas las insertamos y las manejamos en el día \\na día.  \\nEl señor KOURI BUMACHAR, Alexander. — Okey.  \\nEl señor MONTESINOS TORRES. — Además, como nos vamos a estar conversando y \\nviendo, entonces es más fácil hacer la coordinación.  \\nY Dellepiane, bueno, dará un apoyo táctico a las cosas.  \\n El señor KOURI BOUMACHAR, Alexander. — Claro, ya define el tema operativo.  \\nEl señor MONTESINOS TORRES. — Claro.  \\nEl señor KOURI BUMACHAR, Alexander. — El tema de planeamiento...  \\nEl señor MONTESINOS TORRES. — No, no, él no tiene la perspectiva. El planeamiento \\nlo hacemos noso tros. \\nY persiguiendo que el objetivo es que vamos al tema del 2002, o sea el 2002 tenemos que \\nganarle la alcaldía Andrade de todas maneras.  \\nEl señor KOURI BUMACHAR, Alexander. — Lo tengo claro, a tal punto que el mismo \\nLombardi lo planteó, yo no entré...  \\nEl señor MONTESINOS TORRES. — No, no, no conviene ahora plantear eso.  \\nEl señor KOURI BUMACHAR, Alexander. — Dije, estoy en el tema de la tarea de hoy \\nen día.  \\nCreo que el error de muchos políticos es pensar en su realización futura y no en su \\nconfección práctic a del día a día.  \\nEl señor MONTESINOS TORRES. — Hay que vivir el presente y ahorita; y tampoco \\nhay que soltar las prendas antes de tiempo.  \\nEl señor KOURI BOUMACHAR, Alexander. — Hay que trabajar con tranquilidad , es \\nuna carrera de resistencia más que de veloc idad.  \\nEl señor MONTESINOS TORRES. — No es de 100 metros.  \\nOkey.  \\nMuy bien, entonces, mañana a las seis y media.  \\nEl señor KOURI BOUMACHAR, Alexander. — Como no.  \\nEl señor MONTESINOS TORRES. — Muy bien.  \\nHasta luego, señor Kouri, un gusto de verlo.  \\nEl señor KOURI BOUMACHAR, Alexander. — Buenas tardes.  \\n—Fin de la grabación.  \\n—Fecha de transcripción: 1 -3-2001.  '}}"
      ]
     },
     "execution_count": 79,
     "metadata": {},
     "output_type": "execute_result"
    }
   ],
   "source": [
    "pdfs_data"
   ]
  },
  {
   "cell_type": "code",
   "execution_count": 81,
   "metadata": {},
   "outputs": [
    {
     "name": "stdout",
     "output_type": "stream",
     "text": [
      "Found 'MILLONES' in ..\\_data\\144 VIDEO N.° 1.JOY WAY-SCHUTZ.SIN FECHA.COPIA_.pdf, page 3\n",
      "Found 'MILLONES' in ..\\_data\\144 VIDEO N.° 1.JOY WAY-SCHUTZ.SIN FECHA.COPIA_.pdf, page 5\n",
      "Found 'MILLONES' in ..\\_data\\144 VIDEO N.° 1.JOY WAY-SCHUTZ.SIN FECHA.COPIA_.pdf, page 18\n"
     ]
    }
   ],
   "source": [
    "def search_word(pdfs_data, target_word):\n",
    "   found = False\n",
    "   for pdf_path, pdf_content in pdfs_data.items():\n",
    "       for page_num, page_text in pdf_content.items():\n",
    "           if target_word in page_text.upper():\n",
    "               found = True\n",
    "               print(f\"Found '{target_word}' in {pdf_path}, page {page_num}\")\n",
    "   if not found:\n",
    "       print(f\"'{target_word}' not found in any PDF.\")\n",
    "\n",
    "# Example usage\n",
    "search_word(pdfs_data, \"MILLONES\")"
   ]
  },
  {
   "cell_type": "code",
   "execution_count": null,
   "metadata": {},
   "outputs": [],
   "source": [
    "class pdf_search_corruption:\n",
    "    \n",
    "    def __init__(self, name, text):\n",
    "        self.name_file = name\n",
    "        self.text_string = text\n",
    "        \n",
    "    def search_word(self)\n",
    "       found = False\n",
    "       for pdf_path, self.text_string in pdfs_data.items():\n",
    "           for page_num, page_text in self.text_string.items():\n",
    "               if target_word in page_text.upper():\n",
    "                   found = True\n",
    "                   print(f\"Found '{target_word}' in {pdf_path}, page {page_num}\")\n",
    "       if not found:\n",
    "           print(f\"'{target_word}' not found in any PDF.\")\n",
    "    "
   ]
  },
  {
   "cell_type": "code",
   "execution_count": 100,
   "metadata": {},
   "outputs": [
    {
     "name": "stderr",
     "output_type": "stream",
     "text": [
      "C:\\Users\\Alexander\\anaconda3\\envs\\tensorflow\\lib\\site-packages\\scipy\\__init__.py:146: UserWarning: A NumPy version >=1.16.5 and <1.23.0 is required for this version of SciPy (detected version 1.24.3\n",
      "  warnings.warn(f\"A NumPy version >={np_minversion} and <{np_maxversion}\"\n"
     ]
    }
   ],
   "source": [
    "from textblob import TextBlob\n",
    "\n",
    "class PDFSearchCorruption:\n",
    "   def __init__(self, pdf_path):\n",
    "       self.pdf_path = pdf_path\n",
    "       self.pdf_content = {}\n",
    "       self._read_pdf()\n",
    "       \n",
    "   def _read_pdf(self):\n",
    "       with open(self.pdf_path, 'rb') as file:\n",
    "           pdf_reader = PyPDF2.PdfReader(file)\n",
    "           for page_num in range(len(pdf_reader.pages)):\n",
    "               page = pdf_reader.pages[page_num]\n",
    "               self.pdf_content[page_num + 1] = page.extract_text()\n",
    "\n",
    "   def search_word(self, target_word):\n",
    "       found = False\n",
    "       for page_num, page_text in self.pdf_content.items():\n",
    "           if target_word.upper() in page_text.upper():\n",
    "               found = True\n",
    "               print(f\"Found '{target_word}' in page {page_num}\")\n",
    "       if not found:\n",
    "           print(f\"'{target_word}' not found in {self.pdf_path}\")\n",
    "           \n",
    "   def count_word(self, target_word):\n",
    "       total_count = 0\n",
    "       for page_num, page_text in self.pdf_content.items():\n",
    "           count = page_text.upper().count(target_word.upper())\n",
    "           if count > 0:\n",
    "               print(f\"Found {count} occurrences in page {page_num}\")\n",
    "               total_count += count\n",
    "       print(f\"Total occurrences: {total_count}\")\n",
    "       return total_count\n",
    "\n",
    "   def sentiment_analysis(self):\n",
    "       for page_num, page_text in self.pdf_content.items():\n",
    "           blob = TextBlob(page_text)\n",
    "           polarity = blob.sentiment.polarity\n",
    "           subjectivity = blob.sentiment.subjectivity\n",
    "           \n",
    "           sentiment = \"neutral\"\n",
    "           if polarity > 0:\n",
    "               sentiment = \"positive\"\n",
    "           elif polarity < 0:\n",
    "               sentiment = \"negative\"\n",
    "               \n",
    "           print(f\"Page {page_num}:\")\n",
    "           print(f\"Sentiment: {sentiment}\")\n",
    "           print(f\"Polarity: {polarity:.2f}\")\n",
    "           print(f\"Subjectivity: {subjectivity:.2f}\\n\")\n",
    "\n",
    "# Usage example\n",
    "\n",
    "pdf = PDFSearchCorruption(r\"..\\_data\\144 VIDEO N.° 1.JOY WAY-SCHUTZ.SIN FECHA.COPIA_.pdf\")"
   ]
  },
  {
   "cell_type": "code",
   "execution_count": 101,
   "metadata": {},
   "outputs": [
    {
     "name": "stdout",
     "output_type": "stream",
     "text": [
      "Page 1:\n",
      "Sentiment: positive\n",
      "Polarity: 0.80\n",
      "Subjectivity: 0.20\n",
      "\n",
      "Page 2:\n",
      "Sentiment: positive\n",
      "Polarity: 0.77\n",
      "Subjectivity: 0.27\n",
      "\n",
      "Page 3:\n",
      "Sentiment: positive\n",
      "Polarity: 0.80\n",
      "Subjectivity: 0.20\n",
      "\n",
      "Page 4:\n",
      "Sentiment: positive\n",
      "Polarity: 0.40\n",
      "Subjectivity: 0.10\n",
      "\n",
      "Page 5:\n",
      "Sentiment: positive\n",
      "Polarity: 0.80\n",
      "Subjectivity: 0.20\n",
      "\n",
      "Page 6:\n",
      "Sentiment: positive\n",
      "Polarity: 0.62\n",
      "Subjectivity: 0.18\n",
      "\n",
      "Page 7:\n",
      "Sentiment: positive\n",
      "Polarity: 0.80\n",
      "Subjectivity: 0.20\n",
      "\n",
      "Page 8:\n",
      "Sentiment: positive\n",
      "Polarity: 0.80\n",
      "Subjectivity: 0.20\n",
      "\n",
      "Page 9:\n",
      "Sentiment: positive\n",
      "Polarity: 0.80\n",
      "Subjectivity: 0.20\n",
      "\n",
      "Page 10:\n",
      "Sentiment: positive\n",
      "Polarity: 0.80\n",
      "Subjectivity: 0.20\n",
      "\n",
      "Page 11:\n",
      "Sentiment: negative\n",
      "Polarity: -0.38\n",
      "Subjectivity: 0.53\n",
      "\n",
      "Page 12:\n",
      "Sentiment: positive\n",
      "Polarity: 0.58\n",
      "Subjectivity: 0.31\n",
      "\n",
      "Page 13:\n",
      "Sentiment: positive\n",
      "Polarity: 0.40\n",
      "Subjectivity: 0.60\n",
      "\n",
      "Page 14:\n",
      "Sentiment: positive\n",
      "Polarity: 0.80\n",
      "Subjectivity: 0.20\n",
      "\n",
      "Page 15:\n",
      "Sentiment: neutral\n",
      "Polarity: 0.00\n",
      "Subjectivity: 0.00\n",
      "\n",
      "Page 16:\n",
      "Sentiment: positive\n",
      "Polarity: 0.80\n",
      "Subjectivity: 0.20\n",
      "\n",
      "Page 17:\n",
      "Sentiment: positive\n",
      "Polarity: 0.80\n",
      "Subjectivity: 0.20\n",
      "\n",
      "Page 18:\n",
      "Sentiment: positive\n",
      "Polarity: 0.51\n",
      "Subjectivity: 0.37\n",
      "\n",
      "Page 19:\n",
      "Sentiment: positive\n",
      "Polarity: 0.56\n",
      "Subjectivity: 0.31\n",
      "\n",
      "Page 20:\n",
      "Sentiment: positive\n",
      "Polarity: 0.67\n",
      "Subjectivity: 0.22\n",
      "\n",
      "Page 21:\n",
      "Sentiment: positive\n",
      "Polarity: 0.80\n",
      "Subjectivity: 0.20\n",
      "\n"
     ]
    }
   ],
   "source": [
    "pdf.sentiment_analysis()"
   ]
  },
  {
   "cell_type": "code",
   "execution_count": 98,
   "metadata": {},
   "outputs": [
    {
     "name": "stdout",
     "output_type": "stream",
     "text": [
      "Found 1 occurrences in page 3\n",
      "Found 1 occurrences in page 5\n",
      "Found 1 occurrences in page 9\n",
      "Found 1 occurrences in page 21\n",
      "Total occurrences: 4\n"
     ]
    },
    {
     "data": {
      "text/plain": [
       "4"
      ]
     },
     "execution_count": 98,
     "metadata": {},
     "output_type": "execute_result"
    }
   ],
   "source": [
    "pdf.count_word(\"dólares\")"
   ]
  },
  {
   "cell_type": "code",
   "execution_count": 99,
   "metadata": {},
   "outputs": [
    {
     "name": "stdout",
     "output_type": "stream",
     "text": [
      "Collecting textblob\n",
      "  Downloading textblob-0.18.0.post0-py3-none-any.whl (626 kB)\n",
      "Requirement already satisfied: nltk>=3.8 in c:\\users\\alexander\\anaconda3\\envs\\tensorflow\\lib\\site-packages (from textblob) (3.8.1)\n",
      "Requirement already satisfied: tqdm in c:\\users\\alexander\\anaconda3\\envs\\tensorflow\\lib\\site-packages (from nltk>=3.8->textblob) (4.66.1)\n",
      "Requirement already satisfied: click in c:\\users\\alexander\\anaconda3\\envs\\tensorflow\\lib\\site-packages (from nltk>=3.8->textblob) (8.1.7)\n",
      "Requirement already satisfied: joblib in c:\\users\\alexander\\anaconda3\\envs\\tensorflow\\lib\\site-packages (from nltk>=3.8->textblob) (1.3.2)\n",
      "Requirement already satisfied: regex>=2021.8.3 in c:\\users\\alexander\\anaconda3\\envs\\tensorflow\\lib\\site-packages (from nltk>=3.8->textblob) (2023.5.5)\n",
      "Requirement already satisfied: colorama in c:\\users\\alexander\\anaconda3\\envs\\tensorflow\\lib\\site-packages (from click->nltk>=3.8->textblob) (0.4.4)Note: you may need to restart the kernel to use updated packages.\n",
      "\n"
     ]
    },
    {
     "name": "stderr",
     "output_type": "stream",
     "text": [
      "WARNING: Ignoring invalid distribution -rotobuf (c:\\users\\alexander\\anaconda3\\envs\\tensorflow\\lib\\site-packages)\n",
      "WARNING: Ignoring invalid distribution -orchvision (c:\\users\\alexander\\anaconda3\\envs\\tensorflow\\lib\\site-packages)\n",
      "WARNING: Ignoring invalid distribution -rotobuf (c:\\users\\alexander\\anaconda3\\envs\\tensorflow\\lib\\site-packages)\n",
      "WARNING: Ignoring invalid distribution -orchvision (c:\\users\\alexander\\anaconda3\\envs\\tensorflow\\lib\\site-packages)\n",
      "WARNING: Ignoring invalid distribution -rotobuf (c:\\users\\alexander\\anaconda3\\envs\\tensorflow\\lib\\site-packages)\n",
      "WARNING: Ignoring invalid distribution -orchvision (c:\\users\\alexander\\anaconda3\\envs\\tensorflow\\lib\\site-packages)\n",
      "WARNING: Ignoring invalid distribution -rotobuf (c:\\users\\alexander\\anaconda3\\envs\\tensorflow\\lib\\site-packages)\n",
      "WARNING: Ignoring invalid distribution -orchvision (c:\\users\\alexander\\anaconda3\\envs\\tensorflow\\lib\\site-packages)\n",
      "WARNING: Ignoring invalid distribution -rotobuf (c:\\users\\alexander\\anaconda3\\envs\\tensorflow\\lib\\site-packages)\n",
      "WARNING: Ignoring invalid distribution -orchvision (c:\\users\\alexander\\anaconda3\\envs\\tensorflow\\lib\\site-packages)\n",
      "WARNING: Ignoring invalid distribution -rotobuf (c:\\users\\alexander\\anaconda3\\envs\\tensorflow\\lib\\site-packages)\n",
      "WARNING: Ignoring invalid distribution -orchvision (c:\\users\\alexander\\anaconda3\\envs\\tensorflow\\lib\\site-packages)\n",
      "WARNING: Ignoring invalid distribution -rotobuf (c:\\users\\alexander\\anaconda3\\envs\\tensorflow\\lib\\site-packages)\n",
      "WARNING: Ignoring invalid distribution -orchvision (c:\\users\\alexander\\anaconda3\\envs\\tensorflow\\lib\\site-packages)\n"
     ]
    },
    {
     "name": "stdout",
     "output_type": "stream",
     "text": [
      "Installing collected packages: textblob\n",
      "Successfully installed textblob-0.18.0.post0\n"
     ]
    }
   ],
   "source": [
    "pip install textblob"
   ]
  },
  {
   "cell_type": "code",
   "execution_count": 94,
   "metadata": {},
   "outputs": [
    {
     "name": "stdout",
     "output_type": "stream",
     "text": [
      "Found 'dólares' in page 3\n",
      "Found 'dólares' in page 5\n",
      "Found 'dólares' in page 9\n",
      "Found 'dólares' in page 21\n"
     ]
    }
   ],
   "source": [
    "pdf.search_word(\"dólares\")"
   ]
  },
  {
   "cell_type": "markdown",
   "metadata": {},
   "source": [
    "# <a id='#5.3.'>5.3. References </a>  \n",
    "\n",
    "- [Functions](https://www.datacamp.com/community/tutorials/functions-python-tutorial?utm_source=adwords_ppc&utm_medium=cpc&utm_campaignid=1455363063&utm_adgroupid=65083631748&utm_device=c&utm_keyword=&utm_matchtype=&utm_network=g&utm_adpostion=&utm_creative=332602034358&utm_targetid=dsa-473406571355&utm_loc_interest_ms=&utm_loc_physical_ms=9060932&gclid=CjwKCAiAqIKNBhAIEiwAu_ZLDp9lkv0t5drR4g_hjgXp0DBU3XoRLPEeQT9wGMhCyiZd09kjsAXKaRoCFmUQAvD_BwE)\n",
    "- [Functions](https://www.w3schools.com/python/python_functions.asp)\n",
    "- [Args and Kwargs](https://book.pythontips.com/en/latest/args_and_kwargs.html)\n",
    "\n",
    "- [Clases](https://www.geeksforgeeks.org/namespaces-and-scope-in-python/#:~:text=A%20namespace%20is%20a%20system,form%20of%20a%20Python%20dictionary.&text=Its%20Name%20(which%20means%20name,talks%20something%20related%20to%20scope)\n",
    "\n",
    "- [Clases](https://www.geeksforgeeks.org/python-classes-and-objects/)\n",
    "\n",
    "- [Clases Advantages](https://intellipaat.com/blog/tutorial/python-tutorial/python-classes-and-objects/#_Advantages_of_class)\n",
    "\n",
    "- [Self](https://www.geeksforgeeks.org/self-in-python-class/)\n",
    "\n",
    "- [FU](https://realpython.com/defining-your-own-python-function/#functions-in-python)\n",
    "\n",
    "- https://stackoverflow.com/questions/46312470/difference-between-methods-and-attributes-in-python\n",
    "\n",
    "- https://stackoverflow.com/questions/2489669/how-do-python-functions-handle-the-types-of-parameters-that-you-pass-in"
   ]
  }
 ],
 "metadata": {
  "hide_input": false,
  "kernelspec": {
   "display_name": "Python 3 (ipykernel)",
   "language": "python",
   "name": "python3"
  },
  "language_info": {
   "codemirror_mode": {
    "name": "ipython",
    "version": 3
   },
   "file_extension": ".py",
   "mimetype": "text/x-python",
   "name": "python",
   "nbconvert_exporter": "python",
   "pygments_lexer": "ipython3",
   "version": "3.8.12"
  }
 },
 "nbformat": 4,
 "nbformat_minor": 4
}
