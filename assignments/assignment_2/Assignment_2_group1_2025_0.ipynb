{
 "cells": [
  {
   "cell_type": "markdown",
   "id": "b7fd6b7f",
   "metadata": {},
   "source": [
    "# Assignment_2\n",
    "If you copy codes from previous answers, explain each step. No explanation is `0 points`."
   ]
  },
  {
   "cell_type": "markdown",
   "id": "2f37067c",
   "metadata": {},
   "source": [
    "This assignment would evaluate tree core topics : pandas , loops  and try , continue , catch exceptions"
   ]
  },
  {
   "cell_type": "markdown",
   "id": "c507ddf6",
   "metadata": {
    "jp-MarkdownHeadingCollapsed": true
   },
   "source": [
    "## Part 1. Pandas"
   ]
  },
  {
   "cell_type": "markdown",
   "id": "6baac9e7",
   "metadata": {},
   "source": [
    "Use the next data base `nyc_taxis.csv` , its on the github page of the assignment"
   ]
  },
  {
   "cell_type": "markdown",
   "id": "f2d9f75d",
   "metadata": {},
   "source": [
    "Let's work with a subset of the New York City taxi trip data released by the city. We'll focus on about 90,000 yellow taxi trips to and from various NYC airports between January and June 2016. Here are some selected columns from the dataset:\n",
    "\n",
    "- `pickup_month`: the month of the trip (January is 1, December is 12)\n",
    "- `pickup_day`: the day of the month of the trip\n",
    "- `pickup_location_code`: the airport or borough where the trip started\n",
    "- `dropoff_location_code`: the airport or borough where the trip ended\n",
    "- `trip_distance`: the distance of the trip in miles\n",
    "- `trip_length`: the length of the trip in seconds\n",
    "- `fare_amount`: the base fare of the trip, in dollars\n",
    "- `total_amount`: the total amount charged to the passenger, including all fees, tolls, and tips\n",
    "\n",
    "\n",
    "Review the dictionary data [here](https://s3.amazonaws.com/dq-content/289/nyc_taxi_data_dictionary.md).\n",
    "\n",
    "Our data is stored in a CSV file called `nyc_taxis.csv`"
   ]
  },
  {
   "cell_type": "markdown",
   "id": "606b81e5",
   "metadata": {},
   "source": [
    "Calculate\n",
    "1. The average distance of the trip  (`trip_distance`) for each month (`pickup_month`)\n",
    "2. The total of trips from JFK for each day of the month\n",
    "3. Calculate the average velocity according to `pickup_dayofweek`"
   ]
  },
  {
   "cell_type": "code",
   "execution_count": 17,
   "id": "05bc670f",
   "metadata": {},
   "outputs": [],
   "source": [
    "import pandas as pd\n",
    "\n",
    "# Cargar el archivo CSV\n",
    "df = pd.read_csv(r\"C:\\Users\\Miguel\\Documents\\GitHub\\summer_python_medialab\\assignments\\assignment_2\\nyc_taxis.csv\")"
   ]
  },
  {
   "cell_type": "code",
   "execution_count": 22,
   "id": "c089e5ec-4f9c-4b08-9121-f770da4b774b",
   "metadata": {},
   "outputs": [
    {
     "name": "stdout",
     "output_type": "stream",
     "text": [
      "Index(['pickup_year', 'pickup_month', 'pickup_day', 'pickup_dayofweek',\n",
      "       'pickup_time', 'pickup_location_code', 'dropoff_location_code',\n",
      "       'trip_distance', 'trip_length', 'fare_amount', 'fees_amount',\n",
      "       'tolls_amount', 'tip_amount', 'total_amount', 'payment_type'],\n",
      "      dtype='object')\n"
     ]
    }
   ],
   "source": [
    "print(df.columns)"
   ]
  },
  {
   "cell_type": "code",
   "execution_count": 23,
   "id": "12b4961b",
   "metadata": {},
   "outputs": [
    {
     "name": "stdout",
     "output_type": "stream",
     "text": [
      "Distancia media por mes:\n",
      "pickup_month\n",
      "1    13.039750\n",
      "2    13.145227\n",
      "3    12.702256\n",
      "4    12.808012\n",
      "6    12.964744\n",
      "Name: trip_distance, dtype: float64\n"
     ]
    }
   ],
   "source": [
    "# 1. Para calcular la distancia media del viaje para cada mes\n",
    "distancia_media_por_mes = df.groupby('pickup_month')['trip_distance'].mean()\n",
    "print(\"Distancia media por mes:\")\n",
    "print(distancia_media_por_mes)"
   ]
  },
  {
   "cell_type": "code",
   "execution_count": 28,
   "id": "0374f8da",
   "metadata": {},
   "outputs": [
    {
     "name": "stdout",
     "output_type": "stream",
     "text": [
      "\n",
      "Total de viajes desde JFK por día del mes:\n",
      "Series([], dtype: int64)\n"
     ]
    }
   ],
   "source": [
    "# 2. Para calcular el total de viajes desde JFK para cada día del mes\n",
    "# Filtrar por viajes desde JFK (suponiendo que 'JFK' es el código de ubicación)\n",
    "df_jfk = df[df['pickup_location_code'] == 'JFK']\n",
    "viajes_desde_jfk = df_jfk.groupby('pickup_day').size()\n",
    "print(\"\\nTotal de viajes desde JFK por día del mes:\")\n",
    "print(viajes_desde_jfk)"
   ]
  },
  {
   "cell_type": "code",
   "execution_count": 32,
   "id": "944e0b32-00f0-4ced-bb96-aa94afbe09b5",
   "metadata": {},
   "outputs": [
    {
     "name": "stdout",
     "output_type": "stream",
     "text": [
      "   pickup_month  pickup_day pickup_datetime\n",
      "0             1           1      2016-01-01\n",
      "1             1           1      2016-01-01\n",
      "2             1           1      2016-01-01\n",
      "3             1           1      2016-01-01\n",
      "4             1           1      2016-01-01\n",
      "\n",
      "Velocidad media por día de la semana:\n",
      "pickup_dayofweek\n",
      "0    132.572743\n",
      "1     27.345024\n",
      "2    292.002247\n",
      "3     91.467029\n",
      "4    153.700881\n",
      "5    368.736836\n",
      "6    142.024225\n",
      "Name: velocidad, dtype: float64\n"
     ]
    }
   ],
   "source": [
    "# 3. Para calcular la velocidad media según el día de la semana\n",
    "# Para convertir la duración del viaje de segundos a horas para calcular la velocidad\n",
    "df['duracion_horas'] = df['trip_length'] / 3600\n",
    "\n",
    "# Calcular la velocidad (distancia / tiempo)\n",
    "df['velocidad'] = df['trip_distance'] / df['duracion_horas']\n",
    "\n",
    "# Asumiendo que 2016 es el año que deseas agregar a las fechas.\n",
    "df['pickup_datetime'] = pd.to_datetime(df[['pickup_month', 'pickup_day']].assign(year=2016).astype(str).agg('-'.join, axis=1))\n",
    "\n",
    "# Verifica el resultado\n",
    "print(df[['pickup_month', 'pickup_day', 'pickup_datetime']].head())\n",
    "\n",
    "# Esto extrae el día de la semana (0=lunes, 6=domingo)\n",
    "df['pickup_dayofweek'] = df['pickup_datetime'].dt.dayofweek\n",
    "\n",
    "# Para calcular la velocidad media por día de la semana\n",
    "velocidad_media_por_dia = df.groupby('pickup_dayofweek')['velocidad'].mean()\n",
    "print(\"\\nVelocidad media por día de la semana:\")\n",
    "print(velocidad_media_por_dia)"
   ]
  },
  {
   "cell_type": "markdown",
   "id": "30aa5c1d",
   "metadata": {
    "jp-MarkdownHeadingCollapsed": true
   },
   "source": [
    "## Part 2 Loops- For loops , while loops"
   ]
  },
  {
   "cell_type": "markdown",
   "id": "70cbc99d",
   "metadata": {},
   "source": [
    "a. Using a  “for loop” and the conditional “if else” for a range bettewn 1 to 100, evaluate \"x\" so that:\n",
    "If x is a multiple of 3 print  “Fizz”\n",
    "If x is a multiple of 5 print  “Buzz”\n",
    "If x is a multiple of 3 and 5 print “FizzBuzz”"
   ]
  },
  {
   "cell_type": "code",
   "execution_count": 7,
   "id": "ef2bb71b",
   "metadata": {},
   "outputs": [
    {
     "name": "stdout",
     "output_type": "stream",
     "text": [
      "Fizz\n",
      "Buzz\n",
      "Fizz\n",
      "Fizz\n",
      "Buzz\n",
      "Fizz\n",
      "FizzBuzz\n",
      "Fizz\n",
      "Buzz\n",
      "Fizz\n",
      "Fizz\n",
      "Buzz\n",
      "Fizz\n",
      "FizzBuzz\n",
      "Fizz\n",
      "Buzz\n",
      "Fizz\n",
      "Fizz\n",
      "Buzz\n",
      "Fizz\n",
      "FizzBuzz\n",
      "Fizz\n",
      "Buzz\n",
      "Fizz\n",
      "Fizz\n",
      "Buzz\n",
      "Fizz\n",
      "FizzBuzz\n",
      "Fizz\n",
      "Buzz\n",
      "Fizz\n",
      "Fizz\n",
      "Buzz\n",
      "Fizz\n",
      "FizzBuzz\n",
      "Fizz\n",
      "Buzz\n",
      "Fizz\n",
      "Fizz\n",
      "Buzz\n",
      "Fizz\n",
      "FizzBuzz\n",
      "Fizz\n",
      "Buzz\n",
      "Fizz\n",
      "Fizz\n",
      "Buzz\n"
     ]
    }
   ],
   "source": [
    "for x in range (1,101):\n",
    "    if x % 5 == 0 and x % 3 == 0:\n",
    "        print(\"FizzBuzz\")\n",
    "    elif x % 3 == 0:\n",
    "        print(\"Fizz\")\n",
    "    elif x % 5 == 0:\n",
    "        print(\"Buzz\")"
   ]
  },
  {
   "cell_type": "markdown",
   "id": "afb65bef",
   "metadata": {},
   "source": [
    "b.You are a data analyst at an online store and you have a file containing information about sales for the last year. \n",
    "\n",
    "Here are the name of the columns\n",
    "\n",
    "- `Date`: Transaction date (format: YYYY-MM-DD)\n",
    "- `Product`: Name of the product sold\n",
    "- `Quantity`: Number of units sold\n",
    "- `Price`: Unit price of the product in dollars\n",
    "- `Category`: Product Category (Electronics, Clothing, Home)\n",
    "- `Sale_ID`: A unique identifier for each transaction"
   ]
  },
  {
   "cell_type": "markdown",
   "id": "65793b53",
   "metadata": {},
   "source": [
    "Read the `sales.csv` file using pandas:\n",
    "\n",
    "- Display the first few rows using `.head()`.\n",
    "\n",
    "Create a new column:\n",
    "- Calculate the total for each transaction (multiply `quantity` by `price`) and store it in a new column called `Total`."
   ]
  },
  {
   "cell_type": "code",
   "execution_count": 8,
   "id": "48891912",
   "metadata": {},
   "outputs": [
    {
     "name": "stdout",
     "output_type": "stream",
     "text": [
      "         Date          Product  Quantity  Price     Category  Sale_ID\n",
      "0  2023-01-01           Laptop         1   1000  Electronics     1001\n",
      "1  2023-01-01          T-Shirt         2     20     Clothing     1002\n",
      "2  2023-01-02  Washing Machine         1    500         Home     1003\n",
      "3  2023-01-02       Headphones         3     50  Electronics     1004\n",
      "4  2023-01-03            Pants         1     30     Clothing     1005\n"
     ]
    }
   ],
   "source": [
    "import pandas as pd\n",
    "\n",
    "# Importando archivo CSV\n",
    "df = pd.read_csv('sales.csv')\n",
    "\n",
    "print(df.head())"
   ]
  },
  {
   "cell_type": "code",
   "execution_count": 20,
   "id": "9c405a09",
   "metadata": {},
   "outputs": [],
   "source": [
    "# Calculando las transacciones\n",
    "df['Total'] = df['Quantity'] * df['Price']"
   ]
  },
  {
   "cell_type": "markdown",
   "id": "9481349b",
   "metadata": {},
   "source": [
    "- Create a new DataFrame called `df_electronic` that contains only sales from the `electronics` category.\n",
    "- Calculate the total income of the `electronics` category.\n",
    "\n",
    "- Group sales by `category` and calculate the total income for each one.\n",
    "\n",
    "- Identify the product with the highest total quantity sold (`quantity`)."
   ]
  },
  {
   "cell_type": "code",
   "execution_count": 24,
   "id": "63880c78",
   "metadata": {},
   "outputs": [
    {
     "name": "stdout",
     "output_type": "stream",
     "text": [
      "<bound method NDFrame._add_numeric_operations.<locals>.sum of 0     1000\n",
      "3      150\n",
      "5      800\n",
      "7      100\n",
      "10    2000\n",
      "11     750\n",
      "14     120\n",
      "17     900\n",
      "20      75\n",
      "23    2850\n",
      "26     600\n",
      "29     600\n",
      "31     450\n",
      "Name: Total, dtype: int64>\n"
     ]
    }
   ],
   "source": [
    "# Creando un nuevo DataFrame\n",
    "df_electronic = df[df['Category'] == 'Electronics']\n",
    "\n",
    "# Calculando el total de ventas de la categoría\n",
    "total_income = df_electronic['Total'].sum\n",
    "print(total_income)"
   ]
  },
  {
   "cell_type": "code",
   "execution_count": 27,
   "id": "94c22398",
   "metadata": {},
   "outputs": [
    {
     "name": "stdout",
     "output_type": "stream",
     "text": [
      "Category\n",
      "Clothing        1700\n",
      "Electronics    10395\n",
      "Home            6150\n",
      "Name: Total, dtype: int64\n"
     ]
    }
   ],
   "source": [
    "# Calculando el total de ventas por categoría\n",
    "incomes = df.groupby('Category')['Total'].sum()\n",
    "print(incomes)"
   ]
  },
  {
   "cell_type": "code",
   "execution_count": 31,
   "id": "27a6a3ee",
   "metadata": {},
   "outputs": [
    {
     "name": "stdout",
     "output_type": "stream",
     "text": [
      "Date        2024-01-03\n",
      "Product          Shirt\n",
      "Quantity             5\n",
      "Price               25\n",
      "Category      Clothing\n",
      "Sale_ID           2003\n",
      "Total              125\n",
      "Name: 12, dtype: object\n"
     ]
    }
   ],
   "source": [
    "# Identificando el producto con más ingresos\n",
    "product = df.loc[df['Quantity'].idxmax()]\n",
    "print(product)"
   ]
  },
  {
   "cell_type": "markdown",
   "id": "fa140aec",
   "metadata": {},
   "source": [
    "Using a for loop:\n",
    "- Print the ID of each sale (`sales_ID`) along with the total of that sale."
   ]
  },
  {
   "cell_type": "code",
   "execution_count": 39,
   "id": "14385368",
   "metadata": {},
   "outputs": [
    {
     "name": "stdout",
     "output_type": "stream",
     "text": [
      "1001, 1000\n",
      "1002, 40\n",
      "1003, 500\n",
      "1004, 150\n",
      "1005, 30\n",
      "1006, 800\n",
      "1007, 200\n",
      "1008, 100\n",
      "1009, 700\n",
      "1010, 120\n",
      "2001, 2000\n",
      "2002, 750\n",
      "2003, 125\n",
      "2004, 1200\n",
      "2005, 120\n",
      "2006, 300\n",
      "2007, 100\n",
      "2008, 900\n",
      "2009, 600\n",
      "2010, 240\n",
      "2011, 75\n",
      "2012, 600\n",
      "2013, 400\n",
      "3001, 2850\n",
      "3002, 280\n",
      "3003, 700\n",
      "3004, 600\n",
      "3005, 165\n",
      "3006, 150\n",
      "3007, 600\n",
      "3008, 200\n",
      "3009, 450\n",
      "3010, 1200\n"
     ]
    }
   ],
   "source": [
    "for index, row in df.iterrows():\n",
    "    print(f\"{row['Sale_ID']}, {row['Total']}\")"
   ]
  },
  {
   "cell_type": "markdown",
   "id": "f812a0a1",
   "metadata": {},
   "source": [
    "- Display the details of all sales (ID, Product, Total) whose revenue (`total`) is greater than $500."
   ]
  },
  {
   "cell_type": "code",
   "execution_count": 41,
   "id": "fa8bcfcb",
   "metadata": {},
   "outputs": [
    {
     "name": "stdout",
     "output_type": "stream",
     "text": [
      "1001, Laptop, 1000\n",
      "1006, Television, 800\n",
      "1009, Sofa, 700\n",
      "2001, Laptop, 2000\n",
      "2002, Television, 750\n",
      "2004, Refrigerator, 1200\n",
      "2008, Phone, 900\n",
      "2009, Dishwasher, 600\n",
      "2012, Chair, 600\n",
      "3001, Laptop, 2850\n",
      "3003, Vacuum Cleaner, 700\n",
      "3004, Tablet, 600\n",
      "3007, Monitor, 600\n",
      "3010, Bed, 1200\n"
     ]
    }
   ],
   "source": [
    "for index, row in df[df['Total'] > 500].iterrows():\n",
    "    print(f\"{row['Sale_ID']}, {row['Product']}, {row['Total']}\")"
   ]
  },
  {
   "cell_type": "markdown",
   "id": "20a0b37f",
   "metadata": {},
   "source": [
    "- Using a dictionary and a `for loop`  count the total amount of products sold for each category"
   ]
  },
  {
   "cell_type": "code",
   "execution_count": 45,
   "id": "e35105a0",
   "metadata": {},
   "outputs": [
    {
     "name": "stdout",
     "output_type": "stream",
     "text": [
      "Category: Electronics, Total: 4\n",
      "Category: Clothing, Total: 2\n",
      "Category: Home, Total: 2\n"
     ]
    }
   ],
   "source": [
    "products_sold = {}\n",
    "\n",
    "for index, row in df.iterrows():\n",
    "    category = row['Category']\n",
    "    quantity = row['Quantity']\n",
    "    if category in products_sold:\n",
    "        products_sold[category] = quantity + 1\n",
    "    else:\n",
    "        products_sold[category] = quantity\n",
    "\n",
    "for category, total_quantity in products_sold.items():\n",
    "    print(f\"Category: {category}, Total: {total_quantity}\")"
   ]
  },
  {
   "cell_type": "markdown",
   "id": "4de0def9",
   "metadata": {},
   "source": [
    "Using a while loop:\n",
    "- Accumulate the total income (Total) day by day (adds sales totals by date). Stop the loop when the accumulated revenue exceeds $1000 and print the corresponding day."
   ]
  },
  {
   "cell_type": "code",
   "execution_count": 47,
   "id": "69dd795a",
   "metadata": {},
   "outputs": [],
   "source": [
    "df['Date'] = pd.to_datetime(df['Date'])\n",
    "\n",
    "df_sorted = df.sort_values(by='Date')"
   ]
  },
  {
   "cell_type": "code",
   "execution_count": 48,
   "id": "e5858072",
   "metadata": {},
   "outputs": [
    {
     "name": "stdout",
     "output_type": "stream",
     "text": [
      "2023-01-01\n"
     ]
    }
   ],
   "source": [
    "revenue = 0\n",
    "last = None\n",
    "\n",
    "for index, row in df_sorted.iterrows():\n",
    "    revenue += row['Total']\n",
    "    last = row['Date']\n",
    "    if revenue > 1000:\n",
    "        print(f\"{last.date()}\")\n",
    "        break"
   ]
  },
  {
   "cell_type": "markdown",
   "id": "aa29ae57",
   "metadata": {},
   "source": [
    "- Accumulate sales totals row by row. Stop the loop when the accumulated revenue exceeds $2000 and print how many sales were necessary."
   ]
  },
  {
   "cell_type": "code",
   "execution_count": 49,
   "id": "448cc223",
   "metadata": {},
   "outputs": [
    {
     "name": "stdout",
     "output_type": "stream",
     "text": [
      "11\n"
     ]
    }
   ],
   "source": [
    "revenue = 0\n",
    "sales = 0\n",
    "\n",
    "for index, row in df.iterrows():\n",
    "    revenue = row['Total'] + 1\n",
    "    sales = sales + 1\n",
    "    if revenue > 2000:\n",
    "        print(f\"{sales}\")\n",
    "        break"
   ]
  },
  {
   "cell_type": "markdown",
   "id": "df07cec7",
   "metadata": {},
   "source": [
    "- Use a combination of `for and while` loops to calculate a rolling cumulative revenue:\n",
    "\n",
    "For each category, use a for loop to iterate over its transactions.\n",
    "Use a while loop to stop accumulating revenue for a category once it exceeds $ 3000.\n",
    "\n",
    "Print the cumulative revenue for each category and the number of transactions it took to exceed $3000."
   ]
  },
  {
   "cell_type": "code",
   "execution_count": 55,
   "id": "9aac3914",
   "metadata": {},
   "outputs": [
    {
     "name": "stdout",
     "output_type": "stream",
     "text": [
      "Categoría: Electronics, Revenue: $4050, Sales: 5\n",
      "Categoría: Home, Revenue: $3500, Sales: 6\n"
     ]
    }
   ],
   "source": [
    "categories = df['Category'].unique()\n",
    "\n",
    "for category in categories:\n",
    "    category_sales = df[df['Category'] == category].sort_values(by='Date')\n",
    "    \n",
    "    revenue = 0  \n",
    "    count = 0   \n",
    "    \n",
    "    for index, row in category_sales.iterrows():\n",
    "        revenue += row['Total']\n",
    "        count = count + 1              \n",
    "        \n",
    "        if revenue > 3000:\n",
    "            print(f\"Categoría: {category}, Revenue: ${revenue}, Sales: {count}\")\n",
    "            break"
   ]
  },
  {
   "cell_type": "markdown",
   "id": "a9e33b86",
   "metadata": {},
   "source": [
    "- Use a `nested for` loop to:\n",
    "\n",
    "Group the sales by year and by date.\n",
    "\n",
    "For each year, determine the date with the highest total revenue and the revenue value.\n",
    "This task requires grouping and iterating within groups."
   ]
  },
  {
   "cell_type": "code",
   "execution_count": 56,
   "id": "df31a30d",
   "metadata": {},
   "outputs": [],
   "source": [
    "df['Date'] = pd.to_datetime(df['Date'])\n",
    "df['Year'] = df['Date'].dt.year"
   ]
  },
  {
   "cell_type": "code",
   "execution_count": 57,
   "id": "aff13635",
   "metadata": {},
   "outputs": [],
   "source": [
    "sales_year = df.groupby(['Year', 'Date'])['Total'].sum()"
   ]
  },
  {
   "cell_type": "code",
   "execution_count": 58,
   "id": "b2cd700c",
   "metadata": {},
   "outputs": [
    {
     "name": "stdout",
     "output_type": "stream",
     "text": [
      "Year: 2023, Date: 2023-01-01, Income: $1040\n",
      "Year: 2024, Date: 2024-01-01, Income: $2000\n",
      "Year: 2025, Date: 2025-01-01, Income: $2850\n"
     ]
    }
   ],
   "source": [
    "for year, year_data in sales_year.groupby('Year'):\n",
    "    max_date = year_data.idxmax() \n",
    "    max_total = year_data.max()   \n",
    "  \n",
    "    print(f\"Year: {year}, Date: {max_date[1].date()}, Income: ${max_total}\")"
   ]
  },
  {
   "cell_type": "markdown",
   "id": "15811ef9",
   "metadata": {
    "jp-MarkdownHeadingCollapsed": true
   },
   "source": [
    "## Part 3  Try, continue and catch exceptions"
   ]
  },
  {
   "cell_type": "markdown",
   "id": "c5ff41d6",
   "metadata": {},
   "source": [
    "In this case you will work with a `students_grade.csv` dataset. "
   ]
  },
  {
   "cell_type": "markdown",
   "id": "39c0d1de",
   "metadata": {},
   "source": [
    "1. You are tasked with calculating the average grade for each student in the dataset. However, the dataset has some issues:\n",
    "\n",
    "Some scores are marked as \"missing\" or \"invalid\" (strings instead of numeric values).\n",
    "Some students may have incomplete grades across subjects.\n",
    "\n",
    "To calculate the average:\n",
    "\n",
    "Skip any \"invalid\" or \"missing\" values during calculations.\n",
    "If a student has no valid grades, print a warning message for that student.\n",
    "\n",
    "\n",
    "Use `try` and `except` to handle potential errors.\n",
    "Use `continue` to skip invalid rows or scores.\n",
    "Print the results in a clear format, showing the average grade for each student or a warning if no grades are available."
   ]
  },
  {
   "cell_type": "code",
   "execution_count": 33,
   "id": "e7892cc0",
   "metadata": {},
   "outputs": [
    {
     "name": "stdout",
     "output_type": "stream",
     "text": [
      "   Student_ID           Name  Average_Grade\n",
      "0         101       John Doe      85.750000\n",
      "1         102     Jane Smith      86.333333\n",
      "2         103    Emily White      89.333333\n",
      "3         104  Michael Brown      83.666667\n",
      "4         105    Sarah Davis      89.000000\n"
     ]
    }
   ],
   "source": [
    "import pandas as pd  # Importar la librería Pandas\n",
    "\n",
    "# Cargar el archivo CSV en un DataFrame\n",
    "file_path = r\"C:\\Users\\Miguel\\Documents\\GitHub\\summer_python_medialab\\assignments\\assignment_2\\students_grade.csv\"  # Reemplaza con la ruta correcta de tu archivo\n",
    "\n",
    "df = pd.read_csv(file_path)  # Leer el archivo CSV\n",
    "\n",
    "# Reemplazar valores \"invalid\" y \"missing\" por NaN (valores nulos)\n",
    "df.replace([\"invalid\", \"missing\"], pd.NA, inplace=True)\n",
    "\n",
    "# Convertir las calificaciones a valores numéricos, reemplazando errores por NaN\n",
    "# 'coerce' fuerza la conversión y asigna NaN a valores no convertibles\n",
    "grade_columns = [\"Math\", \"English\", \"Science\", \"History\"]\n",
    "df[grade_columns] = df[grade_columns].apply(pd.to_numeric, errors=\"coerce\")\n",
    "\n",
    "# Calcular la nota media de cada estudiante omitiendo valores nulos\n",
    "df[\"Average_Grade\"] = df[grade_columns].mean(axis=1)\n",
    "\n",
    "# Identificar estudiantes sin calificaciones válidas\n",
    "students_without_grades = df[df[\"Average_Grade\"].isna()]\n",
    "\n",
    "# Imprimir advertencias para estudiantes sin notas válidas\n",
    "for _, row in students_without_grades.iterrows():\n",
    "    print(f\"Advertencia: El estudiante {row['Name']} (ID: {row['Student_ID']}) no tiene calificaciones válidas.\")\n",
    "\n",
    "# Mostrar las primeras filas con la nota media calculada\n",
    "print(df[[\"Student_ID\", \"Name\", \"Average_Grade\"]].head())"
   ]
  },
  {
   "cell_type": "markdown",
   "id": "28d5de24",
   "metadata": {},
   "source": [
    "2. Calculate the average grade per subject for each year.\n",
    "Handle invalid or missing values during the calculation by skipping them.\n",
    "Print the averages in a clean format (e.g., table or grouped output)."
   ]
  },
  {
   "cell_type": "code",
   "execution_count": 37,
   "id": "567d1fae",
   "metadata": {},
   "outputs": [
    {
     "name": "stdout",
     "output_type": "stream",
     "text": [
      "\n",
      "Nota media por asignatura y año:\n",
      "           Math    English    Science    History\n",
      "Year                                            \n",
      "2014  87.800000  83.200000  91.200000  83.000000\n",
      "2015  86.500000  82.500000  93.333333  88.500000\n",
      "2016  91.333333  87.333333  94.000000  87.000000\n",
      "2017  89.000000  90.000000  95.333333  91.333333\n",
      "2018  90.500000  89.666667  92.500000  94.500000\n",
      "2019  91.000000  87.333333  90.666667  94.000000\n",
      "2020  93.500000  88.000000  93.750000  92.500000\n",
      "2021  89.000000  87.000000  92.000000  91.500000\n",
      "2022  91.714286  88.375000  93.400000  92.111111\n"
     ]
    }
   ],
   "source": [
    "# Calcular la nota media por asignatura para cada año\n",
    "yearly_avg = df.groupby(\"Year\")[grade_columns].mean()\n",
    "\n",
    "# Mostrar la nota media por asignatura para cada año en formato de tabla\n",
    "print(\"\\nNota media por asignatura y año:\")\n",
    "print(yearly_avg)"
   ]
  },
  {
   "cell_type": "markdown",
   "id": "b3f1ebdb",
   "metadata": {},
   "source": [
    "3. Identify students who had an average grade of 90 or above across all years (excluding invalid/missing values).\n",
    "If a student has no valid grades, skip them with a warning."
   ]
  },
  {
   "cell_type": "code",
   "execution_count": 38,
   "id": "24a9c1a1",
   "metadata": {},
   "outputs": [
    {
     "name": "stdout",
     "output_type": "stream",
     "text": [
      "\n",
      "Estudiantes con nota media de 90 o más en todos los años:\n",
      "    Student_ID              Name  Average_Grade\n",
      "9          110     Daniel Harris      91.000000\n",
      "12         113     Olivia Thomas      91.000000\n",
      "13         114  Isabella Jackson      94.666667\n",
      "14         115    Lucas Martinez      91.250000\n",
      "15         116        Mia Garcia      91.333333\n",
      "16         117     Matthew Clark      93.000000\n",
      "18         119   Alexander Young      91.666667\n",
      "19         120       Amelia King      92.500000\n",
      "21         122      Harper Scott      92.250000\n",
      "23         124       Evelyn Hall      91.500000\n",
      "24         125       Avery Adams      91.750000\n",
      "25         126     Jackson Baker      91.666667\n",
      "26         127       Lily Nelson      90.666667\n",
      "27         128     Elijah Carter      92.500000\n",
      "28         129        Zoey Perez      91.500000\n",
      "29         130    Aiden Mitchell      90.333333\n",
      "31         132      Owen Ramirez      90.666667\n",
      "32         133     Hannah Walker      94.000000\n",
      "34         135   Abigail Sanders      90.500000\n",
      "35         136     Jacob Edwards      91.250000\n",
      "36         137   Scarlett Murphy      94.000000\n",
      "37         138      Mason Barnes      92.500000\n",
      "38         139         Aria Bell      92.000000\n",
      "39         140    Eleanor Fisher      91.000000\n",
      "40         141    Grayson Powell      90.333333\n",
      "41         142      Emily Hughes      91.666667\n",
      "42         143    Michael Foster      91.000000\n",
      "43         144    Harper Simmons      92.750000\n"
     ]
    }
   ],
   "source": [
    "# Identificar estudiantes con nota media de 90 o más en todos los años\n",
    "high_achievers = df.groupby(\"Student_ID\")[\"Average_Grade\"].mean()\n",
    "high_achievers = high_achievers[high_achievers >= 90]\n",
    "\n",
    "# Mostrar los estudiantes con nota media de 90 o más\n",
    "print(\"\\nEstudiantes con nota media de 90 o más en todos los años:\")\n",
    "if high_achievers.empty:\n",
    "    print(\"Ningún estudiante cumple con el criterio.\")\n",
    "else:\n",
    "    print(df[df[\"Student_ID\"].isin(high_achievers.index)][[\"Student_ID\", \"Name\", \"Average_Grade\"]].drop_duplicates())"
   ]
  }
 ],
 "metadata": {
  "kernelspec": {
   "display_name": "Python 3 (ipykernel)",
   "language": "python",
   "name": "python3"
  },
  "language_info": {
   "codemirror_mode": {
    "name": "ipython",
    "version": 3
   },
   "file_extension": ".py",
   "mimetype": "text/x-python",
   "name": "python",
   "nbconvert_exporter": "python",
   "pygments_lexer": "ipython3",
   "version": "3.12.7"
  }
 },
 "nbformat": 4,
 "nbformat_minor": 5
}
