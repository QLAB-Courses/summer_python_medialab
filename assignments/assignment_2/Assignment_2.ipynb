{
 "cells": [
  {
   "cell_type": "markdown",
   "id": "b7fd6b7f",
   "metadata": {},
   "source": [
    "# Assignment_2\n",
    "If you copy codes from previous answers, explain each step. No explanation is `0 points`."
   ]
  },
  {
   "cell_type": "markdown",
   "id": "2f37067c",
   "metadata": {},
   "source": [
    "This assignment would evaluate tree core topics : pandas , loops  and try , continue , catch exceptions"
   ]
  },
  {
   "cell_type": "markdown",
   "id": "c507ddf6",
   "metadata": {},
   "source": [
    "## Part 1. Pandas"
   ]
  },
  {
   "cell_type": "markdown",
   "id": "6baac9e7",
   "metadata": {},
   "source": [
    "Use the next data base `nyc_taxis.csv` , its on the github page of the assignment"
   ]
  },
  {
   "cell_type": "markdown",
   "id": "f2d9f75d",
   "metadata": {},
   "source": [
    "Let's work with a subset of the New York City taxi trip data released by the city. We'll focus on about 90,000 yellow taxi trips to and from various NYC airports between January and June 2016. Here are some selected columns from the dataset:\n",
    "\n",
    "- `pickup_month`: the month of the trip (January is 1, December is 12)\n",
    "- `pickup_day`: the day of the month of the trip\n",
    "- `pickup_location_code`: the airport or borough where the trip started\n",
    "- `dropoff_location_code`: the airport or borough where the trip ended\n",
    "- `trip_distance`: the distance of the trip in miles\n",
    "- `trip_length`: the length of the trip in seconds\n",
    "- `fare_amount`: the base fare of the trip, in dollars\n",
    "- `total_amount`: the total amount charged to the passenger, including all fees, tolls, and tips\n",
    "\n",
    "\n",
    "Review the dictionary data [here](https://s3.amazonaws.com/dq-content/289/nyc_taxi_data_dictionary.md).\n",
    "\n",
    "Our data is stored in a CSV file called `nyc_taxis.csv`"
   ]
  },
  {
   "cell_type": "markdown",
   "id": "606b81e5",
   "metadata": {},
   "source": [
    "Calculate\n",
    "1. The average distance of the trip  (`trip_distance`) for each month (`pickup_month`)\n",
    "2. The total of trips from JFK for each day of the month\n",
    "3. Calculate the average velocity according to `pickup_dayofweek`"
   ]
  },
  {
   "cell_type": "code",
   "execution_count": 142,
   "id": "05bc670f",
   "metadata": {},
   "outputs": [],
   "source": [
    "import pandas as pd\n",
    "nyc_taxis=pd.read_csv(\"nyc_taxis.csv\")"
   ]
  },
  {
   "cell_type": "code",
   "execution_count": 144,
   "id": "12b4961b",
   "metadata": {},
   "outputs": [
    {
     "name": "stdout",
     "output_type": "stream",
     "text": [
      "      pickup_month  pickup_day  pickup_dayofweek  pickup_location_code  \\\n",
      "0                1           1                 5                     2   \n",
      "1                1           1                 5                     2   \n",
      "2                1           1                 5                     2   \n",
      "3                1           1                 5                     2   \n",
      "4                1           1                 5                     2   \n",
      "...            ...         ...               ...                   ...   \n",
      "2008             6          30                 4                     3   \n",
      "2009             6          30                 4                     2   \n",
      "2010             6          30                 4                     2   \n",
      "2011             6          30                 4                     2   \n",
      "2012             6          30                 4                     2   \n",
      "\n",
      "      dropoff_location_code  trip_distance  trip_length  fare_amount  \\\n",
      "0                         4          21.00         2037         52.0   \n",
      "1                         1          16.29         1520         45.0   \n",
      "2                         6          12.70         1462         36.5   \n",
      "3                         6           8.70         1210         26.0   \n",
      "4                         6           5.56          759         17.5   \n",
      "...                     ...            ...          ...          ...   \n",
      "2008                      4           9.50         1989         31.0   \n",
      "2009                      4          19.80         2368         52.0   \n",
      "2010                      4          17.48         2822         52.0   \n",
      "2011                      6          12.76         1083         34.5   \n",
      "2012                      0          17.54         1711         48.0   \n",
      "\n",
      "      total_amount  \n",
      "0            69.99  \n",
      "1            54.30  \n",
      "2            37.80  \n",
      "3            32.76  \n",
      "4            18.80  \n",
      "...            ...  \n",
      "2008         40.84  \n",
      "2009         58.34  \n",
      "2010         63.34  \n",
      "2011         44.75  \n",
      "2012         54.84  \n",
      "\n",
      "[2013 rows x 9 columns]\n"
     ]
    }
   ],
   "source": [
    "#Call the Database\n",
    "nyc_taxis=nyc_taxis[[\"pickup_month\", \"pickup_day\", \"pickup_dayofweek\", \"pickup_location_code\", \"dropoff_location_code\", \"trip_distance\", \"trip_length\", \"fare_amount\", \"total_amount\"]]\n",
    "print(nyc_taxis)"
   ]
  },
  {
   "cell_type": "code",
   "execution_count": 146,
   "id": "0374f8da",
   "metadata": {},
   "outputs": [
    {
     "name": "stdout",
     "output_type": "stream",
     "text": [
      "      pickup_month  trip_distance\n",
      "0                1          21.00\n",
      "1                1          16.29\n",
      "2                1          12.70\n",
      "3                1           8.70\n",
      "4                1           5.56\n",
      "...            ...            ...\n",
      "2008             6           9.50\n",
      "2009             6          19.80\n",
      "2010             6          17.48\n",
      "2011             6          12.76\n",
      "2012             6          17.54\n",
      "\n",
      "[2013 rows x 2 columns]\n",
      "pickup_month\n",
      "1    13.039750\n",
      "2    13.145227\n",
      "3    12.702256\n",
      "4    12.808012\n",
      "6    12.964744\n",
      "Name: trip_distance, dtype: float64\n"
     ]
    }
   ],
   "source": [
    "#The average distance of the trip (trip_distance) for each month (pickup_month)\n",
    "\n",
    "#Pick up month and trip distance\n",
    "nyc_taxis_1=nyc_taxis[[\"pickup_month\",\"trip_distance\"]]\n",
    "print(nyc_taxis_1)\n",
    "\n",
    "# Group by pickup_month and calculate mean trip_distance\n",
    "monthly_avg_distance = nyc_taxis_1.groupby('pickup_month')['trip_distance'].mean()\n",
    "print(monthly_avg_distance)"
   ]
  },
  {
   "cell_type": "code",
   "execution_count": 148,
   "id": "709cd572-4910-4024-8c32-23d2bdcc9ded",
   "metadata": {},
   "outputs": [
    {
     "name": "stdout",
     "output_type": "stream",
     "text": [
      "      pickup_month  pickup_location_code\n",
      "0                1                     2\n",
      "1                1                     2\n",
      "2                1                     2\n",
      "3                1                     2\n",
      "4                1                     2\n",
      "...            ...                   ...\n",
      "2004             6                     2\n",
      "2009             6                     2\n",
      "2010             6                     2\n",
      "2011             6                     2\n",
      "2012             6                     2\n",
      "\n",
      "[724 rows x 2 columns]\n",
      "\n",
      "Total of trips from JFK for each day of the month:\n",
      "   pickup_month  total_trips\n",
      "0             1          330\n",
      "1             2           60\n",
      "2             3          162\n",
      "3             4           63\n",
      "4             6          109\n"
     ]
    }
   ],
   "source": [
    "#The total of trips from JFK for each day of the month\n",
    "nyc_taxis_2 = nyc_taxis[nyc_taxis['pickup_location_code'] == 2][['pickup_month', 'pickup_location_code']]\n",
    "print(nyc_taxis_2)\n",
    "\n",
    "#Trips per month but only about JFK airport\n",
    "trips_per_month = nyc_taxis[nyc_taxis['pickup_location_code'] == 2].groupby('pickup_month')['pickup_location_code'].count()\n",
    "\n",
    "trips_per_month = trips_per_month.reset_index(name='total_trips')\n",
    "print(\"\\nTotal of trips from JFK for each day of the month:\")\n",
    "print(trips_per_month)"
   ]
  },
  {
   "cell_type": "code",
   "execution_count": 150,
   "id": "6b996d02-45de-4508-89c9-a4297d981941",
   "metadata": {},
   "outputs": [
    {
     "name": "stdout",
     "output_type": "stream",
     "text": [
      "The average velocity for each day of the week:\n",
      "   pickup_dayofweek  avg_velocity\n",
      "0                 1      0.036826\n",
      "1                 2      0.007596\n",
      "2                 3      0.081112\n",
      "3                 4      0.025408\n",
      "4                 5      0.042695\n",
      "5                 6      0.102427\n",
      "6                 7      0.039451\n"
     ]
    }
   ],
   "source": [
    "# Calculate the average velocity (speed) for each day of the week (pickup_dayofweek)\n",
    "nyc_taxis[\"velocity\"] = nyc_taxis[\"trip_distance\"] / nyc_taxis[\"trip_length\"]\n",
    "\n",
    "# Calculate the average velocity by pickup_dayofweek using groupby\n",
    "avg_velocity_by_day = nyc_taxis.groupby('pickup_dayofweek')['velocity'].mean()\n",
    "\n",
    "# Convert to DataFrame for better visualization\n",
    "velocity_summary_df = avg_velocity_by_day.reset_index(name='avg_velocity')\n",
    "\n",
    "# Sort by day of week to ensure order\n",
    "velocity_summary_df = velocity_summary_df.sort_values('pickup_dayofweek')\n",
    "\n",
    "# Print the result\n",
    "print(\"The average velocity for each day of the week:\")\n",
    "print(velocity_summary_df)"
   ]
  },
  {
   "cell_type": "code",
   "execution_count": 152,
   "id": "845474d9-3239-49f3-bbf1-79062b046a83",
   "metadata": {},
   "outputs": [
    {
     "name": "stdout",
     "output_type": "stream",
     "text": [
      "The average velocity for each day of the week (km/h):\n",
      "   pickup_dayofweek  avg_velocity_kmh\n",
      "0                 1            213.35\n",
      "1                 2             44.01\n",
      "2                 3            469.93\n",
      "3                 4            147.20\n",
      "4                 5            247.36\n",
      "5                 6            593.42\n",
      "6                 7            228.57\n"
     ]
    }
   ],
   "source": [
    "# Now calculate velocity with kilometers per hour:\n",
    "# Distance: miles to kilometers (1 mile = 1.60934 km)\n",
    "#Time: seconds to hours (1 hour = 3600 seconds)\n",
    "nyc_taxis[\"velocity_kmh\"] = (nyc_taxis[\"trip_distance\"] * 1.60934) / (nyc_taxis[\"trip_length\"] / 3600)\n",
    "\n",
    "# Calculate average velocity by day using groupby\n",
    "avg_velocity_by_day = nyc_taxis.groupby('pickup_dayofweek')['velocity_kmh'].mean()\n",
    "\n",
    "# Convert to DataFrame for better visualization\n",
    "velocity_summary_df = avg_velocity_by_day.reset_index(name='avg_velocity_kmh')\n",
    "\n",
    "# Sort by day of the week\n",
    "velocity_summary_df = velocity_summary_df.sort_values('pickup_dayofweek')\n",
    "\n",
    "# Round to 2 decimal places\n",
    "velocity_summary_df['avg_velocity_kmh'] = velocity_summary_df['avg_velocity_kmh'].round(2)\n",
    "\n",
    "print(\"The average velocity for each day of the week (km/h):\")\n",
    "print(velocity_summary_df)"
   ]
  },
  {
   "cell_type": "markdown",
   "id": "30aa5c1d",
   "metadata": {},
   "source": [
    "## Part 2 Loops- For loops , while loops"
   ]
  },
  {
   "cell_type": "markdown",
   "id": "70cbc99d",
   "metadata": {},
   "source": [
    "a. Using a  “for loop” and the conditional “if else” for a range bettewn 1 to 100, evaluate \"x\" so that:\n",
    "If x is a multiple of 3 print  “Fizz”\n",
    "If x is a multiple of 5 print  “Buzz”\n",
    "If x is a multiple of 3 and 5 print “FizzBuzz”"
   ]
  },
  {
   "cell_type": "code",
   "execution_count": null,
   "id": "ef2bb71b",
   "metadata": {},
   "outputs": [],
   "source": []
  },
  {
   "cell_type": "markdown",
   "id": "afb65bef",
   "metadata": {},
   "source": [
    "b.You are a data analyst at an online store and you have a file containing information about sales for the last year. \n",
    "\n",
    "Here are the name of the columns\n",
    "\n",
    "- `Date`: Transaction date (format: YYYY-MM-DD)\n",
    "- `Product`: Name of the product sold\n",
    "- `Quantity`: Number of units sold\n",
    "- `Price`: Unit price of the product in dollars\n",
    "- `Category`: Product Category (Electronics, Clothing, Home)\n",
    "- `Sale_ID`: A unique identifier for each transaction"
   ]
  },
  {
   "cell_type": "markdown",
   "id": "65793b53",
   "metadata": {},
   "source": [
    "Read the `sales.csv` file using pandas:\n",
    "\n",
    "- Display the first few rows using `.head()`.\n",
    "\n",
    "Create a new column:\n",
    "- Calculate the total for each transaction (multiply `quantity` by `price`) and store it in a new column called `Total`."
   ]
  },
  {
   "cell_type": "code",
   "execution_count": null,
   "id": "48891912",
   "metadata": {},
   "outputs": [],
   "source": []
  },
  {
   "cell_type": "code",
   "execution_count": null,
   "id": "9c405a09",
   "metadata": {},
   "outputs": [],
   "source": []
  },
  {
   "cell_type": "markdown",
   "id": "9481349b",
   "metadata": {},
   "source": [
    "- Create a new DataFrame called `df_electronic` that contains only sales from the `electronics` category.\n",
    "- Calculate the total income of the `electronics` category.\n",
    "\n",
    "- Group sales by `category` and calculate the total income for each one.\n",
    "\n",
    "- Identify the product with the highest total quantity sold (`quantity`)."
   ]
  },
  {
   "cell_type": "code",
   "execution_count": null,
   "id": "63880c78",
   "metadata": {},
   "outputs": [],
   "source": []
  },
  {
   "cell_type": "code",
   "execution_count": null,
   "id": "94c22398",
   "metadata": {},
   "outputs": [],
   "source": []
  },
  {
   "cell_type": "code",
   "execution_count": null,
   "id": "27a6a3ee",
   "metadata": {},
   "outputs": [],
   "source": []
  },
  {
   "cell_type": "markdown",
   "id": "fa140aec",
   "metadata": {},
   "source": [
    "Using a for loop:\n",
    "- Print the ID of each sale (`sales_ID`) along with the total of that sale."
   ]
  },
  {
   "cell_type": "code",
   "execution_count": null,
   "id": "14385368",
   "metadata": {},
   "outputs": [],
   "source": []
  },
  {
   "cell_type": "markdown",
   "id": "f812a0a1",
   "metadata": {},
   "source": [
    "- Display the details of all sales (ID, Product, Total) whose revenue (`total`) is greater than $500."
   ]
  },
  {
   "cell_type": "code",
   "execution_count": null,
   "id": "fa8bcfcb",
   "metadata": {},
   "outputs": [],
   "source": []
  },
  {
   "cell_type": "markdown",
   "id": "20a0b37f",
   "metadata": {},
   "source": [
    "- Using a dictionary and a `for loop`  count the total amount of products sold for each category"
   ]
  },
  {
   "cell_type": "code",
   "execution_count": null,
   "id": "e35105a0",
   "metadata": {},
   "outputs": [],
   "source": []
  },
  {
   "cell_type": "markdown",
   "id": "4de0def9",
   "metadata": {},
   "source": [
    "Using a while loop:\n",
    "- Accumulate the total income (Total) day by day (adds sales totals by date). Stop the loop when the accumulated revenue exceeds $1000 and print the corresponding day."
   ]
  },
  {
   "cell_type": "code",
   "execution_count": null,
   "id": "69dd795a",
   "metadata": {},
   "outputs": [],
   "source": []
  },
  {
   "cell_type": "code",
   "execution_count": null,
   "id": "e5858072",
   "metadata": {},
   "outputs": [],
   "source": []
  },
  {
   "cell_type": "markdown",
   "id": "aa29ae57",
   "metadata": {},
   "source": [
    "- Accumulate sales totals row by row. Stop the loop when the accumulated revenue exceeds $2000 and print how many sales were necessary."
   ]
  },
  {
   "cell_type": "code",
   "execution_count": null,
   "id": "448cc223",
   "metadata": {},
   "outputs": [],
   "source": []
  },
  {
   "cell_type": "markdown",
   "id": "df07cec7",
   "metadata": {},
   "source": [
    "- Use a combination of `for and while` loops to calculate a rolling cumulative revenue:\n",
    "\n",
    "For each category, use a for loop to iterate over its transactions.\n",
    "Use a while loop to stop accumulating revenue for a category once it exceeds $ 3000.\n",
    "\n",
    "Print the cumulative revenue for each category and the number of transactions it took to exceed $3000."
   ]
  },
  {
   "cell_type": "code",
   "execution_count": null,
   "id": "9aac3914",
   "metadata": {},
   "outputs": [],
   "source": []
  },
  {
   "cell_type": "markdown",
   "id": "a9e33b86",
   "metadata": {},
   "source": [
    "- Use a `nested for` loop to:\n",
    "\n",
    "Group the sales by year and by date.\n",
    "\n",
    "For each year, determine the date with the highest total revenue and the revenue value.\n",
    "This task requires grouping and iterating within groups."
   ]
  },
  {
   "cell_type": "code",
   "execution_count": null,
   "id": "df31a30d",
   "metadata": {},
   "outputs": [],
   "source": []
  },
  {
   "cell_type": "code",
   "execution_count": null,
   "id": "aff13635",
   "metadata": {},
   "outputs": [],
   "source": []
  },
  {
   "cell_type": "code",
   "execution_count": null,
   "id": "b2cd700c",
   "metadata": {},
   "outputs": [],
   "source": []
  },
  {
   "cell_type": "markdown",
   "id": "15811ef9",
   "metadata": {},
   "source": [
    "## Part 3  Try, continue and catch exceptions"
   ]
  },
  {
   "cell_type": "markdown",
   "id": "c5ff41d6",
   "metadata": {},
   "source": [
    "In this case you will work with a `students_grade.csv` dataset. "
   ]
  },
  {
   "cell_type": "markdown",
   "id": "39c0d1de",
   "metadata": {},
   "source": [
    "1. You are tasked with calculating the average grade for each student in the dataset. However, the dataset has some issues:\n",
    "\n",
    "Some scores are marked as \"missing\" or \"invalid\" (strings instead of numeric values).\n",
    "Some students may have incomplete grades across subjects.\n",
    "\n",
    "To calculate the average:\n",
    "\n",
    "Skip any \"invalid\" or \"missing\" values during calculations.\n",
    "If a student has no valid grades, print a warning message for that student.\n",
    "\n",
    "\n",
    "Use `try` and `except` to handle potential errors.\n",
    "Use `continue` to skip invalid rows or scores.\n",
    "Print the results in a clear format, showing the average grade for each student or a warning if no grades are available."
   ]
  },
  {
   "cell_type": "code",
   "execution_count": null,
   "id": "e7892cc0",
   "metadata": {},
   "outputs": [],
   "source": []
  },
  {
   "cell_type": "markdown",
   "id": "28d5de24",
   "metadata": {},
   "source": [
    "2. Calculate the average grade per subject for each year.\n",
    "Handle invalid or missing values during the calculation by skipping them.\n",
    "Print the averages in a clean format (e.g., table or grouped output)."
   ]
  },
  {
   "cell_type": "markdown",
   "id": "b5410d0b",
   "metadata": {},
   "source": [
    "\n"
   ]
  },
  {
   "cell_type": "markdown",
   "id": "b3f1ebdb",
   "metadata": {},
   "source": [
    "3. Identify students who had an average grade of 90 or above across all years (excluding invalid/missing values).\n",
    "If a student has no valid grades, skip them with a warning."
   ]
  },
  {
   "cell_type": "code",
   "execution_count": null,
   "id": "24a9c1a1",
   "metadata": {},
   "outputs": [],
   "source": []
  }
 ],
 "metadata": {
  "kernelspec": {
   "display_name": "Python [conda env:base] *",
   "language": "python",
   "name": "conda-base-py"
  },
  "language_info": {
   "codemirror_mode": {
    "name": "ipython",
    "version": 3
   },
   "file_extension": ".py",
   "mimetype": "text/x-python",
   "name": "python",
   "nbconvert_exporter": "python",
   "pygments_lexer": "ipython3",
   "version": "3.11.5"
  }
 },
 "nbformat": 4,
 "nbformat_minor": 5
}
