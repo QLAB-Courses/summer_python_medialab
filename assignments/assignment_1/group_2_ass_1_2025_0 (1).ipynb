{
 "cells": [
  {
   "cell_type": "markdown",
   "id": "5d198778",
   "metadata": {},
   "source": [
    "# Assignment_1\n",
    "## Group_2\n",
    "If you copy codes from previous answers, explain each step. No explanation is `0 points`."
   ]
  },
  {
   "cell_type": "markdown",
   "id": "853562f8",
   "metadata": {},
   "source": [
    "##  Part 1.Data types\n"
   ]
  },
  {
   "cell_type": "markdown",
   "id": "521b5fe7",
   "metadata": {},
   "source": [
    "a.Declare one variable for each one these types: : int , float , string , boolean.\n",
    "- Print  the varible's type using  type () function\n",
    "\n",
    "\n"
   ]
  },
  {
   "cell_type": "code",
   "execution_count": 255,
   "id": "b8adc928",
   "metadata": {},
   "outputs": [],
   "source": [
    "a_1 = 666 # We create one variable for each type and confirmed with type function"
   ]
  },
  {
   "cell_type": "code",
   "execution_count": 256,
   "id": "b3833c59",
   "metadata": {},
   "outputs": [
    {
     "data": {
      "text/plain": [
       "int"
      ]
     },
     "execution_count": 256,
     "metadata": {},
     "output_type": "execute_result"
    }
   ],
   "source": [
    "type (a_1)"
   ]
  },
  {
   "cell_type": "code",
   "execution_count": 257,
   "id": "ff7d564d",
   "metadata": {},
   "outputs": [],
   "source": [
    "a_2 = 6.66"
   ]
  },
  {
   "cell_type": "code",
   "execution_count": 258,
   "id": "79d793d3",
   "metadata": {},
   "outputs": [
    {
     "data": {
      "text/plain": [
       "float"
      ]
     },
     "execution_count": 258,
     "metadata": {},
     "output_type": "execute_result"
    }
   ],
   "source": [
    "type (a_2)"
   ]
  },
  {
   "cell_type": "code",
   "execution_count": 259,
   "id": "c1bc03a7",
   "metadata": {},
   "outputs": [],
   "source": [
    "a_3 = \"lucifer\""
   ]
  },
  {
   "cell_type": "code",
   "execution_count": 260,
   "id": "d4045313",
   "metadata": {},
   "outputs": [
    {
     "data": {
      "text/plain": [
       "str"
      ]
     },
     "execution_count": 260,
     "metadata": {},
     "output_type": "execute_result"
    }
   ],
   "source": [
    "type (a_3)"
   ]
  },
  {
   "cell_type": "code",
   "execution_count": 261,
   "id": "be5243c0",
   "metadata": {},
   "outputs": [],
   "source": [
    "a_4 = False "
   ]
  },
  {
   "cell_type": "code",
   "execution_count": 262,
   "id": "41ef6414",
   "metadata": {},
   "outputs": [
    {
     "data": {
      "text/plain": [
       "bool"
      ]
     },
     "execution_count": 262,
     "metadata": {},
     "output_type": "execute_result"
    }
   ],
   "source": [
    "type (a_4)"
   ]
  },
  {
   "cell_type": "markdown",
   "id": "ce38f1d9",
   "metadata": {},
   "source": [
    " b. Using only the following inputs: ```5``` and ```2```  ,  work the  operators to get the output  : ```50```"
   ]
  },
  {
   "cell_type": "code",
   "execution_count": 263,
   "id": "46b08279",
   "metadata": {},
   "outputs": [],
   "source": [
    " b = 5 * 2 *5 # We create inputs with int and then get the result with another variable"
   ]
  },
  {
   "cell_type": "code",
   "execution_count": 264,
   "id": "f97e78cf",
   "metadata": {},
   "outputs": [
    {
     "data": {
      "text/plain": [
       "50"
      ]
     },
     "execution_count": 264,
     "metadata": {},
     "output_type": "execute_result"
    }
   ],
   "source": [
    "b"
   ]
  },
  {
   "cell_type": "markdown",
   "id": "42009dda",
   "metadata": {},
   "source": [
    "c. Evaluate if the output of the previous excercise is over 100. Create a variable that makes this evaluation. (Hint: It would be a boolean)."
   ]
  },
  {
   "cell_type": "code",
   "execution_count": 265,
   "id": "e1226c5e",
   "metadata": {},
   "outputs": [],
   "source": [
    " c = b > 100 # We analize that output is over 100"
   ]
  },
  {
   "cell_type": "code",
   "execution_count": 266,
   "id": "6c9f5e5d",
   "metadata": {},
   "outputs": [
    {
     "data": {
      "text/plain": [
       "False"
      ]
     },
     "execution_count": 266,
     "metadata": {},
     "output_type": "execute_result"
    }
   ],
   "source": [
    " c"
   ]
  },
  {
   "cell_type": "markdown",
   "id": "877a0395",
   "metadata": {},
   "source": [
    "d. Create a variable equal to a list that contains: \n",
    "- a string,\n",
    "- a boolean,\n",
    "- two numeric values ( of any kind)  and\n",
    "- a  list of two strings with the names of your favourite musical artists. "
   ]
  },
  {
   "cell_type": "code",
   "execution_count": 267,
   "id": "081b71d0",
   "metadata": {},
   "outputs": [],
   "source": [
    "d = [ \"Julian\" , True, 666 , 6.66,[\"BTS\", \"EXO\"] ] # We create a list with data required."
   ]
  },
  {
   "cell_type": "code",
   "execution_count": 268,
   "id": "0f7b48de",
   "metadata": {},
   "outputs": [
    {
     "data": {
      "text/plain": [
       "['Julian', True, 666, 6.66, ['BTS', 'EXO']]"
      ]
     },
     "execution_count": 268,
     "metadata": {},
     "output_type": "execute_result"
    }
   ],
   "source": [
    "d"
   ]
  },
  {
   "cell_type": "markdown",
   "id": "e2a5f459",
   "metadata": {},
   "source": [
    "## Part 2. Containers"
   ]
  },
  {
   "cell_type": "markdown",
   "id": "51681d3c",
   "metadata": {},
   "source": [
    "e. Create a tuple with 3 elements. Explain why you can't modify it. "
   ]
  },
  {
   "cell_type": "code",
   "execution_count": 269,
   "id": "dd8d0079",
   "metadata": {},
   "outputs": [],
   "source": [
    " e = ( \"Mauricio\" , \"Sofia\" , \"Julian\") # We create a tuple with our names"
   ]
  },
  {
   "cell_type": "code",
   "execution_count": 270,
   "id": "6702f26b",
   "metadata": {},
   "outputs": [
    {
     "data": {
      "text/plain": [
       "('Mauricio', 'Sofia', 'Julian')"
      ]
     },
     "execution_count": 270,
     "metadata": {},
     "output_type": "execute_result"
    }
   ],
   "source": [
    "e"
   ]
  },
  {
   "cell_type": "code",
   "execution_count": 271,
   "id": "f47a05b6",
   "metadata": {},
   "outputs": [],
   "source": [
    "#because is inmutable so you can´t modify it. If you want to add new data, you need to create another tuple."
   ]
  },
  {
   "cell_type": "markdown",
   "id": "25ecd132",
   "metadata": {},
   "source": [
    "f.Create a dictionary with at least 3 different  keys and values ."
   ]
  },
  {
   "cell_type": "code",
   "execution_count": 272,
   "id": "57ac77f1",
   "metadata": {},
   "outputs": [],
   "source": [
    " f = { \"artist\" : \"BTS\" , \"members\" : 7 , \"women\" : False } # We create a  dictionary about BTS band"
   ]
  },
  {
   "cell_type": "code",
   "execution_count": 273,
   "id": "1d84fcfa",
   "metadata": {},
   "outputs": [
    {
     "data": {
      "text/plain": [
       "{'artist': 'BTS', 'members': 7, 'women': False}"
      ]
     },
     "execution_count": 273,
     "metadata": {},
     "output_type": "execute_result"
    }
   ],
   "source": [
    "f"
   ]
  },
  {
   "cell_type": "markdown",
   "id": "88837e32",
   "metadata": {},
   "source": [
    "g.We got the next courses list: "
   ]
  },
  {
   "cell_type": "code",
   "execution_count": 274,
   "id": "b75be7fb",
   "metadata": {},
   "outputs": [],
   "source": [
    "courses = [\"History\", \"Economy\", \"Anthropology\", \"Sociology \", \"Literature\"]"
   ]
  },
  {
   "cell_type": "markdown",
   "id": "005d3d70",
   "metadata": {},
   "source": [
    "g.1.Add tree additional courses in 3 different ways( one for each way):\n",
    "   - Sum (+) a list that contains an additional course. \n",
    "   - Use append. \n",
    "   - Use extend. "
   ]
  },
  {
   "cell_type": "code",
   "execution_count": 275,
   "id": "d4b443a3",
   "metadata": {},
   "outputs": [],
   "source": [
    "courses = courses + [\"Journalism\"]  #We use + to add Journalism"
   ]
  },
  {
   "cell_type": "code",
   "execution_count": 276,
   "id": "43dc72f5",
   "metadata": {},
   "outputs": [
    {
     "data": {
      "text/plain": [
       "['History',\n",
       " 'Economy',\n",
       " 'Anthropology',\n",
       " 'Sociology ',\n",
       " 'Literature',\n",
       " 'Journalism']"
      ]
     },
     "execution_count": 276,
     "metadata": {},
     "output_type": "execute_result"
    }
   ],
   "source": [
    "courses"
   ]
  },
  {
   "cell_type": "code",
   "execution_count": 277,
   "id": "5894706f",
   "metadata": {},
   "outputs": [],
   "source": [
    "courses.append (\"Arts\") # We use append to add the second course"
   ]
  },
  {
   "cell_type": "code",
   "execution_count": 278,
   "id": "d1b84baa",
   "metadata": {},
   "outputs": [
    {
     "data": {
      "text/plain": [
       "['History',\n",
       " 'Economy',\n",
       " 'Anthropology',\n",
       " 'Sociology ',\n",
       " 'Literature',\n",
       " 'Journalism',\n",
       " 'Arts']"
      ]
     },
     "execution_count": 278,
     "metadata": {},
     "output_type": "execute_result"
    }
   ],
   "source": [
    "courses"
   ]
  },
  {
   "cell_type": "code",
   "execution_count": 214,
   "id": "5f433da7",
   "metadata": {},
   "outputs": [],
   "source": [
    "courses.extend ([\"Public Politics\"]) # We use extend to add the third course"
   ]
  },
  {
   "cell_type": "code",
   "execution_count": 279,
   "id": "8fd6be97",
   "metadata": {},
   "outputs": [
    {
     "data": {
      "text/plain": [
       "['History',\n",
       " 'Economy',\n",
       " 'Anthropology',\n",
       " 'Sociology ',\n",
       " 'Literature',\n",
       " 'Journalism',\n",
       " 'Arts']"
      ]
     },
     "execution_count": 279,
     "metadata": {},
     "output_type": "execute_result"
    }
   ],
   "source": [
    "courses"
   ]
  },
  {
   "cell_type": "markdown",
   "id": "6cf07d6a",
   "metadata": {},
   "source": [
    "g.2.Use the indexation to stress _Sociology_."
   ]
  },
  {
   "cell_type": "code",
   "execution_count": 280,
   "id": "0a03e468",
   "metadata": {},
   "outputs": [],
   "source": [
    "courses [3] = \"__Sociology__\" #We use \"_\" to highlight this course"
   ]
  },
  {
   "cell_type": "code",
   "execution_count": 281,
   "id": "f005bc42",
   "metadata": {},
   "outputs": [
    {
     "data": {
      "text/plain": [
       "['History',\n",
       " 'Economy',\n",
       " 'Anthropology',\n",
       " '__Sociology__',\n",
       " 'Literature',\n",
       " 'Journalism',\n",
       " 'Arts']"
      ]
     },
     "execution_count": 281,
     "metadata": {},
     "output_type": "execute_result"
    }
   ],
   "source": [
    "courses"
   ]
  },
  {
   "cell_type": "markdown",
   "id": "bfb7ace5",
   "metadata": {},
   "source": [
    "g.3 Remove your least favourite course"
   ]
  },
  {
   "cell_type": "code",
   "execution_count": 282,
   "id": "e5b08db6",
   "metadata": {},
   "outputs": [],
   "source": [
    "courses.remove (\"Economy\") # We use remove() to eliminate Economy from the list, following Chat GPT advice"
   ]
  },
  {
   "cell_type": "code",
   "execution_count": 283,
   "id": "4b2aa9ab",
   "metadata": {},
   "outputs": [
    {
     "data": {
      "text/plain": [
       "['History',\n",
       " 'Anthropology',\n",
       " '__Sociology__',\n",
       " 'Literature',\n",
       " 'Journalism',\n",
       " 'Arts']"
      ]
     },
     "execution_count": 283,
     "metadata": {},
     "output_type": "execute_result"
    }
   ],
   "source": [
    "courses"
   ]
  },
  {
   "cell_type": "markdown",
   "id": "d07e8d7c",
   "metadata": {},
   "source": [
    "g.4. Invert the list"
   ]
  },
  {
   "cell_type": "code",
   "execution_count": 284,
   "id": "c32c86be",
   "metadata": {},
   "outputs": [],
   "source": [
    "courses.reverse() # The reverse() method modifies the list, so we use it, following ChatGPT advice"
   ]
  },
  {
   "cell_type": "code",
   "execution_count": 285,
   "id": "27c1f475",
   "metadata": {},
   "outputs": [
    {
     "data": {
      "text/plain": [
       "['Arts',\n",
       " 'Journalism',\n",
       " 'Literature',\n",
       " '__Sociology__',\n",
       " 'Anthropology',\n",
       " 'History']"
      ]
     },
     "execution_count": 285,
     "metadata": {},
     "output_type": "execute_result"
    }
   ],
   "source": [
    "courses"
   ]
  },
  {
   "cell_type": "markdown",
   "id": "17a5576a",
   "metadata": {},
   "source": [
    "h.Create a dictionary that representst a fruits inventory:\n",
    " - Add at least 5 fruits to the inventory\n",
    "- Print the amount of apples in stock \n",
    "- Modify the amount of grapes\n"
   ]
  },
  {
   "cell_type": "code",
   "execution_count": 286,
   "id": "a7ec16e9",
   "metadata": {},
   "outputs": [],
   "source": [
    "h = { \"apples\" : 5 , \"grapes\" : 9, \"oranges\" : 3, \"lemons\" : 2, \"bananas\" : 7 } # We create a dictionary with some fruits that we love during summer time"
   ]
  },
  {
   "cell_type": "code",
   "execution_count": 287,
   "id": "60596481",
   "metadata": {},
   "outputs": [
    {
     "data": {
      "text/plain": [
       "5"
      ]
     },
     "execution_count": 287,
     "metadata": {},
     "output_type": "execute_result"
    }
   ],
   "source": [
    "h[\"apples\"] #We print the amount of apples"
   ]
  },
  {
   "cell_type": "code",
   "execution_count": 288,
   "id": "38d76805",
   "metadata": {},
   "outputs": [],
   "source": [
    "h[\"grapes\"] = 10 #We modify the dictionary to add one more grapes"
   ]
  },
  {
   "cell_type": "code",
   "execution_count": 289,
   "id": "7f735005",
   "metadata": {},
   "outputs": [
    {
     "data": {
      "text/plain": [
       "{'apples': 5, 'grapes': 10, 'oranges': 3, 'lemons': 2, 'bananas': 7}"
      ]
     },
     "execution_count": 289,
     "metadata": {},
     "output_type": "execute_result"
    }
   ],
   "source": [
    "h "
   ]
  },
  {
   "cell_type": "markdown",
   "id": "0c74c187",
   "metadata": {},
   "source": [
    "i.  Write a dictionary with the local GMT of the nexts cities:\n",
    "- Antananarivo, Madagascar, \n",
    "- Beirut, Lebanon, \n",
    "- Jakarta, Indonesia, \n",
    "- Teherán, Iran, \n",
    "- Vientiane, Laos, \n",
    "\n",
    "\n",
    "\n",
    "Hint: Lima would be: `\"Lima\": -5`"
   ]
  },
  {
   "cell_type": "code",
   "execution_count": 290,
   "id": "95e4b82d",
   "metadata": {},
   "outputs": [],
   "source": [
    "i = { \"Antananarivo, Madagascar\": +3, \"Beirut, Lebanon\": +2, \"Jakarta, Indonesia\": +7, \"Tehran, Iran\": +3, \"Vientiane, Laos\": +7 }  #We search about each city and country and add the GMT"
   ]
  },
  {
   "cell_type": "code",
   "execution_count": 291,
   "id": "459e9024",
   "metadata": {},
   "outputs": [
    {
     "data": {
      "text/plain": [
       "{'Antananarivo, Madagascar': 3,\n",
       " 'Beirut, Lebanon': 2,\n",
       " 'Jakarta, Indonesia': 7,\n",
       " 'Tehran, Iran': 3,\n",
       " 'Vientiane, Laos': 7}"
      ]
     },
     "execution_count": 291,
     "metadata": {},
     "output_type": "execute_result"
    }
   ],
   "source": [
    "i"
   ]
  },
  {
   "cell_type": "markdown",
   "id": "e0f93671",
   "metadata": {},
   "source": [
    " j.Add the nexts cities to the dictionary:\n",
    "- Astana, Kazakhstan,\n",
    "- Uagadugú, Burkina Faso,\n",
    "- Balmopan, Belize"
   ]
  },
  {
   "cell_type": "code",
   "execution_count": 292,
   "id": "d16a90df",
   "metadata": {},
   "outputs": [],
   "source": [
    "i[\"Astana, Kazakhstan\"] = +5 \n",
    "i[\"Ouagadougou, Burkina Faso\"] = 0 \n",
    "i[\"Belmopan, Belize\"] = -6 #We search each country GMT"
   ]
  },
  {
   "cell_type": "code",
   "execution_count": 293,
   "id": "c344d295",
   "metadata": {},
   "outputs": [
    {
     "data": {
      "text/plain": [
       "{'Antananarivo, Madagascar': 3,\n",
       " 'Beirut, Lebanon': 2,\n",
       " 'Jakarta, Indonesia': 7,\n",
       " 'Tehran, Iran': 3,\n",
       " 'Vientiane, Laos': 7,\n",
       " 'Astana, Kazakhstan': 5,\n",
       " 'Ouagadougou, Burkina Faso': 0,\n",
       " 'Belmopan, Belize': -6}"
      ]
     },
     "execution_count": 293,
     "metadata": {},
     "output_type": "execute_result"
    }
   ],
   "source": [
    "i"
   ]
  },
  {
   "cell_type": "markdown",
   "id": "c6c4f120",
   "metadata": {},
   "source": [
    "# Part 3. Numpy\n"
   ]
  },
  {
   "cell_type": "markdown",
   "id": "ef5f5f96",
   "metadata": {},
   "source": [
    "k.Create an array with 10 aleatory values that go from 0 to 9"
   ]
  },
  {
   "cell_type": "code",
   "execution_count": 294,
   "id": "d304f3c8",
   "metadata": {},
   "outputs": [],
   "source": [
    "import numpy as np"
   ]
  },
  {
   "cell_type": "code",
   "execution_count": 295,
   "id": "2ee42bbc",
   "metadata": {},
   "outputs": [],
   "source": [
    "k = np.array ([0,1,3,5,7,9,6,8,2,5])  #We create an array manually with aleatory numbers"
   ]
  },
  {
   "cell_type": "code",
   "execution_count": 296,
   "id": "7d8687dd",
   "metadata": {},
   "outputs": [
    {
     "data": {
      "text/plain": [
       "array([0, 1, 3, 5, 7, 9, 6, 8, 2, 5])"
      ]
     },
     "execution_count": 296,
     "metadata": {},
     "output_type": "execute_result"
    }
   ],
   "source": [
    "k"
   ]
  },
  {
   "cell_type": "code",
   "execution_count": 297,
   "id": "799f7df2",
   "metadata": {},
   "outputs": [],
   "source": [
    "k_1= np.random.randint(0, 10, 10) #We create an array using random method with the help of Chat GPP"
   ]
  },
  {
   "cell_type": "code",
   "execution_count": 298,
   "id": "e103355e",
   "metadata": {},
   "outputs": [
    {
     "data": {
      "text/plain": [
       "array([5, 4, 5, 1, 6, 1, 8, 6, 4, 8])"
      ]
     },
     "execution_count": 298,
     "metadata": {},
     "output_type": "execute_result"
    }
   ],
   "source": [
    "k_1"
   ]
  },
  {
   "cell_type": "markdown",
   "id": "914e1007",
   "metadata": {},
   "source": []
  },
  {
   "cell_type": "markdown",
   "id": "f653f08e",
   "metadata": {},
   "source": [
    "l.Create a matrix 3x2 fill with zeros"
   ]
  },
  {
   "cell_type": "code",
   "execution_count": 299,
   "id": "6aea98a5",
   "metadata": {},
   "outputs": [],
   "source": [
    "l = np.zeros ((3,2)) #We create a matrix using np.zeros and following instructions 3x2"
   ]
  },
  {
   "cell_type": "code",
   "execution_count": 300,
   "id": "a857221a",
   "metadata": {},
   "outputs": [
    {
     "data": {
      "text/plain": [
       "array([[0., 0.],\n",
       "       [0., 0.],\n",
       "       [0., 0.]])"
      ]
     },
     "execution_count": 300,
     "metadata": {},
     "output_type": "execute_result"
    }
   ],
   "source": [
    "l "
   ]
  },
  {
   "cell_type": "markdown",
   "id": "b0cca53d",
   "metadata": {},
   "source": [
    "m.Sum two arrays and then multiply the output by an scalar"
   ]
  },
  {
   "cell_type": "code",
   "execution_count": 301,
   "id": "83915960",
   "metadata": {},
   "outputs": [],
   "source": [
    "m_1 = np.random.randint(0, 3, 8)\n",
    "m_2 = np.random.randint(0, 3, 8) #We create two random arrays with 8 values from 0 to 4"
   ]
  },
  {
   "cell_type": "code",
   "execution_count": 302,
   "id": "fdb763ce",
   "metadata": {},
   "outputs": [
    {
     "data": {
      "text/plain": [
       "array([2, 0, 1, 1, 1, 0, 0, 0])"
      ]
     },
     "execution_count": 302,
     "metadata": {},
     "output_type": "execute_result"
    }
   ],
   "source": [
    "m_1"
   ]
  },
  {
   "cell_type": "code",
   "execution_count": 303,
   "id": "a80d0807",
   "metadata": {},
   "outputs": [
    {
     "data": {
      "text/plain": [
       "array([2, 2, 0, 1, 0, 2, 2, 2])"
      ]
     },
     "execution_count": 303,
     "metadata": {},
     "output_type": "execute_result"
    }
   ],
   "source": [
    "m_2"
   ]
  },
  {
   "cell_type": "code",
   "execution_count": 304,
   "id": "88141031",
   "metadata": {},
   "outputs": [],
   "source": [
    "#After that we define a scalar \n",
    "m_total = m_1 + m_2 \n",
    "\n",
    "scalar = 3 \n",
    "\n",
    "#With that, we multiply the summed array by the scalar \n",
    "\n",
    "result = m_total* scalar"
   ]
  },
  {
   "cell_type": "code",
   "execution_count": 305,
   "id": "0efbd7c0",
   "metadata": {},
   "outputs": [
    {
     "data": {
      "text/plain": [
       "array([12,  6,  3,  6,  3,  6,  6,  6])"
      ]
     },
     "execution_count": 305,
     "metadata": {},
     "output_type": "execute_result"
    }
   ],
   "source": [
    "result"
   ]
  },
  {
   "cell_type": "markdown",
   "id": "9d7b9466",
   "metadata": {},
   "source": []
  },
  {
   "cell_type": "markdown",
   "id": "a9e3e08f",
   "metadata": {},
   "source": [
    "n.Create 2 arrays with the values that you wish :\n",
    "- Concatenate vertically \n",
    "- Concatenate horizontally "
   ]
  },
  {
   "cell_type": "code",
   "execution_count": 306,
   "id": "8f178d71",
   "metadata": {},
   "outputs": [],
   "source": [
    "import numpy as np"
   ]
  },
  {
   "cell_type": "code",
   "execution_count": 307,
   "id": "6469da02",
   "metadata": {},
   "outputs": [],
   "source": [
    "n_1 = np.array ([0,3,5,7,8,2]) \n",
    "n_2 = np.array ([0,7,4,5,9,1]) #We use n.hstack to concatenate horizontally"
   ]
  },
  {
   "cell_type": "code",
   "execution_count": 308,
   "id": "10a3e7f1",
   "metadata": {},
   "outputs": [
    {
     "data": {
      "text/plain": [
       "array([0, 3, 5, 7, 8, 2])"
      ]
     },
     "execution_count": 308,
     "metadata": {},
     "output_type": "execute_result"
    }
   ],
   "source": [
    "n_1"
   ]
  },
  {
   "cell_type": "code",
   "execution_count": 309,
   "id": "abf08fa5",
   "metadata": {},
   "outputs": [
    {
     "data": {
      "text/plain": [
       "array([0, 7, 4, 5, 9, 1])"
      ]
     },
     "execution_count": 309,
     "metadata": {},
     "output_type": "execute_result"
    }
   ],
   "source": [
    "n_2"
   ]
  },
  {
   "cell_type": "code",
   "execution_count": 310,
   "id": "02bf93c4",
   "metadata": {},
   "outputs": [],
   "source": [
    "n_h = np.hstack((n_1, n_2)) # We use np.hstack to concatenate horizontally"
   ]
  },
  {
   "cell_type": "code",
   "execution_count": 311,
   "id": "d3baa6cd",
   "metadata": {},
   "outputs": [
    {
     "data": {
      "text/plain": [
       "array([0, 3, 5, 7, 8, 2, 0, 7, 4, 5, 9, 1])"
      ]
     },
     "execution_count": 311,
     "metadata": {},
     "output_type": "execute_result"
    }
   ],
   "source": [
    "n_h"
   ]
  },
  {
   "cell_type": "code",
   "execution_count": 312,
   "id": "1317ba91",
   "metadata": {},
   "outputs": [],
   "source": [
    "n_v = np.vstack((n_1, n_2)) # We use np.vstack to concatenate vertically"
   ]
  },
  {
   "cell_type": "code",
   "execution_count": 313,
   "id": "0da82e46",
   "metadata": {},
   "outputs": [
    {
     "data": {
      "text/plain": [
       "array([[0, 3, 5, 7, 8, 2],\n",
       "       [0, 7, 4, 5, 9, 1]])"
      ]
     },
     "execution_count": 313,
     "metadata": {},
     "output_type": "execute_result"
    }
   ],
   "source": [
    "n_v"
   ]
  },
  {
   "cell_type": "markdown",
   "id": "c2a634a1",
   "metadata": {},
   "source": []
  }
 ],
 "metadata": {
  "kernelspec": {
   "display_name": "Python 3 (ipykernel)",
   "language": "python",
   "name": "python3"
  },
  "language_info": {
   "codemirror_mode": {
    "name": "ipython",
    "version": 3
   },
   "file_extension": ".py",
   "mimetype": "text/x-python",
   "name": "python",
   "nbconvert_exporter": "python",
   "pygments_lexer": "ipython3",
   "version": "3.11.5"
  }
 },
 "nbformat": 4,
 "nbformat_minor": 5
}
