{
  "nbformat": 4,
  "nbformat_minor": 0,
  "metadata": {
    "colab": {
      "provenance": []
    },
    "kernelspec": {
      "name": "python3",
      "display_name": "Python 3"
    },
    "language_info": {
      "name": "python"
    }
  },
  "cells": [
    {
      "cell_type": "markdown",
      "source": [
        "## Part 1.Data types\n",
        "a. Declare one variable for each one these types: : int , float , string , boolean.\n",
        "\n",
        "Print the varible's type using type () function"
      ],
      "metadata": {
        "id": "mPsJWrZ6VK4f"
      }
    },
    {
      "cell_type": "code",
      "source": [
        "my_int = 15          # Integer\n",
        "print(type(my_int))\n",
        "\n",
        "my_float = 11.5      # Float\n",
        "print(type(my_float))\n",
        "\n",
        "my_string = \"Yer\"  # String\n",
        "print(type(my_string))\n",
        "\n",
        "my_bool = True       # Boolean\n",
        "print(type(my_bool))"
      ],
      "metadata": {
        "id": "VACBLM8HY3Wo",
        "colab": {
          "base_uri": "https://localhost:8080/"
        },
        "outputId": "312c6368-7ae7-4243-b9c6-524e37d4dc3d"
      },
      "execution_count": null,
      "outputs": [
        {
          "output_type": "stream",
          "name": "stdout",
          "text": [
            "<class 'int'>\n",
            "<class 'float'>\n",
            "<class 'str'>\n",
            "<class 'bool'>\n"
          ]
        }
      ]
    },
    {
      "cell_type": "markdown",
      "source": [
        "b. Using only the following inputs: 5 and 2 , work the operators to get the output : 50"
      ],
      "metadata": {
        "id": "qPSzDsaAVPc-"
      }
    },
    {
      "cell_type": "code",
      "source": [
        "result = 5 * (2 * 5)\n",
        "result"
      ],
      "metadata": {
        "id": "cDLSoqqwYuNa",
        "colab": {
          "base_uri": "https://localhost:8080/"
        },
        "outputId": "e4592262-9ff7-4228-8d1f-4d1aa06926b0"
      },
      "execution_count": null,
      "outputs": [
        {
          "output_type": "execute_result",
          "data": {
            "text/plain": [
              "50"
            ]
          },
          "metadata": {},
          "execution_count": 15
        }
      ]
    },
    {
      "cell_type": "markdown",
      "source": [
        "c. Evaluate if the output of the previous excercise is over 100. Create a variable that makes this evaluation. (Hint: It would be a boolean)."
      ],
      "metadata": {
        "id": "9-CAV4CrVW5T"
      }
    },
    {
      "cell_type": "code",
      "source": [
        "result = 50\n",
        "is_over_100 = result > 100\n",
        "print(is_over_100)"
      ],
      "metadata": {
        "id": "Dq5v3XzPVXkp",
        "colab": {
          "base_uri": "https://localhost:8080/"
        },
        "outputId": "bbc23b68-3d34-4bdb-87f8-7ae4765792c9"
      },
      "execution_count": 20,
      "outputs": [
        {
          "output_type": "stream",
          "name": "stdout",
          "text": [
            "False\n"
          ]
        }
      ]
    },
    {
      "cell_type": "markdown",
      "source": [
        "d. Create a variable equal to a list that contains:\n",
        "\n",
        "*   a string,\n",
        "*   a boolean,\n",
        "*   two numeric values (of any kind) and\n",
        "*   a list of two strings with the names of your favourite musical artists."
      ],
      "metadata": {
        "id": "5h9Eq-JPVaTS"
      }
    },
    {
      "cell_type": "code",
      "source": [
        "my_list = [\n",
        "    \"Hey, dude!\",       # A string\n",
        "    True,                  # A boolean\n",
        "    46,                    # A numeric value (integer)\n",
        "    2.18,                  # Another numeric value (float)\n",
        "    [\"Lady gaga\", \"Queen\"]  # A list of two strings\n",
        "    ]\n",
        "print(my_list)"
      ],
      "metadata": {
        "id": "SfYZIrmPVbTX",
        "colab": {
          "base_uri": "https://localhost:8080/"
        },
        "outputId": "5814c98c-0aac-4838-b7cd-9f0007af34b0"
      },
      "execution_count": 21,
      "outputs": [
        {
          "output_type": "stream",
          "name": "stdout",
          "text": [
            "['Hey, dude!', True, 46, 2.18, ['Lady gaga', 'Queen']]\n"
          ]
        }
      ]
    },
    {
      "cell_type": "markdown",
      "source": [
        "## Part 2. Containers\n",
        "e. Create a tuple with 3 elements. Explain why you can't modify it."
      ],
      "metadata": {
        "id": "QAEgIieyVw9J"
      }
    },
    {
      "cell_type": "code",
      "source": [
        "superheros = (\"Iron Man\", \"Batman\", \"Spiderman\")\n",
        "superheros\n",
        "\n",
        "# A tuple can't be modified because it's an immutable element. It's desinged to ensure data security and consistence."
      ],
      "metadata": {
        "colab": {
          "base_uri": "https://localhost:8080/"
        },
        "id": "BTdXvjlEV0CN",
        "outputId": "fd218d51-295c-4683-8579-69058c9c4503"
      },
      "execution_count": null,
      "outputs": [
        {
          "output_type": "execute_result",
          "data": {
            "text/plain": [
              "('Iron Man', 'Batman', 'Spiderman')"
            ]
          },
          "metadata": {},
          "execution_count": 1
        }
      ]
    },
    {
      "cell_type": "markdown",
      "source": [
        "f. Create a dictionary with at least 3 different keys and values."
      ],
      "metadata": {
        "id": "jmwUfGddV3kg"
      }
    },
    {
      "cell_type": "code",
      "source": [
        "music = {\"singer\" : \"Sam Smith\", \"song\" : \"Fire on Fire\", \"first album\" : \"In the lonely hour\"}\n",
        "music"
      ],
      "metadata": {
        "colab": {
          "base_uri": "https://localhost:8080/"
        },
        "id": "psWMuwx3V4bm",
        "outputId": "a7cb3d2e-e2a0-4cbe-8aca-ed8c26b77c66"
      },
      "execution_count": null,
      "outputs": [
        {
          "output_type": "execute_result",
          "data": {
            "text/plain": [
              "{'singer': 'Sam Smith',\n",
              " 'song': 'Fire on Fire',\n",
              " 'first album': 'In the lonely hour'}"
            ]
          },
          "metadata": {},
          "execution_count": 2
        }
      ]
    },
    {
      "cell_type": "markdown",
      "source": [
        "g. We got the next courses list:"
      ],
      "metadata": {
        "id": "zEpJT_X5V7Rj"
      }
    },
    {
      "cell_type": "code",
      "source": [
        "courses = [\"History\", \"Economy\", \"Antropology\", \"Sociology\", \"Literature\"]"
      ],
      "metadata": {
        "id": "I4PqzJEPV-LJ"
      },
      "execution_count": null,
      "outputs": []
    },
    {
      "cell_type": "markdown",
      "source": [
        "g.1. Add tree aditional courses in 3 different ways (one for each way).\n",
        "\n",
        "*  Sum (+) a list that contains an additional course.\n",
        "*  Use append.\n",
        "*  Use extend."
      ],
      "metadata": {
        "id": "xwggN8xqWEbi"
      }
    },
    {
      "cell_type": "code",
      "source": [
        "# Add an aditional course using sum (+)\n",
        "new_course = [\"Science\"]\n",
        "\n",
        "courses = courses + new_course\n",
        "courses"
      ],
      "metadata": {
        "colab": {
          "base_uri": "https://localhost:8080/"
        },
        "id": "cb03m2tUWJqM",
        "outputId": "438364d3-7cce-44ea-87f9-43130275ff5c"
      },
      "execution_count": null,
      "outputs": [
        {
          "output_type": "execute_result",
          "data": {
            "text/plain": [
              "['History', 'Economy', 'Antropology', 'Sociology', 'Literature', 'Science']"
            ]
          },
          "metadata": {},
          "execution_count": 5
        }
      ]
    },
    {
      "cell_type": "code",
      "source": [
        "# Add an aditional course using append\n",
        "courses.append(\"Ethics\")\n",
        "courses"
      ],
      "metadata": {
        "colab": {
          "base_uri": "https://localhost:8080/"
        },
        "id": "0xBVGjU2WT5I",
        "outputId": "17980047-42b4-46ee-82b8-28185597e16b"
      },
      "execution_count": null,
      "outputs": [
        {
          "output_type": "execute_result",
          "data": {
            "text/plain": [
              "['History',\n",
              " 'Economy',\n",
              " 'Antropology',\n",
              " 'Sociology',\n",
              " 'Literature',\n",
              " 'Science',\n",
              " 'Ethics']"
            ]
          },
          "metadata": {},
          "execution_count": 6
        }
      ]
    },
    {
      "cell_type": "code",
      "source": [
        "# Add an aditional course using extend\n",
        "courses.extend([\"Geography\"])\n",
        "courses"
      ],
      "metadata": {
        "colab": {
          "base_uri": "https://localhost:8080/"
        },
        "id": "wV8HFJyAWWk7",
        "outputId": "ab4f1f5f-74ca-4f2b-f149-b1a46da63d32"
      },
      "execution_count": null,
      "outputs": [
        {
          "output_type": "execute_result",
          "data": {
            "text/plain": [
              "['History',\n",
              " 'Economy',\n",
              " 'Antropology',\n",
              " 'Sociology',\n",
              " 'Literature',\n",
              " 'Science',\n",
              " 'Ethics',\n",
              " 'Geography']"
            ]
          },
          "metadata": {},
          "execution_count": 7
        }
      ]
    },
    {
      "cell_type": "markdown",
      "source": [
        "g.2. Use the indexation to stress Sociology."
      ],
      "metadata": {
        "id": "DuoWsHJTWZZw"
      }
    },
    {
      "cell_type": "code",
      "source": [
        "courses[3]"
      ],
      "metadata": {
        "colab": {
          "base_uri": "https://localhost:8080/",
          "height": 36
        },
        "id": "5LITFd--WaJC",
        "outputId": "23ed0490-0abc-4d3f-b757-482fa14861de"
      },
      "execution_count": null,
      "outputs": [
        {
          "output_type": "execute_result",
          "data": {
            "text/plain": [
              "'Sociology'"
            ],
            "application/vnd.google.colaboratory.intrinsic+json": {
              "type": "string"
            }
          },
          "metadata": {},
          "execution_count": 8
        }
      ]
    },
    {
      "cell_type": "markdown",
      "source": [
        "g.3. Remove your least favourite course."
      ],
      "metadata": {
        "id": "2mcH3EQ7WdXU"
      }
    },
    {
      "cell_type": "code",
      "source": [
        "courses.remove(\"Economy\")\n",
        "courses"
      ],
      "metadata": {
        "colab": {
          "base_uri": "https://localhost:8080/"
        },
        "id": "UOiZVd2fWeEs",
        "outputId": "bdb601aa-c2b4-4247-b5b4-ff2443c16dc8"
      },
      "execution_count": null,
      "outputs": [
        {
          "output_type": "execute_result",
          "data": {
            "text/plain": [
              "['History',\n",
              " 'Antropology',\n",
              " 'Sociology',\n",
              " 'Literature',\n",
              " 'Science',\n",
              " 'Ethics',\n",
              " 'Geography']"
            ]
          },
          "metadata": {},
          "execution_count": 9
        }
      ]
    },
    {
      "cell_type": "markdown",
      "source": [
        "g.4. Invert the list."
      ],
      "metadata": {
        "id": "7okw46TTWh6k"
      }
    },
    {
      "cell_type": "code",
      "source": [
        "courses = [\"History\", \"Antropology\", \"Sociology\", \"Literature\", \"Science\", \"Ethics\", \"Geography\"]\n",
        "\n",
        "courses.reverse()\n",
        "courses"
      ],
      "metadata": {
        "colab": {
          "base_uri": "https://localhost:8080/"
        },
        "id": "Y1oEePVAWij-",
        "outputId": "f3c6a271-ae6c-498c-8089-bc3033c71ce2"
      },
      "execution_count": null,
      "outputs": [
        {
          "output_type": "execute_result",
          "data": {
            "text/plain": [
              "['Geography',\n",
              " 'Ethics',\n",
              " 'Science',\n",
              " 'Literature',\n",
              " 'Sociology',\n",
              " 'Antropology',\n",
              " 'History']"
            ]
          },
          "metadata": {},
          "execution_count": 10
        }
      ]
    },
    {
      "cell_type": "markdown",
      "source": [
        "h. Create a dictionary that represents a fruits inventory.\n",
        "\n",
        "*   Add at least 5 fruits to the inventory\n",
        "*   Print the amount of apples in stock\n",
        "*   Modify the amount of grapes"
      ],
      "metadata": {
        "id": "DCvsU1gSWmqv"
      }
    },
    {
      "cell_type": "code",
      "source": [
        "fruits = {\"apples\" : 4, \"grapes\" : 2, \"watermelons\" : 5, \"cherries\" : 4, \"peaches\" : 3}\n",
        "\n",
        "# Printing the amount of apples in stock\n",
        "fruits[\"apples\"]"
      ],
      "metadata": {
        "colab": {
          "base_uri": "https://localhost:8080/"
        },
        "id": "tGEXoLhDWozk",
        "outputId": "a4fbecb9-e98c-482a-c319-55c390e32f57"
      },
      "execution_count": null,
      "outputs": [
        {
          "output_type": "execute_result",
          "data": {
            "text/plain": [
              "4"
            ]
          },
          "metadata": {},
          "execution_count": 11
        }
      ]
    },
    {
      "cell_type": "code",
      "source": [
        "# Modifying the amount of grapes\n",
        "fruits[\"grapes\"] = 4\n",
        "fruits"
      ],
      "metadata": {
        "colab": {
          "base_uri": "https://localhost:8080/"
        },
        "id": "zXGnafo3Wse_",
        "outputId": "45d41abc-fe0d-4798-aaa1-634f8c78e6b3"
      },
      "execution_count": null,
      "outputs": [
        {
          "output_type": "execute_result",
          "data": {
            "text/plain": [
              "{'apples': 4, 'grapes': 4, 'watermelons': 5, 'cherries': 4, 'peaches': 3}"
            ]
          },
          "metadata": {},
          "execution_count": 12
        }
      ]
    },
    {
      "cell_type": "markdown",
      "source": [
        "i. Write a dictionary with the local GMT of the next cities:\n",
        "\n",
        "*   Antananarivo, Madagascar\n",
        "*   Beirut, Lebanon,\n",
        "*   Jakarta, Indonesia,\n",
        "*   Teherán, Iran,\n",
        "*   Vientiane, Laos"
      ],
      "metadata": {
        "id": "0iXDkr2WWvh6"
      }
    },
    {
      "cell_type": "code",
      "source": [
        "GMT = {\"Antananarivo\" : \"+3:00\", \"Beirut\" : \"+2:00\", \"Jakarta\" : \"+7:00\", \"Teherán\" : \"+3:30\", \"Vientianes\" : \"+7:00\"}\n",
        "GMT"
      ],
      "metadata": {
        "colab": {
          "base_uri": "https://localhost:8080/"
        },
        "id": "e74qhw78Ww4V",
        "outputId": "49a76fe0-b58e-499a-d818-05f0741b95c4"
      },
      "execution_count": null,
      "outputs": [
        {
          "output_type": "execute_result",
          "data": {
            "text/plain": [
              "{'Antananarivo': '+3:00',\n",
              " 'Beirut': '+2:00',\n",
              " 'Jakarta': '+7:00',\n",
              " 'Teherán': '+3:30',\n",
              " 'Vientianes': '+7:00'}"
            ]
          },
          "metadata": {},
          "execution_count": 13
        }
      ]
    },
    {
      "cell_type": "markdown",
      "source": [
        "j. Add the next cities to the dictionary:\n",
        "\n",
        "*   Astana, Kazakhstan,\n",
        "*   Uagadugú, Burkina Faso,\n",
        "*   Balmopan, Belize"
      ],
      "metadata": {
        "id": "_tNdgrhOW10q"
      }
    },
    {
      "cell_type": "code",
      "source": [
        "GMT[\"Astana\"] = \"+6:00\"\n",
        "GMT[\"Uagadugú\"] = \"+0:00\"\n",
        "GMT[\"Balmopan\"] = \"-6:00\"\n",
        "GMT"
      ],
      "metadata": {
        "colab": {
          "base_uri": "https://localhost:8080/"
        },
        "id": "tDXcU7_fW2oe",
        "outputId": "39e4d337-4969-4657-8f50-064839a6b466"
      },
      "execution_count": null,
      "outputs": [
        {
          "output_type": "execute_result",
          "data": {
            "text/plain": [
              "{'Antananarivo': '+3:00',\n",
              " 'Beirut': '+2:00',\n",
              " 'Jakarta': '+7:00',\n",
              " 'Teherán': '+3:30',\n",
              " 'Vientianes': '+7:00',\n",
              " 'Astana': '+6:00',\n",
              " 'Uagadugú': '+0:00',\n",
              " 'Balmopan': '-6:00'}"
            ]
          },
          "metadata": {},
          "execution_count": 14
        }
      ]
    },
    {
      "cell_type": "markdown",
      "source": [
        "## Part 3. Numpy\n",
        "k. Create an array with 10 aleatory values that go from 0 to 9"
      ],
      "metadata": {
        "id": "XbkP4WBSdbuz"
      }
    },
    {
      "cell_type": "code",
      "source": [
        "import numpy as np\n",
        "k = np.random.randint(0, 9, 10) #An array was created using random method\n",
        "k"
      ],
      "metadata": {
        "colab": {
          "base_uri": "https://localhost:8080/"
        },
        "id": "ObSgmjdNdiRg",
        "outputId": "de18955d-0214-4b81-f319-7a61340174d4"
      },
      "execution_count": 23,
      "outputs": [
        {
          "output_type": "execute_result",
          "data": {
            "text/plain": [
              "array([0, 1, 2, 4, 2, 4, 1, 1, 6, 6])"
            ]
          },
          "metadata": {},
          "execution_count": 23
        }
      ]
    },
    {
      "cell_type": "markdown",
      "source": [
        "l. Create a matrix 3x2 fill with zeros"
      ],
      "metadata": {
        "id": "P92iENZudpc5"
      }
    },
    {
      "cell_type": "code",
      "source": [
        "l = np.zeros ((3,2)) #A matrix was created using np.zeros and following instructions\n",
        "l"
      ],
      "metadata": {
        "colab": {
          "base_uri": "https://localhost:8080/"
        },
        "id": "1z89KE1xdubp",
        "outputId": "d58092ea-be59-4e1f-d498-08cf9de922cf"
      },
      "execution_count": 24,
      "outputs": [
        {
          "output_type": "execute_result",
          "data": {
            "text/plain": [
              "array([[0., 0.],\n",
              "       [0., 0.],\n",
              "       [0., 0.]])"
            ]
          },
          "metadata": {},
          "execution_count": 24
        }
      ]
    },
    {
      "cell_type": "markdown",
      "source": [
        "m. Sum two arrays and then multiply the output by an scalar"
      ],
      "metadata": {
        "id": "9dKAMDQFdyrQ"
      }
    },
    {
      "cell_type": "code",
      "source": [
        "m_1 = np.random.randint(0,3,3)\n",
        "m_2 = np.random.randint(0,3,3) #two random arrays was created with 3 values from 0 to 3\n",
        "m_plus = m_1+m_2\n",
        "m_scalar = 3 #After that define a scalar\n",
        "m_result = m_plus*m_scalar\n",
        "m_result"
      ],
      "metadata": {
        "colab": {
          "base_uri": "https://localhost:8080/"
        },
        "id": "NJbLxY8ld1Ym",
        "outputId": "192c795b-b364-4fc4-f442-31b3dd1a9d35"
      },
      "execution_count": 25,
      "outputs": [
        {
          "output_type": "execute_result",
          "data": {
            "text/plain": [
              "array([ 0, 12,  6])"
            ]
          },
          "metadata": {},
          "execution_count": 25
        }
      ]
    },
    {
      "cell_type": "markdown",
      "source": [
        "n. Create 2 arrays with the values that you wish :\n",
        "\n",
        "*   Concatenate vertically\n",
        "*   Concatenate horizontally"
      ],
      "metadata": {
        "id": "_SupC6sVd4lL"
      }
    },
    {
      "cell_type": "code",
      "source": [
        "n_1 = np.array ([1,3,7,5,4,2])\n",
        "n_2 = np.array ([0,7,4,5,9,1]) #\n",
        "n_h = np.hstack((n_1, n_2)) # Using np.hstack to concatenate horizontally\n",
        "n_v = np.vstack((n_1, n_2)) # Using np.vstack to concatenate horizontally\n",
        "n_h"
      ],
      "metadata": {
        "colab": {
          "base_uri": "https://localhost:8080/"
        },
        "id": "hn6ULCt8d9yp",
        "outputId": "0c5c1055-be3e-4ac8-ad18-1d232315c137"
      },
      "execution_count": 29,
      "outputs": [
        {
          "output_type": "execute_result",
          "data": {
            "text/plain": [
              "array([1, 3, 7, 5, 4, 2, 0, 7, 4, 5, 9, 1])"
            ]
          },
          "metadata": {},
          "execution_count": 29
        }
      ]
    },
    {
      "cell_type": "code",
      "source": [
        "n_v"
      ],
      "metadata": {
        "colab": {
          "base_uri": "https://localhost:8080/"
        },
        "id": "pgL9MKrzeMPf",
        "outputId": "4e73da84-ff3e-40f6-949b-123c0342af02"
      },
      "execution_count": 30,
      "outputs": [
        {
          "output_type": "execute_result",
          "data": {
            "text/plain": [
              "array([[1, 3, 7, 5, 4, 2],\n",
              "       [0, 7, 4, 5, 9, 1]])"
            ]
          },
          "metadata": {},
          "execution_count": 30
        }
      ]
    }
  ]
}