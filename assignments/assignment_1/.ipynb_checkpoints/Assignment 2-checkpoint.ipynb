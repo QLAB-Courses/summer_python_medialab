{
 "cells": [
  {
   "cell_type": "markdown",
   "id": "b7fd6b7f",
   "metadata": {},
   "source": [
    "# Assignment_2\n",
    "If you copy codes from previous answers, explain each step. No explanation is `0 points`."
   ]
  },
  {
   "cell_type": "markdown",
   "id": "2f37067c",
   "metadata": {},
   "source": [
    "This assignment would evaluate tree core topics : pandas , loops  and try , continue , catch exceptions"
   ]
  },
  {
   "cell_type": "markdown",
   "id": "c507ddf6",
   "metadata": {},
   "source": [
    "## Part 1. Pandas"
   ]
  },
  {
   "cell_type": "markdown",
   "id": "6baac9e7",
   "metadata": {},
   "source": [
    "Use the next data base `nyc_taxis.csv` , its on the github page of the assignment"
   ]
  },
  {
   "cell_type": "markdown",
   "id": "f2d9f75d",
   "metadata": {},
   "source": [
    "Let's work with a subset of the New York City taxi trip data released by the city. We'll focus on about 90,000 yellow taxi trips to and from various NYC airports between January and June 2016. Here are some selected columns from the dataset:\n",
    "\n",
    "- `pickup_month`: the month of the trip (January is 1, December is 12)\n",
    "- `pickup_day`: the day of the month of the trip\n",
    "- `pickup_location_code`: the airport or borough where the trip started\n",
    "- `dropoff_location_code`: the airport or borough where the trip ended\n",
    "- `trip_distance`: the distance of the trip in miles\n",
    "- `trip_length`: the length of the trip in seconds\n",
    "- `fare_amount`: the base fare of the trip, in dollars\n",
    "- `total_amount`: the total amount charged to the passenger, including all fees, tolls, and tips\n",
    "\n",
    "\n",
    "Review the dictionary data [here](https://s3.amazonaws.com/dq-content/289/nyc_taxi_data_dictionary.md).\n",
    "\n",
    "Our data is stored in a CSV file called `nyc_taxis.csv`"
   ]
  },
  {
   "cell_type": "markdown",
   "id": "606b81e5",
   "metadata": {},
   "source": [
    "Calculate\n",
    "1. The average distance of the trip  (`trip_distance`) for each month (`pickup_month`)\n",
    "2. The total of trips from JFK for each day of the month\n",
    "3. Calculate the average velocity according to `pickup_dayofweek`"
   ]
  },
  {
   "cell_type": "code",
   "execution_count": null,
   "id": "05bc670f",
   "metadata": {},
   "outputs": [],
   "source": []
  },
  {
   "cell_type": "code",
   "execution_count": null,
   "id": "12b4961b",
   "metadata": {},
   "outputs": [],
   "source": []
  },
  {
   "cell_type": "code",
   "execution_count": null,
   "id": "0374f8da",
   "metadata": {},
   "outputs": [],
   "source": []
  },
  {
   "cell_type": "markdown",
   "id": "30aa5c1d",
   "metadata": {},
   "source": [
    "## Part 2 Loops- For loops , while loops"
   ]
  },
  {
   "cell_type": "markdown",
   "id": "70cbc99d",
   "metadata": {},
   "source": [
    "a. Using a  “for loop” and the conditional “if else” for a range bettewn 1 to 100, evaluate \"x\" so that:\n",
    "If x is a multiple of 3 print  “Fizz”\n",
    "If x is a multiple of 5 print  “Buzz”\n",
    "If x is a multiple of 3 and 5 print “FizzBuzz”"
   ]
  },
  {
   "cell_type": "code",
   "execution_count": null,
   "id": "ef2bb71b",
   "metadata": {},
   "outputs": [],
   "source": []
  },
  {
   "cell_type": "markdown",
   "id": "afb65bef",
   "metadata": {},
   "source": [
    "b.You are a data analyst at an online store and you have a file containing information about sales for the last year. \n",
    "\n",
    "Here are the name of the columns\n",
    "\n",
    "- `Date`: Transaction date (format: YYYY-MM-DD)\n",
    "- `Product`: Name of the product sold\n",
    "- `Quantity`: Number of units sold\n",
    "- `Price`: Unit price of the product in dollars\n",
    "- `Category`: Product Category (Electronics, Clothing, Home)\n",
    "- `Sale_ID`: A unique identifier for each transaction"
   ]
  },
  {
   "cell_type": "markdown",
   "id": "65793b53",
   "metadata": {},
   "source": [
    "Read the `sales.csv` file using pandas:\n",
    "\n",
    "- Display the first few rows using `.head()`.\n",
    "\n",
    "Create a new column:\n",
    "- Calculate the total for each transaction (multiply `quantity` by `price`) and store it in a new column called `Total`."
   ]
  },
  {
   "cell_type": "code",
   "execution_count": null,
   "id": "48891912",
   "metadata": {},
   "outputs": [],
   "source": []
  },
  {
   "cell_type": "code",
   "execution_count": null,
   "id": "9c405a09",
   "metadata": {},
   "outputs": [],
   "source": []
  },
  {
   "cell_type": "markdown",
   "id": "9481349b",
   "metadata": {},
   "source": [
    "- Create a new DataFrame called `df_electronic` that contains only sales from the `electronics` category.\n",
    "- Calculate the total income of the `electronics` category.\n",
    "\n",
    "- Group sales by `category` and calculate the total income for each one.\n",
    "\n",
    "- Identify the product with the highest total quantity sold (`quantity`)."
   ]
  },
  {
   "cell_type": "code",
   "execution_count": null,
   "id": "63880c78",
   "metadata": {},
   "outputs": [],
   "source": []
  },
  {
   "cell_type": "code",
   "execution_count": null,
   "id": "94c22398",
   "metadata": {},
   "outputs": [],
   "source": []
  },
  {
   "cell_type": "code",
   "execution_count": null,
   "id": "27a6a3ee",
   "metadata": {},
   "outputs": [],
   "source": []
  },
  {
   "cell_type": "markdown",
   "id": "fa140aec",
   "metadata": {},
   "source": [
    "Using a for loop:\n",
    "- Print the ID of each sale (`sales_ID`) along with the total of that sale."
   ]
  },
  {
   "cell_type": "code",
   "execution_count": null,
   "id": "14385368",
   "metadata": {},
   "outputs": [],
   "source": []
  },
  {
   "cell_type": "markdown",
   "id": "f812a0a1",
   "metadata": {},
   "source": [
    "- Display the details of all sales (ID, Product, Total) whose revenue (`total`) is greater than $500."
   ]
  },
  {
   "cell_type": "code",
   "execution_count": null,
   "id": "fa8bcfcb",
   "metadata": {},
   "outputs": [],
   "source": []
  },
  {
   "cell_type": "markdown",
   "id": "20a0b37f",
   "metadata": {},
   "source": [
    "- Using a dictionary and a `for loop`  count the total amount of products sold for each category"
   ]
  },
  {
   "cell_type": "code",
   "execution_count": null,
   "id": "e35105a0",
   "metadata": {},
   "outputs": [],
   "source": []
  },
  {
   "cell_type": "markdown",
   "id": "4de0def9",
   "metadata": {},
   "source": [
    "Using a while loop:\n",
    "- Accumulate the total income (Total) day by day (adds sales totals by date). Stop the loop when the accumulated revenue exceeds $1000 and print the corresponding day."
   ]
  },
  {
   "cell_type": "code",
   "execution_count": null,
   "id": "69dd795a",
   "metadata": {},
   "outputs": [],
   "source": []
  },
  {
   "cell_type": "code",
   "execution_count": null,
   "id": "e5858072",
   "metadata": {},
   "outputs": [],
   "source": []
  },
  {
   "cell_type": "markdown",
   "id": "aa29ae57",
   "metadata": {},
   "source": [
    "- Accumulate sales totals row by row. Stop the loop when the accumulated revenue exceeds $2000 and print how many sales were necessary."
   ]
  },
  {
   "cell_type": "code",
   "execution_count": null,
   "id": "448cc223",
   "metadata": {},
   "outputs": [],
   "source": []
  },
  {
   "cell_type": "markdown",
   "id": "df07cec7",
   "metadata": {},
   "source": [
    "- Use a combination of `for and while` loops to calculate a rolling cumulative revenue:\n",
    "\n",
    "For each category, use a for loop to iterate over its transactions.\n",
    "Use a while loop to stop accumulating revenue for a category once it exceeds $ 3000.\n",
    "\n",
    "Print the cumulative revenue for each category and the number of transactions it took to exceed $3000."
   ]
  },
  {
   "cell_type": "code",
   "execution_count": null,
   "id": "9aac3914",
   "metadata": {},
   "outputs": [],
   "source": []
  },
  {
   "cell_type": "markdown",
   "id": "a9e33b86",
   "metadata": {},
   "source": [
    "- Use a `nested for` loop to:\n",
    "\n",
    "Group the sales by year and by date.\n",
    "\n",
    "For each year, determine the date with the highest total revenue and the revenue value.\n",
    "This task requires grouping and iterating within groups."
   ]
  },
  {
   "cell_type": "code",
   "execution_count": null,
   "id": "df31a30d",
   "metadata": {},
   "outputs": [],
   "source": []
  },
  {
   "cell_type": "code",
   "execution_count": null,
   "id": "aff13635",
   "metadata": {},
   "outputs": [],
   "source": []
  },
  {
   "cell_type": "code",
   "execution_count": null,
   "id": "b2cd700c",
   "metadata": {},
   "outputs": [],
   "source": []
  },
  {
   "cell_type": "markdown",
   "id": "15811ef9",
   "metadata": {},
   "source": [
    "## Part 3  Try, continue and catch exceptions"
   ]
  },
  {
   "cell_type": "markdown",
   "id": "c5ff41d6",
   "metadata": {},
   "source": [
    "In this case you will work with a `students_grade.csv` dataset. "
   ]
  },
  {
   "cell_type": "markdown",
   "id": "39c0d1de",
   "metadata": {},
   "source": [
    "1. You are tasked with calculating the average grade for each student in the dataset. However, the dataset has some issues:\n",
    "\n",
    "Some scores are marked as \"missing\" or \"invalid\" (strings instead of numeric values).\n",
    "Some students may have incomplete grades across subjects.\n",
    "\n",
    "To calculate the average:\n",
    "\n",
    "Skip any \"invalid\" or \"missing\" values during calculations.\n",
    "If a student has no valid grades, print a warning message for that student.\n",
    "\n",
    "\n",
    "Use `try` and `except` to handle potential errors.\n",
    "Use `continue` to skip invalid rows or scores.\n",
    "Print the results in a clear format, showing the average grade for each student or a warning if no grades are available."
   ]
  },
  {
   "cell_type": "code",
   "execution_count": null,
   "id": "e7892cc0",
   "metadata": {},
   "outputs": [],
   "source": []
  },
  {
   "cell_type": "markdown",
   "id": "28d5de24",
   "metadata": {},
   "source": [
    "2. Calculate the average grade per subject for each year.\n",
    "Handle invalid or missing values during the calculation by skipping them.\n",
    "Print the averages in a clean format (e.g., table or grouped output)."
   ]
  },
  {
   "cell_type": "markdown",
   "id": "b5410d0b",
   "metadata": {},
   "source": [
    "\n"
   ]
  },
  {
   "cell_type": "markdown",
   "id": "b3f1ebdb",
   "metadata": {},
   "source": [
    "3. Identify students who had an average grade of 90 or above across all years (excluding invalid/missing values).\n",
    "If a student has no valid grades, skip them with a warning."
   ]
  },
  {
   "cell_type": "code",
   "execution_count": null,
   "id": "24a9c1a1",
   "metadata": {},
   "outputs": [],
   "source": []
  }
 ],
 "metadata": {
  "kernelspec": {
   "display_name": "Python 3 (ipykernel)",
   "language": "python",
   "name": "python3"
  },
  "language_info": {
   "codemirror_mode": {
    "name": "ipython",
    "version": 3
   },
   "file_extension": ".py",
   "mimetype": "text/x-python",
   "name": "python",
   "nbconvert_exporter": "python",
   "pygments_lexer": "ipython3",
   "version": "3.11.5"
  }
 },
 "nbformat": 4,
 "nbformat_minor": 5
}
