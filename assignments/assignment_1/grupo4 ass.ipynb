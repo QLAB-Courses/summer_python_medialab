{
 "cells": [
  {
   "cell_type": "markdown",
   "id": "5d198778",
   "metadata": {},
   "source": [
    "# Assignment_1\n",
    "If you copy codes from previous answers, explain each step. No explanation is `0 points`."
   ]
  },
  {
   "cell_type": "markdown",
   "id": "853562f8",
   "metadata": {},
   "source": [
    "##  Part 1.Data types\n"
   ]
  },
  {
   "cell_type": "markdown",
   "id": "521b5fe7",
   "metadata": {},
   "source": [
    "a.Declare one variable for each one these types: : int , float , string , boolean.\n",
    "- Print  the varible's type using  type () function\n",
    "\n",
    "\n"
   ]
  },
  {
   "cell_type": "code",
   "execution_count": 231,
   "id": "b8adc928",
   "metadata": {},
   "outputs": [],
   "source": [
    "variable_1 = 5 # we create a variable for each type and then we use type function to confirm"
   ]
  },
  {
   "cell_type": "code",
   "execution_count": 232,
   "id": "afae1c3e",
   "metadata": {},
   "outputs": [
    {
     "data": {
      "text/plain": [
       "int"
      ]
     },
     "execution_count": 232,
     "metadata": {},
     "output_type": "execute_result"
    }
   ],
   "source": [
    "type(variable_1)"
   ]
  },
  {
   "cell_type": "code",
   "execution_count": 233,
   "id": "22f69f6f",
   "metadata": {},
   "outputs": [],
   "source": [
    "variable_2 = 5.0"
   ]
  },
  {
   "cell_type": "code",
   "execution_count": 234,
   "id": "a37982e4",
   "metadata": {},
   "outputs": [
    {
     "data": {
      "text/plain": [
       "float"
      ]
     },
     "execution_count": 234,
     "metadata": {},
     "output_type": "execute_result"
    }
   ],
   "source": [
    "type(variable_2)"
   ]
  },
  {
   "cell_type": "code",
   "execution_count": 235,
   "id": "fa97db70",
   "metadata": {},
   "outputs": [],
   "source": [
    "variable_3 = \"olenka, rennzo, santiago\""
   ]
  },
  {
   "cell_type": "code",
   "execution_count": 236,
   "id": "9fcb6199",
   "metadata": {},
   "outputs": [
    {
     "data": {
      "text/plain": [
       "str"
      ]
     },
     "execution_count": 236,
     "metadata": {},
     "output_type": "execute_result"
    }
   ],
   "source": [
    "type(variable_3)"
   ]
  },
  {
   "cell_type": "code",
   "execution_count": 237,
   "id": "64e691e3",
   "metadata": {},
   "outputs": [],
   "source": [
    "variable_4 = 5>3"
   ]
  },
  {
   "cell_type": "code",
   "execution_count": 238,
   "id": "d808b16c",
   "metadata": {},
   "outputs": [
    {
     "data": {
      "text/plain": [
       "bool"
      ]
     },
     "execution_count": 238,
     "metadata": {},
     "output_type": "execute_result"
    }
   ],
   "source": [
    "type(variable_4)"
   ]
  },
  {
   "cell_type": "markdown",
   "id": "1a2d5445",
   "metadata": {},
   "source": []
  },
  {
   "cell_type": "markdown",
   "id": "ce38f1d9",
   "metadata": {},
   "source": [
    " b. Using only the following inputs: ```5``` and ```2```  ,  work the  operators to get the output  : ```50```"
   ]
  },
  {
   "cell_type": "code",
   "execution_count": 239,
   "id": "46b08279",
   "metadata": {},
   "outputs": [],
   "source": [
    "variable_5 = (5+5-2)*5+5*2 #We use the inputs and get the results using mathematical operators"
   ]
  },
  {
   "cell_type": "code",
   "execution_count": 240,
   "id": "c157dba2",
   "metadata": {},
   "outputs": [
    {
     "data": {
      "text/plain": [
       "50"
      ]
     },
     "execution_count": 240,
     "metadata": {},
     "output_type": "execute_result"
    }
   ],
   "source": [
    "variable_5"
   ]
  },
  {
   "cell_type": "markdown",
   "id": "42009dda",
   "metadata": {},
   "source": [
    "c. Evaluate if the output of the previous excercise is over 100. Create a variable that makes this evaluation. (Hint: It would be a boolean)."
   ]
  },
  {
   "cell_type": "code",
   "execution_count": 241,
   "id": "fc3e3ae6",
   "metadata": {},
   "outputs": [],
   "source": [
    "variable_6 = variable_5>100 #We create the variable and then evaluate if this output was true or false"
   ]
  },
  {
   "cell_type": "code",
   "execution_count": 242,
   "id": "27f3a78c",
   "metadata": {},
   "outputs": [
    {
     "data": {
      "text/plain": [
       "False"
      ]
     },
     "execution_count": 242,
     "metadata": {},
     "output_type": "execute_result"
    }
   ],
   "source": [
    "variable_6"
   ]
  },
  {
   "cell_type": "markdown",
   "id": "877a0395",
   "metadata": {},
   "source": [
    "d. Create a variable equal to a list that contains: \n",
    "- a string,\n",
    "- a boolean,\n",
    "- two numeric values ( of any kind)  and\n",
    "- a  list of two strings with the names of your favourite musical artists. "
   ]
  },
  {
   "cell_type": "code",
   "execution_count": 243,
   "id": "081b71d0",
   "metadata": {},
   "outputs": [],
   "source": [
    "variable_7 = [\"medialab2025\", True, 100, 23, [\"taylor swift\", \"the strokes\"]] #We create a list that contains everything requested in the exercise"
   ]
  },
  {
   "cell_type": "code",
   "execution_count": 244,
   "id": "74ed74ea",
   "metadata": {},
   "outputs": [
    {
     "data": {
      "text/plain": [
       "['medialab2025', True, 100, 23, ['taylor swift', 'the strokes']]"
      ]
     },
     "execution_count": 244,
     "metadata": {},
     "output_type": "execute_result"
    }
   ],
   "source": [
    "variable_7"
   ]
  },
  {
   "cell_type": "markdown",
   "id": "e2a5f459",
   "metadata": {},
   "source": [
    "## Part 2. Containers"
   ]
  },
  {
   "cell_type": "markdown",
   "id": "51681d3c",
   "metadata": {},
   "source": [
    "e. Create a tuple with 3 elements. Explain why you can't modify it. "
   ]
  },
  {
   "cell_type": "code",
   "execution_count": 245,
   "id": "dd8d0079",
   "metadata": {},
   "outputs": [],
   "source": [
    "variable_8 = (200, 50, \"troy bolton\") #We create a tuple with random numbers and a name"
   ]
  },
  {
   "cell_type": "code",
   "execution_count": 246,
   "id": "2d2120e6",
   "metadata": {},
   "outputs": [],
   "source": [
    "# A tuple cannot be modified because it is immutable, which means that data cannot be added, modified, or deleted after it is created"
   ]
  },
  {
   "cell_type": "markdown",
   "id": "25ecd132",
   "metadata": {},
   "source": [
    "f.Create a dictionary with at least 3 different  keys and values ."
   ]
  },
  {
   "cell_type": "code",
   "execution_count": 247,
   "id": "57ac77f1",
   "metadata": {},
   "outputs": [],
   "source": [
    "variable_9 = {\"name\":\"rennzo\",\"lastname\":\"contreras\", \"nickname\":\"fernandito\"} #We create a dictionary about our partner Rennzo and we tested it"
   ]
  },
  {
   "cell_type": "code",
   "execution_count": 248,
   "id": "592c2736",
   "metadata": {},
   "outputs": [
    {
     "data": {
      "text/plain": [
       "{'name': 'rennzo', 'lastname': 'contreras', 'nickname': 'fernandito'}"
      ]
     },
     "execution_count": 248,
     "metadata": {},
     "output_type": "execute_result"
    }
   ],
   "source": [
    "variable_9"
   ]
  },
  {
   "cell_type": "code",
   "execution_count": 249,
   "id": "fc401bfe",
   "metadata": {},
   "outputs": [
    {
     "data": {
      "text/plain": [
       "'rennzo'"
      ]
     },
     "execution_count": 249,
     "metadata": {},
     "output_type": "execute_result"
    }
   ],
   "source": [
    "variable_9[\"name\"]"
   ]
  },
  {
   "cell_type": "markdown",
   "id": "88837e32",
   "metadata": {},
   "source": [
    "g.We got the next courses list: "
   ]
  },
  {
   "cell_type": "code",
   "execution_count": 250,
   "id": "dd6de597",
   "metadata": {},
   "outputs": [],
   "source": [
    "courses_1 = [\"History\", \"Economy\", \"Anthropology\", \"Sociology \", \"Literature\"]"
   ]
  },
  {
   "cell_type": "markdown",
   "id": "005d3d70",
   "metadata": {},
   "source": [
    "g.1.Add tree additional courses in 3 different ways( one for each way):\n",
    "   - Sum (+) a list that contains an additional course. \n",
    "   - Use append. \n",
    "   - Use extend. "
   ]
  },
  {
   "cell_type": "code",
   "execution_count": 251,
   "id": "19cb124f",
   "metadata": {},
   "outputs": [],
   "source": [
    "courses_3 = [\"Art\"]"
   ]
  },
  {
   "cell_type": "code",
   "execution_count": 252,
   "id": "cffbaf2e",
   "metadata": {},
   "outputs": [
    {
     "data": {
      "text/plain": [
       "['History', 'Economy', 'Anthropology', 'Sociology ', 'Literature', 'Art']"
      ]
     },
     "execution_count": 252,
     "metadata": {},
     "output_type": "execute_result"
    }
   ],
   "source": [
    "courses_1 + courses_3"
   ]
  },
  {
   "cell_type": "code",
   "execution_count": 253,
   "id": "961633af",
   "metadata": {},
   "outputs": [],
   "source": [
    "courses_4 = [\"Politics\"]"
   ]
  },
  {
   "cell_type": "code",
   "execution_count": 254,
   "id": "b9a18d18",
   "metadata": {},
   "outputs": [],
   "source": [
    "courses_1.append(courses_4)"
   ]
  },
  {
   "cell_type": "code",
   "execution_count": 255,
   "id": "fc875cc8",
   "metadata": {},
   "outputs": [
    {
     "name": "stdout",
     "output_type": "stream",
     "text": [
      "['History', 'Economy', 'Anthropology', 'Sociology ', 'Literature', ['Politics']]\n"
     ]
    }
   ],
   "source": [
    "print(courses_1)"
   ]
  },
  {
   "cell_type": "code",
   "execution_count": 256,
   "id": "54475e69",
   "metadata": {},
   "outputs": [],
   "source": [
    "courses_5 = [\"Python\"]"
   ]
  },
  {
   "cell_type": "code",
   "execution_count": 257,
   "id": "52e90d90",
   "metadata": {},
   "outputs": [],
   "source": [
    "courses_1.extend(courses_5)"
   ]
  },
  {
   "cell_type": "code",
   "execution_count": 258,
   "id": "f08ebb12",
   "metadata": {},
   "outputs": [
    {
     "name": "stdout",
     "output_type": "stream",
     "text": [
      "['History', 'Economy', 'Anthropology', 'Sociology ', 'Literature', ['Politics'], 'Python']\n"
     ]
    }
   ],
   "source": [
    "print(courses_1)"
   ]
  },
  {
   "cell_type": "code",
   "execution_count": 259,
   "id": "352fa15c",
   "metadata": {},
   "outputs": [],
   "source": [
    "# We add the courses according to the instructions, and after using the append method, the list courses1 was affected. Therefore, when we used extend, the new list showed the new value added in append"
   ]
  },
  {
   "cell_type": "markdown",
   "id": "19cee2c3",
   "metadata": {},
   "source": []
  },
  {
   "cell_type": "markdown",
   "id": "6cf07d6a",
   "metadata": {},
   "source": [
    "g.2.Use the indexation to stress _Sociology_."
   ]
  },
  {
   "cell_type": "code",
   "execution_count": 260,
   "id": "0a03e468",
   "metadata": {},
   "outputs": [
    {
     "data": {
      "text/plain": [
       "'Sociology '"
      ]
     },
     "execution_count": 260,
     "metadata": {},
     "output_type": "execute_result"
    }
   ],
   "source": [
    "courses_1 [3] # We use the indexation to find the value \"Sociology\" and then we highlighted it by placing two x's on each side of the word"
   ]
  },
  {
   "cell_type": "code",
   "execution_count": 261,
   "id": "80370545",
   "metadata": {},
   "outputs": [],
   "source": [
    "courses_1 [3] = \"xxSociologyxx\""
   ]
  },
  {
   "cell_type": "code",
   "execution_count": 262,
   "id": "5c167c03",
   "metadata": {},
   "outputs": [
    {
     "data": {
      "text/plain": [
       "'xxSociologyxx'"
      ]
     },
     "execution_count": 262,
     "metadata": {},
     "output_type": "execute_result"
    }
   ],
   "source": [
    "courses_1 [3]"
   ]
  },
  {
   "cell_type": "code",
   "execution_count": 263,
   "id": "abb954bd",
   "metadata": {},
   "outputs": [
    {
     "data": {
      "text/plain": [
       "['History',\n",
       " 'Economy',\n",
       " 'Anthropology',\n",
       " 'xxSociologyxx',\n",
       " 'Literature',\n",
       " ['Politics'],\n",
       " 'Python']"
      ]
     },
     "execution_count": 263,
     "metadata": {},
     "output_type": "execute_result"
    }
   ],
   "source": [
    "courses_1"
   ]
  },
  {
   "cell_type": "markdown",
   "id": "bfb7ace5",
   "metadata": {},
   "source": [
    "g.3 Remove your least favourite course"
   ]
  },
  {
   "cell_type": "code",
   "execution_count": 264,
   "id": "fcbc36ce",
   "metadata": {},
   "outputs": [],
   "source": [
    "courses_1.remove (\"Python\") # We chose to delete the object by searching for it manually and not using indexation, then we verified that it was deleted"
   ]
  },
  {
   "cell_type": "code",
   "execution_count": 265,
   "id": "66fab073",
   "metadata": {},
   "outputs": [
    {
     "data": {
      "text/plain": [
       "['History',\n",
       " 'Economy',\n",
       " 'Anthropology',\n",
       " 'xxSociologyxx',\n",
       " 'Literature',\n",
       " ['Politics']]"
      ]
     },
     "execution_count": 265,
     "metadata": {},
     "output_type": "execute_result"
    }
   ],
   "source": [
    "courses_1"
   ]
  },
  {
   "cell_type": "markdown",
   "id": "d07e8d7c",
   "metadata": {},
   "source": [
    "g.4. Invert the list"
   ]
  },
  {
   "cell_type": "code",
   "execution_count": 266,
   "id": "c32c86be",
   "metadata": {},
   "outputs": [],
   "source": [
    "courses_1.reverse () # We use the reverse method for this asignment"
   ]
  },
  {
   "cell_type": "code",
   "execution_count": 267,
   "id": "0c6ddd93",
   "metadata": {},
   "outputs": [
    {
     "data": {
      "text/plain": [
       "[['Politics'],\n",
       " 'Literature',\n",
       " 'xxSociologyxx',\n",
       " 'Anthropology',\n",
       " 'Economy',\n",
       " 'History']"
      ]
     },
     "execution_count": 267,
     "metadata": {},
     "output_type": "execute_result"
    }
   ],
   "source": [
    "courses_1"
   ]
  },
  {
   "cell_type": "markdown",
   "id": "17a5576a",
   "metadata": {},
   "source": [
    "h.Create a dictionary that represents a fruits inventory:\n",
    " - Add at least 5 fruits to the inventory\n",
    "- Print the amount of apples in stock \n",
    "- Modify the amount of grapes\n"
   ]
  },
  {
   "cell_type": "code",
   "execution_count": 268,
   "id": "a7ec16e9",
   "metadata": {},
   "outputs": [],
   "source": [
    "fruits = {\"bananas\":10, \"coconuts\":20,\"apples\":2,\"grapes\":1 ,\"kiwis\":3  } #We create the dictionary and follow the steps"
   ]
  },
  {
   "cell_type": "code",
   "execution_count": 269,
   "id": "afe87cf9",
   "metadata": {},
   "outputs": [
    {
     "data": {
      "text/plain": [
       "2"
      ]
     },
     "execution_count": 269,
     "metadata": {},
     "output_type": "execute_result"
    }
   ],
   "source": [
    "fruits[\"apples\"]"
   ]
  },
  {
   "cell_type": "code",
   "execution_count": 270,
   "id": "9559b933",
   "metadata": {},
   "outputs": [],
   "source": [
    "fruits[\"grapes\"]=100"
   ]
  },
  {
   "cell_type": "code",
   "execution_count": 271,
   "id": "baab4999",
   "metadata": {},
   "outputs": [
    {
     "data": {
      "text/plain": [
       "100"
      ]
     },
     "execution_count": 271,
     "metadata": {},
     "output_type": "execute_result"
    }
   ],
   "source": [
    "fruits[\"grapes\"]"
   ]
  },
  {
   "cell_type": "markdown",
   "id": "0c74c187",
   "metadata": {},
   "source": [
    "i.  Write a dictionary with the local GMT of the nexts cities:\n",
    "- Antananarivo, Madagascar, \n",
    "- Beirut, Lebanon, \n",
    "- Jakarta, Indonesia, \n",
    "- Teherán, Iran, \n",
    "- Vientiane, Laos, \n",
    "\n",
    "\n",
    "\n",
    "Hint: Lima would be: `\"Lima\": -5`"
   ]
  },
  {
   "cell_type": "code",
   "execution_count": 272,
   "id": "95e4b82d",
   "metadata": {},
   "outputs": [],
   "source": [
    "GMT =   {\"Antananarivo\":+3,\"Beirut\":+2,\"Jakarta\":+7,\"Teherán\":+3.30,\"Vientiane\":+7  } #We search the GMT and create the dictionary"
   ]
  },
  {
   "cell_type": "markdown",
   "id": "e0f93671",
   "metadata": {},
   "source": [
    " j.Add the nexts cities to the dictionary:\n",
    "- Astana, Kazakhstan,\n",
    "- Uagadugú, Burkina Faso,\n",
    "- Balmopan, Belize"
   ]
  },
  {
   "cell_type": "code",
   "execution_count": 273,
   "id": "a6252f41",
   "metadata": {},
   "outputs": [],
   "source": [
    "GMT[\"Astana\"]=+5 # We add the remain cities creating lists\n",
    "GMT[\"Uagadugú\"]=0\n",
    "GMT[\"Balmopan\"]=-6"
   ]
  },
  {
   "cell_type": "code",
   "execution_count": 274,
   "id": "079eb983",
   "metadata": {},
   "outputs": [
    {
     "data": {
      "text/plain": [
       "{'Antananarivo': 3,\n",
       " 'Beirut': 2,\n",
       " 'Jakarta': 7,\n",
       " 'Teherán': 3.3,\n",
       " 'Vientiane': 7,\n",
       " 'Astana': 5,\n",
       " 'Uagadugú': 0,\n",
       " 'Balmopan': -6}"
      ]
     },
     "execution_count": 274,
     "metadata": {},
     "output_type": "execute_result"
    }
   ],
   "source": [
    "GMT"
   ]
  },
  {
   "cell_type": "markdown",
   "id": "c6c4f120",
   "metadata": {},
   "source": [
    "# Part 3. Numpy\n"
   ]
  },
  {
   "cell_type": "markdown",
   "id": "ef5f5f96",
   "metadata": {},
   "source": [
    "k.Create an array with 10 aleatory values that go from 0 to 9"
   ]
  },
  {
   "cell_type": "code",
   "execution_count": null,
   "id": "66a6440f",
   "metadata": {},
   "outputs": [],
   "source": [
    "#we used Chatpt4#"
   ]
  },
  {
   "cell_type": "code",
   "execution_count": 275,
   "id": "88bc5132",
   "metadata": {},
   "outputs": [],
   "source": [
    "import numpy as np # we import numpt library"
   ]
  },
  {
   "cell_type": "code",
   "execution_count": 281,
   "id": "3b95d7c5",
   "metadata": {},
   "outputs": [
    {
     "data": {
      "text/plain": [
       "array([ 8, 27, 41, 10, 30, 42, 37, 42,  9, 38])"
      ]
     },
     "execution_count": 281,
     "metadata": {},
     "output_type": "execute_result"
    }
   ],
   "source": [
    "variable_10= np.random.randint(0,50,10) #we create an array using a ramdom methot  using copilot, we take the 10 numbers between 0 and 50 #\n",
    "variable_10"
   ]
  },
  {
   "cell_type": "markdown",
   "id": "f653f08e",
   "metadata": {},
   "source": [
    "l.Create a matrix 3x2 fill with zeros"
   ]
  },
  {
   "cell_type": "code",
   "execution_count": 286,
   "id": "007cd043",
   "metadata": {},
   "outputs": [
    {
     "data": {
      "text/plain": [
       "array([[0., 0.],\n",
       "       [0., 0.],\n",
       "       [0., 0.]])"
      ]
     },
     "execution_count": 286,
     "metadata": {},
     "output_type": "execute_result"
    }
   ],
   "source": [
    "\n",
    "zero_variable= np.zeros((3,2)) #we indicate that we want a matrix of 3 files and 2 columns#\n",
    "zero_variable #the n.zero let us create a matrix with the value of Ceros#"
   ]
  },
  {
   "cell_type": "markdown",
   "id": "b0cca53d",
   "metadata": {},
   "source": [
    "m.Sum two arrays and then multiply the output by an scalar"
   ]
  },
  {
   "cell_type": "markdown",
   "id": "9d7b9466",
   "metadata": {},
   "source": []
  },
  {
   "cell_type": "code",
   "execution_count": 289,
   "id": "7dca938e",
   "metadata": {},
   "outputs": [],
   "source": [
    "#first we create two arrays. Both arrays hadve the rage between 0-10, with eight values#\n",
    "variable_mult1 = np.random.randint(0, 10, 8)\n",
    "variable_mult2 = np.random.randint(0, 10, 8)"
   ]
  },
  {
   "cell_type": "code",
   "execution_count": 311,
   "id": "91de56ba",
   "metadata": {},
   "outputs": [
    {
     "name": "stdout",
     "output_type": "stream",
     "text": [
      "[3 1 9 8 1 3 7 4]\n",
      "[5 3 7 1 4 4 2 3]\n"
     ]
    }
   ],
   "source": [
    "print(variable_mult1 )\n",
    "print(variable_mult2)"
   ]
  },
  {
   "cell_type": "markdown",
   "id": "a9e3e08f",
   "metadata": {},
   "source": [
    "n.Create 2 arrays with the values that you wish :\n",
    "- Concatenate vertically \n",
    "- Concatenate horizontally "
   ]
  },
  {
   "cell_type": "code",
   "execution_count": 312,
   "id": "6469da02",
   "metadata": {},
   "outputs": [],
   "source": [
    "#now we define the scalar al 3#\n",
    "scalar = 2"
   ]
  },
  {
   "cell_type": "code",
   "execution_count": 313,
   "id": "b2d8c132",
   "metadata": {},
   "outputs": [],
   "source": [
    "variable_result = variable_mult1 +variable_mult2"
   ]
  },
  {
   "cell_type": "code",
   "execution_count": 314,
   "id": "fad12bd7",
   "metadata": {},
   "outputs": [],
   "source": [
    "variable_scal = sum_result * scalar"
   ]
  },
  {
   "cell_type": "markdown",
   "id": "c2a634a1",
   "metadata": {},
   "source": []
  },
  {
   "cell_type": "code",
   "execution_count": 315,
   "id": "0ae92917",
   "metadata": {},
   "outputs": [
    {
     "name": "stdout",
     "output_type": "stream",
     "text": [
      "[16  8 32 18 10 14 18 14]\n"
     ]
    }
   ],
   "source": [
    "print(variable_scal) #we show the final results#"
   ]
  },
  {
   "cell_type": "markdown",
   "id": "3025078a",
   "metadata": {},
   "source": [
    "Create 2 arrays with the values that you wish\n",
    "\n",
    "- Concatenate vertically\n",
    "- Concatenate horizontally"
   ]
  },
  {
   "cell_type": "code",
   "execution_count": 316,
   "id": "efabc208",
   "metadata": {},
   "outputs": [],
   "source": [
    "#we firts define the arrays#\n",
    "varibl_c1 = np.array([10, 25, 37, 48])\n",
    "varibl_c2 = np.array([58, 96, 17, 18])"
   ]
  },
  {
   "cell_type": "code",
   "execution_count": 318,
   "id": "5214671f",
   "metadata": {},
   "outputs": [],
   "source": [
    "#we first define a verticaly and them horizontaly#\n",
    "varibl_cont1 = np.vstack((varibl_c1, varibl_c2))\n",
    "varibl_cont2 = np.hstack((varibl_c1, varibl_c2))\n"
   ]
  },
  {
   "cell_type": "code",
   "execution_count": 321,
   "id": "9b33a9f4",
   "metadata": {},
   "outputs": [
    {
     "name": "stdout",
     "output_type": "stream",
     "text": [
      "[[10 25 37 48]\n",
      " [58 96 17 18]]\n",
      "[10 25 37 48 58 96 17 18]\n"
     ]
    }
   ],
   "source": [
    "#we show the final result#\n",
    "print(varibl_cont1)\n",
    "print(varibl_cont2)\n",
    "      \n"
   ]
  }
 ],
 "metadata": {
  "kernelspec": {
   "display_name": "base",
   "language": "python",
   "name": "python3"
  },
  "language_info": {
   "codemirror_mode": {
    "name": "ipython",
    "version": 3
   },
   "file_extension": ".py",
   "mimetype": "text/x-python",
   "name": "python",
   "nbconvert_exporter": "python",
   "pygments_lexer": "ipython3",
   "version": "3.10.9"
  }
 },
 "nbformat": 4,
 "nbformat_minor": 5
}
