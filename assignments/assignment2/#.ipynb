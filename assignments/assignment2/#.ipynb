{
 "cells": [
  {
   "cell_type": "markdown",
   "id": "44f81bbe",
   "metadata": {},
   "source": [
    "# Assignment 2"
   ]
  },
  {
   "cell_type": "markdown",
   "id": "1b9b7833",
   "metadata": {},
   "source": [
    "### Exercise 1: Basic Dictionary Creation and Access\n",
    "Objective: Create a dictionary named student_info containing at least three key-value pairs where keys are student names (as strings) and values are their respective ages (as integers). Then, access and print the age of a specific student."
   ]
  },
  {
   "cell_type": "code",
   "execution_count": 3,
   "id": "7a358b82",
   "metadata": {},
   "outputs": [],
   "source": [
    "student_info = {\"Maria\": 18, \"Juan\": 22, \"Milagros\": 20}"
   ]
  },
  {
   "cell_type": "code",
   "execution_count": 4,
   "id": "556e659c",
   "metadata": {},
   "outputs": [
    {
     "name": "stdout",
     "output_type": "stream",
     "text": [
      "20\n"
     ]
    }
   ],
   "source": [
    "print(student_info[\"Milagros\"])"
   ]
  },
  {
   "cell_type": "markdown",
   "id": "efd06477",
   "metadata": {},
   "source": [
    "### Exercise 2: Modifying Dictionary Values\n",
    "**Objective:** Start with a dictionary `product_prices` where keys are product names (strings) and values are their prices (floats). Select a product and update its price. Then, add a new product with its price to the dictionary.\n",
    "\n",
    "\n",
    "### Exercise 3: Dictionary Comprehension\n",
    "**Objective:** Create a dictionary `squared_numbers` using dictionary comprehension where keys are integers from 1 to 10, and values are the squares of these keys.\n",
    "\n",
    "### Exercise 4: Nested Dictionaries\n",
    "**Objective:** Create a nested dictionary `employee_data` where each key is an employee ID (integer) and each value is another dictionary with keys 'Name', 'Position', and 'Salary'. Then, access and print the name and position of a specific employee by their ID. This dictionary `employee_data` should have only 5 keys.\n",
    "\n",
    "### Exercise 5: Merging Dictionaries\n",
    "**Objective:** You have two dictionaries `dict1` and `dict2` with non-overlapping keys. Merge these two dictionaries into a new dictionary `merged_dict` and print its contents. This `merged_dict` dict should have all the keys.\n",
    "\n"
   ]
  },
  {
   "cell_type": "code",
   "execution_count": 7,
   "id": "26b990b2",
   "metadata": {},
   "outputs": [],
   "source": [
    "# Initial product prices\n",
    "product_prices = {\n",
    "    \"Laptop\": 999.99,\n",
    "    \"Smartphone\": 499.99,\n",
    "    \"Headphones\": 89.99,\n",
    "    \"Camera\": 279.99\n",
    "}"
   ]
  },
  {
   "cell_type": "code",
   "execution_count": 8,
   "id": "d5cc1405",
   "metadata": {},
   "outputs": [],
   "source": [
    "dict1 = {\"A\": 1, \"B\": 2, \"C\": 3}\n",
    "dict2 = {\"D\": 4, \"E\": 5, \"F\": 6}"
   ]
  },
  {
   "cell_type": "markdown",
   "id": "076561df",
   "metadata": {},
   "source": [
    "#Exercise 2 - answer"
   ]
  },
  {
   "cell_type": "code",
   "execution_count": 4,
   "id": "01c53e40",
   "metadata": {},
   "outputs": [],
   "source": [
    "product_prices = {\"arroz\": 2.5, \"azucar\": 1.2, \"frejoles\": 0.6}"
   ]
  },
  {
   "cell_type": "code",
   "execution_count": 3,
   "id": "9530718f",
   "metadata": {},
   "outputs": [
    {
     "ename": "NameError",
     "evalue": "name 'product_prices' is not defined",
     "output_type": "error",
     "traceback": [
      "\u001b[0;31m---------------------------------------------------------------------------\u001b[0m",
      "\u001b[0;31mNameError\u001b[0m                                 Traceback (most recent call last)",
      "Cell \u001b[0;32mIn[3], line 1\u001b[0m\n\u001b[0;32m----> 1\u001b[0m product_prices[\u001b[38;5;124m\"\u001b[39m\u001b[38;5;124mfrejoles\u001b[39m\u001b[38;5;124m\"\u001b[39m] \u001b[38;5;241m=\u001b[39m \u001b[38;5;241m0.9\u001b[39m\n\u001b[1;32m      2\u001b[0m product_prices\n",
      "\u001b[0;31mNameError\u001b[0m: name 'product_prices' is not defined"
     ]
    }
   ],
   "source": [
    "product_prices[\"frejoles\"] = 0.9\n",
    "product_prices"
   ]
  },
  {
   "cell_type": "code",
   "execution_count": null,
   "id": "9057b622",
   "metadata": {},
   "outputs": [],
   "source": []
  },
  {
   "cell_type": "code",
   "execution_count": null,
   "id": "fa06fff4",
   "metadata": {},
   "outputs": [],
   "source": []
  },
  {
   "cell_type": "code",
   "execution_count": null,
   "id": "77ce195e",
   "metadata": {},
   "outputs": [],
   "source": [
    "product_prices[\"harina\"] = 1.2"
   ]
  },
  {
   "cell_type": "code",
   "execution_count": 1,
   "id": "f785f020",
   "metadata": {},
   "outputs": [
    {
     "ename": "NameError",
     "evalue": "name 'product_prices' is not defined",
     "output_type": "error",
     "traceback": [
      "\u001b[0;31m---------------------------------------------------------------------------\u001b[0m",
      "\u001b[0;31mNameError\u001b[0m                                 Traceback (most recent call last)",
      "Cell \u001b[0;32mIn[1], line 1\u001b[0m\n\u001b[0;32m----> 1\u001b[0m product_prices\n",
      "\u001b[0;31mNameError\u001b[0m: name 'product_prices' is not defined"
     ]
    }
   ],
   "source": [
    "product_prices"
   ]
  },
  {
   "cell_type": "code",
   "execution_count": null,
   "id": "5b457e4c",
   "metadata": {},
   "outputs": [],
   "source": []
  },
  {
   "cell_type": "markdown",
   "id": "51c25823",
   "metadata": {},
   "source": [
    "#Exercise 3 - answer"
   ]
  },
  {
   "cell_type": "code",
   "execution_count": 2,
   "id": "8c21fa43",
   "metadata": {},
   "outputs": [],
   "source": [
    "squared_numbers = {x: x**2 for x in range(1, 11)}"
   ]
  },
  {
   "cell_type": "markdown",
   "id": "b75703c3",
   "metadata": {},
   "source": [
    "#Exercise 4 - answer"
   ]
  },
  {
   "cell_type": "code",
   "execution_count": 22,
   "id": "cbbd9b8e",
   "metadata": {},
   "outputs": [],
   "source": [
    "employee_data = {\n",
    "  350: {\"Name\": \"Gisella\", \"Position\": \"Principal\", \"Salary\": 8000},\n",
    "  351: {\"Name\": \"Eduardo\", \"Position\": \"Teacher\", \"Salary\": 6000},\n",
    "  352: {\"Name\": \"Carlos\", \"Position\": \"assistant teacher\", \"Salary\": 2000}, \n",
    "  353: {\"Name\": \"Eva\", \"Position\": \"Lawyer\", \"Salary\": 7000},\n",
    "  354: {\"Name\": \"Maria\", \"Position\": \"Teacher\", \"Architect\": 8000},\n",
    "}"
   ]
  },
  {
   "cell_type": "code",
   "execution_count": 23,
   "id": "2c4b9837",
   "metadata": {},
   "outputs": [
    {
     "name": "stdout",
     "output_type": "stream",
     "text": [
      "Eva\n",
      "Lawyer\n"
     ]
    }
   ],
   "source": [
    "print(employee_data[353][\"Name\"])\n",
    "print(employee_data[353][\"Position\"])"
   ]
  },
  {
   "cell_type": "markdown",
   "id": "f769517d",
   "metadata": {},
   "source": [
    "#Exercise 5 - answer"
   ]
  },
  {
   "cell_type": "code",
   "execution_count": 26,
   "id": "a50a788c",
   "metadata": {},
   "outputs": [],
   "source": [
    "dict1 = {\"A\": 1, \"B\": 2, \"C\": 3}\n",
    "dict2 = {\"D\": 4, \"E\": 5, \"F\": 6}"
   ]
  },
  {
   "cell_type": "code",
   "execution_count": 28,
   "id": "ee3f0136",
   "metadata": {},
   "outputs": [],
   "source": [
    "merged_dict = {}"
   ]
  },
  {
   "cell_type": "code",
   "execution_count": 29,
   "id": "3fb666c3",
   "metadata": {},
   "outputs": [],
   "source": [
    "merged_dict.update(dict1)\n",
    "merged_dict.update(dict2)"
   ]
  },
  {
   "cell_type": "code",
   "execution_count": 30,
   "id": "ce66bf65",
   "metadata": {},
   "outputs": [
    {
     "name": "stdout",
     "output_type": "stream",
     "text": [
      "{'A': 1, 'B': 2, 'C': 3, 'D': 4, 'E': 5, 'F': 6}\n"
     ]
    }
   ],
   "source": [
    "print(merged_dict)"
   ]
  },
  {
   "cell_type": "markdown",
   "id": "b9b4a06c",
   "metadata": {},
   "source": [
    "## Pandas"
   ]
  },
  {
   "cell_type": "markdown",
   "id": "e0c3f468",
   "metadata": {},
   "source": [
    "# Exercise 1: Selecting Single Column with .loc\n",
    "**Objective**: Use .loc to select and print only the 'Name' column for all rows.\n",
    "\n",
    "### Exercise 2: Row Slicing with .iloc\n",
    "**Objective**: Use .iloc to select and print rows 2 through 4 (inclusive).\n",
    "\n",
    "### Exercise 3: Selecting Multiple Columns with .iloc\n",
    "**Objective**: Use .iloc to select and print the 'Name' and 'Age' columns for all rows.\n",
    "\n",
    "### Exercise 4: Conditional Selection with .loc\n",
    "**Objective**: Use .loc to select and print rows where the 'Age' is greater than 30.\n",
    "\n",
    "### Exercise 5: Modifying Data with .loc\n",
    "**Objective**: Use .loc to change the 'City' of the person named 'Alice' to 'Boston'. Then, print the updated DataFrame."
   ]
  },
  {
   "cell_type": "code",
   "execution_count": null,
   "id": "85e88f4c",
   "metadata": {},
   "outputs": [],
   "source": [
    "# Creating a DataFrame for the exercise\n",
    "data = {\n",
    "    'Name': ['Alice', 'Bob', 'Charlie', 'David', 'Eva'],\n",
    "    'Age': [25, 30, 35, 40, 45],\n",
    "    'City': ['New York', 'Los Angeles', 'Chicago', 'Houston', 'Miami']\n",
    "}"
   ]
  },
  {
   "cell_type": "markdown",
   "id": "a2bd5b16",
   "metadata": {},
   "source": [
    "#Exercise 1 - answer"
   ]
  },
  {
   "cell_type": "code",
   "execution_count": 49,
   "id": "4c432ac7",
   "metadata": {},
   "outputs": [],
   "source": [
    "import pandas as pd"
   ]
  },
  {
   "cell_type": "code",
   "execution_count": 52,
   "id": "53245e5f",
   "metadata": {},
   "outputs": [],
   "source": [
    "data = {\n",
    "    'Name': ['Alice', 'Bob', 'Charlie', 'David', 'Eva'],\n",
    "    'Age': [25, 30, 35, 40, 45],\n",
    "    'City': ['New York', 'Los Angeles', 'Chicago', 'Houston', 'Miami']\n",
    "}\n",
    "\n",
    "df = pd.DataFrame(data)"
   ]
  },
  {
   "cell_type": "code",
   "execution_count": 54,
   "id": "8f89e9fc",
   "metadata": {},
   "outputs": [
    {
     "name": "stdout",
     "output_type": "stream",
     "text": [
      "0      Alice\n",
      "1        Bob\n",
      "2    Charlie\n",
      "3      David\n",
      "4        Eva\n",
      "Name: Name, dtype: object\n"
     ]
    }
   ],
   "source": [
    "print(df.loc[:, \"Name\"])"
   ]
  },
  {
   "cell_type": "markdown",
   "id": "9ff9cd1c",
   "metadata": {},
   "source": [
    "#Exercise 2 - answer"
   ]
  },
  {
   "cell_type": "code",
   "execution_count": 55,
   "id": "313522e1",
   "metadata": {},
   "outputs": [
    {
     "name": "stdout",
     "output_type": "stream",
     "text": [
      "      Name  Age     City\n",
      "2  Charlie   35  Chicago\n",
      "3    David   40  Houston\n",
      "4      Eva   45    Miami\n"
     ]
    }
   ],
   "source": [
    "print(df.iloc[2:5])"
   ]
  },
  {
   "cell_type": "markdown",
   "id": "90dd5b51",
   "metadata": {},
   "source": [
    "#Exercise 3 - answer"
   ]
  },
  {
   "cell_type": "code",
   "execution_count": 56,
   "id": "426a4ae1",
   "metadata": {},
   "outputs": [
    {
     "name": "stdout",
     "output_type": "stream",
     "text": [
      "      Name  Age\n",
      "0    Alice   25\n",
      "1      Bob   30\n",
      "2  Charlie   35\n",
      "3    David   40\n",
      "4      Eva   45\n"
     ]
    }
   ],
   "source": [
    "print(df.iloc[:, 0:2])"
   ]
  },
  {
   "cell_type": "markdown",
   "id": "5fb0366b",
   "metadata": {},
   "source": [
    "#Exercise 4 - answer"
   ]
  },
  {
   "cell_type": "code",
   "execution_count": 57,
   "id": "aee2e37f",
   "metadata": {},
   "outputs": [
    {
     "name": "stdout",
     "output_type": "stream",
     "text": [
      "      Name  Age     City\n",
      "2  Charlie   35  Chicago\n",
      "3    David   40  Houston\n",
      "4      Eva   45    Miami\n"
     ]
    }
   ],
   "source": [
    "print(df.loc[df[\"Age\"] > 30])"
   ]
  },
  {
   "cell_type": "markdown",
   "id": "22129bde",
   "metadata": {},
   "source": [
    "#Exercise 5 - answer"
   ]
  },
  {
   "cell_type": "code",
   "execution_count": 58,
   "id": "0a6295d9",
   "metadata": {},
   "outputs": [],
   "source": [
    "df.loc[df[\"Name\"] == \"Alice\", \"City\"] = \"Boston\""
   ]
  },
  {
   "cell_type": "code",
   "execution_count": 59,
   "id": "d33f737a",
   "metadata": {},
   "outputs": [
    {
     "name": "stdout",
     "output_type": "stream",
     "text": [
      "      Name  Age         City\n",
      "0    Alice   25       Boston\n",
      "1      Bob   30  Los Angeles\n",
      "2  Charlie   35      Chicago\n",
      "3    David   40      Houston\n",
      "4      Eva   45        Miami\n"
     ]
    }
   ],
   "source": [
    "print(df)"
   ]
  },
  {
   "cell_type": "code",
   "execution_count": null,
   "id": "71553592",
   "metadata": {},
   "outputs": [],
   "source": []
  }
 ],
 "metadata": {
  "kernelspec": {
   "display_name": "Python 3 (ipykernel)",
   "language": "python",
   "name": "python3"
  },
  "language_info": {
   "codemirror_mode": {
    "name": "ipython",
    "version": 3
   },
   "file_extension": ".py",
   "mimetype": "text/x-python",
   "name": "python",
   "nbconvert_exporter": "python",
   "pygments_lexer": "ipython3",
   "version": "3.11.5"
  }
 },
 "nbformat": 4,
 "nbformat_minor": 5
}
