{
 "cells": [
  {
   "cell_type": "markdown",
   "id": "cccc2f69",
   "metadata": {},
   "source": [
    "# grupo 7"
   ]
  },
  {
   "cell_type": "markdown",
   "id": "44f81bbe",
   "metadata": {},
   "source": [
    "# Assignment 2"
   ]
  },
  {
   "cell_type": "code",
   "execution_count": null,
   "id": "17f20bfa",
   "metadata": {},
   "outputs": [],
   "source": []
  },
  {
   "cell_type": "markdown",
   "id": "1b9b7833",
   "metadata": {},
   "source": [
    "### Exercise 1: Basic Dictionary Creation and Access\n",
    "Objective: Create a dictionary named student_info containing at least three key-value pairs where keys are student names (as strings) and values are their respective ages (as integers). Then, access and print the age of a specific student."
   ]
  },
  {
   "cell_type": "code",
   "execution_count": 13,
   "id": "ae9404e2",
   "metadata": {},
   "outputs": [],
   "source": [
    "# En primer lugar, se crea un diccionario con las edades de cuatro estudiantes."
   ]
  },
  {
   "cell_type": "code",
   "execution_count": 23,
   "id": "e8014690",
   "metadata": {},
   "outputs": [],
   "source": [
    "estudiantes_informacion = {\"Luis Aviles\": 20,\"Renato Contreras\": 18,\"Melisa Cardenas\": 19,\"Fernanda Rios\": 21}"
   ]
  },
  {
   "cell_type": "code",
   "execution_count": 15,
   "id": "09565af6",
   "metadata": {},
   "outputs": [],
   "source": [
    "# En segundo lugar, se ejecuta la edad de un estudiante en específico. Como lo puede ser Fernanda Rios o Luis Áviles."
   ]
  },
  {
   "cell_type": "code",
   "execution_count": 22,
   "id": "b990d03c",
   "metadata": {},
   "outputs": [
    {
     "name": "stdout",
     "output_type": "stream",
     "text": [
      "21\n"
     ]
    }
   ],
   "source": [
    "print (estudiantes_informacion[\"Fernanda Rios\"])"
   ]
  },
  {
   "cell_type": "code",
   "execution_count": 24,
   "id": "0d8843e9",
   "metadata": {},
   "outputs": [
    {
     "name": "stdout",
     "output_type": "stream",
     "text": [
      "20\n"
     ]
    }
   ],
   "source": [
    "print (estudiantes_informacion[\"Luis Aviles\"])"
   ]
  },
  {
   "cell_type": "markdown",
   "id": "efd06477",
   "metadata": {},
   "source": []
  },
  {
   "cell_type": "markdown",
   "id": "b813bbaf",
   "metadata": {},
   "source": [
    "### Exercise 2: Modifying Dictionary Values\n",
    "**Objective:** Start with a dictionary `product_prices` where keys are product names (strings) and values are their prices (floats). Select a product and update its price. Then, add a new product with its price to the dictionary."
   ]
  },
  {
   "cell_type": "code",
   "execution_count": 30,
   "id": "26b990b2",
   "metadata": {},
   "outputs": [],
   "source": [
    "# Initial product prices\n",
    "product_prices = {\"Laptop\": 999.99,\"Smartphone\": 499.99,\"Headphones\": 89.99,\"Camera\": 279.99}"
   ]
  },
  {
   "cell_type": "code",
   "execution_count": null,
   "id": "fa2b4f87",
   "metadata": {},
   "outputs": [],
   "source": [
    "# Modificaremos el precio del producto \"Laptop\""
   ]
  },
  {
   "cell_type": "code",
   "execution_count": 31,
   "id": "367c28c4",
   "metadata": {},
   "outputs": [],
   "source": [
    "product_prices[\"Laptop\"] = 1100.50"
   ]
  },
  {
   "cell_type": "code",
   "execution_count": 32,
   "id": "a813c469",
   "metadata": {},
   "outputs": [
    {
     "name": "stdout",
     "output_type": "stream",
     "text": [
      "{'Laptop': 1100.5, 'Smartphone': 499.99, 'Headphones': 89.99, 'Camera': 279.99}\n"
     ]
    }
   ],
   "source": [
    "# Comprobamos la modificación\n",
    "print (product_prices)"
   ]
  },
  {
   "cell_type": "code",
   "execution_count": 33,
   "id": "41105781",
   "metadata": {},
   "outputs": [],
   "source": [
    "# Además, agregaremos un producto con su precio al diccionario\n",
    "product_prices[\"USB\"] = 35.70"
   ]
  },
  {
   "cell_type": "code",
   "execution_count": 34,
   "id": "2d684e51",
   "metadata": {},
   "outputs": [
    {
     "name": "stdout",
     "output_type": "stream",
     "text": [
      "{'Laptop': 1100.5, 'Smartphone': 499.99, 'Headphones': 89.99, 'Camera': 279.99, 'USB': 35.7}\n"
     ]
    }
   ],
   "source": [
    "# Comprobamos\n",
    "print (product_prices)"
   ]
  },
  {
   "cell_type": "markdown",
   "id": "d6ebd571",
   "metadata": {},
   "source": [
    "### Exercise 3: Dictionary Comprehension\n",
    "**Objective:** Create a dictionary `squared_numbers` using dictionary comprehension where keys are integers from 1 to 10, and values are the squares of these keys."
   ]
  },
  {
   "cell_type": "code",
   "execution_count": 35,
   "id": "8832fcfa",
   "metadata": {},
   "outputs": [],
   "source": [
    "# Se desarrolla el diccionario en un rango del 1 al 10. El código se coloca del 1 al 11, para que agarre hasta el 10 en su ejecución.\n",
    "squared_numbers = {x: x**2 for x in range(1, 11)}"
   ]
  },
  {
   "cell_type": "code",
   "execution_count": 36,
   "id": "bc7ca991",
   "metadata": {},
   "outputs": [
    {
     "name": "stdout",
     "output_type": "stream",
     "text": [
      "{1: 1, 2: 4, 3: 9, 4: 16, 5: 25, 6: 36, 7: 49, 8: 64, 9: 81, 10: 100}\n"
     ]
    }
   ],
   "source": [
    "# Se comprueba/ejecuta el diccionario\n",
    "print (squared_numbers)"
   ]
  },
  {
   "cell_type": "markdown",
   "id": "39f1fe71",
   "metadata": {},
   "source": [
    "### Exercise 4: Nested Dictionaries\n",
    "**Objective:** Create a nested dictionary `employee_data` where each key is an employee ID (integer) and each value is another dictionary with keys 'Name', 'Position', and 'Salary'. Then, access and print the name and position of a specific employee by their ID. This dictionary `employee_data` should have only 5 keys."
   ]
  },
  {
   "cell_type": "code",
   "execution_count": 37,
   "id": "cc1d0fae",
   "metadata": {},
   "outputs": [],
   "source": [
    "# Se crea el diccionario \"employee_data\"\n",
    "employee_data = {\n",
    "    1: {'Nombre': 'Renato', 'Posición': 'Asistente', 'Salario': 50000},\n",
    "    2: {'Nombre': 'María', 'Posición': 'Productor', 'Salario': 70000},\n",
    "    3: {'Nombre': 'Cristian', 'Posición': 'Fotógrafo', 'Salario': 55000},\n",
    "    4: {'Nombre': 'Anna', 'Posición': 'Diseñador', 'Salario': 60000},\n",
    "    5: {'Nombre': 'Gabriela', 'Posición': 'Director', 'Salario': 65000}\n",
    "}"
   ]
  },
  {
   "cell_type": "code",
   "execution_count": 39,
   "id": "3c8bfe8f",
   "metadata": {},
   "outputs": [
    {
     "name": "stdout",
     "output_type": "stream",
     "text": [
      "{'Nombre': 'Anna', 'Posición': 'Diseñador', 'Salario': 60000}\n"
     ]
    }
   ],
   "source": [
    "# Se ejecuta el id de un empleado en específico\n",
    "print (employee_data[4])"
   ]
  },
  {
   "cell_type": "markdown",
   "id": "39e03001",
   "metadata": {},
   "source": [
    "### Exercise 5: Merging Dictionaries\n",
    "**Objective:** You have two dictionaries `dict1` and `dict2` with non-overlapping keys. Merge these two dictionaries into a new dictionary `merged_dict` and print its contents. This `merged_dict` dict should have all the keys."
   ]
  },
  {
   "cell_type": "code",
   "execution_count": 40,
   "id": "d5cc1405",
   "metadata": {},
   "outputs": [],
   "source": [
    "dict1 = {\"A\": 1, \"B\": 2, \"C\": 3}\n",
    "dict2 = {\"D\": 4, \"E\": 5, \"F\": 6}"
   ]
  },
  {
   "cell_type": "code",
   "execution_count": 41,
   "id": "1f7ab84f",
   "metadata": {},
   "outputs": [],
   "source": [
    "# Se unen ambos diccionarios con la función de desempaquetado\n",
    "merged_dict = {**dict1, **dict2}"
   ]
  },
  {
   "cell_type": "code",
   "execution_count": 42,
   "id": "13580953",
   "metadata": {},
   "outputs": [
    {
     "name": "stdout",
     "output_type": "stream",
     "text": [
      "{'A': 1, 'B': 2, 'C': 3, 'D': 4, 'E': 5, 'F': 6}\n"
     ]
    }
   ],
   "source": [
    "# Se comprueba la unión de ambos diccionarios\n",
    "print(merged_dict)"
   ]
  },
  {
   "cell_type": "markdown",
   "id": "b9b4a06c",
   "metadata": {},
   "source": [
    "## Pandas"
   ]
  },
  {
   "cell_type": "markdown",
   "id": "450d0d1f",
   "metadata": {},
   "source": [
    "### Exercise 1: Selecting Single Column with .loc\n",
    "**Objective**: Use .loc to select and print only the 'Name' column for all rows.\n",
    "\n",
    "### Exercise 2: Row Slicing with .iloc\n",
    "**Objective**: Use .iloc to select and print rows 2 through 4 (inclusive).\n",
    "\n",
    "### Exercise 3: Selecting Multiple Columns with .iloc\n",
    "**Objective**: Use .iloc to select and print the 'Name' and 'Age' columns for all rows.\n",
    "\n",
    "### Exercise 4: Conditional Selection with .loc\n",
    "**Objective**: Use .loc to select and print rows where the 'Age' is greater than 30.\n",
    "\n",
    "### Exercise 5: Modifying Data with .loc\n",
    "**Objective**: Use .loc to change the 'City' of the person named 'Alice' to 'Boston'. Then, print the updated DataFrame."
   ]
  },
  {
   "cell_type": "code",
   "execution_count": null,
   "id": "85e88f4c",
   "metadata": {},
   "outputs": [],
   "source": [
    "# Creating a DataFrame for the exercise\n",
    "data = {\n",
    "    'Name': ['Alice', 'Bob', 'Charlie', 'David', 'Eva'],\n",
    "    'Age': [25, 30, 35, 40, 45],\n",
    "    'City': ['New York', 'Los Angeles', 'Chicago', 'Houston', 'Miami']\n",
    "}"
   ]
  },
  {
   "cell_type": "markdown",
   "id": "4eafa911",
   "metadata": {},
   "source": [
    "### Exercise 1: Selecting Single Column with .loc"
   ]
  },
  {
   "cell_type": "code",
   "execution_count": 47,
   "id": "894d17a2",
   "metadata": {},
   "outputs": [],
   "source": [
    "data = {\n",
    "    'Name': ['Alice', 'Bob', 'Charlie', 'David', 'Eva'],\n",
    "    'Age': [25, 30, 35, 40, 45],\n",
    "    'City': ['New York', 'Los Angeles', 'Chicago', 'Houston', 'Miami']\n",
    "}"
   ]
  },
  {
   "cell_type": "code",
   "execution_count": 48,
   "id": "5db92cd4",
   "metadata": {},
   "outputs": [],
   "source": [
    "import pandas as pd\n",
    "import numpy as np"
   ]
  },
  {
   "cell_type": "code",
   "execution_count": 49,
   "id": "64aee84c",
   "metadata": {},
   "outputs": [],
   "source": [
    "data_df = pd.DataFrame(data)"
   ]
  },
  {
   "cell_type": "code",
   "execution_count": 50,
   "id": "fb3e8832",
   "metadata": {},
   "outputs": [
    {
     "data": {
      "text/html": [
       "<div>\n",
       "<style scoped>\n",
       "    .dataframe tbody tr th:only-of-type {\n",
       "        vertical-align: middle;\n",
       "    }\n",
       "\n",
       "    .dataframe tbody tr th {\n",
       "        vertical-align: top;\n",
       "    }\n",
       "\n",
       "    .dataframe thead th {\n",
       "        text-align: right;\n",
       "    }\n",
       "</style>\n",
       "<table border=\"1\" class=\"dataframe\">\n",
       "  <thead>\n",
       "    <tr style=\"text-align: right;\">\n",
       "      <th></th>\n",
       "      <th>Name</th>\n",
       "    </tr>\n",
       "  </thead>\n",
       "  <tbody>\n",
       "    <tr>\n",
       "      <th>0</th>\n",
       "      <td>Alice</td>\n",
       "    </tr>\n",
       "    <tr>\n",
       "      <th>1</th>\n",
       "      <td>Bob</td>\n",
       "    </tr>\n",
       "    <tr>\n",
       "      <th>2</th>\n",
       "      <td>Charlie</td>\n",
       "    </tr>\n",
       "    <tr>\n",
       "      <th>3</th>\n",
       "      <td>David</td>\n",
       "    </tr>\n",
       "    <tr>\n",
       "      <th>4</th>\n",
       "      <td>Eva</td>\n",
       "    </tr>\n",
       "  </tbody>\n",
       "</table>\n",
       "</div>"
      ],
      "text/plain": [
       "      Name\n",
       "0    Alice\n",
       "1      Bob\n",
       "2  Charlie\n",
       "3    David\n",
       "4      Eva"
      ]
     },
     "execution_count": 50,
     "metadata": {},
     "output_type": "execute_result"
    }
   ],
   "source": [
    "data_df.loc[0:,[\"Name\"]]"
   ]
  },
  {
   "cell_type": "markdown",
   "id": "b97a0f43",
   "metadata": {},
   "source": [
    "### Exercise 2: Row Slicing with .iloc"
   ]
  },
  {
   "cell_type": "code",
   "execution_count": 51,
   "id": "7d145107",
   "metadata": {},
   "outputs": [],
   "source": [
    "data = {\n",
    "    'Name': ['Alice', 'Bob', 'Charlie', 'David', 'Eva'],\n",
    "    'Age': [25, 30, 35, 40, 45],\n",
    "    'City': ['New York', 'Los Angeles', 'Chicago', 'Houston', 'Miami']\n",
    "}"
   ]
  },
  {
   "cell_type": "code",
   "execution_count": 54,
   "id": "0222e150",
   "metadata": {},
   "outputs": [
    {
     "data": {
      "text/html": [
       "<div>\n",
       "<style scoped>\n",
       "    .dataframe tbody tr th:only-of-type {\n",
       "        vertical-align: middle;\n",
       "    }\n",
       "\n",
       "    .dataframe tbody tr th {\n",
       "        vertical-align: top;\n",
       "    }\n",
       "\n",
       "    .dataframe thead th {\n",
       "        text-align: right;\n",
       "    }\n",
       "</style>\n",
       "<table border=\"1\" class=\"dataframe\">\n",
       "  <thead>\n",
       "    <tr style=\"text-align: right;\">\n",
       "      <th></th>\n",
       "      <th>Name</th>\n",
       "      <th>Age</th>\n",
       "      <th>City</th>\n",
       "    </tr>\n",
       "  </thead>\n",
       "  <tbody>\n",
       "    <tr>\n",
       "      <th>2</th>\n",
       "      <td>Charlie</td>\n",
       "      <td>35</td>\n",
       "      <td>Chicago</td>\n",
       "    </tr>\n",
       "    <tr>\n",
       "      <th>3</th>\n",
       "      <td>David</td>\n",
       "      <td>40</td>\n",
       "      <td>Houston</td>\n",
       "    </tr>\n",
       "    <tr>\n",
       "      <th>4</th>\n",
       "      <td>Eva</td>\n",
       "      <td>45</td>\n",
       "      <td>Miami</td>\n",
       "    </tr>\n",
       "  </tbody>\n",
       "</table>\n",
       "</div>"
      ],
      "text/plain": [
       "      Name  Age     City\n",
       "2  Charlie   35  Chicago\n",
       "3    David   40  Houston\n",
       "4      Eva   45    Miami"
      ]
     },
     "execution_count": 54,
     "metadata": {},
     "output_type": "execute_result"
    }
   ],
   "source": [
    "data_df.iloc[2:5]"
   ]
  },
  {
   "cell_type": "markdown",
   "id": "76f2e096",
   "metadata": {},
   "source": [
    "### Exercise 3: Selecting Multiple Columns with .iloc"
   ]
  },
  {
   "cell_type": "code",
   "execution_count": 35,
   "id": "8cbc6d4e",
   "metadata": {},
   "outputs": [],
   "source": [
    "data = {\n",
    "    'Name': ['Alice', 'Bob', 'Charlie', 'David', 'Eva'],\n",
    "    'Age': [25, 30, 35, 40, 45],\n",
    "    'City': ['New York', 'Los Angeles', 'Chicago', 'Houston', 'Miami']\n",
    "}"
   ]
  },
  {
   "cell_type": "code",
   "execution_count": 55,
   "id": "145448ae",
   "metadata": {},
   "outputs": [
    {
     "data": {
      "text/html": [
       "<div>\n",
       "<style scoped>\n",
       "    .dataframe tbody tr th:only-of-type {\n",
       "        vertical-align: middle;\n",
       "    }\n",
       "\n",
       "    .dataframe tbody tr th {\n",
       "        vertical-align: top;\n",
       "    }\n",
       "\n",
       "    .dataframe thead th {\n",
       "        text-align: right;\n",
       "    }\n",
       "</style>\n",
       "<table border=\"1\" class=\"dataframe\">\n",
       "  <thead>\n",
       "    <tr style=\"text-align: right;\">\n",
       "      <th></th>\n",
       "      <th>Name</th>\n",
       "      <th>Age</th>\n",
       "    </tr>\n",
       "  </thead>\n",
       "  <tbody>\n",
       "    <tr>\n",
       "      <th>0</th>\n",
       "      <td>Alice</td>\n",
       "      <td>25</td>\n",
       "    </tr>\n",
       "    <tr>\n",
       "      <th>1</th>\n",
       "      <td>Bob</td>\n",
       "      <td>30</td>\n",
       "    </tr>\n",
       "    <tr>\n",
       "      <th>2</th>\n",
       "      <td>Charlie</td>\n",
       "      <td>35</td>\n",
       "    </tr>\n",
       "    <tr>\n",
       "      <th>3</th>\n",
       "      <td>David</td>\n",
       "      <td>40</td>\n",
       "    </tr>\n",
       "    <tr>\n",
       "      <th>4</th>\n",
       "      <td>Eva</td>\n",
       "      <td>45</td>\n",
       "    </tr>\n",
       "  </tbody>\n",
       "</table>\n",
       "</div>"
      ],
      "text/plain": [
       "      Name  Age\n",
       "0    Alice   25\n",
       "1      Bob   30\n",
       "2  Charlie   35\n",
       "3    David   40\n",
       "4      Eva   45"
      ]
     },
     "execution_count": 55,
     "metadata": {},
     "output_type": "execute_result"
    }
   ],
   "source": [
    "data_df.iloc[0:5, [0,1]]"
   ]
  },
  {
   "cell_type": "markdown",
   "id": "5419c05c",
   "metadata": {},
   "source": [
    "### Exercise 4: Conditional Selection with .loc"
   ]
  },
  {
   "cell_type": "code",
   "execution_count": 59,
   "id": "a869abe4",
   "metadata": {},
   "outputs": [],
   "source": [
    "df = pd.DataFrame(data)"
   ]
  },
  {
   "cell_type": "code",
   "execution_count": 62,
   "id": "5c1014cc",
   "metadata": {},
   "outputs": [],
   "source": [
    "result = df.loc[df['Age'] > 30]"
   ]
  },
  {
   "cell_type": "code",
   "execution_count": 63,
   "id": "07055cbb",
   "metadata": {},
   "outputs": [
    {
     "name": "stdout",
     "output_type": "stream",
     "text": [
      "      Name  Age     City\n",
      "2  Charlie   35  Chicago\n",
      "3    David   40  Houston\n",
      "4      Eva   45    Miami\n"
     ]
    }
   ],
   "source": [
    "print(result)"
   ]
  },
  {
   "cell_type": "markdown",
   "id": "9adac163",
   "metadata": {},
   "source": [
    "### Exercise 5: Modifying Data with .loc"
   ]
  },
  {
   "cell_type": "code",
   "execution_count": 64,
   "id": "78076b2a",
   "metadata": {},
   "outputs": [],
   "source": [
    "import pandas as pd"
   ]
  },
  {
   "cell_type": "code",
   "execution_count": 65,
   "id": "04ab6989",
   "metadata": {},
   "outputs": [],
   "source": [
    "df = pd.DataFrame(data)"
   ]
  },
  {
   "cell_type": "code",
   "execution_count": 66,
   "id": "6b7509ad",
   "metadata": {},
   "outputs": [],
   "source": [
    "#Se realiza la modificación con la operación log\n",
    "df.loc[df['Name'] == 'Alice', 'City'] = 'Boston'"
   ]
  },
  {
   "cell_type": "code",
   "execution_count": 67,
   "id": "96fbc423",
   "metadata": {},
   "outputs": [
    {
     "name": "stdout",
     "output_type": "stream",
     "text": [
      "      Name  Age         City\n",
      "0    Alice   25       Boston\n",
      "1      Bob   30  Los Angeles\n",
      "2  Charlie   35      Chicago\n",
      "3    David   40      Houston\n",
      "4      Eva   45        Miami\n"
     ]
    }
   ],
   "source": [
    "print(df)"
   ]
  },
  {
   "cell_type": "code",
   "execution_count": null,
   "id": "91452f51",
   "metadata": {},
   "outputs": [],
   "source": []
  }
 ],
 "metadata": {
  "kernelspec": {
   "display_name": "Python 3 (ipykernel)",
   "language": "python",
   "name": "python3"
  },
  "language_info": {
   "codemirror_mode": {
    "name": "ipython",
    "version": 3
   },
   "file_extension": ".py",
   "mimetype": "text/x-python",
   "name": "python",
   "nbconvert_exporter": "python",
   "pygments_lexer": "ipython3",
   "version": "3.11.5"
  }
 },
 "nbformat": 4,
 "nbformat_minor": 5
}
