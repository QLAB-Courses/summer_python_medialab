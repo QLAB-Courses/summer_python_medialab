{
 "cells": [
  {
   "cell_type": "code",
   "execution_count": 18,
   "id": "1f8fff88",
   "metadata": {},
   "outputs": [],
   "source": [
    "#Exercise_1\n",
    "student_info={\"pablo\":34,\"sofia\":35,\"gisella\":43}"
   ]
  },
  {
   "cell_type": "code",
   "execution_count": 19,
   "id": "99011a67",
   "metadata": {},
   "outputs": [
    {
     "data": {
      "text/plain": [
       "dict"
      ]
     },
     "execution_count": 19,
     "metadata": {},
     "output_type": "execute_result"
    }
   ],
   "source": [
    "type(student_info)"
   ]
  },
  {
   "cell_type": "code",
   "execution_count": 20,
   "id": "60c178a4",
   "metadata": {},
   "outputs": [
    {
     "name": "stdout",
     "output_type": "stream",
     "text": [
      "{'pablo': 34, 'sofia': 35, 'gisella': 43}\n"
     ]
    }
   ],
   "source": [
    "print(student_info)"
   ]
  },
  {
   "cell_type": "code",
   "execution_count": 21,
   "id": "e1924e8f",
   "metadata": {},
   "outputs": [
    {
     "name": "stdout",
     "output_type": "stream",
     "text": [
      "34\n"
     ]
    }
   ],
   "source": [
    "print(student_info[\"pablo\"])"
   ]
  },
  {
   "cell_type": "code",
   "execution_count": 1,
   "id": "02ecabe0",
   "metadata": {},
   "outputs": [],
   "source": [
    "#Exercise_2 \n",
    "product_prices = {\"arroz\": 2.5, \"azucar\": 1.2, \"frejoles\": 0.6}"
   ]
  },
  {
   "cell_type": "code",
   "execution_count": 2,
   "id": "c1b110b9",
   "metadata": {},
   "outputs": [
    {
     "data": {
      "text/plain": [
       "{'arroz': 2.5, 'azucar': 1.2, 'frejoles': 0.9}"
      ]
     },
     "execution_count": 2,
     "metadata": {},
     "output_type": "execute_result"
    }
   ],
   "source": [
    "product_prices[\"frejoles\"] = 0.9\n",
    "product_prices"
   ]
  },
  {
   "cell_type": "code",
   "execution_count": 3,
   "id": "9554132f",
   "metadata": {},
   "outputs": [],
   "source": [
    "product_prices[\"harina\"] = 1.2"
   ]
  },
  {
   "cell_type": "code",
   "execution_count": 4,
   "id": "d33e6d6d",
   "metadata": {},
   "outputs": [
    {
     "data": {
      "text/plain": [
       "{'arroz': 2.5, 'azucar': 1.2, 'frejoles': 0.9, 'harina': 1.2}"
      ]
     },
     "execution_count": 4,
     "metadata": {},
     "output_type": "execute_result"
    }
   ],
   "source": [
    "product_prices"
   ]
  },
  {
   "cell_type": "code",
   "execution_count": 1,
   "id": "c76c700d",
   "metadata": {},
   "outputs": [],
   "source": [
    "#Exercise_3\n",
    "##ChatGPT result\n",
    "squared_numbers = {num: num**2 for num in range(1, 11)}"
   ]
  },
  {
   "cell_type": "code",
   "execution_count": 2,
   "id": "1bd756cd",
   "metadata": {},
   "outputs": [
    {
     "name": "stdout",
     "output_type": "stream",
     "text": [
      "{1: 1, 2: 4, 3: 9, 4: 16, 5: 25, 6: 36, 7: 49, 8: 64, 9: 81, 10: 100}\n"
     ]
    }
   ],
   "source": [
    "print(squared_numbers)"
   ]
  },
  {
   "cell_type": "code",
   "execution_count": 23,
   "id": "c7662517",
   "metadata": {},
   "outputs": [],
   "source": [
    "#other way \n",
    "squared_numbers={1:1,2:4,3:9,4:16,5:25,6:36,7:49,8:64,9:81,10:100}"
   ]
  },
  {
   "cell_type": "code",
   "execution_count": 24,
   "id": "e89f22f4",
   "metadata": {},
   "outputs": [
    {
     "data": {
      "text/plain": [
       "dict"
      ]
     },
     "execution_count": 24,
     "metadata": {},
     "output_type": "execute_result"
    }
   ],
   "source": [
    "type(squared_numbers)"
   ]
  },
  {
   "cell_type": "code",
   "execution_count": 1,
   "id": "30e6b755",
   "metadata": {},
   "outputs": [],
   "source": [
    "#Exercise 4 - answer\n",
    "\n",
    "employee_data = {\n",
    "  350: {\"Name\": \"Gisella\", \"Position\": \"Principal\", \"Salary\": 8000},\n",
    "  351: {\"Name\": \"Eduardo\", \"Position\": \"Teacher\", \"Salary\": 6000},\n",
    "  352: {\"Name\": \"Carlos\", \"Position\": \"assistant teacher\", \"Salary\": 2000}, \n",
    "  353: {\"Name\": \"Eva\", \"Position\": \"Lawyer\", \"Salary\": 7000},\n",
    "  354: {\"Name\": \"Maria\", \"Position\": \"Teacher\", \"Salary\": 8000}\n",
    "}"
   ]
  },
  {
   "cell_type": "code",
   "execution_count": 2,
   "id": "3e8fbe80",
   "metadata": {},
   "outputs": [
    {
     "name": "stdout",
     "output_type": "stream",
     "text": [
      "Eva\n",
      "Lawyer\n"
     ]
    }
   ],
   "source": [
    "print(employee_data[353][\"Name\"])\n",
    "print(employee_data[353][\"Position\"])"
   ]
  },
  {
   "cell_type": "code",
   "execution_count": 26,
   "id": "c577f508",
   "metadata": {},
   "outputs": [],
   "source": [
    "#Exercise 5 - answer\n",
    "#ChatGPT result"
   ]
  },
  {
   "cell_type": "code",
   "execution_count": 27,
   "id": "e195752b",
   "metadata": {},
   "outputs": [],
   "source": [
    "dict1 = {\"A\": 1, \"B\": 2, \"C\": 3}\n",
    "dict2 = {\"D\": 4, \"E\": 5, \"F\": 6}"
   ]
  },
  {
   "cell_type": "code",
   "execution_count": 36,
   "id": "e3a12a0e",
   "metadata": {},
   "outputs": [
    {
     "name": "stdout",
     "output_type": "stream",
     "text": [
      "{'A': 1, 'B': 2, 'C': 3, 'D': 4, 'E': 5, 'F': 6}\n"
     ]
    }
   ],
   "source": [
    "merged_dict = dict(zip(dict1.keys(), dict1.values()))\n",
    "merged_dict.update(dict(zip(dict2.keys(), dict2.values())))\n",
    "print(merged_dict)"
   ]
  },
  {
   "cell_type": "code",
   "execution_count": null,
   "id": "aba3a5ec",
   "metadata": {},
   "outputs": [],
   "source": [
    "#PANDA Exercise 1 - answer\n"
   ]
  },
  {
   "cell_type": "code",
   "execution_count": 1,
   "id": "30e52c6a",
   "metadata": {},
   "outputs": [],
   "source": [
    "import pandas as pd"
   ]
  },
  {
   "cell_type": "code",
   "execution_count": 2,
   "id": "f9774b28",
   "metadata": {},
   "outputs": [],
   "source": [
    "data = {\n",
    "    'Name': ['Alice', 'Bob', 'Charlie', 'David', 'Eva'],\n",
    "    'Age': [25, 30, 35, 40, 45],\n",
    "    'City': ['New York', 'Los Angeles', 'Chicago', 'Houston', 'Miami']\n",
    "}\n",
    "\n",
    "df = pd.DataFrame(data)"
   ]
  },
  {
   "cell_type": "code",
   "execution_count": 3,
   "id": "18523d26",
   "metadata": {},
   "outputs": [
    {
     "name": "stdout",
     "output_type": "stream",
     "text": [
      "0      Alice\n",
      "1        Bob\n",
      "2    Charlie\n",
      "3      David\n",
      "4        Eva\n",
      "Name: Name, dtype: object\n"
     ]
    }
   ],
   "source": [
    "print(df.loc[:, \"Name\"])"
   ]
  },
  {
   "cell_type": "code",
   "execution_count": 4,
   "id": "0a1b9976",
   "metadata": {},
   "outputs": [
    {
     "name": "stdout",
     "output_type": "stream",
     "text": [
      "      Name  Age     City\n",
      "2  Charlie   35  Chicago\n",
      "3    David   40  Houston\n",
      "4      Eva   45    Miami\n"
     ]
    }
   ],
   "source": [
    "#PANDA Exercise 2 - answer\n",
    "print(df.iloc[2:5])"
   ]
  },
  {
   "cell_type": "code",
   "execution_count": 5,
   "id": "ada87226",
   "metadata": {},
   "outputs": [
    {
     "name": "stdout",
     "output_type": "stream",
     "text": [
      "      Name  Age\n",
      "0    Alice   25\n",
      "1      Bob   30\n",
      "2  Charlie   35\n",
      "3    David   40\n",
      "4      Eva   45\n"
     ]
    }
   ],
   "source": [
    "#Exercise 3 - answer\n",
    "print(df.iloc[:, 0:2])"
   ]
  },
  {
   "cell_type": "code",
   "execution_count": 6,
   "id": "7fe8e5ff",
   "metadata": {},
   "outputs": [
    {
     "name": "stdout",
     "output_type": "stream",
     "text": [
      "      Name  Age     City\n",
      "2  Charlie   35  Chicago\n",
      "3    David   40  Houston\n",
      "4      Eva   45    Miami\n"
     ]
    }
   ],
   "source": [
    "#Exercise 4 - answer\n",
    "print(df.loc[df[\"Age\"] > 30])"
   ]
  },
  {
   "cell_type": "code",
   "execution_count": 7,
   "id": "d34b2178",
   "metadata": {},
   "outputs": [],
   "source": [
    "#Exercise 5 - answer\n",
    "df.loc[df[\"Name\"] == \"Alice\", \"City\"] = \"Boston\""
   ]
  },
  {
   "cell_type": "code",
   "execution_count": 8,
   "id": "2b6e1ebb",
   "metadata": {},
   "outputs": [
    {
     "name": "stdout",
     "output_type": "stream",
     "text": [
      "      Name  Age         City\n",
      "0    Alice   25       Boston\n",
      "1      Bob   30  Los Angeles\n",
      "2  Charlie   35      Chicago\n",
      "3    David   40      Houston\n",
      "4      Eva   45        Miami\n"
     ]
    }
   ],
   "source": [
    "print(df)"
   ]
  },
  {
   "cell_type": "code",
   "execution_count": null,
   "id": "cec5afbf",
   "metadata": {},
   "outputs": [],
   "source": []
  },
  {
   "cell_type": "code",
   "execution_count": null,
   "id": "d428e9cc",
   "metadata": {},
   "outputs": [],
   "source": []
  },
  {
   "cell_type": "code",
   "execution_count": null,
   "id": "bd94421e",
   "metadata": {},
   "outputs": [],
   "source": []
  }
 ],
 "metadata": {
  "kernelspec": {
   "display_name": "Python 3 (ipykernel)",
   "language": "python",
   "name": "python3"
  },
  "language_info": {
   "codemirror_mode": {
    "name": "ipython",
    "version": 3
   },
   "file_extension": ".py",
   "mimetype": "text/x-python",
   "name": "python",
   "nbconvert_exporter": "python",
   "pygments_lexer": "ipython3",
   "version": "3.11.5"
  }
 },
 "nbformat": 4,
 "nbformat_minor": 5
}
