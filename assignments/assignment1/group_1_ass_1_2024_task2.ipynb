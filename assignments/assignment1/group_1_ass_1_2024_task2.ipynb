{
 "cells": [
  {
   "cell_type": "code",
   "execution_count": null,
   "id": "ed968439",
   "metadata": {},
   "outputs": [],
   "source": [
    "##Assigment 1 - part 2 - group 1"
   ]
  },
  {
   "cell_type": "code",
   "execution_count": 12,
   "id": "72c15d7a",
   "metadata": {},
   "outputs": [],
   "source": [
    "tuple1 = (\"Orange\", [10, 20, 30], (5, 15, 25))\n",
    "tuple2 = ([7, 8], [9, 1], [10, 7])"
   ]
  },
  {
   "cell_type": "code",
   "execution_count": 20,
   "id": "09801fb5",
   "metadata": {},
   "outputs": [
    {
     "name": "stdout",
     "output_type": "stream",
     "text": [
      "10\n"
     ]
    }
   ],
   "source": [
    "#Question 1\n",
    "print (tuple1 [1][0])"
   ]
  },
  {
   "cell_type": "code",
   "execution_count": 27,
   "id": "ef6b1c1d",
   "metadata": {},
   "outputs": [
    {
     "name": "stdout",
     "output_type": "stream",
     "text": [
      "(5, 15, 25)\n"
     ]
    }
   ],
   "source": [
    "#Question 2\n",
    "print(tuple1[2])"
   ]
  },
  {
   "cell_type": "code",
   "execution_count": 13,
   "id": "5e417eb0",
   "metadata": {},
   "outputs": [
    {
     "name": "stdout",
     "output_type": "stream",
     "text": [
      "('Pink Grapefruit', [10, 20, 30], tuple[2])\n"
     ]
    }
   ],
   "source": [
    "#Question 3\n",
    "tuple3=(\"Pink Grapefruit\",tuple1[1],tuple[2])\n",
    "print(tuple3)\n",
    "#Change the content of a tuple is not possible but we can create a new tuple using the content  "
   ]
  },
  {
   "cell_type": "code",
   "execution_count": 59,
   "id": "c33370fa",
   "metadata": {},
   "outputs": [
    {
     "data": {
      "text/plain": [
       "3"
      ]
     },
     "execution_count": 59,
     "metadata": {},
     "output_type": "execute_result"
    }
   ],
   "source": [
    "#Question 4\n",
    "len (tuple1)"
   ]
  },
  {
   "cell_type": "code",
   "execution_count": 64,
   "id": "0b79927d",
   "metadata": {},
   "outputs": [
    {
     "name": "stdout",
     "output_type": "stream",
     "text": [
      "Sum of each inner tuple: (15, 10, 17)\n",
      "Total sum of all inner tuples: 42\n"
     ]
    }
   ],
   "source": [
    "#Question 5\n",
    "sums_of_inner_tuples = tuple(map(sum, tuple2))\n",
    "total_sum = sum(sums_of_inner_tuples)\n",
    "print(\"Sum of each inner tuple:\", sums_of_inner_tuples)\n",
    "print(\"Total sum of all inner tuples:\", total_sum)\n",
    "\n",
    "#First, we summed each part of the tuple and them we summed the results \n",
    "This was done with a search in Chat GPT "
   ]
  },
  {
   "cell_type": "code",
   "execution_count": 63,
   "id": "0a555147",
   "metadata": {},
   "outputs": [
    {
     "name": "stdout",
     "output_type": "stream",
     "text": [
      "Tuple3 with half values: ((3.5, 4.0), (4.5, 0.5), (5.0, 3.5))\n"
     ]
    }
   ],
   "source": [
    "#Question 6\n",
    "tuple3 = tuple(map(lambda inner_tuple: tuple(map(lambda value: value / 2, inner_tuple)), tuple2))\n",
    "\n",
    "print(\"Tuple3 with half values:\", tuple3)\n",
    "\n",
    "This was done with a search in Chat GPT "
   ]
  },
  {
   "cell_type": "code",
   "execution_count": null,
   "id": "1308d24d",
   "metadata": {},
   "outputs": [],
   "source": []
  }
 ],
 "metadata": {
  "kernelspec": {
   "display_name": "Python 3 (ipykernel)",
   "language": "python",
   "name": "python3"
  },
  "language_info": {
   "codemirror_mode": {
    "name": "ipython",
    "version": 3
   },
   "file_extension": ".py",
   "mimetype": "text/x-python",
   "name": "python",
   "nbconvert_exporter": "python",
   "pygments_lexer": "ipython3",
   "version": "3.11.5"
  }
 },
 "nbformat": 4,
 "nbformat_minor": 5
}
