{
  "nbformat": 4,
  "nbformat_minor": 0,
  "metadata": {
    "colab": {
      "provenance": []
    },
    "kernelspec": {
      "name": "python3",
      "display_name": "Python 3"
    },
    "language_info": {
      "name": "python"
    }
  },
  "cells": [
    {
      "cell_type": "markdown",
      "source": [
        "# Assignment\n",
        "It is totally prohibited to use any kind of loop. You can use stackoverflow. If you copy codes from previous answers, explain each step. No explanation is 0 points.\n",
        "\n",
        "## 1.1 Tuple\n",
        "1. Print the first item of the second item of tuple1 object. Hint: Use indexing\n",
        "\n",
        "2. Print the last item of the tuple1 object.Hint: Use indexing\n",
        "\n",
        "3. Change the value \"orange\" for \"pink grapefruit\". Comment the output. Hint: Is it possible?\n",
        "\n",
        "4. Print the length of tuple1. Hint: Length function\n",
        "\n",
        "5. Sum all the elements of tuple2 and describe your steps and explain each of them. Hint: Use map function.\n",
        "\n",
        "6. Generate a new tuple object named as tuple3 with the half values of tuple2. This tuple should be similar as tuple2, tuple of lists. Hint: Use map funciont."
      ],
      "metadata": {
        "id": "wfxSc8NpvNWr"
      }
    },
    {
      "cell_type": "code",
      "source": [
        "tuple1 = (\"Orange\", [10, 20, 30], (5, 15, 25))\n",
        "tuple2 = ([7, 8], [9, 1], [10, 7])"
      ],
      "metadata": {
        "id": "m3YKLKsmyJzl"
      },
      "execution_count": null,
      "outputs": []
    },
    {
      "cell_type": "markdown",
      "source": [
        "## 1\n"
      ],
      "metadata": {
        "id": "t85IwZ2Nw3VP"
      }
    },
    {
      "cell_type": "code",
      "execution_count": null,
      "metadata": {
        "colab": {
          "base_uri": "https://localhost:8080/"
        },
        "id": "EJRaJACvvEhx",
        "outputId": "131f2870-96ca-4fb5-84fd-dd5140f2bb22"
      },
      "outputs": [
        {
          "output_type": "execute_result",
          "data": {
            "text/plain": [
              "10"
            ]
          },
          "metadata": {},
          "execution_count": 21
        }
      ],
      "source": [
        "# The second item being [10, 20, 30] and the first item of it is 10\n",
        "\n",
        "tuple1[1][0]"
      ]
    },
    {
      "cell_type": "markdown",
      "source": [
        "## 2"
      ],
      "metadata": {
        "id": "5BIfV2LLw6IG"
      }
    },
    {
      "cell_type": "code",
      "source": [
        "# The last element is a tuple\n",
        "\n",
        "tuple1[-1]"
      ],
      "metadata": {
        "colab": {
          "base_uri": "https://localhost:8080/"
        },
        "id": "p9x4VKMtvMC7",
        "outputId": "b0600d57-e1b3-43a5-d874-1916c1dddfab"
      },
      "execution_count": null,
      "outputs": [
        {
          "output_type": "execute_result",
          "data": {
            "text/plain": [
              "(5, 15, 25)"
            ]
          },
          "metadata": {},
          "execution_count": 24
        }
      ]
    },
    {
      "cell_type": "markdown",
      "source": [
        "## 3"
      ],
      "metadata": {
        "id": "juxdCDhaw7N3"
      }
    },
    {
      "cell_type": "code",
      "source": [
        "# This is not possible. A characteristic of the tuples are that items cannot be change, added or removed; in contrast with the lists."
      ],
      "metadata": {
        "colab": {
          "base_uri": "https://localhost:8080/"
        },
        "id": "cE28T5K9vSpn",
        "outputId": "78e2daf9-9a0a-4378-cd8d-9263101686ac"
      },
      "execution_count": null,
      "outputs": [
        {
          "output_type": "execute_result",
          "data": {
            "text/plain": [
              "10"
            ]
          },
          "metadata": {},
          "execution_count": 9
        }
      ]
    },
    {
      "cell_type": "markdown",
      "source": [
        "## 4\n",
        "\n"
      ],
      "metadata": {
        "id": "pq6sU6tew8dC"
      }
    },
    {
      "cell_type": "code",
      "source": [
        "# Len() function gives the total length of the tuple\n",
        "\n",
        "len(tuple1)"
      ],
      "metadata": {
        "colab": {
          "base_uri": "https://localhost:8080/"
        },
        "id": "rWIst51Qvico",
        "outputId": "5a234692-ee06-41f6-bcca-fc021c007138"
      },
      "execution_count": null,
      "outputs": [
        {
          "output_type": "execute_result",
          "data": {
            "text/plain": [
              "3"
            ]
          },
          "metadata": {},
          "execution_count": 28
        }
      ]
    },
    {
      "cell_type": "markdown",
      "source": [
        "## 5\n"
      ],
      "metadata": {
        "id": "zWhuLqYfxDBp"
      }
    },
    {
      "cell_type": "code",
      "source": [
        "# We use sum() function to sum all the elements, assuming they are unitary values and NOT a tuple\n",
        "\n",
        "suma1 = sum(tuple2[0])\n",
        "suma2 = sum(tuple2[1])\n",
        "suma3 = sum(tuple2[2])\n",
        "\n",
        "suma_total = suma1 + suma2 + suma3\n",
        "suma_total"
      ],
      "metadata": {
        "colab": {
          "base_uri": "https://localhost:8080/"
        },
        "id": "7OSh_yZQzqqr",
        "outputId": "acb2906b-65e1-4697-dfb2-f9cbea1e63e3"
      },
      "execution_count": null,
      "outputs": [
        {
          "output_type": "execute_result",
          "data": {
            "text/plain": [
              "42"
            ]
          },
          "metadata": {},
          "execution_count": 39
        }
      ]
    },
    {
      "cell_type": "markdown",
      "source": [
        "# 6"
      ],
      "metadata": {
        "id": "nHlVwZCg0b1a"
      }
    },
    {
      "cell_type": "code",
      "source": [
        " # The team has considered selecting half of the values in tuple 2 and turned them into a list of tuples\n",
        "\n",
        " tuple3 = ([tuple2[0][0],],[tuple2[0][1],],[tuple2[1][0],])\n",
        " tuple3"
      ],
      "metadata": {
        "colab": {
          "base_uri": "https://localhost:8080/"
        },
        "id": "w6xmnMLj0-r-",
        "outputId": "878251c0-ed22-44a5-8156-abb61adae06b"
      },
      "execution_count": null,
      "outputs": [
        {
          "output_type": "execute_result",
          "data": {
            "text/plain": [
              "([7], [8], [9])"
            ]
          },
          "metadata": {},
          "execution_count": 52
        }
      ]
    }
  ]
}